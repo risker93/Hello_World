{
  "nbformat": 4,
  "nbformat_minor": 0,
  "metadata": {
    "colab": {
      "name": "2021_06_09_캐글전정리_수업_1.ipynb",
      "provenance": [],
      "authorship_tag": "ABX9TyOG4i+6kkssLUrWC+ojIQ55",
      "include_colab_link": true
    },
    "kernelspec": {
      "name": "python3",
      "display_name": "Python 3"
    },
    "language_info": {
      "name": "python"
    }
  },
  "cells": [
    {
      "cell_type": "markdown",
      "metadata": {
        "id": "view-in-github",
        "colab_type": "text"
      },
      "source": [
        "<a href=\"https://colab.research.google.com/github/risker93/Hello_World/blob/main/2021_06_09_%EC%BA%90%EA%B8%80%EC%A0%84%EC%A0%95%EB%A6%AC_%EC%88%98%EC%97%85_1.ipynb\" target=\"_parent\"><img src=\"https://colab.research.google.com/assets/colab-badge.svg\" alt=\"Open In Colab\"/></a>"
      ]
    },
    {
      "cell_type": "markdown",
      "metadata": {
        "id": "xkjQk0dX4kYL"
      },
      "source": [
        "**인공지능과 머신러닝**\n",
        "\n",
        "컴퓨터는 1부터 10까지 다 해줘야 한다,\n",
        "\n",
        "인간처럼 지능을 가지고, 컴퓨터가 알아서 하는 방법이 없을까?, 컴퓨터가 알아서 배워서 일을 할수 없을까?\n",
        "\n",
        "그래서 그렇게 만들어 보기로 했다.\n",
        "\n",
        "사람과 유사하게 = 인공지능, 기계가 학습한다 = 기계학습(머신러닝)\n",
        "\n",
        "**왜 머신러닝 인공지능에서 판다스와 파이썬을 배워야 하는가?**\n",
        "\n",
        "현재 우리가 인공지능을 다룰때 기계가 학습하기위해 데이터를 다룬다, 이 데이터는 양이 엄청나게 많다.\n",
        "\n",
        "이 데이터를 사용하기 위해서 쓰기 편하게 만들어 줘야 한다.\n",
        "\n",
        "\n"
      ]
    },
    {
      "cell_type": "markdown",
      "metadata": {
        "id": "2_4xOQR55yO-"
      },
      "source": [
        "리스트와 딕셔너리를 시리즈와 데이터프레임으로 바꾸는 방법은 기본적으로 알아야한다.\n",
        "\n",
        "    sr.index\n",
        "    sr.values\n",
        "\n",
        "\n"
      ]
    },
    {
      "cell_type": "code",
      "metadata": {
        "colab": {
          "base_uri": "https://localhost:8080/"
        },
        "id": "7lBlYQ434NaF",
        "outputId": "3aa19dcf-0fbb-4845-b60c-9c8d15fe3204"
      },
      "source": [
        "import pandas as pd\n",
        "\n",
        "a = [1,2,3,4]\n",
        "b = [4,5,6,7]\n",
        "\n",
        "sr = pd.Series(a)\n",
        "\n",
        "print(sr)\n",
        "print(sr.index)\n",
        "print(sr.values)"
      ],
      "execution_count": 7,
      "outputs": [
        {
          "output_type": "stream",
          "text": [
            "0    1\n",
            "1    2\n",
            "2    3\n",
            "3    4\n",
            "dtype: int64\n",
            "RangeIndex(start=0, stop=4, step=1)\n",
            "[1 2 3 4]\n"
          ],
          "name": "stdout"
        }
      ]
    },
    {
      "cell_type": "markdown",
      "metadata": {
        "id": "rbZtBToT7HmG"
      },
      "source": [
        ".index 와 .values 를 언급해서 한번 시리즈 객체를 만들어 출력해 보았다."
      ]
    },
    {
      "cell_type": "markdown",
      "metadata": {
        "id": "PNRW3sxc7Oi8"
      },
      "source": [
        "두개 이상 데이터를 추출할때는 리스트를 넣어준다."
      ]
    },
    {
      "cell_type": "code",
      "metadata": {
        "colab": {
          "base_uri": "https://localhost:8080/"
        },
        "id": "CRQbGDCE6sPv",
        "outputId": "7d38feba-be8f-4c83-a979-cbf8b17645ac"
      },
      "source": [
        "print(sr[[0,1]])"
      ],
      "execution_count": 6,
      "outputs": [
        {
          "output_type": "stream",
          "text": [
            "0    1\n",
            "1    2\n",
            "dtype: int64\n"
          ],
          "name": "stdout"
        }
      ]
    },
    {
      "cell_type": "markdown",
      "metadata": {
        "id": "6klAgCAe7Xyu"
      },
      "source": [
        "**인덱스 배열 조회!!!!!** **중요하다!*******\n",
        "\n",
        "행 인덱스 배열 조회 \n",
        "    df.index\n",
        "\n",
        "열 인덱스 배열 조회\n",
        "    df.columns #정말 많이 쓴다 !!!!!\n",
        "\n",
        "데이터프레임 행 조회 loc, iloc\n",
        "\n",
        "- loc : 인덱스 이름을 기준으로\n",
        "- iloc: 정수형 인덱스를 기준으로\n",
        "\n",
        "[1:3] 파이썬에서 슬라이싱을 할때 3이 포함되지 않는다.\n",
        "\n",
        "- loc: 끝 포함\n",
        "- iloc: 끝 제외\n",
        "\n",
        "df.loc['실행', : ] 행은 실행, 열은 전부 \n",
        "\n",
        "df.iloc[1, : ] \n",
        "\n",
        "loc, iloc를 사용 할때는 행과 열을 모두 적어주자!\n",
        "\n",
        "df.loc[ : , '실행'] ('실행' 이 포함됨.)\n",
        "\n",
        "df.loc[ : , '실행', : ] (행은 처음부터 '실행' 까지, 열은 처음부터 끝까지)\n",
        "\n",
        "df.iloc[ : , 1] (1번 인덱스가 포함이 안됨)\n",
        "\n",
        "\n"
      ]
    },
    {
      "cell_type": "code",
      "metadata": {
        "colab": {
          "base_uri": "https://localhost:8080/",
          "height": 173
        },
        "id": "0QfghIag7VMP",
        "outputId": "dbf829d1-7378-4f87-990c-df0d61a99df0"
      },
      "source": [
        "df = pd.DataFrame({0: a, 1: b})\n",
        "df"
      ],
      "execution_count": 11,
      "outputs": [
        {
          "output_type": "execute_result",
          "data": {
            "text/html": [
              "<div>\n",
              "<style scoped>\n",
              "    .dataframe tbody tr th:only-of-type {\n",
              "        vertical-align: middle;\n",
              "    }\n",
              "\n",
              "    .dataframe tbody tr th {\n",
              "        vertical-align: top;\n",
              "    }\n",
              "\n",
              "    .dataframe thead th {\n",
              "        text-align: right;\n",
              "    }\n",
              "</style>\n",
              "<table border=\"1\" class=\"dataframe\">\n",
              "  <thead>\n",
              "    <tr style=\"text-align: right;\">\n",
              "      <th></th>\n",
              "      <th>0</th>\n",
              "      <th>1</th>\n",
              "    </tr>\n",
              "  </thead>\n",
              "  <tbody>\n",
              "    <tr>\n",
              "      <th>0</th>\n",
              "      <td>1</td>\n",
              "      <td>4</td>\n",
              "    </tr>\n",
              "    <tr>\n",
              "      <th>1</th>\n",
              "      <td>2</td>\n",
              "      <td>5</td>\n",
              "    </tr>\n",
              "    <tr>\n",
              "      <th>2</th>\n",
              "      <td>3</td>\n",
              "      <td>6</td>\n",
              "    </tr>\n",
              "    <tr>\n",
              "      <th>3</th>\n",
              "      <td>4</td>\n",
              "      <td>7</td>\n",
              "    </tr>\n",
              "  </tbody>\n",
              "</table>\n",
              "</div>"
            ],
            "text/plain": [
              "   0  1\n",
              "0  1  4\n",
              "1  2  5\n",
              "2  3  6\n",
              "3  4  7"
            ]
          },
          "metadata": {
            "tags": []
          },
          "execution_count": 11
        }
      ]
    },
    {
      "cell_type": "code",
      "metadata": {
        "colab": {
          "base_uri": "https://localhost:8080/"
        },
        "id": "-hLRTXnB9u3S",
        "outputId": "8899b716-c32a-4437-d847-1b46ddfafaff"
      },
      "source": [
        "df.index"
      ],
      "execution_count": 14,
      "outputs": [
        {
          "output_type": "execute_result",
          "data": {
            "text/plain": [
              "RangeIndex(start=0, stop=4, step=1)"
            ]
          },
          "metadata": {
            "tags": []
          },
          "execution_count": 14
        }
      ]
    },
    {
      "cell_type": "code",
      "metadata": {
        "colab": {
          "base_uri": "https://localhost:8080/",
          "height": 173
        },
        "id": "QDmmdLok-Kao",
        "outputId": "fc63d552-b1d3-4a19-b54d-09254d21a481"
      },
      "source": [
        "df.columns = ['컬럼1','컬럼2']\n",
        "df"
      ],
      "execution_count": 19,
      "outputs": [
        {
          "output_type": "execute_result",
          "data": {
            "text/html": [
              "<div>\n",
              "<style scoped>\n",
              "    .dataframe tbody tr th:only-of-type {\n",
              "        vertical-align: middle;\n",
              "    }\n",
              "\n",
              "    .dataframe tbody tr th {\n",
              "        vertical-align: top;\n",
              "    }\n",
              "\n",
              "    .dataframe thead th {\n",
              "        text-align: right;\n",
              "    }\n",
              "</style>\n",
              "<table border=\"1\" class=\"dataframe\">\n",
              "  <thead>\n",
              "    <tr style=\"text-align: right;\">\n",
              "      <th></th>\n",
              "      <th>컬럼1</th>\n",
              "      <th>컬럼2</th>\n",
              "    </tr>\n",
              "  </thead>\n",
              "  <tbody>\n",
              "    <tr>\n",
              "      <th>0</th>\n",
              "      <td>1</td>\n",
              "      <td>4</td>\n",
              "    </tr>\n",
              "    <tr>\n",
              "      <th>1</th>\n",
              "      <td>2</td>\n",
              "      <td>5</td>\n",
              "    </tr>\n",
              "    <tr>\n",
              "      <th>2</th>\n",
              "      <td>3</td>\n",
              "      <td>6</td>\n",
              "    </tr>\n",
              "    <tr>\n",
              "      <th>3</th>\n",
              "      <td>4</td>\n",
              "      <td>7</td>\n",
              "    </tr>\n",
              "  </tbody>\n",
              "</table>\n",
              "</div>"
            ],
            "text/plain": [
              "   컬럼1  컬럼2\n",
              "0    1    4\n",
              "1    2    5\n",
              "2    3    6\n",
              "3    4    7"
            ]
          },
          "metadata": {
            "tags": []
          },
          "execution_count": 19
        }
      ]
    },
    {
      "cell_type": "code",
      "metadata": {
        "colab": {
          "base_uri": "https://localhost:8080/",
          "height": 111
        },
        "id": "aQRi5crx-PI7",
        "outputId": "ecaff828-bcc3-4c2b-bc15-6ffbbe01413f"
      },
      "source": [
        "df.loc[0:1]"
      ],
      "execution_count": 27,
      "outputs": [
        {
          "output_type": "execute_result",
          "data": {
            "text/html": [
              "<div>\n",
              "<style scoped>\n",
              "    .dataframe tbody tr th:only-of-type {\n",
              "        vertical-align: middle;\n",
              "    }\n",
              "\n",
              "    .dataframe tbody tr th {\n",
              "        vertical-align: top;\n",
              "    }\n",
              "\n",
              "    .dataframe thead th {\n",
              "        text-align: right;\n",
              "    }\n",
              "</style>\n",
              "<table border=\"1\" class=\"dataframe\">\n",
              "  <thead>\n",
              "    <tr style=\"text-align: right;\">\n",
              "      <th></th>\n",
              "      <th>컬럼1</th>\n",
              "      <th>컬럼2</th>\n",
              "    </tr>\n",
              "  </thead>\n",
              "  <tbody>\n",
              "    <tr>\n",
              "      <th>0</th>\n",
              "      <td>1</td>\n",
              "      <td>4</td>\n",
              "    </tr>\n",
              "    <tr>\n",
              "      <th>1</th>\n",
              "      <td>2</td>\n",
              "      <td>5</td>\n",
              "    </tr>\n",
              "  </tbody>\n",
              "</table>\n",
              "</div>"
            ],
            "text/plain": [
              "   컬럼1  컬럼2\n",
              "0    1    4\n",
              "1    2    5"
            ]
          },
          "metadata": {
            "tags": []
          },
          "execution_count": 27
        }
      ]
    },
    {
      "cell_type": "code",
      "metadata": {
        "colab": {
          "base_uri": "https://localhost:8080/",
          "height": 80
        },
        "id": "a538fZhT-r5v",
        "outputId": "2a675d1b-b268-4730-89f9-6fd30d590c91"
      },
      "source": [
        "df.iloc[0:1]"
      ],
      "execution_count": 26,
      "outputs": [
        {
          "output_type": "execute_result",
          "data": {
            "text/html": [
              "<div>\n",
              "<style scoped>\n",
              "    .dataframe tbody tr th:only-of-type {\n",
              "        vertical-align: middle;\n",
              "    }\n",
              "\n",
              "    .dataframe tbody tr th {\n",
              "        vertical-align: top;\n",
              "    }\n",
              "\n",
              "    .dataframe thead th {\n",
              "        text-align: right;\n",
              "    }\n",
              "</style>\n",
              "<table border=\"1\" class=\"dataframe\">\n",
              "  <thead>\n",
              "    <tr style=\"text-align: right;\">\n",
              "      <th></th>\n",
              "      <th>컬럼1</th>\n",
              "      <th>컬럼2</th>\n",
              "    </tr>\n",
              "  </thead>\n",
              "  <tbody>\n",
              "    <tr>\n",
              "      <th>0</th>\n",
              "      <td>1</td>\n",
              "      <td>4</td>\n",
              "    </tr>\n",
              "  </tbody>\n",
              "</table>\n",
              "</div>"
            ],
            "text/plain": [
              "   컬럼1  컬럼2\n",
              "0    1    4"
            ]
          },
          "metadata": {
            "tags": []
          },
          "execution_count": 26
        }
      ]
    },
    {
      "cell_type": "markdown",
      "metadata": {
        "id": "skwTq_PX_KNB"
      },
      "source": [
        "df['수학'] : 시리즈 객체로 나온다\n",
        "\n",
        "df[['수학']]: 데이터프레임으로 나온다"
      ]
    },
    {
      "cell_type": "code",
      "metadata": {
        "colab": {
          "base_uri": "https://localhost:8080/"
        },
        "id": "TO4OqJxqACI_",
        "outputId": "183bbdc5-73fb-4d2f-be0c-dcf3c8461733"
      },
      "source": [
        "df['컬럼1']"
      ],
      "execution_count": 34,
      "outputs": [
        {
          "output_type": "execute_result",
          "data": {
            "text/plain": [
              "0    1\n",
              "1    2\n",
              "2    3\n",
              "3    4\n",
              "Name: 컬럼1, dtype: int64"
            ]
          },
          "metadata": {
            "tags": []
          },
          "execution_count": 34
        }
      ]
    },
    {
      "cell_type": "code",
      "metadata": {
        "colab": {
          "base_uri": "https://localhost:8080/",
          "height": 173
        },
        "id": "FhGIATAqAGll",
        "outputId": "d016bb63-fc54-47e5-8f98-36fc435ef5e9"
      },
      "source": [
        "df[['컬럼1']]"
      ],
      "execution_count": 35,
      "outputs": [
        {
          "output_type": "execute_result",
          "data": {
            "text/html": [
              "<div>\n",
              "<style scoped>\n",
              "    .dataframe tbody tr th:only-of-type {\n",
              "        vertical-align: middle;\n",
              "    }\n",
              "\n",
              "    .dataframe tbody tr th {\n",
              "        vertical-align: top;\n",
              "    }\n",
              "\n",
              "    .dataframe thead th {\n",
              "        text-align: right;\n",
              "    }\n",
              "</style>\n",
              "<table border=\"1\" class=\"dataframe\">\n",
              "  <thead>\n",
              "    <tr style=\"text-align: right;\">\n",
              "      <th></th>\n",
              "      <th>컬럼1</th>\n",
              "    </tr>\n",
              "  </thead>\n",
              "  <tbody>\n",
              "    <tr>\n",
              "      <th>0</th>\n",
              "      <td>1</td>\n",
              "    </tr>\n",
              "    <tr>\n",
              "      <th>1</th>\n",
              "      <td>2</td>\n",
              "    </tr>\n",
              "    <tr>\n",
              "      <th>2</th>\n",
              "      <td>3</td>\n",
              "    </tr>\n",
              "    <tr>\n",
              "      <th>3</th>\n",
              "      <td>4</td>\n",
              "    </tr>\n",
              "  </tbody>\n",
              "</table>\n",
              "</div>"
            ],
            "text/plain": [
              "   컬럼1\n",
              "0    1\n",
              "1    2\n",
              "2    3\n",
              "3    4"
            ]
          },
          "metadata": {
            "tags": []
          },
          "execution_count": 35
        }
      ]
    },
    {
      "cell_type": "markdown",
      "metadata": {
        "id": "GA_EbeAsAOg_"
      },
      "source": [
        "df.loc['컬럼1'] : 에러가 나온다. loc, iloc는 인덱스가 기준이다.\n",
        "\n",
        "df.loc[ : , '컬럼'] 이렇게 적어주면 에러가 나오지 않는다."
      ]
    },
    {
      "cell_type": "code",
      "metadata": {
        "colab": {
          "base_uri": "https://localhost:8080/"
        },
        "id": "FrF79COFANkT",
        "outputId": "e0597a45-d6ce-4908-d192-8794343d885b"
      },
      "source": [
        "df.loc[:, '컬럼1']"
      ],
      "execution_count": 36,
      "outputs": [
        {
          "output_type": "execute_result",
          "data": {
            "text/plain": [
              "0    1\n",
              "1    2\n",
              "2    3\n",
              "3    4\n",
              "Name: 컬럼1, dtype: int64"
            ]
          },
          "metadata": {
            "tags": []
          },
          "execution_count": 36
        }
      ]
    },
    {
      "cell_type": "code",
      "metadata": {
        "colab": {
          "base_uri": "https://localhost:8080/",
          "height": 173
        },
        "id": "EH55LxtWAjZs",
        "outputId": "57e3400d-e296-4872-d37b-4ed3e96a29d5"
      },
      "source": [
        "#이렇게 새로운 컬럼을 만들수 있다.\n",
        "df['국사'] = [7,8,9,10]\n",
        "df"
      ],
      "execution_count": 38,
      "outputs": [
        {
          "output_type": "execute_result",
          "data": {
            "text/html": [
              "<div>\n",
              "<style scoped>\n",
              "    .dataframe tbody tr th:only-of-type {\n",
              "        vertical-align: middle;\n",
              "    }\n",
              "\n",
              "    .dataframe tbody tr th {\n",
              "        vertical-align: top;\n",
              "    }\n",
              "\n",
              "    .dataframe thead th {\n",
              "        text-align: right;\n",
              "    }\n",
              "</style>\n",
              "<table border=\"1\" class=\"dataframe\">\n",
              "  <thead>\n",
              "    <tr style=\"text-align: right;\">\n",
              "      <th></th>\n",
              "      <th>컬럼1</th>\n",
              "      <th>컬럼2</th>\n",
              "      <th>국사</th>\n",
              "    </tr>\n",
              "  </thead>\n",
              "  <tbody>\n",
              "    <tr>\n",
              "      <th>0</th>\n",
              "      <td>1</td>\n",
              "      <td>4</td>\n",
              "      <td>7</td>\n",
              "    </tr>\n",
              "    <tr>\n",
              "      <th>1</th>\n",
              "      <td>2</td>\n",
              "      <td>5</td>\n",
              "      <td>8</td>\n",
              "    </tr>\n",
              "    <tr>\n",
              "      <th>2</th>\n",
              "      <td>3</td>\n",
              "      <td>6</td>\n",
              "      <td>9</td>\n",
              "    </tr>\n",
              "    <tr>\n",
              "      <th>3</th>\n",
              "      <td>4</td>\n",
              "      <td>7</td>\n",
              "      <td>10</td>\n",
              "    </tr>\n",
              "  </tbody>\n",
              "</table>\n",
              "</div>"
            ],
            "text/plain": [
              "   컬럼1  컬럼2  국사\n",
              "0    1    4   7\n",
              "1    2    5   8\n",
              "2    3    6   9\n",
              "3    4    7  10"
            ]
          },
          "metadata": {
            "tags": []
          },
          "execution_count": 38
        }
      ]
    },
    {
      "cell_type": "markdown",
      "metadata": {
        "id": "92pUIMYnAxpm"
      },
      "source": [
        "1개만 넣으면 모두 동일한 값이 들어간다, 개수가 다르면 에러가 난다."
      ]
    },
    {
      "cell_type": "markdown",
      "metadata": {
        "id": "elYoua2fA8Uu"
      },
      "source": [
        "**df.rename()** #열 이름 하나 정도 바꿀때 사용한다\n",
        "\n",
        "(1) pandas DataFrame의 칼럼 이름 바꾸기\n",
        "\n",
        "    :  df.columns = ['a', 'b']\n",
        "\n",
        "    :  df.rename(columns = {'old_nm' : 'new_nm'}, inplace = True)\n",
        "\n",
        "(2) pandas DataFrame의 인덱스 이름 바꾸기\n",
        "\n",
        "    : df.index = ['a', 'b']\n",
        "\n",
        "    : df.rename(index = {'old_nm': 'new_nm'}, inplace = True)\n",
        "\n",
        "\n",
        "출처: https://rfriend.tistory.com/468 [R, Python 분석과 프로그래밍의 친구 (by R Friend)]"
      ]
    },
    {
      "cell_type": "markdown",
      "metadata": {
        "id": "Rbkx4uEpBb2l"
      },
      "source": [
        "**set_index()**\n",
        "\n",
        "딕셔너리로 들어온 열중에 인덱스로 설정하고 싶은 열이 있을떄 사용, 인덱스를 2개 넣을수도 있다.\n",
        "\n",
        "    DataFrame.set_index(keys, drop=True, append=False, inplace=False, verify_integrity=False)"
      ]
    },
    {
      "cell_type": "markdown",
      "metadata": {
        "id": "P57JMjrXB_Ce"
      },
      "source": [
        "**.transpose() == .T 중요!!!!!**\n",
        "\n",
        "데이터를 볼때 행과 열을 바꿔서 보는게 더 편할경우 사용한다."
      ]
    },
    {
      "cell_type": "code",
      "metadata": {
        "colab": {
          "base_uri": "https://localhost:8080/",
          "height": 173
        },
        "id": "z1GlIi2-CbGW",
        "outputId": "74b83cab-8666-48a8-9025-900415f3d46b"
      },
      "source": [
        "df2"
      ],
      "execution_count": 46,
      "outputs": [
        {
          "output_type": "execute_result",
          "data": {
            "text/html": [
              "<div>\n",
              "<style scoped>\n",
              "    .dataframe tbody tr th:only-of-type {\n",
              "        vertical-align: middle;\n",
              "    }\n",
              "\n",
              "    .dataframe tbody tr th {\n",
              "        vertical-align: top;\n",
              "    }\n",
              "\n",
              "    .dataframe thead th {\n",
              "        text-align: right;\n",
              "    }\n",
              "</style>\n",
              "<table border=\"1\" class=\"dataframe\">\n",
              "  <thead>\n",
              "    <tr style=\"text-align: right;\">\n",
              "      <th></th>\n",
              "      <th>컬럼1</th>\n",
              "      <th>컬럼2</th>\n",
              "      <th>국사</th>\n",
              "    </tr>\n",
              "  </thead>\n",
              "  <tbody>\n",
              "    <tr>\n",
              "      <th>0</th>\n",
              "      <td>1</td>\n",
              "      <td>4</td>\n",
              "      <td>7</td>\n",
              "    </tr>\n",
              "    <tr>\n",
              "      <th>1</th>\n",
              "      <td>2</td>\n",
              "      <td>5</td>\n",
              "      <td>8</td>\n",
              "    </tr>\n",
              "    <tr>\n",
              "      <th>2</th>\n",
              "      <td>3</td>\n",
              "      <td>6</td>\n",
              "      <td>9</td>\n",
              "    </tr>\n",
              "    <tr>\n",
              "      <th>3</th>\n",
              "      <td>4</td>\n",
              "      <td>7</td>\n",
              "      <td>10</td>\n",
              "    </tr>\n",
              "  </tbody>\n",
              "</table>\n",
              "</div>"
            ],
            "text/plain": [
              "   컬럼1  컬럼2  국사\n",
              "0    1    4   7\n",
              "1    2    5   8\n",
              "2    3    6   9\n",
              "3    4    7  10"
            ]
          },
          "metadata": {
            "tags": []
          },
          "execution_count": 46
        }
      ]
    },
    {
      "cell_type": "code",
      "metadata": {
        "colab": {
          "base_uri": "https://localhost:8080/",
          "height": 142
        },
        "id": "HMLQRQU9CL87",
        "outputId": "3d7749fd-1f7c-465f-b739-4466229c9e84"
      },
      "source": [
        "df2 = df.T\n",
        "df2"
      ],
      "execution_count": 42,
      "outputs": [
        {
          "output_type": "execute_result",
          "data": {
            "text/html": [
              "<div>\n",
              "<style scoped>\n",
              "    .dataframe tbody tr th:only-of-type {\n",
              "        vertical-align: middle;\n",
              "    }\n",
              "\n",
              "    .dataframe tbody tr th {\n",
              "        vertical-align: top;\n",
              "    }\n",
              "\n",
              "    .dataframe thead th {\n",
              "        text-align: right;\n",
              "    }\n",
              "</style>\n",
              "<table border=\"1\" class=\"dataframe\">\n",
              "  <thead>\n",
              "    <tr style=\"text-align: right;\">\n",
              "      <th></th>\n",
              "      <th>0</th>\n",
              "      <th>1</th>\n",
              "      <th>2</th>\n",
              "      <th>3</th>\n",
              "    </tr>\n",
              "  </thead>\n",
              "  <tbody>\n",
              "    <tr>\n",
              "      <th>컬럼1</th>\n",
              "      <td>1</td>\n",
              "      <td>2</td>\n",
              "      <td>3</td>\n",
              "      <td>4</td>\n",
              "    </tr>\n",
              "    <tr>\n",
              "      <th>컬럼2</th>\n",
              "      <td>4</td>\n",
              "      <td>5</td>\n",
              "      <td>6</td>\n",
              "      <td>7</td>\n",
              "    </tr>\n",
              "    <tr>\n",
              "      <th>국사</th>\n",
              "      <td>7</td>\n",
              "      <td>8</td>\n",
              "      <td>9</td>\n",
              "      <td>10</td>\n",
              "    </tr>\n",
              "  </tbody>\n",
              "</table>\n",
              "</div>"
            ],
            "text/plain": [
              "     0  1  2   3\n",
              "컬럼1  1  2  3   4\n",
              "컬럼2  4  5  6   7\n",
              "국사   7  8  9  10"
            ]
          },
          "metadata": {
            "tags": []
          },
          "execution_count": 42
        }
      ]
    },
    {
      "cell_type": "code",
      "metadata": {
        "colab": {
          "base_uri": "https://localhost:8080/",
          "height": 173
        },
        "id": "5TZs7Ytl-_v4",
        "outputId": "29879a16-ad8c-4737-9292-da321b81dc52"
      },
      "source": [
        "df2 = df.T.T\n",
        "df2"
      ],
      "execution_count": 44,
      "outputs": [
        {
          "output_type": "execute_result",
          "data": {
            "text/html": [
              "<div>\n",
              "<style scoped>\n",
              "    .dataframe tbody tr th:only-of-type {\n",
              "        vertical-align: middle;\n",
              "    }\n",
              "\n",
              "    .dataframe tbody tr th {\n",
              "        vertical-align: top;\n",
              "    }\n",
              "\n",
              "    .dataframe thead th {\n",
              "        text-align: right;\n",
              "    }\n",
              "</style>\n",
              "<table border=\"1\" class=\"dataframe\">\n",
              "  <thead>\n",
              "    <tr style=\"text-align: right;\">\n",
              "      <th></th>\n",
              "      <th>컬럼1</th>\n",
              "      <th>컬럼2</th>\n",
              "      <th>국사</th>\n",
              "    </tr>\n",
              "  </thead>\n",
              "  <tbody>\n",
              "    <tr>\n",
              "      <th>0</th>\n",
              "      <td>1</td>\n",
              "      <td>4</td>\n",
              "      <td>7</td>\n",
              "    </tr>\n",
              "    <tr>\n",
              "      <th>1</th>\n",
              "      <td>2</td>\n",
              "      <td>5</td>\n",
              "      <td>8</td>\n",
              "    </tr>\n",
              "    <tr>\n",
              "      <th>2</th>\n",
              "      <td>3</td>\n",
              "      <td>6</td>\n",
              "      <td>9</td>\n",
              "    </tr>\n",
              "    <tr>\n",
              "      <th>3</th>\n",
              "      <td>4</td>\n",
              "      <td>7</td>\n",
              "      <td>10</td>\n",
              "    </tr>\n",
              "  </tbody>\n",
              "</table>\n",
              "</div>"
            ],
            "text/plain": [
              "   컬럼1  컬럼2  국사\n",
              "0    1    4   7\n",
              "1    2    5   8\n",
              "2    3    6   9\n",
              "3    4    7  10"
            ]
          },
          "metadata": {
            "tags": []
          },
          "execution_count": 44
        }
      ]
    },
    {
      "cell_type": "markdown",
      "metadata": {
        "id": "5t33ifR2Cg76"
      },
      "source": [
        "reset_index() : 인덱스 초기화\n",
        "\n",
        "컬럼명이 되고 인덱스가 값으로 면함."
      ]
    },
    {
      "cell_type": "code",
      "metadata": {
        "colab": {
          "base_uri": "https://localhost:8080/",
          "height": 142
        },
        "id": "Gg-b8pD__YTr",
        "outputId": "5167d056-afce-4f92-cd1a-f73b11a5aaa8"
      },
      "source": [
        "df2.T.reset_index()"
      ],
      "execution_count": 50,
      "outputs": [
        {
          "output_type": "execute_result",
          "data": {
            "text/html": [
              "<div>\n",
              "<style scoped>\n",
              "    .dataframe tbody tr th:only-of-type {\n",
              "        vertical-align: middle;\n",
              "    }\n",
              "\n",
              "    .dataframe tbody tr th {\n",
              "        vertical-align: top;\n",
              "    }\n",
              "\n",
              "    .dataframe thead th {\n",
              "        text-align: right;\n",
              "    }\n",
              "</style>\n",
              "<table border=\"1\" class=\"dataframe\">\n",
              "  <thead>\n",
              "    <tr style=\"text-align: right;\">\n",
              "      <th></th>\n",
              "      <th>index</th>\n",
              "      <th>0</th>\n",
              "      <th>1</th>\n",
              "      <th>2</th>\n",
              "      <th>3</th>\n",
              "    </tr>\n",
              "  </thead>\n",
              "  <tbody>\n",
              "    <tr>\n",
              "      <th>0</th>\n",
              "      <td>컬럼1</td>\n",
              "      <td>1</td>\n",
              "      <td>2</td>\n",
              "      <td>3</td>\n",
              "      <td>4</td>\n",
              "    </tr>\n",
              "    <tr>\n",
              "      <th>1</th>\n",
              "      <td>컬럼2</td>\n",
              "      <td>4</td>\n",
              "      <td>5</td>\n",
              "      <td>6</td>\n",
              "      <td>7</td>\n",
              "    </tr>\n",
              "    <tr>\n",
              "      <th>2</th>\n",
              "      <td>국사</td>\n",
              "      <td>7</td>\n",
              "      <td>8</td>\n",
              "      <td>9</td>\n",
              "      <td>10</td>\n",
              "    </tr>\n",
              "  </tbody>\n",
              "</table>\n",
              "</div>"
            ],
            "text/plain": [
              "  index  0  1  2   3\n",
              "0   컬럼1  1  2  3   4\n",
              "1   컬럼2  4  5  6   7\n",
              "2    국사  7  8  9  10"
            ]
          },
          "metadata": {
            "tags": []
          },
          "execution_count": 50
        }
      ]
    },
    {
      "cell_type": "code",
      "metadata": {
        "colab": {
          "base_uri": "https://localhost:8080/",
          "height": 142
        },
        "id": "WoiEpMvdCtC7",
        "outputId": "c584197d-1e52-426b-a856-f7df723e7e8b"
      },
      "source": [
        "df2.T.reset_index(drop=True)"
      ],
      "execution_count": 51,
      "outputs": [
        {
          "output_type": "execute_result",
          "data": {
            "text/html": [
              "<div>\n",
              "<style scoped>\n",
              "    .dataframe tbody tr th:only-of-type {\n",
              "        vertical-align: middle;\n",
              "    }\n",
              "\n",
              "    .dataframe tbody tr th {\n",
              "        vertical-align: top;\n",
              "    }\n",
              "\n",
              "    .dataframe thead th {\n",
              "        text-align: right;\n",
              "    }\n",
              "</style>\n",
              "<table border=\"1\" class=\"dataframe\">\n",
              "  <thead>\n",
              "    <tr style=\"text-align: right;\">\n",
              "      <th></th>\n",
              "      <th>0</th>\n",
              "      <th>1</th>\n",
              "      <th>2</th>\n",
              "      <th>3</th>\n",
              "    </tr>\n",
              "  </thead>\n",
              "  <tbody>\n",
              "    <tr>\n",
              "      <th>0</th>\n",
              "      <td>1</td>\n",
              "      <td>2</td>\n",
              "      <td>3</td>\n",
              "      <td>4</td>\n",
              "    </tr>\n",
              "    <tr>\n",
              "      <th>1</th>\n",
              "      <td>4</td>\n",
              "      <td>5</td>\n",
              "      <td>6</td>\n",
              "      <td>7</td>\n",
              "    </tr>\n",
              "    <tr>\n",
              "      <th>2</th>\n",
              "      <td>7</td>\n",
              "      <td>8</td>\n",
              "      <td>9</td>\n",
              "      <td>10</td>\n",
              "    </tr>\n",
              "  </tbody>\n",
              "</table>\n",
              "</div>"
            ],
            "text/plain": [
              "   0  1  2   3\n",
              "0  1  2  3   4\n",
              "1  4  5  6   7\n",
              "2  7  8  9  10"
            ]
          },
          "metadata": {
            "tags": []
          },
          "execution_count": 51
        }
      ]
    },
    {
      "cell_type": "code",
      "metadata": {
        "colab": {
          "base_uri": "https://localhost:8080/",
          "height": 173
        },
        "id": "6Lcp64xCDJkG",
        "outputId": "2fb3f689-b0fa-4ee1-f14c-4a5206e0c367"
      },
      "source": [
        "df2"
      ],
      "execution_count": 52,
      "outputs": [
        {
          "output_type": "execute_result",
          "data": {
            "text/html": [
              "<div>\n",
              "<style scoped>\n",
              "    .dataframe tbody tr th:only-of-type {\n",
              "        vertical-align: middle;\n",
              "    }\n",
              "\n",
              "    .dataframe tbody tr th {\n",
              "        vertical-align: top;\n",
              "    }\n",
              "\n",
              "    .dataframe thead th {\n",
              "        text-align: right;\n",
              "    }\n",
              "</style>\n",
              "<table border=\"1\" class=\"dataframe\">\n",
              "  <thead>\n",
              "    <tr style=\"text-align: right;\">\n",
              "      <th></th>\n",
              "      <th>컬럼1</th>\n",
              "      <th>컬럼2</th>\n",
              "      <th>국사</th>\n",
              "    </tr>\n",
              "  </thead>\n",
              "  <tbody>\n",
              "    <tr>\n",
              "      <th>0</th>\n",
              "      <td>1</td>\n",
              "      <td>4</td>\n",
              "      <td>7</td>\n",
              "    </tr>\n",
              "    <tr>\n",
              "      <th>1</th>\n",
              "      <td>2</td>\n",
              "      <td>5</td>\n",
              "      <td>8</td>\n",
              "    </tr>\n",
              "    <tr>\n",
              "      <th>2</th>\n",
              "      <td>3</td>\n",
              "      <td>6</td>\n",
              "      <td>9</td>\n",
              "    </tr>\n",
              "    <tr>\n",
              "      <th>3</th>\n",
              "      <td>4</td>\n",
              "      <td>7</td>\n",
              "      <td>10</td>\n",
              "    </tr>\n",
              "  </tbody>\n",
              "</table>\n",
              "</div>"
            ],
            "text/plain": [
              "   컬럼1  컬럼2  국사\n",
              "0    1    4   7\n",
              "1    2    5   8\n",
              "2    3    6   9\n",
              "3    4    7  10"
            ]
          },
          "metadata": {
            "tags": []
          },
          "execution_count": 52
        }
      ]
    },
    {
      "cell_type": "markdown",
      "metadata": {
        "id": "JOT4s18-DPuk"
      },
      "source": [
        "sort_index(), sort_values() : 인덱스와 컬럼을 정렬하는 함수.\n",
        "\n",
        "csv 파일을 읽을때 컬럼 이름이 없는 경우에는 읽어들일때 header=None 옵션을 준다,\n",
        "\n",
        "그 후 df.columns = ['A', 'B', 'C', 'D'] 이런식으로 컬럼명을 만들어 주면된다."
      ]
    },
    {
      "cell_type": "markdown",
      "metadata": {
        "id": "P78u-GiMDrBf"
      },
      "source": [
        "**데이터프레임 구조 확인**\n",
        "\n",
        "df.head()\n",
        "\n",
        "df.info()\n",
        "\n",
        "df.describe()\n",
        "\n",
        "**데이터 개수 확인**\n",
        "\n",
        "count()\n",
        "\n",
        "df['열'].value_counts()\n"
      ]
    },
    {
      "cell_type": "code",
      "metadata": {
        "colab": {
          "base_uri": "https://localhost:8080/"
        },
        "id": "IO1LRnNHDLzZ",
        "outputId": "c3eb8a12-66a9-40a5-8e43-19e857dae9f5"
      },
      "source": [
        "df2['컬럼1'].value_counts()"
      ],
      "execution_count": 54,
      "outputs": [
        {
          "output_type": "execute_result",
          "data": {
            "text/plain": [
              "4    1\n",
              "3    1\n",
              "2    1\n",
              "1    1\n",
              "Name: 컬럼1, dtype: int64"
            ]
          },
          "metadata": {
            "tags": []
          },
          "execution_count": 54
        }
      ]
    },
    {
      "cell_type": "markdown",
      "metadata": {
        "id": "sL0tFZazEHeQ"
      },
      "source": [
        "**통계함수 적용**\n",
        "\n",
        "df.median() : 중간값\n",
        "\n",
        "df.corr(): 상관계수를 계산\n",
        "\n",
        "**변수간 스케일 조정(scaling)**\n",
        "\n",
        "어떤 컬럼은 1~10, 어떤 컬럼은 1~10000사이의 값일때, 컴퓨터는 큰 값이 더 중요하다고 생각할 수 있다.\n",
        "\n",
        "따라서 동등한 범위로 만들어주는 스케일이 필요하다.\n",
        "\n",
        "Standard(정규분포를 따를 때만 써야한다)\n",
        "\n",
        "Min-Max(결측치를 채울때 중간값으로 채울지, 평균값으로 채울지 선택해야 한다. 이상치가 있다면 정확도가 떨어질 수 있다.)\n",
        "\n",
        "Robust(최대값, 최소값을 없앴다.)\n",
        "\n",
        "Normalize\n",
        "\n",
        "이 방식들 중 하나 하나 적용해 보면서 최적의 방식을 찾아 나가는 과정이 필요하다.\n",
        "\n"
      ]
    },
    {
      "cell_type": "markdown",
      "metadata": {
        "id": "lNQeOwO9Fx70"
      },
      "source": [
        "전처리의 시작은 누락데이터(NaN) 제거에서 시작한다.\n",
        "\n",
        "1. NaN확인\n",
        "2. NaN제거 및 치환\n",
        "3. 중복데이터 확인\n",
        "4. 중복데이터 제거\n",
        "\n"
      ]
    },
    {
      "cell_type": "code",
      "metadata": {
        "id": "WZYMlVa_D_Mx"
      },
      "source": [
        ""
      ],
      "execution_count": null,
      "outputs": []
    }
  ]
}