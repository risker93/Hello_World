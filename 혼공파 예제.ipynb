{
 "cells": [
  {
   "cell_type": "code",
   "execution_count": 3,
   "metadata": {},
   "outputs": [
    {
     "name": "stdout",
     "output_type": "stream",
     "text": [
      "안녕하세요하세요하세요\n",
      "안녕하세요 안녕하세요 안녕하세요 \n"
     ]
    }
   ],
   "source": [
    "print(\"안녕\"+\"하세요\"*3)\n",
    "print((\"안녕\"+\"하세요 \")*3)"
   ]
  },
  {
   "cell_type": "code",
   "execution_count": 6,
   "metadata": {},
   "outputs": [
    {
     "name": "stdout",
     "output_type": "stream",
     "text": [
      "원주율 = 3.14159265\n",
      "반지름 = 10\n",
      "원의 둘레 = 62.831853\n",
      "원의 넓이= 314.159265\n"
     ]
    }
   ],
   "source": [
    "#원의 둘레와 넓이 구하기\n",
    "#변수선언과 할당\n",
    "pi = 3.14159265\n",
    "r = 10\n",
    "\n",
    "#변수 참조\n",
    "print(\"원주율 =\",pi)\n",
    "print(\"반지름 =\", r)\n",
    "print(\"원의 둘레 =\", 2*pi*r ) #원의 둘레\n",
    "print(\"원의 넓이=\", pi*r*r)   #원의 넓이"
   ]
  },
  {
   "cell_type": "code",
   "execution_count": 7,
   "metadata": {},
   "outputs": [
    {
     "name": "stdout",
     "output_type": "stream",
     "text": [
      "5\n"
     ]
    }
   ],
   "source": [
    "print(len(\"안녕하세요\"))"
   ]
  },
  {
   "cell_type": "code",
   "execution_count": 9,
   "metadata": {},
   "outputs": [
    {
     "name": "stdout",
     "output_type": "stream",
     "text": [
      "입력하세요12345\n",
      "12345\n",
      "<class 'str'>\n"
     ]
    }
   ],
   "source": [
    "a = input(\"입력하세요\")\n",
    "print(a)\n",
    "print(type(a))"
   ]
  },
  {
   "cell_type": "code",
   "execution_count": 10,
   "metadata": {},
   "outputs": [
    {
     "name": "stdout",
     "output_type": "stream",
     "text": [
      "입력a>3\n",
      "입력b>4\n",
      "문자열 자료 : 34\n",
      "숫자 자료: 7\n"
     ]
    }
   ],
   "source": [
    "#int() 함수 활용해보기\n",
    "string_a = input(\"입력a>\")\n",
    "int_a = int(string_a)\n",
    "\n",
    "string_b = input(\"입력b>\")\n",
    "int_b = int(string_b)\n",
    "\n",
    "print(\"문자열 자료 :\", string_a + string_b)\n",
    "print(\"숫자 자료:\", int_a + int_b)"
   ]
  },
  {
   "cell_type": "code",
   "execution_count": 11,
   "metadata": {},
   "outputs": [
    {
     "name": "stdout",
     "output_type": "stream",
     "text": [
      "숫자를 입력하세요3.14\n",
      "숫자를 입력하세요,2.2\n",
      "덧셈 5.34\n",
      "뺄셈 0.94\n",
      "곱셈 6.908000000000001\n",
      "나눗셈 1.4272727272727272\n"
     ]
    }
   ],
   "source": [
    "#사용자에게 숫자를 입력받아 사칙연산을 하는 프로그램\n",
    "input_a = input(\"숫자를 입력하세요\")\n",
    "input_b = input(\"숫자를 입력하세요,\")\n",
    "float_a = float(input_a)\n",
    "float_b = float(input_b)\n",
    "\n",
    "print(\"덧셈\", float_a + float_b )\n",
    "print(\"뺄셈\", float_a - float_b )\n",
    "print(\"곱셈\", float_a * float_b )\n",
    "print(\"나눗셈\", float_a / float_b )"
   ]
  },
  {
   "cell_type": "code",
   "execution_count": 13,
   "metadata": {},
   "outputs": [
    {
     "name": "stdout",
     "output_type": "stream",
     "text": [
      "<class 'str'>\n",
      "<class 'str'>\n"
     ]
    }
   ],
   "source": [
    "output_a = str(33)\n",
    "output_b = str(3.14159265)\n",
    "\n",
    "print(type(output_a))\n",
    "print(type(output_b))"
   ]
  },
  {
   "cell_type": "code",
   "execution_count": 15,
   "metadata": {},
   "outputs": [
    {
     "name": "stdout",
     "output_type": "stream",
     "text": [
      "안녕하세요 아침입니다\n",
      "아침입니다 아침입니다\n"
     ]
    }
   ],
   "source": [
    "a = \"안녕하세요\"\n",
    "b = \"아침입니다\"\n",
    "\n",
    "print(a, b)\n",
    "c = a\n",
    "a = b\n",
    "b = a\n",
    "\n",
    "print(a, b)"
   ]
  },
  {
   "cell_type": "code",
   "execution_count": 18,
   "metadata": {},
   "outputs": [
    {
     "name": "stdout",
     "output_type": "stream",
     "text": [
      "10\n",
      "<class 'str'>\n"
     ]
    }
   ],
   "source": [
    "#format() 함수로 숫자를 문자열로 변환하기\n",
    "string_a = \"{}\".format(10)\n",
    "\n",
    "#출력하기 \n",
    "print(string_a)\n",
    "print(type(string_a))"
   ]
  },
  {
   "cell_type": "code",
   "execution_count": 20,
   "metadata": {},
   "outputs": [
    {
     "name": "stdout",
     "output_type": "stream",
     "text": [
      "6000만원\n",
      "파이썬 열공하여 첫 연봉 6000만 원 만들기\n",
      "4000 5000 6000\n",
      "1 문자열 True\n"
     ]
    }
   ],
   "source": [
    "#format() 함수로 숫자를 문자열로 변환하기\n",
    "format_a = \"{}만원\".format(6000)\n",
    "format_b = \"파이썬 열공하여 첫 연봉 {}만 원 만들기\".format(6000)\n",
    "format_c = \"{} {} {}\".format(4000, 5000, 6000)\n",
    "format_d = \"{} {} {}\".format(1, \"문자열\", True)\n",
    "\n",
    "print(format_a)\n",
    "print(format_b)\n",
    "print(format_c)\n",
    "print(format_d)"
   ]
  },
  {
   "cell_type": "code",
   "execution_count": 29,
   "metadata": {},
   "outputs": [
    {
     "name": "stdout",
     "output_type": "stream",
     "text": [
      "#기본\n",
      "52\n",
      "\n",
      "#특정 칸에 출력\n",
      "   52\n",
      "        52\n",
      "\n",
      "#빈칸을 0으로 채우기\n",
      "00052\n",
      "-0052\n"
     ]
    }
   ],
   "source": [
    "#정수를 특정칸에 출력하기\n",
    "#정수\n",
    "output_a = \"{:d}\".format(52)\n",
    "\n",
    "#특정 칸에 출력하기\n",
    "output_b = \"{:5d}\".format(52)\n",
    "output_c = \"{:10d}\".format(52)\n",
    "\n",
    "#빈칸을 0으로 채우기\n",
    "output_d = \"{:05d}\".format(+52) #양수\n",
    "output_e = \"{:05d}\".format(-52)#음수\n",
    "\n",
    "print(\"#기본\")\n",
    "print(output_a)\n",
    "print()\n",
    "\n",
    "print(\"#특정 칸에 출력\")\n",
    "print(output_b)\n",
    "print(output_c)\n",
    "print()\n",
    "    \n",
    "print(\"#빈칸을 0으로 채우기\")\n",
    "print(output_d)\n",
    "print(output_e)"
   ]
  },
  {
   "cell_type": "code",
   "execution_count": 35,
   "metadata": {},
   "outputs": [
    {
     "name": "stdout",
     "output_type": "stream",
     "text": [
      "+52\n",
      "-52\n",
      "-52\n",
      " 52\n",
      "+52\n",
      "+  52\n",
      "+0052\n"
     ]
    }
   ],
   "source": [
    "#기호와 함께 출력하기\n",
    "output_f = \"{:+d}\".format(52)\n",
    "output_g = \"{:d}\".format(-52)\n",
    "output_h = \"{:+d}\".format(-52)\n",
    "print(output_f)\n",
    "print(output_g)\n",
    "print(output_h)\n",
    "\n",
    "output_i = \"{: d}\".format(52)\n",
    "output_j = \"{:+d}\".format(52)\n",
    "print(output_i)\n",
    "print(output_j)\n",
    "\n",
    "\n",
    "output_k = \"{:=+5d}\".format(52)\n",
    "output_l = \"{:+05d}\".format(52)\n",
    "print(output_k)\n",
    "print(output_l)"
   ]
  },
  {
   "cell_type": "code",
   "execution_count": 37,
   "metadata": {},
   "outputs": [
    {
     "name": "stdout",
     "output_type": "stream",
     "text": [
      "3.142\n",
      "        3.14159\n"
     ]
    }
   ],
   "source": [
    "#float자료형 소수점 아랫자리 지정하기\n",
    "output_a = \"{:0.3f}\".format(3.14159265)\n",
    "print(output_a)\n",
    "output_b = \"{:15.5f}\".format(3.14159265)\n",
    "print(output_b)"
   ]
  },
  {
   "cell_type": "code",
   "execution_count": 42,
   "metadata": {},
   "outputs": [
    {
     "name": "stdout",
     "output_type": "stream",
     "text": [
      "3\n"
     ]
    }
   ],
   "source": [
    "#의미없는 소수점 제거하기\n",
    "output_a = 3.0\n",
    "output_b = \"{:g}\".format(3.0)\n",
    "\n",
    "print(output_b)\n",
    "\n",
    "#0과 0.0이 내부적으로 자료형이 다름, 서로다른값\n",
    "# 의미 없는 0을 제거하고싶을때 {:g} 를 사용\n"
   ]
  },
  {
   "cell_type": "code",
   "execution_count": 44,
   "metadata": {},
   "outputs": [
    {
     "name": "stdout",
     "output_type": "stream",
     "text": [
      "I AM THE KING OF THE WORLD\n",
      "i am the king of the world\n"
     ]
    }
   ],
   "source": [
    "#upper(), lower()\n",
    "\n",
    "a = \"i am the king of the world\"\n",
    "b = a.upper()\n",
    "c = b.lower()\n",
    "\n",
    "print(b)\n",
    "print(c)"
   ]
  },
  {
   "cell_type": "code",
   "execution_count": 46,
   "metadata": {},
   "outputs": [
    {
     "name": "stdout",
     "output_type": "stream",
     "text": [
      "\n",
      "  i am the king of the world\n",
      "\n",
      "\n",
      "i am the king of the world\n"
     ]
    }
   ],
   "source": [
    "#문자열 양옆의 공백 제거하기 strip()\n",
    "\n",
    "a = \"\"\"\n",
    "  i am the king of the world\n",
    "\n",
    "\"\"\"\n",
    "\n",
    "print(a)\n",
    "print(a.strip())"
   ]
  },
  {
   "cell_type": "code",
   "execution_count": 47,
   "metadata": {},
   "outputs": [
    {
     "name": "stdout",
     "output_type": "stream",
     "text": [
      "True\n",
      "True\n"
     ]
    }
   ],
   "source": [
    "#문자열 구성 파악하기 is땡떙()\n",
    "\n",
    "print(\"TrainA10\".isalnum())\n",
    "\n",
    "print(\"10\".isdigit())"
   ]
  },
  {
   "cell_type": "code",
   "execution_count": 52,
   "metadata": {},
   "outputs": [
    {
     "name": "stdout",
     "output_type": "stream",
     "text": [
      "7\n",
      "7\n"
     ]
    }
   ],
   "source": [
    "#문자열 찾기 find(), rfind()\n",
    "\n",
    "a =\"나는 세상의 왕이다\".find(\"왕\")\n",
    "\n",
    "print(a)\n",
    "\n",
    "b = \"나는 세상의 왕이다.\".rfind(\"왕\")\n",
    "print(b)\n",
    "\n"
   ]
  },
  {
   "cell_type": "code",
   "execution_count": 53,
   "metadata": {},
   "outputs": [
    {
     "name": "stdout",
     "output_type": "stream",
     "text": [
      "True\n"
     ]
    }
   ],
   "source": [
    "#문자열과 in 연산자 \n",
    "#문자열 내부에 어떤 문자열이 있는지 확인하려면 in 연산자를 사용\n",
    "#출력은 True, False\n",
    "print(\"안녕\" in \"안녕하세요\")"
   ]
  },
  {
   "cell_type": "code",
   "execution_count": 57,
   "metadata": {},
   "outputs": [
    {
     "name": "stdout",
     "output_type": "stream",
     "text": [
      "['10', '20', '30', '40', '50']\n"
     ]
    }
   ],
   "source": [
    "#문자열 자르기 split()\n",
    "a = \"10 20 30 40 50\".split(\" \")\n",
    "print(a)"
   ]
  },
  {
   "cell_type": "code",
   "execution_count": 61,
   "metadata": {},
   "outputs": [
    {
     "name": "stdout",
     "output_type": "stream",
     "text": [
      "\n",
      "100 + 200 = 300\n"
     ]
    }
   ],
   "source": [
    "a = str(100)\n",
    "b = str(200)\n",
    "\n",
    "print()\n",
    "print(\"{} + {} = {}\".format(int(a), int(b), int(a)+ int(b)))"
   ]
  },
  {
   "cell_type": "code",
   "execution_count": 64,
   "metadata": {},
   "outputs": [
    {
     "name": "stdout",
     "output_type": "stream",
     "text": [
      "hello\n",
      "HELLO\n"
     ]
    }
   ],
   "source": [
    "string = \"hello\"\n",
    "\n",
    "string.upper()\n",
    "\n",
    "print(string)\n",
    "\n",
    "print(string.upper())"
   ]
  },
  {
   "cell_type": "code",
   "execution_count": 65,
   "metadata": {
    "scrolled": true
   },
   "outputs": [
    {
     "name": "stdout",
     "output_type": "stream",
     "text": [
      "True\n",
      "False\n"
     ]
    }
   ],
   "source": [
    "#파이썬에서는 이런것도 됨\n",
    "x = 25\n",
    "print(10< x< 50)\n",
    "print(30< x < 40)"
   ]
  },
  {
   "cell_type": "code",
   "execution_count": 66,
   "metadata": {},
   "outputs": [
    {
     "name": "stdout",
     "output_type": "stream",
     "text": [
      "True\n",
      "False\n"
     ]
    }
   ],
   "source": [
    "#not 연산자 조합하기\n",
    "#not 연산자는 참과 거짓을 반대로 바꿀 때 사용 합니다.\n",
    "\n",
    "x = 10\n",
    "under_20 = x < 20\n",
    "print(under_20)\n",
    "print(not under_20)\n"
   ]
  },
  {
   "cell_type": "code",
   "execution_count": null,
   "metadata": {},
   "outputs": [],
   "source": [
    "#and 연산자는 양쪽 변의 값이 모두 참일때만 True\n",
    "#or 연산자는 둘 중 하나만 참이어도 True\n"
   ]
  },
  {
   "cell_type": "code",
   "execution_count": 73,
   "metadata": {},
   "outputs": [
    {
     "name": "stdout",
     "output_type": "stream",
     "text": [
      "2021년4월2일23시18분41초\n"
     ]
    }
   ],
   "source": [
    "#날짜/ 시간을 한줄로 출력하기\n",
    "import datetime\n",
    "now = datetime.datetime.now()\n",
    "\n",
    "print(\"{}년{}월{}일{}시{}분{}초\".format(\n",
    "    now.year,\n",
    "    now.month,\n",
    "    now.day,\n",
    "    now.hour,\n",
    "    now.minute,\n",
    "    now.second\n",
    "))"
   ]
  },
  {
   "cell_type": "code",
   "execution_count": 79,
   "metadata": {},
   "outputs": [
    {
     "name": "stdout",
     "output_type": "stream",
     "text": [
      "오후 23시 23분 입니다.\n"
     ]
    }
   ],
   "source": [
    "#오전과 오후를 구분하는 프로그램\n",
    "import datetime\n",
    "now = datetime.datetime.now()\n",
    "\n",
    "\n",
    "if 11 < now.hour <24:\n",
    "    print(\"오후 {}시 {}분 입니다.\".format(now.hour, now.minute))\n",
    "else:\n",
    "    print(\"오전 {}시 {}분 입니다.\".format(now.hour, now.minute))"
   ]
  },
  {
   "cell_type": "code",
   "execution_count": 85,
   "metadata": {},
   "outputs": [
    {
     "name": "stdout",
     "output_type": "stream",
     "text": [
      "숫자를 입력하세요.321\n",
      "숫자를 입력하세요.123\n",
      "321이(가) 123 보다 큽니다.\n"
     ]
    }
   ],
   "source": [
    "a = int(input(\"숫자를 입력하세요.\"))\n",
    "b = int(input(\"숫자를 입력하세요.\"))\n",
    "\n",
    "if a > b:\n",
    "    print(\"{}이(가) {} 보다 큽니다.\".format(a, b))\n",
    "elif a < b:\n",
    "    print(\"{}이(가) {} 보다 작습니다.\".format(a, b))\n",
    "else:\n",
    "    print(\"같은 숫장입니다.\")"
   ]
  },
  {
   "cell_type": "code",
   "execution_count": 94,
   "metadata": {},
   "outputs": [
    {
     "name": "stdout",
     "output_type": "stream",
     "text": [
      "학점을 입력해 주세요.0.7\n",
      "D-\n"
     ]
    }
   ],
   "source": [
    "#학점 프로그램\n",
    "score = float(input(\"학점을 입력해 주세요.\"))\n",
    "\n",
    "if score == 4.5:\n",
    "    print(\"A+\")\n",
    "elif score >= 4:\n",
    "    print(\"A\")\n",
    "elif score >= 3.8:\n",
    "    print(\"A-\")\n",
    "elif score >= 3.3:\n",
    "    print(\"B+\")\n",
    "elif score >= 3:\n",
    "    print(\"B\")\n",
    "elif score >= 2.7:\n",
    "    print(\"B-\")\n",
    "elif score >= 2.3:\n",
    "    print(\"C+\")\n",
    "elif score >= 2:\n",
    "    print(\"c\")\n",
    "elif score >= 1.7:\n",
    "    print(\"C-\")\n",
    "elif score >= 1.3:\n",
    "    print(\"D+\")\n",
    "elif score >= 1:\n",
    "    print(\"D\")\n",
    "elif score >= 0.7:\n",
    "    print(\"D-\")\n",
    "else:\n",
    "    print(\"F\")\n"
   ]
  },
  {
   "cell_type": "code",
   "execution_count": null,
   "metadata": {},
   "outputs": [],
   "source": [
    "#if 조건문에서 False로 변환 되는 값은 None, 0, 0.0과 빈 문자열, 빈 바이트열, 빈리스트, 빈튜플, 빈 딕셔너리 등"
   ]
  },
  {
   "cell_type": "code",
   "execution_count": 2,
   "metadata": {},
   "outputs": [
    {
     "name": "stdout",
     "output_type": "stream",
     "text": [
      "[1, 2, 3, 4, 5, 6]\n",
      "[1, 2, 3]\n"
     ]
    }
   ],
   "source": [
    "list_a = [1,2,3]\n",
    "list_b = [4,5,6]\n",
    "list_a + list_b\n",
    "\n",
    "print(list_a + list_b)\n",
    "print(list_a)"
   ]
  },
  {
   "cell_type": "code",
   "execution_count": 7,
   "metadata": {},
   "outputs": [
    {
     "name": "stdout",
     "output_type": "stream",
     "text": [
      "[1, 2, 3, 4]\n",
      "[0, 1, 2, 3, 4]\n",
      "[0, 1, 2, 3, 4]\n",
      "[0, 1, 2, 3, 4, 5, 6, 7, 8]\n"
     ]
    }
   ],
   "source": [
    "#리스트에 요소 추가하기 리스트명.append(요소), 리스트명.insert(위치, 요소)\n",
    "\n",
    "#리스트를 선언\n",
    "list_a = [1, 2, 3]\n",
    "\n",
    "#리스트 뒤에 요소 추가하기\n",
    "list_a.append(4)\n",
    "print(list_a)\n",
    "\n",
    "#리스트 중간에 요소 추가하기\n",
    "list_a.insert(0,0)\n",
    "print(list_a)\n",
    "\n",
    "#한번에 여러개의 요소를 리스트에 추가하고싶을때  extend(), 원래 리스트 뒤에 새로운 리스트의 요소를 모두 추가\n",
    "\n",
    "print(list_a)\n",
    "list_a.extend([5,6,7,8,])\n",
    "print(list_a)"
   ]
  },
  {
   "cell_type": "code",
   "execution_count": 8,
   "metadata": {},
   "outputs": [
    {
     "name": "stdout",
     "output_type": "stream",
     "text": [
      "[1, 2, 3, 4, 5, 6]\n",
      "[4, 5, 6]\n"
     ]
    }
   ],
   "source": [
    "list_a = [1,2,3]\n",
    "list_b = [4,5,6]\n",
    "\n",
    "list_a.extend(list_b)\n",
    "print(list_a)\n",
    "print(list_b)\n",
    "\n",
    "#자료를 사용할때 비 파괴적으로 사용하는것이 좋다."
   ]
  },
  {
   "cell_type": "code",
   "execution_count": 9,
   "metadata": {},
   "outputs": [
    {
     "name": "stdout",
     "output_type": "stream",
     "text": [
      "[0, 2, 3, 4, 5, 6]\n",
      "[0, 2, 3, 5, 6]\n"
     ]
    }
   ],
   "source": [
    "#리스트에 요소 제거하기\n",
    "#인덱스로 제거하기, 값으로 제거하기\n",
    "#인덱스로 제거하기 : del, pop\n",
    "#del 리스트명[인덱스]\n",
    "#리스트명.pop(인덱스), 매개변수를 입력하지 않으면 마지막 요소를 제거합니다. 요소 입력을 안하면 자동으로 -1이 들어가는걸로 취급\n",
    "\n",
    "list_a = [0,1,2,3,4,5,6]\n",
    "\n",
    "del list_a[1]\n",
    "print(list_a)\n",
    "\n",
    "list_a.pop(3)\n",
    "print(list_a)"
   ]
  },
  {
   "cell_type": "code",
   "execution_count": 11,
   "metadata": {},
   "outputs": [
    {
     "name": "stdout",
     "output_type": "stream",
     "text": [
      "[4, 5, 6, 7]\n"
     ]
    }
   ],
   "source": [
    "#del 키워드를 사용할경우 범위를 지정해 한꺼번에 제거가능\n",
    "list_b = [0,1,2,3,4,5,6,7]\n",
    "del list_b[0:4]\n",
    "print(list_b)"
   ]
  },
  {
   "cell_type": "code",
   "execution_count": 12,
   "metadata": {},
   "outputs": [
    {
     "name": "stdout",
     "output_type": "stream",
     "text": [
      "[1, 1, 2, 1, 2]\n"
     ]
    }
   ],
   "source": [
    "# 값으로 제거하기  리스트.remove(값) 처음 발견한 1개를 지운다.\n",
    "\n",
    "list_c = [1,2,1,2,1,2]\n",
    "\n",
    "list_c.remove(2)\n",
    "print(list_c)"
   ]
  },
  {
   "cell_type": "code",
   "execution_count": 19,
   "metadata": {},
   "outputs": [
    {
     "name": "stdout",
     "output_type": "stream",
     "text": [
      "[]\n"
     ]
    }
   ],
   "source": [
    "#리스트 내부의 요소를 모두제거할때 리스트.clear()\n",
    "\n",
    "list_d = [1,2,3,4]\n",
    "list_d.clear()\n",
    "\n",
    "print(list_d)\n",
    "\n"
   ]
  },
  {
   "cell_type": "code",
   "execution_count": 22,
   "metadata": {},
   "outputs": [
    {
     "name": "stdout",
     "output_type": "stream",
     "text": [
      "True\n",
      "False\n"
     ]
    }
   ],
   "source": [
    "#리스트 내부에 있는지 확인하기 in, not in 연산자\n",
    "#값 in list\n",
    "list_a = [73, 55, 608, 1212, 111]\n",
    "\n",
    "print(73 in list_a)\n",
    "print(55 not in list_a)"
   ]
  },
  {
   "cell_type": "code",
   "execution_count": 23,
   "metadata": {},
   "outputs": [
    {
     "name": "stdout",
     "output_type": "stream",
     "text": [
      "I am the king of the world\n",
      "I am the king of the world\n",
      "I am the king of the world\n",
      "I am the king of the world\n",
      "I am the king of the world\n",
      "I am the king of the world\n",
      "I am the king of the world\n",
      "I am the king of the world\n",
      "I am the king of the world\n",
      "I am the king of the world\n"
     ]
    }
   ],
   "source": [
    "#for 반복문\n",
    "for i in range(10):\n",
    "    print(\"I am the king of the world\")"
   ]
  },
  {
   "cell_type": "code",
   "execution_count": 26,
   "metadata": {},
   "outputs": [
    {
     "name": "stdout",
     "output_type": "stream",
     "text": [
      "1\n",
      "2\n",
      "3\n",
      "4\n",
      "5\n"
     ]
    }
   ],
   "source": [
    "#for 반복문 리스트와 함께 사용하기\n",
    "#for 반복자 in 반복할수 있는것:\n",
    "# 코드\n",
    "list_a = [1,2,3,4,5]\n",
    "for i in list_a:\n",
    "    print(i)"
   ]
  },
  {
   "cell_type": "code",
   "execution_count": 27,
   "metadata": {},
   "outputs": [
    {
     "name": "stdout",
     "output_type": "stream",
     "text": [
      "i\n",
      " \n",
      "a\n",
      "m\n",
      " \n",
      "t\n",
      "h\n",
      "e\n",
      " \n",
      "k\n",
      "i\n",
      "n\n",
      "g\n",
      " \n",
      "o\n",
      "f\n",
      " \n",
      "t\n",
      "h\n",
      "e\n",
      " \n",
      "w\n",
      "o\n",
      "r\n",
      "l\n",
      "d\n"
     ]
    }
   ],
   "source": [
    "for char in \"i am the king of the world\":\n",
    "    print(char)"
   ]
  },
  {
   "cell_type": "code",
   "execution_count": 28,
   "metadata": {},
   "outputs": [
    {
     "name": "stdout",
     "output_type": "stream",
     "text": [
      "273\n",
      "103\n",
      "800\n"
     ]
    }
   ],
   "source": [
    "numbers = [273,103, 5, 32, 65, 9, 72, 800, 99]\n",
    "\n",
    "for number in numbers:\n",
    "    if number > 100:\n",
    "        print(number)"
   ]
  },
  {
   "cell_type": "code",
   "execution_count": 30,
   "metadata": {},
   "outputs": [
    {
     "name": "stdout",
     "output_type": "stream",
     "text": [
      "273 는 홀수입니다.\n",
      "103 는 홀수입니다.\n",
      "5 는 홀수입니다.\n",
      "32 는 짝수입니다.\n",
      "65 는 홀수입니다.\n",
      "9 는 홀수입니다.\n",
      "72 는 짝수입니다.\n",
      "800 는 짝수입니다.\n",
      "99 는 홀수입니다.\n"
     ]
    }
   ],
   "source": [
    "numbers = [273, 103, 5, 32, 65, 9, 72, 800, 99]\n",
    "\n",
    "for number in numbers:\n",
    "    if number % 2 == 0:\n",
    "        print(number, \"는 짝수입니다.\")\n",
    "    else:\n",
    "        print(number, \"는 홀수입니다.\")"
   ]
  },
  {
   "cell_type": "code",
   "execution_count": 34,
   "metadata": {},
   "outputs": [
    {
     "name": "stdout",
     "output_type": "stream",
     "text": [
      "273 는 3 자릿수입니다.\n",
      "103 는 3 자릿수입니다.\n",
      "5 는 1 자릿수입니다.\n",
      "32 는 2 자릿수입니다.\n",
      "65 는 2 자릿수입니다.\n",
      "9 는 1 자릿수입니다.\n",
      "72 는 2 자릿수입니다.\n",
      "800 는 3 자릿수입니다.\n",
      "99 는 2 자릿수입니다.\n"
     ]
    }
   ],
   "source": [
    "numbers = [273, 103, 5, 32, 65, 9, 72, 800, 99]\n",
    "    \n",
    "for number in numbers:\n",
    "    print(number, \"는\", len(str(number)) ,\"자릿수입니다.\")"
   ]
  },
  {
   "cell_type": "code",
   "execution_count": 35,
   "metadata": {
    "scrolled": true
   },
   "outputs": [
    {
     "name": "stdout",
     "output_type": "stream",
     "text": [
      "1\n",
      "2\n",
      "3\n",
      "4\n",
      "5\n",
      "6\n",
      "7\n",
      "8\n",
      "9\n"
     ]
    }
   ],
   "source": [
    "list_of_list = [\n",
    "    [1,2,3,],\n",
    "    [4,5,6,7],\n",
    "    [8,9]\n",
    "]\n",
    "\n",
    "for list in list_of_list:\n",
    "    for ele in list:\n",
    "        print(ele)"
   ]
  },
  {
   "cell_type": "code",
   "execution_count": 39,
   "metadata": {},
   "outputs": [
    {
     "name": "stdout",
     "output_type": "stream",
     "text": [
      "[[1, 4, 7], [2, 5, 8], [3, 6, 9]]\n"
     ]
    }
   ],
   "source": [
    "numbers = [1,2,3,4,5,6,7,8,9]\n",
    "output = [[], [], []]\n",
    "\n",
    "for number in numbers:\n",
    "    output[(number + 2) % 3].append(number)\n",
    "print(output)"
   ]
  },
  {
   "cell_type": "code",
   "execution_count": 45,
   "metadata": {},
   "outputs": [
    {
     "name": "stdout",
     "output_type": "stream",
     "text": [
      "{'name': '기묘한이야기', 'type': '넷플릭스 오리지널'}\n",
      "기묘한이야기\n",
      "넷플릭스 오리지널\n"
     ]
    }
   ],
   "source": [
    "#리스트가 인덱스를 기반으로 값을 저장하는것,이라면 딕셔너리는 키를 기반으로 값을 저장 하는것.\n",
    "dict_a = {\n",
    "    \"name\": \"기묘한이야기\",\n",
    "    \"type\": \"넷플릭스 오리지널\"\n",
    "}\n",
    "#딕셔너리 요소에 접근하기\n",
    "\n",
    "print(dict_a)\n",
    "\n",
    "print(dict_a[\"name\"])\n",
    "print(dict_a[\"type\"])\n"
   ]
  },
  {
   "cell_type": "code",
   "execution_count": 49,
   "metadata": {},
   "outputs": [
    {
     "name": "stdout",
     "output_type": "stream",
     "text": [
      "{'director': ['나도잘', '모르겠음'], 'cast': ['얼굴은', '기억남', '배우이름은', '모름']}\n"
     ]
    },
    {
     "data": {
      "text/plain": [
       "['나도잘', '모르겠음']"
      ]
     },
     "execution_count": 49,
     "metadata": {},
     "output_type": "execute_result"
    }
   ],
   "source": [
    "dict_b = {\n",
    "    \"director\" : [\"나도잘\", \"모르겠음\"],\n",
    "    \"cast\" : [\"얼굴은\",\"기억남\", \"배우이름은\", \"모름\"]\n",
    "}\n",
    "\n",
    "print(dict_b)\n",
    "\n",
    "dict_b[\"director\"]"
   ]
  },
  {
   "cell_type": "code",
   "execution_count": 54,
   "metadata": {},
   "outputs": [
    {
     "name": "stdout",
     "output_type": "stream",
     "text": [
      "4D 건조 망고\n",
      "당절임\n",
      "['망고', '설탕', '메타중아황산나트륨', '치자황색소']\n",
      "필리핀\n",
      "\n",
      "5D 건조망고\n",
      "['망고', '설탕']\n"
     ]
    }
   ],
   "source": [
    "#딕셔너리의 요소에 접근하기\n",
    "\n",
    "dictionary = {\n",
    "    \"name\": \"4D 건조 망고\",\n",
    "    \"type\": \"당절임\",\n",
    "    \"ingredient\": [\"망고\", \"설탕\", \"메타중아황산나트륨\", \"치자황색소\"],\n",
    "    \"origin\": \"필리핀\"\n",
    "}\n",
    "\n",
    "\n",
    "#출력 합니다.\n",
    "print(dictionary[\"name\"])\n",
    "print(dictionary[\"type\"])\n",
    "print(dictionary[\"ingredient\"])\n",
    "print(dictionary[\"origin\"])\n",
    "print()\n",
    "\n",
    "# 값을 변경합니다.\n",
    "dictionary[\"name\"] = \"5D 건조망고\"\n",
    "print(dictionary[\"name\"])\n",
    "\n",
    "#인덱스를 지정하여 특정값 뽑아내기\n",
    "print(dictionary[\"ingredient\"][0:2])"
   ]
  },
  {
   "cell_type": "code",
   "execution_count": 61,
   "metadata": {},
   "outputs": [
    {
     "name": "stdout",
     "output_type": "stream",
     "text": [
      "{'이름': '개구리페페', 'type': '개구리'}\n",
      "{'이름': '개구리페페', 'type': '개구리', 'price': 9999}\n",
      "{'이름': '개구리페페', 'type': '인형', 'price': 9999}\n",
      "{'이름': '개구리페페', 'type': '인형'}\n"
     ]
    }
   ],
   "source": [
    "name = \"이름\"\n",
    "dict_key = {\n",
    "    name : \"개구리페페\",\n",
    "    \"type\" : \"개구리\"\n",
    "}\n",
    "\n",
    "print(dict_key)\n",
    "dict_key[\"price\"] = 9999\n",
    "print(dict_key)\n",
    "dict_key[\"type\"] = \"인형\"\n",
    "print(dict_key)\n",
    "\n",
    "del dict_key[\"price\"]\n",
    "print(dict_key)"
   ]
  },
  {
   "cell_type": "code",
   "execution_count": 101,
   "metadata": {},
   "outputs": [
    {
     "name": "stdout",
     "output_type": "stream",
     "text": [
      "{}\n",
      "{'name': '페페', 'type': '개구리', 'sound': '깨굴', 1: 1}\n",
      "1\n"
     ]
    }
   ],
   "source": [
    "#딕셔너리에 값 추가하기 딕셔너리[새로운키] = 새로운값\n",
    "#딕셔너리에 요소 추가하기\n",
    "dict = {}\n",
    "print(dict)\n",
    "dict[\"name\"] = \"페페\"\n",
    "dict[\"type\"] = \"개구리\"\n",
    "dict[\"sound\"] = \"깨굴\"\n",
    "dict[1] = 1\n",
    "print(dict)\n",
    "print(dict[1])\n"
   ]
  },
  {
   "cell_type": "code",
   "execution_count": 69,
   "metadata": {},
   "outputs": [
    {
     "name": "stdout",
     "output_type": "stream",
     "text": [
      "접근하고자 하는 키감자\n",
      "존재하지 않는 키에 접근하고 있습니다.\n",
      "존재하지 않습니다.\n"
     ]
    }
   ],
   "source": [
    "#딕셔너리 내부에 키가 있는지 확인하기\n",
    "\n",
    "dictionary = {\n",
    "    \"name\" : \"건조망고\",\n",
    "    \"type\" : \"당절임\",\n",
    "    \"ingredient\" : [\"망고\", \"설탕\", \"황산나트륨\", \"황색소\"],\n",
    "    \"origin\" : \"지구\"\n",
    "}\n",
    "\n",
    "#사용자로부터 입력을 받습니다.\n",
    "\n",
    "key = input(\"접근하고자 하는 키\")\n",
    "\n",
    "#출력\n",
    "if key in dictionary:\n",
    "    print(dictionary[key])\n",
    "else:\n",
    "    print(\"존재하지 않는 키에 접근하고 있습니다.\")\n",
    "    \n",
    "key1 = dictionary.get(\"존재하지 않는 키\")\n",
    "\n",
    "if key1 == None:\n",
    "    print(\"존재하지 않습니다.\")\n"
   ]
  },
  {
   "cell_type": "code",
   "execution_count": 74,
   "metadata": {},
   "outputs": [
    {
     "name": "stdout",
     "output_type": "stream",
     "text": [
      "name : 망고\n",
      "type : 당절임\n",
      "ingredient : ['설탕', '망고', '등']\n",
      "origin : 창백한푸른점\n"
     ]
    }
   ],
   "source": [
    "#for 반복문과 딕셔너리 함께 사용하기\n",
    "\n",
    "dictionary = {\n",
    "    \"name\" : \"망고\",\n",
    "    \"type\" : \"당절임\",\n",
    "    \"ingredient\" : [\"설탕\", \"망고\", \"등\"],\n",
    "    \"origin\" : \"창백한푸른점\"\n",
    "}\n",
    "\n",
    "#반복문을 사용합니다ㅣ\n",
    "\n",
    "for key in dictionary:\n",
    "    print(key, \":\", dictionary[key])"
   ]
  },
  {
   "cell_type": "code",
   "execution_count": 76,
   "metadata": {},
   "outputs": [
    {
     "name": "stdout",
     "output_type": "stream",
     "text": [
      "{'name': '구름'}\n",
      "{}\n"
     ]
    }
   ],
   "source": [
    "dict = {}\n",
    "dict[\"name\"] = \"구름\"\n",
    "print(dict)\n",
    "dict.clear()\n",
    "print(dict)"
   ]
  },
  {
   "cell_type": "code",
   "execution_count": 85,
   "metadata": {},
   "outputs": [
    {
     "name": "stdout",
     "output_type": "stream",
     "text": [
      "[{'name': '구름', 'age': '5'}, {'name': '과자', 'age': '7'}, {'name': '냠냠', 'age': '12'}]\n",
      "구름 5살\n",
      "과자 7살\n",
      "냠냠 12살\n"
     ]
    }
   ],
   "source": [
    "pets = [\n",
    "    {\"name\" : \"구름\", \"age\" : \"5\"},\n",
    "    {\"name\" : \"과자\", \"age\" : \"7\"},\n",
    "    {\"name\" : \"냠냠\", \"age\" : \"12\"}\n",
    "]\n",
    "\n",
    "print(pets)\n",
    "print(pets[0][\"name\"],pets[0][\"age\"]+\"살\")\n",
    "print(pets[1][\"name\"],pets[1][\"age\"]+ \"살\")\n",
    "print(pets[2][\"name\"],pets[2][\"age\"]+ \"살\")"
   ]
  },
  {
   "cell_type": "code",
   "execution_count": 113,
   "metadata": {},
   "outputs": [
    {
     "name": "stdout",
     "output_type": "stream",
     "text": [
      "{1: 3, 2: 4, 6: 1, 8: 2, 4: 3, 3: 3, 9: 3, 5: 2, 7: 2}\n"
     ]
    }
   ],
   "source": [
    "numbers = [1,2,6,8,4,3,2,1,9,5,4,9,7,2,1,3,5,4,8,9,7,2,3]\n",
    "counter = {}\n",
    "\n",
    "for number in numbers:\n",
    "    if number in counter:\n",
    "        counter[number] = counter[number]+1\n",
    "    else:\n",
    "        counter[number] = 1\n",
    "    \n",
    "    \n",
    "print(counter)"
   ]
  },
  {
   "cell_type": "code",
   "execution_count": 7,
   "metadata": {},
   "outputs": [
    {
     "name": "stdout",
     "output_type": "stream",
     "text": [
      "name : 간달프\n",
      "level : max\n",
      "sword : 번개의검\n",
      "armor : 회색로브\n",
      "skill : 염력\n",
      "skill : 통찰력\n",
      "skill : 간파\n"
     ]
    }
   ],
   "source": [
    "character = {\n",
    "    \"name\" : \"간달프\",\n",
    "    \"level\" : \"max\",\n",
    "    \"items\" : {\n",
    "        \"sword\": \"번개의검\",\n",
    "        \"armor\": \"회색로브\"       \n",
    "        },\n",
    "    \"skill\" : [\"염력\", \"통찰력\", \"간파\"]\n",
    "}\n",
    "\n",
    "\n",
    "\n",
    "for key in character:\n",
    "    if type(character[key]) is str:\n",
    "        print(key, \":\", character[key])\n",
    "        \n",
    "    elif type(character[key]) is dict:\n",
    "        for key2 in character[key]:\n",
    "            print(key2,\":\", character[key][key2])\n",
    "    else:\n",
    "        for i in character[key]:\n",
    "            print(key, \":\", i)\n",
    "\n",
    "            "
   ]
  },
  {
   "cell_type": "code",
   "execution_count": 16,
   "metadata": {},
   "outputs": [
    {
     "name": "stdout",
     "output_type": "stream",
     "text": [
      "[0, 1, 2, 3, 4]\n",
      "range(0, 5)\n"
     ]
    }
   ],
   "source": [
    "n = 10\n",
    "a =range(0, n // 2)\n",
    "print(list(a))\n",
    "print(a)"
   ]
  },
  {
   "cell_type": "code",
   "execution_count": 17,
   "metadata": {},
   "outputs": [
    {
     "name": "stdout",
     "output_type": "stream",
     "text": [
      "0\n",
      "1\n",
      "2\n",
      "3\n",
      "4\n",
      "\n",
      "5\n",
      "6\n",
      "7\n",
      "8\n",
      "9\n",
      "\n",
      "0\n",
      "3\n",
      "6\n",
      "9\n",
      "\n"
     ]
    }
   ],
   "source": [
    "#for 반복문과 범위를 함께 조합해서 사용합니다.\n",
    "for i in range(5):\n",
    "    print(i)\n",
    "print()\n",
    "\n",
    "for i in range(5,10):\n",
    "    print(i)\n",
    "print()\n",
    "\n",
    "for i in range(0, 10, 3):\n",
    "    print(i)\n",
    "print()"
   ]
  },
  {
   "cell_type": "code",
   "execution_count": 19,
   "metadata": {},
   "outputs": [
    {
     "name": "stdout",
     "output_type": "stream",
     "text": [
      "0번째 반복: 273\n",
      "1번째 반복: 32\n",
      "2번째 반복: 103\n",
      "3번째 반복: 57\n",
      "4번째 반복: 52\n"
     ]
    }
   ],
   "source": [
    "#리스트와 범위를 조합해서 사용하기\n",
    "array = [273, 32, 103, 57, 52]\n",
    "\n",
    "for i in range(len(array)):\n",
    "    print(\"{}번째 반복: {}\".format(i, array[i]))"
   ]
  },
  {
   "cell_type": "code",
   "execution_count": 21,
   "metadata": {},
   "outputs": [
    {
     "name": "stdout",
     "output_type": "stream",
     "text": [
      "5\n",
      "4\n",
      "3\n",
      "2\n",
      "1\n",
      "0\n"
     ]
    }
   ],
   "source": [
    "#역 반복문\n",
    "for i in range(5, 0-1, -1):\n",
    "    print(i)"
   ]
  },
  {
   "cell_type": "code",
   "execution_count": 23,
   "metadata": {},
   "outputs": [
    {
     "name": "stdout",
     "output_type": "stream",
     "text": [
      "5\n",
      "4\n",
      "3\n",
      "2\n",
      "1\n",
      "0\n"
     ]
    }
   ],
   "source": [
    "#reverse() 함수 사용\n",
    "for i in reversed(range(6)):\n",
    "    print(i)"
   ]
  },
  {
   "cell_type": "code",
   "execution_count": 27,
   "metadata": {},
   "outputs": [
    {
     "name": "stdout",
     "output_type": "stream",
     "text": [
      "0번째 반복입니다.\n",
      "1번째 반복입니다.\n",
      "2번째 반복입니다.\n",
      "3번째 반복입니다.\n",
      "4번째 반복입니다.\n",
      "5번째 반복입니다.\n",
      "6번째 반복입니다.\n",
      "7번째 반복입니다.\n",
      "8번째 반복입니다.\n",
      "9번째 반복입니다.\n"
     ]
    }
   ],
   "source": [
    "i = 0\n",
    "j = 0\n",
    "while i< 10:\n",
    "    print(\"{}번째 반복입니다.\".format(i))\n",
    "    i += 1\n",
    "\n"
   ]
  },
  {
   "cell_type": "code",
   "execution_count": 41,
   "metadata": {},
   "outputs": [
    {
     "name": "stdout",
     "output_type": "stream",
     "text": [
      "[1, 1, 1, 1, 1, 1]\n"
     ]
    }
   ],
   "source": [
    "#해당하는 값 모두 제거하기\n",
    "list_test = [1,2,1,2,1,2,1,2,1,2,1,2]\n",
    "value = 2\n",
    "\n",
    "#list_test 내부에 value 가 있다면 반복\n",
    "while value in list_test:\n",
    "    list_test.remove(value)\n",
    "\n",
    "print(list_test)"
   ]
  },
  {
   "cell_type": "code",
   "execution_count": 43,
   "metadata": {},
   "outputs": [
    {
     "name": "stdout",
     "output_type": "stream",
     "text": [
      "[1, 1, 1, 1, 1, 1]\n"
     ]
    }
   ],
   "source": [
    "list_test = [1,2,1,2,1,2,1,2,1,2,1,2]\n",
    "\n",
    "for i in list_test:\n",
    "    if i == 2:\n",
    "        list_test.remove(2)\n",
    "print(list_test)"
   ]
  },
  {
   "cell_type": "code",
   "execution_count": 45,
   "metadata": {},
   "outputs": [
    {
     "name": "stdout",
     "output_type": "stream",
     "text": [
      "5초 동안 29386161번 반복했습니다.\n"
     ]
    }
   ],
   "source": [
    "#5초동안 반복하기\n",
    "#시간과 관련된 기능을 가져옵니다.\n",
    "import time\n",
    "#변수를 선언합니다.\n",
    "number = 0\n",
    "\n",
    "#5초 동안 반복합니다.\n",
    "target_tick = time.time() +5\n",
    "while time.time() < target_tick:\n",
    "    number += 1\n",
    "\n",
    "#출력 합니다.\n",
    "print(\"5초 동안 {}번 반복했습니다.\".format(number))"
   ]
  },
  {
   "cell_type": "code",
   "execution_count": 58,
   "metadata": {},
   "outputs": [
    {
     "name": "stdout",
     "output_type": "stream",
     "text": [
      "0\n",
      "종료 하시겠습니까?a\n",
      "1\n",
      "종료 하시겠습니까?a\n",
      "2\n",
      "종료 하시겠습니까?a\n",
      "3\n",
      "종료 하시겠습니까?y\n"
     ]
    }
   ],
   "source": [
    "#while 반복문: break 키워드, continue 키워드\n",
    "\n",
    "#break\n",
    "\n",
    "i = 0\n",
    "\n",
    "while True:\n",
    "    print(i)\n",
    "    i = i+1\n",
    "    \n",
    "    input_text = input(\"종료 하시겠습니까?\")\n",
    "    if input_text in [\"y\", \"Y\"]:\n",
    "        break\n",
    "    "
   ]
  },
  {
   "cell_type": "code",
   "execution_count": 59,
   "metadata": {},
   "outputs": [
    {
     "name": "stdout",
     "output_type": "stream",
     "text": [
      "15\n",
      "20\n",
      "25\n"
     ]
    }
   ],
   "source": [
    "#continue 키워드\n",
    "numbers = [5,15,6,20,7,25]\n",
    "\n",
    "for number in numbers:\n",
    "    if number < 10:\n",
    "        continue\n",
    "    print(number)"
   ]
  },
  {
   "cell_type": "code",
   "execution_count": 84,
   "metadata": {},
   "outputs": [
    {
     "name": "stdout",
     "output_type": "stream",
     "text": [
      "3\n",
      "6\n",
      "9\n"
     ]
    }
   ],
   "source": [
    "for i in range(3,10, 3):\n",
    "    print(i)"
   ]
  },
  {
   "cell_type": "code",
   "execution_count": 112,
   "metadata": {},
   "outputs": [
    {
     "name": "stdout",
     "output_type": "stream",
     "text": [
      "{'name': '기사', 'hp': 200, 'mp': 30, 'level': 3}\n"
     ]
    }
   ],
   "source": [
    "key_list = [\"name\", \"hp\", \"mp\", \"level\"]\n",
    "value_list = [\"기사\", 200, 30, 3]\n",
    "character = {}\n",
    "\n",
    "for i in range(len(key_list)):\n",
    "    a = key_list[i]\n",
    "    b = value_list[i]\n",
    "    character[a] = b\n",
    "print(character)"
   ]
  },
  {
   "cell_type": "code",
   "execution_count": 122,
   "metadata": {},
   "outputs": [
    {
     "name": "stdout",
     "output_type": "stream",
     "text": [
      "141을 더할때 10000을 넘으며 그때의 값은 10011 입니다.\n"
     ]
    }
   ],
   "source": [
    "limit = 10000\n",
    "i = 1\n",
    "sum_value = 0\n",
    "#sum 은 파이썬 내부에서 사용하는 식별자이므로 sum_value 라는 변수 이름을 사용합니다.\n",
    "while sum_value < 10000:\n",
    "    sum_value = sum_value + i\n",
    "    i = i + 1\n",
    "\n",
    "print(\"{}을 더할때 {}을 넘으며 그때의 값은 {} 입니다.\".format(i-1, limit, sum_value))"
   ]
  },
  {
   "cell_type": "code",
   "execution_count": 123,
   "metadata": {},
   "outputs": [
    {
     "name": "stdout",
     "output_type": "stream",
     "text": [
      "최대가 되는 경우: 50 * 50 = 2500\n"
     ]
    }
   ],
   "source": [
    "max_value = 0\n",
    "a = 0\n",
    "b = 0\n",
    "\n",
    "for i in range(1,101):\n",
    "    j = 100 - i\n",
    "    c = i * j\n",
    "    if c > max_value:\n",
    "        max_value = c\n",
    "        a = i\n",
    "        b = j\n",
    "    else:\n",
    "        break\n",
    "    \n",
    "print(\"최대가 되는 경우: {} * {} = {}\".format(a, b, max_value))"
   ]
  },
  {
   "cell_type": "code",
   "execution_count": 143,
   "metadata": {},
   "outputs": [
    {
     "name": "stdout",
     "output_type": "stream",
     "text": [
      "32\n",
      "273\n",
      "537\n",
      "369\n",
      "0\n"
     ]
    }
   ],
   "source": [
    "#min(), max(),sum()\n",
    "num = [ 103, 52, 273, 32, 77]\n",
    "print(min(num))\n",
    "print(max(num))\n",
    "print(sum(num))\n",
    "\n",
    "print(sum([1,2,3,4,5,6,7,8,9,10], 314))\n",
    "print(min([0,1,2,3,4,5,6]))"
   ]
  },
  {
   "cell_type": "code",
   "execution_count": 147,
   "metadata": {},
   "outputs": [
    {
     "name": "stdout",
     "output_type": "stream",
     "text": [
      "[1, 2, 3, 4, 5]\n",
      "<list_reverseiterator object at 0x000002205BA62B50>\n",
      "[5, 4, 3, 2, 1]\n",
      "5\n",
      "4\n",
      "3\n",
      "2\n",
      "1\n"
     ]
    }
   ],
   "source": [
    "#리스트를 선언하고 뒤집습니다. reversed()\n",
    "list_a = [1, 2, 3, 4, 5]\n",
    "list_reversed = reversed(list_a)\n",
    "\n",
    "print(list_a)\n",
    "print(list_reversed)\n",
    "print(list(list_reversed))\n",
    "\n",
    "#반복문을 적용해 봅니다\n",
    "for i in reversed(list_a):\n",
    "    print(i)\n"
   ]
  },
  {
   "cell_type": "code",
   "execution_count": 148,
   "metadata": {},
   "outputs": [
    {
     "name": "stdout",
     "output_type": "stream",
     "text": [
      "6\n",
      "5\n",
      "4\n",
      "3\n",
      "2\n",
      "1\n"
     ]
    }
   ],
   "source": [
    "#리버스와 for 반복문을 조합해 사용할떄는 필요한 시점에 reversed()함수를 사용한다\n",
    "\n",
    "temp = reversed([1,2,3,4,5,6])\n",
    "\n",
    "for i in temp:\n",
    "    print(i)\n",
    "for i in temp:\n",
    "    print(i)\n",
    "    \n",
    "#실행결과 아래의 반복문은 전혀 출력되지 않음"
   ]
  },
  {
   "cell_type": "code",
   "execution_count": 149,
   "metadata": {},
   "outputs": [
    {
     "name": "stdout",
     "output_type": "stream",
     "text": [
      "6\n",
      "5\n",
      "4\n",
      "3\n",
      "2\n",
      "1\n",
      "6\n",
      "5\n",
      "4\n",
      "3\n",
      "2\n",
      "1\n"
     ]
    }
   ],
   "source": [
    "numbers = [1,2,3,4,5,6]\n",
    "\n",
    "for i in reversed(numbers):\n",
    "    print(i)\n",
    "for i in reversed(numbers):\n",
    "    print(i)\n",
    "    \n",
    "#반복문과 사용할땐 for 구문 내에 넣어서 사용, (필요한 시점에 reversed()함수를 사용)"
   ]
  },
  {
   "cell_type": "code",
   "execution_count": 151,
   "metadata": {},
   "outputs": [
    {
     "name": "stdout",
     "output_type": "stream",
     "text": [
      "[1, 2, 3, 4, 5]\n",
      "[5, 4, 3, 2, 1]\n",
      "요세하녕안\n"
     ]
    }
   ],
   "source": [
    "#확장 슬라이싱, 비파괴적\n",
    "numbers = [1,2,3,4,5]\n",
    "print(numbers)\n",
    "print(numbers[::-1])\n",
    "\n",
    "#문자열에도 적용 가능\n",
    "print(\"안녕하세요\"[::-1])"
   ]
  },
  {
   "cell_type": "code",
   "execution_count": 155,
   "metadata": {},
   "outputs": [
    {
     "name": "stdout",
     "output_type": "stream",
     "text": [
      "0번째 요소는 요소1 입니다.\n",
      "1번째 요소는 요소2 입니다.\n",
      "2번째 요소는 요소3 입니다.\n"
     ]
    }
   ],
   "source": [
    "#enumerate()함수와 반복문 \n",
    "\n",
    "example_list = [\"요소1\",\"요소2\",\"요소3\"]\n",
    "i = 0\n",
    "for item in example_list:\n",
    "    print(\"{}번째 요소는 {} 입니다.\".format(i,item) )\n",
    "    i = i + 1"
   ]
  },
  {
   "cell_type": "code",
   "execution_count": 157,
   "metadata": {},
   "outputs": [
    {
     "name": "stdout",
     "output_type": "stream",
     "text": [
      "0번째 요소는 요소A 입니다.\n",
      "1번째 요소는 요소B 입니다.\n",
      "2번째 요소는 요소C 입니다.\n"
     ]
    }
   ],
   "source": [
    "example_list = [\"요소A\", \"요소B\", \"요소C\"]\n",
    "for i in range(len(example_list)):\n",
    "    print( \"{}번째 요소는 {} 입니다.\".format(i,example_list[i] ))"
   ]
  },
  {
   "cell_type": "code",
   "execution_count": 160,
   "metadata": {},
   "outputs": [
    {
     "name": "stdout",
     "output_type": "stream",
     "text": [
      "['요소A', '요소B', '요소C']\n",
      "\n",
      "<enumerate object at 0x000002205CAB4AC0>\n",
      "\n",
      "[(0, '요소A'), (1, '요소B'), (2, '요소C')]\n",
      "\n",
      "0번째 요소는 요소A 입니다.\n",
      "1번째 요소는 요소B 입니다.\n",
      "2번째 요소는 요소C 입니다.\n"
     ]
    }
   ],
   "source": [
    "#이처럼 요소를 반복할때 현재 인덱스가 몇번인지 확인해야 하는경우가 많음\n",
    "#파이썬은 enumerate()함수를 제공\n",
    "#변수를 선언합니다.\n",
    "example_list = [\"요소A\", \"요소B\", \"요소C\"]\n",
    "\n",
    "#그냥 출력합니다.\n",
    "print(example_list)\n",
    "print()\n",
    "\n",
    "#enumerate()함수를 적용해 출력합니다.\n",
    "print(enumerate(example_list))\n",
    "print()\n",
    "\n",
    "#list()함수로 강제 변환해 출력합니다.\n",
    "print(list(enumerate(example_list)))\n",
    "print()\n",
    "\n",
    "#for 반복문과 enumerate()함수 조합해서 사용하기\n",
    "\n",
    "for i, value in enumerate(example_list):\n",
    "    print(\"{}번째 요소는 {} 입니다.\".format(i, value))\n",
    "    \n",
    "#enumerate()함수를 사용하면 반복변수를 위와같은 형태로 넣을수 있습니다. for i, value enumerate(리스트)\n"
   ]
  },
  {
   "cell_type": "code",
   "execution_count": 163,
   "metadata": {},
   "outputs": [
    {
     "name": "stdout",
     "output_type": "stream",
     "text": [
      "dict_items([('키A', '값A'), ('키B', '값B'), ('키C', '값C')])\n",
      "\n",
      "dictionary[키A] = 값A\n",
      "dictionary[키B] = 값B\n",
      "dictionary[키C] = 값C\n"
     ]
    }
   ],
   "source": [
    "#딕셔너리의 items()함수와 반복문 조합하기.\n",
    "\n",
    "#변수를 선언합니다.\n",
    "example_dictionary = {\n",
    "    \"키A\" : \"값A\",\n",
    "    \"키B\" : \"값B\",\n",
    "    \"키C\" : \"값C\"\n",
    "}\n",
    "\n",
    "#딕셔너리의 items()함수 결과 출력하기\n",
    "print(example_dictionary.items())\n",
    "print()\n",
    "\n",
    "#for 반복문과 items()함수 조합해서 사용하기\n",
    "for key, element in example_dictionary.items():\n",
    "    print(\"dictionary[{}] = {}\".format(key, element))"
   ]
  },
  {
   "cell_type": "code",
   "execution_count": 167,
   "metadata": {},
   "outputs": [
    {
     "name": "stdout",
     "output_type": "stream",
     "text": [
      "[0, 4, 16, 36, 64, 100, 144, 196, 256, 324]\n"
     ]
    }
   ],
   "source": [
    "#리스트내포\n",
    "#반복문을 활용한 리스트 생성\n",
    "#프로그램을 만들때는 반복문을 사용해 리스트로 재조합 하는경우가 많습니다.\n",
    "array = []\n",
    "\n",
    "for i in range(0,20,2):\n",
    "    array.append(i*i)\n",
    "\n",
    "print(array)\n",
    "    "
   ]
  },
  {
   "cell_type": "code",
   "execution_count": 168,
   "metadata": {},
   "outputs": [
    {
     "name": "stdout",
     "output_type": "stream",
     "text": [
      "[0, 4, 16, 36, 64, 100, 144, 196, 256, 324]\n"
     ]
    }
   ],
   "source": [
    "#위와 같은 코드를 한줄로 작성할수 있는 방법을 제공함 이게 리스트 내포\n",
    "\n",
    "array = [i*i for i in range(0,20,2)]\n",
    "print(array)\n",
    "\n",
    "#range(0,20,2)의 요소를 i 라고 할떄 i*i로 리스트를 재조합해 주세요 라는 코드\n",
    "#리스트 이름 = [표현식 for 반복자 in 반복할수 있는 것]\n"
   ]
  },
  {
   "cell_type": "code",
   "execution_count": 169,
   "metadata": {},
   "outputs": [
    {
     "name": "stdout",
     "output_type": "stream",
     "text": [
      "['사과', '자두', '바나나', '체리']\n"
     ]
    }
   ],
   "source": [
    "#조건을 활용한 리스트 내포\n",
    "\n",
    "#리스트 선언\n",
    "array = [\"사과\", \"자두\", \"초콜릿\", \"바나나\", \"체리\"]\n",
    "output = [ fruit for fruit in array if fruit != \"초콜릿\"]\n",
    "print(output)\n",
    "\n",
    "#array의 요소를 fruiit 이라고 할 때 초콜릿이 아닌 fruit으로 리스트를 재조합 해주세요.\n",
    "#리스트 이름 = [표현식 for 반복자 in 반복할수 있는 것 if 조건문]"
   ]
  },
  {
   "cell_type": "code",
   "execution_count": 170,
   "metadata": {},
   "outputs": [
    {
     "name": "stdout",
     "output_type": "stream",
     "text": [
      "정수입력10\n",
      "        입력한 문자열은 10입니다.\n",
      "        10는(은) 짝수입니다.\n"
     ]
    }
   ],
   "source": [
    "#if 조건문과 여러 줄 문자열 1\n",
    "\n",
    "number = int(input(\"정수입력\"))\n",
    "\n",
    "#if 조건문으로 홀수 짝수를 구분합니다.\n",
    "if number % 2 == 0:\n",
    "    print(\"\"\"\\\n",
    "        입력한 문자열은 {}입니다.\n",
    "        {}는(은) 짝수입니다.\"\"\".format(number,number))\n",
    "else:\n",
    "    print(\"\"\"\\\n",
    "        입력한 문자열은 {}입니다.\n",
    "        {}는(은) 홀수입니다.\"\"\".format(number,number))\n",
    "#이렇게 코딩시 들여쓰기가 되어있는걸 볼 수 있다.\n"
   ]
  },
  {
   "cell_type": "code",
   "execution_count": 171,
   "metadata": {},
   "outputs": [
    {
     "name": "stdout",
     "output_type": "stream",
     "text": [
      "정수입력9\n",
      "입력한 문자열은 9입니다.\n",
      "9는(은) 홀수입니다.\n"
     ]
    }
   ],
   "source": [
    "#if 조건문과 여러줄 문자열 2\n",
    "number = int(input(\"정수입력\"))\n",
    "\n",
    "if number % 2 == 0:\n",
    "    print(\"\"\"입력한 문자열은 {}입니다.\n",
    "{}는(은) 짝수입니다.\"\"\".format(number,number))\n",
    "else:\n",
    "    print(\"\"\"입력한 문자열은 {}입니다.\n",
    "{}는(은) 홀수입니다.\"\"\".format(number,number))\n",
    "    \n",
    "#실행 결과는 제대로 나오지만 코드가 이상한 구조를 가지게 되었습니다."
   ]
  },
  {
   "cell_type": "code",
   "execution_count": 172,
   "metadata": {},
   "outputs": [
    {
     "name": "stdout",
     "output_type": "stream",
     "text": [
      "정수입력1\n",
      "입력한 문자열은 1입니다. \n",
      "1는(은) 홀수입니다.\n"
     ]
    }
   ],
   "source": [
    "#if 조건문과 긴 문자열\n",
    "number = int(input(\"정수입력\"))\n",
    "\n",
    "if number % 2 == 0:\n",
    "    print(\"입력한 문자열은 {}입니다. \\n{}는(은) 짝수입니다.\".format(number,number))\n",
    "else:\n",
    "    print(\"입력한 문자열은 {}입니다. \\n{}는(은) 홀수입니다.\".format(number,number))"
   ]
  },
  {
   "cell_type": "code",
   "execution_count": 174,
   "metadata": {},
   "outputs": [
    {
     "name": "stdout",
     "output_type": "stream",
     "text": [
      "이렇게 입력해도하나의 문자열로 연결되어생성됩니다.\n",
      "<class 'str'>\n"
     ]
    }
   ],
   "source": [
    "#괄호로 문자열 연결하기\n",
    "\n",
    "test = (\n",
    "    \"이렇게 입력해도\"\n",
    "    \"하나의 문자열로 연결되어\"\n",
    "    \"생성됩니다.\"\n",
    ")\n",
    "print(test)\n",
    "print(type(test))"
   ]
  },
  {
   "cell_type": "code",
   "execution_count": 175,
   "metadata": {},
   "outputs": [
    {
     "name": "stdout",
     "output_type": "stream",
     "text": [
      "('쉼표로 연결하면', '문자열이 아니라', '튜플로 생성됩니다.')\n",
      "<class 'tuple'>\n"
     ]
    }
   ],
   "source": [
    "test = (\n",
    "    \"쉼표로 연결하면\",\n",
    "    \"문자열이 아니라\",\n",
    "    \"튜플로 생성됩니다.\"\n",
    ")\n",
    "print(test)\n",
    "print(type(test))"
   ]
  },
  {
   "cell_type": "code",
   "execution_count": 177,
   "metadata": {},
   "outputs": [
    {
     "name": "stdout",
     "output_type": "stream",
     "text": [
      "정수입력1\n",
      "입력한 문자열은 1입니다.\n",
      "1는(은) 홀수입니다.\n"
     ]
    }
   ],
   "source": [
    "#여러 줄 문자열과 if 구문을 조합했을 때의 문제 해결1\n",
    "number = int(input(\"정수입력\"))\n",
    "\n",
    "#if 조건문으로 홀수 짝수를 구분합니다.\n",
    "if number % 2 == 0:\n",
    "    print((\n",
    "        \"입력한 문자열은 {}입니다.\\n\"\n",
    "        \"{}는(은) 짝수입니다.\".format(number,number)))\n",
    "else:\n",
    "    print((\n",
    "        \"입력한 문자열은 {}입니다.\\n\"\n",
    "        \"{}는(은) 홀수입니다.\".format(number,number)))\n"
   ]
  },
  {
   "cell_type": "code",
   "execution_count": 178,
   "metadata": {},
   "outputs": [
    {
     "name": "stdout",
     "output_type": "stream",
     "text": [
      "1::2::3::4\n"
     ]
    }
   ],
   "source": [
    "#문자열의 join 함수\n",
    "#문자열.join(문자열로 구성된 리스트\n",
    "print(\"::\".join([\"1\",\"2\",\"3\",\"4\"]))\n"
   ]
  },
  {
   "cell_type": "code",
   "execution_count": 179,
   "metadata": {},
   "outputs": [
    {
     "name": "stdout",
     "output_type": "stream",
     "text": [
      "정수입력2\n",
      "입력한 문자열은{}입니다.\n",
      "{}은 짝수 입니다.\n"
     ]
    }
   ],
   "source": [
    "#여러 줄 문자열과 if 구문을 조합했을 때의 문제 해결(2)\n",
    "\n",
    "number = int(input(\"정수입력\"))\n",
    "\n",
    "if number % 2 == 0:\n",
    "    print(\"\\n\".join([\n",
    "        \"입력한 문자열은{}입니다.\",\n",
    "        \"{}은 짝수 입니다.\"]))"
   ]
  },
  {
   "cell_type": "code",
   "execution_count": null,
   "metadata": {},
   "outputs": [],
   "source": [
    "#이터레이터\n",
    "#for 빈복자 in 반복할 수 있는 것\n",
    "#여기서 반복할 수 있는것 을 프로그래밍 용어로 이터러블 이라고 합니다.\n",
    "#즉 이터러블은 내부에 있는 요소들을 차례차례 꺼낼 수 있는 객체를 의미합니다.\n",
    "#이터러블 중에서 next()함수를 적용해 하나하나 꺼낼 수 있는 요소를 이터레이터 라고 합니다."
   ]
  },
  {
   "cell_type": "code",
   "execution_count": 183,
   "metadata": {},
   "outputs": [
    {
     "name": "stdout",
     "output_type": "stream",
     "text": [
      "<list_reverseiterator object at 0x000002205BA80C10>\n",
      "6\n",
      "5\n",
      "4\n",
      "3\n",
      "2\n",
      "1\n"
     ]
    }
   ],
   "source": [
    "#reversed()함수와 이터레이터\n",
    "\n",
    "#변수를 선언 합니다n\n",
    "numbers = [1,2,3,4,5,6]\n",
    "r_num = reversed(numbers)\n",
    "\n",
    "#reversed_numbers 를 출력합니다.\n",
    "print(r_num)\n",
    "print(next(r_num))\n",
    "print(next(r_num))\n",
    "print(next(r_num))\n",
    "print(next(r_num))\n",
    "print(next(r_num))\n",
    "print(next(r_num))"
   ]
  },
  {
   "cell_type": "code",
   "execution_count": 201,
   "metadata": {},
   "outputs": [
    {
     "name": "stdout",
     "output_type": "stream",
     "text": [
      "<class 'str'>\n",
      "1010\n"
     ]
    },
    {
     "data": {
      "text/plain": [
       "10"
      ]
     },
     "execution_count": 201,
     "metadata": {},
     "output_type": "execute_result"
    }
   ],
   "source": [
    "#10진수와 2진수 변환.\n",
    "print(type(\"{:b}\".format(10)))\n",
    "print(\"{:b}\".format(10))\n",
    "int(\"1010\",2)"
   ]
  },
  {
   "cell_type": "code",
   "execution_count": 199,
   "metadata": {},
   "outputs": [
    {
     "name": "stdout",
     "output_type": "stream",
     "text": [
      "1 : 1\n",
      "2 : 10\n",
      "3 : 11\n",
      "4 : 100\n",
      "5 : 101\n",
      "6 : 110\n",
      "7 : 111\n",
      "8 : 1000\n",
      "9 : 1001\n",
      "10 : 1010\n",
      "11 : 1011\n",
      "12 : 1100\n",
      "13 : 1101\n",
      "14 : 1110\n",
      "15 : 1111\n",
      "16 : 10000\n",
      "17 : 10001\n",
      "18 : 10010\n",
      "19 : 10011\n",
      "20 : 10100\n",
      "21 : 10101\n",
      "22 : 10110\n",
      "23 : 10111\n",
      "24 : 11000\n",
      "25 : 11001\n",
      "26 : 11010\n",
      "27 : 11011\n",
      "28 : 11100\n",
      "29 : 11101\n",
      "30 : 11110\n",
      "31 : 11111\n",
      "32 : 100000\n",
      "33 : 100001\n",
      "34 : 100010\n",
      "35 : 100011\n",
      "36 : 100100\n",
      "37 : 100101\n",
      "38 : 100110\n",
      "39 : 100111\n",
      "40 : 101000\n",
      "41 : 101001\n",
      "42 : 101010\n",
      "43 : 101011\n",
      "44 : 101100\n",
      "45 : 101101\n",
      "46 : 101110\n",
      "47 : 101111\n",
      "48 : 110000\n",
      "49 : 110001\n",
      "50 : 110010\n",
      "51 : 110011\n",
      "52 : 110100\n",
      "53 : 110101\n",
      "54 : 110110\n",
      "55 : 110111\n",
      "56 : 111000\n",
      "57 : 111001\n",
      "58 : 111010\n",
      "59 : 111011\n",
      "60 : 111100\n",
      "61 : 111101\n",
      "62 : 111110\n",
      "63 : 111111\n",
      "64 : 1000000\n",
      "65 : 1000001\n",
      "66 : 1000010\n",
      "67 : 1000011\n",
      "68 : 1000100\n",
      "69 : 1000101\n",
      "70 : 1000110\n",
      "71 : 1000111\n",
      "72 : 1001000\n",
      "73 : 1001001\n",
      "74 : 1001010\n",
      "75 : 1001011\n",
      "76 : 1001100\n",
      "77 : 1001101\n",
      "78 : 1001110\n",
      "79 : 1001111\n",
      "80 : 1010000\n",
      "81 : 1010001\n",
      "82 : 1010010\n",
      "83 : 1010011\n",
      "84 : 1010100\n",
      "85 : 1010101\n",
      "86 : 1010110\n",
      "87 : 1010111\n",
      "88 : 1011000\n",
      "89 : 1011001\n",
      "90 : 1011010\n",
      "91 : 1011011\n",
      "92 : 1011100\n",
      "93 : 1011101\n",
      "94 : 1011110\n",
      "95 : 1011111\n",
      "96 : 1100000\n",
      "97 : 1100001\n",
      "98 : 1100010\n",
      "99 : 1100011\n",
      "100 : 1100100\n",
      "합계: 539\n"
     ]
    }
   ],
   "source": [
    "output = [ i for i in range(1,101) if \"{:b}\".format(i).count(\"0\") == 1 ]\n",
    "\n",
    "\n",
    "for i in range(1,101):\n",
    "    print(\"{} : {}\".format(i, \"{:b}\".format(i)))\n",
    "print(\"합계:\", sum(output))"
   ]
  },
  {
   "cell_type": "code",
   "execution_count": 202,
   "metadata": {},
   "outputs": [
    {
     "name": "stdout",
     "output_type": "stream",
     "text": [
      "안녕하세요\n",
      "안녕하세요\n",
      "안녕하세요\n"
     ]
    }
   ],
   "source": [
    "#매개변수의 기본\n",
    "def print_n_times(value, n):\n",
    "    for i in range(n):\n",
    "        print(value)\n",
    "print_n_times(\"안녕하세요\", 3)"
   ]
  },
  {
   "cell_type": "code",
   "execution_count": null,
   "metadata": {},
   "outputs": [],
   "source": [
    "# 위의 예제를 보면 매개변수를 무조건 2개 넣어줘야한다\n",
    "#하지만 print()함수는 매개변수를 원하는만큼 입력할 수 있다. 원하는만큼 매개변수를 받을 수 있는 함수를 가변 매개변수 라고부른다\n",
    "#def 함수이름(매개변수, 매개변수, ..., *가변 매개변수)\n",
    "#가변 매개변수 뒤에는 일반 매개변수가 올 수 없음.\n",
    "#가변 매개변수는 1개만 사용가능"
   ]
  },
  {
   "cell_type": "code",
   "execution_count": 205,
   "metadata": {},
   "outputs": [
    {
     "name": "stdout",
     "output_type": "stream",
     "text": [
      "안녕하세요\n",
      "즐거운\n",
      "파이썬 프로그래밍\n",
      "\n",
      "안녕하세요\n",
      "즐거운\n",
      "파이썬 프로그래밍\n",
      "\n",
      "안녕하세요\n",
      "즐거운\n",
      "파이썬 프로그래밍\n",
      "\n"
     ]
    }
   ],
   "source": [
    "#가변 매개변수 함수\n",
    "def print_n_times(n, *values):\n",
    "    \n",
    "    for i in range(n):\n",
    "        #values는 리스트처럼 활용\n",
    "        for value in values:\n",
    "            print(value)\n",
    "        print()\n",
    "            \n",
    "print_n_times(3, \"안녕하세요\", \"즐거운\", \"파이썬 프로그래밍\")"
   ]
  },
  {
   "cell_type": "code",
   "execution_count": 206,
   "metadata": {},
   "outputs": [
    {
     "name": "stdout",
     "output_type": "stream",
     "text": [
      "안녕하세요\n",
      "안녕하세요\n"
     ]
    }
   ],
   "source": [
    "#기본 매개변수 뒤에는 일반 매개변수가 올수 없습니다. '매개변수=값' 형태\n",
    "#기본 매개변수\n",
    "def print_n_times(value, n=2):\n",
    "    for i in range(n):\n",
    "        print(value)\n",
    "\n",
    "print_n_times(\"안녕하세요\")\n",
    "\n",
    "#이렇게 기본 매개변수를 입력하면 매개변수 기본값으로 들어간다,\n",
    "#만약 (n=2, value) 이런식으로 입력 했다면 \"안녕하세요\" 매개변수가 앞에 변수인지 뒤에 변수인지 알수 없어 파이썬은 기본 매개변수 뒤에\n",
    "#일반 매개변수가 올수 없게 해두었다"
   ]
  },
  {
   "cell_type": "code",
   "execution_count": 208,
   "metadata": {},
   "outputs": [
    {
     "ename": "SyntaxError",
     "evalue": "invalid syntax (<ipython-input-208-6e90ea4cd695>, line 4)",
     "output_type": "error",
     "traceback": [
      "\u001b[1;36m  File \u001b[1;32m\"<ipython-input-208-6e90ea4cd695>\"\u001b[1;36m, line \u001b[1;32m4\u001b[0m\n\u001b[1;33m    def print_n_times(n=2, *value)\u001b[0m\n\u001b[1;37m                                  ^\u001b[0m\n\u001b[1;31mSyntaxError\u001b[0m\u001b[1;31m:\u001b[0m invalid syntax\n"
     ]
    }
   ],
   "source": [
    "#키워드 매개변수\n",
    "#기본 매개변수가 가변 매개변수보다 앞에 올때\n",
    "\n",
    "def print_n_times(n=2, *value)\n",
    "    \n",
    "    for i in range(n):\n",
    "        print(value)\n",
    "    print()\n",
    "\n",
    "print_n_times(\"안녕하세요\", \"즐거운\", \"파이썬프로그래밍\")\n",
    "#매개변수가 순서대로 입력되므로 오류가 난다.\n"
   ]
  },
  {
   "cell_type": "code",
   "execution_count": 4,
   "metadata": {},
   "outputs": [
    {
     "name": "stdout",
     "output_type": "stream",
     "text": [
      "안녕하세요\n",
      "즐거운\n",
      "파이썬프로그래밍\n",
      "3\n",
      "\n",
      "안녕하세요\n",
      "즐거운\n",
      "파이썬프로그래밍\n",
      "3\n",
      "\n"
     ]
    }
   ],
   "source": [
    "#가변 매개변수가 기본 매개변수보다 앞에 올 때\n",
    "\n",
    "def print_n_times(*values, n=2):\n",
    "    \n",
    "    for i in range(n):\n",
    "        for value in values:\n",
    "            print(value)\n",
    "        print()\n",
    "\n",
    "print_n_times(\"안녕하세요\", \"즐거운\", \"파이썬프로그래밍\", 3)\n",
    "\n",
    "#보는바와 같이 가변 매개변수가 우선시 되러 구번 실행된다.\n"
   ]
  },
  {
   "cell_type": "code",
   "execution_count": 5,
   "metadata": {},
   "outputs": [
    {
     "name": "stdout",
     "output_type": "stream",
     "text": [
      "안녕하세요\n",
      "즐거운\n",
      "파이썬프로그래밍\n",
      "\n",
      "안녕하세요\n",
      "즐거운\n",
      "파이썬프로그래밍\n",
      "\n",
      "안녕하세요\n",
      "즐거운\n",
      "파이썬프로그래밍\n",
      "\n"
     ]
    }
   ],
   "source": [
    "#키워드 매개변수\n",
    "#매개변수 이름을 직접 지정해서 값을 입력\n",
    "def print_n_times(*values, n=2):\n",
    "    for i in range(n):\n",
    "        for value in values:\n",
    "            print(value)\n",
    "        print()\n",
    "        \n",
    "print_n_times(\"안녕하세요\", \"즐거운\", \"파이썬프로그래밍\", n=3)\n",
    "#매개변수 이름을 지정해서 입력하는 매개변수를 키워드 매개변수\n"
   ]
  },
  {
   "cell_type": "code",
   "execution_count": 7,
   "metadata": {},
   "outputs": [
    {
     "name": "stdout",
     "output_type": "stream",
     "text": [
      "A위치입니다.\n"
     ]
    }
   ],
   "source": [
    "#리턴 함수의 결과를 리턴값이라고 한다.\n",
    "#자료없이 리턴\n",
    "def return_test():\n",
    "    print(\"A위치입니다.\")\n",
    "    return\n",
    "    print(\"B위치입니다.\")\n",
    "\n",
    "return_test()\n",
    "#return 키워드는 함수를 실행했던 위치로 돌아가라는 의미와 함수를 여기서 끝내라는 의미를 가지고 있습니다."
   ]
  },
  {
   "cell_type": "code",
   "execution_count": 8,
   "metadata": {},
   "outputs": [
    {
     "name": "stdout",
     "output_type": "stream",
     "text": [
      "100\n"
     ]
    }
   ],
   "source": [
    "#자료와 함께 리턴하기\n",
    "def return_test():\n",
    "    return 100\n",
    "\n",
    "value = return_test()\n",
    "print(value)"
   ]
  },
  {
   "cell_type": "code",
   "execution_count": 9,
   "metadata": {},
   "outputs": [
    {
     "name": "stdout",
     "output_type": "stream",
     "text": [
      "None\n"
     ]
    }
   ],
   "source": [
    "#아무것도 리턴하지 않기\n",
    "def return_test():\n",
    "    return\n",
    "value = return_test()\n",
    "print(value)\n",
    "#리턴값이 없다"
   ]
  },
  {
   "cell_type": "code",
   "execution_count": 12,
   "metadata": {},
   "outputs": [
    {
     "name": "stdout",
     "output_type": "stream",
     "text": [
      "6\n"
     ]
    }
   ],
   "source": [
    "#범위 내부의 정수를 모두 더하는 함수\n",
    "\n",
    "def sum_all(start, end):\n",
    "    output = 0\n",
    "    \n",
    "    for i in range(start, end +1):\n",
    "        output += i\n",
    "    \n",
    "    return output\n",
    "\n",
    "print(sum_all(1,3))"
   ]
  },
  {
   "cell_type": "code",
   "execution_count": 16,
   "metadata": {},
   "outputs": [
    {
     "name": "stdout",
     "output_type": "stream",
     "text": [
      "550\n"
     ]
    }
   ],
   "source": [
    "#기본 매개변수와 키워드 매개변수를 활용해 범위의 정수를 더하는 함수\n",
    "def sum_all(start=0, end=100, step=1):\n",
    "    \n",
    "    output = 0\n",
    "    \n",
    "    for i in range(start, end+1, step):\n",
    "        output += i\n",
    "    \n",
    "    return output\n",
    "\n",
    "print(sum_all(0,100,10))"
   ]
  },
  {
   "cell_type": "code",
   "execution_count": 19,
   "metadata": {},
   "outputs": [
    {
     "name": "stdout",
     "output_type": "stream",
     "text": [
      "21\n",
      "121\n"
     ]
    }
   ],
   "source": [
    "def f(x):\n",
    "    return 2*x+1\n",
    "print(f(10))\n",
    "\n",
    "def f(x):\n",
    "    return (x*x)+(2*x) + 1\n",
    "print(f(10))"
   ]
  },
  {
   "cell_type": "code",
   "execution_count": 26,
   "metadata": {},
   "outputs": [
    {
     "name": "stdout",
     "output_type": "stream",
     "text": [
      "3150\n"
     ]
    }
   ],
   "source": [
    "def mul(*values):\n",
    "    output = 1\n",
    "    \n",
    "    for value in values:\n",
    "            output *= value\n",
    "    return output\n",
    "    \n",
    "print(mul(5, 7, 9, 10))"
   ]
  },
  {
   "cell_type": "code",
   "execution_count": null,
   "metadata": {},
   "outputs": [],
   "source": [
    "#재귀함수\n",
    "#팩토리얼 n! = n * (n-1) * (n-2)*....*1\n"
   ]
  }
 ],
 "metadata": {
  "kernelspec": {
   "display_name": "Python 3",
   "language": "python",
   "name": "python3"
  },
  "language_info": {
   "codemirror_mode": {
    "name": "ipython",
    "version": 3
   },
   "file_extension": ".py",
   "mimetype": "text/x-python",
   "name": "python",
   "nbconvert_exporter": "python",
   "pygments_lexer": "ipython3",
   "version": "3.8.5"
  }
 },
 "nbformat": 4,
 "nbformat_minor": 4
}
