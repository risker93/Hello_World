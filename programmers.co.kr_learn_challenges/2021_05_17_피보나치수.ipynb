{
  "nbformat": 4,
  "nbformat_minor": 0,
  "metadata": {
    "colab": {
      "name": "2021_05_17_피보나치수.ipynb",
      "provenance": [],
      "collapsed_sections": []
    },
    "kernelspec": {
      "name": "python3",
      "display_name": "Python 3"
    },
    "language_info": {
      "name": "python"
    }
  },
  "cells": [
    {
      "cell_type": "markdown",
      "metadata": {
        "id": "r2cKGH3p94bI"
      },
      "source": [
        "문제 설명\n",
        "\n",
        "피보나치 수는 F(0) = 0, F(1) = 1일 때, 1 이상의 n에 대하여 F(n) = F(n-1) +F(n-2) 가 적용되는 수 입니다.\n",
        "\n",
        "예를들어\n",
        "\n",
        "F(2) = F(0) + F(1) = 0 + 1 = 1\n",
        "\n",
        "F(3) = F(1) + F(2) = 1 + 1 = 2\n",
        "\n",
        "F(4) = F(2) + F(3) = 1 + 2 = 3\n",
        "\n",
        "F(5) = F(3) + F(4) = 2 + 3 = 5\n",
        "\n",
        "와 같이 이어집니다.\n",
        "\n",
        "2 이상의 n이 입력되었을 때, n번째 피보나치 수를 1234567으로 나눈 나머지를 \n",
        "리턴하는 함수, solution을 완성해 주세요.\n",
        "\n",
        "제한 사항\n",
        "\n",
        "* n은 1이상, 100000이하인 자연수입니다.\n",
        "\n",
        "\n",
        "입출력 예\n",
        "\n",
        "n\treturn\n",
        "\n",
        "3\t2\n",
        "\n",
        "5\t5\n",
        "입출력 예 설명\n",
        "\n",
        "피보나치수는 0번째부터 0, 1, 1, 2, 3, 5, ... 와 같이 이어집니다."
      ]
    },
    {
      "cell_type": "code",
      "metadata": {
        "id": "LUJm5R4y9_BQ"
      },
      "source": [
        "def solution(n):\n",
        "  if n > 1:\n",
        "    return solution(n-2) + solution(n-1)\n",
        "  elif n == 1:\n",
        "    return 1\n",
        "  else:\n",
        "    return 0"
      ],
      "execution_count": 37,
      "outputs": []
    },
    {
      "cell_type": "code",
      "metadata": {
        "colab": {
          "base_uri": "https://localhost:8080/"
        },
        "id": "kOYsNF5ZAJzu",
        "outputId": "0347ebf1-c1c8-4e61-d120-105d4c35393c"
      },
      "source": [
        "f(1)"
      ],
      "execution_count": 38,
      "outputs": [
        {
          "output_type": "execute_result",
          "data": {
            "text/plain": [
              "1"
            ]
          },
          "metadata": {
            "tags": []
          },
          "execution_count": 38
        }
      ]
    },
    {
      "cell_type": "code",
      "metadata": {
        "id": "ieoozPUPALAE"
      },
      "source": [
        "def solution(n):\n",
        "  return solution(n-2)+solution(n-1) if n >1 else 1 if n == 1 else 0"
      ],
      "execution_count": 40,
      "outputs": []
    },
    {
      "cell_type": "code",
      "metadata": {
        "id": "V0WJUpGbIVKE"
      },
      "source": [
        "def solution(n):\n",
        "  return (solution(n-2)+solution(n-1))%1234567 if n >1 else 1 if n == 1 else 0"
      ],
      "execution_count": 44,
      "outputs": []
    },
    {
      "cell_type": "code",
      "metadata": {
        "colab": {
          "base_uri": "https://localhost:8080/"
        },
        "id": "XmDNWo3RD31L",
        "outputId": "6fe7f286-7886-4d7d-b50e-6dc579815dec"
      },
      "source": [
        "solution(2)"
      ],
      "execution_count": 46,
      "outputs": [
        {
          "output_type": "execute_result",
          "data": {
            "text/plain": [
              "1"
            ]
          },
          "metadata": {
            "tags": []
          },
          "execution_count": 46
        }
      ]
    },
    {
      "cell_type": "markdown",
      "metadata": {
        "id": "avoSegEzG3Qr"
      },
      "source": [
        "답안을 제출하니 오류가 났다.\n",
        "\n",
        "이유를 듣자하니  \n",
        "\n",
        "    일반적인 프로그래밍 언어는 CPU에서 제공하는 최소 읽기 단위(word라고 하는 \n",
        "    것으로 기억합니다)를 기준으로 변수의 범위를 지정합니다. 일반적인 x86 시스템\n",
        "    (인텔이나 AMD가 만든 그거입니다)은 word의 크기가 4byte라고 가정하며, 그렇기 \n",
        "    때문에 int라는 자료형은 -2,147,483,648 ~ 2,147,483,647까지의 값만을 표현할 \n",
        "    수 있습니다(계산해보시면 총 숫자 개수가232 개입니다. 1 바이트는 8비트니까요)\n",
        "\n",
        "    그래서 프로그래밍을 하면 정수의 범위에 정말! 정말!! 신경을 쓰셔야 합니다. \n",
        "    예를 들어서 2,147,483,647을 저장하고 있는 int 변수에 1을 더하면 그 숫자는 2,\n",
        "    147,483,648이 아닌, -2,147,483,648이 됩니다(이는 2의 보수라는 개념으로 \n",
        "    인해서 발생하는데, 관심이 있으시면 구글에서 검색해보세요). 다시 말해서, \n",
        "    각각의 변수가 사용하는 자료형은 사용할 수 있는 숫자의 범위가 있고, 이를 \n",
        "    벗어나면 예상치 못한 이상한 결과를 내놓는다는 겁니다\n",
        "\n",
        "    44번째 피보나치 수만 가도 2,971,215,073로 int 범위를 넘어버립니다. 이대로면 \n",
        "    피보나치의 수를 구하라는 문제는 int를 사용할 수가 없겠지요? 그런데 \n",
        "    우리에게는 고마운 성질이 있습니다. 숫자 A, B, C가 있다고 하면 (A + B) % C의 \n",
        "    값은 ( ( A % C ) + ( B % C) ) % C와 같다는 성질입니다.\n"
      ]
    },
    {
      "cell_type": "markdown",
      "metadata": {
        "id": "6DxwBmN0NB-B"
      },
      "source": [
        "위 사유로 적용을 해보니 오류가 난다.\n",
        "\n",
        "재귀함수를 사용하면 시간초과가 나는것같다. 어렵다.\n"
      ]
    },
    {
      "cell_type": "code",
      "metadata": {
        "id": "NpwjaRRkJJv6"
      },
      "source": [
        "def solution(num):\n",
        "    a,b = 0,1\n",
        "    for i in range(num):\n",
        "      print(a)\n",
        "      print(b)\n",
        "      a,b = b,a+b\n",
        "      print()\n",
        "      print(a)\n",
        "      print(b)\n",
        "    return a%1234567"
      ],
      "execution_count": 54,
      "outputs": []
    },
    {
      "cell_type": "code",
      "metadata": {
        "colab": {
          "base_uri": "https://localhost:8080/"
        },
        "id": "5vIOkVdMKwUk",
        "outputId": "87c4687d-dd19-459d-8ea4-c9faa1d2129c"
      },
      "source": [
        "solution(3)"
      ],
      "execution_count": 58,
      "outputs": [
        {
          "output_type": "stream",
          "text": [
            "0\n",
            "1\n",
            "\n",
            "1\n",
            "1\n",
            "1\n",
            "1\n",
            "\n",
            "1\n",
            "2\n",
            "1\n",
            "2\n",
            "\n",
            "2\n",
            "3\n"
          ],
          "name": "stdout"
        },
        {
          "output_type": "execute_result",
          "data": {
            "text/plain": [
              "2"
            ]
          },
          "metadata": {
            "tags": []
          },
          "execution_count": 58
        }
      ]
    },
    {
      "cell_type": "code",
      "metadata": {
        "colab": {
          "base_uri": "https://localhost:8080/"
        },
        "id": "Lz8uD44lKybG",
        "outputId": "a5b74508-182d-4791-8c89-59de3776f686"
      },
      "source": [
        "for i in range(2):\n",
        "  print(i)"
      ],
      "execution_count": 53,
      "outputs": [
        {
          "output_type": "stream",
          "text": [
            "0\n",
            "1\n"
          ],
          "name": "stdout"
        }
      ]
    },
    {
      "cell_type": "code",
      "metadata": {
        "id": "3Le9wrN7NUwv"
      },
      "source": [
        "def solution(num):\n",
        "    a,b = 0,1\n",
        "    for i in range(num):\n",
        "        a,b = b,a+b\n",
        "    return a%1234567"
      ],
      "execution_count": 59,
      "outputs": []
    },
    {
      "cell_type": "code",
      "metadata": {
        "colab": {
          "base_uri": "https://localhost:8080/"
        },
        "id": "QkzmS3uFLK_1",
        "outputId": "a602dd02-3fbe-4883-fdac-2c960c225cf8"
      },
      "source": [
        "solution(3)"
      ],
      "execution_count": 60,
      "outputs": [
        {
          "output_type": "execute_result",
          "data": {
            "text/plain": [
              "2"
            ]
          },
          "metadata": {
            "tags": []
          },
          "execution_count": 60
        }
      ]
    },
    {
      "cell_type": "markdown",
      "metadata": {
        "id": "WwwB1TB-NfOs"
      },
      "source": [
        "피보나치의 수는 간단하지만 굉장히 어려운, 알고리즘 문제인것 같다."
      ]
    },
    {
      "cell_type": "code",
      "metadata": {
        "id": "GOJmbOxLNu3M"
      },
      "source": [
        ""
      ],
      "execution_count": null,
      "outputs": []
    }
  ]
}