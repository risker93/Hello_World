{
  "nbformat": 4,
  "nbformat_minor": 0,
  "metadata": {
    "colab": {
      "name": "2021_05_13_정수제곱근판별.ipynb",
      "provenance": []
    },
    "kernelspec": {
      "name": "python3",
      "display_name": "Python 3"
    },
    "language_info": {
      "name": "python"
    }
  },
  "cells": [
    {
      "cell_type": "markdown",
      "metadata": {
        "id": "diP10r4K27QM"
      },
      "source": [
        "정수 제곱근 판별\n",
        "\n",
        "문제 설명\n",
        "\n",
        "임의의 양의 정수 n에 대해, n이 어떤 양의 정수 x의 제곱인지 아닌지 판단하려 \n",
        "합니다.\n",
        "\n",
        "n이 양의 정수 x의 제곱이라면 x+1의 제곱을 리턴하고, n이 양의 정수 x의 제곱이 \n",
        "아니라면 -1을 리턴하는 함수를 완성하세요.\n",
        "\n",
        "\n",
        "제한 사항\n",
        "\n",
        "n은 1이상, 50000000000000 이하인 양의 정수입니다.\n",
        "\n",
        "입출력 예\n",
        "\n",
        "n\treturn\n",
        "\n",
        "121\t144\n",
        "\n",
        "3\t-1\n",
        "\n",
        "입출력 예 설명\n",
        "\n",
        "입출력 예#1\n",
        "\n",
        "121은 양의 정수 11의 제곱이므로, (11+1)를 제곱한 144를 리턴합니다.\n",
        "\n",
        "입출력 예#2\n",
        "\n",
        "3은 양의 정수의 제곱이 아니므로, -1을 리턴합니다."
      ]
    },
    {
      "cell_type": "code",
      "metadata": {
        "id": "EzH2WCbW23Oo"
      },
      "source": [
        "def solution(n):\n",
        "  for i in range(1, 50000000000000):\n",
        "    if n == i*i:\n",
        "      return (i+1) * (i+1)\n",
        "    if i*i >n:\n",
        "      return -1"
      ],
      "execution_count": 12,
      "outputs": []
    },
    {
      "cell_type": "code",
      "metadata": {
        "colab": {
          "base_uri": "https://localhost:8080/"
        },
        "id": "OiCZ96zAxmk-",
        "outputId": "cfe4e207-1a87-4d20-f3a2-3303fe85b3bc"
      },
      "source": [
        "solution(3)"
      ],
      "execution_count": 11,
      "outputs": [
        {
          "output_type": "execute_result",
          "data": {
            "text/plain": [
              "-1"
            ]
          },
          "metadata": {
            "tags": []
          },
          "execution_count": 11
        }
      ]
    },
    {
      "cell_type": "markdown",
      "metadata": {
        "id": "W-SoRADG3F21"
      },
      "source": [
        "문제를 풀고 다른사람의 코드를 보니 아래와 같은 방법이 제곱 근이란다.\n",
        "이걸 이용한 코드를 보도록 하자"
      ]
    },
    {
      "cell_type": "code",
      "metadata": {
        "colab": {
          "base_uri": "https://localhost:8080/"
        },
        "id": "Erpm-cmw2rZV",
        "outputId": "36f2e290-2e75-4276-dea0-aa1d30f41313"
      },
      "source": [
        "9**(0.5)"
      ],
      "execution_count": 13,
      "outputs": [
        {
          "output_type": "execute_result",
          "data": {
            "text/plain": [
              "3.0"
            ]
          },
          "metadata": {
            "tags": []
          },
          "execution_count": 13
        }
      ]
    },
    {
      "cell_type": "code",
      "metadata": {
        "colab": {
          "base_uri": "https://localhost:8080/"
        },
        "id": "cnYG2Yqd2u6d",
        "outputId": "e1108fe9-96fb-4ed4-e2b5-a0f27eac4b3b"
      },
      "source": [
        "9 ** (1/2)"
      ],
      "execution_count": 14,
      "outputs": [
        {
          "output_type": "execute_result",
          "data": {
            "text/plain": [
              "3.0"
            ]
          },
          "metadata": {
            "tags": []
          },
          "execution_count": 14
        }
      ]
    },
    {
      "cell_type": "code",
      "metadata": {
        "id": "QvwfVGQl3Ea4"
      },
      "source": [
        "def nextSqure(n):\n",
        "    sqrt = n ** (1/2)\n",
        "\n",
        "    if sqrt % 1 == 0:\n",
        "        return (sqrt + 1) ** 2\n",
        "    return 'no'"
      ],
      "execution_count": 15,
      "outputs": []
    },
    {
      "cell_type": "code",
      "metadata": {
        "colab": {
          "base_uri": "https://localhost:8080/"
        },
        "id": "ZsII2iKc3nuC",
        "outputId": "d4ca80c3-21b1-4696-b37b-b5a89ede0ee5"
      },
      "source": [
        "nextSqure(9)"
      ],
      "execution_count": 16,
      "outputs": [
        {
          "output_type": "execute_result",
          "data": {
            "text/plain": [
              "16.0"
            ]
          },
          "metadata": {
            "tags": []
          },
          "execution_count": 16
        }
      ]
    },
    {
      "cell_type": "code",
      "metadata": {
        "colab": {
          "base_uri": "https://localhost:8080/",
          "height": 35
        },
        "id": "wg1TffV43pT2",
        "outputId": "755acf44-d5ed-4bfa-caaf-9f3b8f4b4072"
      },
      "source": [
        "nextSqure(3)"
      ],
      "execution_count": 17,
      "outputs": [
        {
          "output_type": "execute_result",
          "data": {
            "application/vnd.google.colaboratory.intrinsic+json": {
              "type": "string"
            },
            "text/plain": [
              "'no'"
            ]
          },
          "metadata": {
            "tags": []
          },
          "execution_count": 17
        }
      ]
    },
    {
      "cell_type": "code",
      "metadata": {
        "id": "iVsePqUx3srP"
      },
      "source": [
        ""
      ],
      "execution_count": null,
      "outputs": []
    }
  ]
}