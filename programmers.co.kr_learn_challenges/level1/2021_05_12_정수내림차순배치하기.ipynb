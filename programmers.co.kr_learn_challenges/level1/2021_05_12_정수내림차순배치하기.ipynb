{
  "nbformat": 4,
  "nbformat_minor": 0,
  "metadata": {
    "colab": {
      "name": "2021_05_12_정수내림차순배치하기.ipynb",
      "provenance": []
    },
    "kernelspec": {
      "name": "python3",
      "display_name": "Python 3"
    },
    "language_info": {
      "name": "python"
    }
  },
  "cells": [
    {
      "cell_type": "markdown",
      "metadata": {
        "id": "ywZI7l9rL-P0"
      },
      "source": [
        "정수 내림차순으로 배치하기\n",
        "\n",
        "문제 설명\n",
        "\n",
        "함수 solution은 정수 n을 매개변수로 입력받습니다. \n",
        "\n",
        "n의 각 자릿수를 큰것부터 작은 순으로 정렬한 새로운 정수를 리턴해주세요. \n",
        "\n",
        "예를들어 n이 118372면 873211을 리턴하면 됩니다.\n",
        "\n",
        "제한 조건\n",
        "\n",
        "n은 1이상 8000000000 이하인 자연수입니다.\n",
        "\n",
        "입출력 예\n",
        "\n",
        "n: 118372  \treturn :873211\n",
        "\n"
      ]
    },
    {
      "cell_type": "code",
      "metadata": {
        "id": "0pTgWI6SLpTm"
      },
      "source": [
        "def solution(n):\n",
        "  answer = '' \n",
        "  for i in sorted(list(str(n)), reverse=True):\n",
        "    answer += i\n",
        "  return int(answer)"
      ],
      "execution_count": 40,
      "outputs": []
    },
    {
      "cell_type": "code",
      "metadata": {
        "colab": {
          "base_uri": "https://localhost:8080/"
        },
        "id": "NVbif1fNMmnp",
        "outputId": "24a65cc8-633d-48c3-ebce-d8320de2a3be"
      },
      "source": [
        "solution(118372)"
      ],
      "execution_count": 41,
      "outputs": [
        {
          "output_type": "execute_result",
          "data": {
            "text/plain": [
              "873211"
            ]
          },
          "metadata": {
            "tags": []
          },
          "execution_count": 41
        }
      ]
    },
    {
      "cell_type": "markdown",
      "metadata": {
        "id": "2gCIslqdNd6J"
      },
      "source": [
        "list.sort()와 sorted() 함수의 차이를 알아보자\n",
        "\n",
        "\n",
        "list.sort() 메서드를 사용할 수도 있습니다. 리스트를 제자리에서 수정합니다 (그리고 혼동을 피하고자 None을 반환합니다). \n",
        " \n",
        "list.sort() 메서드가 리스트에게만 정의된다는 것입니다. 이와 달리, sorted() 함수는 모든 이터러블을 받아들입니다."
      ]
    },
    {
      "cell_type": "markdown",
      "metadata": {
        "id": "staDuAdQXmD_"
      },
      "source": [
        "다른사람의 풀이를 보도록 하자"
      ]
    },
    {
      "cell_type": "code",
      "metadata": {
        "id": "5I0M22OxNfN8"
      },
      "source": [
        "def solution(n):\n",
        "    ls = list(str(n))\n",
        "    ls.sort(reverse = True)\n",
        "    return int(\"\".join(ls))"
      ],
      "execution_count": 42,
      "outputs": []
    },
    {
      "cell_type": "code",
      "metadata": {
        "colab": {
          "base_uri": "https://localhost:8080/"
        },
        "id": "DdSXCaIOXqf2",
        "outputId": "77733a35-07bf-4533-aa9b-b20b1aeba683"
      },
      "source": [
        "solution(118372)"
      ],
      "execution_count": 43,
      "outputs": [
        {
          "output_type": "execute_result",
          "data": {
            "text/plain": [
              "873211"
            ]
          },
          "metadata": {
            "tags": []
          },
          "execution_count": 43
        }
      ]
    },
    {
      "cell_type": "markdown",
      "metadata": {
        "id": "nltePw28XtJW"
      },
      "source": [
        "이런! join을 쓰는 방법이 있었구나.\n",
        "\n",
        "'구분자'.join(리스트)\n",
        "\n",
        "join 함수는 매개변수로 들어온 리스트에 있는 요소 하나하나를 합쳐서 하나의 문자열로 바꾸어 반환하는 함수입니다.\n",
        "\n",
        "\n",
        "\n"
      ]
    }
  ]
}