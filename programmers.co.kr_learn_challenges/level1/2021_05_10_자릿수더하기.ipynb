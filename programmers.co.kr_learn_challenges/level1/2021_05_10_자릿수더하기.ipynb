{
  "nbformat": 4,
  "nbformat_minor": 0,
  "metadata": {
    "colab": {
      "name": "자릿수더하기_2021_05_10.ipynb",
      "provenance": [],
      "collapsed_sections": [],
      "authorship_tag": "ABX9TyOCvQwyoLoJHi4NUPADCngk",
      "include_colab_link": true
    },
    "kernelspec": {
      "name": "python3",
      "display_name": "Python 3"
    },
    "language_info": {
      "name": "python"
    }
  },
  "cells": [
    {
      "cell_type": "markdown",
      "metadata": {
        "id": "view-in-github",
        "colab_type": "text"
      },
      "source": [
        "<a href=\"https://colab.research.google.com/github/risker93/Hello_World/blob/main/%EC%9E%90%EB%A6%BF%EC%88%98%EB%8D%94%ED%95%98%EA%B8%B0_2021_05_10.ipynb\" target=\"_parent\"><img src=\"https://colab.research.google.com/assets/colab-badge.svg\" alt=\"Open In Colab\"/></a>"
      ]
    },
    {
      "cell_type": "markdown",
      "metadata": {
        "id": "w_1rA9F3Hq8f"
      },
      "source": [
        "문제 설명\n",
        "자연수 N이 주어지면, N의 각 자릿수의 합을 구해서 return 하는 solution 함수를 만들어 주세요.\n",
        "예를들어 N = 123이면 1 + 2 + 3 = 6을 return 하면 됩니다.\n",
        "\n",
        "제한사항\n",
        "N의 범위 : 100,000,000 이하의 자연수\n",
        "입출력 예\n",
        "N\tanswer\n",
        "123\t6\n",
        "987\t24\n",
        "입출력 예 설명\n",
        "입출력 예 #1\n",
        "문제의 예시와 같습니다.\n",
        "\n",
        "입출력 예 #2\n",
        "9 + 8 + 7 = 24이므로 24를 return 하면 됩니다."
      ]
    },
    {
      "cell_type": "code",
      "metadata": {
        "colab": {
          "base_uri": "https://localhost:8080/"
        },
        "id": "Z_MTXs24IFNe",
        "outputId": "413e8d14-4cbf-4df3-9d43-91678b053b52"
      },
      "source": [
        "n=312\n",
        "num =0\n",
        "str_n =str(n)\n",
        "for i in range(0,len(str_n)):\n",
        "  num += int(str_n[i])\n",
        "  print(num)\n"
      ],
      "execution_count": 34,
      "outputs": [
        {
          "output_type": "stream",
          "text": [
            "3\n",
            "4\n",
            "6\n"
          ],
          "name": "stdout"
        }
      ]
    },
    {
      "cell_type": "code",
      "metadata": {
        "colab": {
          "base_uri": "https://localhost:8080/"
        },
        "id": "H5vi-euhSSDN",
        "outputId": "2fcef303-bdd7-4abe-b1d2-7545154b8ca8"
      },
      "source": [
        "#아래 최종답안을 내고나서 맨처음 만든 포문과 비교하기위해서 .한번더 연습용으로 포문을 만들어보았다.\n",
        "n =123\n",
        "for i in str(n):\n",
        "  print(int(i))"
      ],
      "execution_count": 72,
      "outputs": [
        {
          "output_type": "stream",
          "text": [
            "1\n",
            "2\n",
            "3\n"
          ],
          "name": "stdout"
        }
      ]
    },
    {
      "cell_type": "code",
      "metadata": {
        "colab": {
          "base_uri": "https://localhost:8080/"
        },
        "id": "sRdgLT-5HtPR",
        "outputId": "23f2596b-748f-41c2-d8fb-392344758365"
      },
      "source": [
        "def solution(n):\n",
        "\n",
        "  return sum([int(str(n)[i]) for i in range(0,len(str(n)))])\n",
        "\n",
        "solution(312)"
      ],
      "execution_count": 62,
      "outputs": [
        {
          "output_type": "execute_result",
          "data": {
            "text/plain": [
              "6"
            ]
          },
          "metadata": {
            "tags": []
          },
          "execution_count": 62
        }
      ]
    },
    {
      "cell_type": "markdown",
      "metadata": {
        "id": "q64r3XKJRF_d"
      },
      "source": [
        "코드가 뭔가 별로다.\n",
        "\n",
        "조금더 수정해보자."
      ]
    },
    {
      "cell_type": "code",
      "metadata": {
        "colab": {
          "base_uri": "https://localhost:8080/"
        },
        "id": "yItG7TQhQAWM",
        "outputId": "f81b2c9f-e9d1-4332-ae19-fde6d4d7e38d"
      },
      "source": [
        "def solution(n):\n",
        "\n",
        "  return sum([int(i) for i in str(n)])\n",
        "\n",
        "solution(123)"
      ],
      "execution_count": 70,
      "outputs": [
        {
          "output_type": "execute_result",
          "data": {
            "text/plain": [
              "6"
            ]
          },
          "metadata": {
            "tags": []
          },
          "execution_count": 70
        }
      ]
    },
    {
      "cell_type": "markdown",
      "metadata": {
        "id": "9LDKJJg1OGLt"
      },
      "source": [
        "다른사람의 재출 코드를 보자\n",
        "재귀함수를 사용했다."
      ]
    },
    {
      "cell_type": "code",
      "metadata": {
        "colab": {
          "base_uri": "https://localhost:8080/"
        },
        "id": "65Z6JiyIKJcv",
        "outputId": "d95e68b2-bd46-4b58-af84-f0c4abc085ae"
      },
      "source": [
        "def sum_digit(number):\n",
        "    if number < 10:\n",
        "        return number;\n",
        "    return (number % 10) + sum_digit(number // 10) \n",
        "\n",
        "# 아래는 테스트로 출력해 보기 위한 코드입니다.\n",
        "sum_digit(123)\n",
        "\n"
      ],
      "execution_count": 41,
      "outputs": [
        {
          "output_type": "execute_result",
          "data": {
            "text/plain": [
              "6"
            ]
          },
          "metadata": {
            "tags": []
          },
          "execution_count": 41
        }
      ]
    },
    {
      "cell_type": "code",
      "metadata": {
        "colab": {
          "base_uri": "https://localhost:8080/"
        },
        "id": "3vh-FS81MsEs",
        "outputId": "b7f15705-61af-4d4a-ae4e-3cf4b0de444f"
      },
      "source": [
        "123%10"
      ],
      "execution_count": 42,
      "outputs": [
        {
          "output_type": "execute_result",
          "data": {
            "text/plain": [
              "3"
            ]
          },
          "metadata": {
            "tags": []
          },
          "execution_count": 42
        }
      ]
    },
    {
      "cell_type": "code",
      "metadata": {
        "colab": {
          "base_uri": "https://localhost:8080/"
        },
        "id": "9kLeynDHM2Zz",
        "outputId": "242a26a8-95cf-4487-e819-1de320ebbbb3"
      },
      "source": [
        "123//10"
      ],
      "execution_count": 43,
      "outputs": [
        {
          "output_type": "execute_result",
          "data": {
            "text/plain": [
              "12"
            ]
          },
          "metadata": {
            "tags": []
          },
          "execution_count": 43
        }
      ]
    },
    {
      "cell_type": "code",
      "metadata": {
        "colab": {
          "base_uri": "https://localhost:8080/"
        },
        "id": "0DfBjn7aNBG3",
        "outputId": "489c2153-4eff-482f-fa2b-443dcc2038af"
      },
      "source": [
        "12%10"
      ],
      "execution_count": 44,
      "outputs": [
        {
          "output_type": "execute_result",
          "data": {
            "text/plain": [
              "2"
            ]
          },
          "metadata": {
            "tags": []
          },
          "execution_count": 44
        }
      ]
    },
    {
      "cell_type": "code",
      "metadata": {
        "colab": {
          "base_uri": "https://localhost:8080/"
        },
        "id": "Iz55UHFrNQ_z",
        "outputId": "f1c054a2-77bd-4d5b-dd43-0670e524f2a5"
      },
      "source": [
        "12//10"
      ],
      "execution_count": 48,
      "outputs": [
        {
          "output_type": "execute_result",
          "data": {
            "text/plain": [
              "1"
            ]
          },
          "metadata": {
            "tags": []
          },
          "execution_count": 48
        }
      ]
    },
    {
      "cell_type": "markdown",
      "metadata": {
        "id": "r1oRAySnOPN9"
      },
      "source": [
        "함수가 한번 더 호출되나 10보다 작으므로 그대로 반환"
      ]
    },
    {
      "cell_type": "markdown",
      "metadata": {
        "id": "09Z_wOg4Ou80"
      },
      "source": [
        "- 321% 10은 123을 10으로 나눈 나머지 3을 반환한다.\n",
        "\n",
        "- 123//10은 123을 10으로 나눈 몫 12를 반환한다.\n",
        "따라서 12를 다시 함수에 넣고 돌린다.\n",
        "\n",
        "- (return 123%10 + sum_disgit(123//10) -> return 3 + sum_digit(12))\n",
        "\n",
        "- 2번째 돌릴땐 return에는 이전에 반환한 3 에다가 + 12%10 + sum_digit(12//10).\n",
        "\n",
        "- 즉 2번째에는 return 3+ 2+sum_digit(1) \n",
        "\n",
        "- 3번째에는 if문에서 1이 10보다 작으므로 return 1을 해주고\n",
        "- 최종적으로 return 3+2+1이 된다."
      ]
    },
    {
      "cell_type": "code",
      "metadata": {
        "id": "IHw0pVkROupL"
      },
      "source": [
        ""
      ],
      "execution_count": null,
      "outputs": []
    }
  ]
}
