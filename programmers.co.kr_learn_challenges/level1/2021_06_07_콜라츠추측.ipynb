{
  "nbformat": 4,
  "nbformat_minor": 0,
  "metadata": {
    "colab": {
      "name": "2021_06_07_콜라츠추측.ipynb",
      "provenance": [],
      "authorship_tag": "ABX9TyNe4HrOfcug+kdzeTH/Gief",
      "include_colab_link": true
    },
    "kernelspec": {
      "name": "python3",
      "display_name": "Python 3"
    },
    "language_info": {
      "name": "python"
    }
  },
  "cells": [
    {
      "cell_type": "markdown",
      "metadata": {
        "id": "view-in-github",
        "colab_type": "text"
      },
      "source": [
        "<a href=\"https://colab.research.google.com/github/risker93/Hello_World/blob/main/2021_06_07_%EC%BD%9C%EB%9D%BC%EC%B8%A0%EC%B6%94%EC%B8%A1.ipynb\" target=\"_parent\"><img src=\"https://colab.research.google.com/assets/colab-badge.svg\" alt=\"Open In Colab\"/></a>"
      ]
    },
    {
      "cell_type": "markdown",
      "metadata": {
        "id": "fpajtfel_ZMx"
      },
      "source": [
        "문제 설명\n",
        "\n",
        "1937년 Collatz란 사람에 의해 제기된 이 추측은, 주어진 수가 1이 될때까지 다음 작업을 반복하면, 모든 수를 1로 만들 수 있다는 추측입니다. \n",
        "\n",
        "작업은 다음과 같습니다.\n",
        "\n",
        "1-1. 입력된 수가 짝수라면 2로 나눕니다. \n",
        "\n",
        "1-2. 입력된 수가 홀수라면 3을 곱하고 1을 더합니다.\n",
        "\n",
        "2. 결과로 나온 수에 같은 작업을 1이 될 때까지 반복합니다.\n",
        "\n",
        "예를 들어, 입력된 수가 6이라면 6→3→10→5→16→8→4→2→1 이 되어 총 8번 만에 1이 됩니다. \n",
        "\n",
        "위 작업을 몇 번이나 반복해야하는지 반환하는 함수, solution을 완성해 주세요. \n",
        "\n",
        "단, 작업을 500번을 반복해도 1이 되지 않는다면 –1을 반환해 주세요.\n",
        "\n",
        "제한 사항\n",
        "\n",
        "입력된 수, num은 1 이상 8000000 미만인 정수입니다.\n",
        "\n",
        "입출력 예\n",
        "\n",
        "n\tresult\n",
        "\n",
        "6\t8\n",
        "\n",
        "16\t4\n",
        "\n",
        "626331\t-1\n",
        "\n",
        "입출력 예 설명\n",
        "\n",
        "입출력 예 #1\n",
        "\n",
        "문제의 설명과 같습니다.\n",
        "\n",
        "입출력 예 #2\n",
        "16 -> 8 -> 4 -> 2 -> 1 이되어 총 4번만에 1이 됩니다.\n",
        "\n",
        "입출력 예 #3\n",
        "626331은 500번을 시도해도 1이 되지 못하므로 -1을 리턴해야합니다.\n"
      ]
    },
    {
      "cell_type": "code",
      "metadata": {
        "id": "mv0xUUVf_Qg-"
      },
      "source": [
        "  def solution(num):\n",
        "    answer = 0\n",
        "    while True:\n",
        "        if num == 1:\n",
        "            return answer\n",
        "        elif answer == 500:\n",
        "            return -1\n",
        "        else:\n",
        "            if num % 2 == 1:\n",
        "                num = (num*3)+1\n",
        "                answer += 1\n",
        "            elif num % 2 == 0:\n",
        "                num = num / 2\n",
        "                answer += 1"
      ],
      "execution_count": 10,
      "outputs": []
    },
    {
      "cell_type": "code",
      "metadata": {
        "colab": {
          "base_uri": "https://localhost:8080/"
        },
        "id": "EKPYJ0J7_uEP",
        "outputId": "c290fc7f-0d1f-4256-d641-7360bf7133a2"
      },
      "source": [
        "solution(6)"
      ],
      "execution_count": 9,
      "outputs": [
        {
          "output_type": "execute_result",
          "data": {
            "text/plain": [
              "8"
            ]
          },
          "metadata": {
            "tags": []
          },
          "execution_count": 9
        }
      ]
    }
  ]
}
