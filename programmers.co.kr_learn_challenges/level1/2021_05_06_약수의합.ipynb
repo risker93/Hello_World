{
  "nbformat": 4,
  "nbformat_minor": 0,
  "metadata": {
    "colab": {
      "name": "약수의합.ipynb",
      "provenance": [],
      "collapsed_sections": []
    },
    "kernelspec": {
      "name": "python3",
      "display_name": "Python 3"
    },
    "language_info": {
      "name": "python"
    }
  },
  "cells": [
    {
      "cell_type": "markdown",
      "metadata": {
        "id": "cmbnv6HEhvXy"
      },
      "source": [
        "정수 n을 입력받아 n의 약수를 모두 더한 값을 리턴하는 함수, solution을 완성해주세요.\n",
        "\n",
        "제한 사항\n",
        "n은 0 이상 3000이하인 정수입니다.\n",
        "입출력 예\n",
        "n\treturn\n",
        "12\t28\n",
        "5\t6\n",
        "입출력 예 설명\n",
        "입출력 예 #1\n",
        "12의 약수는 1, 2, 3, 4, 6, 12입니다. 이를 모두 더하면 28입니다.\n",
        "\n",
        "입출력 예 #2\n",
        "5의 약수는 1, 5입니다. 이를 모두 더하면 6입니다."
      ]
    },
    {
      "cell_type": "code",
      "metadata": {
        "colab": {
          "base_uri": "https://localhost:8080/"
        },
        "id": "kfOnzhe8h0-4",
        "outputId": "2dd8f4c1-64d8-451b-8fd2-844a8d5921f4"
      },
      "source": [
        "def solution(n):\n",
        "    answer = 0\n",
        "    for i in range(1, n+1):\n",
        "      if n%i == 0:\n",
        "        answer += i\n",
        "    return answer\n",
        "\n",
        "solution(12)"
      ],
      "execution_count": null,
      "outputs": [
        {
          "output_type": "execute_result",
          "data": {
            "text/plain": [
              "28"
            ]
          },
          "metadata": {
            "tags": []
          },
          "execution_count": 8
        }
      ]
    },
    {
      "cell_type": "markdown",
      "metadata": {
        "id": "_DZn8uPDlHtZ"
      },
      "source": [
        "다른방법도 찾아보자."
      ]
    },
    {
      "cell_type": "code",
      "metadata": {
        "id": "TQ5XPXvdiPjR"
      },
      "source": [
        "def solution(n):\n",
        "    a=[i for i in range(1, n+1) if n%i==0]\n",
        "    return sum(a)"
      ],
      "execution_count": null,
      "outputs": []
    },
    {
      "cell_type": "code",
      "metadata": {
        "colab": {
          "base_uri": "https://localhost:8080/"
        },
        "id": "-Hxw4ylUkVfA",
        "outputId": "e9135d9e-2012-4575-d433-1d4e14cf164c"
      },
      "source": [
        "solution(6)"
      ],
      "execution_count": null,
      "outputs": [
        {
          "output_type": "execute_result",
          "data": {
            "text/plain": [
              "12"
            ]
          },
          "metadata": {
            "tags": []
          },
          "execution_count": 28
        }
      ]
    },
    {
      "cell_type": "markdown",
      "metadata": {
        "id": "aoTOj_ZVp5TB"
      },
      "source": [
        "찾았다"
      ]
    },
    {
      "cell_type": "code",
      "metadata": {
        "id": "g1bzJwKfkwSk"
      },
      "source": [
        "def solution(n):\n",
        "  return sum([i for i in range(1, n+1) if n%i==0])"
      ],
      "execution_count": null,
      "outputs": []
    },
    {
      "cell_type": "code",
      "metadata": {
        "colab": {
          "base_uri": "https://localhost:8080/"
        },
        "id": "7pOuDGdup1s6",
        "outputId": "1e4d00ff-01f1-4de5-b9ba-fe2f373ca32d"
      },
      "source": [
        "solution(12)"
      ],
      "execution_count": null,
      "outputs": [
        {
          "output_type": "execute_result",
          "data": {
            "text/plain": [
              "28"
            ]
          },
          "metadata": {
            "tags": []
          },
          "execution_count": 30
        }
      ]
    },
    {
      "cell_type": "code",
      "metadata": {
        "id": "4bLi-Al1p3MQ"
      },
      "source": [
        ""
      ],
      "execution_count": null,
      "outputs": []
    }
  ]
}
