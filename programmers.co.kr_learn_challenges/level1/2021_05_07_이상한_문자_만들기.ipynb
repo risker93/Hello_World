{
  "nbformat": 4,
  "nbformat_minor": 0,
  "metadata": {
    "colab": {
      "name": "2021_05_07_이상한 문자 만들기.ipynb",
      "provenance": []
    },
    "kernelspec": {
      "name": "python3",
      "display_name": "Python 3"
    },
    "language_info": {
      "name": "python"
    }
  },
  "cells": [
    {
      "cell_type": "markdown",
      "metadata": {
        "id": "clUxyyi3vCE8"
      },
      "source": [
        "문제 설명\n",
        "\n",
        "문자열 s는 한 개 이상의 단어로 구성되어 있습니다. 각 단어는 하나 이상의 \n",
        "\n",
        "공백문자로 구분되어 있습니다. 각 단어의 짝수번째 알파벳은 대문자로, 홀수번째 \n",
        "\n",
        "알파벳은 소문자로 바꾼 문자열을 리턴하는 함수, solution을 완성하세요.\n",
        "\n",
        "\n",
        "제한 사항\n",
        "\n",
        "문자열 전체의 짝/홀수 인덱스가 아니라, 단어(공백을 기준)별로 짝/홀수 인덱스를 \n",
        "\n",
        "판단해야합니다.\n",
        "\n",
        "첫 번째 글자는 0번째 인덱스로 보아 짝수번째 알파벳으로 처리해야 합니다.\n",
        "\n",
        "입출력 예\n",
        "\n",
        "s\treturn\n",
        "\n",
        "\"try hello world\"\t\"TrY HeLlO WoRlD\"\n",
        "\n",
        "입출력 예 설명\n",
        "\n",
        "\"try hello world\"는 세 단어 \"try\", \"hello\", \"world\"로 구성되어 있습니다. 각 \n",
        "\n",
        "단어의 짝수번째 문자를 대문자로, 홀수번째 문자를 소문자로 바꾸면 \"TrY\", \n",
        "\n",
        "\"HeLlO\", \"WoRlD\"입니다. 따라서 \"TrY HeLlO WoRlD\" 를 리턴합니다."
      ]
    },
    {
      "cell_type": "code",
      "metadata": {
        "id": "Nypbesm8jazH"
      },
      "source": [
        "def solution(s):\n",
        "  a = 1\n",
        "  answer = ''\n",
        "  #문자열을 문자열길이-1 만큼 가져온다\n",
        "  for i in range(0,len(s)):\n",
        "    a += 1\n",
        "    if s[i] == ' ':\n",
        "      answer += s[i]\n",
        "      a = 1\n",
        "    #짝수를 구분\n",
        "    elif a % 2 == 0: \n",
        "      answer+= s[i].upper()  \n",
        "    #만약 가져온 i 번째 인덱스가 뛰어쓰기 라면 a를 0으로\n",
        "    else:\n",
        "      answer += s[i].lower()\n",
        "  return answer"
      ],
      "execution_count": 56,
      "outputs": []
    },
    {
      "cell_type": "code",
      "metadata": {
        "colab": {
          "base_uri": "https://localhost:8080/",
          "height": 35
        },
        "id": "2YFgIr8PmFlH",
        "outputId": "0a1177a8-20a8-47fb-f41a-930c8a4578ec"
      },
      "source": [
        "solution(\"try hello world\")"
      ],
      "execution_count": 57,
      "outputs": [
        {
          "output_type": "execute_result",
          "data": {
            "application/vnd.google.colaboratory.intrinsic+json": {
              "type": "string"
            },
            "text/plain": [
              "'TrY HeLlO WoRlD'"
            ]
          },
          "metadata": {
            "tags": []
          },
          "execution_count": 57
        }
      ]
    },
    {
      "cell_type": "code",
      "metadata": {
        "colab": {
          "base_uri": "https://localhost:8080/",
          "height": 35
        },
        "id": "mnqAkJDuvSTv",
        "outputId": "9171f232-2a43-4eb4-9dad-c458a09c0503"
      },
      "source": [
        "solution(\"i am the king of the world\")"
      ],
      "execution_count": 58,
      "outputs": [
        {
          "output_type": "execute_result",
          "data": {
            "application/vnd.google.colaboratory.intrinsic+json": {
              "type": "string"
            },
            "text/plain": [
              "'I Am ThE KiNg Of ThE WoRlD'"
            ]
          },
          "metadata": {
            "tags": []
          },
          "execution_count": 58
        }
      ]
    },
    {
      "cell_type": "markdown",
      "metadata": {
        "id": "rfEV2vH7zz3h"
      },
      "source": [
        "제출을 했는데 오류가 났다.\n",
        "\n",
        "계속 오류가나서 고민을 했다. 질문하기에 가보니,\n",
        "\n",
        "입력되는 문자열은 소문자만 입력된다는 말이 없다 라더라.\n",
        "\n",
        "예제가 모두 소문자여서 당연히 소문자를 대문자로 바꾸는것만 신경썻다.\n",
        "\n",
        "대문자로 입력된 문자열이 소문자로 변환이 안되서 에러가 난 것이었다.\n",
        "\n",
        "문제에 함정이 없나 문제를 잘 읽어봐야겠다."
      ]
    },
    {
      "cell_type": "code",
      "metadata": {
        "id": "HuuM2NXs0OLw"
      },
      "source": [
        ""
      ],
      "execution_count": null,
      "outputs": []
    }
  ]
}