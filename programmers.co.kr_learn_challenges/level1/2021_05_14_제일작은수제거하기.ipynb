{
  "nbformat": 4,
  "nbformat_minor": 0,
  "metadata": {
    "colab": {
      "name": "2021_05_14_제일작은수제거하기.ipynb",
      "provenance": [],
      "collapsed_sections": []
    },
    "kernelspec": {
      "name": "python3",
      "display_name": "Python 3"
    },
    "language_info": {
      "name": "python"
    }
  },
  "cells": [
    {
      "cell_type": "markdown",
      "metadata": {
        "id": "lDtBMcduDCrM"
      },
      "source": [
        "#**제일 작은 수 제거하기**\n",
        "**문제 설명**\n",
        "\n",
        "정수를 저장한 배열, arr 에서 가장 작은 수를 제거한 배열을 리턴하는 함수, \n",
        "solution을 완성해주세요. \n",
        "\n",
        "단, 리턴하려는 배열이 빈 배열인 경우엔 배열에 -1을 채워 리턴하세요. \n",
        "\n",
        "예를들어 arr이 [4,3,2,1]인 경우는 [4,3,2]를 리턴 하고, [10]면 [-1]을 리턴 합니다.\n",
        "\n",
        "제한 조건\n",
        "\n",
        "arr은 길이 1 이상인 배열입니다.\n",
        "\n",
        "인덱스 i, j에 대해 i ≠ j이면 arr[i] ≠ arr[j] 입니다.\n",
        "\n",
        "입출력 예\n",
        "\n",
        "arr       \treturn\n",
        "\n",
        "[4,3,2,1]\t  [4,3,2]\n",
        "\n",
        "[10]        [-1]"
      ]
    },
    {
      "cell_type": "code",
      "metadata": {
        "id": "zZSByTQYDAiJ"
      },
      "source": [
        "def solution(n):\n",
        "  n.remove(min(n))\n",
        "  if len(n) <= 1:\n",
        "    return [-1]       \n",
        "  return n\n"
      ],
      "execution_count": 43,
      "outputs": []
    },
    {
      "cell_type": "code",
      "metadata": {
        "colab": {
          "base_uri": "https://localhost:8080/"
        },
        "id": "yb4bVZQZDxGg",
        "outputId": "7d84ad19-51cd-4895-dd5d-fad5d9726bf9"
      },
      "source": [
        "solution([4,3,2,1])"
      ],
      "execution_count": 44,
      "outputs": [
        {
          "output_type": "execute_result",
          "data": {
            "text/plain": [
              "[4, 3, 2]"
            ]
          },
          "metadata": {
            "tags": []
          },
          "execution_count": 44
        }
      ]
    },
    {
      "cell_type": "code",
      "metadata": {
        "colab": {
          "base_uri": "https://localhost:8080/"
        },
        "id": "dyttWlLWD1wk",
        "outputId": "076861d8-eda3-4b74-e1dc-3ee2e114ab86"
      },
      "source": [
        "solution([1])"
      ],
      "execution_count": 45,
      "outputs": [
        {
          "output_type": "execute_result",
          "data": {
            "text/plain": [
              "[-1]"
            ]
          },
          "metadata": {
            "tags": []
          },
          "execution_count": 45
        }
      ]
    },
    {
      "cell_type": "code",
      "metadata": {
        "id": "a55mPJpuHUlA"
      },
      "source": [
        ""
      ],
      "execution_count": null,
      "outputs": []
    }
  ]
}