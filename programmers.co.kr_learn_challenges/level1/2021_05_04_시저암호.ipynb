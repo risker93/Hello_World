{
  "nbformat": 4,
  "nbformat_minor": 0,
  "metadata": {
    "colab": {
      "name": "시저암호.ipynb",
      "provenance": [],
      "collapsed_sections": []
    },
    "kernelspec": {
      "name": "python3",
      "display_name": "Python 3"
    },
    "language_info": {
      "name": "python"
    }
  },
  "cells": [
    {
      "cell_type": "markdown",
      "metadata": {
        "id": "xKSWz0S1VjXn"
      },
      "source": [
        "#문제 설명\n",
        "\n",
        "\n",
        "어떤 문장의 각 알파벳을 일정한 거리만큼 밀어서 다른 알파벳으로 바꾸는 암호화 방식을 시저 암호라고 합니다.\n",
        "\n",
        " 예를 들어 \"AB\"는 1만큼 밀면 \"BC\"가 되고, 3만큼 밀면 \"DE\"가 됩니다. \"z\"는 1만큼 밀면 \"a\"가 됩니다. \n",
        " \n",
        " 문자열 s와 거리 n을 입력받아 s를 n만큼 민 암호문을 만드는 함수, solution을 완성해 보세요.\n",
        "\n",
        "제한 조건\n",
        "\n",
        "공백은 아무리 밀어도 공백입니다.\n",
        "\n",
        "s는 알파벳 소문자, 대문자, 공백으로만 이루어져 있습니다.\n",
        "\n",
        "s의 길이는 8000이하입니다.\n",
        "\n",
        "n은 1 이상, 25이하인 자연수입니다.\n",
        "\n",
        "입출력 예\n",
        "\n",
        "s    |\tn\t |  result\n",
        "\n",
        "\"AB\" |\t1\t |  \"BC\"\n",
        "\n",
        "\"z\"\t |  1\t |  \"a\"\n",
        "\n",
        "\"a B z\"|\t4\t   | \"e F d\""
      ]
    },
    {
      "cell_type": "code",
      "metadata": {
        "colab": {
          "base_uri": "https://localhost:8080/",
          "height": 141
        },
        "id": "-hEOWtzCF7Qo",
        "outputId": "bad26e13-796f-4488-8873-8a556892b9dd"
      },
      "source": [
        "a = 'abcdef'\n",
        "\n",
        "for i in range(len(a)):\n",
        "  print(i)\n",
        "\n",
        "a[1]"
      ],
      "execution_count": 18,
      "outputs": [
        {
          "output_type": "stream",
          "text": [
            "0\n",
            "1\n",
            "2\n",
            "3\n",
            "4\n",
            "5\n"
          ],
          "name": "stdout"
        },
        {
          "output_type": "execute_result",
          "data": {
            "application/vnd.google.colaboratory.intrinsic+json": {
              "type": "string"
            },
            "text/plain": [
              "'b'"
            ]
          },
          "metadata": {
            "tags": []
          },
          "execution_count": 18
        }
      ]
    },
    {
      "cell_type": "code",
      "metadata": {
        "id": "Jv44miNWIHel"
      },
      "source": [
        "def solution(s, n):\n",
        "  answer = ''\n",
        "  a='abcdefghijklmnopqrstuvwxyz'\n",
        "  b='ABCDEFGHIJKLMNOPQRSTUVWXYZ'\n",
        "  for i in range(len(s)):\n",
        "    if s[i] == ' ':\n",
        "      answer+= ' '\n",
        "    for j in range(len(a)):\n",
        "      if s[i] == a[j]:\n",
        "        if  j+n >= 26:\n",
        "          answer = answer + a[j+n-26]\n",
        "        else:\n",
        "          answer = answer + a[j+n]\n",
        "\n",
        "    for k in range(len(b)):\n",
        "      if s[i] == b[k]:\n",
        "        if k+n >= 26:\n",
        "          answer = answer + b[k+n-26]\n",
        "        else:\n",
        "          answer = answer + b[k+n] \n",
        "  return answer"
      ],
      "execution_count": 60,
      "outputs": []
    },
    {
      "cell_type": "code",
      "metadata": {
        "colab": {
          "base_uri": "https://localhost:8080/",
          "height": 35
        },
        "id": "TlCGr4c0IN9k",
        "outputId": "be80d73b-2cd1-4675-b87e-651329afaeab"
      },
      "source": [
        "s = \"AB\"\n",
        "solution(s, 4)"
      ],
      "execution_count": 62,
      "outputs": [
        {
          "output_type": "execute_result",
          "data": {
            "application/vnd.google.colaboratory.intrinsic+json": {
              "type": "string"
            },
            "text/plain": [
              "'EF'"
            ]
          },
          "metadata": {
            "tags": []
          },
          "execution_count": 62
        }
      ]
    }
  ]
}
