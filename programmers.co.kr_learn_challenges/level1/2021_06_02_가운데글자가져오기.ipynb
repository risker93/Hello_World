{
  "nbformat": 4,
  "nbformat_minor": 0,
  "metadata": {
    "colab": {
      "name": "2021_06_02_가운데글자가져오기.ipynb",
      "provenance": []
    },
    "kernelspec": {
      "name": "python3",
      "display_name": "Python 3"
    },
    "language_info": {
      "name": "python"
    }
  },
  "cells": [
    {
      "cell_type": "markdown",
      "metadata": {
        "id": "6NIZsDIYEnJf"
      },
      "source": [
        "가운데 글자 가져오기\n",
        "\n",
        "문제 설명\n",
        "\n",
        "단어 s의 가운데 글자를 반환하는 함수, solution을 만들어 보세요. 단어의 길이가 \n",
        "짝수라면 가운데 두글자를 반환하면 됩니다.\n",
        "\n",
        "재한사항\n",
        "\n",
        "s는 길이가 1 이상, 100이하인 스트링입니다.\n",
        "\n",
        "입출력 예\n",
        "\n",
        "s\treturn\n",
        "\n",
        "\"abcde\"\t\"c\"\n",
        "\n",
        "\"qwer\""
      ]
    },
    {
      "cell_type": "code",
      "metadata": {
        "id": "CGD1-URzDTVh"
      },
      "source": [
        "s = 'asdf'\n"
      ],
      "execution_count": 1,
      "outputs": []
    },
    {
      "cell_type": "code",
      "metadata": {
        "colab": {
          "base_uri": "https://localhost:8080/",
          "height": 35
        },
        "id": "UyLCzXUVDXbb",
        "outputId": "0f945c85-1a51-4c81-a0a6-ae06bea40182"
      },
      "source": [
        "s[2]"
      ],
      "execution_count": 5,
      "outputs": [
        {
          "output_type": "execute_result",
          "data": {
            "application/vnd.google.colaboratory.intrinsic+json": {
              "type": "string"
            },
            "text/plain": [
              "'d'"
            ]
          },
          "metadata": {
            "tags": []
          },
          "execution_count": 5
        }
      ]
    },
    {
      "cell_type": "code",
      "metadata": {
        "id": "XS1_ncOiDZx4"
      },
      "source": [
        "def solution(s):\n",
        "    if len(s)%2==0:\n",
        "        return s[(len(s)//2)-1] + s[(len(s)//2)]\n",
        "    elif len(s)%2 !=0:\n",
        "        return s[(len(s)//2)]"
      ],
      "execution_count": 6,
      "outputs": []
    },
    {
      "cell_type": "code",
      "metadata": {
        "colab": {
          "base_uri": "https://localhost:8080/",
          "height": 35
        },
        "id": "TGK8QAJoDbM6",
        "outputId": "c7e6b609-fb89-4d15-809f-a6a376407897"
      },
      "source": [
        "solution(s)"
      ],
      "execution_count": 7,
      "outputs": [
        {
          "output_type": "execute_result",
          "data": {
            "application/vnd.google.colaboratory.intrinsic+json": {
              "type": "string"
            },
            "text/plain": [
              "'df'"
            ]
          },
          "metadata": {
            "tags": []
          },
          "execution_count": 7
        }
      ]
    },
    {
      "cell_type": "code",
      "metadata": {
        "id": "MhU-0JCWDd_k"
      },
      "source": [
        ""
      ],
      "execution_count": null,
      "outputs": []
    }
  ]
}