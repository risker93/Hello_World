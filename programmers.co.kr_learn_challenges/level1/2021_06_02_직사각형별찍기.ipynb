{
  "nbformat": 4,
  "nbformat_minor": 0,
  "metadata": {
    "colab": {
      "name": "2021_06_02_직사각형별찍기.ipynb",
      "provenance": [],
      "collapsed_sections": []
    },
    "kernelspec": {
      "name": "python3",
      "display_name": "Python 3"
    },
    "language_info": {
      "name": "python"
    }
  },
  "cells": [
    {
      "cell_type": "markdown",
      "metadata": {
        "id": "UAafmY_DsanG"
      },
      "source": [
        "이 문제에는 표준 입력으로 두 개의 정수 n과 m이 주어집니다.\n",
        "\n",
        "별(*) 문자를 이용해 가로의 길이가 n, 세로의 길이가 m인 직사각형 형태를 \n",
        "\n",
        "출력해보세요.\n",
        "\n",
        "제한 조건\n",
        "\n",
        "n과 m은 각각 1000 이하인 자연수입니다.\n",
        "\n",
        "예시\n",
        "\n",
        "입력\n",
        "\n",
        "5 3\n",
        "\n",
        "출력\n",
        "\n",
        "*****\n",
        "\n",
        "*****\n",
        "\n",
        "*****"
      ]
    },
    {
      "cell_type": "code",
      "metadata": {
        "colab": {
          "base_uri": "https://localhost:8080/"
        },
        "id": "92OxK_8NsZot",
        "outputId": "738533f9-7d3d-41e0-fa9e-9c1a4d2d310e"
      },
      "source": [
        "a, b = map(int, input().strip().split(' '))\n",
        "#print(a + b)\n",
        "def prt(a):\n",
        "  return print('*'*a)\n",
        "  \n",
        "def star(a, b):\n",
        "  for i in range(0, b):\n",
        "    prt(a) \n",
        "star(a, b)  "
      ],
      "execution_count": null,
      "outputs": [
        {
          "output_type": "stream",
          "text": [
            "5 3\n",
            "8\n",
            "*****\n",
            "*****\n",
            "*****\n"
          ],
          "name": "stdout"
        }
      ]
    },
    {
      "cell_type": "markdown",
      "metadata": {
        "id": "Bh57wYWCtZnn"
      },
      "source": [
        "문제를 풀고나니 \n",
        "\n",
        "a, b = map(int, input().strip().split(' '))\n",
        "\n",
        "print(a+b)\n",
        "\n",
        "answer =\n",
        "\n",
        "print(answer)\n",
        "\n",
        "이렇게 기본적으로 코드가 주어졌었다는걸 알았다.\n",
        "\n",
        "문제를 그저 바로 풀기보다는, 먼저 이해하고, 왜 이렇게 주어졌나 생각해볼 필요가 있는것 같다.\n",
        "\n",
        "주어진 코드를 이용해서 풀면"
      ]
    },
    {
      "cell_type": "code",
      "metadata": {
        "colab": {
          "base_uri": "https://localhost:8080/"
        },
        "id": "gcZU33ttt_Cn",
        "outputId": "ed282c10-6701-40ef-edb5-b051f38707f3"
      },
      "source": [
        "a, b = map(int, input().strip().split(' '))\n",
        "answer = ('*'*a +'\\n')*b\n",
        "print(answer)"
      ],
      "execution_count": 1,
      "outputs": [
        {
          "output_type": "stream",
          "text": [
            "3 5\n",
            "***\n",
            "***\n",
            "***\n",
            "***\n",
            "***\n",
            "\n"
          ],
          "name": "stdout"
        }
      ]
    },
    {
      "cell_type": "markdown",
      "metadata": {
        "id": "UoijSdLEuFH1"
      },
      "source": [
        "이렇게 문제를 풀수도 있다는걸 배웠다. "
      ]
    },
    {
      "cell_type": "code",
      "metadata": {
        "id": "HonxWDussp_L"
      },
      "source": [
        "def prt(b):\n",
        "  return print('*'*b)\n",
        "  \n",
        "def star(a, b):\n",
        "  for i in range(0, a):\n",
        "    prt(b) \n",
        "  "
      ],
      "execution_count": null,
      "outputs": []
    },
    {
      "cell_type": "code",
      "metadata": {
        "colab": {
          "base_uri": "https://localhost:8080/"
        },
        "id": "cbL2Gy6LtMIx",
        "outputId": "7aa7877f-4909-4d88-e2e7-fabe76ca9bc4"
      },
      "source": [
        "star(3,4)"
      ],
      "execution_count": null,
      "outputs": [
        {
          "output_type": "stream",
          "text": [
            "****\n",
            "****\n",
            "****\n"
          ],
          "name": "stdout"
        }
      ]
    },
    {
      "cell_type": "code",
      "metadata": {
        "colab": {
          "base_uri": "https://localhost:8080/"
        },
        "id": "Vy3hvPLntN3n",
        "outputId": "4d997826-d45c-454b-c932-c023b7b4f8f6"
      },
      "source": [
        "for i in range(a):\n",
        "  print(1)"
      ],
      "execution_count": null,
      "outputs": [
        {
          "output_type": "stream",
          "text": [
            "1\n",
            "1\n",
            "1\n"
          ],
          "name": "stdout"
        }
      ]
    },
    {
      "cell_type": "code",
      "metadata": {
        "id": "Xm-wJSenuGAj"
      },
      "source": [
        ""
      ],
      "execution_count": null,
      "outputs": []
    }
  ]
}