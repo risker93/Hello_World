{
  "nbformat": 4,
  "nbformat_minor": 0,
  "metadata": {
    "colab": {
      "name": "2021_06_08_나누어떨어지는숫자배열.ipynb",
      "provenance": [],
      "authorship_tag": "ABX9TyPxl0fXiG2uj4lSjkGSN0PG",
      "include_colab_link": true
    },
    "kernelspec": {
      "name": "python3",
      "display_name": "Python 3"
    },
    "language_info": {
      "name": "python"
    }
  },
  "cells": [
    {
      "cell_type": "markdown",
      "metadata": {
        "id": "view-in-github",
        "colab_type": "text"
      },
      "source": [
        "<a href=\"https://colab.research.google.com/github/risker93/Hello_World/blob/main/2021_06_08_%EB%82%98%EB%88%84%EC%96%B4%EB%96%A8%EC%96%B4%EC%A7%80%EB%8A%94%EC%88%AB%EC%9E%90%EB%B0%B0%EC%97%B4.ipynb\" target=\"_parent\"><img src=\"https://colab.research.google.com/assets/colab-badge.svg\" alt=\"Open In Colab\"/></a>"
      ]
    },
    {
      "cell_type": "markdown",
      "metadata": {
        "id": "z_t2GCsAipEh"
      },
      "source": [
        "나누어 떨어지는 숫자 배열\n",
        "\n",
        "문제 설명\n",
        "\n",
        "array의 각 element 중 divisor로 나누어 떨어지는 값을 오름차순으로 정렬한 배열을 반환하는 함수, solution을 작성해주세요.\n",
        "\n",
        "divisor로 나누어 떨어지는 element가 하나도 없다면 배열에 -1을 담아 반환하세요.\n",
        "\n",
        "제한사항\n",
        "\n",
        "arr은 자연수를 담은 배열입니다.\n",
        "\n",
        "정수 i, j에 대해 i ≠ j 이면 arr[i] ≠ arr[j] 입니다.\n",
        "\n",
        "divisor는 자연수입니다.\n",
        "\n",
        "array는 길이 1 이상인 배열입니다.\n",
        "\n",
        "입출력 예\n",
        "\n",
        "arr\tdivisor\treturn\n",
        "\n",
        "[5, 9, 7, 10]\t5\t[5, 10]\n",
        "\n",
        "[2, 36, 1, 3]\t1\t[1, 2, 3, 36]\n",
        "\n",
        "[3,2,6]\t10\t[-1]\n",
        "\n",
        "입출력 예 설명\n",
        "\n",
        "입출력 예#1\n",
        "\n",
        "arr의 원소 중 5로 나누어 떨어지는 원소는 5와 10입니다. 따라서 [5, 10]을 리턴합니다.\n",
        "\n",
        "입출력 예#2\n",
        "\n",
        "arr의 모든 원소는 1으로 나누어 떨어집니다. 원소를 오름차순으로 정렬해 [1, 2, 3, 36]을 리턴합니다.\n",
        "\n",
        "\n",
        "\n",
        "입출력 예#3\n",
        "\n",
        "3, 2, 6은 10으로 나누어 떨어지지 않습니다. 나누어 떨어지는 원소가 없으므로 [-1]을 리턴합니다."
      ]
    },
    {
      "cell_type": "code",
      "metadata": {
        "id": "w2pYLlKzjEmB"
      },
      "source": [
        "def solution(arr, divisor):\n",
        "  answer = []\n",
        "  for i in arr:\n",
        "    if i%divisor==0:\n",
        "      answer.append(i)\n",
        "  if not answer:\n",
        "    answer.append(-1)\n",
        "  return sorted(answer)"
      ],
      "execution_count": null,
      "outputs": []
    },
    {
      "cell_type": "markdown",
      "metadata": {
        "id": "SraMMR4ijN-l"
      },
      "source": [
        "오늘 문제는 그다지 어렵지 않았다."
      ]
    },
    {
      "cell_type": "code",
      "metadata": {
        "id": "LkWxl11GeF_O"
      },
      "source": [
        "def solution(arr, divisor): return sorted([n for n in arr if n%divisor == 0]) or [-1]"
      ],
      "execution_count": null,
      "outputs": []
    },
    {
      "cell_type": "markdown",
      "metadata": {
        "id": "foAXCsknjSTo"
      },
      "source": [
        "다른사람의 풀이를 보도록 하자.\n",
        "\n",
        "모르던 내용인데, 파이썬에서 comprehension을 사용할때 앞의 내용이 참일경우 앞에내용만, 거짓일경우 or 뒤에까지 실행이 된다.\n",
        "\n"
      ]
    },
    {
      "cell_type": "code",
      "metadata": {
        "id": "N0iDoKzqjruP"
      },
      "source": [
        ""
      ],
      "execution_count": null,
      "outputs": []
    }
  ]
}
