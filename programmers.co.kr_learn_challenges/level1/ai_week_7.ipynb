{
  "nbformat": 4,
  "nbformat_minor": 0,
  "metadata": {
    "colab": {
      "name": "ai_week_7.ipynb",
      "provenance": []
    },
    "kernelspec": {
      "name": "python3",
      "display_name": "Python 3"
    },
    "language_info": {
      "name": "python"
    }
  },
  "cells": [
    {
      "cell_type": "markdown",
      "metadata": {
        "id": "Nw2yHe3kd5hB"
      },
      "source": [
        "#해시테이블\n",
        "\n",
        "- 키값과 Value 데이터를 가진 구조를 해시 테이블이라 부르고 해시 테이블을 이용해서 탐색\n",
        "\n",
        "- 키값을 해시 함수에 넣어서 계산하면 해시 테이블의 주소 값이 나오는데 계산된 값은 해시값 또는 해시 주소라고 함.\n",
        "\n",
        "- 주소와 우편번호의 관계\n"
      ]
    },
    {
      "cell_type": "code",
      "metadata": {
        "colab": {
          "base_uri": "https://localhost:8080/"
        },
        "id": "eWGIRpx8fMPl",
        "outputId": "298088ff-64e9-4e79-8d1a-a5128962e3ec"
      },
      "source": [
        "#딕셔너리로 정보찾기\n",
        "d = {\"Justin\":13, \"John\":10, \"Mike\":9}\n",
        "print(d[\"Justin\"])\n",
        "print()\n",
        "d[\"Summer\"] = 1\n",
        "d"
      ],
      "execution_count": 4,
      "outputs": [
        {
          "output_type": "stream",
          "text": [
            "13\n",
            "\n"
          ],
          "name": "stdout"
        },
        {
          "output_type": "execute_result",
          "data": {
            "text/plain": [
              "{'John': 10, 'Justin': 13, 'Mike': 9, 'Summer': 1}"
            ]
          },
          "metadata": {
            "tags": []
          },
          "execution_count": 4
        }
      ]
    },
    {
      "cell_type": "code",
      "metadata": {
        "id": "dU6fDtXEfceZ"
      },
      "source": [
        "d ={}\n",
        "d =dict()\n",
        "#둘다 같음\n"
      ],
      "execution_count": 5,
      "outputs": []
    },
    {
      "cell_type": "code",
      "metadata": {
        "id": "chGD06yrgI93"
      },
      "source": [
        "s = {1,2,3} #1,2,3 이 포함된 집합\n",
        "d = {1:2, 3:4} #키1에2, 키3에 4가 있는 딕셔너리\n",
        "\n",
        "s = set() #빈집합 s\n",
        "d = dict() #빈 딕셔너리"
      ],
      "execution_count": 6,
      "outputs": []
    },
    {
      "cell_type": "code",
      "metadata": {
        "colab": {
          "base_uri": "https://localhost:8080/"
        },
        "id": "w4jiOLpOhU3q",
        "outputId": "a449784d-ee13-4642-e5cc-917955b945ec"
      },
      "source": [
        "#딕셔너리를 이용해 동명이인을 찾는 알고리즘\n",
        "\n",
        "#두번 이상 나온 이름찾기\n",
        "#입력: 이름이 n개 들어 있는 리스트\n",
        "#출력: n개의 이름 중 반복되는 이름의 집합\n",
        "\n",
        "def find_same_name(a):\n",
        "  #1단계: 각 이름의 등장 횟수를 딕셔너리로 만듦\n",
        "  name_dict = {}\n",
        "  for name in a: #리스트 a에 있는 자료들을 차례로 반복\n",
        "    if name in name_dict: #이름이 name_dict에 있으면\n",
        "      name_dict[name] += 1 #등장횟수를 1 증가\n",
        "    else:                 #새이름이면\n",
        "      name_dict[name] = 1  #등장횟수를 1로 저장\n",
        "  #2단계: 만들어진 딕셔너리에서 등장 횟수가 2 이상인 것을 결과에 추가\n",
        "  result = set()  #결과값을 저장할 빈 집합\n",
        "  for name in name_dict: #딕셔너리 name_dict 에 있는 자료들을 차례로 반복\n",
        "    if name_dict[name] >= 2:\n",
        "      result.add(name)\n",
        "\n",
        "  return result\n",
        "\n",
        "name = ['Tom', 'Jerry','Mike','Tom']\n",
        "print(find_same_name(name))\n",
        "\n",
        "name2 = [\"Tom\", \"Jerry\", \"Mike\", \"Tom\", \"Mike\"]\n",
        "print(find_same_name(name2) )\n"
      ],
      "execution_count": 7,
      "outputs": [
        {
          "output_type": "stream",
          "text": [
            "{'Tom'}\n",
            "{'Mike', 'Tom'}\n"
          ],
          "name": "stdout"
        }
      ]
    },
    {
      "cell_type": "markdown",
      "metadata": {
        "id": "OJx0Yyq2kwK1"
      },
      "source": [
        "계산 복잡도: 시간 복잡도와 공간 복잡도\n",
        "\n",
        "- 딕셔너리를 이용해 동명이인을 찾는 문제는 모든 사람을 서로 비교하는 방법보다 더 나은 시간 복잡도를 가짐\n",
        "\n",
        "- 하지만 딕셔너리를 만들어 그 안에 모든 이름과 등장 횟수를 지정해야 하므로 더 많은 저장 공간을 사용 > 공간복잡도를 희생해 시간복잡도를 개선\n",
        "\n",
        "- 알고리즘 분석을 정확하게 하려면 시간 복잡도뿐 아니라 공간 복잡도도 함꼐 고려해야 함\n",
        "\n",
        "- 현대 컴퓨터는 대체로 저장 공간이 매우 크기 때문에 상대적으로 공간복잡도에 덜 민감한 편 \n",
        "\n"
      ]
    },
    {
      "cell_type": "code",
      "metadata": {
        "colab": {
          "base_uri": "https://localhost:8080/"
        },
        "id": "XKQCTPoKj-jC",
        "outputId": "cb03de51-9ab9-4beb-e409-2bd82b340423"
      },
      "source": [
        "#딕셔너리로 학생 번호에 해당하는 학생 이름 찾기\n",
        "#입력: 학생 명부 딕셔너리 s_info, 찾는 학생 번호 find_no\n",
        "#출력: 해당하는 학생 이름, 해당하는 학생 번호가 없으면 \"?\"\n",
        "\n",
        "def get_name(s_info, find_no):\n",
        "  if find_no in s_info:\n",
        "    return s_info[find_no]\n",
        "  else:\n",
        "    return \"?\"\n",
        "\n",
        "sample_info = {\n",
        "    39: \"Justin\",\n",
        "    14: \"John\",\n",
        "    67: \"Mike\",\n",
        "    105: \"Summer\"\n",
        "}\n",
        "\n",
        "print(get_name(sample_info, 105))\n",
        "print(get_name(sample_info, 777))"
      ],
      "execution_count": 9,
      "outputs": [
        {
          "output_type": "stream",
          "text": [
            "Summer\n",
            "?\n"
          ],
          "name": "stdout"
        }
      ]
    },
    {
      "cell_type": "markdown",
      "metadata": {
        "id": "gDeTjYW2qQpE"
      },
      "source": [
        "#모든 친구를 찾는 알고리즘"
      ]
    },
    {
      "cell_type": "code",
      "metadata": {
        "colab": {
          "base_uri": "https://localhost:8080/"
        },
        "id": "XvMmmE-KmA6E",
        "outputId": "0db25f77-2a86-46fd-fce3-9a23f7c3d1c0"
      },
      "source": [
        "#친구 리스트에서 자신의 모든 친구를 찾는 알고리즘\n",
        "#입력: 친구 관계 그래프 g, 모든 친구를 찾을 자신 start\n",
        "#출력: 모든 친구의 이름\n",
        "\n",
        "def print_all_friends(g, start):\n",
        "  qu = []      #기억장소1: 앞으로 처리해야 할 사람들을 큐에 저장\n",
        "  done = set() # 기억장소2: 이미 큐에 추가한 사람들을 집합에 기록(중복방지)\n",
        "\n",
        "  qu.append(start) #자신을 큐에 넣고 시작\n",
        "  done.add(start)  #집합에도 추가\n",
        "\n",
        "  while qu:        #큐에 처리할 사람이 남아 있는 동안\n",
        "    p = qu.pop(0)  #큐에서 처리 대상을 한 명 꺼내\n",
        "    print(p)       #이름을 출력하고\n",
        "    for x in g[p]:  #그의 친구들 중에\n",
        "      if x not in done: #아직 큐에 추가된 적이 없는 사람을\n",
        "        qu.append(x)  #큐에 추가하고\n",
        "        done.add(x)   #집합에도 추가\n",
        "\n",
        "#친구 관계 리스트\n",
        "#A와 B가 친구이면\n",
        "#A의 친구 리스트에도 B가 나오고, B의 친구 리스트에도 A가 나옴\n",
        "\n",
        "\n",
        "f_info = {\n",
        "    'Summer':['John', 'Justin', 'Mike'],\n",
        "    'John':['Summer','Justin'],\n",
        "    'Justin':['John','Summer', 'Mike', 'May'],\n",
        "    'Mike':['Summer','Justin'],\n",
        "    'May':['Justin','Kim'],\n",
        "    'Kim':['May'],\n",
        "    'Tom':['Jerry'],\n",
        "    'Jerry':['Tom']\n",
        "}\n",
        "\n",
        "print_all_friends(f_info, 'Summer')\n",
        "print()\n",
        "print_all_friends(f_info, 'Jerry')"
      ],
      "execution_count": 15,
      "outputs": [
        {
          "output_type": "stream",
          "text": [
            "Summer\n",
            "John\n",
            "Justin\n",
            "Mike\n",
            "May\n",
            "Kim\n",
            "\n",
            "Jerry\n",
            "Tom\n"
          ],
          "name": "stdout"
        }
      ]
    },
    {
      "cell_type": "markdown",
      "metadata": {
        "id": "OjngziCQuIOZ"
      },
      "source": [
        "그래프의 개념 Graph\n",
        "\n",
        "- 현실세계의 복잡한 작업을 시각적으로 구조화하여 표현\n",
        "\n",
        "- 이해하기 쉽고 가시적으로 설명할 때 유용한 도구\n",
        "\n",
        "- 현상이나 사물을 정점(Vertex)과 간선(Edge)으로 표현한 것\n",
        "\n",
        "- 선형 자료 구조나 트리 자료 구조로 표현하기 어려운 다대다 관계를 가지는 원소들을 표현하기 위한 자료구조 \n",
        "\n",
        "- 주요 요소간의 관계, 거리, 비용 등 다양한 주제를 표현하고 설계할 때 유용\n",
        "\n",
        "- 두 정점이 간선으로 연결되어 있으면 인접(Aduacent) 하다고 함\n",
        "\n",
        "- 간선은 두 정점의 관계를 나타냄\n",
        "\n",
        "- 그래프의 예\n",
        "\n",
        "- 전국의 도로망, 도시의 지하철, 네트워크 구성도, 전산망, 인간관계, 사회조직, 데이터구조, 분자, 생물 유전자 관계 등 \n",
        "\n",
        "- 그래프는 정점의 모음과 이 정점을 잇는 간선의 모음 간의 결합\n",
        "\n",
        "- 가중치는 친밀감의 정도를 표현하며 거리, 시간 등이 될 수도 있음\n",
        "\n",
        "그래프 종류\n",
        "\n",
        "- 무향 그래프: 간선에 방향성이 없는 그래프\n",
        "\n",
        "- 유향 그래프: 간선에 방향성이 있는 그래프\n",
        "   방향은 기업간의 공급 관계, 작업의 선후 관계 등 표현 가능\n",
        "\n",
        "- 가중 그래프: 그래프의 정점을 연결하는 간선 마다 일정한 값을 할당한 그래프\n",
        "\n",
        "- 간선에 할당하는 값은 각 정점간의 거리나 비용과 같은 속성이 될 수 있음\n",
        "\n",
        "그래프 용어\n",
        "\n",
        "- 인접 : 간선으로 연결되어 있는 두 정점을 일컫는 말\n",
        "   이웃 관계에 있다고 표현하기도 함\n",
        "\n",
        "- 경로 : 그래프에서 간선을 따라 갈 수 있는 길을 순서대로 나열한 것 \n",
        "\n",
        "- 그래프 G1에서 정점 A에서 정점 C까지의 경로는 A-B-C ,A-D-C, A-E-B-C 등이 있음 이런식\n",
        "\n",
        "- A-B-C , A-D-C 경로의 길이는 2 A-E-B-C의 길이는 3임\n",
        "\n",
        "차수\n",
        "\n",
        "- 그래프에서 임의의 정점의 차수는 해당 정점에 연결된 간선의 개수\n",
        "\n",
        "- 그래프에서 모든 정점의 차수의 총 합은 모든 간선 개수의 2배\n",
        "\n",
        "그래프의 표현\n",
        "\n",
        "- 그래프는 정점의 집합과 간선의 집합의 결합\n",
        "\n",
        "- 그래프를 표현하는 문제는 정점간의 집합과 간선의 집합의 표현 문제로 생각할 수 있음\n",
        "\n",
        "- 간선은 정점과 정점이 인접 관계에 있음을 나타내는 존재\n",
        "\n",
        "- 그래프의 표현 문제는 간선, 즉 정점과 정점의 인접 관계를 어떻게 나타내는가의 문제임\n",
        "\n",
        "- 행렬을 이용하는 방식은 인접 행렬(Adjacency Matrix)\n",
        "\n",
        "- 리스트를 이용하는 방식은 인접 리스트(Adjacency List)\n",
        "\n",
        "\n",
        "인접행렬\n",
        "\n",
        "- 그래프의 두 정점을 연결한 간선의 유무를 행렬로 저장\n",
        "\n",
        "- 정점끼리의 인접 관계를 나타내는 행렬\n",
        "\n",
        "- 각 정점을 행과 열의 원소로 표현\n",
        "\n",
        "- 두 정점을 연결하는 간선이 존재하면 행렬의 원소는 1, 존재하지 않으면 0으로 표현\n",
        "\n",
        "- 인접 행렬은 이해라기 쉽고 간선의 존재 여부를 즉각 알 수 있음\n",
        "\n",
        "- n * n 행렬로 표현(n: 정점의 총 수)\n",
        "\n",
        "- 원소 (i,j) = 1 정점 i와 정점 j사이에 간선이 있음\n",
        "\n",
        "- 원소 (i,j) = 0 : 정점 i와 정점 j 사이에 간선이 없음\n",
        "\n",
        "- n * n 행렬이 필요하므로 n^2에 비례하는 공간이 필요\n",
        "\n",
        "- 행렬의 준비과정에서 행렬의 모든 원소를 채우는데만 n2에 비례하는 시간 필요\n",
        "\n",
        "무향 그래프의 경우\n",
        "\n",
        "- 원소 (i,j)는 정점 i 로 부터 정점 j 로 연결되는 간선이 있는지를 나타냄\n",
        "\n",
        "가중치 있는 그래프의 경우\n",
        "\n",
        "- 원소(i, j)는 1 대신에 가중치를 가짐\n"
      ]
    },
    {
      "cell_type": "code",
      "metadata": {
        "id": "C8FRJ7d6sxQm"
      },
      "source": [
        ""
      ],
      "execution_count": null,
      "outputs": []
    }
  ]
}