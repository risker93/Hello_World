{
  "nbformat": 4,
  "nbformat_minor": 0,
  "metadata": {
    "colab": {
      "name": "2021_05_11_자연수뒤집어배열로만들기.ipynb",
      "provenance": [],
      "collapsed_sections": []
    },
    "kernelspec": {
      "name": "python3",
      "display_name": "Python 3"
    },
    "language_info": {
      "name": "python"
    }
  },
  "cells": [
    {
      "cell_type": "markdown",
      "metadata": {
        "id": "wTYrI4QW-Y-y"
      },
      "source": [
        "문제 설명\n",
        "\n",
        "자연수 n을 뒤집어 각 자리 숫자를 원소로 가지는 배열 형태로 리턴해주세요. \n",
        "\n",
        "예를들어 n이 12345이면 [5,4,3,2,1]을 리턴합니다.\n",
        "\n",
        "\n",
        "제한 조건\n",
        "\n",
        "n은 10,000,000,000이하인 자연수입니다.\n",
        "\n",
        "입출력 예\n",
        "\n",
        "n\treturn\n",
        "\n",
        "12345\t[5,4,3,2,1]"
      ]
    },
    {
      "cell_type": "code",
      "metadata": {
        "id": "oOP41fAg-ceK"
      },
      "source": [
        "def solution(n):\n",
        "    return [int(i) for i in str(n)]."
      ],
      "execution_count": 23,
      "outputs": []
    },
    {
      "cell_type": "code",
      "metadata": {
        "colab": {
          "base_uri": "https://localhost:8080/"
        },
        "id": "I-2vTbn0CaSj",
        "outputId": "39561f54-165c-4ac5-d8ba-56babed09d7b"
      },
      "source": [
        "#제일 먼저 생각남\n",
        "print([int(i) for i in str(n)])"
      ],
      "execution_count": 49,
      "outputs": [
        {
          "output_type": "stream",
          "text": [
            "[1, 2, 3, 4, 5]\n"
          ],
          "name": "stdout"
        }
      ]
    },
    {
      "cell_type": "code",
      "metadata": {
        "colab": {
          "base_uri": "https://localhost:8080/"
        },
        "id": "3_R4UDLrBhSF",
        "outputId": "7698d661-fc26-49d5-8340-165fe5f92846"
      },
      "source": [
        "#역순으로 바꿔보자. 문자열로 변환해 하나씩꺼내서 리스트로 만들어주기\n",
        "a = [int(i) for i in str(n)]\n",
        "print(a)\n",
        "a.reverse()\n",
        "a\n",
        "\n"
      ],
      "execution_count": 48,
      "outputs": [
        {
          "output_type": "stream",
          "text": [
            "[1, 2, 3, 4, 5]\n"
          ],
          "name": "stdout"
        },
        {
          "output_type": "execute_result",
          "data": {
            "text/plain": [
              "[5, 4, 3, 2, 1]"
            ]
          },
          "metadata": {
            "tags": []
          },
          "execution_count": 48
        }
      ]
    },
    {
      "cell_type": "code",
      "metadata": {
        "colab": {
          "base_uri": "https://localhost:8080/"
        },
        "id": "O8OS8IcWDBIo",
        "outputId": "e022edfa-55e9-4197-d6e4-ad20a9725901"
      },
      "source": [
        "#파이썬의 내장함수 = list에서 제공해주는 함수가 아니다.\n",
        "#iterator의 요소를 역순으로 리턴\n",
        "#원본을 변경하지는 않는다.\n",
        "#리버스 객체를 반환함.\n",
        "#이를 출력하려면 리스트로 캐스팅하면됨\n",
        "\n",
        "print(list(reversed([int(i) for i in str(n)])))"
      ],
      "execution_count": 50,
      "outputs": [
        {
          "output_type": "stream",
          "text": [
            "[5, 4, 3, 2, 1]\n"
          ],
          "name": "stdout"
        }
      ]
    },
    {
      "cell_type": "code",
      "metadata": {
        "colab": {
          "base_uri": "https://localhost:8080/"
        },
        "id": "bUF52puZ_AbX",
        "outputId": "701d740a-a222-4ddf-9518-591a2a3aefbc"
      },
      "source": [
        "#다른방법을 알아봤다. \n",
        "#맵함수 사용법은 list(map(함수,리스트))\n",
        "#map은 원본 리스트를 변경하지 않고 새 리스트를 생성\n",
        "#리스트 말고 이터러블 한 객체는 다 사용 가능하다고 한다.\n",
        "\n",
        "n = 12345\n",
        "n_list = list(map(int, str(n)))\n",
        "print(n_list)\n",
        "n_list.reverse()\n",
        "print(n_list)\n"
      ],
      "execution_count": 51,
      "outputs": [
        {
          "output_type": "stream",
          "text": [
            "[1, 2, 3, 4, 5]\n",
            "[5, 4, 3, 2, 1]\n"
          ],
          "name": "stdout"
        }
      ]
    },
    {
      "cell_type": "code",
      "metadata": {
        "colab": {
          "base_uri": "https://localhost:8080/"
        },
        "id": "CpIZ13ZPDwuI",
        "outputId": "29043a87-6823-4618-9756-19a782a4175b"
      },
      "source": [
        "#위의 방법들은 뭔가 불만족 스럽다.\n",
        "#포문 사용법에 원초적인 방법이 있었다\n",
        "\n",
        "#계속 생각해온 방식은 문자형으로 변환후 하나씩 꺼내서 리스트로 만들어서 리스트를 역순으로 바꾸는거\n",
        "#하지만 문자형으로 변환후 뒤에서부터 꺼내서 리스트를 만들면 된다!\n",
        "\n",
        "for i in str(n)[::-1]:\n",
        "  print(i)"
      ],
      "execution_count": 53,
      "outputs": [
        {
          "output_type": "stream",
          "text": [
            "5\n",
            "4\n",
            "3\n",
            "2\n",
            "1\n"
          ],
          "name": "stdout"
        }
      ]
    },
    {
      "cell_type": "code",
      "metadata": {
        "colab": {
          "base_uri": "https://localhost:8080/"
        },
        "id": "wPfNYYrCGIfg",
        "outputId": "264bcd14-8f4e-4792-f531-f635fb295d3f"
      },
      "source": [
        "a = [int(i) for i in str(n)[::-1]]\n",
        "a"
      ],
      "execution_count": 55,
      "outputs": [
        {
          "output_type": "execute_result",
          "data": {
            "text/plain": [
              "[5, 4, 3, 2, 1]"
            ]
          },
          "metadata": {
            "tags": []
          },
          "execution_count": 55
        }
      ]
    },
    {
      "cell_type": "code",
      "metadata": {
        "id": "stVkUQ_NGkif"
      },
      "source": [
        "#이렇게 함수가 완성되었다. 정말로 맘에 든다.\n",
        "def solution(n):\n",
        "    return [int(i) for i in str(n)[::-1]]"
      ],
      "execution_count": 58,
      "outputs": []
    },
    {
      "cell_type": "code",
      "metadata": {
        "colab": {
          "base_uri": "https://localhost:8080/"
        },
        "id": "gzIJvpwxGpfT",
        "outputId": "7449ced5-c9f1-4f70-d8d1-70799375ad7d"
      },
      "source": [
        "solution(n)"
      ],
      "execution_count": 57,
      "outputs": [
        {
          "output_type": "execute_result",
          "data": {
            "text/plain": [
              "[5, 4, 3, 2, 1]"
            ]
          },
          "metadata": {
            "tags": []
          },
          "execution_count": 57
        }
      ]
    },
    {
      "cell_type": "markdown",
      "metadata": {
        "id": "mTERliLOILY-"
      },
      "source": [
        "포문에 관해서 기억이 나는게 반복문을 돌릴때 반복을 많이할수록 자원을 많이 쓴다는 것이었다.\n",
        "\n",
        "함수를 호출해서 문제를 해결하는것이 반복문을 돌리는것보다 더 효율적이지 않을까\n",
        "\n",
        "위의 맵핑을 사용하는 방법을 한줄로 만들어 보자."
      ]
    },
    {
      "cell_type": "code",
      "metadata": {
        "id": "Yd65oQttIrCr"
      },
      "source": [
        "def solution(n):\n",
        "    return list(map(int, reversed(str(n))))"
      ],
      "execution_count": 68,
      "outputs": []
    },
    {
      "cell_type": "code",
      "metadata": {
        "colab": {
          "base_uri": "https://localhost:8080/"
        },
        "id": "cbSkjypvI6hr",
        "outputId": "578a3fac-b5a8-4951-8c65-4cd02470d6e7"
      },
      "source": [
        "solution(n)"
      ],
      "execution_count": 69,
      "outputs": [
        {
          "output_type": "execute_result",
          "data": {
            "text/plain": [
              "[5, 4, 3, 2, 1]"
            ]
          },
          "metadata": {
            "tags": []
          },
          "execution_count": 69
        }
      ]
    },
    {
      "cell_type": "markdown",
      "metadata": {
        "id": "oXAkcVO-JOSG"
      },
      "source": [
        "위의 솔루션을 제출해보니 포문으로 만든 솔루션보다 처리속도가 빨랏다.\n",
        "즉, 포문보다는 함수를 호출하는게 훨씬 효율적이다.\n",
        "앞으로 알고리즘을 작성할때는 함수를 호출하는 방향으로 알고리즘을 만드는게 좋을것같다.\n"
      ]
    },
    {
      "cell_type": "code",
      "metadata": {
        "id": "ONSnPO93JZ-z"
      },
      "source": [
        ""
      ],
      "execution_count": null,
      "outputs": []
    }
  ]
}