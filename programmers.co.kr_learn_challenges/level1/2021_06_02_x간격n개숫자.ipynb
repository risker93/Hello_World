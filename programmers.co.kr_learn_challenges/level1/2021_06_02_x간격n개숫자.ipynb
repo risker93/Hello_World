{
  "nbformat": 4,
  "nbformat_minor": 0,
  "metadata": {
    "colab": {
      "name": "2021_06_02_x간격n개숫자.ipynb",
      "provenance": [],
      "collapsed_sections": []
    },
    "kernelspec": {
      "name": "python3",
      "display_name": "Python 3"
    },
    "language_info": {
      "name": "python"
    }
  },
  "cells": [
    {
      "cell_type": "markdown",
      "metadata": {
        "id": "Q4ZRxUNPuux_"
      },
      "source": [
        "x만큼 간격이 있는 n개의 숫자\n",
        "\n",
        "문제 설명\n",
        "\n",
        "함수 solution은 정수 x와 자연수 n을 입력 받아, x부터 시작해 x씩 증가하는 숫자를 \n",
        "\n",
        "n개 지니는 리스트를 리턴해야 합니다. 다음 제한 조건을 보고, 조건을 만족하는 \n",
        "\n",
        "함수, solution을 완성해주세요.\n",
        "\n",
        "제한 조건\n",
        "\n",
        "x는 -10000000 이상, 10000000 이하인 정수입니다.\n",
        "\n",
        "n은 1000 이하인 자연수입니다.\n",
        "\n",
        "입출력 예\n",
        "\n",
        "x\tn\tanswer\n",
        "\n",
        "2\t5\t[2,4,6,8,10]\n",
        "\n",
        "4\t3\t[4,8,12]\n",
        "\n",
        "-4\t2\t[-4, -8]"
      ]
    },
    {
      "cell_type": "code",
      "metadata": {
        "id": "cUb9Z8_guk46"
      },
      "source": [
        "def solution(x, n):\n",
        "  answer = []\n",
        "  num = x\n",
        "  for i in range(n):\n",
        "    answer.append(num)\n",
        "    num += x  \n",
        "  return answer"
      ],
      "execution_count": 28,
      "outputs": []
    },
    {
      "cell_type": "code",
      "metadata": {
        "colab": {
          "base_uri": "https://localhost:8080/"
        },
        "id": "SOOx8yb2vLiP",
        "outputId": "42f05212-e0d9-4b92-a13c-846002344206"
      },
      "source": [
        "solution(2, 5)"
      ],
      "execution_count": 29,
      "outputs": [
        {
          "output_type": "execute_result",
          "data": {
            "text/plain": [
              "[2, 4, 6, 8, 10]"
            ]
          },
          "metadata": {
            "tags": []
          },
          "execution_count": 29
        }
      ]
    },
    {
      "cell_type": "markdown",
      "metadata": {
        "id": "5sDoti3NyuJt"
      },
      "source": [
        "다른사람의 풀이를 보자. comprehension을 이용하였다.\n",
        "\n",
        "i * x + x 라는 간단한 수식으로 문제를 풀 수 있었다.\n",
        "\n",
        "훈륭하다. 문제를 풀 방법을 생각하고 수식으로 표현할수 있다면. \n",
        "\n",
        "이렇게 단순하게도 풀수 있다는걸 배웠다."
      ]
    },
    {
      "cell_type": "code",
      "metadata": {
        "id": "CP04ss6kyrNm"
      },
      "source": [
        "def number_generator(x, n):\n",
        "    return [i * x + x for i in range(n)]\n",
        "print(number_generator(2, 5))"
      ],
      "execution_count": null,
      "outputs": []
    },
    {
      "cell_type": "code",
      "metadata": {
        "id": "jOIw32VGvP73"
      },
      "source": [
        ""
      ],
      "execution_count": 14,
      "outputs": []
    }
  ]
}