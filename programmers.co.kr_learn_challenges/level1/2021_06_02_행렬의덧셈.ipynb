{
  "nbformat": 4,
  "nbformat_minor": 0,
  "metadata": {
    "colab": {
      "name": "2021_06_02_행렬의덧셈.ipynb",
      "provenance": []
    },
    "kernelspec": {
      "name": "python3",
      "display_name": "Python 3"
    },
    "language_info": {
      "name": "python"
    }
  },
  "cells": [
    {
      "cell_type": "markdown",
      "metadata": {
        "id": "KSkBoWF3zeyg"
      },
      "source": [
        "행렬의 덧셈\n",
        "\n",
        "문제 설명\n",
        "\n",
        "행렬의 덧셈은 행과 열의 크기가 같은 두 행렬의 같은 행, 같은 열의 값을 서로 더한 \n",
        "결과가 됩니다. \n",
        "\n",
        "2개의 행렬 arr1과 arr2를 입력받아, 행렬 덧셈의 결과를 반환하는 \n",
        "함수, solution을 완성해주세요.\n",
        "\n",
        "\n",
        "제한 조건\n",
        "\n",
        "행렬 arr1, arr2의 행과 열의 길이는 500을 넘지 않습니다.\n",
        "\n",
        "입출력 예\n",
        "\n",
        "arr1\tarr2\treturn\n",
        "\n",
        "[[1,2],[2,3]]\t[[3,4],[5,6]]\t[[4,6],[7,9]]\n",
        "\n",
        "[[1],[2]]\t[[3],[4]]\t[[4],[6]]\n",
        "\n"
      ]
    },
    {
      "cell_type": "code",
      "metadata": {
        "id": "lxvqGFjgzZ7m"
      },
      "source": [
        "#[[1,2], \n",
        "# [2,3]]\n",
        "\n",
        "# [[3,4],\n",
        "#  [5,6]]\n",
        "\n"
      ],
      "execution_count": null,
      "outputs": []
    },
    {
      "cell_type": "code",
      "metadata": {
        "id": "-jZw5epW-0Ek"
      },
      "source": [
        "def solution(arr1, arr2):\n",
        "  answer = []\n",
        "  for i, v in enumerate(arr1):\n",
        "    inner = []\n",
        "    for i2, v2 in enumerate(v):\n",
        "      inner.append(arr1[i][i2] + arr2[i][i2])\n",
        "    answer.append(inner)\n",
        "  return answer"
      ],
      "execution_count": null,
      "outputs": []
    },
    {
      "cell_type": "code",
      "metadata": {
        "colab": {
          "base_uri": "https://localhost:8080/"
        },
        "id": "Bars8Zsb2GQU",
        "outputId": "1d011878-2578-49b8-d65b-9d74d3cc6cb0"
      },
      "source": [
        "solution([[1,2],[2,3]],[[3,4],[5,6]] )\n",
        " #find_idx([[1],[2]])"
      ],
      "execution_count": null,
      "outputs": [
        {
          "output_type": "execute_result",
          "data": {
            "text/plain": [
              "[[4, 6], [7, 9]]"
            ]
          },
          "metadata": {
            "tags": []
          },
          "execution_count": 74
        }
      ]
    },
    {
      "cell_type": "markdown",
      "metadata": {
        "id": "EZ3FNYOGDF2k"
      },
      "source": [
        "이 문제는 풀기 너무 어려웠다.\n",
        "\n",
        "다른 사람들의 풀이를 보고 어떻게 쉽게 접근했나 배워야 겠다.\n",
        "\n",
        "\n",
        "\n",
        "\n"
      ]
    },
    {
      "cell_type": "code",
      "metadata": {
        "colab": {
          "base_uri": "https://localhost:8080/"
        },
        "id": "czG-ibg-2KSr",
        "outputId": "c24b2ac1-f26d-48fd-b3f0-1e37d77af30b"
      },
      "source": [
        "len([1])"
      ],
      "execution_count": null,
      "outputs": [
        {
          "output_type": "execute_result",
          "data": {
            "text/plain": [
              "1"
            ]
          },
          "metadata": {
            "tags": []
          },
          "execution_count": 43
        }
      ]
    },
    {
      "cell_type": "code",
      "metadata": {
        "id": "nLmNjMCC6dMn"
      },
      "source": [
        ""
      ],
      "execution_count": null,
      "outputs": []
    }
  ]
}