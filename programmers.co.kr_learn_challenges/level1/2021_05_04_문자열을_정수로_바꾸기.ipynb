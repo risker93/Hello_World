{
  "nbformat": 4,
  "nbformat_minor": 0,
  "metadata": {
    "colab": {
      "name": "문자열을 정수로 바꾸기.ipynb",
      "provenance": []
    },
    "kernelspec": {
      "name": "python3",
      "display_name": "Python 3"
    },
    "language_info": {
      "name": "python"
    }
  },
  "cells": [
    {
      "cell_type": "markdown",
      "metadata": {
        "id": "VPVU4Nxw6mVC"
      },
      "source": [
        "문제 설명\n",
        "\n",
        "문자열 s를 숫자로 변환한 결과를 반환하는 함수, solution을 완성하세요.\n",
        "\n",
        "\n",
        "\n",
        "\n",
        "제한 조건\n",
        "\n",
        "s의 길이는 1 이상 5이하입니다.\n",
        "\n",
        "s의 맨앞에는 부호(+, -)가 올 수 있습니다.\n",
        "\n",
        "s는 부호와 숫자로만 이루어져있습니다.\n",
        "\n",
        "s는 \"0\"으로 시작하지 않습니다.\n",
        "\n",
        "입출력 예\n",
        "\n",
        "예를들어 str이 \"1234\"이면 1234를 반환하고, \"-1234\"이면 -1234를 반환하면 됩니다.\n",
        "\n",
        "str은 부호(+,-)와 숫자로만 구성되어 있고, 잘못된 값이 입력되는 경우는 없습니다."
      ]
    },
    {
      "cell_type": "code",
      "metadata": {
        "id": "GbKPyv-Y6ne1"
      },
      "source": [
        "def solution(s):\n",
        "    return int(s)"
      ],
      "execution_count": 1,
      "outputs": []
    },
    {
      "cell_type": "markdown",
      "metadata": {
        "id": "3Q0O5Gkp6rSl"
      },
      "source": [
        "단순하게 문제해결을 했으나.\n",
        "\n",
        "막상 풀고보니 이 level1 테스트가 의도한 방향이 아닌것 같다.\n",
        "\n",
        "다음번엔 알고리즘을 만드는 방향으로 문제를 해결해보자."
      ]
    }
  ]
}
