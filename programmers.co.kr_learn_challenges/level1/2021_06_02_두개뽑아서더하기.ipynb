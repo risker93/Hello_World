{
  "nbformat": 4,
  "nbformat_minor": 0,
  "metadata": {
    "colab": {
      "name": "2021_06_02_두개뽑아서더하기.ipynb",
      "provenance": [],
      "collapsed_sections": []
    },
    "kernelspec": {
      "name": "python3",
      "display_name": "Python 3"
    },
    "language_info": {
      "name": "python"
    }
  },
  "cells": [
    {
      "cell_type": "markdown",
      "metadata": {
        "id": "2lEub10JHMJ0"
      },
      "source": [
        "두 개 뽑아서 더하기\n",
        "\n",
        "문제 설명\n",
        "\n",
        "정수 배열 numbers가 주어집니다. numbers에서 서로 다른 인덱스에 있는 두 개의 \n",
        "\n",
        "수를 뽑아 더해서 만들 수 있는 모든 수를 배열에 오름차순으로 담아 return 하도록 \n",
        "\n",
        "solution 함수를 완성해주세요.\n",
        "\n",
        "\n",
        "제한사항\n",
        "\n",
        "numbers의 길이는 2 이상 100 이하입니다.\n",
        "\n",
        "numbers의 모든 수는 0 이상 100 이하입니다.\n",
        "\n",
        "입출력 예\n",
        "\n",
        "numbers\tresult\n",
        "\n",
        "[2,1,3,4,1]\t[2,3,4,5,6,7]\n",
        "\n",
        "[5,0,2,7]\t[2,5,7,9,12]\n",
        "\n",
        "입출력 예 설명\n",
        "\n",
        "입출력 예 #1\n",
        "\n",
        "\n",
        "2 = 1 + 1 입니다. (1이 numbers에 두 개 있습니다.)\n",
        "\n",
        "3 = 2 + 1 입니다.\n",
        "\n",
        "4 = 1 + 3 입니다.\n",
        "\n",
        "5 = 1 + 4 = 2 + 3 입니다.\n",
        "\n",
        "6 = 2 + 4 입니다.\n",
        "\n",
        "7 = 3 + 4 입니다.\n",
        "\n",
        "따라서 [2,3,4,5,6,7] 을 return 해야 합니다.\n",
        "\n",
        "입출력 예 #2\n",
        "\n",
        "\n",
        "2 = 0 + 2 입니다.\n",
        "\n",
        "5 = 5 + 0 입니다.\n",
        "\n",
        "7 = 0 + 7 = 5 + 2 입니다.\n",
        "\n",
        "9 = 2 + 7 입니다.\n",
        "\n",
        "12 = 5 + 7 입니다.\n",
        "\n",
        "따라서 [2,5,7,9,12] 를 return 해야 합니다."
      ]
    },
    {
      "cell_type": "code",
      "metadata": {
        "id": "OTQkNu1tHR4k"
      },
      "source": [
        "def solution(numbers):\n",
        "    answer = []\n",
        "    for num in range(0, len(numbers)):\n",
        "        for num2 in range(num, len(numbers)):\n",
        "            if num != num2:\n",
        "                if (numbers[num] +numbers[num2]) not in answer:\n",
        "                    answer.append(numbers[num]+numbers[num2])\n",
        "    return sorted(answer)"
      ],
      "execution_count": 24,
      "outputs": []
    },
    {
      "cell_type": "code",
      "metadata": {
        "id": "s9l6G2yeIBGo"
      },
      "source": [
        "a = [2,5,7,9,12]"
      ],
      "execution_count": 25,
      "outputs": []
    },
    {
      "cell_type": "code",
      "metadata": {
        "colab": {
          "base_uri": "https://localhost:8080/"
        },
        "id": "3qpGpGTuI8qm",
        "outputId": "1f771818-3857-44b2-e690-ec9edd8cf0df"
      },
      "source": [
        "solution(a)"
      ],
      "execution_count": 26,
      "outputs": [
        {
          "output_type": "execute_result",
          "data": {
            "text/plain": [
              "[7, 9, 11, 12, 14, 16]"
            ]
          },
          "metadata": {
            "tags": []
          },
          "execution_count": 26
        }
      ]
    },
    {
      "cell_type": "code",
      "metadata": {
        "colab": {
          "base_uri": "https://localhost:8080/"
        },
        "id": "HukQBCz9IDYb",
        "outputId": "5615ccc6-bec6-42fc-faad-539426b80c98"
      },
      "source": [
        "for i in range(0, len([2,5,7,9,12])):\n",
        "  print(1)"
      ],
      "execution_count": 4,
      "outputs": [
        {
          "output_type": "stream",
          "text": [
            "1\n",
            "1\n",
            "1\n",
            "1\n",
            "1\n"
          ],
          "name": "stdout"
        }
      ]
    },
    {
      "cell_type": "code",
      "metadata": {
        "id": "NayvpQ_MISkY"
      },
      "source": [
        ""
      ],
      "execution_count": null,
      "outputs": []
    }
  ]
}