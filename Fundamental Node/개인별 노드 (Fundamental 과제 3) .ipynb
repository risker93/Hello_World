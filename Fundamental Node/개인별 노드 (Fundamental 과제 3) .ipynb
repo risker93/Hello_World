{
 "cells": [
  {
   "cell_type": "code",
   "execution_count": 1,
   "metadata": {},
   "outputs": [
    {
     "name": "stdout",
     "output_type": "stream",
     "text": [
      "time:  0.0\n",
      "time:  0.0\n",
      "time:  0.0\n",
      "time:  0.0\n",
      "time:  0.0\n",
      "time:  0.0\n",
      "time:  0.0\n",
      "time:  0.0\n",
      "time:  0.0\n",
      "time:  0.0009970664978027344\n",
      "time:  0.0009970664978027344\n",
      "time:  0.0009970664978027344\n",
      "time:  0.0009970664978027344\n",
      "time:  0.0009970664978027344\n",
      "time:  0.0009970664978027344\n",
      "time:  0.0009970664978027344\n",
      "time:  0.0009970664978027344\n",
      "time:  0.001994609832763672\n",
      "time:  0.001994609832763672\n",
      "time:  0.001994609832763672\n",
      "time:  0.001994609832763672\n",
      "time:  0.001994609832763672\n",
      "time:  0.001994609832763672\n",
      "time:  0.001994609832763672\n",
      "time:  0.001994609832763672\n",
      "time:  0.001994609832763672\n",
      "time:  0.001994609832763672\n",
      "time:  0.001994609832763672\n",
      "time:  0.001994609832763672\n",
      "time:  0.003015756607055664\n",
      "time:  0.003015756607055664\n",
      "time:  0.003015756607055664\n",
      "time:  0.003015756607055664\n",
      "time:  0.003015756607055664\n",
      "time:  0.003015756607055664\n",
      "time:  0.003015756607055664\n",
      "time:  0.003015756607055664\n",
      "time:  0.003015756607055664\n",
      "time:  0.003015756607055664\n",
      "time:  0.003015756607055664\n",
      "time:  0.003015756607055664\n",
      "time:  0.003991603851318359\n",
      "time:  0.003991603851318359\n",
      "time:  0.003991603851318359\n",
      "time:  0.003991603851318359\n",
      "time:  0.003991603851318359\n",
      "time:  0.003991603851318359\n",
      "time:  0.003991603851318359\n",
      "time:  0.003991603851318359\n",
      "time:  0.003991603851318359\n",
      "time:  0.003991603851318359\n",
      "time:  0.003991603851318359\n",
      "time:  0.003991603851318359\n",
      "time:  0.003991603851318359\n",
      "time:  0.003991603851318359\n",
      "time:  0.003991603851318359\n",
      "time:  0.003991603851318359\n",
      "time:  0.004987001419067383\n",
      "time:  0.004987001419067383\n",
      "time:  0.00598907470703125\n",
      "time:  0.00598907470703125\n",
      "time:  0.00598907470703125\n",
      "time:  0.00598907470703125\n",
      "time:  0.00598907470703125\n",
      "time:  0.00598907470703125\n",
      "time:  0.00598907470703125\n",
      "time:  0.00598907470703125\n",
      "time:  0.00598907470703125\n",
      "time:  0.00598907470703125\n",
      "time:  0.00598907470703125\n",
      "time:  0.00598907470703125\n",
      "time:  0.00598907470703125\n",
      "time:  0.00598907470703125\n",
      "time:  0.00598907470703125\n",
      "time:  0.00598907470703125\n",
      "time:  0.00598907470703125\n",
      "time:  0.00598907470703125\n",
      "time:  0.00598907470703125\n",
      "time:  0.00598907470703125\n",
      "time:  0.00598907470703125\n",
      "time:  0.00598907470703125\n",
      "time:  0.00598907470703125\n",
      "time:  0.00598907470703125\n",
      "time:  0.00598907470703125\n",
      "time:  0.00598907470703125\n",
      "time:  0.00598907470703125\n",
      "time:  0.0069806575775146484\n",
      "time:  0.0069806575775146484\n",
      "time:  0.0069806575775146484\n",
      "time:  0.007978439331054688\n",
      "time:  0.007978439331054688\n",
      "time:  0.007978439331054688\n",
      "time:  0.007978439331054688\n",
      "time:  0.007978439331054688\n",
      "time:  0.007978439331054688\n",
      "time:  0.007978439331054688\n",
      "time:  0.007978439331054688\n",
      "time:  0.007978439331054688\n",
      "time:  0.007978439331054688\n",
      "time:  0.007978439331054688\n"
     ]
    }
   ],
   "source": [
    "import time\n",
    "start = time.time() #시작 시간 저장\n",
    "\n",
    "a= 1\n",
    "for i in range(100):\n",
    "    a += 1\n",
    "    \n",
    "#작업 코드\n",
    "    print(\"time: \", time.time() - start)# 결과는 '초 단위 입니다.'"
   ]
  },
  {
   "cell_type": "code",
   "execution_count": 2,
   "metadata": {},
   "outputs": [
    {
     "name": "stdout",
     "output_type": "stream",
     "text": [
      "값:  a\n",
      "값:  b\n",
      "값:  c\n",
      "값:  d\n"
     ]
    }
   ],
   "source": [
    "my_list = ['a', 'b', 'c', 'd']\n",
    "\n",
    "for i in my_list:\n",
    "    print(\"값: \", i)"
   ]
  },
  {
   "cell_type": "code",
   "execution_count": 3,
   "metadata": {},
   "outputs": [
    {
     "name": "stdout",
     "output_type": "stream",
     "text": [
      "순번:  0 값:  a\n",
      "순번:  1 값:  b\n",
      "순번:  2 값:  c\n",
      "순번:  3 값:  d\n"
     ]
    }
   ],
   "source": [
    "for i, value in enumerate(my_list):\n",
    "    print(\"순번: \", i, \"값: \", value)"
   ]
  },
  {
   "cell_type": "code",
   "execution_count": 4,
   "metadata": {
    "scrolled": true
   },
   "outputs": [
    {
     "name": "stdout",
     "output_type": "stream",
     "text": [
      "[(0, 'a'), (0, 'b'), (0, 'c'), (0, 'd'), (1, 'a'), (1, 'b'), (1, 'c'), (1, 'd')]\n"
     ]
    }
   ],
   "source": [
    "result_list = []\n",
    "for i in range(2):\n",
    "    for j in my_list:\n",
    "        result_list.append((i,j))\n",
    "        \n",
    "print(result_list)"
   ]
  },
  {
   "cell_type": "markdown",
   "metadata": {},
   "source": [
    "리스트 컴프리헨션\n"
   ]
  },
  {
   "cell_type": "code",
   "execution_count": 5,
   "metadata": {},
   "outputs": [
    {
     "name": "stdout",
     "output_type": "stream",
     "text": [
      "[(0, 'a'), (0, 'b'), (0, 'c'), (0, 'd'), (1, 'a'), (1, 'b'), (1, 'c'), (1, 'd')]\n"
     ]
    }
   ],
   "source": [
    "my_list = ['a', 'b', 'c', 'd']\n",
    "result_list = [(i, j) for i in range(2) for j in my_list]\n",
    "print(result_list)"
   ]
  },
  {
   "cell_type": "markdown",
   "metadata": {},
   "source": [
    "제너레이터"
   ]
  },
  {
   "cell_type": "code",
   "execution_count": 6,
   "metadata": {},
   "outputs": [
    {
     "name": "stdout",
     "output_type": "stream",
     "text": [
      ">> 8 data loaded..\n",
      "0 a\n",
      "0 b\n",
      "0 c\n",
      "0 d\n",
      "1 a\n",
      "1 b\n",
      "1 c\n",
      "1 d\n"
     ]
    }
   ],
   "source": [
    "my_list = ['a', 'b', 'c', 'd']\n",
    "\n",
    "#인자로 받은 리스트를 가공해서 만든 데이터셋 리스트를 리턴하는 함수\n",
    "def get_dataset_list(my_list):\n",
    "    result_list = []\n",
    "    for i in range(2):\n",
    "        for j in my_list:\n",
    "            result_list.append((i, j))\n",
    "    print('>> {} data loaded..'.format(len(result_list)))\n",
    "    return result_list\n",
    "\n",
    "for x, y in get_dataset_list(my_list):\n",
    "    print(x, y)"
   ]
  },
  {
   "cell_type": "code",
   "execution_count": 7,
   "metadata": {},
   "outputs": [
    {
     "name": "stdout",
     "output_type": "stream",
     "text": [
      "0 a\n",
      ">> 1 data loaded..\n",
      "0 b\n",
      ">> 1 data loaded..\n",
      "0 c\n",
      ">> 1 data loaded..\n",
      "0 d\n",
      ">> 1 data loaded..\n",
      "1 a\n",
      ">> 1 data loaded..\n",
      "1 b\n",
      ">> 1 data loaded..\n",
      "1 c\n",
      ">> 1 data loaded..\n",
      "1 d\n",
      ">> 1 data loaded..\n"
     ]
    }
   ],
   "source": [
    "#인자로 받은 리스트로부터 데이터를 하나씩 가져오는 제너레이터를 리턴하는 함수\n",
    "\n",
    "def get_dataset_generator(my_list):\n",
    "    result_list = []\n",
    "    for i in range(2):\n",
    "        for j in my_list:\n",
    "            yield(i, j)\n",
    "            print('>> 1 data loaded..')\n",
    "dataset_generator = get_dataset_generator(my_list)\n",
    "for x, y in dataset_generator:\n",
    "    print(x, y)\n",
    "\n",
    "    "
   ]
  },
  {
   "cell_type": "markdown",
   "metadata": {},
   "source": [
    "제너레이터가 굳이 왜 필요한가?\n",
    "\n",
    "우리가 처리해야 할 데이터가 1억 개의 레코드가 담겨 있는 빅 데이터파일이라면, 길이 1억짜리 리스트를 리턴받아 메모리에 전부 올려놓고 처리를 시작해야한다, \n",
    "\n",
    "\n",
    "그러나 제너레이터를 활용할때는 데이터를 1개씩 로드해서 사용할수 있게 된다."
   ]
  },
  {
   "cell_type": "code",
   "execution_count": 8,
   "metadata": {},
   "outputs": [
    {
     "name": "stdout",
     "output_type": "stream",
     "text": [
      "에러가 발생했습니다.\n"
     ]
    }
   ],
   "source": [
    "#에러가 발생했습니다. 문구 출력해보기\n",
    "\n",
    "a= 10\n",
    "b= 0\n",
    "try:\n",
    "    #실헹코드\n",
    "    print(a/b)\n",
    "    \n",
    "except:\n",
    "    #에러가 발생했을 때 처리하는 코드\n",
    "    print('에러가 발생했습니다.')\n",
    "    "
   ]
  },
  {
   "cell_type": "code",
   "execution_count": 9,
   "metadata": {},
   "outputs": [
    {
     "name": "stdout",
     "output_type": "stream",
     "text": [
      "10.0\n"
     ]
    }
   ],
   "source": [
    "#에러가발생하지 않은경우\n",
    "\n",
    "a= 10\n",
    "b= 1\n",
    "try:\n",
    "    #실헹코드\n",
    "    print(a/b)\n",
    "    \n",
    "except:\n",
    "    #에러가 발생했을 때 처리하는 코드\n",
    "    print('에러가 발생했습니다.')\n",
    "    "
   ]
  },
  {
   "cell_type": "code",
   "execution_count": 10,
   "metadata": {},
   "outputs": [
    {
     "name": "stdout",
     "output_type": "stream",
     "text": [
      "에러가 발생했습니다.\n",
      "값 수정:  10.0\n"
     ]
    }
   ],
   "source": [
    "#에러가 발생할경우, 에러가 발생하지 않을 값으로 바꿔서 출력\n",
    "\n",
    "#에러가 발생했습니다. 문구 출력해보기\n",
    "\n",
    "a= 10\n",
    "b= 0\n",
    "try:\n",
    "    #실헹코드\n",
    "    print(a/b)\n",
    "    \n",
    "except:\n",
    "    print('에러가 발생했습니다.')\n",
    "    #에러가 발생했을 때 처리하는 코드\n",
    "    b = b+1\n",
    "    print(\"값 수정: \", a/b)\n",
    "    \n",
    "    \n",
    "    "
   ]
  },
  {
   "cell_type": "markdown",
   "metadata": {},
   "source": [
    "병렬처리"
   ]
  },
  {
   "cell_type": "markdown",
   "metadata": {},
   "source": [
    "변수를 1억번 돌려보는 코드"
   ]
  },
  {
   "cell_type": "code",
   "execution_count": 11,
   "metadata": {},
   "outputs": [
    {
     "name": "stdout",
     "output_type": "stream",
     "text": [
      "finish:  p1\n",
      "finish:  p2\n",
      "finish:  p3\n",
      "finish:  p4\n",
      "time :  13.773733377456665\n"
     ]
    }
   ],
   "source": [
    "import time\n",
    "num_list = ['p1', 'p2', 'p3', 'p4']\n",
    "start = time.time()\n",
    "\n",
    "def count(name):\n",
    "    for i in range(0, 100000000):\n",
    "        a = 1+2\n",
    "    \n",
    "    print(\"finish: \", name)\n",
    "    \n",
    "for num in num_list:\n",
    "    count(num)\n",
    "\n",
    "print(\"time : \", time.time() - start)"
   ]
  },
  {
   "cell_type": "code",
   "execution_count": null,
   "metadata": {},
   "outputs": [],
   "source": [
    "#병렬 처리를 이용한 코드\n",
    "import multiprocessing\n",
    "import time\n",
    "\n",
    "num_list = ['p1', 'p2', 'p3', 'p4']\n",
    "start = time.time()\n",
    "\n",
    "def count(name):\n",
    "    for i in range(0, 100000000):\n",
    "        a = 1+2\n",
    "    print(\"finish :\", name)\n",
    "\n",
    "if __name__ == '__main__':\n",
    "    pool = multiprocessing.Pool(processes = 4)\n",
    "    pool.map(count, num_list)\n",
    "    pool.close()\n",
    "    pool.join()\n",
    "    \n",
    "print(\"time :\", time.time() - start)"
   ]
  },
  {
   "cell_type": "markdown",
   "metadata": {},
   "source": [
    "if __name__ == '__main'__\n",
    "\n",
    "\n",
    "이것은 코드 시작점을 여기로 하라는 명령어\n",
    "poll = miultiprocessing.Pool(process =4) 병렬 처리시, 4개의 프로세스를 사용하도록 합니다\n",
    "\n",
    "\n",
    "\n",
    "\n",
    "pool.map(count, num_list) \n",
    "병렬화를 시키는 함수, count 함수에 num_list의 원소들을 하나씩 넣어놓는다. 여기서 num_list의 원소는 4개 이므로 4개의 수에 각각 하나씩 원소가 각각 하나씩 들어가게됨\n",
    "\n",
    "\n",
    "\n",
    "pool.close():일반적으로 병렬화 부분이 끝나면 나옴, 더이상 새로운 작업을 추가하지 않을때 사용\n",
    "\n",
    "\n",
    "\n",
    "pool.join():프로세스가 종료될 때까지 대기하도록 지시하는 구문, 병렬처리 작업이 끝날 때까지 기다리도록함"
   ]
  },
  {
   "cell_type": "code",
   "execution_count": null,
   "metadata": {},
   "outputs": [],
   "source": []
  }
 ],
 "metadata": {
  "kernelspec": {
   "display_name": "python3_7_6",
   "language": "python",
   "name": "py3_7_6"
  },
  "language_info": {
   "codemirror_mode": {
    "name": "ipython",
    "version": 3
   },
   "file_extension": ".py",
   "mimetype": "text/x-python",
   "name": "python",
   "nbconvert_exporter": "python",
   "pygments_lexer": "ipython3",
   "version": "3.8.5"
  }
 },
 "nbformat": 4,
 "nbformat_minor": 4
}
