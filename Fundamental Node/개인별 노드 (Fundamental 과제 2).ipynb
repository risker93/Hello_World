{
 "cells": [
  {
   "cell_type": "code",
   "execution_count": 1,
   "metadata": {},
   "outputs": [
    {
     "name": "stdout",
     "output_type": "stream",
     "text": [
      "1\n"
     ]
    }
   ],
   "source": [
    "def print_if_positive(number):\n",
    "    if number >= 0:\n",
    "        print(number)\n",
    "#숫자가 0보다 크거나 같을(>=) 경우 즉, 0이상일 경우에만 숫자를 출력합니다.\n",
    "\n",
    "print_if_positive(1)\n",
    "print_if_positive(-1)"
   ]
  },
  {
   "cell_type": "code",
   "execution_count": 2,
   "metadata": {},
   "outputs": [
    {
     "name": "stdout",
     "output_type": "stream",
     "text": [
      "+\n",
      "-\n"
     ]
    }
   ],
   "source": [
    "#위의 코드를 변형해 양이면 + 음이면 -를 표시\n",
    "def print_whether_positive_or_negative(number):\n",
    "    if number >= 0:\n",
    "        print('+')\n",
    "    else:\n",
    "        print('-')\n",
    "        \n",
    "#-숫자가 0보다 크거나 같으면 +를, 작으면 -를 출력합니다.\n",
    "print_whether_positive_or_negative(1)\n",
    "print_whether_positive_or_negative(-1)"
   ]
  },
  {
   "cell_type": "code",
   "execution_count": 3,
   "metadata": {},
   "outputs": [
    {
     "name": "stdout",
     "output_type": "stream",
     "text": [
      "+\n",
      "-\n",
      "0\n"
     ]
    }
   ],
   "source": [
    "#양수도 음수도 아닌 0일 경우 그대로 0을 출력\n",
    "\n",
    "def print_whether_positive_or_negative_or_zero(number):\n",
    "    if number > 0:\n",
    "        print('+')\n",
    "    elif number == 0:\n",
    "        print('0')\n",
    "    else:\n",
    "        print('-')\n",
    "        \n",
    "#숫자가 양수이면 +, 음수이면 -, 양수도 음수도 아닌 0일경우 0\n",
    "\n",
    "print_whether_positive_or_negative_or_zero(1)\n",
    "print_whether_positive_or_negative_or_zero(-1)\n",
    "print_whether_positive_or_negative_or_zero(0)"
   ]
  },
  {
   "cell_type": "code",
   "execution_count": 4,
   "metadata": {},
   "outputs": [
    {
     "name": "stdout",
     "output_type": "stream",
     "text": [
      "2\n"
     ]
    }
   ],
   "source": [
    "#양수 이면서 짝수 일때만 숫자를 화면에 표시\n",
    "def print_if_positive_and_even(number):\n",
    "    if(number > 0) and (number %2 ==0):\n",
    "        print(number)\n",
    "print_if_positive_and_even(1)\n",
    "print_if_positive_and_even(-1)\n",
    "print_if_positive_and_even(2)\n",
    "print_if_positive_and_even(-2)"
   ]
  },
  {
   "cell_type": "code",
   "execution_count": 5,
   "metadata": {},
   "outputs": [
    {
     "name": "stdout",
     "output_type": "stream",
     "text": [
      "1\n",
      "-1\n",
      "-2\n"
     ]
    }
   ],
   "source": [
    "#음수이거나, 음양에 상관없이 홀수인 경우만 표시\n",
    "\n",
    "def print_if_negative_or_odd(number):\n",
    "    if(number < 0) or (number % 2 != 0):\n",
    "        print(number)\n",
    "        \n",
    "print_if_negative_or_odd(1)\n",
    "print_if_negative_or_odd(-1)\n",
    "print_if_negative_or_odd(2)\n",
    "print_if_negative_or_odd(-2)"
   ]
  },
  {
   "cell_type": "code",
   "execution_count": 7,
   "metadata": {},
   "outputs": [
    {
     "name": "stdout",
     "output_type": "stream",
     "text": [
      "1\n",
      "-1\n",
      "-2\n"
     ]
    }
   ],
   "source": [
    "#'While' 조건이 참인 동안 반복\n",
    "def print_if_negative_or_odd(number):\n",
    "    if(number <= 0 )or(number%2 !=0):\n",
    "        print(number)\n",
    "\n",
    "print_if_negative_or_odd(1)\n",
    "print_if_negative_or_odd(-1)\n",
    "print_if_negative_or_odd(2)\n",
    "print_if_negative_or_odd(-2)\n"
   ]
  },
  {
   "cell_type": "code",
   "execution_count": 8,
   "metadata": {},
   "outputs": [
    {
     "name": "stdout",
     "output_type": "stream",
     "text": [
      "1\n",
      "1\n",
      "2\n",
      "3\n",
      "5\n",
      "8\n",
      "13\n",
      "21\n",
      "34\n",
      "55\n",
      "89\n",
      "144\n",
      "233\n",
      "377\n",
      "610\n",
      "987\n",
      "1597\n",
      "2584\n",
      "4181\n",
      "6765\n",
      "끝!\n"
     ]
    }
   ],
   "source": [
    "#fibonacci()\n",
    "\n",
    "def fibonacci(n):\n",
    "    if n <= 2:\n",
    "        return 1\n",
    "    else:\n",
    "        return fibonacci(n-2) +fibonacci(n-1)\n",
    "\n",
    "n=1\n",
    "\n",
    "while n <=20:\n",
    "    print(fibonacci(n))\n",
    "    n = n + 1\n",
    "print('끝!')"
   ]
  },
  {
   "cell_type": "code",
   "execution_count": 9,
   "metadata": {},
   "outputs": [
    {
     "name": "stdout",
     "output_type": "stream",
     "text": [
      "H\n",
      "e\n",
      "l\n",
      "l\n",
      "o\n"
     ]
    }
   ],
   "source": [
    "#순서대로 넘길(iterate)수 있는 값들을 반복가능한 객체(iterable)라 한다\n",
    "for character in 'Hello':\n",
    "    print(character)\n"
   ]
  },
  {
   "cell_type": "code",
   "execution_count": null,
   "metadata": {},
   "outputs": [],
   "source": []
  }
 ],
 "metadata": {
  "kernelspec": {
   "display_name": "python3_7_6",
   "language": "python",
   "name": "py3_7_6"
  },
  "language_info": {
   "codemirror_mode": {
    "name": "ipython",
    "version": 3
   },
   "file_extension": ".py",
   "mimetype": "text/x-python",
   "name": "python",
   "nbconvert_exporter": "python",
   "pygments_lexer": "ipython3",
   "version": "3.8.5"
  }
 },
 "nbformat": 4,
 "nbformat_minor": 4
}
