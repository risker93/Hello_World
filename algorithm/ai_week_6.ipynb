{
  "nbformat": 4,
  "nbformat_minor": 0,
  "metadata": {
    "colab": {
      "name": "ai_week_6.ipynb",
      "provenance": [],
      "collapsed_sections": []
    },
    "kernelspec": {
      "name": "python3",
      "display_name": "Python 3"
    },
    "language_info": {
      "name": "python"
    }
  },
  "cells": [
    {
      "cell_type": "markdown",
      "metadata": {
        "id": "dxJImh1H_oKM"
      },
      "source": [
        "문자열이 회문 인지 아닌지 판단하여 회문이면 True 아니면 False를 결과로 알려주는 알고리즘을 만들어 보세요.\n",
        "\n",
        "- 이번에 풀어 볼 문제는 회문 (palindrome) 찾기 문제\n",
        "\n",
        "- 회문: 순서대로 읽어도 거꾸로 읽어도 그 내용이 같은 낱말이나 문장"
      ]
    },
    {
      "cell_type": "markdown",
      "metadata": {
        "id": "pA-zMhstABvS"
      },
      "source": [
        "1. 큐와 스택\n",
        "\n",
        "- 큐와 스택은 컴퓨터 과학에서 다루는 여러 가지 자료 구조 중에서도 가장 기본적인 것\n",
        "\n",
        "- 두 자료 구조는 '자료를 넣는 동작' 과 '자료를 빼는 동작' 을 할 수 있음\n",
        "\n",
        "- 하지만 자료를 넣고 뺼 때 동작하는 방식이 서로 다름"
      ]
    },
    {
      "cell_type": "markdown",
      "metadata": {
        "id": "Xw22I9HqAlCq"
      },
      "source": [
        "queue 줄줄이 먼저 들어온 순서대로 먼저 나감 First In First Out\n",
        "\n",
        "- enqueue: 큐에 자료를 한개 집어넣는 동작\n",
        " \n",
        "- dequeue: 큐 안에 있는 자료를 한개 꺼내는 동작.\n",
        "  \n",
        "stack 순서대로 쌓인후 맨 마지막에 쌓인것부터 빠져나감. Last In First Out \n",
        "\n",
        "- push: 스택에 자료를 하나 집어넣는 동작\n",
        "\n",
        "- pop: 스택 안에 있는 자료를 하나 꺼내는 동작\n",
        "\n",
        "\n",
        "둘다 일렬로 보관된다. 리스트 형태로\n",
        "\n",
        "#큐 \n",
        "\n",
        "- 초기화 : qu = []           #빈 리스트를 만듦\n",
        "\n",
        "- 자료넣기(enqueue): qu.append(x)     #리스트의 맨 뒤에 자료를 추가\n",
        "\n",
        "- 자료 꺼내기(dequeue) : x = qu.pop(0)  #리스트의 맨 앞(0번위치)에서 자료를 꺼냄\n",
        "\n",
        "#스택\n",
        "\n",
        "- 초기화 : st = []\n",
        "\n",
        "- 자료넣기(push) : st.append(x)\n",
        "\n",
        "- 자료 꺼내기(pop) : x = st.pop()        #리스트의 맨 뒤에서 자료를 꺼냄\n"
      ]
    },
    {
      "cell_type": "markdown",
      "metadata": {
        "id": "c8E5UXQFDmDh"
      },
      "source": [
        "회문 찾기 알고리즘"
      ]
    },
    {
      "cell_type": "code",
      "metadata": {
        "colab": {
          "base_uri": "https://localhost:8080/"
        },
        "id": "aGaqckDG_jPq",
        "outputId": "b80e9d6d-9f83-423e-f4b7-3e01ea9c2897"
      },
      "source": [
        "# 주어진 문장이 회문인지 아닌지 찾기(큐와 스택의 특징을 이용)\n",
        "#입력: 문자열s\n",
        "#출력: 회문이면 True, 아니면 False\n",
        "\n",
        "def palindrome(s):\n",
        "  #큐와 스택을 리스트로 정의\n",
        "  qu = []\n",
        "  st = []\n",
        "  #1단계: 문자열의 알파벳 문자를 각각 큐와 스택에 넣음\n",
        "  for x in s:\n",
        "    #해당 문자가 알파벳이면(공백, 특수문자, 숫자가 아니면)\n",
        "    #큐와 스택에 각각 그 문자를 추가\n",
        "    if x.isalpha():\n",
        "      qu.append(x.lower())\n",
        "      st.append(x.lower())\n",
        "  #2단계: 큐와 스택에 들어 있는 문자를 꺼내면서 비교\n",
        "  while qu: #큐에 문자가 남아 있는 동안 반복\n",
        "    if qu.pop(0) != st.pop():   #큐와 스택에서 꺼낸 문자가 다르면 회문이 아님\n",
        "      return False\n",
        "  return True\n",
        "\n",
        "print(palindrome(\"Wow\"))\n",
        "print(palindrome(\"Madam, I'm Adam\"))\n",
        "print(palindrome(\"Madam, I am Adam\"))"
      ],
      "execution_count": 3,
      "outputs": [
        {
          "output_type": "stream",
          "text": [
            "True\n",
            "True\n",
            "False\n"
          ],
          "name": "stdout"
        }
      ]
    },
    {
      "cell_type": "code",
      "metadata": {
        "id": "I_37ej7hFL15"
      },
      "source": [
        ""
      ],
      "execution_count": null,
      "outputs": []
    },
    {
      "cell_type": "markdown",
      "metadata": {
        "id": "H5dc2YnGHRao"
      },
      "source": [
        "- isalpha() 함수는 주어진 문자가 알파벳 문자에 해당하는지 확인하는 기능\n",
        "\n",
        "- 공백, 숫자, 특수문자는 isalpha() 함수로 걸러냄\n",
        "\n",
        "- lower() 함수는 주어진 알파벳을 소문자로 바꾸는 기능"
      ]
    },
    {
      "cell_type": "code",
      "metadata": {
        "id": "7cOw5f8vHjRc"
      },
      "source": [
        "#리스트를 이용한 큐와 스택 구현\n",
        "\n",
        "from collections import deque\n",
        "\n",
        "qu = deque()"
      ],
      "execution_count": 4,
      "outputs": []
    },
    {
      "cell_type": "code",
      "metadata": {
        "id": "PTD8aJNfHrQ-"
      },
      "source": [
        "qu.append(1)  #1을 큐에 추가 enqueue"
      ],
      "execution_count": 5,
      "outputs": []
    },
    {
      "cell_type": "code",
      "metadata": {
        "id": "o4DifYl-HyPO"
      },
      "source": [
        "qu.append(2)  #2를 큐에 추가 enqueue"
      ],
      "execution_count": 6,
      "outputs": []
    },
    {
      "cell_type": "code",
      "metadata": {
        "colab": {
          "base_uri": "https://localhost:8080/"
        },
        "id": "6y3y2XksH2Tt",
        "outputId": "ebb9dd79-32dc-486b-a360-6fa8009e6f2d"
      },
      "source": [
        "qu.popleft() #큐에서 1을 꺼냄 dequeue"
      ],
      "execution_count": 7,
      "outputs": [
        {
          "output_type": "execute_result",
          "data": {
            "text/plain": [
              "1"
            ]
          },
          "metadata": {
            "tags": []
          },
          "execution_count": 7
        }
      ]
    },
    {
      "cell_type": "code",
      "metadata": {
        "colab": {
          "base_uri": "https://localhost:8080/"
        },
        "id": "ObKE6I7gH6F8",
        "outputId": "2ec5ec1f-850f-4e0f-b429-ea850eaa162a"
      },
      "source": [
        "qu #큐에서 1을 꺼내서 2가 남아있음"
      ],
      "execution_count": 8,
      "outputs": [
        {
          "output_type": "execute_result",
          "data": {
            "text/plain": [
              "deque([2])"
            ]
          },
          "metadata": {
            "tags": []
          },
          "execution_count": 8
        }
      ]
    },
    {
      "cell_type": "markdown",
      "metadata": {
        "id": "Ao0T6ld7H-N5"
      },
      "source": [
        "- 큐 (queue) 가 비효율적인 이유: 0번 위치가 빠지면 전부 한칸씩 전진\n",
        "\n",
        "- 리스트로 만든 큐에서 자료 꺼내기 (dequeue) qu.pop(0)\n",
        "\n",
        "- 리스트로 만든 스택에서 자료 꺼내기(pop) st.pop()"
      ]
    },
    {
      "cell_type": "markdown",
      "metadata": {
        "id": "A3LehGemH-FH"
      },
      "source": [
        "문자열 앞뒤를 서로 비교하여 회문인지 확인"
      ]
    },
    {
      "cell_type": "code",
      "metadata": {
        "colab": {
          "base_uri": "https://localhost:8080/"
        },
        "id": "fDv3Ju64H9XX",
        "outputId": "2b7e09d7-bdeb-46fb-9038-21941aae416c"
      },
      "source": [
        "#주어진 문장이 회문인지 확인(문자열의 앞 뒤를 서로 비교)\n",
        "#입력: 문자열s\n",
        "#출력: 회문이면 True, 아니면 False\n",
        "\n",
        "def palindrome(s):\n",
        "  i = 0            #문자열의 앞에서 비교할 위치\n",
        "  j = len(s) - 1   # 문자열의 뒤에서 비교할 위치\n",
        "  while i <j: #중간까지만 검사하면 됨\n",
        "  #i 위치에 있는 문자가 알파벳 문자가 아니면 뒤로 이동\n",
        "    if s[i].isalpha() == False:\n",
        "      i+= 1\n",
        "      #j위치에 있는 문자가 알파벳 문자가 아니면 앞으로 이동\n",
        "    elif s[j].isalpha() == False:\n",
        "      j -= 1\n",
        "    #i, j 위치 둘다 알파벳 문자가 있으면 두 문자를 비교하고 다르면 회문이 아님\n",
        "    elif s[i].lower() != s[j].lower():\n",
        "      return False\n",
        "    #i와 j의 위치에 두 문자를 비교하고 같으면 다음 비교 대상으로 넘어감\n",
        "    else:\n",
        "      i += 1\n",
        "      j -= 1\n",
        "  return True\n",
        "\n",
        "print(palindrome(\"Wow\"))\n",
        "print(palindrome(\"Madam, I'm Adam.\"))\n",
        "print(palindrome(\"Madam, I am Adam.\"))"
      ],
      "execution_count": 9,
      "outputs": [
        {
          "output_type": "stream",
          "text": [
            "True\n",
            "True\n",
            "False\n"
          ],
          "name": "stdout"
        }
      ]
    },
    {
      "cell_type": "markdown",
      "metadata": {
        "id": "BVzjnSGJO0S3"
      },
      "source": [
        "#분할 정복(Divide and Conquer)\n",
        "\n",
        "- 주어진 문제의 입력을 다루기 쉽게 부분으로 분할하여 문제를 해결(정복) 하는 방식의 알고리즘\n",
        "\n",
        "- 문제를 더 이상 나눌 수 없을 때까지 나누고 이렇게 나누어진 문제들을 각각 풂 으로써 전체 문제의 답을 얻는 알고리즘\n",
        "\n",
        "- 문제를 두 단계인 1.분할과 2.정복 으로 나눠서 해결\n",
        "\n",
        "- 분할한 입력에 대하여 동일한 알고리즘을 적용해 해들 계산하며 이들의 해를 취합하여 원래 문제의 해를 얻음\n",
        "\n",
        "- 엄청나게 크고 방대한 문제를 조금씩 나눠가면서 용이하게 풀 수 있는 문제 단위로 나눈 다음 그것들을 다시 합쳐서 해결하자는 개념 \n",
        "\n",
        "- 분할된 입력에 대한 문제를 부분문제(Subproblem)라 하고, 부분 문제의 해를 부분해 라고함\n",
        "\n",
        "- 부분 문제는 더 이상 분할할 수 없을 때까지 계속 분할함\n",
        "\n",
        "- 점진적 개발에서 모듈 하나씩 개발하는 것도 분할 정복 개념임\n",
        "\n",
        "- 재귀적 구조를 가진 알고리즘에서는 대개 분할 정복 접근법을 따름\n",
        "\n",
        "- 문제를 쪼개는 요령이나 규칙은 없으며, 개발자의 창의에 달려 있음\n",
        "\n",
        "- 분할 정복의 대표적인 예 \n",
        "   - 병합 정렬\n",
        "   - 퀵 정렬\n",
        "\n",
        "- 문제가 작아지면 작아질수록 풀기 쉬워지는 성질을 이용함\n",
        "\n",
        "- 문제의 크기가 엄청나게 줄어든다면(n=1 or n =2정도) 바로 답을 구할 수 있는 수준이 됨\n",
        "\n",
        "정복(Conquer)\n",
        "\n",
        "- 분할된 부분 문제들을 정복해야 하는데 정복이란 부분해를 찾는것을 의미함\n",
        "\n",
        "- 정복 방법은 문제에 따라 다르나 일반적으로 부분해를 취합하여 큰 부분 문제의 해를 구함\n",
        "\n",
        "- 부분 문제를 재귀적으로 풀어서 정복함\n",
        "\n",
        "- 부분 문제의 크기가 충분히 작으면 직접적인 방법으로 품\n",
        "\n",
        "결합(Combine)\n",
        "\n",
        "- 부분 문제의 해를 결합하여 원래 문제의 해가 되도록 만듦\n",
        "\n",
        "- 분할되어 해결된 문제를 합치면 커다란 문제의 답이 나옴\n",
        "\n",
        "\n",
        "#알고리즘을 설계하는 요령\n",
        "\n",
        "1. 분할(Divide)\n",
        "\n",
        "   문제가 분할이 가능한 경우 2개 이상의 하위 문제로 나눔\n",
        "\n",
        "2. 정복(Conquer)\n",
        "\n",
        "   하위 문제가 여전히 분할이 가능한 상태라면 하위 집합에 대해 1을 수행하고 그렇지 않다면 하위 문제를 품\n",
        "\n",
        "3. 결합(Combine)\n",
        "\n",
        "   2과정에서 정복된 답을 취합함\n",
        "\n",
        "\n"
      ]
    },
    {
      "cell_type": "markdown",
      "metadata": {
        "id": "IDXSzmJySXMj"
      },
      "source": [
        "분할정복(Divide and Conquer)\n",
        "\n",
        "- 병합 정렬은 주어진 문제를 절반으로 나눈 다음 각각을 재귀 호출로 풀어가는 방식\n",
        "\n",
        "- 큰 문제를 작은 문제로 나눠서(분할하여) 푸는 (정복하는)방법을 알고리즘 설계 기법에서 '분할정복' 이라고 부름\n",
        "\n",
        "- 입력 크기가 커서 풀기 어려웠던 문제도 반복해서 잘게 나누다 보면 굉장히 쉬운 문제(종료 조건)가 되는 원리를 이용한 것\n",
        "\n",
        "- 분할 정복은 잘 활용하면 계산 복잡도가 더 낮은 효율적인 알고리즘을 만드는 데 도움이 됨\n",
        "\n",
        "- 분할 정복을 이용한 병합 정렬의 계산 복잡도는 O (n*log n)\n",
        "\n",
        "- 선택 정렬이나 삽입 정렬의 계산 복잡도 O(n^2) 보다 낮음\n",
        "\n",
        "- 따라서 정렬해야 할 자료의 개수가 많을수록 병합 정렬이 선택 정렬이나 삽입 정렬보다 훨씬 더 빠른 정렬 성능을 발휘\n",
        "\n",
        "- 예를 들어 대한민국 국민 오천만 명을 생년월일 순서로 정렬한다고 가정\n",
        "\n",
        "- 입력 크기가 n=50,000,000 일때 n^2은 2500조이고 n*log n은 약 13억\n",
        "\n",
        "- 2,500조는 13억 보다 무려 200만배 정도 큰 숫자\n"
      ]
    },
    {
      "cell_type": "markdown",
      "metadata": {
        "id": "BEfAi8ceTaWj"
      },
      "source": [
        "병합정렬 (Merge Sort)\n",
        "\n",
        "- 병합 정렬은 입력이 2개의 부분 문제로 분할하여 부분 문제의 크기가 1/2로 감소하는 분할 정복 알고리즘\n",
        "\n",
        "- n개의 숫자들을 n/2개씩 2개의 부분 문제로 분할하고, 각각의 부분 문제를 재귀적으로 병합 정렬한 후, 2개의 정렬된 부분을 병합하여 정렬(정복)함\n",
        "\n",
        "- 병합 과정이 문제를 정복하는 것임\n",
        "\n",
        "병합(Merge)\n",
        "\n",
        "병합이란 2개의 각각 정렬된 숫자들을 1개의 정렬된 숫자들로 합치는 것 \n",
        "\n",
        "\n",
        "병합과 정렬의 시간 복잡도\n",
        "\n",
        "- 분할하는 부분은 배열의 중간 인덱스 계산과 2번의 재귀 호출 이므로 O(1)시간 소요\n",
        "\n",
        "- 병합의 수행 시간은 입력의 크기에 비례하고, 만약 2개의 정렬된 배열 a와 b의 크기가 각각 n과 m 이라면 최대 비교 횟수는(n+m-1)임\n",
        "\n",
        "- 합병은 입력 크기에 비례하므로 각 층에서 수행된 비교 횟수는 O(n)\n",
        "\n",
        "- 8개의 숫자를 기준으로 층수를 세어보면 반으로(4) , 반의 반으로(2) 반의 반의 반으로(1) 나눔\n",
        "\n",
        "- 이 과정을 통하여 3층이 만들어짐\n",
        "\n",
        "- 입력의 크기가 n 일때 \n",
        "   - n을 계속하여 1/2로 나누다, 더이상 나눌 수 없는 크기인 1 이 될 때 분할을 중단\n",
        "   - 따라서 k번 1/2로 분할 했으면 k개의 층이 생기는것, k는 n=2^k으로 부터 log2n 임을 알수 있음\n",
        "\n",
        "   - (층수) * O(n) = log2n * O(n) = O(n logn)\n",
        "\n",
        "- 병합 정렬의 단점은 공간 복잡도\n",
        "\n",
        "- 입력을 위한 메모리공간 외에 추가로 입력과 같은 크기의 공간이 별도로 필요\n",
        "\n",
        "- 2개의 정렬된 부분을 하나로 합병하기위해 병합된 결과를 저장할 곳이 필요하기 때문 \n",
        "\n"
      ]
    },
    {
      "cell_type": "code",
      "metadata": {
        "colab": {
          "base_uri": "https://localhost:8080/"
        },
        "id": "oJUub3TPKUNO",
        "outputId": "72fa46c3-3e3a-4592-d244-f18c971a183c"
      },
      "source": [
        "#쉽게 설명한 병합 정렬 알고리즘\n",
        "#입력: 리스트 a\n",
        "#출력: 정렬된 새 리스트\n",
        "\n",
        "def merge_sort(a):\n",
        "  n = len(a)\n",
        "  #종료 조건: 정렬할 리스트의 자료 개수가 한개 이하이면 정렬할 필요 없음\n",
        "  if n <=1:\n",
        "    return a\n",
        "  #그룹을 나누어 각각 병합 정렬을 호출하는 과정\n",
        "  mid = n // 2 #중간을 기준으로 두 그룹으로 나눔\n",
        "  g1 = merge_sort(a[:mid]) #재귀 호출로 첫 번째 그룹을 정렬\n",
        "  g2 = merge_sort(a[mid:]) #재귀 호출로 두 번째 그룹을 정렬\n",
        "  #두 그룹을 하나로 병합\n",
        "  result = [] #두 그룹을 합쳐 만들 최종 결과\n",
        "  while g1 and g2: #두 그룹에 모두 자료가 남아 있는 동안 반복\n",
        "    if g1[0]<g2[0]: #두 그룹의 맨 앞 자료 값을 비교\n",
        "      #g1의 값이 더 작으면 그 값을 빼내어 결과로 추가\n",
        "      result.append(g1.pop(0))\n",
        "    else:\n",
        "      #g2의 값이 더 작으면 그 값을 빼내어 결과로 추가\n",
        "      result.append(g2.pop(0))\n",
        "  #아직 남아 있는 자료들을 결과에 추가\n",
        "  #g1과 g2중 이미 빈 것은 while을 바로 지나감\n",
        "  while g1:\n",
        "    result.append(g1.pop(0))\n",
        "  while g2:\n",
        "    result.append(g2.pop(0))\n",
        "\n",
        "  return result\n",
        "\n",
        "d = [6, 8, 3, 9, 10, 1, 2, 4, 7, 5]\n",
        "print(merge_sort(d))     \n"
      ],
      "execution_count": 12,
      "outputs": [
        {
          "output_type": "stream",
          "text": [
            "[1, 2, 3, 4, 5, 6, 7, 8, 9, 10]\n"
          ],
          "name": "stdout"
        }
      ]
    },
    {
      "cell_type": "markdown",
      "metadata": {
        "id": "3eVAw9KkZAV5"
      },
      "source": [
        "재귀 호출의 세 가지 요건\n",
        "\n",
        "1. 함수 안에서 자기 자신을 다시 호출함\n",
        "\n",
        "2. 재귀 호출할 때 인자로 주어지는 입력 크기가 작아짐\n",
        "\n",
        "3. 특정 종료 조건이 만족되면 재귀 호출을 종료함\n"
      ]
    },
    {
      "cell_type": "code",
      "metadata": {
        "colab": {
          "base_uri": "https://localhost:8080/"
        },
        "id": "9Yqx6nxrX3kp",
        "outputId": "3c5c1937-f6fe-4a50-d851-da9f564b9c5a"
      },
      "source": [
        "#일반적인 병합 정렬 알고리즘\n",
        "#병합정렬\n",
        "#입력: 리스트a\n",
        "#출력: 없음(입력으로 주어진 a가 정렬됨)\n",
        "\n",
        "def merge_sort(a):\n",
        "  n = len(a)\n",
        "  #종료 조건: 정렬할 리스트의 자료 개수가 한 개 이하이면 정렬할 필요가 없음\n",
        "  if n <= 1:\n",
        "    return\n",
        "  #그룹을 나누어 각각 병합 정렬을 호출하는 과정\n",
        "  mid = n//2 #중간을 기준으로 두 그룹으로 나눔\n",
        "\n",
        "  g1= a[:mid]\n",
        "  g2= a[mid:]\n",
        "  merge_sort(g1) #재귀 호출로 첫번째 그룹을 정렬\n",
        "  merge_sort(g2) #재귀 호출로 두번째 그룹을 정렬\n",
        "\n",
        "  #두 그룹을 하나로 병합\n",
        "  i1 = 0\n",
        "  i2 = 0\n",
        "  ia = 0\n",
        "  while i1 <len(g1) and i2 < len(g2):\n",
        "    if g1[i1] < g2[i2]:\n",
        "      a[ia] = g1[i1]\n",
        "      i1 += 1\n",
        "      ia += 1\n",
        "    else:\n",
        "      a[ia] = g2[i2]\n",
        "      i2 += 1\n",
        "      ia += 1\n",
        "    #아직 남아있는 자료들을 결과에 추가\n",
        "  while i1 < len(g1):\n",
        "    a[ia] = g1[i1]\n",
        "    i1 += 1\n",
        "    ia += 1\n",
        "  while i2 < len(g2):\n",
        "    a[ia] = g2[i2]\n",
        "    i2 += 1\n",
        "    ia += 1\n",
        "\n",
        "d = [6,8,3,9,10,1,2,4,7,5]\n",
        "merge_sort(d)\n",
        "print(d)"
      ],
      "execution_count": 14,
      "outputs": [
        {
          "output_type": "stream",
          "text": [
            "[1, 2, 3, 4, 5, 6, 7, 8, 9, 10]\n"
          ],
          "name": "stdout"
        }
      ]
    },
    {
      "cell_type": "code",
      "metadata": {
        "colab": {
          "base_uri": "https://localhost:8080/"
        },
        "id": "zf_nMeRrbZbz",
        "outputId": "75aab90a-a93a-45dc-dac4-2e61850ed69a"
      },
      "source": [
        "#내림차순 병합 정렬\n",
        "#입력: 리스트 a\n",
        "#출력: 없음(입력으로 주어진 a가 정렬됨)\n",
        "\n",
        "def merge_sort(a):\n",
        "  n = len(a)\n",
        "  #종료 조건: 정렬할 리스트의 자료 개수가 한개 이하이면 정렬할 필요가 없음\n",
        "  if n <= 1:\n",
        "    return\n",
        "  #그룹을 나누어 각각 병합 정렬을 호출하는 과정\n",
        "  mid = n//2 #몫\n",
        "  g1 = a[:mid]\n",
        "  g2 = a[mid:]\n",
        "  merge_sort(g1)\n",
        "  merge_sort(g2)\n",
        "  #두 그룹을 합치는 과정(병합)\n",
        "  i1 = 0\n",
        "  i2 = 0\n",
        "  ia = 0\n",
        "  while i1 < len(g1) and i2 < len(g2):\n",
        "    if g1[i1] > g2[i2]: #부등호 방향 뒤집기\n",
        "      a[ia] = g1[i1]\n",
        "      i1 += 1\n",
        "      ia += 1\n",
        "    else:\n",
        "      a[ia] = g2[i2]\n",
        "      i2 += 1\n",
        "      ia += 1\n",
        "  while i1< len(g1):\n",
        "      a[ia] = g1[i1]\n",
        "      i1 += 1\n",
        "      ia += 1\n",
        "  while i2 < len(g2):\n",
        "      a[ia] = g2[i2]\n",
        "      i2 += 1\n",
        "      ia += 1\n",
        "d = [6,8,3,9,10,1,2,4,7,5]\n",
        "merge_sort(d)\n",
        "print(d)"
      ],
      "execution_count": 19,
      "outputs": [
        {
          "output_type": "stream",
          "text": [
            "[10, 9, 8, 7, 6, 5, 4, 3, 2, 1]\n"
          ],
          "name": "stdout"
        }
      ]
    },
    {
      "cell_type": "markdown",
      "metadata": {
        "id": "5zzPTMmh7SUF"
      },
      "source": [
        "퀵 정렬\n",
        "\n",
        "- 기준 키를 기준으로 작거나 같은 값을 지닌 데이터는 앞으로, 큰 값을 지닌 데이터는 뒤로 가도록 하여 작은 값을 갖는 데이터와 큰 값을 갖는 데이터로 분리 해가며 정렬하는 방법\n",
        "\n",
        "- 평균적으로 가장 좋은 성능을 가져 현장에서 가장 많이 쓰이는 정렬 알고리즘\n",
        "\n"
      ]
    },
    {
      "cell_type": "code",
      "metadata": {
        "colab": {
          "base_uri": "https://localhost:8080/"
        },
        "id": "pybN0AhG8kiE",
        "outputId": "b1f24b4c-d69f-4f55-85c5-9221ca74e58a"
      },
      "source": [
        "#쉽게 설명한 퀵 정렬 알고리즘\n",
        "#입력: 리스트 a\n",
        "#출력: 정렬된 새 리스트\n",
        "\n",
        "def quick_sort(a):\n",
        "  n = len(a)\n",
        "  #종료 조건: 정렬할 리스트의 자료 개수가 한 개 이하이면 정렬할 필요가 없음\n",
        "  if n <= 1:\n",
        "    return a\n",
        "  #기준 값을 정하고 기준에 맞춰 그룹을 나누는 과정\n",
        "  pivot = a[-1] #편의상 리스트의 마지막 값을 기준 값으로 정함\n",
        "  g1 = [] #그룹1: 기준 값보다 작은 값을 담을 리스트\n",
        "  g2 = [] #그룹2: 기준 값보다 큰 값을 담을 리스트\n",
        "  for i in range(0, n-1): #마지막 값은 기준 값이므로 제외\n",
        "    if a[i] < pivot: #기준 값과 비교\n",
        "      g1.append(a[i]) #작으면 g1에 추가\n",
        "    else:\n",
        "      g2.append(a[i]) #크면 g2에 추가\n",
        "  #각 그룹에 대해 재귀 호출로 퀵 정렬을 한 후\n",
        "  # 기준 값과 합쳐 하나의 리스트로 결과값 반환\n",
        "  return quick_sort(g1) +[pivot] +quick_sort(g2)\n",
        "\n",
        "d =[6,8,3,9,10,2,4,7,5]\n",
        "print(quick_sort(d))"
      ],
      "execution_count": 26,
      "outputs": [
        {
          "output_type": "stream",
          "text": [
            "[2, 3, 4, 5, 6, 7, 8, 9, 10]\n"
          ],
          "name": "stdout"
        }
      ]
    },
    {
      "cell_type": "code",
      "metadata": {
        "colab": {
          "base_uri": "https://localhost:8080/"
        },
        "id": "tKwm3KpI-DbE",
        "outputId": "50c11a66-df4d-4a10-a392-8c85924d22d2"
      },
      "source": [
        "#일반적인 퀵 정렬 알고리즘\n",
        "#퀵 정렬 \n",
        "#입력: 리스트 a\n",
        "#출력: 없음(입력으로 주어진a가 정렬됨)\n",
        "#리스트 a의 어디부터(start) 어디까지(end)가 정렬 대상인지\n",
        "#범위를 지정하여 정렬하는 재귀 호출 함수\n",
        "def quick_sort_sub(a, start, end):\n",
        "  #종료 조건: 정렬 대상이 1개 이하면 정렬할 필요 없음\n",
        "  if end - start <= 0:\n",
        "    return\n",
        "  #기준 값을 정하고 기준 값에 맞춰 리스트 안에서 각 자료의 위치를 맞춤\n",
        "  #[기준 값보다 작은 값들, 기준 값, 기준 값보다 큰 값들]\n",
        "  pivot = a[end] #편의상 리스트의 마지막 값을 기준으로 정함\n",
        "  i = start \n",
        "  for j in range(start, end):\n",
        "    if a[j] <= pivot:\n",
        "      a[i], a[j] = a[j], a[i]\n",
        "      i += 1\n",
        "  a[i],a[end] = a[end], a[i]\n",
        "  #재귀 호출 부분\n",
        "  quick_sort_sub(a, start, i -1) #기준 값보다 작은 그룹을 재귀 호출로 다시 정렬\n",
        "  quick_sort_sub(a, i+1, end)  #기준 값보다 큰 그룹을 재귀 호출로 다시 정렬\n",
        "\n",
        "#리스트 전체(0~len(a)-1) 를 대상으로 재귀 호출 함수 호출\n",
        "def quick_sort(a):\n",
        "  quick_sort_sub(a, 0, len(a)-1)\n",
        "\n",
        "d = [6,8,3,9,10,1,2,4,7,5]\n",
        "quick_sort(d)\n",
        "print(d)"
      ],
      "execution_count": 27,
      "outputs": [
        {
          "output_type": "stream",
          "text": [
            "[1, 2, 3, 4, 5, 6, 7, 8, 9, 10]\n"
          ],
          "name": "stdout"
        }
      ]
    },
    {
      "cell_type": "markdown",
      "metadata": {
        "id": "cyz2o2qUBvoj"
      },
      "source": [
        "기준값의 중요성\n",
        "- 퀵 정렬에서 '좋은 기준'을 정하는 것이 정렬의 효율성을 가늠하므로 굉장히 중요\n",
        "\n",
        "- 기준이 가장 작으면, 기준 보다 작은 그룹g1 에는 하나도 없고 g2에는 나머지 모두가 있는 상황이됨.\n",
        "\n",
        "- 이렇게 되면 그룹을 둘로 나눈 의미가 없어져 퀵 정렬의 효율이 낮아짐\n",
        "\n"
      ]
    },
    {
      "cell_type": "markdown",
      "metadata": {
        "id": "O4m3mIQgCTIr"
      },
      "source": [
        "#버블 정렬\n",
        "\n",
        "- 이웃하는 숫자를 비교하여 작은 수를 앞쪽으로 이동시키는 과정을 반복하여 정렬하는 알고리즘\n",
        "\n",
        "- 주어진 파일에서 인접한 2개의 레코드 키값을 비교하여 그 크기에 따라 레코드 위치를 서로 교환하는 정렬 방식\n",
        "\n",
        "- 오름차순으로 정렬한다면 작은 수는 배열의 앞부분으로 이동\n"
      ]
    },
    {
      "cell_type": "code",
      "metadata": {
        "colab": {
          "base_uri": "https://localhost:8080/"
        },
        "id": "gqo4P9p0Bdxg",
        "outputId": "0801b6de-29fc-4a64-e989-1fc9131515f1"
      },
      "source": [
        "#거품정렬\n",
        "#입력: 리스트 a\n",
        "#출력: 없음(입력으로 주어진 a가 정렬됨)\n",
        "\n",
        "def bubble_sort(a):\n",
        "  n = len(a)\n",
        "  while True: #정렬이 완료될 때까지 계속 수행\n",
        "    changed = False #자료를 앞뒤로 바꾸었는지 여부\n",
        "    #자료를 훑어 보면서 뒤집힌 자료가 있으면 바꾸고 바뀌었다고 표시\n",
        "    for i in range(0, n -1):\n",
        "      if a[i]> a[i+1]: #앞이 뒤보다 크면\n",
        "        print(a)       #정렬 과정 출력(참고용)\n",
        "        a[i], a[i+1] = a[i+1], a[i] #두 자료의 위치를 맞바꿈\n",
        "        changed = True #자료가 앞뒤로 바뀌었음을 기록\n",
        "    #자료를 한번 훑어보는 동안 바뀐 적이 없다면 정렬이 완성된 것이므로 종료\n",
        "    #바뀐 적이 있으면 다시 앞에서 부터 비교 반복\n",
        "    if changed == False:\n",
        "        return\n",
        "\n",
        "d = [2,4,5,1,3]\n",
        "bubble_sort(d)\n",
        "print(d)"
      ],
      "execution_count": 30,
      "outputs": [
        {
          "output_type": "stream",
          "text": [
            "[2, 4, 5, 1, 3]\n",
            "[2, 4, 1, 5, 3]\n",
            "[2, 4, 1, 3, 5]\n",
            "[2, 1, 4, 3, 5]\n",
            "[2, 1, 3, 4, 5]\n",
            "[1, 2, 3, 4, 5]\n"
          ],
          "name": "stdout"
        }
      ]
    },
    {
      "cell_type": "markdown",
      "metadata": {
        "id": "fIW0jc9CEFLL"
      },
      "source": [
        "- 거품 정렬의 입력으로 이미 정렬된 리스트가 주어졌을 때는 리스트를 한번 훑어보는 동안 바꿀 자료가 없으므로 바로 정렬이 종료됨\n",
        "\n",
        "- 즉, 최선의 경우 계산 복잡도는 O(n)\n",
        "\n",
        "- 단 이미 정렬된 리스트가 아닌 일반적인 입력에 대한 거품 정렬의 계산 복잡도는 O(n^2)\n",
        "\n",
        "- 하지만 거품 정렬은 자료 위치를 서로 바꾸는 횟수가 선택 정렬이나 삽입 정렬보다 더 많기 때문에 실제로 더 느리게 동작한다는 단점이 있음\n",
        "\n"
      ]
    },
    {
      "cell_type": "code",
      "metadata": {
        "id": "5UuOz3tzDypI"
      },
      "source": [
        ""
      ],
      "execution_count": null,
      "outputs": []
    }
  ]
}