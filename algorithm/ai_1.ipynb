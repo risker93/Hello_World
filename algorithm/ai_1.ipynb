{
 "cells": [
  {
   "cell_type": "code",
   "execution_count": 2,
   "metadata": {},
   "outputs": [
    {
     "name": "stdout",
     "output_type": "stream",
     "text": [
      "5\n",
      "3\n",
      "\n",
      "5.0\n",
      "3.0\n"
     ]
    }
   ],
   "source": [
    "import math #수학 모듈을 사용\n",
    "\n",
    "#절대값 알고리즘 1 (부호판단)\n",
    "#입력: 실수a \n",
    "#출력: a의 절대값\n",
    "\n",
    "def abs_sign(a):\n",
    "    if a >= 0:\n",
    "        return a\n",
    "    else:\n",
    "        return -a\n",
    "    \n",
    "#절대값 알고리즘2(제곱- 제곱근)\n",
    "#입력: 실수a\n",
    "#출력: a의 절대값\n",
    "\n",
    "def abs_square(a):\n",
    "    b = a * a\n",
    "    return math.sqrt(b) #수학 모듈의 제곱근 함수\n",
    "\n",
    "print(abs_sign(5))\n",
    "print(abs_sign(-3))\n",
    "print()\n",
    "print(abs_square(5))\n",
    "print(abs_square(-3))"
   ]
  },
  {
   "cell_type": "code",
   "execution_count": 5,
   "metadata": {},
   "outputs": [
    {
     "name": "stdout",
     "output_type": "stream",
     "text": [
      "5050\n",
      "55\n"
     ]
    }
   ],
   "source": [
    "#1부터 n 까지 연속한 숫자의 합을 구하는 알고리즘1\n",
    "#입력:n\n",
    "#출력:1부터 n 까지의 숫자를 더한 값\n",
    "\n",
    "def sum_n(n):\n",
    "    s=0\n",
    "    for i in range(1, n+1):\n",
    "        s = s + i \n",
    "    return s\n",
    "\n",
    "print(sum_n(100))\n",
    "print(sum_n(10))"
   ]
  },
  {
   "cell_type": "code",
   "execution_count": 6,
   "metadata": {},
   "outputs": [
    {
     "name": "stdout",
     "output_type": "stream",
     "text": [
      "5050\n",
      "55\n"
     ]
    }
   ],
   "source": [
    "#1부터 n까지 연속한 숫자의 합을 구하는 알고리즘2\n",
    "#입력:n\n",
    "#출력:1부터 n 까지의 숫자를 더한 값\n",
    "\n",
    "def sum_n(n):\n",
    "    return n * ( n + 1 )//2  #슬래시 두개 // 는 정수 나눗셈을 의미\n",
    "\n",
    "print(sum_n(100))\n",
    "print(sum_n(10))"
   ]
  },
  {
   "cell_type": "code",
   "execution_count": 19,
   "metadata": {},
   "outputs": [
    {
     "name": "stdout",
     "output_type": "stream",
     "text": [
      "338350\n"
     ]
    }
   ],
   "source": [
    "#1부터 n까지의 숫자의 제곱의 합을 구하는 프로그램\n",
    "\n",
    "def md_sum(n):\n",
    "    s = 0\n",
    "    for i in range(1, n+1):\n",
    "        s = s + (i*i)\n",
    "    return s\n",
    "\n",
    "print(md_sum(100))"
   ]
  },
  {
   "cell_type": "code",
   "execution_count": 20,
   "metadata": {},
   "outputs": [
    {
     "name": "stdout",
     "output_type": "stream",
     "text": [
      "338350\n"
     ]
    }
   ],
   "source": [
    "#1부터 n까지의 숫자의 제곱의 합을 구하는 프로그램2\n",
    "\n",
    "def md_sum2(n):\n",
    "    return n*(n+1)*(2*n+1) //6\n",
    "print(md_sum2(100))"
   ]
  },
  {
   "cell_type": "code",
   "execution_count": 22,
   "metadata": {},
   "outputs": [
    {
     "name": "stdout",
     "output_type": "stream",
     "text": [
      "222\n"
     ]
    }
   ],
   "source": [
    "#최대값 구하기\n",
    "#입력: 숫자가 n개 들어 있는 리스트\n",
    "#출력: 숫자 n개 중 최댓값\n",
    "\n",
    "def find_max(a):\n",
    "    n = len(a) #입력크기 n\n",
    "    max_v = a[0] #리스트의 첫번째 값을 최댓값으로 기억\n",
    "    for i in range(1,n): #1부터 n-1 까지 반복\n",
    "        if a[i] > max_v:#이번 값이 현재까지 기억된 최댓값보다 크면\n",
    "            max_v = a[i] #최대값을 변경\n",
    "    return max_v\n",
    "\n",
    "print(find_max([1,2,3,4,5,55,66,11,123,44,1,222]))"
   ]
  },
  {
   "cell_type": "code",
   "execution_count": 24,
   "metadata": {},
   "outputs": [
    {
     "name": "stdout",
     "output_type": "stream",
     "text": [
      "1\n"
     ]
    }
   ],
   "source": [
    "#최솟값 구하기\n",
    "#입력: 숫자가 n개 들어 있는 리스트\n",
    "#출력: 숫자 n 개 중 최솟값\n",
    "\n",
    "def find_min(a):\n",
    "    n = len(a) #입력크기 n\n",
    "    min_v = a[0] #리스트 중 첫 번째 값을 일단 최솟값으로 기억\n",
    "    for i in range(1, n):\n",
    "        if a[i] < min_v: #이번 값이 현재까지 기억된 최솟값보다 작으면\n",
    "            min_v = a[i]\n",
    "    return min_v\n",
    "\n",
    "print(find_min([1,2,3,4,5,55,66,11,123,44,1,222]))"
   ]
  },
  {
   "cell_type": "code",
   "execution_count": 34,
   "metadata": {},
   "outputs": [
    {
     "name": "stdout",
     "output_type": "stream",
     "text": [
      "{1, 2, 3, 4}\n",
      "{1, 3, 4}\n",
      "False\n",
      "True\n",
      "set()\n"
     ]
    }
   ],
   "source": [
    "#집합 \n",
    "#빈 집합을 만들려면 set()를 이용\n",
    "#자료를 추가 하려면 add()이용\n",
    "#집합은 중복 허용이 안된다\n",
    "#집합은 순서가 중요하지 않다\n",
    "\n",
    "s = set()\n",
    "len(s) #빈 집합니므로 0\n",
    "s.add(1)\n",
    "s.add(2)\n",
    "s.add(3)\n",
    "s.add(4)\n",
    "print(s)\n",
    "\n",
    "#discard(x) 집합에 자료 x 가 들어 있다면 삭제합니다(없으면 변화 없음)\n",
    "s.discard(2)\n",
    "print(s)\n",
    "\n",
    "# x in s 어떤 자료 x 가 집합 s 에 들어 있는지 확인\n",
    "\n",
    "print(2 in s)\n",
    "print(1in s)\n",
    "\n",
    "#clear() 집합의 모든 자료를 지운다.\n",
    "s.clear()\n",
    "print(s)"
   ]
  },
  {
   "cell_type": "code",
   "execution_count": 36,
   "metadata": {},
   "outputs": [
    {
     "name": "stdout",
     "output_type": "stream",
     "text": [
      "{'100조'}\n"
     ]
    }
   ],
   "source": [
    "#동명 이인을 찾는 알고리즘\n",
    "#두번 이상 나온 이름찾기\n",
    "#입력: 이름이 n개 들어 있는 리스트\n",
    "#출력: 이름이 n개 반복되는 이름의 집합\n",
    "\n",
    "def find_same_name(a):\n",
    "    n = len(a) #리스트의 자료 재수를 n에 저장\n",
    "    result = set() #결과를 저장할 빈 집합\n",
    "    for i in range(0, n-1):          #0부터 n-2까지 반복\n",
    "        for j in range(i+1, n):      #i+1부터 n-1까지 반복\n",
    "            if a[i] == a[j]:         #이름이 같으면\n",
    "                result.add(a[i])     #찾은 이름을 result에 추가\n",
    "    return result\n",
    "\n",
    "name = ['100조', '생산수단', '자본가', '100조', '기업가']\n",
    "\n",
    "print(find_same_name(name))"
   ]
  },
  {
   "cell_type": "code",
   "execution_count": 43,
   "metadata": {},
   "outputs": [
    {
     "name": "stdout",
     "output_type": "stream",
     "text": [
      "100조 - 생산수단\n",
      "100조 - 자본가\n",
      "100조 - 기업가\n",
      "생산수단 - 자본가\n",
      "생산수단 - 기업가\n",
      "자본가 - 기업가\n",
      "None\n"
     ]
    }
   ],
   "source": [
    "#두명을 뽑아 짝으로 만드는 프로그램\n",
    "\n",
    "#n명에서 두명을 뽑아 짝을 만드는 모든 경우를 찾는 알고리즘\n",
    "#입력: n명의 이름이 들어 있는 리스트\n",
    "#출력: 두 명을 뽑아 만들 수 있는는 모든 짝\n",
    "\n",
    "def print_pairs(a):\n",
    "    n=len(a) #리스트의 자료 개수를 n 에 저장\n",
    "    for i in range(0, n-1): #0부터 n-2까지 반복\n",
    "        for j in range(i+1, n): #i+1 부터 n-1 까지 반복\n",
    "            print(a[i], \"-\", a[j])\n",
    "            \n",
    "name = ['100조', '생산수단', '자본가', '기업가']\n",
    "len(name)\n",
    "\n",
    "\n",
    "print(print_pairs(name))"
   ]
  },
  {
   "cell_type": "code",
   "execution_count": 45,
   "metadata": {},
   "outputs": [
    {
     "name": "stdout",
     "output_type": "stream",
     "text": [
      "120\n"
     ]
    }
   ],
   "source": [
    "#팩토리얼을 구하는 알고리즘\n",
    "#연속한 숫자의 곱을 구하는 알고리즘\n",
    "#입력 n\n",
    "#출력 1부터 n까지 연속한 숫자를 곱한 값\n",
    "\n",
    "def fact(n):\n",
    "    f=1\n",
    "    for i in range(1, n+1): # 1부터 n 까지 반복 (n+1은 제외)\n",
    "        f = f * i\n",
    "    return f\n",
    "\n",
    "print(fact(5))"
   ]
  },
  {
   "cell_type": "code",
   "execution_count": 46,
   "metadata": {},
   "outputs": [
    {
     "name": "stdout",
     "output_type": "stream",
     "text": [
      "120\n"
     ]
    }
   ],
   "source": [
    "#팩토리얼을 구하는 알고리즘2\n",
    "\n",
    "def fact2(n):\n",
    "    if n <=1:\n",
    "        return 1\n",
    "    return n*fact2(n-1)\n",
    "\n",
    "print(fact(5))"
   ]
  },
  {
   "cell_type": "code",
   "execution_count": 47,
   "metadata": {},
   "outputs": [
    {
     "name": "stdout",
     "output_type": "stream",
     "text": [
      "55\n"
     ]
    }
   ],
   "source": [
    "#재귀호출을 이용해 1부터 n 까지의 합 구하기\n",
    "\n",
    "#연속한 숫자의 합을 구하는 알고리즘\n",
    "#입력 n\n",
    "#출력 1부터 n까지 연속한 숫자를 더한 합\n",
    "\n",
    "def sum_n(n):\n",
    "    if n == 0:\n",
    "        return 0\n",
    "    return sum_n(n-1) + n\n",
    "\n",
    "print(sum_n(10))"
   ]
  },
  {
   "cell_type": "code",
   "execution_count": 48,
   "metadata": {},
   "outputs": [
    {
     "name": "stdout",
     "output_type": "stream",
     "text": [
      "92\n"
     ]
    }
   ],
   "source": [
    "#재귀호출을 이용한 최대값 찾기\n",
    "#최대값 구하기\n",
    "#입력 숫자가 n 개 들어 있는 리스트\n",
    "#출력: 숫자 n개 중 최대값\n",
    "\n",
    "def find_max(a, n): #리스트 a의 앞부분 n 개 중 최대값을 구하는 재귀함수\n",
    "    if n == 1:\n",
    "        return a[0]\n",
    "    max_n_1 = find_max(a,n -1) #n-1개 중 최댓값을 구함\n",
    "    if max_n_1 > a[n-1]: #n-1개 중 최댓값과 n-1번 위치 값을비교\n",
    "        return max_n_1\n",
    "    else:\n",
    "        return a[n-1]\n",
    "v = [17, 92, 18, 33, 58, 7, 33, 42]\n",
    "print(find_max(v,len(v)))"
   ]
  },
  {
   "cell_type": "code",
   "execution_count": 51,
   "metadata": {},
   "outputs": [
    {
     "name": "stdout",
     "output_type": "stream",
     "text": [
      "2\n"
     ]
    }
   ],
   "source": [
    "#재귀호출을 이용한 최댓값 찾기\n",
    "#최대공약수 구하기\n",
    "#입력 a,b\n",
    "#출력: a와 b의 최대공약수\n",
    "\n",
    "def gcd(a, b):\n",
    "    i = min(a,b) #두 수 중에서 최솟값을 구하는 파이썬 함수\n",
    "    while True:\n",
    "        if a % i == 0 and b % i == 0:\n",
    "            return i\n",
    "        \n",
    "        i = i - 1 #i를 1만큼 감소시킴\n",
    "    \n",
    "print(gcd(10,246))"
   ]
  },
  {
   "cell_type": "code",
   "execution_count": 52,
   "metadata": {},
   "outputs": [
    {
     "name": "stdout",
     "output_type": "stream",
     "text": [
      "12\n"
     ]
    }
   ],
   "source": [
    "#유클리드 방식을 이용해 최대공약수를 구하는 알고리즘\n",
    "#최대공약수 구하기\n",
    "#입력 a,b\n",
    "#출력 a와 b의 최대공약수\n",
    "\n",
    "def gcd(a,b):\n",
    "    if b == 0: #종료 조건\n",
    "        return a\n",
    "    return gcd(b, a%b) # 좀 더 작은 값으로 자기 자신을 호출\n",
    "\n",
    "print(gcd(60,24))"
   ]
  },
  {
   "cell_type": "code",
   "execution_count": 53,
   "metadata": {},
   "outputs": [
    {
     "name": "stdout",
     "output_type": "stream",
     "text": [
      "n = 1\n",
      "1 -> 3\n",
      "n = 2\n",
      "1 -> 2\n",
      "1 -> 3\n",
      "2 -> 3\n",
      "n=3\n",
      "1 -> 3\n",
      "1 -> 2\n",
      "3 -> 2\n",
      "1 -> 3\n",
      "2 -> 1\n",
      "2 -> 3\n",
      "1 -> 3\n"
     ]
    }
   ],
   "source": [
    "#하노이탑 알고리즘\n",
    "#입력 옮기려는 원반의 갯수 n\n",
    "# 옮길 원반이 현재 있는 출발점 기둥 from_pos\n",
    "# 원반을 옮길 도착점 기둥 to_pos\n",
    "# 옮기는 과정에서 사용할 보조 기둥 aux_pos\n",
    "#출력: 원반을 옮기는 순서\n",
    "\n",
    "def hanoi(n, from_pos, to_pos, aux_pos):\n",
    "    if n == 1: #원반 한 개를 옮기는 문제면 그냥 옮기면 됨\n",
    "        print(from_pos, \"->\" , to_pos)\n",
    "        return\n",
    "    \n",
    "    #원반 n-1개를 auxpos로 이동(to_pos를 보조 기둥으로)\n",
    "    hanoi(n-1, from_pos, aux_pos, to_pos)\n",
    "    #가장 큰 원반을 목적지로 이동\n",
    "    print(from_pos, \"->\", to_pos)\n",
    "    #aux_pos에 있는 원반 n-1개를 목적지로 이동(from_pos 를 보조 기둥으로)\n",
    "    hanoi(n-1, aux_pos, to_pos, from_pos)\n",
    "    \n",
    "print(\"n = 1\")\n",
    "hanoi(1,1, 3, 2)# 원반 한개를 1번 기둥에서 3번 기둥으로 이동(2번을 보조 기둥으로)\n",
    "\n",
    "print(\"n = 2\")\n",
    "hanoi(2, 1, 3, 2)#원반 두개를 1번 기둥에서 3번 기둥으로 이동(2번을 보조 기둥으로)\n",
    "\n",
    "print(\"n=3\")\n",
    "hanoi(3, 1, 3,2)"
   ]
  },
  {
   "cell_type": "code",
   "execution_count": 54,
   "metadata": {},
   "outputs": [
    {
     "name": "stdout",
     "output_type": "stream",
     "text": [
      "2\n",
      "3\n",
      "-1\n"
     ]
    }
   ],
   "source": [
    "#순차탐색 알고리즘\n",
    "#리스트에서 특정 숫자 위치 찾기\n",
    "#입력: 리스트 a, 찾는값 x\n",
    "#출력:찾으면 그 값의 위치, 찾지 못하면 -1\n",
    "def search_list(a, x):\n",
    "    n = len(a) #입력크기 n\n",
    "    for i in range(0,n): #리스트 a의 모든 값을 차례로\n",
    "        if x == a[i]: #x 값과 비교하여 \n",
    "            return i #같으면 위치 돌려줍니다.\n",
    "    return -1 #끝까지 비교해서 없으면 -1을 돌려줍니다.\n",
    "\n",
    "v = [ 17,92,18,33,58,7,33,42]\n",
    "print(search_list(v,18))\n",
    "print(search_list(v,33))\n",
    "print(search_list(v,900))"
   ]
  },
  {
   "cell_type": "code",
   "execution_count": 55,
   "metadata": {},
   "outputs": [
    {
     "name": "stdout",
     "output_type": "stream",
     "text": [
      "[2]\n",
      "[3, 6]\n"
     ]
    }
   ],
   "source": [
    "#리스트에서 특정 숫자의 위치를 전부 찾기\n",
    "#입력: 리스트a, 찾는 값 x\n",
    "#출력: 찾는 값의 위치 번호가 담긴 리스트, 찾는 값이 없으면 빈 리스트[]\n",
    "\n",
    "def search_list(a, x):\n",
    "    n = len(a) #입력크기 n\n",
    "    result = [] #새 리스트를 만들어 결과값을 저장\n",
    "    for i in range(0, n): #리스트 a의 모든 갓을 차례로\n",
    "        if x == a[i]: #값과 비교하여\n",
    "            result.append(i) #같으면 위치 번호를 결과 리스트에 추가\n",
    "    \n",
    "    return result\n",
    "\n",
    "v = [17, 92, 18, 33, 58, 7, 33, 42]\n",
    "print(search_list(v,18))\n",
    "print(search_list(v,33))"
   ]
  },
  {
   "cell_type": "code",
   "execution_count": 56,
   "metadata": {},
   "outputs": [
    {
     "name": "stdout",
     "output_type": "stream",
     "text": [
      "Summer\n",
      "?\n"
     ]
    }
   ],
   "source": [
    "#학생 번호에 해당하는 학생 이름찾기\n",
    "#학생 번호에 해당하는 학생 이름 찾기\n",
    "#입력: 학생 번호 리스트 s_no, 학생 이름 리스트 s_name, 찾는 학생 번호 find_no\n",
    "#출력:해당하는 학생 이름, 학생 이름이 없으면 물음표 \"?\"\n",
    "\n",
    "def get_name(s_no, s_name, find_no):\n",
    "    n = len(s_no) #입력크기 n\n",
    "    for i in range(0, n):\n",
    "        if find_no == s_no[i]: #학생 번호가 찾는 학생 번호와 같으면\n",
    "            return s_name[i] #해당 학생 이름을 결과로 반환\n",
    "    return \"?\" #자료를 다 뒤져서 못 찾았으면 물음표 반환\n",
    "\n",
    "sample_no = [39, 14, 67, 105]\n",
    "sample_name = [\"justin\", \"john\", \"Mike\", \"Summer\"]\n",
    "print(get_name(sample_no, sample_name, 105))\n",
    "print(get_name(sample_no, sample_name, 777))"
   ]
  },
  {
   "cell_type": "code",
   "execution_count": 59,
   "metadata": {},
   "outputs": [
    {
     "name": "stdout",
     "output_type": "stream",
     "text": [
      "3\n",
      "[1, 2, 3, 4, 5]\n"
     ]
    }
   ],
   "source": [
    "#쉽게 설명한 선택 정렬 알고리즘\n",
    "#입력 리스트 a\n",
    "#출력 정렬된 새 리스트\n",
    "\n",
    "#주어진 리스트에서 최솟값의 위치를 돌려주는 함수\n",
    "def find_min_idx(a):\n",
    "    n = len(a)\n",
    "    min_idx = 0\n",
    "    for i in range(1, n):\n",
    "        if a[i] < a[min_idx]:\n",
    "            min_idx = i\n",
    "    return min_idx\n",
    "\n",
    "def sel_sort(a):\n",
    "    result = [] #새 리스트를 만들어 정렬된 값을 저장\n",
    "    while a: #주어진 리스트에 값이 남아있는 동안 계속\n",
    "        min_idx = find_min_idx(a) #리스트에 남아 있는 값 중 최솟값의 위치\n",
    "        value = a.pop(min_idx) #찾은 최솟값을 빼내어 value에 저장\n",
    "        result.append(value) #value를 결과 리스트 끝에 추가\n",
    "    return result\n",
    "\n",
    "d = [2,4,5,1,3]\n",
    "print(find_min_idx(d))\n",
    "print(sel_sort(d))\n"
   ]
  },
  {
   "cell_type": "code",
   "execution_count": 3,
   "metadata": {},
   "outputs": [
    {
     "name": "stdout",
     "output_type": "stream",
     "text": [
      "[1, 2, 3, 4, 5]\n"
     ]
    }
   ],
   "source": [
    "#일반적인 선택 정렬 알고리즘\n",
    "#입력 리스트a\n",
    "#출력 없음(입력으로 주어진 a가 정렬됨)\n",
    "\n",
    "def sel_sort2(a):\n",
    "    n = len(a)\n",
    "    for i in range(0, n-1): #0부터 n-2까지 반복\n",
    "    #i 번 위치부터 끝까지 자료 값 중 최솟값의 위치를 찾음\n",
    "        min_idx = i\n",
    "        for j in range(i +1, n):\n",
    "            if a[j] < a[min_idx]:\n",
    "                min_idx = j\n",
    "            #찾은 최솟값을 i번 위치로\n",
    "        a[i], a[min_idx] = a[min_idx], a[i]\n",
    "d = [2,4,5,1,3]\n",
    "sel_sort2(d)\n",
    "print(d)"
   ]
  },
  {
   "cell_type": "code",
   "execution_count": 4,
   "metadata": {},
   "outputs": [
    {
     "name": "stdout",
     "output_type": "stream",
     "text": [
      "[1, 4, 5, 2, 3]\n",
      "[1, 2, 5, 4, 3]\n",
      "[1, 2, 3, 4, 5]\n",
      "[1, 2, 3, 4, 5]\n",
      "\n",
      "[1, 2, 3, 4, 5]\n"
     ]
    }
   ],
   "source": [
    "#정렬 중간 결과 출력하기\n",
    "def sel_sort(a):\n",
    "    n = len(a)\n",
    "    for i in range(0, n-1):\n",
    "        min_idx = i\n",
    "        for j in range(i+1, n):\n",
    "            if a[j] < a[min_idx]:\n",
    "                min_idx = j\n",
    "        a[i], a[min_idx] = a[min_idx], a[i]\n",
    "        print(a) #정렬과정 출력하기\n",
    "\n",
    "d=[2,4,5,1,3]\n",
    "sel_sort(d)\n",
    "print()\n",
    "print(d)\n",
    "                \n",
    "    "
   ]
  },
  {
   "cell_type": "code",
   "execution_count": 6,
   "metadata": {},
   "outputs": [
    {
     "name": "stdout",
     "output_type": "stream",
     "text": [
      "[5, 4, 2, 1, 3]\n",
      "[5, 4, 2, 1, 3]\n",
      "[5, 4, 3, 1, 2]\n",
      "[5, 4, 3, 2, 1]\n",
      "\n",
      "[5, 4, 3, 2, 1]\n"
     ]
    }
   ],
   "source": [
    "#정렬 중간 결과 출력하기\n",
    "#큰숫자로 정렬\n",
    "def sel_sort(a):\n",
    "    n = len(a)\n",
    "    for i in range(0, n-1):\n",
    "        max_idx = i\n",
    "        for j in range(i+1, n):\n",
    "            if a[j] > a[max_idx]:\n",
    "                max_idx = j\n",
    "        a[i], a[max_idx] = a[max_idx], a[i]\n",
    "        print(a) #정렬과정 출력하기\n",
    "\n",
    "d=[2,4,5,1,3]\n",
    "sel_sort(d)\n",
    "print()\n",
    "print(d)\n",
    "                \n",
    "    "
   ]
  },
  {
   "cell_type": "code",
   "execution_count": 7,
   "metadata": {},
   "outputs": [
    {
     "name": "stdout",
     "output_type": "stream",
     "text": [
      "5\n",
      "\n",
      "-1\n"
     ]
    }
   ],
   "source": [
    "#이분 탐색 알고리즘\n",
    "#리스트에서 특정 숫자 위치 찾기(이분탐색)\n",
    "#입력:리스트a , 찾는값 x\n",
    "#출력 찾으면 그 값의 위치, 찾지 못하면 -1\n",
    "\n",
    "def binary_search(a,x):\n",
    "    #탐색할 범위를 저장하는 변수 start, end\n",
    "    #리스트 전체를 범위로 탐색 시작(0~len(a)-1)\n",
    "    start = 0\n",
    "    end = len(a) - 1\n",
    "    \n",
    "    while start <= end: #탐색할 범위가 남아있는 동안 반복\n",
    "        mid = (start + end)//2 #탐색범위의 중간위치\n",
    "        if x  == a[mid]:#발견\n",
    "            return mid\n",
    "        elif x > a[mid]: #찾는 값이 더 크면 오른쪽으로 범위를 좁혀 계속 탐색\n",
    "            start = mid+1\n",
    "        else:            #찾는 값이 더 작으면 왼쪽으로 범위를 좁혀 계속 탐색\n",
    "            end = mid -1\n",
    "    \n",
    "    return -1 # 찾지 못했을 떄\n",
    "\n",
    "d=[1,4,9,16,25,36,49,64,81]\n",
    "print(binary_search(d, 36))\n",
    "print()\n",
    "print(binary_search(d, 50))"
   ]
  },
  {
   "cell_type": "code",
   "execution_count": null,
   "metadata": {},
   "outputs": [],
   "source": []
  }
 ],
 "metadata": {
  "kernelspec": {
   "display_name": "python3_7_6",
   "language": "python",
   "name": "py3_7_6"
  },
  "language_info": {
   "codemirror_mode": {
    "name": "ipython",
    "version": 3
   },
   "file_extension": ".py",
   "mimetype": "text/x-python",
   "name": "python",
   "nbconvert_exporter": "python",
   "pygments_lexer": "ipython3",
   "version": "3.8.5"
  },
  "vp": {
   "base_numbering": 1,
   "nav_menu": {},
   "number_sections": true,
   "sideBar": true,
   "title_cell": "VisualPython",
   "title_sidebar": "VisualPython",
   "vpPosition": {
    "height": "calc(100% - 180px)",
    "right": "10px",
    "top": "110px",
    "width": "50%"
   },
   "vp_cell": false,
   "vp_section_display": true,
   "vp_window_display": false
  }
 },
 "nbformat": 4,
 "nbformat_minor": 4
}
