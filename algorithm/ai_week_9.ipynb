{
  "nbformat": 4,
  "nbformat_minor": 0,
  "metadata": {
    "colab": {
      "name": "ai_week_9.ipynb",
      "provenance": [],
      "collapsed_sections": [],
      "toc_visible": true
    },
    "kernelspec": {
      "name": "python3",
      "display_name": "Python 3"
    },
    "language_info": {
      "name": "python"
    }
  },
  "cells": [
    {
      "cell_type": "markdown",
      "metadata": {
        "id": "dJG8tJ7dBVEm"
      },
      "source": [
        "#Linear Regreession"
      ]
    },
    {
      "cell_type": "code",
      "metadata": {
        "colab": {
          "base_uri": "https://localhost:8080/",
          "height": 320
        },
        "id": "vltZ3E4MBYbg",
        "outputId": "cd10a583-498d-40c8-c170-2bb924135caf"
      },
      "source": [
        "import numpy as np                   #전처리용\n",
        "import pandas as pd                  #데이터분석용\n",
        "import matplotlib.pyplot as plt\n",
        "\n",
        "#공부시간 X와 성적 Y의 리스트를 만듭니다.\n",
        "data = [[2, 81],[4, 93], [6, 91], [8, 97]]\n",
        "x = [i[0] for i in data]\n",
        "y = [i[1] for i in data]\n",
        "\n",
        "#그래프로 나타내 봅니다.\n",
        "plt.figure(figsize=(8,5))\n",
        "plt.scatter(x,y)\n",
        "plt.show()"
      ],
      "execution_count": 2,
      "outputs": [
        {
          "output_type": "display_data",
          "data": {
            "image/png": "[encoded data removed]",
            "text/plain": [
              "<Figure size 576x360 with 1 Axes>"
            ]
          },
          "metadata": {
            "tags": [],
            "needs_background": "light"
          }
        }
      ]
    },
    {
      "cell_type": "code",
      "metadata": {
        "colab": {
          "base_uri": "https://localhost:8080/"
        },
        "id": "QxKIYL5hB9xT",
        "outputId": "13e63a0f-5cfd-4fda-d6d0-447a6e9e09b7"
      },
      "source": [
        "#리스트로 되어 있는 x와 y값을 넘파이 배열로 바꾸어 줍니다.(인덱스를 주어 하나씩 불러와 계산이 가능해지도록함.)\n",
        "x_data = np.array(x)\n",
        "y_data = np.array(y)\n",
        "\n",
        "#기울기 a와 절편 b의 값을 초기화 합니다.\n",
        "a = 0\n",
        "b = 0\n",
        "\n",
        "#학습률을 정합니다.\n",
        "lr = 0.03\n",
        "\n",
        "#몇 번 반복될지 설정합니다.\n",
        "epochs = 2001\n",
        "\n",
        "#경사 하강법을 시작합니다.\n",
        "for i in range(epochs): #epoch 수 만큼 반복\n",
        "  y_hat = a * x_data + b #y를 구하는 식을 세웁니다.\n",
        "  error = y_data - y_hat #오차를 구하는 식을 세웁니다.\n",
        "\n",
        "  #편미분 공식을 사용해서 미분\n",
        "  a_diff = -(2/len(x_data))* sum(x_data *(error)) #오차함수를 a로 미분한 값입니다. \n",
        "  b_diff = -(2/len(x_data))* sum(error) #오차함수를 b로 미분한 값입니다.\n",
        "  \n",
        "  #반대방향으로 가기 위해서 -  / 학습률과 편미분한 값을 곱해 a, b에서 뺀 다음 업데이트\n",
        "  a = a - lr * a_diff #학습률을 곱해 기존의 a값을 업데이트 합니다.\n",
        "  b = b - lr * b_diff #학습률을 곱해 기존의 b값을 업데이트 합니다.\n",
        "  \n",
        "  if i % 100 ==0:     #100번 반복될 때마다 현재의 a값, b값을 출력합니다.\n",
        "    print(\"epoch=%.f, 기울기=%.04f, 절편=%.04f\" %(i, a, b))"
      ],
      "execution_count": 3,
      "outputs": [
        {
          "output_type": "stream",
          "text": [
            "epoch=0, 기울기=27.8400, 절편=5.4300\n",
            "epoch=100, 기울기=7.0739, 절편=50.5117\n",
            "epoch=200, 기울기=4.0960, 절편=68.2822\n",
            "epoch=300, 기울기=2.9757, 절편=74.9678\n",
            "epoch=400, 기울기=2.5542, 절편=77.4830\n",
            "epoch=500, 기울기=2.3956, 절편=78.4293\n",
            "epoch=600, 기울기=2.3360, 절편=78.7853\n",
            "epoch=700, 기울기=2.3135, 절편=78.9192\n",
            "epoch=800, 기울기=2.3051, 절편=78.9696\n",
            "epoch=900, 기울기=2.3019, 절편=78.9886\n",
            "epoch=1000, 기울기=2.3007, 절편=78.9957\n",
            "epoch=1100, 기울기=2.3003, 절편=78.9984\n",
            "epoch=1200, 기울기=2.3001, 절편=78.9994\n",
            "epoch=1300, 기울기=2.3000, 절편=78.9998\n",
            "epoch=1400, 기울기=2.3000, 절편=78.9999\n",
            "epoch=1500, 기울기=2.3000, 절편=79.0000\n",
            "epoch=1600, 기울기=2.3000, 절편=79.0000\n",
            "epoch=1700, 기울기=2.3000, 절편=79.0000\n",
            "epoch=1800, 기울기=2.3000, 절편=79.0000\n",
            "epoch=1900, 기울기=2.3000, 절편=79.0000\n",
            "epoch=2000, 기울기=2.3000, 절편=79.0000\n"
          ],
          "name": "stdout"
        }
      ]
    },
    {
      "cell_type": "code",
      "metadata": {
        "colab": {
          "base_uri": "https://localhost:8080/",
          "height": 265
        },
        "id": "K1QsoHENEQi0",
        "outputId": "1ddbb9c7-46e8-48d5-adec-200270e5d8ed"
      },
      "source": [
        "#앞서 구한 기울기와 절편을 이용해 그래프를 그려 봅니다\n",
        "y_pred = a * x_data + b\n",
        "plt.scatter(x, y)\n",
        "plt.plot([min(x_data), max(x_data)], [min(y_pred), max(y_pred)])\n",
        "plt.show()"
      ],
      "execution_count": 4,
      "outputs": [
        {
          "output_type": "display_data",
          "data": {
            "image/png": "[encoded data removed]",
            "text/plain": [
              "<Figure size 432x288 with 1 Axes>"
            ]
          },
          "metadata": {
            "tags": [],
            "needs_background": "light"
          }
        }
      ]
    },
    {
      "cell_type": "markdown",
      "metadata": {
        "id": "6uv2e4shGbcz"
      },
      "source": [
        "다중 선형 회귀\n",
        "\n",
        "두개의 독립변수 X1과 X2를 사용해 변수 y를 만들경우  기울기를 두개 구해야 함\n",
        "\n",
        "y = a1x1 + a2x2 + b\n",
        "\n"
      ]
    },
    {
      "cell_type": "code",
      "metadata": {
        "colab": {
          "base_uri": "https://localhost:8080/",
          "height": 248
        },
        "id": "c1jJJH1UF3Hf",
        "outputId": "f59f7c8a-49fd-4d6d-981b-87e9cd58570b"
      },
      "source": [
        "import numpy as np\n",
        "import pandas as pd \n",
        "import matplotlib.pyplot as plt\n",
        "from mpl_toolkits import mplot3d\n",
        "\n",
        "#공부시간 X와 성적 Y의 리스트를 만듭니다\n",
        "data = [[2, 0, 81], [4, 4, 93], [6, 2, 91], [8, 3, 97]]\n",
        "x1 = [i[0] for i in data]\n",
        "x2 = [i[1] for i in data]\n",
        "y = [i[2]for i in data]\n",
        "\n",
        "#그래프로 확인해 봅니다.\n",
        "ax = plt.axes(projection = '3d')\n",
        "ax.set_xlabel('study_hours')\n",
        "ax.set_ylabel('private_class')\n",
        "ax.set_zlabel('Score')\n",
        "ax.dist = 11\n",
        "ax.scatter(x1, x2, y)\n",
        "plt.show()"
      ],
      "execution_count": 5,
      "outputs": [
        {
          "output_type": "display_data",
          "data": {
            "image/png": "[encoded data removed]",
            "text/plain": [
              "<Figure size 432x288 with 1 Axes>"
            ]
          },
          "metadata": {
            "tags": [],
            "needs_background": "light"
          }
        }
      ]
    },
    {
      "cell_type": "markdown",
      "metadata": {
        "id": "PF4dsMuNJ3lR"
      },
      "source": [
        "로지스틱 회귀\n",
        "\n",
        "참 거짓을 판단 장치를 만들어 주어진 입력값의 특징을 추출함. 이를 저장해서 모델을 만듦\n",
        "\n",
        "누군가가 비슷한 질문을 하면 만들어놓은 모델을 꺼내 답을함 > 이것이 딥러닝의 동작 원리\n",
        "\n",
        "- 선형회귀와 마찬가지로 적절한 선을 그려가는 과정\n",
        "\n",
        "- 다만 직선이 아니라 참(1) 과 거짓(0) 사이를 구분하는 S자 형태의 선을 그어주는 작업\n",
        "\n",
        "- 여기에 들어가는 함수가 시그모이드 함수 (S자 형태로 그래프가 그려지는 함수)\n",
        "\n",
        "- 공식은 y = 1/1+e^-(ax+b)  /e는 자연상수 2.718\n",
        "\n",
        "- a는 그래프의 경사도를 결정함. b값은 그래프의 좌우 이동을 의미함.(클때는 오른쪽으로, 작을때는 왼쪽으로)\n",
        "\n",
        "- a값이 작을때는(0에 가까워질때) 그래프가 평행한 모양으로 나옴, 클때는 S자\n",
        "- a와 오차의 관계:  a가 작아질수록 오차는 무한대로 커지지만, a가 커진다고 해서 오차가 없어지지 않는다.\n",
        "\n",
        "- b와 오차의 관계: b값이 너무 작아지거나 커지면 오차도 이에 따라 커진다.\n",
        "\n",
        "오차공식\n",
        "\n",
        "- 경사 하강법은 먼저 오차를 구한 다음 오차가 작은 쪽으로 이동시키는 방법\n",
        "\n",
        "- 예측 값과 실제 값의 차이, 즉 오차를 구하는 공식이 필요함.\n",
        "\n",
        "- 시그모이드 함수의 특징\n",
        "   - y값이 0과 1사이\n",
        "   - 실제 값이 1일때 예측 값이 0에 가까워지면 오차가 커짐\n",
        "   - 반대로 실제 값이 0일때 예측 값이 1에 가까워지는 경우에도 오차는 커짐\n",
        "   - 이를 공식으로 만들 수 있게 해 주는 함수가 바로 로그 함수임\n",
        "\n",
        "- 실제값이 1 일때, 0일때 그래프의 식은 각 각 -logh와 -log(1-h) 임\n",
        "- 실제값이 1 일때는 -logh 그래프를 쓰고 , -일때는 -log(1-h) 그래프를 써야 함.\n",
        "\n",
        "- 로지스틱 회귀를 위해서 시그모이드 함수를 사용한다. \n",
        "\n",
        "- 0부터 1 사이의 값을 가지는 특성 때문에 로그 함수를 함께 써야 한다 \n",
        "\n",
        "\n",
        "\n",
        "\n",
        "\n",
        "\n",
        "\n"
      ]
    },
    {
      "cell_type": "markdown",
      "metadata": {
        "id": "joIaDx1OdHLS"
      },
      "source": [
        "튜플은 순서가 있음 값을 변경 불가.\n",
        "튜플은 이런게 가능함. \n",
        "# 패킹\n",
        "\n",
        "p=1,2,'abc'\n",
        "\n",
        "print p\n",
        "\n",
        "\n",
        "\n",
        "# 언패킹\n",
        "\n",
        "x,y,z=p\n",
        "\n",
        "print x,y,z\n",
        "\n",
        "----------------------------------------\n",
        "\n",
        "집합은 순서가 없어 중복이 불가능\n",
        "\n",
        "b=set('abc')\n",
        "print(b)\n",
        "{'b', 'a', 'c'} \n",
        "\n",
        "이런 놀라운 결과가 나옴"
      ]
    },
    {
      "cell_type": "code",
      "metadata": {
        "colab": {
          "base_uri": "https://localhost:8080/"
        },
        "id": "R2vX5RMwd4k5",
        "outputId": "7ea7e691-7e91-46d2-b6d6-dc09815c4cb8"
      },
      "source": [
        "b=set('abc')\n",
        "print(b)\n"
      ],
      "execution_count": 4,
      "outputs": [
        {
          "output_type": "stream",
          "text": [
            "{'b', 'a', 'c'}\n"
          ],
          "name": "stdout"
        }
      ]
    },
    {
      "cell_type": "code",
      "metadata": {
        "colab": {
          "base_uri": "https://localhost:8080/"
        },
        "id": "RimFygLSIYVe",
        "outputId": "ed529805-6d38-46e6-ee72-0a5428f281e5"
      },
      "source": [
        "#모든 친구를 찾아서 친밀도를 계산하는 알고리즘\n",
        "\n",
        "#친구 리스트에서 자신의 모든 친구를 찾고 친구들의 친밀도를 계산하는 알고리즘\n",
        "#입력: 친구 관계 그래프g, 모든 친구를 찾을 자신 start\n",
        "#출력: 모든 친구의 이름과 자신의 친밀도\n",
        "\n",
        "def print_all_friends(g, start):\n",
        "  qu =[] #기억장소 1: 앞으로 처리해야할 (사람이름, 친밀도) 튜플을 큐에 저장\n",
        "  done = set() #기억정소2: 이미 큐에 추가한 사람들 집합에 기록(중복 방지)\n",
        "\n",
        "  qu.append((start, 0)) #(사람이름, 친밀도) 정보를 하나의 튜플로 묶어 처리(자기 자신 친밀도:0)\n",
        "  #인자로 튜플을 전달했음.\n",
        "\n",
        "  done.add(start) #집합에도 추가.\n",
        "\n",
        " #큐에 처리할 사람이 남아 있는 동안\n",
        "  while qu:\n",
        "    \n",
        "        (p,d) = qu.pop(0) #큐에서(사람이름, 친밀도) 정보를 p와 d로 각각 꺼냄\n",
        "    print(p,d)    #사람 이름과 친밀도를 출력\n",
        "    for x in g[p]: #친구들 중에\n",
        "      if x not in done: #아직 큐에 추가된 적이 없는 사람을\n",
        "        qu.append((x, d+1)) #친밀도를 1 증가시켜 큐에 추가하고\n",
        "        done.add(x)    #집합에도 추가\n",
        "    \n",
        "fr_info = {\n",
        "    'Summer':['John','Justin','Mike'],\n",
        "    'John':['Summer','Justin'],\n",
        "    'Justin':['John','Summer','Mike','May'],\n",
        "    'Mike':['Summer','Justin'],\n",
        "    'May':['Justin','Kim'],\n",
        "    'Kim':['May'],\n",
        "    'Tom':['Jerry'],\n",
        "    'Jerry':['Tom']\n",
        "}\n",
        "\n",
        "print_all_friends(fr_info, 'Summer')\n",
        "print()\n",
        "print_all_friends(fr_info, 'Jerry')"
      ],
      "execution_count": 5,
      "outputs": [
        {
          "output_type": "stream",
          "text": [
            "Summer 0\n",
            "John 1\n",
            "Justin 1\n",
            "Mike 1\n",
            "May 2\n",
            "Kim 3\n",
            "\n",
            "Jerry 0\n",
            "Tom 1\n"
          ],
          "name": "stdout"
        }
      ]
    },
    {
      "cell_type": "markdown",
      "metadata": {
        "id": "GYmVpqvncTTD"
      },
      "source": [
        "파이썬의 튜플\n",
        "\n",
        "- 여러개의 정보를 묶어서 하나의 정보처럼 사용하기 위한 기능\n",
        "\n",
        "- 튜플로 묶어서 보관하고자 하는 정보가 있다면 소괄호 안에 쉼표(,)를 찍어 나열 자료가 1개면 (1,) 이런식으로 찍어야함"
      ]
    },
    {
      "cell_type": "code",
      "metadata": {
        "colab": {
          "base_uri": "https://localhost:8080/"
        },
        "id": "A-cw2_t5cknT",
        "outputId": "d012c07d-680b-4c70-93be-1d03701c2995"
      },
      "source": [
        "t = (3,7)\n",
        "print(t)\n",
        "print()\n",
        "print(t[0]) #튜플 t의 첫번째 정보값\n",
        "print()\n",
        "print(t[1]) #튜플 t의 두번째 정보값\n",
        "print()\n",
        "(x,y) = t\n",
        "print(x)\n",
        "print(y)"
      ],
      "execution_count": 6,
      "outputs": [
        {
          "output_type": "stream",
          "text": [
            "(3, 7)\n",
            "\n",
            "3\n",
            "\n",
            "7\n",
            "\n",
            "3\n",
            "7\n"
          ],
          "name": "stdout"
        }
      ]
    },
    {
      "cell_type": "code",
      "metadata": {
        "colab": {
          "base_uri": "https://localhost:8080/"
        },
        "id": "6oY_AuYAc6RV",
        "outputId": "c4334ef7-5c2d-4bcb-fa8b-69cec13e0779"
      },
      "source": [
        "#그래프탐색: 너비 우선 탐색\n",
        "#입력: 그래프 g, 탐색 시작점 start\n",
        "#출력 : start 에서 출발해 연결된 꼭지점들을 출력\n",
        "\n",
        "def bfs(g, start):\n",
        "  qu = []           #기억 장소1: 앞으로 처리해야 할 꼭짓점을 큐에 저장\n",
        "  done = set()      #기억 장소2: 이미 큐에 추가한 꼭짓점들을 집합에 기록(중복방지)\n",
        "\n",
        "  qu.append(start)# 시작점을 큐에 넣고 시작\n",
        "  done.add(start)#집합에도 추가\n",
        "\n",
        "  while qu:    #큐에 처리할 꼭짓점이 남아 있으면\n",
        "    p = qu.pop(0)   #큐에 처리 대상을 꺼내어\n",
        "    print(p)        #꼭짓점 이름을 출력하고\n",
        "    for x in g[p]:   #대상 꼭짓점에 연결된 꼭짓점들 중에\n",
        "      if x not in done:  #아직 큐에 추가된 적이 없는 꼭짓점들을\n",
        "        qu.append(x)  #큐에 추가하고\n",
        "        done.add(x)   #집합에도 추가\n",
        "\n",
        "#그래프 정보\n",
        "g = {\n",
        "     1:[2,3],\n",
        "     2:[1,4,5],\n",
        "     3:[1],\n",
        "     4:[2],\n",
        "     5:[2]\n",
        "}\n",
        "\n",
        "bfs(g,1)"
      ],
      "execution_count": 7,
      "outputs": [
        {
          "output_type": "stream",
          "text": [
            "1\n",
            "2\n",
            "3\n",
            "4\n",
            "5\n"
          ],
          "name": "stdout"
        }
      ]
    },
    {
      "cell_type": "markdown",
      "metadata": {
        "id": "m3GyK_c3gj7h"
      },
      "source": [
        "너비우선탐색 (Breadth First Search) \n",
        "\n",
        "처리해야 할 꼭짓점을 큐에서 하나씩 꺼내 처리하고, 그 꼭짓점에 연결된 꼭짓점들을 다시 큐에 추가하면서 그래프에 탐색하는 방법\n",
        "\n",
        "\n",
        "    그래프 탐색 과정\n",
        "      \n",
        "      1. 시작 꼭짓점을 qu와 done에 각각 추가하고 시작합니다. \n",
        "\n",
        "         qu = [1], done = {1}\n",
        "\n",
        "      2. qu 에서 1을 꺼내 출력합니다. \n",
        "\n",
        "         qu = [] , done{1}\n",
        "\n",
        "      3. 1에 연결된 2, 3 을 qu와 done에 추가합니다. \n",
        "\n",
        "         qu=[2,3], done = {1,2,3}\n",
        "\n",
        "      4. qu에서 2를 꺼내 출력합니다.\n",
        "\n",
        "         qu =[3],done ={1,2,3}\n",
        "\n",
        "      5. 2에 연결된 1,4,5 중에서 1은 이미 done 에 있으므로 중복되지 않도록 제외하고 4,5를 qu와 done 에 추가합니다.\n",
        "\n",
        "         qu = [3,4,5] ,done={1,2,3,4,5}\n",
        "\n",
        "      6. qu 에서 3을 꺼내 출력합니다.\n",
        "   \n",
        "         qu = [3,4,5], done = {1,2,3,4,5}\n",
        "\n",
        "      7. 3에 연결된 1은 이미 done 에 있으므로 추가 하지 않습니다.\n",
        "\n",
        "      8. qu에서 4를 꺼내 출력합니다.\n",
        "\n",
        "         qu = [5] , done = {1,2,3,4,5}\n",
        "\n",
        "      9. 4에 연결된 2는 이미 done 에 있으므로 추가하지 않습니다.\n",
        "\n",
        "      10. qu에서 5를 꺼내 출력합니다. \n",
        "\n",
        "          qu = [], done ={1,2,3,4,5}\n",
        "\n",
        "      11. 5에 연결된 2는 이미 done에 있으므로 추가하지 않습니다.\n",
        "\n",
        "      12. qu가 비었으므로 종료함니다.\n",
        "\n",
        "      13. 이 과정으로 출력된 꼭짓점 순서는 1 → 2 → 3 → 4 → 5 입니다."
      ]
    },
    {
      "cell_type": "markdown",
      "metadata": {
        "id": "ErNtD4fykFOx"
      },
      "source": [
        "#탐욕 알고리즘 (Greedy Algorithm)\n",
        "\n",
        "- 각 단계에서 최적의 수를 찾아 전역 최적해 구하기\n",
        "\n",
        "- EX) 시간이 일부 겹치는 과목들 중 되도록 많은 수업을 들으려는 경우\n",
        "  \n",
        "  - 가장빨리 끝나는 과목을 골라 먼저 신청\n",
        "  - 첫번째 과목이 끝난후 시작하여 가장 빨리 끝나는 과목 신청\n",
        "  - 위와 같이 반복\n",
        "\n",
        "- EX) 일정 무게만 담을 수 있는 배낭에 최대 가격의 물건들 넣기\n",
        "  - 가방에 들어갈 수 있는 것 중 가장 지싼 물건을 고름\n",
        "  - 그 다음으로 들어갈 수 있는 것 중 가장 비싼 것을 고름\n",
        "  - 위와 같이 반복 \n",
        "\n",
        "- Ex) 라디오쇼를 최대한 적은 수의 방송국을 방문하면서 미국 50개 주 모두 송출 하려면?\n",
        "  - 첫번째 방법\n",
        "    -가능한 모든 방송국의 부분집합을 나열 \n",
        "      - 2^n개\n",
        "    -그 중 50개 주 전체를 커버하면서 가장 원소 수가 작은 집합 선택\n",
        "    -O(2^n)시간 소요\n",
        "      - 항목 수가 증가한다면 매우 비효율적\n",
        "\n",
        "#근사 알고리즘(Approxiamation Algorithm) 사용\n",
        "\n",
        "- 정답과 거의 비슷한 답 유추\n",
        "- 얼마나 빠른가 & 최적해에 얼마나 가까운가\n",
        "- 아직 방송하지 않은 지역중 가장 많은 지역에 방송 가능한 방송국 선택\n",
        "- 모든 주에 방송이 될 때 까지 선택 반복\n"
      ]
    },
    {
      "cell_type": "code",
      "metadata": {
        "colab": {
          "base_uri": "https://localhost:8080/"
        },
        "id": "3qzs0Vn5oF4o",
        "outputId": "e69035d3-5475-4668-be3d-6b517fae2b95"
      },
      "source": [
        "#미로찾기 알고리즘(그래프 탐색)\n",
        "#입력: 미로 정보 g, 출발점 start, 도착점 end\n",
        "#출력: 미로를 나가기 위한 이동 경로는 문자열, 나갈 수 없는 미로면 물음표(\"?\")\n",
        "\n",
        "def solve_maze(g, start, end):\n",
        "  qu = []    #기억 장소 1 : 앞으로 처리해야 할 이동 경로를 큐에 저장\n",
        "  done = set() #기억장소 2: 이미 큐에 추가한 꼭짓점들을 집합에 기록(중복 방지)\n",
        "\n",
        "  qu.append(start) #출발점을 큐에 넣고 시작\n",
        "  done.add(start)  #집합에도 추가\n",
        "\n",
        "  while qu:    #큐에 처리할 경로가 남아 있으면\n",
        "    p = qu.pop(0) #큐에서 처리 대상을 꺼냄 0번째 대상\n",
        "    v = p[-1] #큐에 저장된 이동 경로의 마지막 문자가 현재 처리해야 할 꼭짓점\n",
        "    if v == end: #처리해야 할 꼭짓점이 도착점이면(목적지 도착!)\n",
        "      return p #지금까지의 전체 이동 경로를 돌려주고 종료\n",
        "    for x in g[v]: #대상 꼭짓점에 연결된 꼭짓점들 중에\n",
        "      if x not in done: #아직 큐에 추가된 적이 없는 꼭짓점을 \n",
        "        qu.append(p + x) #이동 경로에 새 꼭짓점으로 추가하여 큐에 저장하고\n",
        "        done.add(x)      #집합에도 추가함\n",
        "\n",
        "  #탐색을 마칠 때까지도 도착점이 나오지 않으면 나갈수 없는 미로임\n",
        "  return \"?\"\n",
        "\n",
        "#미로정보\n",
        "# 미로의 각 위치에 알파벳으로 이름을 지정\n",
        "# 각 위체에서 한번 이동할 수 있는 모든 위치를 선으로 연결하여 그래프로 표현\n",
        "\n",
        "maze = {\n",
        "    'a':['e'],\n",
        "    'b':['c','f'],\n",
        "    'c':['b','d'],\n",
        "    'd':['c'],\n",
        "    'e':['a','i'],\n",
        "    'f':['b','g','j'],\n",
        "    'g':['f','h'],\n",
        "    'h':['g','l'],\n",
        "    'i':['e','m'],\n",
        "    'j':['f','k','n'],\n",
        "    'k':['j','o'],\n",
        "    'l':['h','p'],\n",
        "    'm':['i','n'],\n",
        "    'n':['m','j'],\n",
        "    'o':['k'],\n",
        "    'p':['l']\n",
        "}\n",
        "\n",
        "print(solve_maze(maze,'a', 'p'))"
      ],
      "execution_count": 9,
      "outputs": [
        {
          "output_type": "stream",
          "text": [
            "aeimnjfghlp\n"
          ],
          "name": "stdout"
        }
      ]
    },
    {
      "cell_type": "markdown",
      "metadata": {
        "id": "PdGi7hE0sfnG"
      },
      "source": [
        "- 현실 세계의 문제를 컴퓨터로 풀려면 문제를 분석하여 효과적인 모델(모형)을 만드는 것이 가장 중요한 첫걸음\n",
        "\n",
        "- 먼저 문제를 잘 모델링하고, 그 모델에 여러 가지 알고리즘을 적용하여 문제를 푼 다음 그 결과를 다시 실제 세계에 적용하는 것\n",
        "\n",
        "- 이는 실생활의 문제를 컴퓨터를 사용해서 푸는 일반적인 과정."
      ]
    },
    {
      "cell_type": "code",
      "metadata": {
        "colab": {
          "base_uri": "https://localhost:8080/"
        },
        "id": "CpmuTCWlsSI3",
        "outputId": "de998833-09c8-4e9d-a608-2fa6d2c5431d"
      },
      "source": [
        "#가짜 동전을 찾는 알고리즘1\n",
        "#주어진 동전 n개 중에 가짜 동전(fake)을 찾아내는 알고리즘\n",
        "#입력: 전체 동전 위치의 시작과 끝(0, n-1)\n",
        "#출력: 가짜 동전의 위치번호\n",
        "\n",
        "#무게 재기 함수\n",
        "#a에서 b까지 놓인 동전과\n",
        "#c에서 d까지 놓인 동전의 무게를 비교\n",
        "#a에서 b까지에 가짜 동전이 있으면(가벼우면)-1\n",
        "#c에서 d까지에 가짜 동전이 있으면(가벼우면) 1\n",
        "#가짜 동전이 없으면(양쪽 무게가 같으면) 0\n",
        "def weigh(a, b, c, d): \n",
        "  fake = 29 #가짜 동전의 위치(알고리즘은 weigh 함수를 이용하여 이 값을 맞춰야함)\n",
        "  if a <= fake and fake <= b:\n",
        "    return -1\n",
        "  if c <= fake and fake <= d:\n",
        "    return 1\n",
        "  return 0\n",
        "\n",
        "#weigh 함수(달다(저울질))를 이용하여\n",
        "#left 와 right 까지에 있는 가짜 동전의 위치를 알아냄\n",
        "def find_fakecoin(left, right):\n",
        "  for i in range(left+1, right +1): #left+1부터 right 까지 반복\n",
        "    #가장 왼쪽 동전과 나머지 동전을 차례로 비교\n",
        "    result = weigh(left, left, i, i)\n",
        "    if result == -1: #left 동전이 가벼움(left 동전이 가짜)\n",
        "      return left\n",
        "    elif result == 1: #i 동전이 가벼움(i동전이 가짜)\n",
        "      return i\n",
        "    #두 동전의 무게가 같으면 다음 동전으로\n",
        "  #모든 동전의 무게가 같으면 가짜 동전이 없는 예외 경우\n",
        "  return -1\n",
        "\n",
        "n = 100 # 전체 동전 개수\n",
        "print(find_fakecoin(0, n-1))"
      ],
      "execution_count": 11,
      "outputs": [
        {
          "output_type": "stream",
          "text": [
            "29\n"
          ],
          "name": "stdout"
        }
      ]
    },
    {
      "cell_type": "code",
      "metadata": {
        "id": "0nEjhgQ6wQUI"
      },
      "source": [
        ""
      ],
      "execution_count": null,
      "outputs": []
    }
  ]
}