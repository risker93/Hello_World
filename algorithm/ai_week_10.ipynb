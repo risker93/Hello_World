{
  "nbformat": 4,
  "nbformat_minor": 0,
  "metadata": {
    "colab": {
      "name": "ai_week_10.ipynb",
      "provenance": [],
      "collapsed_sections": [],
      "authorship_tag": "ABX9TyN1x7RtwyfGB/kq71YwwW5C",
      "include_colab_link": true
    },
    "kernelspec": {
      "name": "python3",
      "display_name": "Python 3"
    },
    "language_info": {
      "name": "python"
    }
  },
  "cells": [
    {
      "cell_type": "markdown",
      "metadata": {
        "id": "view-in-github",
        "colab_type": "text"
      },
      "source": [
        "<a href=\"https://colab.research.google.com/github/risker93/Hello_World/blob/main/algorithm/ai_week_10.ipynb\" target=\"_parent\"><img src=\"https://colab.research.google.com/assets/colab-badge.svg\" alt=\"Open In Colab\"/></a>"
      ]
    },
    {
      "cell_type": "markdown",
      "metadata": {
        "id": "lj1KGzpq7gOa"
      },
      "source": [
        "#퍼셉트론\n",
        "\n",
        "- 입력 값을 놓고 활성화 함수에 의해 일정한 수준을 넘으면 참을1, 그렇지 않으면 거짓0을 내보내는 이 간단한 회로가 하는 일이 뉴런과 같음.\n",
        "\n",
        "- 여러 층의 퍼셉트론을 서로 연결시키고 복잡하게 조합하여 주어진 입력 값에 대한 판단을 하게 하는것, 그것이 바로 신경망의 기본 구조임.\n",
        "- 신경망을 이루는 가장 중요한 기본단위는 퍼셉트론(perceptron)\n",
        "- 퍼셉트론은 입력 값과 활성화 함수를 사용해 출력 값을 다음으로 넘기는 가장 작은 신경망 단위\n",
        "\n",
        "- 기울기a 나 y절편 b 같은 용어를 퍼셉트론의 개념에 맞춰 좀 더 '딥러닝 답게' 표현해 보면 다음과 같음\n",
        "\n",
        "  y = ax+b (a는 기울기, b는 y절편)\n",
        "  \n",
        "  -> y= wx + b (w는 가중치, b는 바이어스)\n",
        "\n",
        "- 가중합: 입력값(x)과 가중치(w)의 곱을 모두 더한 다음 거기에 바이어스(b)를 더한 값.\n",
        "\n",
        "- 활성화 함수(activation function):\n",
        "  가중합의 결과를 놓고 1또는 0을 출력해서 다음으로 보냄,\n",
        "  여기서 0과 1을 판단하는 함수\n",
        "\n",
        "- 단 하나의 퍼셉트론으로는 많은 것을 기대할 수가 없음\n",
        "- 퍼셉트론의 한계와 이를 해결하는 과정을 보며 신경망의 기본 개념을 확립해 보자\n",
        "\n",
        "\n",
        "#XOR 문제\n",
        "논리 회로에 등장하는 개념\n",
        "\n",
        "- 게이트(gate): 컴퓨터는 두 가지의 디지털 값, 즉 0과 1을 입력해 하나의 값을 출력하는 회로가 모여 만들어지는 회로.\n",
        "\n",
        "AND진리표         OR진리표     XOR진리표\n",
        "0 0 0             0 0 0        0 0 0\n",
        "0 1 0             0 1 1        0 1 1\n",
        "1 0 0             1 0 1        1 0 1\n",
        "1 1 1             1 1 1        1 1 0\n",
        "\n",
        "    AND (conjunction) 논리곱 , 둘다 참일때만 참 , 나머진 거짓\n",
        "\n",
        "    OR (disjunction) 논리합, 둘다 거짓일때만 거짓, 나머진 참\n",
        "\n",
        "    NAND (negation of conjunction) 부정 논리곱, 둘다 참일때만 거짓, 나머진 참\n",
        "\n",
        "    NOR(negation of disjunction) 부정 논리합, 둘다 거짓일때만 참, 나머진 거짓\n",
        "\n",
        "    XOR(exclusive disjunction) 베타적 논리합 , 둘의 참, 거짓이 다르면 참, 같으면 거짓\n",
        "\n",
        "    XNOR(exclusive negation of disjunction)베타적부정논리합 둘의 참 거짓이 다르면 거짓, 같으면 참.\n",
        "\n",
        "- AND와 OR게이트는 직선을 그어 결과값 0, 1을 구별 할 수 있음.\n",
        "- XOR의 경우 선을 그어 구분할 수 없음\n",
        "   뉴런 → 신경망 → 지능 이라는 도식을 따라 퍼셉트론 → 인공신경망 → 인공지능 이 가능하리라 꿈꾸던 당시 사람들은 이것이 생각처럼 쉽지 않다는 사실을 깨닫게 됨\n",
        "\n",
        "- 알고 보니 간단한 XOR 문제조차 해결할 수 없었음\n",
        "- 이후 10여년이 지난 후에야 이 문제가 해결되는데, 이를 해결한 개념이 바로 다층 퍼셉트론(multilayer perceptron)\n",
        "\n"
      ]
    },
    {
      "cell_type": "markdown",
      "metadata": {
        "id": "4zW4TyNjCINN"
      },
      "source": [
        "#다층 퍼셉트론\n",
        "- 종이 위에 각각 엇갈려 놓인 검은점 두개와 흰점 두개를 하나의 선으로는 구별 할 수 없다는 것을 살펴봄\n",
        "\n",
        "- 언뜻 보기에 해답이 없어 보이는 이 문제를 해결하려면 새로운 접근이 필요함.\n",
        "- 골똘히 연구해도 답을 찾지 못했던 이 문제는 2차원 평면에서만 해결하려는 고정 관념을 깨고 피라미드 모양으로 성냥개비를 쌓아 올리니 해결됨.\n",
        "\n",
        "- 인공 신경망을 개발하기 위해서는 반드시 XOR문제를 극복 해야만 했음\n",
        "- 이 문제 역시 고정관념을 깬 기발한 아이디어에서 해결점이 보였음. \n",
        "\n",
        "- 좌표 평면 자체에 변화를 주는것\n",
        "- XOR 문제를 해결하기 위해서 우리는 두 개의 퍼셉트론을 한 번에 계산할 수 있어야 함\n",
        "- 이를 가능하게 하려면 숨어있는 층, 즉 은닉층(hidden layer)을 만들면 됨\n",
        "  \n",
        "   - 딥러닝의 딥이 의미 하는것은 은닉층이 2개 이상이면 딥.\n",
        "   \n",
        "   - 딥러닝은 입력과 출력은 아는데 안에를 모름 그래서 블랙박스 모델이라 부름\n",
        "   \n",
        "   - 그거를 찾는 방법중 하나가 오차 역전파.\n",
        "\n",
        "- 은닉층이 좌표 평면을 왜곡시키는 결과를 가져옴."
      ]
    },
    {
      "cell_type": "code",
      "metadata": {
        "colab": {
          "base_uri": "https://localhost:8080/"
        },
        "id": "DdvdkkKEEp_J",
        "outputId": "dbfaee12-ef3d-4b3f-e9fb-bf14571167aa"
      },
      "source": [
        "#가짜 동전 찾기 알고리즘 - 반씩 그룹으로 나누어 비교하기\n",
        "#주어진 동전 n개 중에 가짜 동전(fake)을 찾아내는 알고리즘\n",
        "#입력: 전체 동전 위치의 시작과 끝(0, n -1)\n",
        "#출력: 가짜 동전의 위치 번호\n",
        "\n",
        "#무게 재기 함수\n",
        "#a에서 b까지 놓인 동전과\n",
        "#c에서 d까지 넣인 동전의 무게를 비교\n",
        "#a에서 b까지 가짜 동전이 있으면(가벼우면): -1\n",
        "#c에서 d까지 가짜 동전이 있으면(가벼우면): 1\n",
        "#가짜 동전이 없으면(양쪽 무게가 같으면):0\n",
        "\n",
        "def weigh(a,b,c,d):\n",
        "  fake = 29 #가짜 동전의 위치(알고리즘은 weigh() 함수를 이용하여 이 값을 맞혀야 함)\n",
        "  if a <= fake and fake <= b:\n",
        "    return -1\n",
        "  if c <= fake and fake <= d:\n",
        "    return 1\n",
        "  return 0\n",
        "\n",
        "#weigh()함수(저울질) 를 이용하여 left와 right 까지에 놓인 가짜 동전의 위치를 찾아냄\n",
        "def find_fakecoin(left, right):\n",
        "  #종료 조건: 가짜 동전이 있을 범위 안에 동전이 한 개뿐이면 그 동전이 가짜 동전임\n",
        "  #left, right 는 어디서부터 어디까지 숫자임 즉 left와 right가 같다는 말은둘이 같은 숫자 라는말.\n",
        "  if left == right:\n",
        "    return left \n",
        "  #left 와 right 까지 놓인 동전을 두 그룹(g1_left~ g1_right, g2_left~g2_right) 으로 나눔\n",
        "   #동전 수가 홀수면 두 그룹으로 나누고 한개가 남음\n",
        "  half = (right - left + 1)//2\n",
        "  g1_left = left\n",
        "  g1_right = left + half - 1\n",
        "  g2_left = left + half\n",
        "  g2_right = g2_left + half - 1\n",
        "  #나눠진 두 그룹을 weigh() 함수를 이용하여 저울질함\n",
        "  result = weigh(g1_left, g1_right, g2_left, g2_right)\n",
        "  if result == -1:  #그룹 1이 가벼움( 가짜 동전이 이 그룹에 있음)\n",
        "    return find_fakecoin(g1_left, g1_right) # 그룹 1 범위를 재귀호출로 다시 조사\n",
        "  elif result == 1: #그룹 2가 가벼움(가짜 동전이 이 그룹에 있음)\n",
        "    return find_fakecoin(g2_left, g2_right) #그룹2 범위를 재귀 호출로 다시 조사\n",
        "  else: #두 그룹의 무게가 같으면\n",
        "    return right #두 그룹으로 나뉘지 않고 남은 나머지 한개의 동전이 가짜\n",
        "\n",
        "n = 100 #전체 동전 개수\n",
        "print(find_fakecoin(0, n - 1))"
      ],
      "execution_count": null,
      "outputs": [
        {
          "output_type": "stream",
          "text": [
            "29\n"
          ],
          "name": "stdout"
        }
      ]
    },
    {
      "cell_type": "markdown",
      "metadata": {
        "id": "vL6F_W6OPzkg"
      },
      "source": [
        "- 이 문제의 알고리즘 효율성을 '저울질 횟수' 를 기준으로 생각해 보자\n",
        "- 0번 동전과 나머지 동전을 일일이 비교하는 방법인 프로그램은 17-1은 저울질이 최대 n-1번 필요 → 계간 복잡도가 O(n)\n",
        "- 동전 n개를 절반씩 나누어 후보를 좁히며 비교하는 방법은 → 계산 복잡도가 O(log n)\n",
        "\n",
        "- 가짜 동전 문제와 순차/ 이분 탐색 알고리즘 비교\n",
        "- 순차 탐색에서는 하나씩 비교하여 값을 찾아내므로 계산 복잡도가 O(n)\n",
        "- 이분 탐색에서는 리스트가 이미 정렬되어 있다는 것을 전제로, 중간 값을 비교한 후 값이 있을 가능성이 없는 절반을 제외해 나가면서 값을 찾아내므로 계산 복잡도가 O(log n)\n",
        "- 리스트 탐색 문제와 가짜 동전 문제는 잘 생각해보면 구조가 비슷한 문제\n",
        "\n"
      ]
    },
    {
      "cell_type": "code",
      "metadata": {
        "id": "VHgyOuMmYs9t"
      },
      "source": [
        "#이중 포문 이해를 위해 아래 코드에서 잘라옴\n",
        "n = 10\n",
        "for i in range(0, n - 1):\n",
        "    for j in range(i+1, n):\n",
        "      print(i,'',j)"
      ],
      "execution_count": null,
      "outputs": []
    },
    {
      "cell_type": "code",
      "metadata": {
        "colab": {
          "base_uri": "https://localhost:8080/"
        },
        "id": "rJkwfddKW8Ja",
        "outputId": "26bfe04f-d5c1-40e4-8e97-cb6b8389fe76"
      },
      "source": [
        "#최대 수익을 구하는 알고리즘\n",
        "#주어진 주식 가격을 보고 얻을 수 있는 최대 수익을 구하는 알고리즘\n",
        "#입력: 주식 가격의 변화 값(리스트 prices)\n",
        "#출력: 한 주를 한번 사고 팔아 얻을 수 있는 최대 수익 값\n",
        "\n",
        "def max_profit(prices):\n",
        "  n = len(prices)\n",
        "  max_profit = 0 #최대 수익은 항상 0 이상의 값\n",
        "\n",
        "  for i in range(0, n - 1):\n",
        "    for j in range(i+1, n): #첫번째 포문에서 가져온 값을 빼고 나머지 값을 모두 비교\n",
        "      profit = prices[j] - prices[i] #i날에 사서 j날에 팔았을 때 얻을 수 있는 수익\n",
        "      if profit > max_profit: #이 수익이 지금까지 최대 수익보다 크면 값을 고침\n",
        "        max_profit = profit\n",
        "  return max_profit\n",
        "\n",
        "stock = [10300, 9600, 9800, 8200, 7800, 8300, 9500, 9800, 10200, 9500]\n",
        "print(max_profit(stock))"
      ],
      "execution_count": null,
      "outputs": [
        {
          "output_type": "stream",
          "text": [
            "2400\n"
          ],
          "name": "stdout"
        }
      ]
    },
    {
      "cell_type": "code",
      "metadata": {
        "id": "-EL_WKb0YzjZ",
        "colab": {
          "base_uri": "https://localhost:8080/"
        },
        "outputId": "4aeafa67-cd78-4fd6-bac8-a9fda325c8f3"
      },
      "source": [
        "#최대 수익을 구하는 알고리즘2\n",
        "#한번 반복으로 최대 수익 찾기\n",
        "#주어진 주식 가격을 보고 얻을 수 있는 최대 수익을 구하는 알고리즘\n",
        "#입력: 주식 가격의 변화값(prices)\n",
        "#출력: 한 주를 한번 사고 팔아 얻을 수 있는 최대 수익 값\n",
        "\n",
        "def max_profit(prices):\n",
        "  n = len(prices)\n",
        "  max_profit = 0 #최대 수익은 항상 0 이상의 값\n",
        "  min_price = prices[0] #첫째 날의 주가를 주가의 최솟값으로 기억\n",
        "\n",
        "  for i in range(1, n): #1부터 n-1까지 반복\n",
        "    profit = prices[i] - min_price #지금까지의 최솟값에 주식을 사서 i날에 팔 때의 수익\n",
        "    if profit > max_profit:    #이 수익이 지금까지 최대 수익보다 크면 값을 고침\n",
        "      max_profit = profit\n",
        "    if prices[i] < min_price: #i날 주가가 치솟값보다 작으면 값을 고침\n",
        "      min_price = prices[i]\n",
        "  return max_profit\n",
        "\n",
        "stock = [10300, 9600, 9800, 8200, 7800, 8300, 9500, 9800, 10200, 9500]\n",
        "print(max_profit(stock))"
      ],
      "execution_count": 19,
      "outputs": [
        {
          "output_type": "stream",
          "text": [
            "2400\n"
          ],
          "name": "stdout"
        }
      ]
    },
    {
      "cell_type": "markdown",
      "metadata": {
        "id": "uWRJJ4jjqPi4"
      },
      "source": [
        "첫 번째 알고리즘보다 두 번째 알고리즘이 더 효율적임\n",
        "\n",
        "모든 경우를 비교한 첫 번째 알고리즘은 동명이인 찾기와 비슷한 구조 → 계산 복잡도는O(n2)\n",
        "\n",
        "리스트를 한 번 탐색하면서 최대 수익을 계산한 두 번째 알고리즘은 문제 2 최댓값 찾기와 비슷한 구조 → 계산 복잡도는 O(n)\n",
        "\n"
      ]
    },
    {
      "cell_type": "code",
      "metadata": {
        "id": "qAAbUthYqwYg"
      },
      "source": [
        "#최대 수익을 구하는 두 알고리즘의 계산 속도를 비교하기\n",
        "#최대 수익 문제를 푸는 두 알고리즘의 계산 속도 비교하기\n",
        "#최대 수익 문제를 O(n*n)과 O(n)으로 푸는 알고리즘을 각각 수행하여 \n",
        "#걸린 시간을 출력/비교함\n",
        "\n",
        "import time  #시간 측정을 위한 time 모듈\n",
        "import random #테스트 주가 생성을 위한 random 모듈\n",
        "\n",
        "#최대 수익: 느린O(n*n)알고리즘\n",
        "def max_porfit_slow(prices):\n",
        "  n = len(prices)\n",
        "  max_profit = 0\n",
        "  for i in range(0, n-1):\n",
        "    for j in range(i +1, n ):\n",
        "      profit = prices[j] - prices[i]\n",
        "      if profit > max_profit:\n",
        "        max_profit = profit\n",
        "  \n",
        "  return max_profit\n",
        "\n",
        "#최대 수익: 빠른O(n) 알고리즘\n",
        "def max_profit_fast(prices):\n",
        "  n = len(prices)\n",
        "  max_profit = 0\n",
        "  min_price = prices[0]\n",
        "  for i in range(1, n):\n",
        "    profit = prices[i] - min_price\n",
        "    if profit > max_profit:\n",
        "      max_profit = profit\n",
        "    if prices[i] < min_price:\n",
        "      min_price = prices[i]\n",
        "  return max_profit\n",
        "\n",
        "def test(n):\n",
        "  #테스트 자료 만들기(5000부터 20000까지의 난수를 주가로 사용)\n",
        "  a = []\n",
        "  for i in range(0,n):\n",
        "    a.append(random.randint(5000,20000))\n",
        "    #느린 O(n*n) 알고리즘 테스트\n",
        "    start = time.time()   #계산 시작 직전 시각을 기억\n",
        "    mps = max_porfit_slow(a) #계산 수행\n",
        "    end = time.time() #계산 시작 직후 시각을 기억 \n",
        "    time_slow = end-start #두 시각을 빼면 계산에 걸린 시간\n",
        "\n",
        "    #빠른 O(n)알고리즘 테스트\n",
        "    start = time.time() #계산시간 직전 시간을 기억\n",
        "    mpf = max_profit_fast(a) #계산수행\n",
        "    end = time.time()   #계산 시작 직후 시각을 기억\n",
        "    time_fast = end - start #두 시각을 빼면 계산에 걸린 시간\n",
        "    #결과 출력: 계산 결과\n",
        "    print(n, mps, mpf) #입력 크기, 각각 알고리즘이 계산한 최대 수익 값(같아야함)\n",
        "    m = 0 #느린 알고리즘과 빠른 알고리즘의 수행 시간 비율을 저장할 변수\n",
        "    if time_fast > 0: #컴퓨터 환경에 따라 빠른 알고리즘 시간이 0으로 측정 될 수 있음( 이럴때는 0을출력)\n",
        "      m = time_slow/time_fast #느린 알고리즘시간/ 빠른 알고리즘 시간\n",
        "      #입력크기, 느린알고리즘수행시간, 빠른 알고리즘 수행시간, 느린알고/빠른알고 시간\n",
        "    print(\"%d %5.f %5f %.2f\" %(n, time_slow, time_fast, m))\n",
        "\n",
        "#test(100)\n",
        "test(1000)\n"
      ],
      "execution_count": null,
      "outputs": []
    },
    {
      "cell_type": "markdown",
      "metadata": {
        "id": "0QWsc2BmxAlm"
      },
      "source": [
        "#다익스트라 알고리즘\n",
        "1. 최단 경로 문제\n",
        "- 그래프(노드와 선으로 연결된 그래프임) 내의 한 정점에서 다른 정점으로 이동할때 찾는 가중치 합이 최소값이 되도록 만드는 경로를 찾는 알고리즘\n",
        "  - 가중간선(Edge Weight) : 간선들이 할당된 값을 가짐\n",
        "  - 가중 경로(Path Weight): 경로에 속하는 모든 간선의 값을 더한 값\n",
        "\n",
        "- 모든 간선 가중치가 음이 아닌 일반적인 경우\n",
        "  - 다익스트라 알고리즘\n",
        "- 음의 가중치가 존재하는 경우\n",
        "  - 벨만 -포드 알고리즘\n",
        "  - 음의 가중치는 허용하지만 가중치 합이 음인 사이클은 절대 허용하지 않음\n",
        "  - 음의 사이클이 존재하면 해당 사이클을 계속 반복한다면 가중치 합이 무한이 작아질 수 있으므로 최단 경로 문제 자체가 성립하지 않음\n",
        "\n",
        "2. 다익스트라 알고리즘\n",
        "- 어떠한 간선도 음수 값을 갖지 않는 방향 그래프에서 주어진 출발점과 도착점 사이의 최단 경로를 찾아주는 알고리즘\n",
        "- 방향그래프, 무방향 그래프 모두가능\n",
        "- 프림 알고리즘이 단순히 간선의 길이를 이용해 어떤 간선을 먼저 연결할지를 결정하는데 반해 다익스트라 알고리즘은 경로의 길이를 감안해서 간선을 연결함\n",
        "- 하나의 출발점에서 다른 모든 정점까지의 최단 경로를 구하는 방법\n",
        "- 모든 노드를 순회해야 하므로 시간복잡도에 결정적인 영향을 미치게 되는데 제대로 구현된 우선순위 큐를 활용하면 비용을 줄일 수 있음\n",
        "- 처음 고안한 알고리즘은 O(V^2)의 시간 복잡도를 가졌으나 이후 우선순위 큐(=힙 트리) 등을 이용하면 더욱 개선된 알고리즘이 나와 O(E logV) 의 시간복잡도를 가짐\n",
        "- 다익스트라 알고리즘은 벨만-포드 알고리즘과 동일단 작업을 수행하고 실행 속도도 더 빠름\n",
        "- 다익스트라 알고리즘은 가중치가 음수인 경우는 처리할 수 없으므로 이런 경우에는 벨만-포드 알고리즘을 사용함\n",
        "\n",
        "- 가능한 적은 비용으로 가장 빠르게 해답에 도달하는 경로를 찾아내는 대부분의 문제에 응용됨\n",
        "\n",
        "- 내비게이션에서 각 도시들을 정점으로 도로들을 간선으로 갖는 그래프로 간주한다면 두 도시를 잇는 가장 빠른 길을 찾는 문제\n",
        "\n",
        "- 미로 탐색 알고리즘으로 사용할 수 있음\n",
        "- 라우팅에서도 IP 라우팅 프로토콜의 한 종류인 OSPF 방식의 프로토콜에서 사용\n",
        "\n"
      ]
    },
    {
      "cell_type": "markdown",
      "metadata": {
        "id": "z_bU7MxE3r9D"
      },
      "source": [
        "1. 다익스트라 알고리즘\n",
        "  1. 각 정점 위에 시작점으로 부터 자신에게 이르는 경로의 길이를 저장할 곳을 준비하고 모든 정점 위에 있는 경로의 길이를 무한대로 초기화함\n",
        "  2. 시작 정점의 경로 길이를 0으로 초기화하고(시작 정점에서 시작 정점까지의 거리는 0 이기 때문) 최단 경로에 추가함\n",
        "  3. 최단 경로에 새로 추가된 정점의 인접 정점들에 대해 경로 길이를 갱신하고 이들을 최단 경로에 추가함, 만약 추가하려는 인접 정점이 이미 최단 경로안에 존재한다면 갱신되기 이전의 경로 길이가 새로운 경로의 길이보다 더 큰 경우에 한해 다른 선행 정점을 지나던 기존의 경로를 현재 정점을 경유하도록 수정함\n",
        "  4. 그래프 내의 모든 정점이 최단 경로에 소속될 때까지 3 과정을 반복함."
      ]
    }
  ]
}