{
  "nbformat": 4,
  "nbformat_minor": 0,
  "metadata": {
    "colab": {
      "name": "ai_week4.ipynb",
      "provenance": []
    },
    "kernelspec": {
      "name": "python3",
      "display_name": "Python 3"
    },
    "language_info": {
      "name": "python"
    }
  },
  "cells": [
    {
      "cell_type": "code",
      "metadata": {
        "colab": {
          "base_uri": "https://localhost:8080/"
        },
        "id": "iQVIyK2_AG7p",
        "outputId": "e58ec019-d4d1-4d70-d6d6-ae8a1cf403bf"
      },
      "source": [
        "#재귀호출을 이용한 이분 탐색\n",
        "#리스트에서 특정 숫자 위치 찾기(이분 탐색과 재귀 호출)\n",
        "#입력: 리스트a, 찾는값 x\n",
        "#출력: 특정 숫자를 찾이면 그 값의 위치, 찾지 못하면 -1\n",
        "\n",
        "#리스트 a의 어디부터(start) 어디까지(end)가 탐색 범위인지 지정하여\n",
        "#그 범위 안에서 x를 찾는 재귀 함수\n",
        "def binary_search_sub(a, x, start, end):\n",
        "  #종료 조건: 남은 탐색 범위가 비었으면 종료\n",
        "  if start > end:\n",
        "    return -1\n",
        "  mid = (start + end)//2 #탐색 범위의 중간 위치\n",
        "  if x == a[mid]: #발견!\n",
        "    return mid\n",
        "  elif x > a[mid]: #찾는 값이 더 크면 중간을 기준으로 오른쪽 값을 대상으로 재귀 호출\n",
        "    return binary_search_sub(a, x, mid+1, end)\n",
        "  else:            #찾는 값이 더 작으면 중간을 기준으로 왼쪽 값을 대상으로 재귀 호출\n",
        "    return binary_search_sub(a, x, start, mid-1)\n",
        "\n",
        "  return -1 #찾지 못했을때\n",
        "\n",
        "#리스트 전체(0~len(a)-1)대상으로 재귀 호출 함수 호출\n",
        "def binary_search(a, x):\n",
        "  return binary_search_sub(a, x, 0, len(a)-1)\n",
        "\n",
        "d= [1,4,9,16,25,36,49,64,81] \n",
        "print(binary_search(d,36))\n",
        "print(binary_search(d,50))"
      ],
      "execution_count": 11,
      "outputs": [
        {
          "output_type": "stream",
          "text": [
            "5\n",
            "-1\n"
          ],
          "name": "stdout"
        }
      ]
    },
    {
      "cell_type": "markdown",
      "metadata": {
        "id": "pN9rUs0tFUvC"
      },
      "source": [
        "이진 탐색트리 : 탐색트리의 기본,\n",
        "\n",
        "이진 트리 이면서 같은 값을 갖는 노드가 없어야함.\n",
        "\n",
        "왼쪽 서브 트리에 있는 모든 데이터는 현재 노드의 값보다 작고, 오른쪽 서브 트리에있는 모든 노드의 데이터는 현재 노드의 값보다 큼\n",
        "\n",
        "각 노드는 최대 두 개의 자식을 가짐."
      ]
    },
    {
      "cell_type": "markdown",
      "metadata": {
        "id": "kHKQkRZjFaTB"
      },
      "source": [
        "서브 트리의 예\n",
        "\n",
        "서브트리도 역시 이진 탐색 트리의 성질을 만족해야 하며\n",
        "\n",
        "루트의 왼쪽 자식은 루트보다 작고 오른쪽 자식은 루트보다 큼\n"
      ]
    },
    {
      "cell_type": "markdown",
      "metadata": {
        "id": "ant0Z3ELJMRQ"
      },
      "source": [
        "삽입정렬"
      ]
    },
    {
      "cell_type": "code",
      "metadata": {
        "id": "ZghjnTpzFTP-"
      },
      "source": [
        "def insertion_sort(data):\n",
        "  for index in range(len(data)-1):\n",
        "    for index2 in range(index +1, 0, -1):\n",
        "      if data[index2] < data[index2-1]:\n",
        "        data[index2], data[index2-1] = data[index2-1], data[index2]\n",
        "      else:\n",
        "        break\n",
        "  return data"
      ],
      "execution_count": 8,
      "outputs": []
    },
    {
      "cell_type": "code",
      "metadata": {
        "colab": {
          "base_uri": "https://localhost:8080/"
        },
        "id": "d-BwlNJhIwf8",
        "outputId": "0f7c8873-074f-419c-a35b-105ad1076b0e"
      },
      "source": [
        "import random\n",
        "data_list = random.sample(range(100),50)\n",
        "data_list\n",
        "print(insertion_sort(data_list))\n",
        "len(insertion_sort(data_list))"
      ],
      "execution_count": 9,
      "outputs": [
        {
          "output_type": "stream",
          "text": [
            "[0, 1, 3, 5, 6, 7, 8, 9, 11, 12, 15, 22, 23, 24, 26, 27, 28, 29, 30, 32, 34, 35, 38, 42, 43, 45, 49, 50, 51, 52, 54, 57, 62, 63, 64, 66, 67, 68, 71, 73, 74, 75, 79, 80, 85, 86, 89, 90, 92, 99]\n"
          ],
          "name": "stdout"
        },
        {
          "output_type": "execute_result",
          "data": {
            "text/plain": [
              "50"
            ]
          },
          "metadata": {
            "tags": []
          },
          "execution_count": 9
        }
      ]
    },
    {
      "cell_type": "markdown",
      "metadata": {
        "id": "TXggu3wFXv_h"
      },
      "source": [
        "쉽게 설명한 삽입 정렬 알고리즘"
      ]
    },
    {
      "cell_type": "code",
      "metadata": {
        "colab": {
          "base_uri": "https://localhost:8080/"
        },
        "id": "YsbLDJEJXxr4",
        "outputId": "1fcd1a35-1c9d-43e3-82d7-fd50f220a6c6"
      },
      "source": [
        "#쉽게 설명한 삽입 정렬\n",
        "#입력: 리스트a\n",
        "#출력: 정렬된 새 리스트\n",
        "\n",
        "#리스트 r 에서 v가 들어가야 할 위치를 돌려주는 함수\n",
        "def find_ins_idx(r,v):\n",
        "  #이미 정렬된 리스트 r의 자료를 앞에서부터 차례로 확인하야\n",
        "  for i in range(0,len(r)):\n",
        "    #v값보다 i번 위치에 있는 자료값이 크면\n",
        "    #v가 그 값 바로 앞에 놓여야 정렬 순서가 유지됨\n",
        "    if v < r[i]:\n",
        "      return i\n",
        "      #적절한 위치를 못 찾았을 때는 \n",
        "      #v가 r의 모든 자료보다 크다는 뜻이므로 맨 뒤에 삽입\n",
        "  return len(r)\n",
        "\n",
        "def ins_sort(a):\n",
        "  result = []    #새 리스트를 만들어 정렬된 값을 저장\n",
        "  while a:       #기존 리스트에 값이 남아 있는동안 반복\n",
        "    value = a.pop(0) #기존 리스트에서 한개를 꺼냄\n",
        "    ins_idx = find_ins_idx(result, value) #꺼낸 값이 들어갈 적당한 위치 찾기\n",
        "    result.insert(ins_idx, value)  # 찾은 위치에 값 삽입(이후 값은 한 칸씩 밀려남)\n",
        "  return result\n",
        "\n",
        "d = [2,4,5,1,3]\n",
        "print(ins_sort(d))"
      ],
      "execution_count": 13,
      "outputs": [
        {
          "output_type": "stream",
          "text": [
            "[1, 2, 3, 4, 5]\n"
          ],
          "name": "stdout"
        }
      ]
    },
    {
      "cell_type": "markdown",
      "metadata": {
        "id": "LF-v242Mcxj2"
      },
      "source": [
        "일반적인 삽입 정렬 알고리즘"
      ]
    },
    {
      "cell_type": "code",
      "metadata": {
        "colab": {
          "base_uri": "https://localhost:8080/"
        },
        "id": "U87pwZZbc1Bu",
        "outputId": "42daeb86-69fa-4136-b65e-5ef770cb15bf"
      },
      "source": [
        "#삽입 정렬\n",
        "#입력: 리스트a\n",
        "#출력: 없음(입력으로 주어진 a가 정렬됨)\n",
        "\n",
        "def ins_sort(a):\n",
        "  n = len(a)\n",
        "  for i in range(1, n): #1부터 n-1까지\n",
        "  #i번 위치의 값을 key로 저장\n",
        "    key = a[i]\n",
        "    #j를 i 바로 왼쪽 위치로 저장\n",
        "    j = i -1\n",
        "    #리스트의 j번 위치에 있는 값과 key를 비교해 key가 삽입될 적절한 위치를 찾음\n",
        "    while j>=0 and a[j]> key:\n",
        "      a[j+1]= a[j] #삽입할 공간이 생기도록 값을 오른쪽으로 한칸 이동\n",
        "      j-= 1\n",
        "    a[j+1] = key #찾은 삽입 위치에 key를 저장.\n",
        "\n",
        "\n",
        "d=[2,4,5,1,3]\n",
        "ins_sort(d)\n",
        "print(d)\n",
        "#d.sort()\n",
        "#print(d)\n",
        "#d.reverse()\n",
        "#print(d)"
      ],
      "execution_count": 29,
      "outputs": [
        {
          "output_type": "stream",
          "text": [
            "[1, 2, 3, 4, 5]\n"
          ],
          "name": "stdout"
        }
      ]
    },
    {
      "cell_type": "code",
      "metadata": {
        "colab": {
          "base_uri": "https://localhost:8080/"
        },
        "id": "TJthIpwqeeo6",
        "outputId": "1c349c19-3f8a-4442-cfc4-9fca33f83db9"
      },
      "source": [
        "#삽입 정렬\n",
        "#입력: 리스트a\n",
        "#출력: 없음(입력으로 주어진 a가 정렬됨)\n",
        "\n",
        "def ins_sort(a):\n",
        "  n = len(a)\n",
        "  for i in range(1, n): #1부터 n-1까지\n",
        "  #i번 위치의 값을 key로 저장\n",
        "    key = a[i]\n",
        "    #j를 i 바로 왼쪽 위치로 저장\n",
        "    j = i -1\n",
        "    #리스트의 j번 위치에 있는 값과 key를 비교해 key가 삽입될 적절한 위치를 찾음\n",
        "    while j>=0 and a[j]< key:\n",
        "      a[j+1]= a[j] #삽입할 공간이 생기도록 값을 오른쪽으로 한칸 이동\n",
        "      j-= 1\n",
        "    a[j+1] = key #찾은 삽입 위치에 key를 저장.\n",
        "\n",
        "\n",
        "d=[2,4,5,1,3]\n",
        "ins_sort(d)\n",
        "print(d)"
      ],
      "execution_count": 35,
      "outputs": [
        {
          "output_type": "stream",
          "text": [
            "[5, 4, 3, 2, 1]\n"
          ],
          "name": "stdout"
        }
      ]
    },
    {
      "cell_type": "code",
      "metadata": {
        "id": "rMM7ltkKj2og"
      },
      "source": [
        ""
      ],
      "execution_count": null,
      "outputs": []
    }
  ]
}
