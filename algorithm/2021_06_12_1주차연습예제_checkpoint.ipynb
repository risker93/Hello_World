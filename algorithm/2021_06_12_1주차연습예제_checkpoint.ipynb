{
  "nbformat": 4,
  "nbformat_minor": 0,
  "metadata": {
    "kernelspec": {
      "display_name": "Python 3",
      "language": "python",
      "name": "python3"
    },
    "language_info": {
      "codemirror_mode": {
        "name": "ipython",
        "version": 3
      },
      "file_extension": ".py",
      "mimetype": "text/x-python",
      "name": "python",
      "nbconvert_exporter": "python",
      "pygments_lexer": "ipython3",
      "version": "3.8.5"
    },
    "toc": {
      "base_numbering": 1,
      "nav_menu": {},
      "number_sections": true,
      "sideBar": true,
      "skip_h1_title": false,
      "title_cell": "Table of Contents",
      "title_sidebar": "Contents",
      "toc_cell": false,
      "toc_position": {},
      "toc_section_display": true,
      "toc_window_display": false
    },
    "colab": {
      "name": "1주차연습예제_checkpoint.ipynb",
      "provenance": [],
      "collapsed_sections": [],
      "include_colab_link": true
    }
  },
  "cells": [
    {
      "cell_type": "markdown",
      "metadata": {
        "id": "view-in-github",
        "colab_type": "text"
      },
      "source": [
        "<a href=\"https://colab.research.google.com/github/risker93/Hello_World/blob/main/1%EC%A3%BC%EC%B0%A8%EC%97%B0%EC%8A%B5%EC%98%88%EC%A0%9C_checkpoint.ipynb\" target=\"_parent\"><img src=\"https://colab.research.google.com/assets/colab-badge.svg\" alt=\"Open In Colab\"/></a>"
      ]
    },
    {
      "cell_type": "markdown",
      "metadata": {
        "id": "qZ8y0D9kBmiY"
      },
      "source": [
        "# 2021_06_19일 까지 \n",
        "#주어진 문제들을 1시간 안에 모두 풀수 있게 만들어야 한다."
      ]
    },
    {
      "cell_type": "markdown",
      "metadata": {
        "id": "yeqNtY_njwBD"
      },
      "source": [
        "코딩 테스트에서 점수를 받으려면, 주어진 문제를 에러 없이 주어진 시간 안에 정해진 정답을 출력해야 한다. \n",
        "\n",
        "따라서 우리가 집중을 해야 할 부분은 \n",
        "\n",
        "첫째, 정답을 도출해 낼 수 있는 알고리즘을 짜야한다. \n",
        "\n",
        "둘째, **주어진 시간 안에** 코딩 정답을 도출해야 한다."
      ]
    },
    {
      "cell_type": "markdown",
      "metadata": {
        "id": "hcz6il7RjwBF"
      },
      "source": [
        "##### max()을 사용하지 않고 max() 구현하기(for 문 사용)"
      ]
    },
    {
      "cell_type": "code",
      "metadata": {
        "colab": {
          "base_uri": "https://localhost:8080/"
        },
        "id": "N6yC7QlNjwBG",
        "outputId": "d6e918b4-697d-4c80-fc4c-f393a0864076"
      },
      "source": [
        "data=[10, 7, 2, 4, 6]\n",
        "max_v = 0\n",
        "for i in data:\n",
        "  if max_v <i:\n",
        "    max_v = i\n",
        "  else:\n",
        "    continue \n",
        "      \n",
        "print(max_v)"
      ],
      "execution_count": 18,
      "outputs": [
        {
          "output_type": "stream",
          "text": [
            "10\n"
          ],
          "name": "stdout"
        }
      ]
    },
    {
      "cell_type": "markdown",
      "metadata": {
        "id": "Sp1vDNqijwBH"
      },
      "source": [
        "##### min()을 사용하지 않고 min() 구현하기(for 문 사용)"
      ]
    },
    {
      "cell_type": "code",
      "metadata": {
        "id": "ZUbBY3gDjwBH",
        "colab": {
          "base_uri": "https://localhost:8080/"
        },
        "outputId": "88c93b60-84a7-490c-baec-2b563408436e"
      },
      "source": [
        "data=[2, 7, 1, 2, 4, 6]\n",
        "min_v = data[0]\n",
        "for i in data:\n",
        "  if min_v > i:\n",
        "    min_v = i\n",
        "  else:\n",
        "    continue\n",
        "print(min_v)"
      ],
      "execution_count": 20,
      "outputs": [
        {
          "output_type": "stream",
          "text": [
            "1\n"
          ],
          "name": "stdout"
        }
      ]
    },
    {
      "cell_type": "markdown",
      "metadata": {
        "id": "cQdDEEYljwBH"
      },
      "source": [
        "##### sum()을 사용하지 않고 sum()  구현하기(for 문 사용)"
      ]
    },
    {
      "cell_type": "code",
      "metadata": {
        "id": "EfqyioR0jwBI",
        "colab": {
          "base_uri": "https://localhost:8080/"
        },
        "outputId": "b32ac1ec-a134-40d9-cb7d-6d7eabe55b33"
      },
      "source": [
        "data=[2, 7, 2, 4, 6]\n",
        "sum_v = 0\n",
        "for i in data:\n",
        "  sum_v = sum_v+i\n",
        "\n",
        "print(sum_v)"
      ],
      "execution_count": 22,
      "outputs": [
        {
          "output_type": "stream",
          "text": [
            "21\n"
          ],
          "name": "stdout"
        }
      ]
    },
    {
      "cell_type": "markdown",
      "metadata": {
        "id": "Oc_AmbHMjwBI"
      },
      "source": [
        "##### 평균값 구현하기(for 문 사용)"
      ]
    },
    {
      "cell_type": "code",
      "metadata": {
        "id": "ryxyt5IojwBI",
        "colab": {
          "base_uri": "https://localhost:8080/"
        },
        "outputId": "d073a195-4aea-4332-d1c4-c6c7e780728d"
      },
      "source": [
        "data=[2, 7, 2, 4, 6]\n",
        "mean_v = 0\n",
        "for i in data:\n",
        "  mean_v = mean_v + i\n",
        "mean_v = mean_v/len(data)\n",
        "\n",
        "print(mean_v)"
      ],
      "execution_count": 23,
      "outputs": [
        {
          "output_type": "stream",
          "text": [
            "4.2\n"
          ],
          "name": "stdout"
        }
      ]
    },
    {
      "cell_type": "markdown",
      "metadata": {
        "id": "P4Od4aLzBBqI"
      },
      "source": [
        "# 여기까지 2분 안에 풀면 okay"
      ]
    },
    {
      "cell_type": "markdown",
      "metadata": {
        "id": "ueH5TYi6jwBJ"
      },
      "source": [
        "##### dictionary 구축하기 (for, if)\n",
        "다음과 같은 리스트가 있을 때 각각의 요소의 개수를 value 값으로 갖는 딕셔너리를 만드세요.\n",
        "\n",
        "book_title = ['great', 'expectations', 'the', 'adventures', 'of', 'sherlock', 'holmes', 'the', 'great', 'gasby', 'hamlet', 'adventures', 'of', 'huckleberry', 'fin']\n",
        "\n",
        "\n",
        "예시 출력)<br>\n",
        "{'great': 2, 'expectations': 1, 'the': 2, 'adventures': 2, 'of': 2, 'sherlock': 1, 'holmes': 1, 'gasby': 1, 'hamlet': 1, 'huckleberry': 1, 'fin': 1}"
      ]
    },
    {
      "cell_type": "markdown",
      "metadata": {
        "id": "VnpMNOpKjwBJ"
      },
      "source": [
        "##### 위의 문제를 아래의 3가지 방법으로 딕셔너리를 각각 만들어 봅시다.\n",
        "- for와 if만 사용\n",
        "- count()를 사용\n",
        "- get() 사용"
      ]
    },
    {
      "cell_type": "code",
      "metadata": {
        "colab": {
          "base_uri": "https://localhost:8080/"
        },
        "id": "9KhSqdcK37mD",
        "outputId": "4120483f-bf75-48b8-ada3-4ef902eab7eb"
      },
      "source": [
        "#for , if\n",
        "book_title = ['great', 'expectations', 'the', 'adventures', 'of', 'sherlock', 'holmes', 'the', 'great', 'gasby', 'hamlet', 'adventures', 'of', 'huckleberry', 'fin']\n",
        "dict_book = {}\n",
        "for book in book_title:\n",
        "  if book in dict_book:\n",
        "    dict_book[book]= dict_book[book]+1\n",
        "  else:\n",
        "    dict_book[book] = 1\n",
        "print(dict_book)"
      ],
      "execution_count": 5,
      "outputs": [
        {
          "output_type": "stream",
          "text": [
            "{'great': 2, 'expectations': 1, 'the': 2, 'adventures': 2, 'of': 2, 'sherlock': 1, 'holmes': 1, 'gasby': 1, 'hamlet': 1, 'huckleberry': 1, 'fin': 1}\n"
          ],
          "name": "stdout"
        }
      ]
    },
    {
      "cell_type": "code",
      "metadata": {
        "id": "rCGLuZVyjwBJ",
        "colab": {
          "base_uri": "https://localhost:8080/"
        },
        "outputId": "304df325-25b2-4140-8ec6-c06b9a7da62a"
      },
      "source": [
        "#count\n",
        "dict_book2 = {}\n",
        "for book in book_title:\n",
        "  dict_book2[book] = book_title.count(book)\n",
        "print(dict_book2)"
      ],
      "execution_count": 4,
      "outputs": [
        {
          "output_type": "stream",
          "text": [
            "{'great': 2, 'expectations': 1, 'the': 2, 'adventures': 2, 'of': 2, 'sherlock': 1, 'holmes': 1, 'gasby': 1, 'hamlet': 1, 'huckleberry': 1, 'fin': 1}\n"
          ],
          "name": "stdout"
        }
      ]
    },
    {
      "cell_type": "code",
      "metadata": {
        "id": "XVjwF9i7jwBJ",
        "colab": {
          "base_uri": "https://localhost:8080/"
        },
        "outputId": "668e1897-0dad-4e6f-9a44-3be76a8381a4"
      },
      "source": [
        "#get()\n",
        "dict_book3 = {}\n",
        "for book in book_title:\n",
        "  dict_book3[book] = int(dict_book3.get(book,0)) +1\n",
        "print(dict_book3)"
      ],
      "execution_count": 3,
      "outputs": [
        {
          "output_type": "stream",
          "text": [
            "{'great': 2, 'expectations': 1, 'the': 2, 'adventures': 2, 'of': 2, 'sherlock': 1, 'holmes': 1, 'gasby': 1, 'hamlet': 1, 'huckleberry': 1, 'fin': 1}\n"
          ],
          "name": "stdout"
        }
      ]
    },
    {
      "cell_type": "markdown",
      "metadata": {
        "id": "z40nsMf6jwBK"
      },
      "source": [
        "##### 조건문과 반복문, break를 활용하여 다음 headlines 리스트의 요소들을 130자 크기의 하나의 문자열로 이어 붙이는 코드를 작성하세요.\n",
        "```\n",
        "headlines = [\n",
        "  \"Local Bear Eaten by Man\",\n",
        "  \"Legislature Announces New Laws\",\n",
        "  \"Peasant Discovers Violence Inherent in System\",\n",
        "  \"Cat Rescues Fireman Stuck in Tree\",\n",
        "  \"Brave Knight Runs Away\",\n",
        "  \"Papperbok Review: Totally Triffic\"\n",
        "]\n",
        "```"
      ]
    },
    {
      "cell_type": "code",
      "metadata": {
        "colab": {
          "base_uri": "https://localhost:8080/"
        },
        "id": "dfXNYiSVbVlx",
        "outputId": "76f34a32-7fd2-4e4b-a98d-710b6e2211a6"
      },
      "source": [
        "headlines = [\n",
        "  \"Local Bear Eaten by Man\",\n",
        "  \"Legislature Announces New Laws\",\n",
        "  \"Peasant Discovers Violence Inherent in System\",\n",
        "  \"Cat Rescues Fireman Stuck in Tree\",\n",
        "  \"Brave Knight Runs Away\",\n",
        "  \"Papperbok Review: Totally Triffic\"\n",
        "]\n",
        "result = ''\n",
        "i = 0\n",
        "while True:\n",
        "  result += headlines[i]\n",
        "  i+=1\n",
        "\n",
        "  if i ==6:\n",
        "    break\n",
        "result = result[:130]\n",
        "print(result)\n",
        "print(len(result))"
      ],
      "execution_count": null,
      "outputs": [
        {
          "output_type": "stream",
          "text": [
            "Local Bear Eaten by ManLegislature Announces New LawsPeasant Discovers Violence Inherent in SystemCat Rescues Fireman Stuck in Tre\n",
            "130\n"
          ],
          "name": "stdout"
        }
      ]
    },
    {
      "cell_type": "code",
      "metadata": {
        "id": "aO9sXnuYjwBK",
        "colab": {
          "base_uri": "https://localhost:8080/"
        },
        "outputId": "ca29e599-5eca-4808-9eae-049fe9ad3be4"
      },
      "source": [
        "headlines = [\n",
        "  \"Local Bear Eaten by Man\",\n",
        "  \"Legislature Announces New Laws\",\n",
        "  \"Peasant Discovers Violence Inherent in System\",\n",
        "  \"Cat Rescues Fireman Stuck in Tree\",\n",
        "  \"Brave Knight Runs Away\",\n",
        "  \"Papperbok Review: Totally Triffic\"\n",
        "]\n",
        "\n",
        "result = ''\n",
        "for st in headlines:\n",
        "  result += st\n",
        "\n",
        "result = result[0:130]\n",
        "\n",
        "\n",
        "print(result)\n",
        "len(result)"
      ],
      "execution_count": null,
      "outputs": [
        {
          "output_type": "stream",
          "text": [
            "Local Bear Eaten by ManLegislature Announces New LawsPeasant Discovers Violence Inherent in SystemCat Rescues Fireman Stuck in Tre\n"
          ],
          "name": "stdout"
        },
        {
          "output_type": "execute_result",
          "data": {
            "text/plain": [
              "130"
            ]
          },
          "metadata": {
            "tags": []
          },
          "execution_count": 59
        }
      ]
    },
    {
      "cell_type": "markdown",
      "metadata": {
        "id": "CpyVwxu6jwBK"
      },
      "source": [
        "##### 가로세로 높이가 같은 상자들이 쌓여있는 방이 있다. 방이 오른쪽으로 90도 회전하여 상자들이 중력의 영향을 받아 낙하한다고 할 때, 낙차가 가장 큰 상자를 구하여 낙차를 리턴하자.\n",
        "- 중력은 회전이 완료된 후에 적용된다.\n",
        "- 상자들은 모두 한쪽 변면에 붙여진 상태로 쌓여 2차원의 형태를 이루며 벽에서 떨어져서 쌓인 상자는 없다.(일직선으로 떨어진다.)\n",
        "- 방의 가로길이와 세로길이는 9이다.\n",
        "- 상자의 길이는 사로세로 1이다\n",
        "- 입력값의 인덱스가 상자가 쌓여진 높이이다.\n",
        "- 입력값 : [7, 4, 2, 0, 0, 6, 0, 7, 0]\n",
        "- 출력값 : 7"
      ]
    },
    {
      "cell_type": "code",
      "metadata": {
        "id": "ExHA2OlSjwBK"
      },
      "source": [
        ""
      ],
      "execution_count": null,
      "outputs": []
    },
    {
      "cell_type": "markdown",
      "metadata": {
        "id": "40UtIthojwBK"
      },
      "source": [
        "##### 나이가 입력된 리스트가 있을때, 조건문과 반복문, continue를 활용하여 20살 이상일때만 \"성인입니다\"라는 출력을 하는 코드를 작성하세요.\n",
        "\n",
        "예시 출력)\n",
        "\n",
        "23 살은 성인입니다.\n",
        "30 살은 성인입니다.\n",
        "25 살은 성인입니다.\n",
        "31 살은 성인입니다."
      ]
    },
    {
      "cell_type": "code",
      "metadata": {
        "id": "MGWTs9CXjwBL",
        "colab": {
          "base_uri": "https://localhost:8080/"
        },
        "outputId": "aadc1bb0-c666-41f7-d63e-e18544db0e74"
      },
      "source": [
        "def ovr_20(list):\n",
        "  for a in list:\n",
        "    if a < 20:\n",
        "      continue\n",
        "    else:\n",
        "      print(\"{} 살은 성인입니다.\".format(a))\n",
        "\n",
        "ovr_20([8,13,15,19,20,21,24,30])"
      ],
      "execution_count": null,
      "outputs": [
        {
          "output_type": "stream",
          "text": [
            "20 살은 성인입니다.\n",
            "21 살은 성인입니다.\n",
            "24 살은 성인입니다.\n",
            "30 살은 성인입니다.\n"
          ],
          "name": "stdout"
        }
      ]
    },
    {
      "cell_type": "markdown",
      "metadata": {
        "id": "QHt0XXigjwBL"
      },
      "source": [
        "##### 최고가와 최저가의 차이를 변동폭으로 정의할 때 (시작가 + 변동폭)이 최고가 보다 높을 경우 \"상승장\", 그렇지 않은 경우 \"하락장\" 문자열을 출력하세요.\n",
        "```\n",
        "Key Name         |  Description\n",
        "---------------    ----------------------------\n",
        "opening_price    |   최근 24시간 내 시작 거래금액\n",
        "closing_price    |   최근 24시간 내 마지막 거래금액\n",
        "min_price        |   최근 24시간 내 최저 거래금액\n",
        "max_price        |   최근 24시간 내 최고 거래금액\n",
        "```\n"
      ]
    },
    {
      "cell_type": "code",
      "metadata": {
        "id": "Uw-SEsD0jwBL",
        "colab": {
          "base_uri": "https://localhost:8080/"
        },
        "outputId": "55a924cd-ee59-4748-818b-dbeaf56238dc"
      },
      "source": [
        "# 힌트\n",
        "import requests\n",
        "url = 'https://api.bithumb.com/public/ticker/btc'\n",
        "data = { k: float(v) for k, v in requests.get(url).json()['data'].items() }\n",
        "data\n",
        "\n",
        "change_price = data['max_price'] - data['min_price']\n",
        "if data['max_price'] < (data['opening_price']+ change_price):\n",
        "  print(\"상승장\")\n",
        "else:\n",
        "  print(\"하락장\")\n",
        "\n",
        "print(\"opening_price\", data['opening_price'])\n",
        "print(\"max_price\", data['max_price'])\n",
        "print(\"change_price\", change_price)\n",
        "print(\"today_price\", data['opening_price']+change_price)"
      ],
      "execution_count": null,
      "outputs": [
        {
          "output_type": "stream",
          "text": [
            "상승장\n",
            "opening_price 43223000.0\n",
            "max_price 43891000.0\n",
            "change_price 2829000.0\n",
            "today_price 46052000.0\n"
          ],
          "name": "stdout"
        }
      ]
    },
    {
      "cell_type": "markdown",
      "metadata": {
        "id": "ofzo4y3bjwBL"
      },
      "source": [
        "##### 장바구니에 아래와 같은 과일이 들어있고 과일 판별 리스트가 있습니다. 현재 장바구니에는 과일이 몇개이고 과일이 아닌 것은 몇개인지 출력하세요.\n",
        "\n",
        "```\n",
        "basket_items = {'apples': 4, 'oranges': 19, 'kites': 3, 'sandwiches': 8}\n",
        "fruits = ['apples', 'oranges', 'pears', 'peaches', 'grapes', 'bananas']\n",
        "```"
      ]
    },
    {
      "cell_type": "code",
      "metadata": {
        "id": "0FVm3PuIjwBL",
        "colab": {
          "base_uri": "https://localhost:8080/"
        },
        "outputId": "298a9f16-4c8f-45dd-86f7-9fba07c6a2fc"
      },
      "source": [
        "'''\n",
        "예시 출력)\n",
        "과일은 23개이고, 11개는 과일이 아닙니다..\n",
        "'''\n",
        "basket_items = {'apples': 4, 'oranges': 19, 'kites': 3, 'sandwiches': 8}\n",
        "fruits = ['apples', 'oranges', 'pears', 'peaches', 'grapes', 'bananas']\n",
        "fruit = 0\n",
        "not_fruit = 0\n",
        "\n",
        "for item in basket_items:\n",
        "  if item in fruits:\n",
        "    fruit += basket_items.get(item)\n",
        "  else:\n",
        "    not_fruit += basket_items.get(item)\n",
        "print('과일은 {}개이고, {}개는 과일이 아닙니다.'.format(fruit, not_fruit))"
      ],
      "execution_count": null,
      "outputs": [
        {
          "output_type": "stream",
          "text": [
            "과일은 23개이고, 11개는 과일이 아닙니다.\n"
          ],
          "name": "stdout"
        }
      ]
    },
    {
      "cell_type": "markdown",
      "metadata": {
        "id": "Tg3uoaghjwBM"
      },
      "source": [
        "##### 영어 이름은 가운데 이름을 가지고 있는 경우가 있습니다. 가운데 이름은 대문자로 축약해서 나타내는 코드를 작성하세요."
      ]
    },
    {
      "cell_type": "code",
      "metadata": {
        "id": "Y3BrNN--jwBM",
        "colab": {
          "base_uri": "https://localhost:8080/"
        },
        "outputId": "681a14b4-ff9f-41cd-f7fa-e8cc777176f4"
      },
      "source": [
        "'''\n",
        "예시 입력)\n",
        "Alice Betty Catherine Davis\n",
        "예시 출력)\n",
        "Alice B. C. Davis\n",
        "'''\n",
        "\n",
        "def eng_name(fullname):\n",
        "  fullname = fullname.split(' ')\n",
        "  result = ''\n",
        "  for i in fullname:  \n",
        "    #print(i)\n",
        "    #print(type(fullname[0]))\n",
        "    #print(type(i))\n",
        "    if i == fullname[0] or i ==fullname[-1]:\n",
        "      #print(i)\n",
        "      result = result + ' '+ i\n",
        "    else:\n",
        "      i=i[0]+'.'\n",
        "      result = result+ ' ' + i\n",
        "         \n",
        "  \n",
        "  print(result)\n",
        "\n",
        "eng_name('Alice Betty Catherine Davis')\n",
        "# 여기 하던중 처음부터 반복풀이중"
      ],
      "execution_count": 33,
      "outputs": [
        {
          "output_type": "stream",
          "text": [
            " Alice B. C. Davis\n"
          ],
          "name": "stdout"
        }
      ]
    },
    {
      "cell_type": "markdown",
      "metadata": {
        "id": "YmGaUO39jwBM"
      },
      "source": [
        "##### 1월 1일 월요일부터 12월 31일까지 달력을 출력하세요."
      ]
    },
    {
      "cell_type": "markdown",
      "metadata": {
        "id": "p4M9rYbA9Fcn"
      },
      "source": [
        "    python 프린트 방법 3가지\n",
        "    # 초창기 파이썬\n",
        "    print('%s %s' % ('Hello', 'SSafy'))\n",
        "    print('%i %s' % (2, 'two'))\n",
        "    # pyformat\n",
        "    print('{} {}'.format('one', 'two'))\n",
        "    print('{1} {0}'.format('one', 'two'))\n",
        "\n",
        "    # f-string \n",
        "    a, b = ('one', 'two')\n",
        "    print(f'{a} {b}')"
      ]
    },
    {
      "cell_type": "code",
      "metadata": {
        "id": "Qv_US6TajwBM",
        "colab": {
          "base_uri": "https://localhost:8080/"
        },
        "outputId": "b7dbddc9-9c33-4fab-a38a-3b8b9445aa4b"
      },
      "source": [
        "'''\n",
        "예시 출력)\n",
        "    1 월\n",
        "Mo Tu We Th Fr Sa Su \n",
        " 1 2 3 4 5 6 7 \n",
        " 8 9 10 11 12 13 14 \n",
        "15 16 17 18 19 20 21 \n",
        "22 23 24 25 26 27 28 \n",
        "29 30 31 \n",
        "    2 월\n",
        "Mo Tu We Th Fr Sa Su \n",
        " 1 2 3 4 5 6 7 \n",
        " 8 9 10 11 12 13 14 \n",
        "15 16 17 18 19 20 21 \n",
        "22 23 24 25 26 27 28 \n",
        "    3 월\n",
        "Mo Tu We Th Fr Sa Su \n",
        " 1 2 3 4 5 6 7 \n",
        " 8 9 10 11 12 13 14 \n",
        "15 16 17 18 19 20 21 \n",
        "22 23 24 25 26 27 28 \n",
        "29 30 31\n",
        "'''\n",
        "#달력 정답\n",
        "#답안지임.\n",
        "\n",
        "calendar = {\n",
        "    1:31, 2:28, 3:31, 4:30, 5:31, 6:30,\n",
        "    7:31, 8:31, 9:30, 10:31, 11:30, 12:31\n",
        "}\n",
        "weeks = ['Mo', 'Tu', 'We', 'Th', 'Fr', 'Sa', 'Su']\n",
        "for month, days in calendar.items():\n",
        "  print(f'{month:10}월') #우측정렬\n",
        "  #print(f'{month:<10}월')#좌측정렬\n",
        "  #print(f'{month:^10}월')#중앙정렬\n",
        "  for w in weeks:\n",
        "    print(f'{w}',end=\" \")\n",
        "  print('')\n",
        "  for i in range(1, days+1):\n",
        "    print(f'{i:2}', end=\" \")\n",
        "    if i % 7 == 0:\n",
        "      print('')"
      ],
      "execution_count": null,
      "outputs": [
        {
          "output_type": "stream",
          "text": [
            "         1월\n",
            "Mo Tu We Th Fr Sa Su \n",
            " 1  2  3  4  5  6  7 \n",
            " 8  9 10 11 12 13 14 \n",
            "15 16 17 18 19 20 21 \n",
            "22 23 24 25 26 27 28 \n",
            "29 30 31          2월\n",
            "Mo Tu We Th Fr Sa Su \n",
            " 1  2  3  4  5  6  7 \n",
            " 8  9 10 11 12 13 14 \n",
            "15 16 17 18 19 20 21 \n",
            "22 23 24 25 26 27 28 \n",
            "         3월\n",
            "Mo Tu We Th Fr Sa Su \n",
            " 1  2  3  4  5  6  7 \n",
            " 8  9 10 11 12 13 14 \n",
            "15 16 17 18 19 20 21 \n",
            "22 23 24 25 26 27 28 \n",
            "29 30 31          4월\n",
            "Mo Tu We Th Fr Sa Su \n",
            " 1  2  3  4  5  6  7 \n",
            " 8  9 10 11 12 13 14 \n",
            "15 16 17 18 19 20 21 \n",
            "22 23 24 25 26 27 28 \n",
            "29 30          5월\n",
            "Mo Tu We Th Fr Sa Su \n",
            " 1  2  3  4  5  6  7 \n",
            " 8  9 10 11 12 13 14 \n",
            "15 16 17 18 19 20 21 \n",
            "22 23 24 25 26 27 28 \n",
            "29 30 31          6월\n",
            "Mo Tu We Th Fr Sa Su \n",
            " 1  2  3  4  5  6  7 \n",
            " 8  9 10 11 12 13 14 \n",
            "15 16 17 18 19 20 21 \n",
            "22 23 24 25 26 27 28 \n",
            "29 30          7월\n",
            "Mo Tu We Th Fr Sa Su \n",
            " 1  2  3  4  5  6  7 \n",
            " 8  9 10 11 12 13 14 \n",
            "15 16 17 18 19 20 21 \n",
            "22 23 24 25 26 27 28 \n",
            "29 30 31          8월\n",
            "Mo Tu We Th Fr Sa Su \n",
            " 1  2  3  4  5  6  7 \n",
            " 8  9 10 11 12 13 14 \n",
            "15 16 17 18 19 20 21 \n",
            "22 23 24 25 26 27 28 \n",
            "29 30 31          9월\n",
            "Mo Tu We Th Fr Sa Su \n",
            " 1  2  3  4  5  6  7 \n",
            " 8  9 10 11 12 13 14 \n",
            "15 16 17 18 19 20 21 \n",
            "22 23 24 25 26 27 28 \n",
            "29 30         10월\n",
            "Mo Tu We Th Fr Sa Su \n",
            " 1  2  3  4  5  6  7 \n",
            " 8  9 10 11 12 13 14 \n",
            "15 16 17 18 19 20 21 \n",
            "22 23 24 25 26 27 28 \n",
            "29 30 31         11월\n",
            "Mo Tu We Th Fr Sa Su \n",
            " 1  2  3  4  5  6  7 \n",
            " 8  9 10 11 12 13 14 \n",
            "15 16 17 18 19 20 21 \n",
            "22 23 24 25 26 27 28 \n",
            "29 30         12월\n",
            "Mo Tu We Th Fr Sa Su \n",
            " 1  2  3  4  5  6  7 \n",
            " 8  9 10 11 12 13 14 \n",
            "15 16 17 18 19 20 21 \n",
            "22 23 24 25 26 27 28 \n",
            "29 30 31 "
          ],
          "name": "stdout"
        }
      ]
    },
    {
      "cell_type": "markdown",
      "metadata": {
        "id": "nvHz62rwjwBN"
      },
      "source": [
        "##### 사용자가 입력한 문자열중 가운데 글자를 출력하세요.(단, 문자열이 짝수라면 가운데 두글자를 출력하세요.)"
      ]
    },
    {
      "cell_type": "code",
      "metadata": {
        "id": "h-mZDEN3jwBN",
        "colab": {
          "base_uri": "https://localhost:8080/"
        },
        "outputId": "24d4e828-23ef-4abf-e1eb-12a3bf4e1a60"
      },
      "source": [
        "'''\n",
        "예시 입력)\n",
        "abc\n",
        "예시 출력)\n",
        "b\n",
        "'''\n",
        "def mid(stra):\n",
        "  leng = len(stra)\n",
        "  if leng%2==0:\n",
        "    print(stra[(leng//2)-1], stra[leng//2])\n",
        "  else:\n",
        "    print(stra[leng//2])\n",
        "\n",
        "\n",
        "\n",
        "mid('abcde')"
      ],
      "execution_count": 44,
      "outputs": [
        {
          "output_type": "stream",
          "text": [
            "c\n"
          ],
          "name": "stdout"
        }
      ]
    },
    {
      "cell_type": "markdown",
      "metadata": {
        "id": "RS_sXQSDjwBN"
      },
      "source": [
        "##### 백준 10808\n",
        "https://www.acmicpc.net/problem/10808"
      ]
    },
    {
      "cell_type": "code",
      "metadata": {
        "id": "tHAxo_0sjwBN"
      },
      "source": [
        "'''\n",
        "풀이\n",
        "'''\n",
        "\n"
      ],
      "execution_count": null,
      "outputs": []
    },
    {
      "cell_type": "code",
      "metadata": {
        "colab": {
          "base_uri": "https://localhost:8080/"
        },
        "id": "ZC86XCuv-Pam",
        "outputId": "5508b800-a4bc-4ab8-931e-ad8ef6ae3feb"
      },
      "source": [
        "data = input()\n",
        "cnt = ord('z')-ord('a')+1\n",
        "visited = [0]*cnt\n",
        "for i in data:\n",
        "  check = ord(i) - ord('a')\n",
        "  visited[check] += 1\n",
        "#print(visited)\n",
        "print(*visited)"
      ],
      "execution_count": 16,
      "outputs": [
        {
          "output_type": "stream",
          "text": [
            "risker\n",
            "0 0 0 0 1 0 0 0 1 0 1 0 0 0 0 0 0 2 1 0 0 0 0 0 0 0\n"
          ],
          "name": "stdout"
        }
      ]
    },
    {
      "cell_type": "code",
      "metadata": {
        "colab": {
          "base_uri": "https://localhost:8080/"
        },
        "id": "93XThHZA-GXR",
        "outputId": "2dbf5353-b6eb-4d33-be81-4389e6aa29bb"
      },
      "source": [
        "list_d = [0]*26\n",
        "list_d"
      ],
      "execution_count": 17,
      "outputs": [
        {
          "output_type": "execute_result",
          "data": {
            "text/plain": [
              "[0, 0, 0, 0, 0, 0, 0, 0, 0, 0, 0, 0, 0, 0, 0, 0, 0, 0, 0, 0, 0, 0, 0, 0, 0, 0]"
            ]
          },
          "metadata": {
            "tags": []
          },
          "execution_count": 17
        }
      ]
    },
    {
      "cell_type": "code",
      "metadata": {
        "colab": {
          "base_uri": "https://localhost:8080/"
        },
        "id": "Q_gsIoAH92g8",
        "outputId": "9247db18-4210-408b-898c-3a491f2f0f93"
      },
      "source": [
        "print(ord('a'))"
      ],
      "execution_count": 1,
      "outputs": [
        {
          "output_type": "stream",
          "text": [
            "97\n"
          ],
          "name": "stdout"
        }
      ]
    },
    {
      "cell_type": "code",
      "metadata": {
        "colab": {
          "base_uri": "https://localhost:8080/"
        },
        "id": "cTgwgNWt96ek",
        "outputId": "5d156415-03a4-4a5a-83ff-b5c6d9156d85"
      },
      "source": [
        "print(ord('z'))"
      ],
      "execution_count": 3,
      "outputs": [
        {
          "output_type": "stream",
          "text": [
            "122\n"
          ],
          "name": "stdout"
        }
      ]
    },
    {
      "cell_type": "code",
      "metadata": {
        "colab": {
          "base_uri": "https://localhost:8080/"
        },
        "id": "COYAyxfy-AD8",
        "outputId": "12d44bd1-ec37-49b3-f9d9-30ecefcdba78"
      },
      "source": [
        "ord('z')-ord('a')"
      ],
      "execution_count": 6,
      "outputs": [
        {
          "output_type": "execute_result",
          "data": {
            "text/plain": [
              "25"
            ]
          },
          "metadata": {
            "tags": []
          },
          "execution_count": 6
        }
      ]
    },
    {
      "cell_type": "markdown",
      "metadata": {
        "id": "7dX4bdN9jwBN"
      },
      "source": [
        "##### 백준 2577\n",
        "https://www.acmicpc.net/problem/2577"
      ]
    },
    {
      "cell_type": "code",
      "metadata": {
        "id": "0uZIaNGsjwBO"
      },
      "source": [
        "'''\n",
        "풀이\n",
        "'''\n",
        "\n"
      ],
      "execution_count": null,
      "outputs": []
    },
    {
      "cell_type": "markdown",
      "metadata": {
        "id": "48by_4njjwBO"
      },
      "source": [
        "##### 2021 카카오 신입공채 1차 코딩테스트 1번 문제(정답률 50%)\n",
        "https://programmers.co.kr/learn/courses/30/lessons/72410\n",
        "\n",
        "> 몰입해서 풀어보시길 바랍니다. 쉬운 문제인 만큼 정답 구글링 확인 금지."
      ]
    },
    {
      "cell_type": "markdown",
      "metadata": {
        "id": "N2R-R53ujwBO"
      },
      "source": [
        "##### 2021 카카오 신입공채 1차 코딩테스트 2번 문제(정답률 25%)\n",
        "https://programmers.co.kr/learn/courses/30/lessons/72411\n",
        "\n",
        "> 이러한 유형은 많이 출제됩니다. 유형 치고는 쉬운 문제에 속합니다. 정답 구글링 확인 금지."
      ]
    },
    {
      "cell_type": "code",
      "metadata": {
        "id": "uXXF4vNAjwBO"
      },
      "source": [
        ""
      ],
      "execution_count": null,
      "outputs": []
    },
    {
      "cell_type": "code",
      "metadata": {
        "id": "NU4aLAmwjwBO",
        "colab": {
          "base_uri": "https://localhost:8080/"
        },
        "outputId": "14924213-3d51-4ef3-bcd7-72749fc07883"
      },
      "source": [
        "#Palindrome\n",
        "data = 'abcba'\n",
        "def is_palindrome(data):\n",
        "  for i in range(len(data)//2):\n",
        "    if data[i] == data[-i-1]:\n",
        "      continue\n",
        "    else:\n",
        "      print('회문 아니다!!')\n",
        "      return\n",
        "  print('회문이다!!')\n",
        "\n",
        "is_palindrome(data)"
      ],
      "execution_count": null,
      "outputs": [
        {
          "output_type": "stream",
          "text": [
            "회문이다!!\n"
          ],
          "name": "stdout"
        }
      ]
    },
    {
      "cell_type": "markdown",
      "metadata": {
        "id": "GseUTnLGCXhc"
      },
      "source": [
        "#외워라."
      ]
    },
    {
      "cell_type": "code",
      "metadata": {
        "id": "phOGcSDvB72z",
        "colab": {
          "base_uri": "https://localhost:8080/"
        },
        "outputId": "e25365ab-80e3-468f-bc15-bea5cfd58534"
      },
      "source": [
        "data = 'abcba'\n",
        "def is_palindrome(data):\n",
        "  for i in range(len(data)//2):\n",
        "    if data[i] == data[-i-1]:\n",
        "      continue\n",
        "    else:\n",
        "      print('회문이 아니다!!!')\n",
        "      return\n",
        "  print('회문이다.')\n",
        "is_palindrome(data) "
      ],
      "execution_count": 25,
      "outputs": [
        {
          "output_type": "stream",
          "text": [
            "회문이다.\n"
          ],
          "name": "stdout"
        }
      ]
    },
    {
      "cell_type": "markdown",
      "metadata": {
        "id": "ewyqeZBUCguN"
      },
      "source": [
        "#여기서 부터는 수업"
      ]
    },
    {
      "cell_type": "markdown",
      "metadata": {
        "id": "TE_LTalDCjWb"
      },
      "source": [
        "회문은 보통 전처리 이후 회문을 진행하는 문제가 나온다.\n",
        "\n",
        "isalnum() : 알파벳과 숫자를 판별한다. 아니면 False를 반환.\n",
        "\n",
        "lower() : 소문자로\n",
        "\n",
        "pop() : 리스트의 특정 인덱스 요소를 잘라서 가져온다.\n",
        "\n",
        "\n"
      ]
    },
    {
      "cell_type": "markdown",
      "metadata": {
        "id": "TZiZrqFcDAUV"
      },
      "source": [
        "#외우는 순간 쉬워진다."
      ]
    },
    {
      "cell_type": "markdown",
      "metadata": {
        "id": "bq0ftAs7EDz2"
      },
      "source": [
        "    \\n 줄 바꿈\n",
        "    \\t 탭\n",
        "    \\r 캐리지리턴(커서를 앞쪽으로 가져옴)\n",
        "    \\O 널(Null)\n",
        "    \\\\ \\\n",
        "    \\' '\n",
        "    \\\" \"  - 이중인용부호(\"\")\n",
        "    print('이 다음은 엔터. \\n그리고 탭\\t탭')"
      ]
    },
    {
      "cell_type": "code",
      "metadata": {
        "colab": {
          "base_uri": "https://localhost:8080/"
        },
        "id": "0EeGmghuCPRJ",
        "outputId": "498ce20d-f25a-47e9-e45b-cb8b01a7f6fc"
      },
      "source": [
        "data = '0Madam, I\\'m Adam0'\n",
        "def is_palindrome(data):\n",
        "  #전처리\n",
        "  list_s =[]\n",
        "  for s in data:\n",
        "    if s.isalnum():\n",
        "      list_s.append(s.lower())\n",
        "  while len(list_s) > 1:\n",
        "    if list_s.pop(0) != list_s.pop():\n",
        "      print('회문이 아니다!!!')\n",
        "      return\n",
        "  print('회문이다!!!')\n",
        "\n",
        "is_palindrome(data)"
      ],
      "execution_count": 27,
      "outputs": [
        {
          "output_type": "stream",
          "text": [
            "회문이다!!!\n"
          ],
          "name": "stdout"
        }
      ]
    },
    {
      "cell_type": "markdown",
      "metadata": {
        "id": "k88q4gVvGoA7"
      },
      "source": [
        "정규식(re)을 활용한 전처리\n",
        "\n",
        "    import re\n",
        "    re.sub('패턴', '바꿈문자열', '적용할 문자열')"
      ]
    },
    {
      "cell_type": "code",
      "metadata": {
        "colab": {
          "base_uri": "https://localhost:8080/"
        },
        "id": "5zoFofmmE8_V",
        "outputId": "33aa6037-0e64-4c96-b38d-7a038626b02e"
      },
      "source": [
        "#슬라이싱을 활용한 회문 판별\n",
        "s = ['가나다다나가']\n",
        "if s == s[::-1]:#이 슬라이싱으로 문자열이 앞뒤가 바뀜\n",
        "  print('회문이다.')"
      ],
      "execution_count": 29,
      "outputs": [
        {
          "output_type": "stream",
          "text": [
            "회문이다.\n"
          ],
          "name": "stdout"
        }
      ]
    },
    {
      "cell_type": "code",
      "metadata": {
        "colab": {
          "base_uri": "https://localhost:8080/"
        },
        "id": "O7-6QeZXHEi8",
        "outputId": "c2e21db2-a826-43af-c5ca-2b99248494aa"
      },
      "source": [
        "import re\n",
        "def in_palindrome(data):\n",
        "  data = data.lower()\n",
        "\n",
        "  #정규식 사용\n",
        "  data = re.sub('[^a-z0-9]', '', data)\n",
        "  if data == data[::-1]:\n",
        "    print('회문입니다.')\n",
        "  else:\n",
        "    print('회문이 아닙니다.')\n",
        "\n",
        "a = '0Madam, I\\'m Adam0'\n",
        "in_palindrome(a)"
      ],
      "execution_count": 30,
      "outputs": [
        {
          "output_type": "stream",
          "text": [
            "회문입니다.\n"
          ],
          "name": "stdout"
        }
      ]
    },
    {
      "cell_type": "markdown",
      "metadata": {
        "id": "tVxg1vx-LLGu"
      },
      "source": [
        "# 알고리즘은 풀었던 문제를 계속해서 풀어야 한다.\n"
      ]
    },
    {
      "cell_type": "markdown",
      "metadata": {
        "id": "0hM9ZE_wLSY5"
      },
      "source": [
        "리스트의 값들을 하나씩 뽑아서 비교하기(deque)\n",
        "\n",
        "파이썬의 가장 큰 문제는 [1,2,3] 이 있을때 [2, 3]으로 만든다면\n",
        "\n",
        "리스트의 모든 값이 한칸씩 앞으로 움직이는 과정을 거침,\n",
        "\n",
        "리스트가 아주 크다면, 상당히 오래 걸리고, 자원소모가 심함.\n",
        "\n",
        "따라서 우리는 append() ,pop() 같은걸 사용하지 않고 deque 를 사용한다\n",
        "\n",
        "    import collections\n",
        "    deq = collections.deque()\n",
        "\n",
        "리스트를 대체한다, 앞에 자료를 뺐을때의 문제를 해결한 로직으로 만들어졌다.\n",
        "\n",
        "deque 는 스택과 큐 방식을 둘다 사용해 출구가 두개이다."
      ]
    },
    {
      "cell_type": "code",
      "metadata": {
        "colab": {
          "base_uri": "https://localhost:8080/"
        },
        "id": "ww9jWTmpIYNm",
        "outputId": "b7eb7da7-5b1b-4f82-9305-97ea544a249f"
      },
      "source": [
        "import collections\n",
        "def is_pal(data):\n",
        "  deq = collections.deque()\n",
        "  for i in data:\n",
        "    if i.isalnum():\n",
        "      deq.append(i.lower())\n",
        "  while len(deq) > 1:\n",
        "    if deq.popleft() != deq.pop():\n",
        "      print('회문이 아니다.')\n",
        "      return\n",
        "  print('회문입니다.')\n",
        "is_pal('0Madam, I\\'m Adam0')"
      ],
      "execution_count": 31,
      "outputs": [
        {
          "output_type": "stream",
          "text": [
            "회문입니다.\n"
          ],
          "name": "stdout"
        }
      ]
    },
    {
      "cell_type": "markdown",
      "metadata": {
        "id": "6Q3c3vB9OiLT"
      },
      "source": [
        "회문 문제에서는 \n",
        "\n",
        "1단계 리스트변환 : 가장 느림\n",
        "\n",
        "2단계 슬라이싱 : 가장 빠름\n",
        "\n",
        "3단계 디큐 : 2번 보다는 아니지만 빠름"
      ]
    },
    {
      "cell_type": "code",
      "metadata": {
        "id": "Uo8Ac5xdM19c"
      },
      "source": [
        ""
      ],
      "execution_count": null,
      "outputs": []
    }
  ]
}
