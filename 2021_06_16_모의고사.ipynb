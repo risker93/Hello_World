{
  "nbformat": 4,
  "nbformat_minor": 0,
  "metadata": {
    "colab": {
      "name": "2021_06_16_모의고사.ipynb",
      "provenance": [],
      "authorship_tag": "ABX9TyM2Fu7IeQmgYGPgct8Vd1Ej",
      "include_colab_link": true
    },
    "kernelspec": {
      "name": "python3",
      "display_name": "Python 3"
    },
    "language_info": {
      "name": "python"
    }
  },
  "cells": [
    {
      "cell_type": "markdown",
      "metadata": {
        "id": "view-in-github",
        "colab_type": "text"
      },
      "source": [
        "<a href=\"https://colab.research.google.com/github/risker93/Hello_World/blob/main/2021_06_16_%EB%AA%A8%EC%9D%98%EA%B3%A0%EC%82%AC.ipynb\" target=\"_parent\"><img src=\"https://colab.research.google.com/assets/colab-badge.svg\" alt=\"Open In Colab\"/></a>"
      ]
    },
    {
      "cell_type": "markdown",
      "metadata": {
        "id": "0DImUQoE-qEj"
      },
      "source": [
        "#모의고사\n",
        "\n",
        "\n",
        "문제 설명\n",
        "\n",
        "수포자는 수학을 포기한 사람의 준말입니다. 수포자 삼인방은 모의고사에 수학 문제를 전부 찍으려 합니다. \n",
        "\n",
        "수포자는 1번 문제부터 마지막 문제까지 다음과 같이 찍습니다.\n",
        "\n",
        "1번 수포자가 찍는 방식: 1, 2, 3, 4, 5, 1, 2, 3, 4, 5, ...\n",
        "\n",
        "2번 수포자가 찍는 방식: 2, 1, 2, 3, 2, 4, 2, 5, 2, 1, 2, 3, 2, 4, 2, 5, ...\n",
        "\n",
        "3번 수포자가 찍는 방식: 3, 3, 1, 1, 2, 2, 4, 4, 5, 5, 3, 3, 1, 1, 2, 2, 4, 4, 5, 5, ...\n",
        "\n",
        "1번 문제부터 마지막 문제까지의 정답이 순서대로 들은 배열 answers가 주어졌을 때, 가장 많은 문제를 \n",
        "\n",
        "맞힌 사람이 누구인지 배열에 담아 return 하도록 solution 함수를 작성해주세요.\n",
        "\n",
        "제한 조건\n",
        "\n",
        "시험은 최대 10,000 문제로 구성되어있습니다.\n",
        "\n",
        "문제의 정답은 1, 2, 3, 4, 5중 하나입니다.\n",
        "\n",
        "가장 높은 점수를 받은 사람이 여럿일 경우, return하는 값을 오름차순 정렬해주세요.\n",
        "\n",
        "입출력 예\n",
        "\n",
        "answers\treturn\n",
        "\n",
        "[1,2,3,4,5]\t[1]\n",
        "\n",
        "[1,3,2,4,2]\t[1,2,3]\n",
        "\n",
        "입출력 예 설명\n",
        "\n",
        "입출력 예 #1\n",
        "\n",
        "수포자 1은 모든 문제를 맞혔습니다.\n",
        "\n",
        "수포자 2는 모든 문제를 틀렸습니다.\n",
        "\n",
        "수포자 3은 모든 문제를 틀렸습니다.\n",
        "\n",
        "따라서 가장 문제를 많이 맞힌 사람은 수포자 1입니다.\n",
        "\n",
        "입출력 예 #2\n",
        "\n",
        "모든 사람이 2문제씩을 맞췄습니다."
      ]
    },
    {
      "cell_type": "code",
      "metadata": {
        "id": "Jh9CaAXI-pW2"
      },
      "source": [
        "#1번 수포자가 찍는 방식: 1, 2, 3, 4, 5 반복\n",
        "#2번 수포자가 찍는 방식: 2, 1, 2, 3, 2, 4, 2, 5 반복\n",
        "#3번 수포자가 찍는 방식: 3, 3, 1, 1, 2, 2, 4, 4, 5, 5 반복\n",
        "#1번 문제부터 마지막 문제까지의 정답이 순서대로 들은 배열 answers\n",
        "#가장 많은 문제를 맞힌 사람이 누구인지 배열에 담아 return 하도록 solution 함수를 작성\n",
        "#시험은 최대 10,000 문제로 구성되어있습니다.\n",
        "#문제의 정답은 1, 2, 3, 4, 5중 하나입니다.\n",
        "#가장 높은 점수를 받은 사람이 여럿일 경우, return하는 값을 오름차순 정렬해주세요.\n",
        "\n",
        "man1 = [1,2,3,4,5]\n",
        "man2 = [2,1,2,3,2,4,2,5]\n",
        "man3 = [3,3,1,1,2,2,4,4,5,5]\n",
        "guys = [man1,man2, man3]\n",
        "answercnt = []\n",
        "answer =[]\n",
        "def solution(answers):\n",
        "  for i in range(0, len(guys)):\n",
        "    if len(guys[i]) < len(answers):\n",
        "      guys[i] = guys[i] * ((len(answers)//len(guys[i])) + 1)\n",
        "      #print('guy{}'.format(i),guys[i])\n",
        "  for i in range(0, len(guys)):\n",
        "    cnt = 0\n",
        "    for j in range(len(answers)):\n",
        "      if answers[j]==guys[i][j]:\n",
        "        cnt += 1\n",
        "    answercnt.append(cnt)\n",
        "  #print(answercnt)\n",
        "  if answercnt[0] == answercnt[1] & answercnt[1] == answercnt[2]:\n",
        "    answer = [1,2,3]\n",
        "  elif answercnt[0] == answercnt[1] & answercnt[1] != answercnt[2]:\n",
        "    if answercnt[0] > answercnt[2]:\n",
        "      answer = [1,2]\n",
        "    else:\n",
        "      answer = [3]\n",
        "  elif answercnt[0] != answercnt[1] &answercnt[1] == answercnt[2]:\n",
        "    if answercnt[0] > answercnt[1]:\n",
        "      answer = [1]\n",
        "    else:\n",
        "      answer = [2,3]\n",
        "  else:\n",
        "    if answercnt[0] > answercnt[1] & answercnt[0] > answercnt[2]:\n",
        "      answer = [1]\n",
        "    elif answercnt[1] > answercnt[0] & answercnt[1] > answercnt[2]:\n",
        "      answer = [2]\n",
        "    elif answercnt[2] > answercnt[0] & answercnt[2] > answercnt[1]:\n",
        "      answer = [3]\n",
        "  return answer"
      ],
      "execution_count": null,
      "outputs": []
    },
    {
      "cell_type": "code",
      "metadata": {
        "colab": {
          "base_uri": "https://localhost:8080/"
        },
        "id": "426tUMk6Atrb",
        "outputId": "6e82e7c4-43be-4d10-e6b9-a8473f391090"
      },
      "source": [
        "solution([1,2,3,4,5,1,2,3,4,5])"
      ],
      "execution_count": null,
      "outputs": [
        {
          "output_type": "execute_result",
          "data": {
            "text/plain": [
              "[1]"
            ]
          },
          "metadata": {
            "tags": []
          },
          "execution_count": 52
        }
      ]
    },
    {
      "cell_type": "code",
      "metadata": {
        "id": "Q0fOHMI2AvRi"
      },
      "source": [
        "man1"
      ],
      "execution_count": null,
      "outputs": []
    },
    {
      "cell_type": "code",
      "metadata": {
        "colab": {
          "base_uri": "https://localhost:8080/"
        },
        "id": "FgBbzYvUNZje",
        "outputId": "881c37e0-2bb6-4cea-8afe-3a38fdf5f7ca"
      },
      "source": [
        "guys[0]"
      ],
      "execution_count": null,
      "outputs": [
        {
          "output_type": "execute_result",
          "data": {
            "text/plain": [
              "[1, 2, 3, 4, 5, 1, 2, 3, 4, 5, 1, 2, 3, 4, 5]"
            ]
          },
          "metadata": {
            "tags": []
          },
          "execution_count": 26
        }
      ]
    },
    {
      "cell_type": "markdown",
      "metadata": {
        "id": "hUFV5UVvali2"
      },
      "source": [
        "제출 결과 \n",
        "\n",
        "테스트 2, 7, 8, 9, 12 에서 런타임 에러가 나왔다.\n",
        "\n",
        "2번째 for 문에서 오래 걸리기 때문에 에러가 나오는것 같다."
      ]
    },
    {
      "cell_type": "markdown",
      "metadata": {
        "id": "KbJDnGv2PpcS"
      },
      "source": [
        "다른사람의 코드를 본 결과 리스트 크기를 늘릴 필요 없이,\n",
        "\n",
        "for 문을 돌릴때 \n",
        "\n",
        "answer 요소 i 를 수포자 리스트 길이로 나누어 주면 그 나머지가 수포자 리스트의 n번째 이기 때문에 리스트 크기를 늘릴 필요 없이 연산이 가능....\n",
        "\n",
        "또한 enumerate 함수를 사용해 정답 숫자를 담아둔 리스트의 인덱스와 벨류를 가져와\n",
        "\n",
        "그 벨류와 정답 숫자를 담아둔 리스트의 맥스값과 비교해서\n",
        "\n",
        "벨류 의 인덱스를 이용해 새 리스트로 만들어 줘서 리턴을 하면 연산 시간을 줄일 수, 있다.\n"
      ]
    },
    {
      "cell_type": "code",
      "metadata": {
        "id": "8Fazw_JzRhgm"
      },
      "source": [
        "def solution(answers):\n",
        "  answer = []\n",
        "\n",
        "  person1 = [1, 2, 3, 4, 5] #5\n",
        "  person2 = [2, 1, 2, 3, 2, 4, 2, 5]#8\n",
        "  person3 = [3, 3, 1, 1, 2, 2, 4, 4, 5, 5] #10\n",
        "\n",
        "  score = [0, 0, 0]\n",
        "\n",
        "  for i in range(len(answers)):\n",
        "    if answers[i] == person1[(i%5)]: #인덱스 반복\n",
        "      score[0] += 1\n",
        "    if answers[i] == person2[(i%8)]:\n",
        "      score[1] += 1\n",
        "    if answers[i] == person3[(i%10)]:\n",
        "      score[2] += 1\n",
        "  \n",
        "  for i, s in enumerate(score):\n",
        "    if s == max(score):\n",
        "      answer.append(i+1)\n",
        "  \n",
        "  return answer\n",
        "\n",
        "\n"
      ],
      "execution_count": 37,
      "outputs": []
    },
    {
      "cell_type": "markdown",
      "metadata": {
        "id": "4uE-h24HXKcJ"
      },
      "source": [
        "참 많이 배운 하루다..."
      ]
    },
    {
      "cell_type": "code",
      "metadata": {
        "colab": {
          "base_uri": "https://localhost:8080/"
        },
        "id": "0zyatp6zWANY",
        "outputId": "2a87b22c-6e49-4508-a39b-6d44ed5343b1"
      },
      "source": [
        "solution([1,2,3,4,5])"
      ],
      "execution_count": 38,
      "outputs": [
        {
          "output_type": "execute_result",
          "data": {
            "text/plain": [
              "[1]"
            ]
          },
          "metadata": {
            "tags": []
          },
          "execution_count": 38
        }
      ]
    },
    {
      "cell_type": "code",
      "metadata": {
        "id": "4npiaTZWWvz1"
      },
      "source": [
        ""
      ],
      "execution_count": null,
      "outputs": []
    }
  ]
}