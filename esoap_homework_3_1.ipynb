{
 "cells": [
  {
   "cell_type": "code",
   "execution_count": 13,
   "metadata": {},
   "outputs": [
    {
     "name": "stdout",
     "output_type": "stream",
     "text": [
      "[10, 20, 30]\n"
     ]
    }
   ],
   "source": [
    "a = [10,20,30]\n",
    "print(a)"
   ]
  },
  {
   "cell_type": "code",
   "execution_count": 14,
   "metadata": {},
   "outputs": [
    {
     "name": "stdout",
     "output_type": "stream",
     "text": [
      "[]\n"
     ]
    }
   ],
   "source": [
    "b = []\n",
    "print(b)"
   ]
  },
  {
   "cell_type": "code",
   "execution_count": 15,
   "metadata": {},
   "outputs": [
    {
     "name": "stdout",
     "output_type": "stream",
     "text": [
      "[1, 2, 3, 4, 5, 6, 7, 8, 9, 10]\n"
     ]
    }
   ],
   "source": [
    "c = list(range(1,11))\n",
    "print(c)"
   ]
  },
  {
   "cell_type": "code",
   "execution_count": 16,
   "metadata": {},
   "outputs": [
    {
     "name": "stdout",
     "output_type": "stream",
     "text": [
      "4\n"
     ]
    }
   ],
   "source": [
    "a = [5, 10, 3, 40]\n",
    "print(len(a))"
   ]
  },
  {
   "cell_type": "code",
   "execution_count": 17,
   "metadata": {},
   "outputs": [
    {
     "name": "stdout",
     "output_type": "stream",
     "text": [
      "[5, 10, 3, 40, 10]\n"
     ]
    }
   ],
   "source": [
    "a.append(10)\n",
    "print(a)"
   ]
  },
  {
   "cell_type": "code",
   "execution_count": 18,
   "metadata": {},
   "outputs": [
    {
     "name": "stdout",
     "output_type": "stream",
     "text": [
      "[5, 10, 100, 3, 40, 10]\n"
     ]
    }
   ],
   "source": [
    "a.insert(2,100)\n",
    "print(a)"
   ]
  },
  {
   "cell_type": "code",
   "execution_count": 19,
   "metadata": {},
   "outputs": [
    {
     "name": "stdout",
     "output_type": "stream",
     "text": [
      "[5, 100, 3, 40, 10]\n"
     ]
    }
   ],
   "source": [
    "a.remove(10)\n",
    "print(a)"
   ]
  },
  {
   "cell_type": "code",
   "execution_count": 20,
   "metadata": {},
   "outputs": [
    {
     "name": "stdout",
     "output_type": "stream",
     "text": [
      "[3, 5, 10, 40, 100]\n"
     ]
    }
   ],
   "source": [
    "a.sort()\n",
    "print(a)"
   ]
  },
  {
   "cell_type": "code",
   "execution_count": 21,
   "metadata": {},
   "outputs": [
    {
     "name": "stdout",
     "output_type": "stream",
     "text": [
      "[100, 40, 10, 5, 3]\n"
     ]
    }
   ],
   "source": [
    "a.reverse()\n",
    "print(a)"
   ]
  },
  {
   "cell_type": "code",
   "execution_count": 22,
   "metadata": {},
   "outputs": [
    {
     "name": "stdout",
     "output_type": "stream",
     "text": [
      "[242, 256, 237, 223, 263, 81, 46]\n"
     ]
    }
   ],
   "source": [
    "a = [242, 256, 237, 223, 263, 81, 46]\n",
    "print(a)"
   ]
  },
  {
   "cell_type": "code",
   "execution_count": 23,
   "metadata": {},
   "outputs": [
    {
     "name": "stdout",
     "output_type": "stream",
     "text": [
      "7\n"
     ]
    }
   ],
   "source": [
    "n = len(a)\n",
    "print(n)"
   ]
  },
  {
   "cell_type": "code",
   "execution_count": 28,
   "metadata": {},
   "outputs": [
    {
     "name": "stdout",
     "output_type": "stream",
     "text": [
      "1348\n"
     ]
    }
   ],
   "source": [
    "my_sum = 0\n",
    "\n",
    "for i in a:\n",
    "    my_sum = my_sum + i\n",
    "\n",
    "    \n",
    "\n",
    "print(my_sum)\n"
   ]
  },
  {
   "cell_type": "code",
   "execution_count": 29,
   "metadata": {},
   "outputs": [
    {
     "name": "stdout",
     "output_type": "stream",
     "text": [
      "192.57142857142858\n"
     ]
    }
   ],
   "source": [
    "my_avg = my_sum / n\n",
    "\n",
    "print(my_avg)"
   ]
  },
  {
   "cell_type": "code",
   "execution_count": 30,
   "metadata": {},
   "outputs": [],
   "source": [
    "import matplotlib.pyplot as plt"
   ]
  },
  {
   "cell_type": "code",
   "execution_count": 32,
   "metadata": {},
   "outputs": [
    {
     "data": {
      "image/png": "[encoded data removed]",
      "text/plain": [
       "<Figure size 432x288 with 1 Axes>"
      ]
     },
     "metadata": {
      "needs_background": "light"
     },
     "output_type": "display_data"
    }
   ],
   "source": [
    "#x 축 데이터 저장하기\n",
    "x_data = [ 'Mon', 'Tue', 'Wed', 'Thr', 'Fri', 'Sat', 'Sun']\n",
    "\n",
    "#유동인구 제목 :Floating Population Data(1Week)\n",
    "plt.title(\"Floating Population Data(1week)\",fontsize = 16)\n",
    "\n",
    "#x축(요일), y축(유동인구수)\n",
    "plt.xlabel(\"Day of the week\",fontsize=12)\n",
    "plt.ylabel(\"Floating Population\", fontsize=12)\n",
    "\n",
    "#산점도 그리기, (x축 : 요일, y축: 유동인구수)\n",
    "#각각에 좌표평면에 점으로 데이터를 표현\n",
    "plt.scatter(x_data, a)\n",
    "\n",
    "#라인그래프 그리기 (x축 : 요일, y축: 유동인구수)\n",
    "plt.plot(x_data, a)\n",
    "#그래프그리기\n",
    "#plt.plot(x_data, a, 'bo-')\n",
    "\n",
    "#그래프 보여주기\n",
    "plt.show()"
   ]
  },
  {
   "cell_type": "code",
   "execution_count": 35,
   "metadata": {},
   "outputs": [
    {
     "name": "stdout",
     "output_type": "stream",
     "text": [
      "weekday Data:  [242, 256, 237, 223, 263]\n",
      "weekday Sum: 1221\n",
      "weekday Average : 244.2\n"
     ]
    }
   ],
   "source": [
    "weekday_size=5\n",
    "weekday_sum = 0\n",
    "weekday_avg = 0\n",
    "\n",
    "#주중 합 구하기\n",
    "for i in range(0,weekday_size):\n",
    "    weekday_sum += a[i]\n",
    "\n",
    "#주중 평균 구하기\n",
    "weekday_avg = weekday_sum/weekday_size\n",
    "\n",
    "#주중 데이터, 주중 합, 주중평균 구하기\n",
    "print(\"weekday Data: \", a[0:5])\n",
    "print(\"weekday Sum:\", weekday_sum)\n",
    "print(\"weekday Average :\", weekday_avg)"
   ]
  },
  {
   "cell_type": "code",
   "execution_count": 36,
   "metadata": {},
   "outputs": [],
   "source": [
    "import matplotlib.pyplot as plt"
   ]
  },
  {
   "cell_type": "code",
   "execution_count": 40,
   "metadata": {},
   "outputs": [
    {
     "data": {
      "text/plain": [
       "<matplotlib.collections.PathCollection at 0x2a422bdb3d0>"
      ]
     },
     "execution_count": 40,
     "metadata": {},
     "output_type": "execute_result"
    },
    {
     "data": {
      "image/png": "[encoded data removed]",
      "text/plain": [
       "<Figure size 432x288 with 1 Axes>"
      ]
     },
     "metadata": {
      "needs_background": "light"
     },
     "output_type": "display_data"
    }
   ],
   "source": [
    "plt.title(\"Floating Population Data(1week)\", fontsize=16)\n",
    "\n",
    "#x축(요일), y축(유동인구수)\n",
    "plt.xlabel(\"Day of the week\", fontsize=12)\n",
    "plt.ylabel(\"Floating Population\", fontsize=12)\n",
    "\n",
    "#일주일 라인 그래프 그리기\n",
    "plt.plot(x_data, a)\n",
    "\n",
    "#주중 선정도 그래플 그리기(red, 50)\n",
    "plt.scatter(x_data[0:5],a[0:5], c=\"red\", s=50)"
   ]
  },
  {
   "cell_type": "code",
   "execution_count": null,
   "metadata": {},
   "outputs": [],
   "source": []
  }
 ],
 "metadata": {
  "kernelspec": {
   "display_name": "python3_7_6",
   "language": "python",
   "name": "py3_7_6"
  },
  "language_info": {
   "codemirror_mode": {
    "name": "ipython",
    "version": 3
   },
   "file_extension": ".py",
   "mimetype": "text/x-python",
   "name": "python",
   "nbconvert_exporter": "python",
   "pygments_lexer": "ipython3",
   "version": "3.8.5"
  }
 },
 "nbformat": 4,
 "nbformat_minor": 4
}
