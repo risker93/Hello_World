{
  "nbformat": 4,
  "nbformat_minor": 0,
  "metadata": {
    "colab": {
      "name": "2021_04_30_1day1algorithm.ipynb",
      "provenance": [],
      "collapsed_sections": []
    },
    "kernelspec": {
      "name": "python3",
      "display_name": "Python 3"
    },
    "language_info": {
      "name": "python"
    }
  },
  "cells": [
    {
      "cell_type": "code",
      "metadata": {
        "id": "YxsgF0XJJurr"
      },
      "source": [
        "#길이가 n이고, \"수박수박수박수....\"와 같은 패턴을 유지하는 문자열을 리턴하는 함수, solution을 완성하세요.\n",
        "#예를들어 n이 4이면 \"수박수박\"을 리턴하고,\n",
        "#3이라면 \"수박수\"를 리턴하면 됩니다.\n",
        "\n",
        "\n",
        "def solution(n):\n",
        "    answer = ''\n",
        "    water_melon = \"수박\"\n",
        "    for i in range(1, n+1):\n",
        "      if i % 2 == 1:\n",
        "        answer = answer + '수'\n",
        "      if i % 2 == 0:\n",
        "        answer = answer + '박'\n",
        "    return answer\n",
        "\n",
        "solution(1)"
      ],
      "execution_count": null,
      "outputs": []
    }
  ]
}
