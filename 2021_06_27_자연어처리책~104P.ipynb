{
  "nbformat": 4,
  "nbformat_minor": 0,
  "metadata": {
    "colab": {
      "name": "2021_06_27_자연어처리책~104P.ipynb",
      "provenance": [],
      "authorship_tag": "ABX9TyOUeFFCFJlZQhGsWNkz3x2h",
      "include_colab_link": true
    },
    "kernelspec": {
      "name": "python3",
      "display_name": "Python 3"
    },
    "language_info": {
      "name": "python"
    }
  },
  "cells": [
    {
      "cell_type": "markdown",
      "metadata": {
        "id": "view-in-github",
        "colab_type": "text"
      },
      "source": [
        "<a href=\"https://colab.research.google.com/github/risker93/Hello_World/blob/main/2021_06_27_%EC%9E%90%EC%97%B0%EC%96%B4%EC%B2%98%EB%A6%AC%EC%B1%85~104P.ipynb\" target=\"_parent\"><img src=\"https://colab.research.google.com/assets/colab-badge.svg\" alt=\"Open In Colab\"/></a>"
      ]
    },
    {
      "cell_type": "markdown",
      "metadata": {
        "id": "2cNMqTL4PP5V"
      },
      "source": [
        "#자연어 처리 개발 준비\n",
        "##텐서플로우"
      ]
    },
    {
      "cell_type": "markdown",
      "metadata": {
        "id": "O1ed_0sFCzJs"
      },
      "source": [
        "###더미 데이터를 활용한 감정 분석 모델링"
      ]
    },
    {
      "cell_type": "code",
      "metadata": {
        "id": "EF0KeK-OCs6d"
      },
      "source": [
        "import tensorflow as tf\n",
        "from tensorflow.keras import preprocessing"
      ],
      "execution_count": 1,
      "outputs": []
    },
    {
      "cell_type": "code",
      "metadata": {
        "id": "9hitUxdADF2j"
      },
      "source": [
        "samples = ['너 오늘 이뻐 보인다',\n",
        "          '나는 오늘 기분이 더러워',\n",
        "          '끝내주는데, 좋은일이 있나봐',\n",
        "          '나 좋은 일이 생겼어',\n",
        "          '아 오늘 진짜 짜증나',\n",
        "          '환상적인데, 정말 좋은거 같아']"
      ],
      "execution_count": 6,
      "outputs": []
    },
    {
      "cell_type": "code",
      "metadata": {
        "id": "4Lq6mFaMDb9h"
      },
      "source": [
        "labels = [[1],[0],[1],[1],[0],[1]]"
      ],
      "execution_count": 7,
      "outputs": []
    },
    {
      "cell_type": "code",
      "metadata": {
        "id": "Oaq-D40jDlhN"
      },
      "source": [
        "tokenizer = preprocessing.text.Tokenizer()\n",
        "tokenizer.fit_on_texts(samples)\n",
        "sequences = tokenizer.texts_to_sequences(samples)\n",
        "\n",
        "word_index=tokenizer.word_index"
      ],
      "execution_count": 29,
      "outputs": []
    },
    {
      "cell_type": "code",
      "metadata": {
        "id": "2PjD531ZD42x"
      },
      "source": [
        "batch_size = 2\n",
        "num_epochs = 100\n",
        "vocab_size = len(word_index)+1\n",
        "emb_size = 128\n",
        "hidden_dimension = 256\n",
        "output_dimension = 1"
      ],
      "execution_count": 9,
      "outputs": []
    },
    {
      "cell_type": "code",
      "metadata": {
        "id": "9dZvFnK4FvT3"
      },
      "source": [
        "from tensorflow import keras"
      ],
      "execution_count": 15,
      "outputs": []
    },
    {
      "cell_type": "code",
      "metadata": {
        "id": "-sN6cXEyFTeC"
      },
      "source": [
        "model = tf.keras.Sequential()\n",
        "model.add(keras.layers.Embedding(vocab_size, emb_size, input_length = 4))\n",
        "model.add(keras.layers.Lambda(lambda x:tf.reduce_mean(x, axis = 1)))\n",
        "model.add(keras.layers.Dense(hidden_dimension, activation='relu'))\n",
        "model.add(keras.layers.Dense(output_dimension, activation='sigmoid'))"
      ],
      "execution_count": 23,
      "outputs": []
    },
    {
      "cell_type": "code",
      "metadata": {
        "id": "9lAfOqgcFCLv"
      },
      "source": [
        "model = tf.keras.Sequential([\n",
        "keras.layers.Embedding(vocab_size, emb_size, input_length=4),\n",
        "keras.layers.Lambda(lambda x:tf.reduce_mean(x, axis = 1)),\n",
        "keras.layers.Dense(hidden_dimension, activation = 'relu'),\n",
        "keras.layers.Dense(output_dimension, activation='sigmoid')])"
      ],
      "execution_count": 20,
      "outputs": []
    },
    {
      "cell_type": "markdown",
      "metadata": {
        "id": "Y_MXkm7zHWRj"
      },
      "source": [
        "구현한 모델을 보면 입력값을 임베딩 하는 Embedding 층을 모델에 추가\n",
        "\n",
        "임베딩된 각 단어의 벡터를 평균하기 위해 람다(Lambda)층을 사용\n",
        "\n",
        "람다 층은 텐서플로 연산을 Sequantial API 와 Functional API에 적용하기 위해 사용하는 방법\n",
        "\n",
        "평균의 경우 하나의 층으로 정의돼 있지 않기 때문에 람다 층을 활용해 해당 층에 들어오는 입력값들을 평균한다.\n",
        "\n",
        "평균을 낸 후 하나의 은닉층을 통과한 후 최종 출력값을 뽑기 위 해 두개의 Dense 층을 모델에 추가한다.\n",
        "\n",
        "최종 출력값을 뽑은 Dense층의 경우 0과 1 사이에 확률값을 뽑기 위해 활성화 함수를 시그모이드 함수로 정의.\n",
        "\n"
      ]
    },
    {
      "cell_type": "code",
      "metadata": {
        "id": "urG-hohNGoN9"
      },
      "source": [
        "#model 학습\n",
        "model.compile(optimizer=tf.keras.optimizers.Adam(0.001),\n",
        "              loss='binary_crossentropy',\n",
        "              metrics=['accuracy'])"
      ],
      "execution_count": 24,
      "outputs": []
    },
    {
      "cell_type": "markdown",
      "metadata": {
        "id": "w5Rbi4-HInnk"
      },
      "source": [
        "컴파일 메서드를 통해 학습과정을 정의\n",
        "\n",
        "옵티마이저는 아담 최적화 알고리즘을 사용\n",
        "\n",
        "학습은 이진 분류 문제이므로 이진 교차 엔트로피 손실함수 사용\n",
        "\n",
        "모델의 성능을 측정하기 위한 기준으로 이진 분류의 평가 지표로 가장 널리 사용되는 정확도를 사용"
      ]
    },
    {
      "cell_type": "code",
      "metadata": {
        "id": "NIjK8KGPImsS"
      },
      "source": [
        "#model.fit(input_sequences, labels, epochs=num_epochs, batch_size=batch_size)"
      ],
      "execution_count": 31,
      "outputs": []
    },
    {
      "cell_type": "code",
      "metadata": {
        "id": "dePkAk9MJIAt"
      },
      "source": [
        "#Sequential API가 아닌 Funtional API, Subclassing 방법으로 동일한 모델을 구현해 보고 학습해보자\n",
        "\n",
        "inputs = keras.layers.Input(shape=(4, ))\n",
        "embed_output = keras.layers.Embedding(vocab_size, emb_size)(inputs)\n",
        "pooled_output = tf.reduce_mean(embed_output, axis=1)\n",
        "hidden_layer = keras.layers.Dense(hidden_dimension, activation='relu')(pooled_output)\n",
        "outputs = keras.layers.Dense(output_dimension, activation='sigmoid')(hidden_layer)\n",
        "model = tf.keras.Model(inputs=inputs, outputs=outputs)\n",
        "\n",
        "model.compile(optimizer=tf.keras.optimizers.Adam(0.001),\n",
        "              loss='binary_crossentropy',\n",
        "              metrics=['accuracy'])\n",
        "#model.fit(input_sequences, labels, epochs=num_epochs, batch_size=batch_size)"
      ],
      "execution_count": 34,
      "outputs": []
    },
    {
      "cell_type": "markdown",
      "metadata": {
        "id": "C_c-xtM6OFcF"
      },
      "source": [
        "Functional API는 케라스의 입력층을 구현한 후 각 값을 다음 레이어들을 호출하면서 인자로 넣는 방식으로 구현\n",
        "\n",
        "구현 방법에서 차이가 있을 뿐 모델 연산 흐름이나 로직이 변경된 것은 아니므로 결과는 동일\n",
        "\n",
        "다음은 Subclassing 방법"
      ]
    },
    {
      "cell_type": "code",
      "metadata": {
        "id": "-VyrxPcXM0Kf"
      },
      "source": [
        "class CustomModel(tf.keras.Model):\n",
        "\n",
        "  def __init__(self, vocab_size, embed_dimension, hidden_dimension, output_dimension):\n",
        "    super(CustomModel, self).__init__(name='my_model')\n",
        "    self.embedding = keras.layers.Embedding(vocab_size, embed_dimension)\n",
        "    self.dense_layer = keras.layers.Dense(hidden_dimension, activation='relu')\n",
        "    self.output_layer = keras.layers.Dense(output_dimension, activation='sigmoid')\n",
        "\n",
        "  def call(self, inputs):\n",
        "    x = self.embedding(inputs)\n",
        "    x = tf.reduce_mean(x, axis=1)\n",
        "    x = self.dense_layer(x)\n",
        "    x = self.ouput_layer(x)\n",
        "\n",
        "    return x\n",
        "\n",
        "model = CustomModel(vocab_size = vocab_size,\n",
        "                    embed_dimension = emb_size,\n",
        "                    hidden_dimension = hidden_dimension,\n",
        "                    output_dimension = output_dimension)\n",
        "\n",
        "model.compile(optimizer=tf.keras.optimizers.Adam(0.001),\n",
        "              loss='binary_crossentropy',\n",
        "              metrics=['accuracy'])\n",
        "\n",
        "#model.fit(input_sequences, labels, epochs=num_epochs, batch_size=batch_size)"
      ],
      "execution_count": 38,
      "outputs": []
    },
    {
      "cell_type": "markdown",
      "metadata": {
        "id": "4qRbgA_LQM96"
      },
      "source": [
        "##사이킷런"
      ]
    },
    {
      "cell_type": "markdown",
      "metadata": {
        "id": "gBLT5YUmQXkd"
      },
      "source": [
        "딥러닝 모델을 텐서플로, 케라스, 파이토치 등을 이용해서 생성할 수 있는 것 처럼\n",
        "\n",
        "머신러닝 모델은 주로 사이킷런 라이브러리를 통해 만들어 낼 수 있다.\n",
        "\n",
        "사이킷런 라이브러리는 지도학습을 위한 모듈, 비지도 학습을 위한 모듈, 모델 선택 및 평가를 위한 모듈, 데이터 변환 및 데이터 불러오기 위한 모듈, 계산 성능 향상을 위한 모듈로 구성.\n",
        "\n",
        "지도 학습 모듈로 나이브베이즈 , 의사결정 나무, 서포트벡터머신 등\n",
        "\n",
        "비지도 학습 모듈에는 군집화, 가우시안 혼합 모델 등\n",
        "\n",
        "모델 선택과 평가 모듈에서는 교차검증, 모델평가(Model evaluation)\n",
        "\n",
        "모델의 지속성을 위해 모델 저장과 불러오기를 위한 기능 등을 제공 \n",
        "\n",
        "데이터 변환 모듈에서는 파이프라인, 특징추출, 전처리, 차원축소 등의 기능 제공\n",
        "\n",
        "기본제공 데이터로는 당뇨병, 아이리스, 유방암 등\n",
        "\n"
      ]
    },
    {
      "cell_type": "code",
      "metadata": {
        "id": "_6WB_0fqPyNC"
      },
      "source": [
        "import sklearn"
      ],
      "execution_count": 39,
      "outputs": []
    },
    {
      "cell_type": "markdown",
      "metadata": {
        "id": "ZlZs-TZgV-vR"
      },
      "source": [
        "여기서는 하나의 뎅터에 대해 두가지 분류 모델을 만들 것이다.\n",
        "\n",
        "하나는 지도학습 모델인 k 최근접 이웃 분류기\n",
        "\n",
        "다른 하나는 비지도 핛십인 k 평균 군집하 모델이다."
      ]
    },
    {
      "cell_type": "code",
      "metadata": {
        "id": "-f_8GGIJVzbB"
      },
      "source": [
        "#붓꽃 데이터를 불러온다.\n",
        "\n",
        "from sklearn.datasets import load_iris"
      ],
      "execution_count": 40,
      "outputs": []
    },
    {
      "cell_type": "code",
      "metadata": {
        "id": "XzbilqIgWRIA"
      },
      "source": [
        "#변수에 할당하고 데이터가 어떤 값으로 구성돼 있는지 출력해 보자\n",
        "iris_dataset = load_iris()"
      ],
      "execution_count": 41,
      "outputs": []
    },
    {
      "cell_type": "code",
      "metadata": {
        "colab": {
          "base_uri": "https://localhost:8080/"
        },
        "id": "Ba0VsLyGWgO1",
        "outputId": "d5e10408-894b-4673-dacf-bde7801e930e"
      },
      "source": [
        "iris_dataset.keys()"
      ],
      "execution_count": 46,
      "outputs": [
        {
          "output_type": "execute_result",
          "data": {
            "text/plain": [
              "dict_keys(['data', 'target', 'target_names', 'DESCR', 'feature_names', 'filename'])"
            ]
          },
          "metadata": {
            "tags": []
          },
          "execution_count": 46
        }
      ]
    },
    {
      "cell_type": "code",
      "metadata": {
        "colab": {
          "base_uri": "https://localhost:8080/"
        },
        "id": "Lyp7jawvWiDc",
        "outputId": "b5a0ae83-cd54-4781-cc22-1388616551eb"
      },
      "source": [
        "#우선 data 값을 확인해 보자\n",
        "iris_dataset['data']"
      ],
      "execution_count": 47,
      "outputs": [
        {
          "output_type": "execute_result",
          "data": {
            "text/plain": [
              "array([[5.1, 3.5, 1.4, 0.2],\n",
              "       [4.9, 3. , 1.4, 0.2],\n",
              "       [4.7, 3.2, 1.3, 0.2],\n",
              "       [4.6, 3.1, 1.5, 0.2],\n",
              "       [5. , 3.6, 1.4, 0.2],\n",
              "       [5.4, 3.9, 1.7, 0.4],\n",
              "       [4.6, 3.4, 1.4, 0.3],\n",
              "       [5. , 3.4, 1.5, 0.2],\n",
              "       [4.4, 2.9, 1.4, 0.2],\n",
              "       [4.9, 3.1, 1.5, 0.1],\n",
              "       [5.4, 3.7, 1.5, 0.2],\n",
              "       [4.8, 3.4, 1.6, 0.2],\n",
              "       [4.8, 3. , 1.4, 0.1],\n",
              "       [4.3, 3. , 1.1, 0.1],\n",
              "       [5.8, 4. , 1.2, 0.2],\n",
              "       [5.7, 4.4, 1.5, 0.4],\n",
              "       [5.4, 3.9, 1.3, 0.4],\n",
              "       [5.1, 3.5, 1.4, 0.3],\n",
              "       [5.7, 3.8, 1.7, 0.3],\n",
              "       [5.1, 3.8, 1.5, 0.3],\n",
              "       [5.4, 3.4, 1.7, 0.2],\n",
              "       [5.1, 3.7, 1.5, 0.4],\n",
              "       [4.6, 3.6, 1. , 0.2],\n",
              "       [5.1, 3.3, 1.7, 0.5],\n",
              "       [4.8, 3.4, 1.9, 0.2],\n",
              "       [5. , 3. , 1.6, 0.2],\n",
              "       [5. , 3.4, 1.6, 0.4],\n",
              "       [5.2, 3.5, 1.5, 0.2],\n",
              "       [5.2, 3.4, 1.4, 0.2],\n",
              "       [4.7, 3.2, 1.6, 0.2],\n",
              "       [4.8, 3.1, 1.6, 0.2],\n",
              "       [5.4, 3.4, 1.5, 0.4],\n",
              "       [5.2, 4.1, 1.5, 0.1],\n",
              "       [5.5, 4.2, 1.4, 0.2],\n",
              "       [4.9, 3.1, 1.5, 0.2],\n",
              "       [5. , 3.2, 1.2, 0.2],\n",
              "       [5.5, 3.5, 1.3, 0.2],\n",
              "       [4.9, 3.6, 1.4, 0.1],\n",
              "       [4.4, 3. , 1.3, 0.2],\n",
              "       [5.1, 3.4, 1.5, 0.2],\n",
              "       [5. , 3.5, 1.3, 0.3],\n",
              "       [4.5, 2.3, 1.3, 0.3],\n",
              "       [4.4, 3.2, 1.3, 0.2],\n",
              "       [5. , 3.5, 1.6, 0.6],\n",
              "       [5.1, 3.8, 1.9, 0.4],\n",
              "       [4.8, 3. , 1.4, 0.3],\n",
              "       [5.1, 3.8, 1.6, 0.2],\n",
              "       [4.6, 3.2, 1.4, 0.2],\n",
              "       [5.3, 3.7, 1.5, 0.2],\n",
              "       [5. , 3.3, 1.4, 0.2],\n",
              "       [7. , 3.2, 4.7, 1.4],\n",
              "       [6.4, 3.2, 4.5, 1.5],\n",
              "       [6.9, 3.1, 4.9, 1.5],\n",
              "       [5.5, 2.3, 4. , 1.3],\n",
              "       [6.5, 2.8, 4.6, 1.5],\n",
              "       [5.7, 2.8, 4.5, 1.3],\n",
              "       [6.3, 3.3, 4.7, 1.6],\n",
              "       [4.9, 2.4, 3.3, 1. ],\n",
              "       [6.6, 2.9, 4.6, 1.3],\n",
              "       [5.2, 2.7, 3.9, 1.4],\n",
              "       [5. , 2. , 3.5, 1. ],\n",
              "       [5.9, 3. , 4.2, 1.5],\n",
              "       [6. , 2.2, 4. , 1. ],\n",
              "       [6.1, 2.9, 4.7, 1.4],\n",
              "       [5.6, 2.9, 3.6, 1.3],\n",
              "       [6.7, 3.1, 4.4, 1.4],\n",
              "       [5.6, 3. , 4.5, 1.5],\n",
              "       [5.8, 2.7, 4.1, 1. ],\n",
              "       [6.2, 2.2, 4.5, 1.5],\n",
              "       [5.6, 2.5, 3.9, 1.1],\n",
              "       [5.9, 3.2, 4.8, 1.8],\n",
              "       [6.1, 2.8, 4. , 1.3],\n",
              "       [6.3, 2.5, 4.9, 1.5],\n",
              "       [6.1, 2.8, 4.7, 1.2],\n",
              "       [6.4, 2.9, 4.3, 1.3],\n",
              "       [6.6, 3. , 4.4, 1.4],\n",
              "       [6.8, 2.8, 4.8, 1.4],\n",
              "       [6.7, 3. , 5. , 1.7],\n",
              "       [6. , 2.9, 4.5, 1.5],\n",
              "       [5.7, 2.6, 3.5, 1. ],\n",
              "       [5.5, 2.4, 3.8, 1.1],\n",
              "       [5.5, 2.4, 3.7, 1. ],\n",
              "       [5.8, 2.7, 3.9, 1.2],\n",
              "       [6. , 2.7, 5.1, 1.6],\n",
              "       [5.4, 3. , 4.5, 1.5],\n",
              "       [6. , 3.4, 4.5, 1.6],\n",
              "       [6.7, 3.1, 4.7, 1.5],\n",
              "       [6.3, 2.3, 4.4, 1.3],\n",
              "       [5.6, 3. , 4.1, 1.3],\n",
              "       [5.5, 2.5, 4. , 1.3],\n",
              "       [5.5, 2.6, 4.4, 1.2],\n",
              "       [6.1, 3. , 4.6, 1.4],\n",
              "       [5.8, 2.6, 4. , 1.2],\n",
              "       [5. , 2.3, 3.3, 1. ],\n",
              "       [5.6, 2.7, 4.2, 1.3],\n",
              "       [5.7, 3. , 4.2, 1.2],\n",
              "       [5.7, 2.9, 4.2, 1.3],\n",
              "       [6.2, 2.9, 4.3, 1.3],\n",
              "       [5.1, 2.5, 3. , 1.1],\n",
              "       [5.7, 2.8, 4.1, 1.3],\n",
              "       [6.3, 3.3, 6. , 2.5],\n",
              "       [5.8, 2.7, 5.1, 1.9],\n",
              "       [7.1, 3. , 5.9, 2.1],\n",
              "       [6.3, 2.9, 5.6, 1.8],\n",
              "       [6.5, 3. , 5.8, 2.2],\n",
              "       [7.6, 3. , 6.6, 2.1],\n",
              "       [4.9, 2.5, 4.5, 1.7],\n",
              "       [7.3, 2.9, 6.3, 1.8],\n",
              "       [6.7, 2.5, 5.8, 1.8],\n",
              "       [7.2, 3.6, 6.1, 2.5],\n",
              "       [6.5, 3.2, 5.1, 2. ],\n",
              "       [6.4, 2.7, 5.3, 1.9],\n",
              "       [6.8, 3. , 5.5, 2.1],\n",
              "       [5.7, 2.5, 5. , 2. ],\n",
              "       [5.8, 2.8, 5.1, 2.4],\n",
              "       [6.4, 3.2, 5.3, 2.3],\n",
              "       [6.5, 3. , 5.5, 1.8],\n",
              "       [7.7, 3.8, 6.7, 2.2],\n",
              "       [7.7, 2.6, 6.9, 2.3],\n",
              "       [6. , 2.2, 5. , 1.5],\n",
              "       [6.9, 3.2, 5.7, 2.3],\n",
              "       [5.6, 2.8, 4.9, 2. ],\n",
              "       [7.7, 2.8, 6.7, 2. ],\n",
              "       [6.3, 2.7, 4.9, 1.8],\n",
              "       [6.7, 3.3, 5.7, 2.1],\n",
              "       [7.2, 3.2, 6. , 1.8],\n",
              "       [6.2, 2.8, 4.8, 1.8],\n",
              "       [6.1, 3. , 4.9, 1.8],\n",
              "       [6.4, 2.8, 5.6, 2.1],\n",
              "       [7.2, 3. , 5.8, 1.6],\n",
              "       [7.4, 2.8, 6.1, 1.9],\n",
              "       [7.9, 3.8, 6.4, 2. ],\n",
              "       [6.4, 2.8, 5.6, 2.2],\n",
              "       [6.3, 2.8, 5.1, 1.5],\n",
              "       [6.1, 2.6, 5.6, 1.4],\n",
              "       [7.7, 3. , 6.1, 2.3],\n",
              "       [6.3, 3.4, 5.6, 2.4],\n",
              "       [6.4, 3.1, 5.5, 1.8],\n",
              "       [6. , 3. , 4.8, 1.8],\n",
              "       [6.9, 3.1, 5.4, 2.1],\n",
              "       [6.7, 3.1, 5.6, 2.4],\n",
              "       [6.9, 3.1, 5.1, 2.3],\n",
              "       [5.8, 2.7, 5.1, 1.9],\n",
              "       [6.8, 3.2, 5.9, 2.3],\n",
              "       [6.7, 3.3, 5.7, 2.5],\n",
              "       [6.7, 3. , 5.2, 2.3],\n",
              "       [6.3, 2.5, 5. , 1.9],\n",
              "       [6.5, 3. , 5.2, 2. ],\n",
              "       [6.2, 3.4, 5.4, 2.3],\n",
              "       [5.9, 3. , 5.1, 1.8]])"
            ]
          },
          "metadata": {
            "tags": []
          },
          "execution_count": 47
        }
      ]
    },
    {
      "cell_type": "code",
      "metadata": {
        "colab": {
          "base_uri": "https://localhost:8080/"
        },
        "id": "k8n4iIBjW0jz",
        "outputId": "d0dc9657-3f78-4770-c140-1faa85a874ad"
      },
      "source": [
        "iris_dataset['data'].shape\n",
        "#150개의 데이터가 각 각 4개의 특징값을 가지고 있는 형태이다"
      ],
      "execution_count": 49,
      "outputs": [
        {
          "output_type": "execute_result",
          "data": {
            "text/plain": [
              "(150, 4)"
            ]
          },
          "metadata": {
            "tags": []
          },
          "execution_count": 49
        }
      ]
    },
    {
      "cell_type": "code",
      "metadata": {
        "colab": {
          "base_uri": "https://localhost:8080/"
        },
        "id": "8DUZYXj7W4k3",
        "outputId": "266da3d1-26d7-4548-a03b-55ab25e12c87"
      },
      "source": [
        "#4개의 특징값이 의미하는 바를 확인하기 위해 feature_names  값을 확인해 보자\n",
        "iris_dataset['feature_names']\n",
        "#꽃받침 길이, 꽃받침 너비, 꽃잎 길이, 꽃잎 너비"
      ],
      "execution_count": 52,
      "outputs": [
        {
          "output_type": "execute_result",
          "data": {
            "text/plain": [
              "['sepal length (cm)',\n",
              " 'sepal width (cm)',\n",
              " 'petal length (cm)',\n",
              " 'petal width (cm)']"
            ]
          },
          "metadata": {
            "tags": []
          },
          "execution_count": 52
        }
      ]
    },
    {
      "cell_type": "code",
      "metadata": {
        "colab": {
          "base_uri": "https://localhost:8080/"
        },
        "id": "ozyA_yhDXG33",
        "outputId": "c086d33a-b05c-4d37-a34e-4e489d8268d8"
      },
      "source": [
        "#target에 대해 알아보자\n",
        "print(iris_dataset['target'])\n",
        "print(iris_dataset['target_names'])\n",
        "#target 은 데이터에 대한 정답, 즉 라벨값\n",
        "#target_names 는 붓꽃의 세 종인 Setosa, Versicolor, Virginica"
      ],
      "execution_count": 54,
      "outputs": [
        {
          "output_type": "stream",
          "text": [
            "[0 0 0 0 0 0 0 0 0 0 0 0 0 0 0 0 0 0 0 0 0 0 0 0 0 0 0 0 0 0 0 0 0 0 0 0 0\n",
            " 0 0 0 0 0 0 0 0 0 0 0 0 0 1 1 1 1 1 1 1 1 1 1 1 1 1 1 1 1 1 1 1 1 1 1 1 1\n",
            " 1 1 1 1 1 1 1 1 1 1 1 1 1 1 1 1 1 1 1 1 1 1 1 1 1 1 2 2 2 2 2 2 2 2 2 2 2\n",
            " 2 2 2 2 2 2 2 2 2 2 2 2 2 2 2 2 2 2 2 2 2 2 2 2 2 2 2 2 2 2 2 2 2 2 2 2 2\n",
            " 2 2]\n",
            "['setosa' 'versicolor' 'virginica']\n"
          ],
          "name": "stdout"
        }
      ]
    },
    {
      "cell_type": "code",
      "metadata": {
        "colab": {
          "base_uri": "https://localhost:8080/"
        },
        "id": "E-p-y8JHXdEY",
        "outputId": "b5d8a65a-1fa1-45e8-b8a4-111d35d193db"
      },
      "source": [
        "#마지막으로 DESCR에 대해 알아보자\n",
        "print(iris_dataset['DESCR'])\n",
        "#Description의 약자로 해당 데이터에 대한 전체적인 요약 정보"
      ],
      "execution_count": 57,
      "outputs": [
        {
          "output_type": "stream",
          "text": [
            ".. _iris_dataset:\n",
            "\n",
            "Iris plants dataset\n",
            "--------------------\n",
            "\n",
            "**Data Set Characteristics:**\n",
            "\n",
            "    :Number of Instances: 150 (50 in each of three classes)\n",
            "    :Number of Attributes: 4 numeric, predictive attributes and the class\n",
            "    :Attribute Information:\n",
            "        - sepal length in cm\n",
            "        - sepal width in cm\n",
            "        - petal length in cm\n",
            "        - petal width in cm\n",
            "        - class:\n",
            "                - Iris-Setosa\n",
            "                - Iris-Versicolour\n",
            "                - Iris-Virginica\n",
            "                \n",
            "    :Summary Statistics:\n",
            "\n",
            "    ============== ==== ==== ======= ===== ====================\n",
            "                    Min  Max   Mean    SD   Class Correlation\n",
            "    ============== ==== ==== ======= ===== ====================\n",
            "    sepal length:   4.3  7.9   5.84   0.83    0.7826\n",
            "    sepal width:    2.0  4.4   3.05   0.43   -0.4194\n",
            "    petal length:   1.0  6.9   3.76   1.76    0.9490  (high!)\n",
            "    petal width:    0.1  2.5   1.20   0.76    0.9565  (high!)\n",
            "    ============== ==== ==== ======= ===== ====================\n",
            "\n",
            "    :Missing Attribute Values: None\n",
            "    :Class Distribution: 33.3% for each of 3 classes.\n",
            "    :Creator: R.A. Fisher\n",
            "    :Donor: Michael Marshall (MARSHALL%PLU@io.arc.nasa.gov)\n",
            "    :Date: July, 1988\n",
            "\n",
            "The famous Iris database, first used by Sir R.A. Fisher. The dataset is taken\n",
            "from Fisher's paper. Note that it's the same as in R, but not as in the UCI\n",
            "Machine Learning Repository, which has two wrong data points.\n",
            "\n",
            "This is perhaps the best known database to be found in the\n",
            "pattern recognition literature.  Fisher's paper is a classic in the field and\n",
            "is referenced frequently to this day.  (See Duda & Hart, for example.)  The\n",
            "data set contains 3 classes of 50 instances each, where each class refers to a\n",
            "type of iris plant.  One class is linearly separable from the other 2; the\n",
            "latter are NOT linearly separable from each other.\n",
            "\n",
            ".. topic:: References\n",
            "\n",
            "   - Fisher, R.A. \"The use of multiple measurements in taxonomic problems\"\n",
            "     Annual Eugenics, 7, Part II, 179-188 (1936); also in \"Contributions to\n",
            "     Mathematical Statistics\" (John Wiley, NY, 1950).\n",
            "   - Duda, R.O., & Hart, P.E. (1973) Pattern Classification and Scene Analysis.\n",
            "     (Q327.D83) John Wiley & Sons.  ISBN 0-471-22361-1.  See page 218.\n",
            "   - Dasarathy, B.V. (1980) \"Nosing Around the Neighborhood: A New System\n",
            "     Structure and Classification Rule for Recognition in Partially Exposed\n",
            "     Environments\".  IEEE Transactions on Pattern Analysis and Machine\n",
            "     Intelligence, Vol. PAMI-2, No. 1, 67-71.\n",
            "   - Gates, G.W. (1972) \"The Reduced Nearest Neighbor Rule\".  IEEE Transactions\n",
            "     on Information Theory, May 1972, 431-433.\n",
            "   - See also: 1988 MLC Proceedings, 54-64.  Cheeseman et al\"s AUTOCLASS II\n",
            "     conceptual clustering system finds 3 classes in the data.\n",
            "   - Many, many more ...\n"
          ],
          "name": "stdout"
        }
      ]
    },
    {
      "cell_type": "markdown",
      "metadata": {
        "id": "V48LqGRlX8vU"
      },
      "source": [
        "###사이킷런을 이용한 데이터 분리"
      ]
    },
    {
      "cell_type": "code",
      "metadata": {
        "id": "gbqBKf8qXyoV"
      },
      "source": [
        "from sklearn.model_selection import train_test_split"
      ],
      "execution_count": 59,
      "outputs": []
    },
    {
      "cell_type": "code",
      "metadata": {
        "id": "ANKek4c3YDIg"
      },
      "source": [
        "#train_test_split 함수에 학습 데이터와 라벨을 넣으면 정의한 비율로 데이터를 나눈다\n",
        "train_input, test_input, train_label, test_label = train_test_split(iris_dataset['data'],\n",
        "                                                                    iris_dataset['target'],\n",
        "                                                                    test_size=0.25, random_state=42)\n",
        "\n",
        "#이 함수가 데이터를 나눌때 무작위로 데이터를 선택해서 나누는데, 이때 무작위로 선택되는 것을 제어할수 있는 값이 random_state\n",
        "#함수를 여러번 사용하더라도 이 값을 독같이 설정할 경우 동일한 데이터를 선택해 분리"
      ],
      "execution_count": 63,
      "outputs": []
    },
    {
      "cell_type": "code",
      "metadata": {
        "colab": {
          "base_uri": "https://localhost:8080/"
        },
        "id": "FGqB03_nYOKB",
        "outputId": "7fb0d6e4-c8e6-40b8-8f68-ae731c58793e"
      },
      "source": [
        "train_input.shape"
      ],
      "execution_count": 64,
      "outputs": [
        {
          "output_type": "execute_result",
          "data": {
            "text/plain": [
              "(112, 4)"
            ]
          },
          "metadata": {
            "tags": []
          },
          "execution_count": 64
        }
      ]
    },
    {
      "cell_type": "code",
      "metadata": {
        "colab": {
          "base_uri": "https://localhost:8080/"
        },
        "id": "0d-lZNi4Y9Tx",
        "outputId": "36723517-f967-4251-b0da-bb8dd3897215"
      },
      "source": [
        "train_label.shape"
      ],
      "execution_count": 65,
      "outputs": [
        {
          "output_type": "execute_result",
          "data": {
            "text/plain": [
              "(112,)"
            ]
          },
          "metadata": {
            "tags": []
          },
          "execution_count": 65
        }
      ]
    },
    {
      "cell_type": "code",
      "metadata": {
        "colab": {
          "base_uri": "https://localhost:8080/"
        },
        "id": "vTNbTi5UY_AL",
        "outputId": "f0ac8993-e799-4baf-9a27-f3ae7b49603e"
      },
      "source": [
        "test_input.shape"
      ],
      "execution_count": 66,
      "outputs": [
        {
          "output_type": "execute_result",
          "data": {
            "text/plain": [
              "(38, 4)"
            ]
          },
          "metadata": {
            "tags": []
          },
          "execution_count": 66
        }
      ]
    },
    {
      "cell_type": "code",
      "metadata": {
        "colab": {
          "base_uri": "https://localhost:8080/"
        },
        "id": "PmElji-pZAOD",
        "outputId": "de165545-14fa-4d3f-ea1c-bd4661173351"
      },
      "source": [
        "test_label.shape"
      ],
      "execution_count": 67,
      "outputs": [
        {
          "output_type": "execute_result",
          "data": {
            "text/plain": [
              "(38,)"
            ]
          },
          "metadata": {
            "tags": []
          },
          "execution_count": 67
        }
      ]
    },
    {
      "cell_type": "markdown",
      "metadata": {
        "id": "MPoBeuwbZUQM"
      },
      "source": [
        "###사이킷런을 이용한 지도학습"
      ]
    },
    {
      "cell_type": "markdown",
      "metadata": {
        "id": "PyXgMl4AZZeH"
      },
      "source": [
        "지도학습은 각 데이터에 대해 정답이 있는 경우 각 뎅이터의 정답을 예측할 수 있게 학습시키는 과정\n",
        "\n",
        "k 최근접 이웃 분류기는 예측 하고자 하는 데이터에 대해 가장 가까운 거리에 있는 데이터의 라벨과 같다고 예측하는 방법\n",
        "\n",
        "데이터에 대한 사전 지식이 없는 경우의 분류에 많이 사용\n",
        "\n",
        "여기서 k값은 예측하고자 하는 데이터와 가까운 몇 개의 데이터를 참고할 것인지를 의미\n",
        "\n",
        "특징은\n",
        "- 데이터에 대한 가정이 없어 단순\n",
        "\n",
        "- 다목적 분류와 회귀에 좋다\n",
        "\n",
        "- 높은 메모리를 요구\n",
        "\n",
        "- k값이 커지면 계산이 늦어질 수 있다.\n",
        "\n",
        "- 관련없는 기능의 데이터 규모에 민감."
      ]
    },
    {
      "cell_type": "code",
      "metadata": {
        "id": "Sg4PnaTfZB1R"
      },
      "source": [
        "#k 최근접 이웃 분류기를 직접 만들어보자\n",
        "#객체를 불러와 변수에 할당.\n",
        "from sklearn.neighbors import KNeighborsClassifier\n",
        "knn = KNeighborsClassifier(n_neighbors = 1)\n",
        "#분류기를 생성시 인자값으로 n_neighbors 값을 받는데 이 값은 k값을 의미"
      ],
      "execution_count": 69,
      "outputs": []
    },
    {
      "cell_type": "code",
      "metadata": {
        "colab": {
          "base_uri": "https://localhost:8080/"
        },
        "id": "b7vM30S-amxh",
        "outputId": "deb1e9e9-90bb-4157-dca9-faf154e8cf29"
      },
      "source": [
        "knn.fit(train_input, train_label)\n",
        "#fit 함수를 사용해 분류기 모델에 학습 데이터와, 라벨값을 적용하면 모델학습이 간단히 끝난다."
      ],
      "execution_count": 71,
      "outputs": [
        {
          "output_type": "execute_result",
          "data": {
            "text/plain": [
              "KNeighborsClassifier(algorithm='auto', leaf_size=30, metric='minkowski',\n",
              "                     metric_params=None, n_jobs=None, n_neighbors=1, p=2,\n",
              "                     weights='uniform')"
            ]
          },
          "metadata": {
            "tags": []
          },
          "execution_count": 71
        }
      ]
    },
    {
      "cell_type": "code",
      "metadata": {
        "id": "MFGjRd2Ga1VM"
      },
      "source": [
        "#학습시킨 모델을 사용해 새로운 데이터의 라벨을 예측해보자\n",
        "#우선 새롭게 4개의 피처값을 임의로 설정해서 넘파이 배열로 만들자.\n",
        "\n",
        "import numpy as np\n",
        "new_input = np.array([[6.1, 2.8, 4.7, 1.2]])"
      ],
      "execution_count": 72,
      "outputs": []
    },
    {
      "cell_type": "code",
      "metadata": {
        "colab": {
          "base_uri": "https://localhost:8080/"
        },
        "id": "iA2r68c7bNMo",
        "outputId": "b00992af-5e33-4193-db07-3f6aa36df8bc"
      },
      "source": [
        "#이 값으로 분류기 모델의 predict 함수를 사용해 결과를 예측해 보자.\n",
        "knn.predict(new_input)\n",
        "#1(Versicolor)로 예측하고 있음."
      ],
      "execution_count": 74,
      "outputs": [
        {
          "output_type": "execute_result",
          "data": {
            "text/plain": [
              "array([1])"
            ]
          },
          "metadata": {
            "tags": []
          },
          "execution_count": 74
        }
      ]
    },
    {
      "cell_type": "code",
      "metadata": {
        "colab": {
          "base_uri": "https://localhost:8080/"
        },
        "id": "9Zc7KBc_brBo",
        "outputId": "115ec426-8f16-404b-c425-5d76586affd8"
      },
      "source": [
        "#이전에 따로 분리해둔 평가 데이터를 사용해 모델의 성능을 측정해보자.\n",
        "\n",
        "predict_label = knn.predict(test_input)\n",
        "print(predict_label)"
      ],
      "execution_count": 75,
      "outputs": [
        {
          "output_type": "stream",
          "text": [
            "[1 0 2 1 1 0 1 2 1 1 2 0 0 0 0 1 2 1 1 2 0 2 0 2 2 2 2 2 0 0 0 0 1 0 0 2 1\n",
            " 0]\n"
          ],
          "name": "stdout"
        }
      ]
    },
    {
      "cell_type": "code",
      "metadata": {
        "colab": {
          "base_uri": "https://localhost:8080/"
        },
        "id": "PN0WokYib88J",
        "outputId": "ae13ad38-dcac-4c24-bfbf-805ef719ff28"
      },
      "source": [
        "#예측값과 실제값을 비교해서 정확도를 측정해보자\n",
        "\n",
        "print('test accuracy {:.2f}'.format(np.mean(predict_label==test_label)))\n",
        "#정확도가 1, 100%의 정확도."
      ],
      "execution_count": 78,
      "outputs": [
        {
          "output_type": "stream",
          "text": [
            "test accuracy 1.00\n"
          ],
          "name": "stdout"
        }
      ]
    },
    {
      "cell_type": "markdown",
      "metadata": {
        "id": "eENJn_43cgiD"
      },
      "source": [
        "###사이킷런을 이용한 비지도 학습"
      ]
    },
    {
      "cell_type": "markdown",
      "metadata": {
        "id": "GjKvSXUEcmKs"
      },
      "source": [
        "k 평균 군집화 모델을 사용\n",
        "\n",
        "군집화란 데이터를 특성에 따라 여러 집단으로 나눈는 방법.\n",
        "\n",
        "붓꽃 데이터의 경우에는 3개의 정답이 있으므로 3개의 군집으로 나누는 방법을 사용해야함\n",
        "\n",
        "군집화 방법중 가장 간단하고 널리 사용되는 군집화 방법\n",
        "\n",
        "데이터 안에서 대표하는 군집의 중심을 찾는 알고리즘\n",
        "\n",
        "알고리즘은 계속 반복적으로 수행되는데 우선 k개 만큼의 중심을 임의로 설정\n",
        "\n",
        "모든 데이터를 가장 가까운 중심에 할당, 같은 중심에 할당된 데이터들을 하나의 군집으로 판단.\n",
        "\n",
        "각 군집 내 데이터들을 가지고 군집의 중심을 새로 구해서 업데이트 \n",
        "\n",
        "또 다시 가까운 중심에 할당되고 이러한 과정이 반복\n",
        "\n",
        "데이터에 변화가 없을때까지 이루어진다.\n",
        "\n",
        "반복이 종료되면 각 데이터가 마지막으로 할당된 중심에 따라 군집이 나뉜다."
      ]
    },
    {
      "cell_type": "code",
      "metadata": {
        "id": "Icy18ZL_cNQ9"
      },
      "source": [
        "#군집화 해보자\n",
        "from sklearn.cluster import KMeans\n",
        "k_means = KMeans(n_clusters=3)\n",
        "#인자로 n_clusters를 주는데 이는 k값, 3개의 군집을 만들어야 하기 때문에 이 값을 3으로 설정"
      ],
      "execution_count": 80,
      "outputs": []
    },
    {
      "cell_type": "code",
      "metadata": {
        "colab": {
          "base_uri": "https://localhost:8080/"
        },
        "id": "Ro4pYZwYdlfv",
        "outputId": "a800b831-7ec3-4ea0-bbe1-13efc628f193"
      },
      "source": [
        "k_means.fit(train_input)\n",
        "#지도학습과는 다르게 라벨값을 넣지 않았다.\n",
        "#라벨 값을 넣지 않고 단순히 데이터 사이의 거리를 이용해 군집화한 것이기 때문에 바로 붓꽃의 라벨을 예측할 수 없다.\n",
        "#모델의 라벨 속성을 확인하면 데이터의 라벨을 확인할 수 있다."
      ],
      "execution_count": 82,
      "outputs": [
        {
          "output_type": "execute_result",
          "data": {
            "text/plain": [
              "KMeans(algorithm='auto', copy_x=True, init='k-means++', max_iter=300,\n",
              "       n_clusters=3, n_init=10, n_jobs=None, precompute_distances='auto',\n",
              "       random_state=None, tol=0.0001, verbose=0)"
            ]
          },
          "metadata": {
            "tags": []
          },
          "execution_count": 82
        }
      ]
    },
    {
      "cell_type": "code",
      "metadata": {
        "colab": {
          "base_uri": "https://localhost:8080/"
        },
        "id": "tiyeuZTKdz_Z",
        "outputId": "3dcd20a6-93a0-4b1a-cfe1-ac279605af08"
      },
      "source": [
        "k_means.labels_\n",
        "\n",
        "#라벨을 확인할 수 없다고 했는데, 각 데이터에 라벨링이 돼 있다.\n",
        "#이것은 붓꽃의 라벨을 의미하는 것이 아니라 3개의 군집으로 k평균 군집화한 각 군집을 나타낸다. \n",
        "#k_means.labels_에 나온 0 이라는 라벨은 0번쨰 군집을 의미하고, 붓꽃데이터의 라벨 0은 Setosa 종을 의미"
      ],
      "execution_count": 84,
      "outputs": [
        {
          "output_type": "execute_result",
          "data": {
            "text/plain": [
              "array([0, 0, 1, 1, 1, 0, 0, 1, 1, 2, 1, 2, 1, 2, 1, 0, 2, 1, 0, 0, 0, 1,\n",
              "       1, 0, 0, 0, 1, 0, 1, 2, 0, 1, 1, 0, 1, 1, 1, 1, 2, 1, 0, 1, 2, 0,\n",
              "       0, 1, 2, 0, 1, 0, 0, 1, 1, 2, 1, 2, 2, 1, 0, 0, 1, 2, 0, 0, 0, 1,\n",
              "       2, 0, 2, 2, 0, 1, 1, 1, 2, 2, 0, 2, 1, 2, 1, 1, 1, 0, 1, 1, 0, 1,\n",
              "       2, 2, 0, 1, 2, 2, 0, 2, 0, 2, 2, 2, 1, 2, 1, 1, 1, 1, 0, 1, 1, 0,\n",
              "       1, 2], dtype=int32)"
            ]
          },
          "metadata": {
            "tags": []
          },
          "execution_count": 84
        }
      ]
    },
    {
      "cell_type": "code",
      "metadata": {
        "colab": {
          "base_uri": "https://localhost:8080/"
        },
        "id": "npk4E7EUeQR9",
        "outputId": "2acfb340-1037-4cb0-d2d6-64cd8408d948"
      },
      "source": [
        "#각 군집의 붓꽃 종의 분포를 확인하기 위해 다음과 같이 작성해서 각군집의 종을 확인해보자\n",
        "\n",
        "print(\"0 cluster:\", train_label[k_means.labels_ == 0])\n",
        "print(\"1 cluster:\", train_label[k_means.labels_ == 1])\n",
        "print(\"2 cluster:\", train_label[k_means.labels_ == 2])\n",
        "\n",
        "#k 평균 군집화의 경우 처음에 초기값을 랜덤으로 설정한 후 군집화 과정을 진행하는데 이러한 과정 때문에 군집의 순서가 바뀔수도 있다."
      ],
      "execution_count": 86,
      "outputs": [
        {
          "output_type": "stream",
          "text": [
            "0 cluster: [0 0 0 0 0 0 0 0 0 0 0 0 0 0 0 0 0 0 0 0 0 0 0 0 0 0 0 0 0 0 0 0 0 0 0]\n",
            "1 cluster: [2 1 1 1 2 1 1 1 1 1 2 1 1 1 2 2 2 1 1 1 1 1 2 1 1 1 1 2 1 1 1 2 1 1 1 1 1\n",
            " 1 1 1 1 1 1 2 2 1 2 1]\n",
            "2 cluster: [2 2 2 2 2 2 2 1 2 2 2 2 2 2 2 1 2 2 2 2 2 2 2 2 1 2 2 2 2]\n"
          ],
          "name": "stdout"
        }
      ]
    },
    {
      "cell_type": "code",
      "metadata": {
        "id": "8Uej5b-SfFAT"
      },
      "source": [
        "#임의의 새로운 데이터를 만들어 예측을 진행 해보자\n",
        "import numpy as np\n",
        "new_input = np.array([[6.1, 2.8, 4.7, 1.2]])\n",
        "#입력 형식을 맞춰야 한다. 맞추지 않고 하나의 리스트로 넘파이 배열을 만들어서 적용하면 오류가 발생한다."
      ],
      "execution_count": 88,
      "outputs": []
    },
    {
      "cell_type": "code",
      "metadata": {
        "colab": {
          "base_uri": "https://localhost:8080/"
        },
        "id": "XfKNCqJHfprc",
        "outputId": "8d6d57bd-19d1-4642-f372-e14c3edff6d6"
      },
      "source": [
        "prediction = k_means.predict(new_input)\n",
        "print(prediction)"
      ],
      "execution_count": 89,
      "outputs": [
        {
          "output_type": "stream",
          "text": [
            "[1]\n"
          ],
          "name": "stdout"
        }
      ]
    },
    {
      "cell_type": "code",
      "metadata": {
        "colab": {
          "base_uri": "https://localhost:8080/"
        },
        "id": "g2c7QXzgf2qO",
        "outputId": "1743b83a-93bc-427c-da78-06e5d10f159c"
      },
      "source": [
        "#실제 라벨과 비교해 성능을 측정해 보자.\n",
        "predict_cluster = k_means.predict(test_input)\n",
        "print(predict_cluster)"
      ],
      "execution_count": 90,
      "outputs": [
        {
          "output_type": "stream",
          "text": [
            "[1 0 2 1 1 0 1 2 1 1 2 0 0 0 0 1 2 1 1 2 0 1 0 2 2 2 2 2 0 0 0 0 1 0 0 1 1\n",
            " 0]\n"
          ],
          "name": "stdout"
        }
      ]
    },
    {
      "cell_type": "code",
      "metadata": {
        "id": "veyZUG0kgJJU"
      },
      "source": [
        "#평가 데이터를 적용시켜 예측한 군집을 각 붗꽃의 종을 의미하는 라벨값으로 다시 바꿔줘야 실제 라벨과 비교해서 성능을 측정할 수 있다.\n",
        "\n",
        "np_arr = np.array(predict_cluster)\n",
        "np_arr[np_arr==0], np_arr[np_arr==1], np_arr[np_arr==2] = 3, 4, 5\n",
        "np_arr[np_arr==3] = 0\n",
        "np_arr[np_arr==4] = 1\n",
        "np_arr[np_arr==5] = 2\n",
        "\n",
        "#각 데이터가 속한 군집의 순서를 실제 붓꽃의 라벨로 바꾸었다.\n",
        "#만약 각 군집의 라벨 분포가 다르게 나온다면 각 군집이 어떤 라벨을 의미하는지 파악한 후 해당 라벨로 바꿔줘야 한다."
      ],
      "execution_count": 93,
      "outputs": []
    },
    {
      "cell_type": "code",
      "metadata": {
        "colab": {
          "base_uri": "https://localhost:8080/"
        },
        "id": "TPGvflT8g9G_",
        "outputId": "232735cc-74d1-40ee-abf0-5966a29711a4"
      },
      "source": [
        "#실제 라벨과 비교해 성능이 어느정도 되는지 확인해 보자.\n",
        "print('test accuracy {:.2f}'.format(np.mean(predict_cluster==test_label)))\n",
        "\n",
        "#지도학습모델 보다는 낮은 성능이지만 그래도 95%라는 높은 성능을 보여준다."
      ],
      "execution_count": 96,
      "outputs": [
        {
          "output_type": "stream",
          "text": [
            "test accuracy 0.95\n"
          ],
          "name": "stdout"
        }
      ]
    },
    {
      "cell_type": "markdown",
      "metadata": {
        "id": "beIuYK_OhwQl"
      },
      "source": [
        "###사이킷런을 이용한 특징 추출"
      ]
    },
    {
      "cell_type": "markdown",
      "metadata": {
        "id": "Pc-jZZOsoACM"
      },
      "source": [
        "자연어 처리에서 특징 추출이란 텍스트 데이터에서 단어나 문장들을 어떤 특징 값으로 바꿔주는 것을 의미\n",
        "\n",
        "기존에 문자로 구성돼 있던 데이터를 모델에 적용할 수 있도록 특징을 뽑아 어떤 값으로 바꿔서 수치화한다\n",
        "\n",
        "사이킷 런을 사용해 텍스트 데이터를 수치화하는 세 가지 방법에 대해 알아본다.\n",
        "\n",
        "- CountVectorizer\n",
        "- TfidfVectorizer\n",
        "- HashingVectorizer\n",
        "\n",
        "CounterVectorizer는 각 텍스트에서 횟수를 기준으로 특징을 추출\n",
        "\n",
        "TfidfVectorizer 는 TF-IDF라는 값을 사용해 텍스트에서 특징을 추출한다\n",
        "\n",
        "HashingVectorizer는 CounterVectorizer와 동일한 방법이지만 텍스트를 처리할 때 해시 함수를 사용하기 때문에 실행 시간을 크게 줄일수 있다.\n",
        "\n",
        "텍스트 크기가 클수록 HashingVectorizer를 사용하는것이 효율적이다.\n",
        "\n",
        "여기서는 CounterVectorizer, TfidfVectorizer에 대해서 알아보도록 하자"
      ]
    },
    {
      "cell_type": "markdown",
      "metadata": {
        "id": "sFaSkfqqpBSa"
      },
      "source": [
        "####CounterVectorizer"
      ]
    },
    {
      "cell_type": "markdown",
      "metadata": {
        "id": "5UAkGRU2pFEE"
      },
      "source": [
        "텍스트 데이터 에서 횟수를 기준으로 특징을 추출하는 방법\n",
        "\n",
        "어떤 단위의 횟수를 셀 것인지는 선택사항이다.\n",
        "\n",
        "여기서 말하는 단위는 단어가 될 수도 있고, 문자 하나하나가 될 수도 있다.\n",
        "\n",
        "보통은 단어를 기준으로 횟수를 측정하는데, 문장을 입력으로 받아 횟수를 측정한 뒤 벡터로 만든다.\n",
        "\n"
      ]
    },
    {
      "cell_type": "code",
      "metadata": {
        "id": "vM8sZwevhbJK"
      },
      "source": [
        "#특징 추출 모듈을 불러오자\n",
        "\n",
        "from sklearn.feature_extraction.text import CountVectorizer"
      ],
      "execution_count": 97,
      "outputs": []
    },
    {
      "cell_type": "code",
      "metadata": {
        "id": "mDBS4uGCppzv"
      },
      "source": [
        "#텍스트 데이터를 불러오자. 여기서는 특정 데이터를 사용하지 않고 리스트로 텍스트 데이터를 직접 정의해서 사용한다.\n",
        "#그리고 CounterVectorizer 객체를 생성한다.\n",
        "\n",
        "text_data = ['나는 배가 고프다', '내일 점심 뭐먹지', '내일 공부 해야겠다', '점심 먹고 공부 해야지']\n",
        "\n",
        "counter_vectorizer = CountVectorizer()"
      ],
      "execution_count": 98,
      "outputs": []
    },
    {
      "cell_type": "code",
      "metadata": {
        "colab": {
          "base_uri": "https://localhost:8080/"
        },
        "id": "Reh89VG6qA8v",
        "outputId": "7dd8f22d-ad19-47b4-8496-5378469ee244"
      },
      "source": [
        "#우선은 단어사전을 만들어야한다.\n",
        "#생성한 객체에 fit 함수를 사용해 데이터를 적용하면 자동으로 단어 사전을 생성한다.\n",
        "\n",
        "counter_vectorizer.fit(text_data)\n",
        "print(counter_vectorizer.vocabulary_)\n",
        "\n",
        "#각 단어에 대해 숫자들이 사전 형태로 구성돼 있다."
      ],
      "execution_count": 99,
      "outputs": [
        {
          "output_type": "stream",
          "text": [
            "{'나는': 2, '배가': 6, '고프다': 0, '내일': 3, '점심': 7, '뭐먹지': 5, '공부': 1, '해야겠다': 8, '먹고': 4, '해야지': 9}\n"
          ],
          "name": "stdout"
        }
      ]
    },
    {
      "cell_type": "code",
      "metadata": {
        "colab": {
          "base_uri": "https://localhost:8080/"
        },
        "id": "EodAYwEMqQNh",
        "outputId": "d85ac66b-51dc-4ce4-d50b-2a26accdbc1a"
      },
      "source": [
        "#텍스트데이터를 벡터로 만들어보자\n",
        "\n",
        "sentence = [text_data[0]] #['나는 배가 고프다']\n",
        "print(counter_vectorizer.transform(sentence).toarray())\n",
        "#해당 사전 순서에 맞게 1 값을 가진다.\n",
        "#직관적이고 간단해서 여러 상황에서 사용할 수 있지만, 단순히 횟수만을 특징으로 잡기 때문에\n",
        "# 큰 의미가 없지만 자주 사용되는 단어들, 조사 혹은 지시대명사가 높은 특징 값을 가지기 때문에 유의미하게 사용하기 어려울 수 있다.\n",
        "#이러한 문제점을 해결할수 있는 TF-IDF방식의 특징 추출 방법을 살펴보자"
      ],
      "execution_count": 102,
      "outputs": [
        {
          "output_type": "stream",
          "text": [
            "[[1 0 1 0 0 0 1 0 0 0]]\n"
          ],
          "name": "stdout"
        }
      ]
    },
    {
      "cell_type": "markdown",
      "metadata": {
        "id": "k463S4inrPeg"
      },
      "source": [
        "####TfidfVectorizer"
      ]
    },
    {
      "cell_type": "markdown",
      "metadata": {
        "id": "K5Haicg8rVT4"
      },
      "source": [
        "TF-IDF라는 특정한 값을 사용해서 텍스트 데이터의 특징을 추출하는 방법.\n",
        "\n",
        "TF(Term Frequency)란 특정 단어가 하나의 데이터 안에서 등장하는 횟수.\n",
        "\n",
        "DF(Document Frequency)는 문서 빈도 값, 특정 단어가 여러 데이터에 자주 등장하는지를 알려주는 지표.\n",
        "\n",
        "IDF(Inverse Document Frequency)는 이 값에 역수를 취해서 구할수 있으며, 특정 단어가 다른데이터에 등장하지 않을수록 값이 커진다는것을 의미.\n",
        "\n",
        "TF-IDF란 이 두 값을 곱해서 사용하므로 어떤 단어가 해당 문서에 자주 등장하지만 다른 문서에는 많이 없는 단어일수록 높은 값을 가지게 된다.\n",
        "\n",
        "따라서 조사나 지시대명사 처럼 자주 등장하는 단어는 TF값은 크지만 IDF값은 작아지므로 TfidfVectorizer는 CounterVectorizer가 가진 문제점을 해결할 수 있다."
      ]
    },
    {
      "cell_type": "code",
      "metadata": {
        "id": "Ga_jWhEDqrxK"
      },
      "source": [
        "#사이킷런의 특징 추출 모듈에서 불러온다.\n",
        "from sklearn.feature_extraction.text import TfidfVectorizer"
      ],
      "execution_count": 103,
      "outputs": []
    },
    {
      "cell_type": "code",
      "metadata": {
        "id": "l3C83RkmsOYF"
      },
      "source": [
        "#특징을 추출할 데이터를 정의하고 해당 객체를 생성한다.\n",
        "text_data = ['나는 배가 고프다', '내일 점심 뭐먹지', '내일 공부 해야겠다', '점심 먹고 공부 해야지']\n",
        "\n",
        "tfidf_vectorizer = TfidfVectorizer()"
      ],
      "execution_count": 105,
      "outputs": []
    },
    {
      "cell_type": "code",
      "metadata": {
        "colab": {
          "base_uri": "https://localhost:8080/"
        },
        "id": "DCJdeMCusZCz",
        "outputId": "73242184-95c9-4225-aca8-05cb58e6e5d9"
      },
      "source": [
        "#단어사전을 만든 후 사전의 목록을 출력하고 해당 데이터의 한 문장만 객체에 적용해 벡터로 바뀐 값도 출력해보자.\n",
        "tfidf_vectorizer.fit(text_data)\n",
        "print(tfidf_vectorizer.vocabulary_)"
      ],
      "execution_count": 106,
      "outputs": [
        {
          "output_type": "stream",
          "text": [
            "{'나는': 2, '배가': 6, '고프다': 0, '내일': 3, '점심': 7, '뭐먹지': 5, '공부': 1, '해야겠다': 8, '먹고': 4, '해야지': 9}\n"
          ],
          "name": "stdout"
        }
      ]
    },
    {
      "cell_type": "code",
      "metadata": {
        "colab": {
          "base_uri": "https://localhost:8080/"
        },
        "id": "9U3_uyWssqfD",
        "outputId": "024db8b5-75f2-4b91-c3d1-0d5cac300587"
      },
      "source": [
        "sentence = [text_data[3]] #['점심 먹고 공부 해야지']\n",
        "print(tfidf_vectorizer.transform(sentence).toarray())\n",
        "\n",
        "#TF-IDF 측정 방법을 생각해보면 우선 해당 문장 안에서 단어의 출현빈도를 측정하고\n",
        "#해당 단어가 다른 데이터에서는 잘 나오지 않는 값일수록 높은 값을 가진다고 했다.\n",
        "# 이 문장에서 4 단어 모두 한번씩 나왔으나 '먹고'와 '해야지'의 경우 다른 데이터에는 나오지 않은 단어이기 때문에 앞선 두 단어보다 높은 값이 나왔다."
      ],
      "execution_count": 108,
      "outputs": [
        {
          "output_type": "stream",
          "text": [
            "[[0.         0.43779123 0.         0.         0.55528266 0.\n",
            "  0.         0.43779123 0.         0.55528266]]\n"
          ],
          "name": "stdout"
        }
      ]
    },
    {
      "cell_type": "markdown",
      "metadata": {
        "id": "N_mE6v5Itz95"
      },
      "source": [
        "##자연어 토크나이징 도구\n"
      ]
    },
    {
      "cell_type": "markdown",
      "metadata": {
        "id": "6y2rD8k7t6eA"
      },
      "source": [
        "자연어 처리를 위해ㅓㅅ는 우선 텍스트에 대한 정보를 단위별로 나누는 것이 일반적.\n",
        "\n",
        "영화 리뷰 내용을 예측한다고 하면 한 문장을 단어 단위로 쪼개서 분석할 수 있다.\n",
        "\n",
        "이처럼 예측해야 할 입력 정보(문장 또는 발화)를 하나의 특정 기본 단위로 자르는 것을 토크나이징 이라고 한다."
      ]
    },
    {
      "cell_type": "markdown",
      "metadata": {
        "id": "bJW6EUjIuMf0"
      },
      "source": [
        "###영어 토크나이징 라이브러리"
      ]
    },
    {
      "cell_type": "markdown",
      "metadata": {
        "id": "Mm9w49WquRJv"
      },
      "source": [
        "영어의 경우 NLTK(Natural Language Toolkit)와 Spacy가 토크나이징에 많이 쓰이는 대표적인 라이브러리다."
      ]
    },
    {
      "cell_type": "markdown",
      "metadata": {
        "id": "NGOnue7cuad9"
      },
      "source": [
        "####NLTK\n"
      ]
    },
    {
      "cell_type": "markdown",
      "metadata": {
        "id": "61ESk4wluenj"
      },
      "source": [
        "nltk는 단순히 라이브러리를 설치한다고 바로 토크나이징 할수 있는것이 아님\n",
        "\n",
        "말뭉치(corpus)를 내려 받아 연동할 수 있어야 한다."
      ]
    },
    {
      "cell_type": "code",
      "metadata": {
        "id": "NP6Lx-Bis5BX"
      },
      "source": [
        "import nltk\n",
        "nltk.download('all')"
      ],
      "execution_count": null,
      "outputs": []
    },
    {
      "cell_type": "markdown",
      "metadata": {
        "id": "HQOfbM2Eu4zw"
      },
      "source": [
        "**토크나이징**\n",
        "\n",
        "토크나이징이란 텍스트에 대해 특정 기준 단위로 문장을 나누는 것을 의미.\n",
        "\n",
        "문장을 단어 기준으로 나누거나 전체 글을 문장 단위로 나누는 것들이 토크나이징에 해당한다.\n",
        "\n",
        "한글의 경우 'ㄱ','ㅏ'와 같은 음소도 하나의 토큰이 된다."
      ]
    },
    {
      "cell_type": "markdown",
      "metadata": {
        "id": "_GhBoEvAvMaR"
      },
      "source": [
        "**단어 단위 토크나이징**\n",
        "\n",
        "텍스트 데이터를 각 단어를 기준으로 토크나이징 해보자."
      ]
    },
    {
      "cell_type": "code",
      "metadata": {
        "colab": {
          "base_uri": "https://localhost:8080/"
        },
        "id": "XR1Bat_suzTk",
        "outputId": "f98ca455-1bd4-4ecd-e9e8-33873ee3c205"
      },
      "source": [
        "from nltk.tokenize import word_tokenize\n",
        "sentence = 'Natural language processing (NLP) is a subfield of computer science,\\\n",
        "information engineering, and artificial intelligence concerned with the interactions\\\n",
        "between computers and human(natural) languages, in particular how to program computers\\\n",
        " to process and analyze large amounts of natural language data'\n",
        "\n",
        "print(word_tokenize(sentence))"
      ],
      "execution_count": 111,
      "outputs": [
        {
          "output_type": "stream",
          "text": [
            "['Natural', 'language', 'processing', '(', 'NLP', ')', 'is', 'a', 'subfield', 'of', 'computer', 'science', ',', 'information', 'engineering', ',', 'and', 'artificial', 'intelligence', 'concerned', 'with', 'the', 'interactionsbetween', 'computers', 'and', 'human', '(', 'natural', ')', 'languages', ',', 'in', 'particular', 'how', 'to', 'program', 'computers', 'to', 'process', 'and', 'analyze', 'large', 'amounts', 'of', 'natural', 'language', 'data']\n"
          ],
          "name": "stdout"
        }
      ]
    },
    {
      "cell_type": "markdown",
      "metadata": {
        "id": "Mo01Wc5swHWr"
      },
      "source": [
        "**문장 단위 토크나이징**\n",
        "\n",
        "경우에 따라 텍스트 데이터를 우선 단어가 아닌 문장으로 나눠야 하는 경우가 있다. \n",
        "\n",
        "데이터가 문단으로 구성돼어 있어서 문단을 먼저 문장으로 나눈 후 그 결과를 다시 단어로 나눠야 하는 경우가 있다. 이런 경우 문장 단위의 토크나이징이 필요하다."
      ]
    },
    {
      "cell_type": "code",
      "metadata": {
        "colab": {
          "base_uri": "https://localhost:8080/"
        },
        "id": "kzWUxyVCwCq3",
        "outputId": "a1c11a39-bb93-4437-a06a-3d320e0df5af"
      },
      "source": [
        "from nltk.tokenize import sent_tokenize\n",
        "paragraph = \"Natural language processing (NLP) is a subfield of computer science,\\\n",
        "information engineering, and artificial intelligence concerned with the interactions\\\n",
        "between computers and human(natural) languages, in particular how to program computers\\\n",
        " to process and analyze large amounts of natural language data. Challenges in\\\n",
        " natural language processing frequently involve speech recognition, natural language\\\n",
        " understanding, and natural language generation.\"\n",
        "\n",
        "print(sent_tokenize(paragraph))"
      ],
      "execution_count": 112,
      "outputs": [
        {
          "output_type": "stream",
          "text": [
            "['Natural language processing (NLP) is a subfield of computer science,information engineering, and artificial intelligence concerned with the interactionsbetween computers and human(natural) languages, in particular how to program computers to process and analyze large amounts of natural language data.', 'Challenges in natural language processing frequently involve speech recognition, natural language understanding, and natural language generation.']\n"
          ],
          "name": "stdout"
        }
      ]
    },
    {
      "cell_type": "markdown",
      "metadata": {
        "id": "OcheTTiCxaob"
      },
      "source": [
        "NLTk 라이브러리의 경우 토크나이징 외에도 자연어 처리에 유용한 기능들을 제공한다.\n",
        "\n",
        "불용어 제거를 해야될 경우가 있는데, 불용어 사전이 내장돼 있어서 바로 사용할 수 ㅇ씨다."
      ]
    },
    {
      "cell_type": "markdown",
      "metadata": {
        "id": "u98jTTqrxr3Y"
      },
      "source": [
        "**Spacy**\n",
        "\n",
        "NLTK와 같은 오픈소스 라이브러리\n",
        "\n",
        "교육, 연구 목적이 아닌 상업용 목적으로 만들어 졌다는 점에서 NLTK와 다름.\n",
        "\n",
        "NLTK에서는 단어, 문장 단위 함수가 서로 구분돼 있었다.\n",
        "\n",
        "하지만 Spacy에서는 모두 동일한 모듈을 통해 토크나이징 한다."
      ]
    },
    {
      "cell_type": "code",
      "metadata": {
        "id": "T9WQP7XoxGWn"
      },
      "source": [
        "import spacy"
      ],
      "execution_count": 113,
      "outputs": []
    },
    {
      "cell_type": "code",
      "metadata": {
        "id": "ZqDdCFpFyEO7"
      },
      "source": [
        "nlp = spacy.load('en')\n",
        "sentence = \"Natural language processing (NLP) is a subfield of computer science,\\\n",
        "information engineering, and artificial intelligence concerned with the interactions\\\n",
        "between computers and human(natural) languages, in particular how to program computers\\\n",
        " to process and analyze large amounts of natural language data.\"\n",
        "\n",
        "doc = nlp(sentence)\n",
        "\n",
        "#spacy.load('en')을 통해 토크나이징할 객체를 생성해서 nlp 변수에 할당.\n",
        "#토크나이징할 택스트를 sentence에 할당후  nlp(sentence)를 실행\n",
        "#텍스트에 대해 구문 분석 객체를 반환하는데 이를 doc변수에 할당.\n",
        "#이제 doc 객체를 가지고 입력한 텍스트에 대한 단어 토크나이징과 문장 토크나이징을 할수 있다."
      ],
      "execution_count": 116,
      "outputs": []
    },
    {
      "cell_type": "code",
      "metadata": {
        "colab": {
          "base_uri": "https://localhost:8080/"
        },
        "id": "kaAtf6LZyggT",
        "outputId": "40938add-c977-41ef-9741-5d438c14c862"
      },
      "source": [
        "word_tokenized_sentence = [token.text for token in doc]\n",
        "sentence_tokenized_list = [sent.text for sent in doc.sents]\n",
        "print(word_tokenized_sentence)\n",
        "print(sentence_tokenized_list)"
      ],
      "execution_count": 118,
      "outputs": [
        {
          "output_type": "stream",
          "text": [
            "['Natural', 'language', 'processing', '(', 'NLP', ')', 'is', 'a', 'subfield', 'of', 'computer', 'science', ',', 'information', 'engineering', ',', 'and', 'artificial', 'intelligence', 'concerned', 'with', 'the', 'interactionsbetween', 'computers', 'and', 'human(natural', ')', 'languages', ',', 'in', 'particular', 'how', 'to', 'program', 'computers', 'to', 'process', 'and', 'analyze', 'large', 'amounts', 'of', 'natural', 'language', 'data', '.']\n",
            "['Natural language processing (NLP) is a subfield of computer science,information engineering, and artificial intelligence concerned with the interactionsbetween computers and human(natural) languages, in particular how to program computers to process and analyze large amounts of natural language data.']\n"
          ],
          "name": "stdout"
        }
      ]
    },
    {
      "cell_type": "markdown",
      "metadata": {
        "id": "1MrrTzQzzd3D"
      },
      "source": [
        "NLTK는 함수를 통해 토크나이징을 처리 했지만 Spacy는 객체를 생성하는 방식으로 구현돼있다.\n",
        "\n",
        "이처럼 객체를 생성하는 이유는 이 객체를 통해 단순히 토크나이징뿐 아니라 갖가지 다른 자연어 전처리 기능을 제공할 수 있기 때문이다.\n",
        "\n"
      ]
    },
    {
      "cell_type": "markdown",
      "metadata": {
        "id": "XAzuuCfcz5wJ"
      },
      "source": [
        "###한글 토크나이징 라이브러리"
      ]
    },
    {
      "cell_type": "markdown",
      "metadata": {
        "id": "qteOI5R10DK7"
      },
      "source": [
        "자연어 처리에서는 언어마다 특징이 다르기 때문에 천편일률적으로 동일한 방법을 적용하기는 어렵다.\n",
        "\n",
        "KoNLPy는 형태소 분석으로 형태소 단위의 토크나이징을 가능하게 할 뿐만 아니라 구문 분석을 가능하게 해서 언어 분석을 하는데 유용한 도구다."
      ]
    },
    {
      "cell_type": "code",
      "metadata": {
        "colab": {
          "base_uri": "https://localhost:8080/"
        },
        "id": "fqYMA09_06IM",
        "outputId": "8da7f9b1-8254-4a69-a76e-ebf9d4bd74f4"
      },
      "source": [
        "!pip install konlpy\n",
        "# $pip3 install konlpy #파이썬3.x 버전"
      ],
      "execution_count": 126,
      "outputs": [
        {
          "output_type": "stream",
          "text": [
            "Requirement already satisfied: konlpy in /usr/local/lib/python3.7/dist-packages (0.5.2)\n",
            "Requirement already satisfied: JPype1>=0.7.0 in /usr/local/lib/python3.7/dist-packages (from konlpy) (1.3.0)\n",
            "Requirement already satisfied: beautifulsoup4==4.6.0 in /usr/local/lib/python3.7/dist-packages (from konlpy) (4.6.0)\n",
            "Requirement already satisfied: tweepy>=3.7.0 in /usr/local/lib/python3.7/dist-packages (from konlpy) (3.10.0)\n",
            "Requirement already satisfied: colorama in /usr/local/lib/python3.7/dist-packages (from konlpy) (0.4.4)\n",
            "Requirement already satisfied: lxml>=4.1.0 in /usr/local/lib/python3.7/dist-packages (from konlpy) (4.2.6)\n",
            "Requirement already satisfied: numpy>=1.6 in /usr/local/lib/python3.7/dist-packages (from konlpy) (1.19.5)\n",
            "Requirement already satisfied: typing-extensions; python_version < \"3.8\" in /usr/local/lib/python3.7/dist-packages (from JPype1>=0.7.0->konlpy) (3.7.4.3)\n",
            "Requirement already satisfied: requests-oauthlib>=0.7.0 in /usr/local/lib/python3.7/dist-packages (from tweepy>=3.7.0->konlpy) (1.3.0)\n",
            "Requirement already satisfied: six>=1.10.0 in /usr/local/lib/python3.7/dist-packages (from tweepy>=3.7.0->konlpy) (1.15.0)\n",
            "Requirement already satisfied: requests[socks]>=2.11.1 in /usr/local/lib/python3.7/dist-packages (from tweepy>=3.7.0->konlpy) (2.23.0)\n",
            "Requirement already satisfied: oauthlib>=3.0.0 in /usr/local/lib/python3.7/dist-packages (from requests-oauthlib>=0.7.0->tweepy>=3.7.0->konlpy) (3.1.1)\n",
            "Requirement already satisfied: urllib3!=1.25.0,!=1.25.1,<1.26,>=1.21.1 in /usr/local/lib/python3.7/dist-packages (from requests[socks]>=2.11.1->tweepy>=3.7.0->konlpy) (1.24.3)\n",
            "Requirement already satisfied: idna<3,>=2.5 in /usr/local/lib/python3.7/dist-packages (from requests[socks]>=2.11.1->tweepy>=3.7.0->konlpy) (2.10)\n",
            "Requirement already satisfied: certifi>=2017.4.17 in /usr/local/lib/python3.7/dist-packages (from requests[socks]>=2.11.1->tweepy>=3.7.0->konlpy) (2021.5.30)\n",
            "Requirement already satisfied: chardet<4,>=3.0.2 in /usr/local/lib/python3.7/dist-packages (from requests[socks]>=2.11.1->tweepy>=3.7.0->konlpy) (3.0.4)\n",
            "Requirement already satisfied: PySocks!=1.5.7,>=1.5.6; extra == \"socks\" in /usr/local/lib/python3.7/dist-packages (from requests[socks]>=2.11.1->tweepy>=3.7.0->konlpy) (1.7.1)\n"
          ],
          "name": "stdout"
        }
      ]
    },
    {
      "cell_type": "code",
      "metadata": {
        "id": "FELYJZdFzWRl"
      },
      "source": [
        "import konlpy"
      ],
      "execution_count": 125,
      "outputs": []
    },
    {
      "cell_type": "markdown",
      "metadata": {
        "id": "WfN4MnUh1XrA"
      },
      "source": [
        "**형태소 단위 토크나이징**\n",
        "\n",
        "한글 텍스트의 경우에는 형태소 단위 토크나이징이 필요할 때가 있다. \n",
        "\n",
        "KoNLPy 에서는 여러 형태소 분석기를 제공하며, 각 형태소 분석기별로 분석한 결과는 다를 수 있다.\n",
        "\n",
        "각 형태소 분석기는 클래스 형태로 돼 있고, 이를 객체로 생성한 후 메서드를 호출해서 토크나이징 할 수 있다.\n",
        "\n",
        "**형태소 분석 및 품사 태깅**\n",
        "\n",
        "형태소란 의미를 가지는 가장 작은 단위로서 더 쪼개지면 의미를 상실하는 것들을 말한다.\n",
        "\n",
        "형태소 분석이란 의미를 가지는 단위를 기준으로 문장을 살펴보는 것을 의미한다.\n",
        "\n",
        "형태소 분석기의 목록은 다음과 같다\n",
        "\n",
        "- Hannanum\n",
        "- Kkma\n",
        "- Komoran\n",
        "- Mecab\n",
        "- Okt(Twitter)\n",
        "\n",
        "각기 성능이 조금씩 다름, 직접 비교해보고 자신의 데이터를 가장 잘 분석하는 분석기 사용을 권장.\n",
        "\n",
        "Mecab의 경우 윈도우 에서는 사용할 수 없으니 참고하길 바람."
      ]
    },
    {
      "cell_type": "code",
      "metadata": {
        "id": "EkVhnU870jU7"
      },
      "source": [
        "#Okt를 사용해보자\n",
        "\n",
        "from konlpy.tag import Okt"
      ],
      "execution_count": 127,
      "outputs": []
    },
    {
      "cell_type": "code",
      "metadata": {
        "id": "69GZd7og2T_5"
      },
      "source": [
        "okt = Okt()"
      ],
      "execution_count": 128,
      "outputs": []
    },
    {
      "cell_type": "markdown",
      "metadata": {
        "id": "vhOExtj52WMV"
      },
      "source": [
        "Okt 객체는 다음 4개의 함수를 제공\n",
        "\n",
        "okt.morphs()\n",
        "  \n",
        "- 텍스트를 형태소 단위로 나눈다. 옵션으로는 norm 과 stem이 있다.\n",
        "\n",
        "  각각 True 혹은 False값을 받으며 norm은 normalize 의 약자로서 문장을 정규화 하는 역할\n",
        "\n",
        "  stem은 각 단어에서 어간을 추출하는 기능이다.\n",
        "\n",
        "  각각 True로 설정하면 각 기능이 적용된다. 옵션을 지정하지 않으면 기본값은 둘 다 False\n",
        "\n",
        "okt.nouns()\n",
        "\n",
        "- 텍스트에서 명사만 뽑아낸다.\n",
        "\n",
        "okt.phrases()\n",
        "- 텍스트에서 어절을 뽑아낸다.\n",
        "\n",
        "okt.pos()\n",
        "- 위의 세 함수는 어간/명사/어절 등을 추출해내는 추출기로 동작했다면 pos함수는 각 품사를 태깅하는 역할\n",
        "\n",
        "  품사를 태깅한 다는 것은 주어진 텍스트를 형태소 단위로 나누고,\n",
        "  나눠진 각 형태소를 그에 해당하는 품사와 함께 리스트화 하는것을 의미.\n",
        "  이 함수에서도 옵션설정을 할수 있는데 norm , stem이 있고,추가로 join함수가 있는데 이 값을 True로 설정하면 나눠진 형태소와 품사를 '형태소/품사' 형태로 같이 붙여서 리스트화.\n",
        "\n"
      ]
    },
    {
      "cell_type": "code",
      "metadata": {
        "colab": {
          "base_uri": "https://localhost:8080/"
        },
        "id": "ugShaVrr2VNs",
        "outputId": "3d282f42-d0e1-4e63-cef0-0d18ae453044"
      },
      "source": [
        "#임의의 문장을 직접 지정하고 해당 문장에 각 함수를 직접 저장해 보자.\n",
        "text = \"한글 자연어 처리는 재밌다 이제부터 열심히 해야지 ㅎㅎㅎ\"\n",
        "\n",
        "print(okt.morphs(text))\n",
        "print(okt.morphs(text, stem=True))#형태소 단위로 나눈 후 어간을 추출\n",
        "#어간 추출을 한 경우 '해야지'의 어간인 '하다'로 추출된 것을 볼 수 있다."
      ],
      "execution_count": 129,
      "outputs": [
        {
          "output_type": "stream",
          "text": [
            "['한글', '자연어', '처리', '는', '재밌다', '이제', '부터', '열심히', '해야지', 'ㅎㅎㅎ']\n",
            "['한글', '자연어', '처리', '는', '재밌다', '이제', '부터', '열심히', '하다', 'ㅎㅎㅎ']\n"
          ],
          "name": "stdout"
        }
      ]
    },
    {
      "cell_type": "code",
      "metadata": {
        "colab": {
          "base_uri": "https://localhost:8080/"
        },
        "id": "hOQ9FjBW3xch",
        "outputId": "6efd6f3d-70a0-4e98-b7f3-6de59e7ee622"
      },
      "source": [
        "#명사와 어절을 추출해보자.\n",
        "print(okt.nouns(text))\n",
        "print(okt.phrases(text))"
      ],
      "execution_count": 130,
      "outputs": [
        {
          "output_type": "stream",
          "text": [
            "['한글', '자연어', '처리', '이제']\n",
            "['한글', '한글 자연어', '한글 자연어 처리', '이제', '자연어', '처리']\n"
          ],
          "name": "stdout"
        }
      ]
    },
    {
      "cell_type": "code",
      "metadata": {
        "colab": {
          "base_uri": "https://localhost:8080/"
        },
        "id": "nWw9Cy_X4GBr",
        "outputId": "6b96c265-b0b2-4c1d-ac54-166d0a171688"
      },
      "source": [
        "#품사 태깅 함수pos를 사용\n",
        "print(okt.pos(text))\n",
        "print(okt.pos(text, join=True))#형태소와 품사를 붙여서 리스트화"
      ],
      "execution_count": 131,
      "outputs": [
        {
          "output_type": "stream",
          "text": [
            "[('한글', 'Noun'), ('자연어', 'Noun'), ('처리', 'Noun'), ('는', 'Josa'), ('재밌다', 'Adjective'), ('이제', 'Noun'), ('부터', 'Josa'), ('열심히', 'Adverb'), ('해야지', 'Verb'), ('ㅎㅎㅎ', 'KoreanParticle')]\n",
            "['한글/Noun', '자연어/Noun', '처리/Noun', '는/Josa', '재밌다/Adjective', '이제/Noun', '부터/Josa', '열심히/Adverb', '해야지/Verb', 'ㅎㅎㅎ/KoreanParticle']\n"
          ],
          "name": "stdout"
        }
      ]
    },
    {
      "cell_type": "markdown",
      "metadata": {
        "id": "NmlO180h4aGr"
      },
      "source": [
        "**KoNLPy 데이터**\n",
        "\n",
        "- kolaw \n",
        "  한국 법률 말뭉치. 'constitution.txt'파일로 저장돼 있다.\n",
        "\n",
        "- kobill\n",
        "  대한민국 국회 의안 말뭉치, 각 id 값을 가지는 의안으로 구성돼 있고 파일은'1809890.txt'부터 '1809899.txt' 까지로 구성"
      ]
    },
    {
      "cell_type": "code",
      "metadata": {
        "id": "GtZcEOpX4STm"
      },
      "source": [
        "from konlpy.corpus import kolaw\n",
        "from konlpy.corpus import kobill"
      ],
      "execution_count": 132,
      "outputs": []
    },
    {
      "cell_type": "code",
      "metadata": {
        "colab": {
          "base_uri": "https://localhost:8080/",
          "height": 35
        },
        "id": "pWAeIxxE48Id",
        "outputId": "9e91885e-c852-4bd5-a0ea-118aa4d4b400"
      },
      "source": [
        "#법률 말뭉치를 불러오자 앞의 20개 까지만\n",
        "\n",
        "kolaw.open('constitution.txt').read()[:20]"
      ],
      "execution_count": 133,
      "outputs": [
        {
          "output_type": "execute_result",
          "data": {
            "application/vnd.google.colaboratory.intrinsic+json": {
              "type": "string"
            },
            "text/plain": [
              "'대한민국헌법\\n\\n유구한 역사와 전통에 '"
            ]
          },
          "metadata": {
            "tags": []
          },
          "execution_count": 133
        }
      ]
    },
    {
      "cell_type": "code",
      "metadata": {
        "colab": {
          "base_uri": "https://localhost:8080/",
          "height": 154
        },
        "id": "ozB9WP9B5GUr",
        "outputId": "c969facf-aab8-4aac-d9ff-c00e18a6bac0"
      },
      "source": [
        "#국회 의안 말뭉치\n",
        "kobill.open('1809890.txt').read()"
      ],
      "execution_count": 134,
      "outputs": [
        {
          "output_type": "execute_result",
          "data": {
            "application/vnd.google.colaboratory.intrinsic+json": {
              "type": "string"
            },
            "text/plain": [
              "'지방공무원법 일부개정법률안\\n\\n(정의화의원 대표발의 )\\n\\n 의 안\\n 번 호\\n\\n9890\\n\\n발의연월일 : 2010.  11.  12.  \\n\\n발  의  자 : 정의화․이명수․김을동 \\n\\n이사철․여상규․안규백\\n\\n황영철․박영아․김정훈\\n\\n김학송 의원(10인)\\n\\n제안이유 및 주요내용\\n\\n  초등학교 저학년의 경우에도 부모의 따뜻한 사랑과 보살핌이 필요\\n\\n한 나이이나, 현재 공무원이 자녀를 양육하기 위하여 육아휴직을 할 \\n\\n수 있는 자녀의 나이는 만 6세 이하로 되어 있어 초등학교 저학년인 \\n\\n자녀를 돌보기 위해서는 해당 부모님은 일자리를 그만 두어야 하고 \\n\\n이는 곧 출산의욕을 저하시키는 문제로 이어질 수 있을 것임.\\n\\n  따라서 육아휴직이 가능한 자녀의 연령을 만 8세 이하로 개정하려\\n\\n는 것임(안 제63조제2항제4호).\\n\\n- 1 -\\n\\n\\x0c법률  제        호\\n\\n지방공무원법 일부개정법률안\\n\\n지방공무원법 일부를 다음과 같이 개정한다.\\n\\n제63조제2항제4호 중 “만 6세 이하의 초등학교 취학 전 자녀를”을 “만 \\n\\n8세 이하(취학 중인 경우에는 초등학교 2학년 이하를 말한다)의 자녀를”\\n\\n로 한다.\\n\\n부      칙\\n\\n이 법은 공포한 날부터 시행한다.\\n\\n- 3 -\\n\\n\\x0c신 ·구조문대비표\\n\\n현      행\\n\\n개   정   안\\n\\n제63조(휴직) ① (생  략)\\n\\n제63조(휴직) ① (현행과 같음)\\n\\n  ② 공무원이 다음 각 호의 어\\n\\n  ② -------------------------\\n\\n느 하나에 해당하는 사유로 휴\\n\\n----------------------------\\n\\n직을 원하면 임용권자는 휴직\\n\\n----------------------------\\n\\n을 명할 수 있다. 다만, 제4호\\n\\n-------------.---------------\\n\\n의 경우에는 대통령령으로 정\\n\\n----------------------------\\n\\n하는 특별한 사정이 없으면 휴\\n\\n----------------------------\\n\\n직을 명하여야 한다.\\n\\n--------------.\\n\\n  1. ∼ 3. (생  략)\\n\\n  1. ∼ 3. (현행과 같음)\\n\\n  4. 만 6세 이하의 초등학교 취\\n\\n  4. 만 8세 이하(취학 중인 경우\\n\\n학 전 자녀를 양육하기 위하\\n\\n에는 초등학교 2학년 이하를 \\n\\n여 필요하거나 여자공무원이 \\n\\n말한다)의 자녀를 ----------\\n\\n임신 또는 출산하게 되었을 \\n\\n---------------------------\\n\\n때\\n\\n---------------------------\\n\\n  5.⋅6. (생  략)\\n\\n  ③⋅④ (생  략)\\n\\n--------\\n\\n  5.⋅6. (현행과 같음)\\n\\n  ③⋅④ (현행과 같음)\\n\\n- 5 -\\n\\n\\x0c지방공무원법 일부개정법률안 등 비용추계서 미첨부사유서\\n1.  재정수반요인\\n\\n개정안에서 ｢국가공무원법｣  제71조제2항제4호 중 국가공무원의 육아\\n\\n휴직 가능 자녀의 연령을 만6세 이하에서 만8세 이하로 하고, ｢지방공\\n\\n무원법｣ 제63조제2항제4호 중 지방공무원의 육아휴직 가능 자녀의 연\\n\\n령을 만6세 이하에서 만8세 이하로 하고, ｢교육공무원법｣ 제44조제1항\\n\\n제7조 중 교육공무원의 육아휴직 가능 자녀의 연령을 만6세 이하에서 \\n\\n만8세 이하로 하고, ｢남녀고용평등과 일․가정 양립지원에 관한 법률｣ \\n\\n제19조제1항 중 근로자 육아휴직 가능 자녀연령을 만6세 이하에서 만\\n\\n8세 이하로 조정함에 따라 추가 재정소요가 예상됨.\\n\\n2.  미첨부  근거  규정\\n｢의안의 비용추계에 관한 규칙｣ 제3조제1항 단서 중 제1호(예상되는 비용이 연평균  10억원 미만\\n이거나  한시적인  경비로서  총  30억원  미만인  경우)에  해당함.\\n\\n3.  미첨부  사유\\n\\n개정안에서 국가․지방․교육공무원 및 근로자가 육아휴직을 신청할 \\n\\n수 있는 자녀의 연령을 만6세 이하에서 만8세 이하로 상향조정함에 \\n\\n따라 추가 재정소요가 예상된다. 동 법률 개정안이 2011년에 시행된다\\n\\n고 가정한 경우, 2010년 현재 자녀의 연령이 7세이고 육아휴직을 신청\\n\\n- 7 -\\n\\n\\x0c- 8 -\\n\\n하지 않은 국가․지방․교육공무원 및 근로자가 대상이 된다.\\n\\n대상연령의 확대됨에 따라 육아휴직신청자의 수가 어느 정도 늘어날 \\n\\n것으로 예상된다. 이 경우 발생하는 비용은 현행법에 따르면 월50만원\\n\\n이나 현재 관련법령 개정이 추진되고 있으며, 이에 따라 2011년에는 \\n\\n육아휴직자가 지급받는 월급여액에 비례하여 육아휴직급여가 지급되\\n\\n기 때문에 법령개정을 가정하고 추계한다. 이러한 경우 육아휴직급여\\n\\n액은 육아휴직자가 지급받는 월급여의 40%에 해당한다. 육아휴직자가 \\n\\n발생한 경우 발생하는 비용은 대체인력 고용인건비와 육아휴직자가 \\n\\n받는 월급여액의 40%이다. 이와 대비하여 육아휴직자에게 지급하던 \\n\\n임금은 더 이상 발생하지 않는다. 따라서 실제 발생하는 순비용은 육\\n\\n아휴직자에게 지급하던 월 급여액과 연령 확대에 따라 발생하는 비용\\n\\n인 육아휴직자가 받던 월급여액의 40%와 대체인력 고용인건비의 차\\n\\n액인데 이 값이 0보다 크면 추가 재정소요는 발생하지 않는다고 볼 \\n\\n수 있다.\\n\\n추가비용 발생여부를 정확하게 알아보기 위하여 비용에 대한 수리모\\n\\n델을 만들고 이에 따라 비용발생 여부를 알아보기로 하자. 모델에 사\\n\\n용되는 변수를 다음과 같이 정의한다.\\n\\n발생비용 : N×p×X + N×육아휴직급여액 - N×P\\n\\nN\\n\\nP\\n\\n: 육아휴직대상자의 수\\n\\n: 육아휴직대상자의 월급여액\\n\\n\\x0cp\\n\\nX\\n\\n: 육아휴직자가 발생한 경우 대체 고용할 확률\\n\\n: 대체 고용한 인력에게 지급하는 월급여액\\n\\n위의 수식에서 육아휴직급여액은 육아휴직자 월급여액의 40%까지 지\\n\\n급할 예정이므로 육아휴직급여액은 P×40%이다. 육아휴직자가 발생한 \\n\\n경우 대체 고용할 확률 p는 고용노동부의 육아휴직 관련 자료를 이용\\n\\n한다. 고용노동부에 따르면 2011년의 경우 육아휴직급여 대상자는 \\n\\n40,923명이며, 육아휴직에 따른 대체인력 고용 예상인원은 2,836명이\\n\\n다. 2007년부터 2011년까지의 현황을 정리하면 다음의 [표]와 같다.\\n\\n[표]  육아휴직급여  수급자의  수  및  대체인력  고용  현황:  2007~2011년\\n\\n(단위:  명,  % )\\n\\n2007\\n\\n2008\\n\\n2009\\n\\n2010\\n\\n2011\\n\\n평균\\n\\n육아휴직급여  수급자(A)\\n\\n21,185\\n\\n29,145\\n\\n35,400\\n\\n41,291\\n\\n43,899\\n\\n34,184\\n\\n대체인력  채용(B)\\n\\n796\\n\\n1,658\\n\\n1,957\\n\\n2,396\\n\\n2,836\\n\\n1,929\\n\\n비  율(B/A)\\n\\n3.8\\n\\n5.7\\n\\n5.5\\n\\n5.8\\n\\n6.5\\n\\n5.6\\n\\n자료: 고용노동부  자료를  바탕으로  국회예산정책처  작성\\n\\n위의 [표]의 자료에 따라 육아휴직자가 발생한 경우 대체 고용할 확률 \\n\\np의 값은 5.6%라고 가정한다. 그리고 비용이 발생한다고 가정하여 위\\n\\n의 수식을 다시 작성하면 다음의 수식과 같다.\\n\\nN×p×X + N×육아휴직급여액 - N×P > 0\\n\\n(1)\\n\\n- 9 -\\n\\n\\x0c- 10 -\\n\\nN×5.6%×X + N×P×40% - N×P > 0\\n\\n0.056×X > 0.6P\\n\\nX > 10.7×P\\n\\n(2)\\n\\n(3)\\n\\n(5)\\n\\n위의 수식에 육아휴직자가 받는 월 급여액을 대입하여 대체고용인력\\n\\n자에게 지급하는 월 급여액을 추정하여 보자. 육아휴직자가 월 200만\\n\\n원을 받는다고 가정하면, 대체고용인력자에게 육아휴직자가 받는 월 \\n\\n급여액의 10.7배에 달하는 월 21,428,571원 이상을 지급해야 추가 비용\\n\\n이 발생한다. 대체고용인력자에게 육아휴직자보다 더 많은 월급여액을 \\n\\n주지는 않을 것이고 그리고 10여배 이상 월급을 주지도 않을 것이기 \\n\\n때문에 추가 비용이 발생한다고 보기 힘들다. 위의 수식에서 대체인력 \\n\\n고용확률 p를 20%로 가정하더라도(이 경우 X > 3×P) 200만원 받는 \\n\\n육아휴직자 대체인력에게 월 600만원 이상을 지급해야 추가 비용이 \\n\\n발생한다.\\n\\n행정안전부의 통계자료(행정안전부 통계연감)에서는 지방공무원의 육\\n\\n아휴직 현황자료를 보여주고 있다. 여기서 육아휴직자가 발생한 경우 \\n\\n대체인력을 주로 임용대기자 또는 일용직을 활용하는 것으로 보인다. \\n\\n따라서 공무원의 경우에도 [표]에서 보여주는 일반기업체의 대체인력 \\n\\n고용확률과 차이는 크지 않을 것으로 보인다.\\n\\n이상의 논의를 바탕으로 육아휴직기간을 만6에서 만8세로 연장하더라\\n\\n도 법률 개정에 따른 추가 비용은 발생하지 않을 것으로 예상된다.\\n\\n\\x0c4.  작성자\\n\\n국회예산정책처 법안비용추계1팀\\n\\n팀      장   정 문 종\\n\\n예산분석관   김 태 완\\n\\n(02-788-4649, tanzania@assembly.go.kr)\\n\\n- 11 -\\n\\n\\x0c'"
            ]
          },
          "metadata": {
            "tags": []
          },
          "execution_count": 134
        }
      ]
    },
    {
      "cell_type": "markdown",
      "metadata": {
        "id": "rLO-nDBw5UDF"
      },
      "source": [
        "위 데이터들을 여러가지 한글 자연어 처리 문제를 연습하는데 활용할 수 있다."
      ]
    },
    {
      "cell_type": "markdown",
      "metadata": {
        "id": "gqJnNZjnO2t0"
      },
      "source": [
        "##그 밖의 라이브러리(전처리)\n"
      ]
    },
    {
      "cell_type": "markdown",
      "metadata": {
        "id": "VoJRMiLLO82E"
      },
      "source": [
        "**넘파이**\n",
        "\n",
        "빠르고 효율적인 계산을 위해 만들어진 파이썬 라이브러리.\n",
        "\n",
        "고성능의 다차원 배열 객체와 이러한 배열을 계산할 효율적인 도구를 제공.\n",
        "\n",
        "넘파이의 핵심은 ndarray 객체다.\n",
        "\n",
        "이 객체는 동일한 자료형을 가지는 n차원의 배열로 이 객체를 활용하면 파이썬에 내장된 배열을 사용하는 것보다 더 적은 코드로 연산이 가능하고 더 빠르게 결과를 얻을수 있다."
      ]
    },
    {
      "cell_type": "markdown",
      "metadata": {
        "id": "-6uK0uSnPW-B"
      },
      "source": [
        "**넘파이 배열**\n",
        "\n",
        "넘파이 배열은 ndarray객체 형태다.\n",
        "\n",
        "이 객체는 동일한 자료형을 가지는ㄱ 값들이 표(또는 격자판) 형태로 구성돼 있다.\n",
        "\n",
        "각 값은 음이 아닌 정수 값으로 색인되고, 객체의 차원은 axis(축)라 불린다.\n",
        "\n",
        "속성\n",
        "- ndarray.ndim\n",
        "  배열의 축(차원)의 수를 반환\n",
        "- ndarray.shape\n",
        "  배열의 형태를 반환. 예를들어 2*3크기의 2차원 배열이 있다면 이 배열의 shape은(2,3)이 된다.\n",
        "- ndarray.size\n",
        "  배열 내 원소의 총 개수를 반환한다.\n",
        "- ndarray.dtype\n",
        "  배열 내 원소들의 자료형을 반환한다.\n",
        "\n"
      ]
    },
    {
      "cell_type": "code",
      "metadata": {
        "id": "AkeQa1WQ5Q0J"
      },
      "source": [
        "#라이블러리를 불러오자\n",
        "import numpy as np\n"
      ],
      "execution_count": 135,
      "outputs": []
    },
    {
      "cell_type": "code",
      "metadata": {
        "colab": {
          "base_uri": "https://localhost:8080/"
        },
        "id": "_WHRBDsgQH5u",
        "outputId": "8acb9a9d-7579-4c8e-dfe5-bf2c67eba82f"
      },
      "source": [
        "a = np.array([[1,2,3],[1,5,9],[3,5,7]])\n",
        "\n",
        "print(a.ndim)"
      ],
      "execution_count": 136,
      "outputs": [
        {
          "output_type": "stream",
          "text": [
            "2\n"
          ],
          "name": "stdout"
        }
      ]
    },
    {
      "cell_type": "code",
      "metadata": {
        "colab": {
          "base_uri": "https://localhost:8080/"
        },
        "id": "idb_4GoHQQx9",
        "outputId": "4f1f4f25-f0fd-4c3c-98cf-54eda59392df"
      },
      "source": [
        "print(a.shape)"
      ],
      "execution_count": 137,
      "outputs": [
        {
          "output_type": "stream",
          "text": [
            "(3, 3)\n"
          ],
          "name": "stdout"
        }
      ]
    },
    {
      "cell_type": "code",
      "metadata": {
        "colab": {
          "base_uri": "https://localhost:8080/"
        },
        "id": "g_R2Md_FQTjN",
        "outputId": "3b3abbd0-eaac-4901-ca21-cc0f92f29817"
      },
      "source": [
        "print(a.size)"
      ],
      "execution_count": 138,
      "outputs": [
        {
          "output_type": "stream",
          "text": [
            "9\n"
          ],
          "name": "stdout"
        }
      ]
    },
    {
      "cell_type": "code",
      "metadata": {
        "colab": {
          "base_uri": "https://localhost:8080/"
        },
        "id": "c0_YvXr8QU8t",
        "outputId": "90057627-97af-44b0-bee5-6a9ab330a81e"
      },
      "source": [
        "print(a.dtype)"
      ],
      "execution_count": 139,
      "outputs": [
        {
          "output_type": "stream",
          "text": [
            "int64\n"
          ],
          "name": "stdout"
        }
      ]
    },
    {
      "cell_type": "markdown",
      "metadata": {
        "id": "XVT_pbkmQYH5"
      },
      "source": [
        "- numpy.zeros\n",
        "  모든 배열의 원소가 0인 배열을 생성한다.\n",
        "- numpy.ones\n",
        "  모든 배열의 원소가 1 인 배열을 생성한다.\n",
        "- numpy.empty\n",
        "  배열의 크기만 정해주고 원소는 초기화하지 않은 배열을 생성한다. 원소에는 매우 크거나 작은 값이 들어간다.\n",
        "- numpy.arange\n",
        "  파이썬의 range함수와 유사한 형태로 배열을 생성할 수 있다. 배열의 원소들이 수열을 구성한다.\n",
        "- numpy.full\n",
        "  배열의 모든 값이 하나의 상수인 배열을 생성한다.\n",
        "- numpy.eye\n",
        "  지정한 크기의 단위행렬을 생성한다.\n",
        "- numpy.random.random\n",
        "  배열의 원소를 임의의 값으로 생성한다. 값은 0부터 1 사이의 값으로 지정된다.\n",
        "  "
      ]
    },
    {
      "cell_type": "code",
      "metadata": {
        "colab": {
          "base_uri": "https://localhost:8080/"
        },
        "id": "wUYqFnZ1QWfK",
        "outputId": "ff200fbe-7a11-4c77-aefc-9be365132a46"
      },
      "source": [
        "a = np.zeros((2,3)) #원소가 모두 0인 배열 생성\n",
        "print(a)\n"
      ],
      "execution_count": 140,
      "outputs": [
        {
          "output_type": "stream",
          "text": [
            "[[0. 0. 0.]\n",
            " [0. 0. 0.]]\n"
          ],
          "name": "stdout"
        }
      ]
    },
    {
      "cell_type": "code",
      "metadata": {
        "colab": {
          "base_uri": "https://localhost:8080/"
        },
        "id": "awpCQsitToz1",
        "outputId": "abf7864f-567d-495a-85a0-4a75e4bab324"
      },
      "source": [
        "b = np.ones((2,1)) #원소가 모두 1인 배열 생성\n",
        "print(b)"
      ],
      "execution_count": 142,
      "outputs": [
        {
          "output_type": "stream",
          "text": [
            "[[1.]\n",
            " [1.]]\n"
          ],
          "name": "stdout"
        }
      ]
    },
    {
      "cell_type": "code",
      "metadata": {
        "colab": {
          "base_uri": "https://localhost:8080/"
        },
        "id": "F9rHDzcwTs7B",
        "outputId": "0b004d03-11ee-4b41-f0a4-fbf75705fc2c"
      },
      "source": [
        "c = np.empty((2,2)) #원소값을 초기화 하지 않은 배열 생성\n",
        "print(c)"
      ],
      "execution_count": 143,
      "outputs": [
        {
          "output_type": "stream",
          "text": [
            "[[4.94e-324 2.96e-323]\n",
            " [3.16e-322 9.88e-324]]\n"
          ],
          "name": "stdout"
        }
      ]
    },
    {
      "cell_type": "code",
      "metadata": {
        "colab": {
          "base_uri": "https://localhost:8080/"
        },
        "id": "Ynhjn8g0UD4x",
        "outputId": "18cda3fb-38c0-4135-a316-0c7d241cdea4"
      },
      "source": [
        "d = np.arange(10,30, 5) #10부터 30전까지 5 단위로 배열 생성\n",
        "print(d)"
      ],
      "execution_count": 144,
      "outputs": [
        {
          "output_type": "stream",
          "text": [
            "[10 15 20 25]\n"
          ],
          "name": "stdout"
        }
      ]
    },
    {
      "cell_type": "code",
      "metadata": {
        "colab": {
          "base_uri": "https://localhost:8080/"
        },
        "id": "bw_NJRp5UKO_",
        "outputId": "0b206b19-99bb-416f-a8ac-cdc0d608ae7f"
      },
      "source": [
        "e = np.full((2,2),4) #원소가 모두 4인 배열 생성\n",
        "print(e)"
      ],
      "execution_count": 146,
      "outputs": [
        {
          "output_type": "stream",
          "text": [
            "[[4 4]\n",
            " [4 4]]\n"
          ],
          "name": "stdout"
        }
      ]
    },
    {
      "cell_type": "code",
      "metadata": {
        "colab": {
          "base_uri": "https://localhost:8080/"
        },
        "id": "TJNMlQTdUQHR",
        "outputId": "ada39fc9-be5a-4243-bf2b-99a169bb500b"
      },
      "source": [
        "f = np.eye(3) #3*3 크기의 단위행렬 생성\n",
        "print(f)"
      ],
      "execution_count": 147,
      "outputs": [
        {
          "output_type": "stream",
          "text": [
            "[[1. 0. 0.]\n",
            " [0. 1. 0.]\n",
            " [0. 0. 1.]]\n"
          ],
          "name": "stdout"
        }
      ]
    },
    {
      "cell_type": "code",
      "metadata": {
        "colab": {
          "base_uri": "https://localhost:8080/"
        },
        "id": "EhpVXQAUUXAz",
        "outputId": "7f40bf7f-3990-4195-8284-bf1d54713482"
      },
      "source": [
        "g = np.random.random((2, 2))#임의값을 가진 배열 생성\n",
        "print(g)"
      ],
      "execution_count": 148,
      "outputs": [
        {
          "output_type": "stream",
          "text": [
            "[[0.78693422 0.62804216]\n",
            " [0.60174809 0.27983391]]\n"
          ],
          "name": "stdout"
        }
      ]
    },
    {
      "cell_type": "markdown",
      "metadata": {
        "id": "gBL_x5B0Uf4-"
      },
      "source": [
        "**넘파이 기본 연산**\n",
        "\n",
        "넘파이는 배열의 기본적인 사칙 연산을 모두 지원한다.\n",
        "\n",
        "주의할 점은 벡터끼리의 곱셈과 내적을 구분해야 한다는 점이다.\n",
        "\n",
        "*연산시 벡터 끼리 사용할 경우 원소별 곱셈을 의미한다.\n",
        "\n",
        "벡터의 내적인 경우 dot함수를 사용해야 한다\n"
      ]
    },
    {
      "cell_type": "code",
      "metadata": {
        "colab": {
          "base_uri": "https://localhost:8080/"
        },
        "id": "O3hph96MUeGO",
        "outputId": "579365fe-a4ca-4eaa-bf70-362625f8df36"
      },
      "source": [
        "a = np.array([1,2,3])\n",
        "b = np.array([10,20,30])\n",
        "print(a+b)"
      ],
      "execution_count": 149,
      "outputs": [
        {
          "output_type": "stream",
          "text": [
            "[11 22 33]\n"
          ],
          "name": "stdout"
        }
      ]
    },
    {
      "cell_type": "code",
      "metadata": {
        "colab": {
          "base_uri": "https://localhost:8080/"
        },
        "id": "U758Qd-VU4yO",
        "outputId": "92e0ba55-19b5-442e-dec2-8be6b71e1e7f"
      },
      "source": [
        "print(np.add(a,b)) #위와 동일"
      ],
      "execution_count": 150,
      "outputs": [
        {
          "output_type": "stream",
          "text": [
            "[11 22 33]\n"
          ],
          "name": "stdout"
        }
      ]
    },
    {
      "cell_type": "code",
      "metadata": {
        "colab": {
          "base_uri": "https://localhost:8080/"
        },
        "id": "A-qGBU5IU76G",
        "outputId": "9d011d71-015d-4985-f4a4-e8174a7fafa7"
      },
      "source": [
        "print(b-a)"
      ],
      "execution_count": 151,
      "outputs": [
        {
          "output_type": "stream",
          "text": [
            "[ 9 18 27]\n"
          ],
          "name": "stdout"
        }
      ]
    },
    {
      "cell_type": "code",
      "metadata": {
        "colab": {
          "base_uri": "https://localhost:8080/"
        },
        "id": "AarqtbuUU9LY",
        "outputId": "9776d1e5-da80-4c9e-ce8e-fd934a7c4d4d"
      },
      "source": [
        "print(np.subtract(b,a)) #위와 동일"
      ],
      "execution_count": 152,
      "outputs": [
        {
          "output_type": "stream",
          "text": [
            "[ 9 18 27]\n"
          ],
          "name": "stdout"
        }
      ]
    },
    {
      "cell_type": "code",
      "metadata": {
        "colab": {
          "base_uri": "https://localhost:8080/"
        },
        "id": "yeDWp-oDVBUW",
        "outputId": "b2e9b100-6f5b-4311-b28b-8438df01096d"
      },
      "source": [
        "print(a**2) # 제곱연산"
      ],
      "execution_count": 153,
      "outputs": [
        {
          "output_type": "stream",
          "text": [
            "[1 4 9]\n"
          ],
          "name": "stdout"
        }
      ]
    },
    {
      "cell_type": "code",
      "metadata": {
        "colab": {
          "base_uri": "https://localhost:8080/"
        },
        "id": "wq9PW4h-VEN_",
        "outputId": "bee945a3-1b1b-4311-bcf8-1138d821d22c"
      },
      "source": [
        "print(b<15)"
      ],
      "execution_count": 154,
      "outputs": [
        {
          "output_type": "stream",
          "text": [
            "[ True False False]\n"
          ],
          "name": "stdout"
        }
      ]
    },
    {
      "cell_type": "code",
      "metadata": {
        "id": "AK3UiYeKVIJv"
      },
      "source": [
        "C = np.array([[1,2],\n",
        "              [3,4]])\n",
        "D = np.array([[10,20],\n",
        "              [30,40]])\n"
      ],
      "execution_count": 155,
      "outputs": []
    },
    {
      "cell_type": "code",
      "metadata": {
        "colab": {
          "base_uri": "https://localhost:8080/"
        },
        "id": "fzbOzuBSVU4Y",
        "outputId": "b1f719e1-c76c-41a4-80c8-76811df9584c"
      },
      "source": [
        "print(C*D) # 원소별 곱셈"
      ],
      "execution_count": 156,
      "outputs": [
        {
          "output_type": "stream",
          "text": [
            "[[ 10  40]\n",
            " [ 90 160]]\n"
          ],
          "name": "stdout"
        }
      ]
    },
    {
      "cell_type": "code",
      "metadata": {
        "colab": {
          "base_uri": "https://localhost:8080/"
        },
        "id": "l3Y26RYKVXrq",
        "outputId": "63a96ab2-eb2a-4d36-d237-9b097c1ba6c9"
      },
      "source": [
        "print(np.dot(C,D)) # 내적(dot product) 계산"
      ],
      "execution_count": 157,
      "outputs": [
        {
          "output_type": "stream",
          "text": [
            "[[ 70 100]\n",
            " [150 220]]\n"
          ],
          "name": "stdout"
        }
      ]
    },
    {
      "cell_type": "code",
      "metadata": {
        "colab": {
          "base_uri": "https://localhost:8080/"
        },
        "id": "D7ORwg87VfYb",
        "outputId": "c2042254-1e22-433a-9bc0-a34526d5641a"
      },
      "source": [
        "print(C.dot(D)) #내적의 또 다른 사용법"
      ],
      "execution_count": 158,
      "outputs": [
        {
          "output_type": "stream",
          "text": [
            "[[ 70 100]\n",
            " [150 220]]\n"
          ],
          "name": "stdout"
        }
      ]
    },
    {
      "cell_type": "markdown",
      "metadata": {
        "id": "PON0bzaZV2uS"
      },
      "source": [
        "위의 기본적인 연산 외에 중요한 연산 기능은 축(axis)을 기준으로 한 연산이다."
      ]
    },
    {
      "cell_type": "code",
      "metadata": {
        "colab": {
          "base_uri": "https://localhost:8080/"
        },
        "id": "cLo_CUZxVt69",
        "outputId": "b42dcc6f-2e93-4fd2-d1e8-b0025f8b1062"
      },
      "source": [
        "a = np.array([[1,2,3,4],\n",
        "              [5,6,7,8],\n",
        "              [1,3,5,7]])\n",
        "\n",
        "print(a.sum(axis=0)) # 0축, 즉 열을 기준으로 한 덧셈"
      ],
      "execution_count": 159,
      "outputs": [
        {
          "output_type": "stream",
          "text": [
            "[ 7 11 15 19]\n"
          ],
          "name": "stdout"
        }
      ]
    },
    {
      "cell_type": "code",
      "metadata": {
        "colab": {
          "base_uri": "https://localhost:8080/"
        },
        "id": "SuDTdbOsWN_u",
        "outputId": "daf9d626-d258-4d9f-c90f-fab059b85d8e"
      },
      "source": [
        "print(a.sum(axis=1)) # 1축, 즉 행을 기준으로 한 덧셈"
      ],
      "execution_count": 160,
      "outputs": [
        {
          "output_type": "stream",
          "text": [
            "[10 26 16]\n"
          ],
          "name": "stdout"
        }
      ]
    },
    {
      "cell_type": "code",
      "metadata": {
        "colab": {
          "base_uri": "https://localhost:8080/"
        },
        "id": "wDwWlu3hWYHQ",
        "outputId": "bb7f6870-4f15-42af-f86a-cc04b0f4a0b2"
      },
      "source": [
        "print(a.max(axis=1)) # 각 행에서의 최댓값"
      ],
      "execution_count": 161,
      "outputs": [
        {
          "output_type": "stream",
          "text": [
            "[4 8 7]\n"
          ],
          "name": "stdout"
        }
      ]
    },
    {
      "cell_type": "markdown",
      "metadata": {
        "id": "kHdFxEOQWjOQ"
      },
      "source": [
        "**넘파이 배열 인덱싱, 슬라이싱**"
      ]
    },
    {
      "cell_type": "code",
      "metadata": {
        "id": "ZKAjoOwqWeZ-"
      },
      "source": [
        "a = np.array([1,2,3,4,5,6,7])"
      ],
      "execution_count": 162,
      "outputs": []
    },
    {
      "cell_type": "code",
      "metadata": {
        "colab": {
          "base_uri": "https://localhost:8080/"
        },
        "id": "7H7eg_m8WwXs",
        "outputId": "3248f358-5a45-42fa-d2b1-56241998793c"
      },
      "source": [
        "print(a[3])"
      ],
      "execution_count": 163,
      "outputs": [
        {
          "output_type": "stream",
          "text": [
            "4\n"
          ],
          "name": "stdout"
        }
      ]
    },
    {
      "cell_type": "code",
      "metadata": {
        "colab": {
          "base_uri": "https://localhost:8080/"
        },
        "id": "sNmo00dMWxZx",
        "outputId": "d588be35-b609-44ef-8de8-3e33e3ce5b79"
      },
      "source": [
        "print(a[-1]) # 마지막 원소"
      ],
      "execution_count": 165,
      "outputs": [
        {
          "output_type": "stream",
          "text": [
            "7\n"
          ],
          "name": "stdout"
        }
      ]
    },
    {
      "cell_type": "code",
      "metadata": {
        "colab": {
          "base_uri": "https://localhost:8080/"
        },
        "id": "zTPuEPEqWzQJ",
        "outputId": "1e19c469-2fe3-459c-e8e6-cff2faf4c0d1"
      },
      "source": [
        "print(a[2: 5]) # 인덱스 값 5를 가지는 원소 전까지"
      ],
      "execution_count": 166,
      "outputs": [
        {
          "output_type": "stream",
          "text": [
            "[3 4 5]\n"
          ],
          "name": "stdout"
        }
      ]
    },
    {
      "cell_type": "code",
      "metadata": {
        "colab": {
          "base_uri": "https://localhost:8080/"
        },
        "id": "32DENhYOW6b_",
        "outputId": "2195d93c-8503-42fa-e13b-a3aa29e0e0c3"
      },
      "source": [
        "print(a[2: ])"
      ],
      "execution_count": 167,
      "outputs": [
        {
          "output_type": "stream",
          "text": [
            "[3 4 5 6 7]\n"
          ],
          "name": "stdout"
        }
      ]
    },
    {
      "cell_type": "code",
      "metadata": {
        "colab": {
          "base_uri": "https://localhost:8080/"
        },
        "id": "MatKuaesW85B",
        "outputId": "d6562807-2e62-48da-d8f8-e22900dabfba"
      },
      "source": [
        "print(a[: 4])"
      ],
      "execution_count": 168,
      "outputs": [
        {
          "output_type": "stream",
          "text": [
            "[1 2 3 4]\n"
          ],
          "name": "stdout"
        }
      ]
    },
    {
      "cell_type": "markdown",
      "metadata": {
        "id": "dgRTDwiRXCTA"
      },
      "source": [
        "다차원 배열의 경우 넘파이는 유용한 인덱싱과 슬라이싱 기능을 제공한다. \n",
        "\n",
        "이 경우 인덱싱은 축(axis)을 기준으로 한다."
      ]
    },
    {
      "cell_type": "code",
      "metadata": {
        "id": "3LKUXnzgW_qf"
      },
      "source": [
        "a = np.array([[1,2,3],\n",
        "              [4,5,6],\n",
        "              [7,8,9]])\n"
      ],
      "execution_count": 169,
      "outputs": []
    },
    {
      "cell_type": "code",
      "metadata": {
        "colab": {
          "base_uri": "https://localhost:8080/"
        },
        "id": "58WomTTuXP3o",
        "outputId": "9c68d8bb-d869-418a-e4db-b4bcc2c0fdde"
      },
      "source": [
        "print(a[1,2])"
      ],
      "execution_count": 170,
      "outputs": [
        {
          "output_type": "stream",
          "text": [
            "6\n"
          ],
          "name": "stdout"
        }
      ]
    },
    {
      "cell_type": "code",
      "metadata": {
        "colab": {
          "base_uri": "https://localhost:8080/"
        },
        "id": "aGr8b6lWXSR3",
        "outputId": "a8aa2ad1-5818-406f-b046-bf32c93659bf"
      },
      "source": [
        "print(a[: ,1]) #1열의 모든 원소"
      ],
      "execution_count": 171,
      "outputs": [
        {
          "output_type": "stream",
          "text": [
            "[2 5 8]\n"
          ],
          "name": "stdout"
        }
      ]
    },
    {
      "cell_type": "code",
      "metadata": {
        "colab": {
          "base_uri": "https://localhost:8080/"
        },
        "id": "DMuW-6N9Xb1b",
        "outputId": "56a4578c-800a-4c47-afff-73c1aea916a3"
      },
      "source": [
        "print(a[-1]) #마지막 행"
      ],
      "execution_count": 172,
      "outputs": [
        {
          "output_type": "stream",
          "text": [
            "[7 8 9]\n"
          ],
          "name": "stdout"
        }
      ]
    },
    {
      "cell_type": "markdown",
      "metadata": {
        "id": "ylxSKwX9XnS9"
      },
      "source": [
        "**넘파이를 이용한 배열 형태 변환**\n",
        "\n",
        "배열을 사용하다 보면 배열의 형태를 바꿔야 할 때가 자주 있다.\n",
        "\n",
        "이때 넘파이는 배열의 형태를 쉽게 바꿀 수 있는 여러 함수를 제공한다.\n",
        "\n",
        "- ndarray.ravel()\n",
        "  배열을 1차원 배열로 만든다.\n",
        "- ndarray.reshape()\n",
        "  배열의 형태를 바꾼다.\n",
        "- ndarray.T\n",
        "  트랜스포즈된 배열을 만든다. 행렬의 트랜스포즈와 같다."
      ]
    },
    {
      "cell_type": "code",
      "metadata": {
        "id": "sp568PydXkcY"
      },
      "source": [
        "a = np.array([[1,2,3,4],\n",
        "              [5,6,7,8],\n",
        "              [9,10,11,12]])"
      ],
      "execution_count": 173,
      "outputs": []
    },
    {
      "cell_type": "code",
      "metadata": {
        "colab": {
          "base_uri": "https://localhost:8080/"
        },
        "id": "meix9k-uYLGk",
        "outputId": "c6a7a3ef-390b-4ae3-a709-e5c5c979ce59"
      },
      "source": [
        "print(a.ravel())# 1차원 배열(벡터)로 만들어 준다."
      ],
      "execution_count": 174,
      "outputs": [
        {
          "output_type": "stream",
          "text": [
            "[ 1  2  3  4  5  6  7  8  9 10 11 12]\n"
          ],
          "name": "stdout"
        }
      ]
    },
    {
      "cell_type": "code",
      "metadata": {
        "colab": {
          "base_uri": "https://localhost:8080/"
        },
        "id": "dqbzkiBKYPb9",
        "outputId": "5b95a36f-8379-4c20-ff9e-1f1b049f99e6"
      },
      "source": [
        "print(a.reshape(2,6))"
      ],
      "execution_count": 175,
      "outputs": [
        {
          "output_type": "stream",
          "text": [
            "[[ 1  2  3  4  5  6]\n",
            " [ 7  8  9 10 11 12]]\n"
          ],
          "name": "stdout"
        }
      ]
    },
    {
      "cell_type": "code",
      "metadata": {
        "colab": {
          "base_uri": "https://localhost:8080/"
        },
        "id": "NeEKS30mYR7D",
        "outputId": "68b22159-adfe-42f2-b01c-cab45efa0ee8"
      },
      "source": [
        "print(a.T)"
      ],
      "execution_count": 176,
      "outputs": [
        {
          "output_type": "stream",
          "text": [
            "[[ 1  5  9]\n",
            " [ 2  6 10]\n",
            " [ 3  7 11]\n",
            " [ 4  8 12]]\n"
          ],
          "name": "stdout"
        }
      ]
    },
    {
      "cell_type": "code",
      "metadata": {
        "colab": {
          "base_uri": "https://localhost:8080/"
        },
        "id": "76ArnI9XYUFe",
        "outputId": "f5a3f350-2e3a-4a4f-9416-7c77f7fcb950"
      },
      "source": [
        "#reshape의 경우 특정한 행, 열만 지정해도 나머지는 자동으로 맞출 수 있다.\n",
        "print(a.reshape(3,-1))# 3행만 지정하고 열에 -1 을 넣으면 자동으로 배열을 reshape"
      ],
      "execution_count": 177,
      "outputs": [
        {
          "output_type": "stream",
          "text": [
            "[[ 1  2  3  4]\n",
            " [ 5  6  7  8]\n",
            " [ 9 10 11 12]]\n"
          ],
          "name": "stdout"
        }
      ]
    },
    {
      "cell_type": "markdown",
      "metadata": {
        "id": "TmQykECjYhf3"
      },
      "source": [
        "**넘파이 브로드캐스팅**\n",
        "\n",
        "배열의 경우 두 배열의 형태가 같야만 사용할 수 있는 연산이 많다.\n",
        "\n",
        "넘파이는 브로드캐스팅 이라는 기능을 통해 다른 형태의 배열 끼리도 연산이 가능\n"
      ]
    },
    {
      "cell_type": "code",
      "metadata": {
        "colab": {
          "base_uri": "https://localhost:8080/"
        },
        "id": "UI1P-vYWYexJ",
        "outputId": "f758949f-ef37-4b31-a6e3-cf6e012d6000"
      },
      "source": [
        "a = np.array([[1,2,3], [4,5,6,], [7,8,9]])\n",
        "b = np.array([1,0,1])\n",
        "y = np.empty_like(a) # 배열 a와 크기가 같은 원소가 비어있는 배열 생성\n",
        "\n",
        "# 배열 b를 a의 각 행에 더해주기 위해 반복문을 사용한다.\n",
        "for i in range(3):\n",
        "  y[i, :]= a[i, :]+b\n",
        "  \n",
        "print(y)"
      ],
      "execution_count": 178,
      "outputs": [
        {
          "output_type": "stream",
          "text": [
            "[[ 2  2  4]\n",
            " [ 5  5  7]\n",
            " [ 8  8 10]]\n"
          ],
          "name": "stdout"
        }
      ]
    },
    {
      "cell_type": "markdown",
      "metadata": {
        "id": "bm8SEm5NZZKq"
      },
      "source": [
        "위와 같은 방식으로 더할수 있지만 배열이 커질수록 반복문은 매우 느려질 수 있다.\n",
        "\n",
        "브로드캐스팅을 사용하면 반복문 없이 매우 간단하게 계산할 수 있다."
      ]
    },
    {
      "cell_type": "code",
      "metadata": {
        "colab": {
          "base_uri": "https://localhost:8080/"
        },
        "id": "HT4hYgnGZWmk",
        "outputId": "946aff96-1486-4689-e36f-1b22268a5ffd"
      },
      "source": [
        "a = np.array([[1,2,3], [4,5,6], [7,8,9]])\n",
        "b = np.array([1,0,1])\n",
        "\n",
        "c = a+b # c를 따로 선언할 필요 없이 만들수 있다.\n",
        "print(c)"
      ],
      "execution_count": 179,
      "outputs": [
        {
          "output_type": "stream",
          "text": [
            "[[ 2  2  4]\n",
            " [ 5  5  7]\n",
            " [ 8  8 10]]\n"
          ],
          "name": "stdout"
        }
      ]
    },
    {
      "cell_type": "markdown",
      "metadata": {
        "id": "TG32KkYKZ0q5"
      },
      "source": [
        "**판다스**\n",
        "\n",
        "데이터 과학을 위해 꼭 필요한 파이썬 라이브러리 중 하나\n"
      ]
    },
    {
      "cell_type": "markdown",
      "metadata": {
        "id": "SiEp0NVwZ7SU"
      },
      "source": [
        "**판다스 데이터 구조**\n",
        "\n",
        "- 시리즈(Series)\n",
        "- 데이터프레임(DataFrame)\n",
        "- 패널(Panel)\n",
        "\n",
        "세가지 데이터 구조를 구분하는 가장 명확한 기준은 차원이다.\n",
        "\n",
        "각 1차원, 2차원, 3차원이다."
      ]
    },
    {
      "cell_type": "markdown",
      "metadata": {
        "id": "6YcTak0EaK41"
      },
      "source": [
        "**Series**\n",
        "\n",
        "1차원 배열의 형태를 가진 구조"
      ]
    },
    {
      "cell_type": "markdown",
      "metadata": {
        "id": "EHYHzov1aUf9"
      },
      "source": [
        "**DataFrame**\n",
        "\n",
        "2차원의 데이터 구조\n",
        "\n",
        "각 열은 각각 시리즈 형태"
      ]
    },
    {
      "cell_type": "markdown",
      "metadata": {
        "id": "7bf6Do2baZxJ"
      },
      "source": [
        "**Panel**\n",
        "\n",
        "3차원 데이터\n",
        "\n",
        "패널 자료형도 데이터프레임처럼 원소마다 다를 수 있다.\n",
        "\n",
        "주로 패널은 데이터프레임의 모음이다."
      ]
    },
    {
      "cell_type": "code",
      "metadata": {
        "id": "TJKNkzs7ZuUW"
      },
      "source": [
        "#라이브러리 호출\n",
        "import pandas as pd\n",
        "import numpy as np"
      ],
      "execution_count": 180,
      "outputs": []
    },
    {
      "cell_type": "markdown",
      "metadata": {
        "id": "LHrmVYhTarHX"
      },
      "source": [
        "**시리즈 생성**\n",
        "\n",
        "    pandas.Series(data, index, dtype, copy)\n",
        "  \n",
        "data 를 제외한 값들은 생략 가능\n",
        "\n",
        "시리즈 데이터는 리스트를 직접 넣어서 만들수 있고\n",
        "\n",
        "넘파이 배열을 이용해서 생성할 수도 있다."
      ]
    },
    {
      "cell_type": "code",
      "metadata": {
        "colab": {
          "base_uri": "https://localhost:8080/"
        },
        "id": "3ZtIDIananVj",
        "outputId": "3af65cd2-f2bb-4ba2-9642-f556d4bf6c7d"
      },
      "source": [
        "a = pd.Series([1,3,5,7,10]) #리스트를 이용한 시리즈 데이터 생성\n",
        "print(a)"
      ],
      "execution_count": 181,
      "outputs": [
        {
          "output_type": "stream",
          "text": [
            "0     1\n",
            "1     3\n",
            "2     5\n",
            "3     7\n",
            "4    10\n",
            "dtype: int64\n"
          ],
          "name": "stdout"
        }
      ]
    },
    {
      "cell_type": "code",
      "metadata": {
        "colab": {
          "base_uri": "https://localhost:8080/"
        },
        "id": "X4L21NolbAIQ",
        "outputId": "aa9df8ad-29de-4183-a98c-8d010073b053"
      },
      "source": [
        "data = np.array(['a','b','c','d']) # 넘파이 배열 생성\n",
        "b = pd.Series(data)# 넘파이 배열을 이용한 시리즈 데이터 생성\n",
        "print(b)"
      ],
      "execution_count": 183,
      "outputs": [
        {
          "output_type": "stream",
          "text": [
            "0    a\n",
            "1    b\n",
            "2    c\n",
            "3    d\n",
            "dtype: object\n"
          ],
          "name": "stdout"
        }
      ]
    },
    {
      "cell_type": "code",
      "metadata": {
        "colab": {
          "base_uri": "https://localhost:8080/"
        },
        "id": "aOhLNBtgbK1Q",
        "outputId": "98e2701b-2c96-4f31-8b91-664409b04436"
      },
      "source": [
        "c = pd.Series(np.arange(10,30,5)) # 넘파이 arnage 함수로 생성한 배열로 시리즈 생성\n",
        "print(c)"
      ],
      "execution_count": 184,
      "outputs": [
        {
          "output_type": "stream",
          "text": [
            "0    10\n",
            "1    15\n",
            "2    20\n",
            "3    25\n",
            "dtype: int64\n"
          ],
          "name": "stdout"
        }
      ]
    },
    {
      "cell_type": "markdown",
      "metadata": {
        "id": "HexURsVCbYbu"
      },
      "source": [
        "시리즈 데이터는 기본적으로 순서대로 index가 존재하는데 이 값을 원하는 값으로 바꿔줄 수 있다.\n",
        "\n",
        "파이썬의 딕셔너리를 활용해 시리즈를 생성하면 이 index값은 딕셔너리의 키 값으로 지정된다."
      ]
    },
    {
      "cell_type": "code",
      "metadata": {
        "colab": {
          "base_uri": "https://localhost:8080/"
        },
        "id": "ilaLgtiwbVx0",
        "outputId": "30ad7b12-54de-4141-fefc-25eefddae448"
      },
      "source": [
        "a = pd.Series(['a','b','c'], index=[10,20,30]) # 인덱스를 직접 지정한다.\n",
        "print(a)"
      ],
      "execution_count": 185,
      "outputs": [
        {
          "output_type": "stream",
          "text": [
            "10    a\n",
            "20    b\n",
            "30    c\n",
            "dtype: object\n"
          ],
          "name": "stdout"
        }
      ]
    },
    {
      "cell_type": "code",
      "metadata": {
        "colab": {
          "base_uri": "https://localhost:8080/"
        },
        "id": "7hVobtRrbpRQ",
        "outputId": "8b4ef8db-89c2-426d-ecf6-4c4138577c97"
      },
      "source": [
        "dict = {'a':10, 'b':20, 'c':30} # 파이썬 딕셔너리를 활용한 시리즈 생성\n",
        "d = pd.Series(dict)# 인덱스가 a,b,c 로 된 것을 확인할 수 있다.\n",
        "print(d)"
      ],
      "execution_count": 186,
      "outputs": [
        {
          "output_type": "stream",
          "text": [
            "a    10\n",
            "b    20\n",
            "c    30\n",
            "dtype: int64\n"
          ],
          "name": "stdout"
        }
      ]
    },
    {
      "cell_type": "markdown",
      "metadata": {
        "id": "pjv3fuVCb4r3"
      },
      "source": [
        "**데이터프레임 생성**\n",
        "\n",
        "    pandas.DataFrame(data, index, columns, dtype, copy)\n",
        "\n",
        "시리즈와 마찬가지로 data를 제외한 나머지 값은 생략 가능\n",
        "\n",
        "시리즈에 없던 columns, 이 값을 이용하면 각 열의 라벨을 지정할수 있다."
      ]
    },
    {
      "cell_type": "code",
      "metadata": {
        "colab": {
          "base_uri": "https://localhost:8080/"
        },
        "id": "QRB98OKlb3Xo",
        "outputId": "c965238a-bf17-4f61-c301-26f1c79d3392"
      },
      "source": [
        "a = pd.DataFrame([1,3,5,7,9]) #리스트를 이용한 생성\n",
        "print(a)"
      ],
      "execution_count": 187,
      "outputs": [
        {
          "output_type": "stream",
          "text": [
            "   0\n",
            "0  1\n",
            "1  3\n",
            "2  5\n",
            "3  7\n",
            "4  9\n"
          ],
          "name": "stdout"
        }
      ]
    },
    {
      "cell_type": "code",
      "metadata": {
        "colab": {
          "base_uri": "https://localhost:8080/"
        },
        "id": "gu4iSAfGcRd3",
        "outputId": "39bb02fa-8c7f-4116-be37-b3fec3e2434e"
      },
      "source": [
        "dict = { 'Name': ['Cho', 'Kim', 'Lee'], 'Age':[28,31,38]}\n",
        "b = pd.DataFrame(dict) # 딕셔너리를 이용한 생성\n",
        "print(b)"
      ],
      "execution_count": 188,
      "outputs": [
        {
          "output_type": "stream",
          "text": [
            "  Name  Age\n",
            "0  Cho   28\n",
            "1  Kim   31\n",
            "2  Lee   38\n"
          ],
          "name": "stdout"
        }
      ]
    },
    {
      "cell_type": "code",
      "metadata": {
        "colab": {
          "base_uri": "https://localhost:8080/"
        },
        "id": "-rfVBPV5cofo",
        "outputId": "fbb8934d-1917-4882-ba38-d024fc023ce8"
      },
      "source": [
        "c = pd.DataFrame([['apple',7000],['banana',5000],['orange',4000]]) # 리스트의 중첩에 의한 생성\n",
        "print(c)"
      ],
      "execution_count": 189,
      "outputs": [
        {
          "output_type": "stream",
          "text": [
            "        0     1\n",
            "0   apple  7000\n",
            "1  banana  5000\n",
            "2  orange  4000\n"
          ],
          "name": "stdout"
        }
      ]
    },
    {
      "cell_type": "code",
      "metadata": {
        "colab": {
          "base_uri": "https://localhost:8080/"
        },
        "id": "AomjQWC8c3XJ",
        "outputId": "81ef9e6d-cc35-4b30-da00-b293ef7732ae"
      },
      "source": [
        "#칼럼 인자값으로 칼럼명 지정\n",
        "a = pd.DataFrame([['apple',7000],['banana',5000],['orange',4000]], columns=['name','price']) \n",
        "print(a)"
      ],
      "execution_count": 190,
      "outputs": [
        {
          "output_type": "stream",
          "text": [
            "     name  price\n",
            "0   apple   7000\n",
            "1  banana   5000\n",
            "2  orange   4000\n"
          ],
          "name": "stdout"
        }
      ]
    },
    {
      "cell_type": "markdown",
      "metadata": {
        "id": "RjTcFXJOdZVh"
      },
      "source": [
        "**판다스 데이터 불러오기 및 쓰기**\n",
        "\n",
        "    pandas.read_csv('file_path')\n",
        "\n"
      ]
    },
    {
      "cell_type": "markdown",
      "metadata": {
        "id": "eQVsSX2Fdmkz"
      },
      "source": [
        "    df = pd.read_csv('./datafile.csv')\n",
        "\n",
        "이런식"
      ]
    },
    {
      "cell_type": "markdown",
      "metadata": {
        "id": "Pp73stbteMlW"
      },
      "source": [
        "###Matplotlib.pyplot\n",
        "\n",
        "시각화를 위해 사용"
      ]
    },
    {
      "cell_type": "code",
      "metadata": {
        "id": "24cz3kdPdX9e"
      },
      "source": [
        "import matplotlib.pyplot as plt\n",
        "import numpy as np"
      ],
      "execution_count": 191,
      "outputs": []
    },
    {
      "cell_type": "code",
      "metadata": {
        "id": "6Ra6V_xdfBgu"
      },
      "source": [
        "%matplotlib inline\n",
        "#주피터 노트북 내부에서 그림을 표시"
      ],
      "execution_count": 194,
      "outputs": []
    },
    {
      "cell_type": "code",
      "metadata": {
        "colab": {
          "base_uri": "https://localhost:8080/",
          "height": 282
        },
        "id": "_xRN2B8sfHIr",
        "outputId": "7c1068a5-8c26-4fa5-a035-c7fd4d5dd491"
      },
      "source": [
        "#기본적인 그래프\n",
        "\n",
        "x = [1,3,5,7,9]\n",
        "y = [100,200,300,400,500]\n",
        "plt.plot(x,y)"
      ],
      "execution_count": 195,
      "outputs": [
        {
          "output_type": "execute_result",
          "data": {
            "text/plain": [
              "[<matplotlib.lines.Line2D at 0x7f6833e0f990>]"
            ]
          },
          "metadata": {
            "tags": []
          },
          "execution_count": 195
        },
        {
          "output_type": "display_data",
          "data": {
            "image/png": "[encoded data removed]",
            "text/plain": [
              "<Figure size 432x288 with 1 Axes>"
            ]
          },
          "metadata": {
            "tags": [],
            "needs_background": "light"
          }
        }
      ]
    },
    {
      "cell_type": "code",
      "metadata": {
        "colab": {
          "base_uri": "https://localhost:8080/",
          "height": 282
        },
        "id": "vIdF1ux-fYHg",
        "outputId": "d3ef58ef-acfa-4d86-90d6-7f1ef19f37f0"
      },
      "source": [
        "#코사인 함수 그리기\n",
        "x = np.linspace(-np.pi, np.pi, 128) # 연속적인 값을 갖는 배열\n",
        "y = np.cos(x) # x 리스트에 대한 cos값 계산\n",
        "plt.plot(y)"
      ],
      "execution_count": 197,
      "outputs": [
        {
          "output_type": "execute_result",
          "data": {
            "text/plain": [
              "[<matplotlib.lines.Line2D at 0x7f6833d3f510>]"
            ]
          },
          "metadata": {
            "tags": []
          },
          "execution_count": 197
        },
        {
          "output_type": "display_data",
          "data": {
            "image/png": "[encoded data removed]",
            "text/plain": [
              "<Figure size 432x288 with 1 Axes>"
            ]
          },
          "metadata": {
            "tags": [],
            "needs_background": "light"
          }
        }
      ]
    },
    {
      "cell_type": "markdown",
      "metadata": {
        "id": "CYi4kzpifvkK"
      },
      "source": [
        "**re**\n",
        "\n",
        "re는 파이썬 정규표현식(Regular Expression) 라이브러리다.\n",
        "\n",
        "re를 사용해 문자열을 쉽게 다룰 수 있다.\n",
        "\n",
        "전처리 과정에서 많이 사용하며, 특정 문자열을 제거하거나 검색 혹은 치환 등에 주로 사용.\n",
        "\n",
        "**파이썬 정규 표현식**\n",
        "\n",
        "    . : 줄바꿈을 제외한 모든 문자\n",
        "    ^ : 문자열의 시작\n",
        "    $ : 문자열의 끝\n",
        "    * : 앞에 있는 문자가 0회 이상 반복된 문자열\n",
        "    + : 앞에 있는 문자가 1회 이상 반복된 문자열\n",
        "    {m} : 앞 문자를 m회 반복하는 문자열\n",
        "    {m,n} : 앞 문자를 m~n회 반벅하는 문자열\n",
        "    ? : 앞 문자가 나오거나 나오지 않는 문자열({0,1}과 동일)\n",
        "    \\d : 숫자\n",
        "    \\D : 숫자가 아닌 문자\n",
        "    \\w : 문자 혹은 숫자\n",
        "    \\W : 문자 혹은 숫자가 아닌 것\n",
        "    (...) : 괄호 안의 모든 정규 표현식을 만족하는 문자\n",
        "    [abc] : a, b, c중 한 개의 문자와 일치"
      ]
    },
    {
      "cell_type": "markdown",
      "metadata": {
        "id": "ErRc6vx0hDw_"
      },
      "source": [
        "**re함수**\n",
        "\n"
      ]
    },
    {
      "cell_type": "code",
      "metadata": {
        "id": "WA92QW3XfnMt"
      },
      "source": [
        "import re"
      ],
      "execution_count": 199,
      "outputs": []
    },
    {
      "cell_type": "markdown",
      "metadata": {
        "id": "R8syZwWFhL-I"
      },
      "source": [
        "- re.compile(pattern)\n",
        "\n",
        "  compile 함수는 특정 기호를 정규 표현식 객체로 만들어준다. re 라이브러리를 사용하려면 정규 표현식 패턴을 매번 작성해야 하는데, 이 함수를 사용해 패턴을 컴파일 하면 필요할 때마다 사용할 수 있다.\n",
        "\n"
      ]
    },
    {
      "cell_type": "code",
      "metadata": {
        "colab": {
          "base_uri": "https://localhost:8080/"
        },
        "id": "1cLjoedqhGw6",
        "outputId": "371f68ad-590b-4b83-f049-c7c54f1b84f3"
      },
      "source": [
        "pattern = ' \\W+'\n",
        "re_pattern = re.compile(pattern)\n",
        "re_pattern"
      ],
      "execution_count": 201,
      "outputs": [
        {
          "output_type": "execute_result",
          "data": {
            "text/plain": [
              "re.compile(r' \\W+', re.UNICODE)"
            ]
          },
          "metadata": {
            "tags": []
          },
          "execution_count": 201
        }
      ]
    },
    {
      "cell_type": "markdown",
      "metadata": {
        "id": "K11RjHYZiI3g"
      },
      "source": [
        "- re.search(pattern, string)\n",
        "\n",
        "  search 함수는 해당 문자열에서 정규 표현식에 해당하는 첫 부분을 찾는다."
      ]
    },
    {
      "cell_type": "code",
      "metadata": {
        "colab": {
          "base_uri": "https://localhost:8080/"
        },
        "id": "CLAN-O1FiBnM",
        "outputId": "d4886e99-2a73-43a2-9d92-428115e813aa"
      },
      "source": [
        " re.search(\"(\\w+)\", \"wow, it is awesome\")\n",
        " #탭, 줄바꿈, 공백이 아닌 문자를 모두 찾는 과정, wow 이후로 띄어쓰기가 나와서 그 전까지의 문자인 wow가 결과값으로 나옴"
      ],
      "execution_count": 203,
      "outputs": [
        {
          "output_type": "execute_result",
          "data": {
            "text/plain": [
              "<re.Match object; span=(0, 3), match='wow'>"
            ]
          },
          "metadata": {
            "tags": []
          },
          "execution_count": 203
        }
      ]
    },
    {
      "cell_type": "markdown",
      "metadata": {
        "id": "hRNBvZSUidKS"
      },
      "source": [
        "- re.split(pattern, string)\n",
        "\n",
        "  split 함수는 해당 문자열에서 특정 패턴으로 문자열을 나눠서 리스트로 만든다.\n"
      ]
    },
    {
      "cell_type": "code",
      "metadata": {
        "colab": {
          "base_uri": "https://localhost:8080/"
        },
        "id": "MjGIMjtliLn_",
        "outputId": "1adb15cf-7220-43cc-9880-fc14c3f2f452"
      },
      "source": [
        "re.split('\\W', 'wow, it is world of word')"
      ],
      "execution_count": 204,
      "outputs": [
        {
          "output_type": "execute_result",
          "data": {
            "text/plain": [
              "['wow', '', 'it', 'is', 'world', 'of', 'word']"
            ]
          },
          "metadata": {
            "tags": []
          },
          "execution_count": 204
        }
      ]
    },
    {
      "cell_type": "markdown",
      "metadata": {
        "id": "rbNzpmP-ip7_"
      },
      "source": [
        "- re.sub(pattern, repl, string)\n",
        "\n",
        "  sub 함수는 문자열(string) 에서 특정 패턴(pattern)을 만족시키는 문자를 사용자가 정의한 문자(repl)로 치환한다."
      ]
    },
    {
      "cell_type": "code",
      "metadata": {
        "colab": {
          "base_uri": "https://localhost:8080/",
          "height": 35
        },
        "id": "ZeK7kyfTinil",
        "outputId": "9ac6ff66-d897-4271-a5f0-e41f41157d09"
      },
      "source": [
        "re.sub(\"\\d\", \"number\", \"7 candy\")"
      ],
      "execution_count": 205,
      "outputs": [
        {
          "output_type": "execute_result",
          "data": {
            "application/vnd.google.colaboratory.intrinsic+json": {
              "type": "string"
            },
            "text/plain": [
              "'number candy'"
            ]
          },
          "metadata": {
            "tags": []
          },
          "execution_count": 205
        }
      ]
    },
    {
      "cell_type": "code",
      "metadata": {
        "id": "qBS7gr3PjA66"
      },
      "source": [
        ""
      ],
      "execution_count": null,
      "outputs": []
    }
  ]
}