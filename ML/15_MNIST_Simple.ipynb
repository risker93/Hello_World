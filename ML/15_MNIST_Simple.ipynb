{
  "nbformat": 4,
  "nbformat_minor": 0,
  "metadata": {
    "kernelspec": {
      "display_name": "Python 3",
      "language": "python",
      "name": "python3"
    },
    "language_info": {
      "codemirror_mode": {
        "name": "ipython",
        "version": 3
      },
      "file_extension": ".py",
      "mimetype": "text/x-python",
      "name": "python",
      "nbconvert_exporter": "python",
      "pygments_lexer": "ipython3",
      "version": "3.6.9"
    },
    "colab": {
      "name": "15_MNIST_Simple.ipynb",
      "provenance": [],
      "collapsed_sections": [],
      "include_colab_link": true
    }
  },
  "cells": [
    {
      "cell_type": "markdown",
      "metadata": {
        "id": "view-in-github",
        "colab_type": "text"
      },
      "source": [
        "<a href=\"https://colab.research.google.com/github/risker93/Hello_World/blob/main/15_MNIST_Simple.ipynb\" target=\"_parent\"><img src=\"https://colab.research.google.com/assets/colab-badge.svg\" alt=\"Open In Colab\"/></a>"
      ]
    },
    {
      "cell_type": "code",
      "metadata": {
        "id": "cMx8HxIA9L44"
      },
      "source": [
        "#-*- coding: utf-8 -*-\n",
        "\n",
        "from keras.datasets import mnist\n",
        "from keras.utils import np_utils #원핫 인코딩을 하기위해서\n",
        "from keras.models import Sequential #레이어를 쌓기위해서\n",
        "from keras.layers import Dense #덴스 레이어를 쌓을거임\n",
        "from keras.callbacks import ModelCheckpoint,EarlyStopping #조기종료\n",
        "\n",
        "\n",
        "import matplotlib.pyplot as plt\n",
        "import numpy\n",
        "import os\n",
        "import tensorflow as tf\n"
      ],
      "execution_count": 1,
      "outputs": []
    },
    {
      "cell_type": "code",
      "metadata": {
        "id": "PsbmAZaF9hCV"
      },
      "source": [
        "\n",
        "# seed 값 설정\n",
        "seed = 0\n",
        "numpy.random.seed(seed)\n",
        "tf.random.set_seed(3)\n"
      ],
      "execution_count": 2,
      "outputs": []
    },
    {
      "cell_type": "code",
      "metadata": {
        "colab": {
          "base_uri": "https://localhost:8080/"
        },
        "id": "ZZKT232592e7",
        "outputId": "1a8026a7-a485-4537-d448-8f0ef897c703"
      },
      "source": [
        "\n",
        "# MNIST 데이터 불러오기\n",
        "(X_train, Y_train), (X_test, Y_test) = mnist.load_data()\n",
        "\n",
        "#정규화\n",
        "X_train = X_train.reshape(X_train.shape[0], 784).astype('float32') / 255\n",
        "X_test = X_test.reshape(X_test.shape[0], 784).astype('float32') / 255\n",
        "\n",
        "#범주화 데이터로 변환(onehot encoding)\n",
        "Y_train = np_utils.to_categorical(Y_train, 10)\n",
        "Y_test = np_utils.to_categorical(Y_test, 10)\n"
      ],
      "execution_count": 3,
      "outputs": [
        {
          "output_type": "stream",
          "text": [
            "Downloading data from https://storage.googleapis.com/tensorflow/tf-keras-datasets/mnist.npz\n",
            "11493376/11490434 [==============================] - 0s 0us/step\n"
          ],
          "name": "stdout"
        }
      ]
    },
    {
      "cell_type": "code",
      "metadata": {
        "id": "gz6-wH3C-FxS"
      },
      "source": [
        "#반드시 기억 하세요!\n",
        "\n",
        "# 모델 프레임 설정\n",
        "#시퀀셜을 이용해서 순차적으로 쌓겠다.\n",
        "model = Sequential()\n",
        "\n",
        "#맨앞에 숫자는 노드의 숫자, 784개가 인풋, 인풋을 받아서 relu로 보내주겠다.\n",
        "#처음에만 인풋을 받기 때문에 명시해줌.\n",
        "model.add(Dense(512, input_dim=784, activation='relu'))\n",
        "\n",
        "#아웃풋은 10개 , 소프트 맥스로\n",
        "model.add(Dense(10, activation='softmax'))\n"
      ],
      "execution_count": 4,
      "outputs": []
    },
    {
      "cell_type": "code",
      "metadata": {
        "id": "P-yhG3Fo_0iB"
      },
      "source": [
        "# 모델 실행 환경 설정\n",
        "#손실함수는 categorical_crossentropy(범주화 분류)를 사용하겠다. \n",
        "#최적화는 아담을 쓰겠다.\n",
        "#측정치는 정확성으로 하겠다.\n",
        "model.compile(loss='categorical_crossentropy',\n",
        "              optimizer='adam',\n",
        "              metrics=['accuracy'])\n"
      ],
      "execution_count": 6,
      "outputs": []
    },
    {
      "cell_type": "code",
      "metadata": {
        "id": "EEGZ1EcbBKHf"
      },
      "source": [
        "\n",
        "# 모델 최적화 설정\n",
        "#모델이라는 폴더를 만들겠다.\n",
        "MODEL_DIR = './model/'\n",
        "if not os.path.exists(MODEL_DIR):\n",
        "    os.mkdir(MODEL_DIR)\n",
        "\n",
        "#패스를 설정해줌.\n",
        "modelpath=\"./model/{epoch:02d}-{val_loss:.4f}.hdf5\"\n",
        "#체크포인트를 사용해서 좋은 모델만 저장\n",
        "checkpointer = ModelCheckpoint(filepath=modelpath, monitor='val_loss', verbose=1, save_best_only=True)\n",
        "#monitor 값으로 보는 값이 patience 설정값 동안 안변하면, 즉 성능이 안좋아지면 그만해라. \n",
        "early_stopping_callback = EarlyStopping(monitor='val_loss', patience=10)\n"
      ],
      "execution_count": 9,
      "outputs": []
    },
    {
      "cell_type": "code",
      "metadata": {
        "colab": {
          "base_uri": "https://localhost:8080/"
        },
        "id": "nqwUAJRtCArB",
        "outputId": "f22169da-796c-4536-dd4c-4c33ecbdf957"
      },
      "source": [
        "# 모델의 실행\n",
        "#validation_data <검증용 데이터\n",
        "#배치 사이즈는 300\n",
        "#얼리스타핑 콜백과 체크포인터를  콜백에 저장 한다.\n",
        "history = model.fit(X_train, Y_train, validation_data=(X_test, Y_test), epochs=30, batch_size=200, verbose=0, callbacks=[early_stopping_callback,checkpointer])\n"
      ],
      "execution_count": 10,
      "outputs": [
        {
          "output_type": "stream",
          "text": [
            "\n",
            "Epoch 00001: val_loss improved from inf to 0.14746, saving model to ./model/01-0.1475.hdf5\n",
            "\n",
            "Epoch 00002: val_loss improved from 0.14746 to 0.10208, saving model to ./model/02-0.1021.hdf5\n",
            "\n",
            "Epoch 00003: val_loss improved from 0.10208 to 0.08898, saving model to ./model/03-0.0890.hdf5\n",
            "\n",
            "Epoch 00004: val_loss improved from 0.08898 to 0.07866, saving model to ./model/04-0.0787.hdf5\n",
            "\n",
            "Epoch 00005: val_loss improved from 0.07866 to 0.07373, saving model to ./model/05-0.0737.hdf5\n",
            "\n",
            "Epoch 00006: val_loss improved from 0.07373 to 0.06731, saving model to ./model/06-0.0673.hdf5\n",
            "\n",
            "Epoch 00007: val_loss improved from 0.06731 to 0.06465, saving model to ./model/07-0.0646.hdf5\n",
            "\n",
            "Epoch 00008: val_loss improved from 0.06465 to 0.06357, saving model to ./model/08-0.0636.hdf5\n",
            "\n",
            "Epoch 00009: val_loss improved from 0.06357 to 0.06278, saving model to ./model/09-0.0628.hdf5\n",
            "\n",
            "Epoch 00010: val_loss improved from 0.06278 to 0.06218, saving model to ./model/10-0.0622.hdf5\n",
            "\n",
            "Epoch 00011: val_loss did not improve from 0.06218\n",
            "\n",
            "Epoch 00012: val_loss did not improve from 0.06218\n",
            "\n",
            "Epoch 00013: val_loss improved from 0.06218 to 0.06017, saving model to ./model/13-0.0602.hdf5\n",
            "\n",
            "Epoch 00014: val_loss did not improve from 0.06017\n",
            "\n",
            "Epoch 00015: val_loss did not improve from 0.06017\n",
            "\n",
            "Epoch 00016: val_loss did not improve from 0.06017\n",
            "\n",
            "Epoch 00017: val_loss did not improve from 0.06017\n",
            "\n",
            "Epoch 00018: val_loss did not improve from 0.06017\n",
            "\n",
            "Epoch 00019: val_loss did not improve from 0.06017\n",
            "\n",
            "Epoch 00020: val_loss did not improve from 0.06017\n",
            "\n",
            "Epoch 00021: val_loss did not improve from 0.06017\n",
            "\n",
            "Epoch 00022: val_loss did not improve from 0.06017\n",
            "\n",
            "Epoch 00023: val_loss did not improve from 0.06017\n"
          ],
          "name": "stdout"
        }
      ]
    },
    {
      "cell_type": "code",
      "metadata": {
        "colab": {
          "base_uri": "https://localhost:8080/"
        },
        "id": "FaBAcwvnDW1m",
        "outputId": "410d86a9-82f6-425e-e270-64a1f0458326"
      },
      "source": [
        "\n",
        "# 테스트 정확도 출력\n",
        "\n",
        "print(\"\\n Test Accuracy: %.4f\" % (model.evaluate(X_test, Y_test)[1]))\n"
      ],
      "execution_count": 11,
      "outputs": [
        {
          "output_type": "stream",
          "text": [
            "313/313 [==============================] - 1s 3ms/step - loss: 0.0665 - accuracy: 0.9826\n",
            "\n",
            " Test Accuracy: 0.9826\n"
          ],
          "name": "stdout"
        }
      ]
    },
    {
      "cell_type": "code",
      "metadata": {
        "id": "EAdSQ1HAEZaF"
      },
      "source": [
        "\n",
        "# 테스트 셋의 오차\n",
        "y_vloss = history.history['val_loss']\n",
        "\n",
        "# 학습셋의 오차\n",
        "y_loss = history.history['loss']\n"
      ],
      "execution_count": 12,
      "outputs": []
    },
    {
      "cell_type": "code",
      "metadata": {
        "colab": {
          "base_uri": "https://localhost:8080/"
        },
        "id": "Ex6qF62gFBnT",
        "outputId": "0950ba1d-ebc5-4faf-e940-a9e5ae0bdeed"
      },
      "source": [
        "print(y_vloss)\n",
        "print()\n",
        "print(y_loss)"
      ],
      "execution_count": 13,
      "outputs": [
        {
          "output_type": "stream",
          "text": [
            "[0.14745669066905975, 0.10208182036876678, 0.0889761745929718, 0.07866081595420837, 0.07372918725013733, 0.06731288135051727, 0.06464916467666626, 0.06357352435588837, 0.06277860701084137, 0.06218043342232704, 0.06481374800205231, 0.07174372673034668, 0.06016618758440018, 0.06573091447353363, 0.06970524787902832, 0.07301905006170273, 0.06643486768007278, 0.06430111825466156, 0.06681877374649048, 0.06503049284219742, 0.06660301983356476, 0.06623560190200806, 0.06654177606105804]\n",
            "\n",
            "[0.3026984930038452, 0.12376447021961212, 0.08126205205917358, 0.06018107756972313, 0.04500582441687584, 0.03471934050321579, 0.026637090370059013, 0.021283822134137154, 0.015626074746251106, 0.01167335920035839, 0.010006249882280827, 0.007714083883911371, 0.0058206175453960896, 0.004436979070305824, 0.004199041053652763, 0.003821162274107337, 0.003698719432577491, 0.001631776336580515, 0.0012123696506023407, 0.001092600403353572, 0.0005849595181643963, 0.0005456501385197043, 0.0004095355689059943]\n"
          ],
          "name": "stdout"
        }
      ]
    },
    {
      "cell_type": "code",
      "metadata": {
        "colab": {
          "base_uri": "https://localhost:8080/",
          "height": 279
        },
        "id": "tzcWdK-PE_0Y",
        "outputId": "fb7b22a7-74e2-4512-cdb4-a2e6af2dda3b"
      },
      "source": [
        "\n",
        "# 그래프로 표현\n",
        "x_len = numpy.arange(len(y_loss))\n",
        "plt.plot(x_len, y_vloss, marker='.', c=\"red\", label='Testset_loss')\n",
        "plt.plot(x_len, y_loss, marker='.', c=\"blue\", label='Trainset_loss')\n",
        "\n",
        "# 그래프에 그리드를 주고 레이블을 표시\n",
        "#legend는 범례\n",
        "plt.legend(loc='upper right')\n",
        "# plt.axis([0, 20, 0, 0.35])\n",
        "plt.grid()\n",
        "plt.xlabel('epoch')\n",
        "plt.ylabel('loss')\n",
        "plt.show()\n"
      ],
      "execution_count": 14,
      "outputs": [
        {
          "output_type": "display_data",
          "data": {
            "image/png": "[encoded data removed]",
            "text/plain": [
              "<Figure size 432x288 with 1 Axes>"
            ]
          },
          "metadata": {
            "tags": [],
            "needs_background": "light"
          }
        }
      ]
    },
    {
      "cell_type": "markdown",
      "metadata": {
        "id": "y-0d5HF6FnnS"
      },
      "source": [
        "학습 셋은 거의 0에 가깝게 나온다.\n",
        "\n",
        "더이상 학습되지 않아서 조기 종료를 했다.\n",
        "\n",
        "다행히도 학습을 더 많이 해도 과적합이 일어나지 않았다. \n",
        "\n",
        "상당히 결과값이 좋게 나온 예제 데이터이다.\n"
      ]
    },
    {
      "cell_type": "code",
      "metadata": {
        "id": "jCUnsIkjGC81"
      },
      "source": [
        ""
      ],
      "execution_count": null,
      "outputs": []
    }
  ]
}
