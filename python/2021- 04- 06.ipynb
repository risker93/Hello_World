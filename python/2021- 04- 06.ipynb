{
 "cells": [
  {
   "cell_type": "code",
   "execution_count": 4,
   "metadata": {},
   "outputs": [
    {
     "name": "stdout",
     "output_type": "stream",
     "text": [
      "정수입력>2\n",
      "원의 반지름: 2\n",
      "원의 둘레: 12.56\n",
      "원의 넓이: 6.28 2\n"
     ]
    }
   ],
   "source": [
    "try:\n",
    "    number_input_a = int(input(\"정수입력>\"))\n",
    "    print(\"원의 반지름:\",number_input_a)\n",
    "    print(\"원의 둘레:\", 2 * 3.14 *number_input_a)\n",
    "    print(\"원의 넓이:\", 3.14 * number_input_a, number_input_a)\n",
    "    \n",
    "except Exception as e:\n",
    "    print(type(e))\n",
    "    print(e)"
   ]
  },
  {
   "cell_type": "code",
   "execution_count": 10,
   "metadata": {},
   "outputs": [
    {
     "name": "stdout",
     "output_type": "stream",
     "text": [
      "정수입렵>yes\n",
      "<class 'ValueError'>\n",
      "invalid literal for int() with base 10: 'yes'\n"
     ]
    }
   ],
   "source": [
    "#여러가지 예외가 발생할 수 있는 코드\n",
    "list_number =[52, 273, 32, 72, 100]\n",
    "\n",
    "try:\n",
    "    number_input = int(input(\"정수입렵>\"))\n",
    "    print(\"{}번째 요소: {}\".format(number_input, list_number[number_input]))\n",
    "except Exception as e:\n",
    "    print(type(e))\n",
    "    print(e)\n"
   ]
  },
  {
   "cell_type": "code",
   "execution_count": 17,
   "metadata": {},
   "outputs": [
    {
     "name": "stdout",
     "output_type": "stream",
     "text": [
      "정수 입력>1\n",
      "1번째 요소: 273\n",
      "미리 파악하지 못한 예외가 발생했습니다.\n",
      "<class 'NameError'> name '예외' is not defined\n"
     ]
    }
   ],
   "source": [
    "#모든예외 잡기\n",
    "\n",
    "list_number = [52, 273, 32, 72, 100]\n",
    "\n",
    "try:\n",
    "    number_input = int(input(\"정수 입력>\"))\n",
    "    print(\"{}번째 요소: {}\".format(number_input, list_number[number_input]))\n",
    "    예외.발생해주세요()\n",
    "\n",
    "except ValueError as e:\n",
    "          print(\"정수를 입력해 주세요!\")\n",
    "          print(type(e),e)\n",
    "            \n",
    "except IndexError as e:\n",
    "          print(\"리스트의 인덱스를 벗어났어요\")\n",
    "          print(type(e),e)\n",
    "            \n",
    "except Exception as e:\n",
    "          print(\"미리 파악하지 못한 예외가 발생했습니다.\")\n",
    "          print(type(e),e)"
   ]
  },
  {
   "cell_type": "code",
   "execution_count": 22,
   "metadata": {},
   "outputs": [
    {
     "data": {
      "text/plain": [
       "3"
      ]
     },
     "execution_count": 22,
     "metadata": {},
     "output_type": "execute_result"
    }
   ],
   "source": [
    "import math\n",
    "math.sin(1)\n",
    "math.cos(1)\n",
    "math.tan(1)\n",
    "math.floor(2.5)\n",
    "math.ceil(2.5)"
   ]
  },
  {
   "cell_type": "code",
   "execution_count": 2,
   "metadata": {},
   "outputs": [
    {
     "name": "stdout",
     "output_type": "stream",
     "text": [
      "도시: 서울\n",
      "날씨: 맑음\n",
      "최저기온: 5\n",
      "최고기온: 16\n",
      "\n",
      "도시: 인천\n",
      "날씨: 맑음\n",
      "최저기온: 6\n",
      "최고기온: 15\n",
      "\n",
      "도시: 수원\n",
      "날씨: 맑음\n",
      "최저기온: 4\n",
      "최고기온: 16\n",
      "\n",
      "도시: 파주\n",
      "날씨: 맑음\n",
      "최저기온: 0\n",
      "최고기온: 16\n",
      "\n",
      "도시: 이천\n",
      "날씨: 맑음\n",
      "최저기온: 2\n",
      "최고기온: 17\n",
      "\n",
      "도시: 평택\n",
      "날씨: 맑음\n",
      "최저기온: 3\n",
      "최고기온: 17\n",
      "\n",
      "도시: 춘천\n",
      "날씨: 맑음\n",
      "최저기온: 2\n",
      "최고기온: 17\n",
      "\n",
      "도시: 원주\n",
      "날씨: 맑음\n",
      "최저기온: 3\n",
      "최고기온: 17\n",
      "\n",
      "도시: 강릉\n",
      "날씨: 맑음\n",
      "최저기온: 5\n",
      "최고기온: 13\n",
      "\n",
      "도시: 대전\n",
      "날씨: 맑음\n",
      "최저기온: 3\n",
      "최고기온: 17\n",
      "\n",
      "도시: 세종\n",
      "날씨: 맑음\n",
      "최저기온: 3\n",
      "최고기온: 17\n",
      "\n",
      "도시: 홍성\n",
      "날씨: 맑음\n",
      "최저기온: 2\n",
      "최고기온: 16\n",
      "\n",
      "도시: 청주\n",
      "날씨: 맑음\n",
      "최저기온: 5\n",
      "최고기온: 17\n",
      "\n",
      "도시: 충주\n",
      "날씨: 맑음\n",
      "최저기온: 2\n",
      "최고기온: 16\n",
      "\n",
      "도시: 영동\n",
      "날씨: 맑음\n",
      "최저기온: 1\n",
      "최고기온: 17\n",
      "\n",
      "도시: 광주\n",
      "날씨: 맑음\n",
      "최저기온: 5\n",
      "최고기온: 18\n",
      "\n",
      "도시: 목포\n",
      "날씨: 맑음\n",
      "최저기온: 7\n",
      "최고기온: 15\n",
      "\n",
      "도시: 여수\n",
      "날씨: 맑음\n",
      "최저기온: 8\n",
      "최고기온: 15\n",
      "\n",
      "도시: 순천\n",
      "날씨: 맑음\n",
      "최저기온: 6\n",
      "최고기온: 17\n",
      "\n",
      "도시: 광양\n",
      "날씨: 맑음\n",
      "최저기온: 6\n",
      "최고기온: 17\n",
      "\n",
      "도시: 나주\n",
      "날씨: 맑음\n",
      "최저기온: 2\n",
      "최고기온: 18\n",
      "\n",
      "도시: 전주\n",
      "날씨: 맑음\n",
      "최저기온: 4\n",
      "최고기온: 17\n",
      "\n",
      "도시: 군산\n",
      "날씨: 맑음\n",
      "최저기온: 3\n",
      "최고기온: 15\n",
      "\n",
      "도시: 정읍\n",
      "날씨: 맑음\n",
      "최저기온: 3\n",
      "최고기온: 17\n",
      "\n",
      "도시: 남원\n",
      "날씨: 맑음\n",
      "최저기온: 2\n",
      "최고기온: 18\n",
      "\n",
      "도시: 고창\n",
      "날씨: 맑음\n",
      "최저기온: 3\n",
      "최고기온: 16\n",
      "\n",
      "도시: 무주\n",
      "날씨: 맑음\n",
      "최저기온: 1\n",
      "최고기온: 16\n",
      "\n",
      "도시: 부산\n",
      "날씨: 맑음\n",
      "최저기온: 8\n",
      "최고기온: 16\n",
      "\n",
      "도시: 울산\n",
      "날씨: 맑음\n",
      "최저기온: 7\n",
      "최고기온: 14\n",
      "\n",
      "도시: 창원\n",
      "날씨: 맑음\n",
      "최저기온: 7\n",
      "최고기온: 17\n",
      "\n",
      "도시: 진주\n",
      "날씨: 맑음\n",
      "최저기온: 4\n",
      "최고기온: 17\n",
      "\n",
      "도시: 거창\n",
      "날씨: 맑음\n",
      "최저기온: 2\n",
      "최고기온: 16\n",
      "\n",
      "도시: 통영\n",
      "날씨: 맑음\n",
      "최저기온: 8\n",
      "최고기온: 17\n",
      "\n",
      "도시: 대구\n",
      "날씨: 맑음\n",
      "최저기온: 4\n",
      "최고기온: 16\n",
      "\n",
      "도시: 안동\n",
      "날씨: 맑음\n",
      "최저기온: 2\n",
      "최고기온: 15\n",
      "\n",
      "도시: 포항\n",
      "날씨: 맑음\n",
      "최저기온: 7\n",
      "최고기온: 13\n",
      "\n",
      "도시: 경주\n",
      "날씨: 맑음\n",
      "최저기온: 4\n",
      "최고기온: 15\n",
      "\n",
      "도시: 울진\n",
      "날씨: 맑음\n",
      "최저기온: 4\n",
      "최고기온: 12\n",
      "\n",
      "도시: 울릉도\n",
      "날씨: 맑음\n",
      "최저기온: 5\n",
      "최고기온: 10\n",
      "\n",
      "도시: 제주\n",
      "날씨: 맑음\n",
      "최저기온: 10\n",
      "최고기온: 16\n",
      "\n",
      "도시: 서귀포\n",
      "날씨: 맑음\n",
      "최저기온: 9\n",
      "최고기온: 18\n",
      "\n"
     ]
    }
   ],
   "source": [
    "from urllib import request\n",
    "from bs4 import BeautifulSoup\n",
    "\n",
    "target = request.urlopen(\"http://www.kma.go.kr/weather/forecast/mid-term-rss3.jsp?stnId=108\")\n",
    "\n",
    "soup = BeautifulSoup(target, \"html.parser\")\n",
    "\n",
    "for location in soup.select(\"location\"):\n",
    "    print(\"도시:\", location.select_one(\"city\").string)\n",
    "    print(\"날씨:\", location.select_one(\"wf\").string)\n",
    "    print(\"최저기온:\", location.select_one(\"tmn\").string)\n",
    "    print(\"최고기온:\", location.select_one(\"tmx\").string)\n",
    "    print()\n"
   ]
  },
  {
   "cell_type": "code",
   "execution_count": 4,
   "metadata": {},
   "outputs": [],
   "source": [
    "from flask import Flask\n",
    "app = Flask(__name__)\n",
    "\n",
    "@app.route(\"/\")\n",
    "def hello():\n",
    "    return \"<h1>Hello World!</h>\""
   ]
  },
  {
   "cell_type": "code",
   "execution_count": 5,
   "metadata": {},
   "outputs": [
    {
     "name": "stdout",
     "output_type": "stream",
     "text": [
      "<h1>Hello World!</h>\n"
     ]
    }
   ],
   "source": [
    "print(hello())"
   ]
  },
  {
   "cell_type": "code",
   "execution_count": null,
   "metadata": {},
   "outputs": [],
   "source": []
  },
  {
   "cell_type": "code",
   "execution_count": null,
   "metadata": {},
   "outputs": [],
   "source": []
  },
  {
   "cell_type": "code",
   "execution_count": null,
   "metadata": {},
   "outputs": [],
   "source": []
  }
 ],
 "metadata": {
  "kernelspec": {
   "display_name": "python3_7_6",
   "language": "python",
   "name": "py3_7_6"
  },
  "language_info": {
   "codemirror_mode": {
    "name": "ipython",
    "version": 3
   },
   "file_extension": ".py",
   "mimetype": "text/x-python",
   "name": "python",
   "nbconvert_exporter": "python",
   "pygments_lexer": "ipython3",
   "version": "3.8.5"
  }
 },
 "nbformat": 4,
 "nbformat_minor": 4
}
