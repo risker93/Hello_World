{
 "cells": [
  {
   "cell_type": "code",
   "execution_count": 2,
   "metadata": {},
   "outputs": [
    {
     "name": "stdout",
     "output_type": "stream",
     "text": [
      "우리는 우리의 생각의 산물 이다.우리는 우리의 생각의 산물 이다.우리는 우리의 생각의 산물 이다.우리는 우리의 생각의 산물 이다.우리는 우리의 생각의 산물 이다.우리는 우리의 생각의 산물 이다.우리는 우리의 생각의 산물 이다.우리는 우리의 생각의 산물 이다.우리는 우리의 생각의 산물 이다.우리는 우리의 생각의 산물 이다.우리는 우리의 생각의 산물 이다.우리는 우리의 생각의 산물 이다.우리는 우리의 생각의 산물 이다.우리는 우리의 생각의 산물 이다.우리는 우리의 생각의 산물 이다.우리는 우리의 생각의 산물 이다.우리는 우리의 생각의 산물 이다.우리는 우리의 생각의 산물 이다.우리는 우리의 생각의 산물 이다.우리는 우리의 생각의 산물 이다.우리는 우리의 생각의 산물 이다.우리는 우리의 생각의 산물 이다.우리는 우리의 생각의 산물 이다.우리는 우리의 생각의 산물 이다.우리는 우리의 생각의 산물 이다.우리는 우리의 생각의 산물 이다.우리는 우리의 생각의 산물 이다.우리는 우리의 생각의 산물 이다.우리는 우리의 생각의 산물 이다.우리는 우리의 생각의 산물 이다.우리는 우리의 생각의 산물 이다.우리는 우리의 생각의 산물 이다.우리는 우리의 생각의 산물 이다.우리는 우리의 생각의 산물 이다.우리는 우리의 생각의 산물 이다.우리는 우리의 생각의 산물 이다.우리는 우리의 생각의 산물 이다.우리는 우리의 생각의 산물 이다.우리는 우리의 생각의 산물 이다.우리는 우리의 생각의 산물 이다.우리는 우리의 생각의 산물 이다.우리는 우리의 생각의 산물 이다.우리는 우리의 생각의 산물 이다.우리는 우리의 생각의 산물 이다.우리는 우리의 생각의 산물 이다.우리는 우리의 생각의 산물 이다.우리는 우리의 생각의 산물 이다.우리는 우리의 생각의 산물 이다.우리는 우리의 생각의 산물 이다.우리는 우리의 생각의 산물 이다.우리는 우리의 생각의 산물 이다.우리는 우리의 생각의 산물 이다.우리는 우리의 생각의 산물 이다.우리는 우리의 생각의 산물 이다.우리는 우리의 생각의 산물 이다.우리는 우리의 생각의 산물 이다.우리는 우리의 생각의 산물 이다.우리는 우리의 생각의 산물 이다.우리는 우리의 생각의 산물 이다.우리는 우리의 생각의 산물 이다.우리는 우리의 생각의 산물 이다.우리는 우리의 생각의 산물 이다.우리는 우리의 생각의 산물 이다.우리는 우리의 생각의 산물 이다.우리는 우리의 생각의 산물 이다.우리는 우리의 생각의 산물 이다.우리는 우리의 생각의 산물 이다.우리는 우리의 생각의 산물 이다.우리는 우리의 생각의 산물 이다.우리는 우리의 생각의 산물 이다.우리는 우리의 생각의 산물 이다.우리는 우리의 생각의 산물 이다.우리는 우리의 생각의 산물 이다.우리는 우리의 생각의 산물 이다.우리는 우리의 생각의 산물 이다.우리는 우리의 생각의 산물 이다.우리는 우리의 생각의 산물 이다.우리는 우리의 생각의 산물 이다.우리는 우리의 생각의 산물 이다.우리는 우리의 생각의 산물 이다.우리는 우리의 생각의 산물 이다.우리는 우리의 생각의 산물 이다.우리는 우리의 생각의 산물 이다.우리는 우리의 생각의 산물 이다.우리는 우리의 생각의 산물 이다.우리는 우리의 생각의 산물 이다.우리는 우리의 생각의 산물 이다.우리는 우리의 생각의 산물 이다.우리는 우리의 생각의 산물 이다.우리는 우리의 생각의 산물 이다.우리는 우리의 생각의 산물 이다.우리는 우리의 생각의 산물 이다.우리는 우리의 생각의 산물 이다.우리는 우리의 생각의 산물 이다.우리는 우리의 생각의 산물 이다.우리는 우리의 생각의 산물 이다.우리는 우리의 생각의 산물 이다.우리는 우리의 생각의 산물 이다.우리는 우리의 생각의 산물 이다.우리는 우리의 생각의 산물 이다.\n"
     ]
    }
   ],
   "source": [
    "print(\"우리는 우리의 생각의 산물 이다.\" *100)"
   ]
  },
  {
   "cell_type": "code",
   "execution_count": 1,
   "metadata": {},
   "outputs": [],
   "source": [
    "import turtle\n",
    "t = turtle.Turtle()\n",
    "t.shape(\"turtle\")"
   ]
  },
  {
   "cell_type": "code",
   "execution_count": 3,
   "metadata": {},
   "outputs": [
    {
     "name": "stdout",
     "output_type": "stream",
     "text": [
      "9*8은 72 입니다.\n"
     ]
    }
   ],
   "source": [
    "print(\"9*8은\",72, \"입니다.\")"
   ]
  },
  {
   "cell_type": "code",
   "execution_count": 5,
   "metadata": {},
   "outputs": [
    {
     "name": "stdout",
     "output_type": "stream",
     "text": [
      "너무 반짝 반짝  눈이 부셔 No No No No No \n"
     ]
    }
   ],
   "source": [
    "print(\"너무\",\"반짝 \"*2, \"눈이 부셔\", \"No \"*5)"
   ]
  },
  {
   "cell_type": "code",
   "execution_count": 6,
   "metadata": {},
   "outputs": [
    {
     "name": "stdout",
     "output_type": "stream",
     "text": [
      "오\n"
     ]
    }
   ],
   "source": [
    "a=input()"
   ]
  },
  {
   "cell_type": "code",
   "execution_count": 8,
   "metadata": {},
   "outputs": [
    {
     "name": "stdout",
     "output_type": "stream",
     "text": [
      "오\n",
      "<class 'str'>\n"
     ]
    }
   ],
   "source": [
    "print(a)\n",
    "\n",
    "print(type(a))"
   ]
  },
  {
   "cell_type": "code",
   "execution_count": 12,
   "metadata": {
    "scrolled": true
   },
   "outputs": [
    {
     "name": "stdout",
     "output_type": "stream",
     "text": [
      "이름을 입력하시오.이원석\n",
      "이원석 대표님 안녕하세요?\n",
      "s&p500 에 들어 오신것을 환영합니다.\n"
     ]
    }
   ],
   "source": [
    "name=input(\"이름을 입력하시오.\")\n",
    "print(name, \"대표님 안녕하세요?\")\n",
    "print(\"s&p500 에 들어 오신것을 환영합니다.\")"
   ]
  },
  {
   "cell_type": "code",
   "execution_count": 16,
   "metadata": {},
   "outputs": [
    {
     "name": "stdout",
     "output_type": "stream",
     "text": [
      "반지름을 입력하시오10\n",
      "반지름이 10인 원의 넓이 : 314.0\n"
     ]
    }
   ],
   "source": [
    "r=int(input(\"반지름을 입력하시오\"))\n",
    "\n",
    "print(\"반지름이 {}인 원의 넓이 :\".format(r), r*r*3.14)"
   ]
  },
  {
   "cell_type": "code",
   "execution_count": 17,
   "metadata": {},
   "outputs": [
    {
     "name": "stdout",
     "output_type": "stream",
     "text": [
      "번개가 들리기까지의 시간 (초)3\n",
      "측정 시간(초) 입력:3\n",
      "자신의 위치에서 번개가 친 장소까지의 거리 =1020m\n"
     ]
    }
   ],
   "source": [
    "#천둥 번개가 발생한 곳은 얼마나 떨어져 있나?\n",
    "sec = int(input(\"번개가 들리기까지의 시간 (초)\"))\n",
    "sound_sec = 340\n",
    "\n",
    "result = sound_sec * sec\n",
    "\n",
    "print(\"측정 시간(초) 입력:{}\".format(sec))\n",
    "print(\"자신의 위치에서 번개가 친 장소까지의 거리 ={}m\".format(result))"
   ]
  },
  {
   "cell_type": "code",
   "execution_count": null,
   "metadata": {},
   "outputs": [],
   "source": []
  },
  {
   "cell_type": "code",
   "execution_count": null,
   "metadata": {},
   "outputs": [],
   "source": []
  },
  {
   "cell_type": "code",
   "execution_count": null,
   "metadata": {},
   "outputs": [],
   "source": []
  }
 ],
 "metadata": {
  "kernelspec": {
   "display_name": "python3_7_6",
   "language": "python",
   "name": "py3_7_6"
  },
  "language_info": {
   "codemirror_mode": {
    "name": "ipython",
    "version": 3
   },
   "file_extension": ".py",
   "mimetype": "text/x-python",
   "name": "python",
   "nbconvert_exporter": "python",
   "pygments_lexer": "ipython3",
   "version": "3.8.5"
  },
  "vp": {
   "base_numbering": 1,
   "nav_menu": {},
   "number_sections": true,
   "sideBar": true,
   "title_cell": "VisualPython",
   "title_sidebar": "VisualPython",
   "vpPosition": {
    "height": "calc(100% - 180px)",
    "right": "10px",
    "top": "110px",
    "width": "50%"
   },
   "vp_cell": false,
   "vp_section_display": true,
   "vp_window_display": false
  }
 },
 "nbformat": 4,
 "nbformat_minor": 4
}
