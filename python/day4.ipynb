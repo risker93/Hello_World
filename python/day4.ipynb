{
 "cells": [
  {
   "cell_type": "code",
   "execution_count": 1,
   "metadata": {},
   "outputs": [
    {
     "name": "stdout",
     "output_type": "stream",
     "text": [
      "<class 'str'>\n"
     ]
    }
   ],
   "source": [
    "print(type(\"안녕하세요.\"))"
   ]
  },
  {
   "cell_type": "code",
   "execution_count": 3,
   "metadata": {},
   "outputs": [
    {
     "name": "stdout",
     "output_type": "stream",
     "text": [
      "\"안녕\"이라고 말하지마\n"
     ]
    }
   ],
   "source": [
    "print('\"안녕\"이라고 말하지마')"
   ]
  },
  {
   "cell_type": "code",
   "execution_count": 6,
   "metadata": {},
   "outputs": [
    {
     "name": "stdout",
     "output_type": "stream",
     "text": [
      "\"안녕하세요\"라고 말했습니다.\n"
     ]
    }
   ],
   "source": [
    "print(\"\\\"안녕하세요\\\"라고 말했습니다.\")"
   ]
  },
  {
   "cell_type": "code",
   "execution_count": 7,
   "metadata": {},
   "outputs": [
    {
     "name": "stdout",
     "output_type": "stream",
     "text": [
      "안녕\n",
      "녕하\n",
      "하세\n"
     ]
    }
   ],
   "source": [
    "print(\"안녕하세요\"[0:2])\n",
    "print(\"안녕하세요\"[1:3])\n",
    "print(\"안녕하세요\"[2:4])"
   ]
  },
  {
   "cell_type": "code",
   "execution_count": 9,
   "metadata": {},
   "outputs": [
    {
     "data": {
      "text/plain": [
       "9"
      ]
     },
     "execution_count": 9,
     "metadata": {},
     "output_type": "execute_result"
    }
   ],
   "source": [
    "len(\"안녕 나는 토트넘\")"
   ]
  },
  {
   "cell_type": "code",
   "execution_count": 10,
   "metadata": {},
   "outputs": [],
   "source": [
    "#shift + m 은 합치는거, ctrl + shift + - 이게 나누는거"
   ]
  },
  {
   "cell_type": "code",
   "execution_count": 11,
   "metadata": {},
   "outputs": [
    {
     "name": "stdout",
     "output_type": "stream",
     "text": [
      "5+7 12\n"
     ]
    }
   ],
   "source": [
    "print(\"5+7\",5+7)"
   ]
  },
  {
   "cell_type": "code",
   "execution_count": 12,
   "metadata": {},
   "outputs": [
    {
     "name": "stdout",
     "output_type": "stream",
     "text": [
      "0.5\n"
     ]
    }
   ],
   "source": [
    "print(2/4)"
   ]
  },
  {
   "cell_type": "code",
   "execution_count": 14,
   "metadata": {},
   "outputs": [
    {
     "name": "stdout",
     "output_type": "stream",
     "text": [
      "1\n"
     ]
    }
   ],
   "source": [
    "print(4//3)"
   ]
  },
  {
   "cell_type": "code",
   "execution_count": 15,
   "metadata": {},
   "outputs": [
    {
     "name": "stdout",
     "output_type": "stream",
     "text": [
      "3.14\n"
     ]
    }
   ],
   "source": [
    "pi = 3.14\n",
    "print(pi)"
   ]
  },
  {
   "cell_type": "code",
   "execution_count": 16,
   "metadata": {},
   "outputs": [
    {
     "data": {
      "text/plain": [
       "6.28"
      ]
     },
     "execution_count": 16,
     "metadata": {},
     "output_type": "execute_result"
    }
   ],
   "source": [
    "pi*2"
   ]
  },
  {
   "cell_type": "code",
   "execution_count": 22,
   "metadata": {},
   "outputs": [
    {
     "name": "stdout",
     "output_type": "stream",
     "text": [
      "원주율= 3.14159265\n",
      "반지름= 10\n",
      "원의둘레= 62.831853\n",
      "원의 넓의= 314.159265\n"
     ]
    }
   ],
   "source": [
    "#원의 둘레와 넓이 구하기\n",
    "#변수 선언과 할당\n",
    "pi = 3.14159265\n",
    "r = 10\n",
    "\n",
    "#변수 참조\n",
    "print(\"원주율=\" , pi)\n",
    "print(\"반지름=\", r)\n",
    "print(\"원의둘레=\", 2*pi*r) #원의 둘레\n",
    "print(\"원의 넓의=\", pi*(r**2))#원의 넓이"
   ]
  },
  {
   "cell_type": "code",
   "execution_count": 23,
   "metadata": {},
   "outputs": [],
   "source": [
    "a =10\n",
    "a += 10\n",
    "\n",
    "#이 의미는 \n",
    "a = a + 10\n",
    "\n",
    "#반복문을 하게 되면 위의 a += 10이 편리하다."
   ]
  },
  {
   "cell_type": "code",
   "execution_count": 24,
   "metadata": {},
   "outputs": [
    {
     "name": "stdout",
     "output_type": "stream",
     "text": [
      "250\n"
     ]
    }
   ],
   "source": [
    "num = 100\n",
    "num+=10\n",
    "num+=20\n",
    "num+=30\n",
    "num+=40\n",
    "num+=50\n",
    "\n",
    "print(num)\n"
   ]
  },
  {
   "cell_type": "code",
   "execution_count": 25,
   "metadata": {},
   "outputs": [
    {
     "name": "stdout",
     "output_type": "stream",
     "text": [
      "인사말을 입력하세요 > 안녕\n"
     ]
    },
    {
     "data": {
      "text/plain": [
       "'안녕'"
      ]
     },
     "execution_count": 25,
     "metadata": {},
     "output_type": "execute_result"
    }
   ],
   "source": [
    "input(\"인사말을 입력하세요 > \")"
   ]
  },
  {
   "cell_type": "code",
   "execution_count": 27,
   "metadata": {},
   "outputs": [
    {
     "name": "stdout",
     "output_type": "stream",
     "text": [
      "숫자를 입력하세요 >1\n"
     ]
    }
   ],
   "source": [
    "num= input(\"숫자를 입력하세요 >\")\n"
   ]
  },
  {
   "cell_type": "code",
   "execution_count": 29,
   "metadata": {},
   "outputs": [
    {
     "name": "stdout",
     "output_type": "stream",
     "text": [
      "입력A> 5\n",
      "입력B> 9\n",
      "문자열 자료 :  59\n",
      "숫자자료 :  14\n"
     ]
    }
   ],
   "source": [
    "string_a = input(\"입력A> \")\n",
    "int_a= int(string_a)\n",
    "\n",
    "string_b = input(\"입력B> \")\n",
    "int_b=int(string_b)\n",
    "\n",
    "print(\"문자열 자료 : \",string_a + string_b)\n",
    "print(\"숫자자료 : \", int_a + int_b)"
   ]
  },
  {
   "cell_type": "code",
   "execution_count": 33,
   "metadata": {},
   "outputs": [
    {
     "name": "stdout",
     "output_type": "stream",
     "text": [
      "52\n",
      "52.3\n",
      "5252.3\n",
      "<class 'str'>\n",
      "<class 'str'>\n"
     ]
    }
   ],
   "source": [
    "a = str(52)\n",
    "b = str(52.30)\n",
    "print(a)\n",
    "print(b)\n",
    "print(a+b)\n",
    "\n",
    "print(type(a))\n",
    "print(type(b))"
   ]
  },
  {
   "cell_type": "code",
   "execution_count": 35,
   "metadata": {},
   "outputs": [
    {
     "name": "stdout",
     "output_type": "stream",
     "text": [
      "10\n",
      "<class 'str'>\n"
     ]
    }
   ],
   "source": [
    "#format()함수로 숫자를 문자열로 변환하기\n",
    "string_a = \"{}\".format(10)\n",
    "\n",
    "#출력하기\n",
    "print(string_a)\n",
    "print(type(string_a))"
   ]
  },
  {
   "cell_type": "code",
   "execution_count": 38,
   "metadata": {},
   "outputs": [
    {
     "name": "stdout",
     "output_type": "stream",
     "text": [
      "5000만원\n",
      "파이썬 열공하여 첫 연봉 5000만 원 만들기.\n",
      "3000 4000 5000\n",
      "1 문자열 True\n"
     ]
    }
   ],
   "source": [
    "#format() 함수로 숫자를 문자열로 변환하기\n",
    "format_a = \"{}만원\".format(5000)\n",
    "format_b = \"파이썬 열공하여 첫 연봉 {}만 원 만들기.\".format(5000)\n",
    "format_c = \"{} {} {}\".format(3000, 4000, 5000)\n",
    "format_d = \"{} {} {}\".format(1, \"문자열\", True)\n",
    "\n",
    "#출력하기\n",
    "print(format_a)\n",
    "print(format_b)\n",
    "print(format_c)\n",
    "print(format_d)"
   ]
  },
  {
   "cell_type": "code",
   "execution_count": 42,
   "metadata": {},
   "outputs": [
    {
     "name": "stdout",
     "output_type": "stream",
     "text": [
      "00052\n",
      "   52\n"
     ]
    }
   ],
   "source": [
    "a = \"{:05d}\".format(52)\n",
    "print(a)\n",
    "a = \"{:5d}\".format(52)\n",
    "print(a)\n",
    "\n",
    "#여기에서 d는 정수 f는 실수"
   ]
  },
  {
   "cell_type": "code",
   "execution_count": 40,
   "metadata": {},
   "outputs": [
    {
     "name": "stdout",
     "output_type": "stream",
     "text": [
      "<class 'str'>\n"
     ]
    }
   ],
   "source": [
    "print(type(a))"
   ]
  },
  {
   "cell_type": "code",
   "execution_count": 44,
   "metadata": {},
   "outputs": [
    {
     "name": "stdout",
     "output_type": "stream",
     "text": [
      "+52\n"
     ]
    }
   ],
   "source": [
    "a= \"{:+d}\".format(52)\n",
    "print(a)"
   ]
  },
  {
   "cell_type": "code",
   "execution_count": 45,
   "metadata": {},
   "outputs": [
    {
     "name": "stdout",
     "output_type": "stream",
     "text": [
      "-52\n",
      " 52\n",
      "-52\n"
     ]
    }
   ],
   "source": [
    "f = \"{:+d}\".format(-52) #음수\n",
    "g = \"{: d}\".format(52) #양수 : 기호 부분 공백\n",
    "h = \"{: d}\".format(-52) #음수: 기호 부분 공백\n",
    "\n",
    "print(f)\n",
    "print(g)\n",
    "print(h)\n",
    "\n",
    "#"
   ]
  },
  {
   "cell_type": "code",
   "execution_count": 52,
   "metadata": {},
   "outputs": [
    {
     "name": "stdout",
     "output_type": "stream",
     "text": [
      "  +52\n",
      "  -52\n",
      "+  52\n",
      "-  52\n",
      "-0052\n"
     ]
    }
   ],
   "source": [
    "h = \"{:+5d}\".format(52) #기호를 뒤로 밀기: 양수\n",
    "print(h)\n",
    "i= \"{:+5d}\".format(-52) #기호를 뒤로 밀기: 음수\n",
    "print(i)\n",
    "j= \"{:=+5d}\".format(52) #기호를 앞으로 밀기: 양수\n",
    "print(j)\n",
    "k= \"{:=+5d}\".format(-52)# 기호를 앞으로 밀기:음수\n",
    "print(k)\n",
    "l= \"{:+05d}\".format(-52) #0으로 채우기:음수\n",
    "print(l)"
   ]
  },
  {
   "cell_type": "code",
   "execution_count": 56,
   "metadata": {},
   "outputs": [
    {
     "name": "stdout",
     "output_type": "stream",
     "text": [
      "52.273000\n",
      "      52.273000\n",
      "     +52.273000\n",
      "+0000052.273000\n"
     ]
    }
   ],
   "source": [
    "#flot 자료형 출력을 강제로 지정할때 {:f}를 사용합니다.\n",
    "\n",
    "a= \"{:f}\".format(52.273)\n",
    "print(a)\n",
    "b= \"{:15f}\".format(52.273) #15칸 만들기\n",
    "print(b)\n",
    "c= \"{:+15f}\".format(52.273) #15칸에 부호 추가하기\n",
    "print(c)\n",
    "d= \"{:+015f}\".format(52.273) #15칸에 부호 추가하고 0으로 채우기\n",
    "print(d)"
   ]
  },
  {
   "cell_type": "code",
   "execution_count": 57,
   "metadata": {},
   "outputs": [
    {
     "name": "stdout",
     "output_type": "stream",
     "text": [
      "         52.273\n",
      "          52.27\n"
     ]
    }
   ],
   "source": [
    "#소수점 아래 자릿수 지정하기\n",
    "a= \"{:15.3f}\".format(52.273)\n",
    "print(a)\n",
    "b= \"{:15.2f}\".format(52.273)\n",
    "print(b)"
   ]
  },
  {
   "cell_type": "code",
   "execution_count": 58,
   "metadata": {},
   "outputs": [
    {
     "name": "stdout",
     "output_type": "stream",
     "text": [
      "52.0\n",
      "52\n"
     ]
    }
   ],
   "source": [
    "#0과, 0.0을 출력했을때 내부적으로 자료형이 다르므로 서로 다른값으로 출력함,\n",
    "#의미없는 0을 제거한 후 출력하고 싶을때 {:g}를 사용합니다.\n",
    "a= 52.0\n",
    "b= \"{:g}\".format(a)\n",
    "print(a)\n",
    "print(b)"
   ]
  },
  {
   "cell_type": "code",
   "execution_count": 61,
   "metadata": {},
   "outputs": [
    {
     "name": "stdout",
     "output_type": "stream",
     "text": [
      "HELLO WORLD\n",
      "hello\n"
     ]
    }
   ],
   "source": [
    "#대소문자 바꾸기 upper(), lower()\n",
    "a=\"hello world\"\n",
    "print(a.upper())\n",
    "b= \"HELLO\"\n",
    "print(b.lower())"
   ]
  },
  {
   "cell_type": "code",
   "execution_count": 63,
   "metadata": {},
   "outputs": [
    {
     "name": "stdout",
     "output_type": "stream",
     "text": [
      "\n",
      "\n",
      "\n",
      "하하하 인간시대의 끝이 도래했다.\n",
      "\n",
      "\n",
      "\n",
      "하하하 인간시대의 끝이 도래했다.\n"
     ]
    }
   ],
   "source": [
    "#strip() 문자열 양옆의 공백 제거\n",
    "a = \"\"\"\n",
    "\n",
    "\n",
    "하하하 인간시대의 끝이 도래했다.\n",
    "\n",
    "\n",
    "\"\"\"\n",
    "\n",
    "print(a)\n",
    "\n",
    "print(a.strip())"
   ]
  },
  {
   "cell_type": "code",
   "execution_count": 65,
   "metadata": {},
   "outputs": [
    {
     "name": "stdout",
     "output_type": "stream",
     "text": [
      "0\n",
      "2\n"
     ]
    }
   ],
   "source": [
    "#문자열의 구성 파악하기: is()\n",
    "#교재 101페이지.\n",
    "#불 형식으로 나옴.\n",
    "\n",
    "a=\"안녕안녕하세요\".find(\"안녕\")\n",
    "print(a)\n",
    "\n",
    "#find는 왼쪽부터 찾아서 처음 등장하는 위치를 찾습니다.\n",
    "#rfind는 오른쪽부터 찾아서 처음 등장하는 위치를 찾습니다.\n",
    "\n",
    "b=\"안녕안녕하세요\".rfind(\"안녕\")\n",
    "print(b)\n"
   ]
  },
  {
   "cell_type": "code",
   "execution_count": 67,
   "metadata": {},
   "outputs": [
    {
     "name": "stdout",
     "output_type": "stream",
     "text": [
      "True\n",
      "False\n"
     ]
    }
   ],
   "source": [
    "#in 연산자 ******\n",
    "#문자열 내부에 어떤 문자열이 있는지 확인하려면 in 연산자를 사용합니다. \n",
    "# 출력은 True, False로 나옴.\n",
    "\n",
    "print(\"안녕\" in \"안녕하세요\")\n",
    "print(\"잘자\" in \"안녕하세요\")"
   ]
  },
  {
   "cell_type": "code",
   "execution_count": 68,
   "metadata": {},
   "outputs": [
    {
     "name": "stdout",
     "output_type": "stream",
     "text": [
      "['10', '20', '30', '40', '50']\n"
     ]
    }
   ],
   "source": [
    "#문자열 자르기 split()\n",
    "#문자열을 특정한 문자로 자를때는 split() 함수를 사용합니다.\n",
    "#빈칸도 문자, 빈칸을 기준으로 자릅니다.\n",
    "a= \"10 20 30 40 50\".split(\" \")\n",
    "print(a)\n",
    "\n",
    "#실행 결과는 리스트로 나옴."
   ]
  },
  {
   "cell_type": "code",
   "execution_count": 70,
   "metadata": {},
   "outputs": [
    {
     "name": "stdout",
     "output_type": "stream",
     "text": [
      "True\n",
      "True\n",
      "True\n"
     ]
    }
   ],
   "source": [
    "#불 만들기: 비교 연산자\n",
    "\n",
    "print(\"가방\"==\"가방\")\n",
    "print(\"가방\"<\"하마\")\n",
    "#한글은 사전순서로(가나다)로 앞에 있는것이 적은 값을 갖습니다.\n",
    "print(\"apple\"< \"grape\")\n",
    "\n",
    "#not연산자는 not in 이런식으로 많이씀\n",
    "\n",
    "#and 피연산자 두개가 모두 참일때 true, 그 외에 false\n",
    "#or 더하기"
   ]
  },
  {
   "cell_type": "code",
   "execution_count": 72,
   "metadata": {},
   "outputs": [
    {
     "name": "stdout",
     "output_type": "stream",
     "text": [
      "under_20:  True\n",
      "not under_20 : False\n"
     ]
    }
   ],
   "source": [
    "#not 연산자 조합하기\n",
    "x = 10\n",
    "under_20 = x < 20\n",
    "print(\"under_20: \", under_20)\n",
    "print(\"not under_20 :\", not under_20)"
   ]
  },
  {
   "cell_type": "code",
   "execution_count": null,
   "metadata": {},
   "outputs": [],
   "source": [
    "#or xor xnor 같은거 검색 해보기.\n",
    "\n",
    "#논리게이트\n",
    "# 논리게이트는 디지털 회로를 만드는데 있어 가장 기본적인 요소이다.\n",
    "#대부분의 논리 게이트들은 두 개의 입력과 한 개의 출력을 가진다.\n"
   ]
  },
  {
   "cell_type": "code",
   "execution_count": 74,
   "metadata": {},
   "outputs": [
    {
     "name": "stdout",
     "output_type": "stream",
     "text": [
      "True입니다.\n",
      "정말True입니다 휴먼\n"
     ]
    }
   ],
   "source": [
    "#if 조건문\n",
    "if True:\n",
    "    print(\"True입니다.\")\n",
    "    print(\"정말True입니다 휴먼\")\n",
    "    \n",
    "\n",
    "if False:\n",
    "    print(\"False입니다.\")"
   ]
  },
  {
   "cell_type": "code",
   "execution_count": 75,
   "metadata": {},
   "outputs": [
    {
     "name": "stdout",
     "output_type": "stream",
     "text": [
      "정수입력> 1\n",
      "양수\n"
     ]
    }
   ],
   "source": [
    "#조건문의 기본사용\n",
    "#입력을 받습니다\n",
    "number = input(\"정수입력> \")\n",
    "num = int(number)\n",
    "\n",
    "#양수조건\n",
    "if num > 0:\n",
    "    print(\"양수\")\n",
    "\n",
    "#음수조건\n",
    "if num < 0:\n",
    "    print(\"음수\")\n",
    "    \n",
    "#0 조건\n",
    "if num == 0:\n",
    "    print(\"0\")"
   ]
  },
  {
   "cell_type": "code",
   "execution_count": 80,
   "metadata": {},
   "outputs": [
    {
     "name": "stdout",
     "output_type": "stream",
     "text": [
      "2021-04-01 14:56:42.427470\n",
      "2021\n",
      "4\n",
      "1\n",
      "56\n",
      "42\n"
     ]
    }
   ],
   "source": [
    "#날짜/시간 활용하기 \n",
    "import datetime  #날짜/ 시간과 관련된 기능을 가져옵니다\n",
    "\n",
    "now = datetime.datetime.now() # 현재 날짜/ 시간을 구합니다.\n",
    "\n",
    "#출력합니다\n",
    "print(now)\n",
    "print(now.year)\n",
    "print(now.month)\n",
    "print(now.day)\n",
    "# print(now.) 이 상태로 . 뒤에 커서를 둔 뒤 쉬프트+탭을 누르면 사용가능한 명령어들이 나온다\n",
    "print(now.minute)\n",
    "print(now.second)"
   ]
  },
  {
   "cell_type": "code",
   "execution_count": 83,
   "metadata": {},
   "outputs": [
    {
     "name": "stdout",
     "output_type": "stream",
     "text": [
      "2021년 4월 1일 14시 59분 48초\n"
     ]
    }
   ],
   "source": [
    "#날짜 시간을 한 줄로 출력하기\n",
    "import datetime\n",
    "now = datetime.datetime.now()\n",
    "\n",
    "print(\"{}년 {}월 {}일 {}시 {}분 {}초\".format(\n",
    "\n",
    "        now.year,\n",
    "        now.month,\n",
    "        now.day,\n",
    "        now.hour,\n",
    "        now.minute,\n",
    "        now.second\n",
    "    ))\n"
   ]
  },
  {
   "cell_type": "code",
   "execution_count": 87,
   "metadata": {},
   "outputs": [
    {
     "name": "stdout",
     "output_type": "stream",
     "text": [
      "현재 시각은 15시로 오후 입니다.\n"
     ]
    }
   ],
   "source": [
    "#오전과 오후를 구분하는 프로그램\n",
    "\n",
    "import datetime\n",
    "\n",
    "now = datetime.datetime.now()\n",
    "\n",
    "if now.hour < 12:\n",
    "    print(\"현재 시각은 {}시로 오전 입니다.\".format(now.hour))\n",
    "    \n",
    "if now.hour > 12:\n",
    "    print(\"현재 시각은 {}시로 오후 입니다.\".format(now.hour))"
   ]
  },
  {
   "cell_type": "code",
   "execution_count": 91,
   "metadata": {},
   "outputs": [
    {
     "name": "stdout",
     "output_type": "stream",
     "text": [
      "이번달은 4월로 봄 입니다.\n",
      "이번 달은 4월로 겨울 입니다.\n"
     ]
    }
   ],
   "source": [
    "#기준 : 계절구분, 3개월 단위로 함(연간 12개월)\n",
    "\n",
    "#계절을 구분하는 프로그램\n",
    "# 날짜/시간과 관련된 기능을 가져옵니다.\n",
    "import datetime\n",
    "\n",
    "#현재 날짜/ 시간을 구합니다.\n",
    "now= datetime.datetime.now()\n",
    "\n",
    "#봄 구분\n",
    "if 3<= now.month <=5:\n",
    "    print(\"이번달은 {}월로 봄 입니다.\".format(now.month))\n",
    "#여름 구분   \n",
    "if 6<= now.month <=8:\n",
    "    print(\"이번 달은 {}월로 여름 입니다.\".format(now.month))\n",
    "#가을 구분    \n",
    "if 9<= now.month <=11:\n",
    "    print(\"이번 달은 {}월로 가을 입니다.\".format(now.month))\n",
    "#겨울 구분    \n",
    "if now.month == 12 or 1<= now.month <= 2:\n",
    "    print(\"이번 달은 {}월로 겨울 입니다.\".format(now.month))\n"
   ]
  },
  {
   "cell_type": "code",
   "execution_count": null,
   "metadata": {},
   "outputs": [],
   "source": []
  },
  {
   "cell_type": "code",
   "execution_count": 98,
   "metadata": {},
   "outputs": [
    {
     "name": "stdout",
     "output_type": "stream",
     "text": [
      "정수입력 >1961\n",
      "홀수 입니다.\n"
     ]
    }
   ],
   "source": [
    "#끝자리로 짝수와 홀수 구분\n",
    "# 입력을 받습니다\n",
    "num = input(\"정수입력 >\")\n",
    "\n",
    "#마지막 자리 숫자를 추출\n",
    "last_character = number[-1]\n",
    "\n",
    "#숫자로 변환가기\n",
    "\n",
    "last_number = int(last_character)\n",
    "\n",
    "#짝수확인\n",
    "\n",
    "if last_number == 0\\\n",
    "    or last_number == 2 \\\n",
    "    or last_number == 4 \\\n",
    "    or last_number == 6 \\\n",
    "    or last_number == 8:\n",
    "    print(\"짝수 입니다.\")\n",
    "else:\n",
    "    print(\"홀수 입니다.\")"
   ]
  },
  {
   "cell_type": "code",
   "execution_count": 108,
   "metadata": {},
   "outputs": [
    {
     "name": "stdout",
     "output_type": "stream",
     "text": [
      "숫자를 입력 하세요9\n",
      "홀수입니다.\n"
     ]
    }
   ],
   "source": [
    "#간단하게\n",
    "num = input(\"숫자를 입력 하세요\")\n",
    "\n",
    "last_char = num[-1]\n",
    "last_num = int(last_char)\n",
    "\n",
    "if last_num % 2 == 0:\n",
    "    print(\"짝수입니다.\")\n",
    "    \n",
    "else:\n",
    "    print(\"홀수입니다.\")\n",
    "    \n",
    "#컴퓨터 입장에서는 이 방식이 제일 빠름"
   ]
  },
  {
   "cell_type": "code",
   "execution_count": 106,
   "metadata": {},
   "outputs": [
    {
     "name": "stdout",
     "output_type": "stream",
     "text": [
      "정수 입력 >123\n",
      "홀수입니다.\n"
     ]
    }
   ],
   "source": [
    "#in 문자열 연산자를 활용하여 짝수와 홀수 구분\n",
    "#입력을 받습니다\n",
    "number = input(\"정수 입력 >\")\n",
    "last_character = number[-1]\n",
    "\n",
    "#짝수 조건\n",
    "if last_character in \"02468\":\n",
    "    print(\"짝수입니다.\")\n",
    "\n",
    "#홀수 조건\n",
    "if last_character in \"13579\":\n",
    "    print(\"홀수입니다.\")\n",
    "    \n",
    "#입력받은 4행의 last_character 에 있는 문자열이 \"02468\" 을 포함 했는지 혹은\n",
    "#13579를 포함 했는지 확인해 홀수 짝수를 출력하도록 하는 코드 입니다."
   ]
  },
  {
   "cell_type": "code",
   "execution_count": 110,
   "metadata": {},
   "outputs": [
    {
     "name": "stdout",
     "output_type": "stream",
     "text": [
      "봄 입니다.\n"
     ]
    }
   ],
   "source": [
    "#if ~else 구문은 두가지로 떨어질때, elif 구문은 세개 이상의 조건에서\n",
    "import datetime\n",
    "now= datetime.datetime.now()\n",
    "month = now.month\n",
    "\n",
    "if 3 <= month <= 6:\n",
    "    print(\"봄 입니다.\")\n",
    "elif 6 <= month <= 8:\n",
    "    print(\"여름 입니다.\")\n",
    "elif 9 <= month <= 11:\n",
    "    print(\"가을 입니다.\")\n",
    "else:\n",
    "    print(\"겨울 입니다.\")\n",
    "    \n",
    "\n"
   ]
  },
  {
   "cell_type": "code",
   "execution_count": 116,
   "metadata": {},
   "outputs": [
    {
     "name": "stdout",
     "output_type": "stream",
     "text": [
      "학점입력> 3\n",
      "일반인\n"
     ]
    }
   ],
   "source": [
    "#학점 프로그램, 등급판정 프로그램은 기본중에 기본\n",
    "#유머를 조건문으로 구현하기\n",
    "\n",
    "#변수를 선언합니다.\n",
    "#학점은 소수를 사용하니 플롯\n",
    "score = float(input(\"학점입력> \"))\n",
    "\n",
    "#조건문을 적용합니다.\n",
    "if score == 4.5:\n",
    "    print(\"신\")\n",
    "elif 4.2 <= score:\n",
    "    print(\"교수님의 사랑\")\n",
    "elif 3.5 <= score:\n",
    "    print(\"현 체제의 수호자\")\n",
    "elif 2.8 <= score:\n",
    "    print(\"일반인\")\n",
    "elif 2.3 <= score:\n",
    "    print(\"일탈을 꿈꾸는 소시민\")\n",
    "elif 1.75 <= score:\n",
    "    print(\"오락 문화의 선구자\")\n",
    "elif 1.0 <= score:\n",
    "    print(\"불가촉천민\")\n",
    "elif 0.5 <= score:\n",
    "    print(\"자벌래\")\n",
    "elif 0 < score :\n",
    "    print(\"플랑크톤\")\n",
    "else:\n",
    "    print(\"시대를 앞서가는 혁명의 씨앗\")"
   ]
  },
  {
   "cell_type": "code",
   "execution_count": null,
   "metadata": {},
   "outputs": [],
   "source": [
    "#빈 컨테이너\n",
    "#if 조건문의 매개변수에 불 아닌 다른 값이 올때 자동으로 불로 변환\n",
    "#따라서 어떤 값이 true로 반환되고, 어떤값이 False로 변환되는지 알고 있어야 코드를 이해할수있습니다.\n",
    "#false로 변환되는 값은 None, 숫자 0과 0.0, 빈 컨테이너(빈 문자열, 빈 바이트열, 빈 리스트, 빈 튜플, 빈 딕셔너리 등)\n",
    "\n",
    "#page 132 예제를 풀어보면 이해가 된다.\n",
    "print(\"#if 조건문에 0 넣기\")\n",
    "if 0:\n",
    "    print(\"0은 True로 변환 됩니다.\")\n",
    "else:\n",
    "    print(\"0은 F\")\n",
    "\n"
   ]
  },
  {
   "cell_type": "code",
   "execution_count": 122,
   "metadata": {},
   "outputs": [
    {
     "name": "stdout",
     "output_type": "stream",
     "text": [
      "<class 'list'>\n",
      "문자열\n",
      "[273, 32, 103]\n",
      "멍멍\n"
     ]
    }
   ],
   "source": [
    "#리스트 \n",
    "#리스트를 백터라고하고\n",
    "# 요소(하나하나) 를 스칼라 라고함.\n",
    "\n",
    "a = [273, 32, 103, \"문자열\", True, False]\n",
    "print(type(a))\n",
    "print(a[3])\n",
    "print(a[:3])\n",
    "\n",
    "a[-3] = \"멍멍\"\n",
    "print(a[-3])"
   ]
  },
  {
   "cell_type": "code",
   "execution_count": 124,
   "metadata": {},
   "outputs": [
    {
     "name": "stdout",
     "output_type": "stream",
     "text": [
      "멍\n"
     ]
    }
   ],
   "source": [
    "print(a[-3][0])\n",
    "#이런것도 가능하다"
   ]
  },
  {
   "cell_type": "code",
   "execution_count": 128,
   "metadata": {},
   "outputs": [
    {
     "name": "stdout",
     "output_type": "stream",
     "text": [
      "\n",
      "[1, 2, 3, 4, 5, 6]\n",
      "[1, 2, 3, 1, 2, 3, 1, 2, 3]\n",
      "3\n"
     ]
    }
   ],
   "source": [
    "a = [1,2,3]\n",
    "b = [4,5,6]\n",
    "\n",
    "print()\n",
    "c = a+b\n",
    "print(c) #**** 굉장히 중요 \n",
    "\n",
    "print(a*3)\n",
    "\n",
    "print(len(a)) #a 리스트의 렝스(원소의 개수)"
   ]
  },
  {
   "cell_type": "code",
   "execution_count": 137,
   "metadata": {},
   "outputs": [
    {
     "name": "stdout",
     "output_type": "stream",
     "text": [
      "[1, 2, 3, 4]\n",
      "[1, 2, 2, 3, 4]\n",
      "[1, 2, 2, 3, 4, 5]\n"
     ]
    }
   ],
   "source": [
    "#append() 함수 / 굉장히 많이 사용함.\n",
    "#리스트명.append(요소)\n",
    "#append는 부록( 뒤에 붙인다)\n",
    "\n",
    "#insert 는 중간삽입\n",
    "#리스트명.insert(위치,요소)\n",
    "a = [1,2,3]\n",
    "a.append(4)\n",
    "print(a)\n",
    "a.insert(1,2)\n",
    "print(a)\n",
    "\n",
    "a.insert(6,5)\n",
    "print(a)"
   ]
  },
  {
   "cell_type": "code",
   "execution_count": 138,
   "metadata": {},
   "outputs": [],
   "source": [
    "#리스트 뒤에 리스트를 붙이고 싶을때는 extend()"
   ]
  },
  {
   "cell_type": "code",
   "execution_count": null,
   "metadata": {},
   "outputs": [],
   "source": [
    "#리스트와 같이 원본에 어떠한 영향도 주지 않는것을 비파괴적 이라고 표현하고, \n",
    "#append, insert, extend 함수와 같이 리스트에 직접적인 영향을 주는 함수 또는 연산을\n",
    "#파괴적이라고 표현합니다.\n"
   ]
  },
  {
   "cell_type": "code",
   "execution_count": null,
   "metadata": {},
   "outputs": [],
   "source": [
    "#인덱스로 제거하기\n",
    "#del 리스트명[인덱스]\n",
    "#리스트명.pop(인덱스) 매개변수를 입력하지 않으면 마지막 요소를 제거 합니다.\n",
    "#팝을 더 많이 사용함 팝은 확실하게 알아둬야함."
   ]
  },
  {
   "cell_type": "code",
   "execution_count": 139,
   "metadata": {},
   "outputs": [
    {
     "name": "stdout",
     "output_type": "stream",
     "text": [
      "[0, 5]\n"
     ]
    }
   ],
   "source": [
    "\n",
    "b=[0,1,2,3,4,5]\n",
    "del b[1:5]\n",
    "print(b)\n"
   ]
  },
  {
   "cell_type": "code",
   "execution_count": null,
   "metadata": {},
   "outputs": [],
   "source": [
    "#집합에서는 중복허용이 되지 않음\n",
    "#set()함수는 집합임.\n",
    "#중복 제거로 많이 사용"
   ]
  },
  {
   "cell_type": "code",
   "execution_count": null,
   "metadata": {},
   "outputs": [],
   "source": []
  },
  {
   "cell_type": "code",
   "execution_count": null,
   "metadata": {},
   "outputs": [],
   "source": []
  },
  {
   "cell_type": "code",
   "execution_count": null,
   "metadata": {},
   "outputs": [],
   "source": []
  },
  {
   "cell_type": "code",
   "execution_count": null,
   "metadata": {},
   "outputs": [],
   "source": []
  },
  {
   "cell_type": "code",
   "execution_count": null,
   "metadata": {},
   "outputs": [],
   "source": []
  },
  {
   "cell_type": "code",
   "execution_count": null,
   "metadata": {},
   "outputs": [],
   "source": []
  },
  {
   "cell_type": "code",
   "execution_count": null,
   "metadata": {},
   "outputs": [],
   "source": []
  }
 ],
 "metadata": {
  "kernelspec": {
   "display_name": "python3_7_6",
   "language": "python",
   "name": "py3_7_6"
  },
  "language_info": {
   "codemirror_mode": {
    "name": "ipython",
    "version": 3
   },
   "file_extension": ".py",
   "mimetype": "text/x-python",
   "name": "python",
   "nbconvert_exporter": "python",
   "pygments_lexer": "ipython3",
   "version": "3.7.6"
  }
 },
 "nbformat": 4,
 "nbformat_minor": 4
}
