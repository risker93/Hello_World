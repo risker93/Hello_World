{
 "cells": [
  {
   "cell_type": "code",
   "execution_count": 3,
   "metadata": {},
   "outputs": [
    {
     "name": "stdout",
     "output_type": "stream",
     "text": [
      "[1, 1, 2]\n",
      "True\n"
     ]
    }
   ],
   "source": [
    "#remove() 함수 : 특정 값을 제거하기\n",
    "\n",
    "c = [1,2,1,2]\n",
    "c.remove(2)\n",
    "print(c)\n",
    "\n",
    "#처음 발견한 2를 제거\n",
    "\n",
    "#clear()함수 요소 전체 제거\n",
    "\n",
    "#in 연산자 : 특정값이 리스트 내부에 있는지 확인\n",
    "\n",
    "a= [1,2,3,4,5,6,7]\n",
    "\n",
    "print(2 in a)"
   ]
  },
  {
   "cell_type": "code",
   "execution_count": 4,
   "metadata": {},
   "outputs": [
    {
     "name": "stdout",
     "output_type": "stream",
     "text": [
      "False\n"
     ]
    }
   ],
   "source": [
    "#not in 연산자\n",
    "print(3 not in a)"
   ]
  },
  {
   "cell_type": "code",
   "execution_count": 6,
   "metadata": {
    "scrolled": true
   },
   "outputs": [
    {
     "name": "stdout",
     "output_type": "stream",
     "text": [
      "0\n",
      "1\n",
      "2\n",
      "273\n",
      "32\n",
      "103\n",
      "57\n",
      "52\n"
     ]
    }
   ],
   "source": [
    "#반복문\n",
    "#for반복문\n",
    "for i in range(3):\n",
    "    print(i)\n",
    "#range(3) : 반복에 사용할수 있는 자료    \n",
    "#i(인덱스의 약자) 인덱스 0부터 3번 빼겠다\n",
    "\n",
    "a = [273, 32, 103, 57, 52]\n",
    "for i in a:\n",
    "    print(i)"
   ]
  },
  {
   "cell_type": "code",
   "execution_count": 13,
   "metadata": {},
   "outputs": [
    {
     "data": {
      "text/plain": [
       "'어벤저스'"
      ]
     },
     "execution_count": 13,
     "metadata": {},
     "output_type": "execute_result"
    }
   ],
   "source": [
    "#딕셔너리 : 키를 기반으로 값을 저장하는것 {}\n",
    "dict_a = {\n",
    "    \"name\" : \"어벤저스\",\n",
    "    \"type\" : \"히어로무비\"\n",
    "}\n",
    "\n",
    "dict_a[\"name\"]"
   ]
  },
  {
   "cell_type": "code",
   "execution_count": null,
   "metadata": {},
   "outputs": [],
   "source": [
    "dict_b = {\n",
    "    \"director\":[\"안소니 루소\", \"조 루소\"],\n",
    "    \"cast\" : [\"아이언맨\", \"타노스\", \"닥터스트레인지\", \"헐크\"]\n",
    "}\n"
   ]
  },
  {
   "cell_type": "code",
   "execution_count": 14,
   "metadata": {},
   "outputs": [
    {
     "name": "stdout",
     "output_type": "stream",
     "text": [
      "{'name': '3d건조망고', 'type': '당절임', 'ingredient': ['망고', '설탕'], 'orign': '필리핀'}\n"
     ]
    }
   ],
   "source": [
    "d = {\n",
    "    \"name\":\"3d건조망고\" , \n",
    "    \"type\" : \"당절임\",\n",
    "    \"ingredient\" : [\"망고\", \"설탕\"],\n",
    "    \"orign\" : \"필리핀\"\n",
    "}\n",
    "print(d)"
   ]
  },
  {
   "cell_type": "code",
   "execution_count": 16,
   "metadata": {},
   "outputs": [
    {
     "name": "stdout",
     "output_type": "stream",
     "text": [
      "3d건조망고\n",
      "['망고', '설탕']\n"
     ]
    }
   ],
   "source": [
    "#딕셔너리 요소에 접근하기\n",
    "print(d[\"name\"])\n",
    "print(d[\"ingredient\"])\n"
   ]
  },
  {
   "cell_type": "code",
   "execution_count": 17,
   "metadata": {},
   "outputs": [
    {
     "name": "stdout",
     "output_type": "stream",
     "text": [
      "설탕\n"
     ]
    }
   ],
   "source": [
    "print(d[\"ingredient\"][1])\n",
    "#키로 접근한후 인덱스를 정해 가져옴\n"
   ]
  },
  {
   "cell_type": "code",
   "execution_count": 29,
   "metadata": {},
   "outputs": [
    {
     "name": "stdout",
     "output_type": "stream",
     "text": [
      "{'이름': '망고', '형태': '당절임', 'price': 5000, '상표': '맛있는망고'}\n"
     ]
    }
   ],
   "source": [
    "name = \"이름\"\n",
    "type_key = \"형태\"\n",
    "dict_key = {\n",
    "    name :\"망고\",\n",
    "    type_key : \"당절임\"\n",
    "}\n",
    "\n",
    "dict_key[\"price\"] = 5000\n",
    "dict_key[\"상표\"] = \"맛있는망고\"\n",
    "print(dict_key)\n"
   ]
  },
  {
   "cell_type": "code",
   "execution_count": 31,
   "metadata": {},
   "outputs": [
    {
     "name": "stdout",
     "output_type": "stream",
     "text": [
      "{'이름': '망고', 'price': 5000, '상표': '맛있는망고'}\n"
     ]
    }
   ],
   "source": [
    "#딕셔너리에 값을 추가할때는 키를 기반으로 값 입력\n",
    "#딕셔너리[새로운키] = 새로운값\n",
    "\n",
    "del dict_key[\"형태\"]\n",
    "print(dict_key)\n"
   ]
  },
  {
   "cell_type": "code",
   "execution_count": 32,
   "metadata": {},
   "outputs": [
    {
     "name": "stdout",
     "output_type": "stream",
     "text": [
      "{'name': '이름', 'mind': '정신', 'body': '몸'}\n"
     ]
    }
   ],
   "source": [
    "#딕셔너리에 요소 추가하기\n",
    "dict_a ={}\n",
    "\n",
    "dict_a[\"name\"] = \"이름\"\n",
    "dict_a[\"mind\"] = \"정신\"\n",
    "dict_a[\"body\"] = \"몸\"\n",
    "\n",
    "print(dict_a)\n"
   ]
  },
  {
   "cell_type": "code",
   "execution_count": 35,
   "metadata": {},
   "outputs": [
    {
     "name": "stdout",
     "output_type": "stream",
     "text": [
      "{'name': '네페 인디고 셀비지', 'type': '생지 진', 'ingre': ['일본산 최고급 셀비지', '버튼', '네페텝'], 'origin': '캐나다'}\n",
      "키를 입력 하세요name\n",
      "네페 인디고 셀비지\n"
     ]
    }
   ],
   "source": [
    "dict_b={\n",
    "    \"name\" : \"네페 인디고 셀비지\",\n",
    "    \"type\" : \"생지 진\",\n",
    "    \"ingre\" : [\"일본산 최고급 셀비지\",\"버튼\",\"네페텝\"],\n",
    "    \"origin\" : \"캐나다\"\n",
    "}\n",
    "print(dict_b)\n",
    "\n",
    "key = input(\"키를 입력 하세요\")\n",
    "\n",
    "if key in dict_b:\n",
    "    print(dict_b[key])\n",
    "else:\n",
    "    print(\"그런거 없어요\")"
   ]
  },
  {
   "cell_type": "code",
   "execution_count": 36,
   "metadata": {},
   "outputs": [
    {
     "name": "stdout",
     "output_type": "stream",
     "text": [
      "네페 인디고 셀비지\n",
      "생지 진\n",
      "['일본산 최고급 셀비지', '버튼', '네페텝']\n",
      "캐나다\n"
     ]
    }
   ],
   "source": [
    "#for 반복문과 딕셔너리의 조합\n",
    "\n",
    "for key in dict_b:\n",
    "    print(dict_b[key])"
   ]
  },
  {
   "cell_type": "code",
   "execution_count": 37,
   "metadata": {},
   "outputs": [
    {
     "name": "stdout",
     "output_type": "stream",
     "text": [
      "None\n"
     ]
    }
   ],
   "source": [
    "#get() 함수 : 딕셔너리의 키로 값을 추출, 조냊하지 않는키에 접근시 None출력\n",
    "value = dict_b.get(\"모델s\")\n",
    "print(value)"
   ]
  },
  {
   "cell_type": "code",
   "execution_count": 38,
   "metadata": {},
   "outputs": [
    {
     "name": "stdout",
     "output_type": "stream",
     "text": [
      "없습니다\n"
     ]
    }
   ],
   "source": [
    "if value == None:\n",
    "    print(\"없습니다\")"
   ]
  },
  {
   "cell_type": "code",
   "execution_count": 56,
   "metadata": {},
   "outputs": [
    {
     "name": "stdout",
     "output_type": "stream",
     "text": [
      "range(0, 5)\n",
      "[0, 1, 2, 3, 4, 5, 6, 7, 8, 9]\n",
      "[0, 1, 2, 3, 4]\n",
      "[0, 2, 4, 6, 8]\n",
      "[0, 1, 2, 3, 4]\n",
      "[0, 1, 2, 3, 4]\n"
     ]
    }
   ],
   "source": [
    "#딕셔너리와 반복문\n",
    "#범위(range)\n",
    "#매개변수에 숫자를 넣는방법\n",
    "#매개변수에 2개의 숫자를 넣는방법\n",
    "#매개변수에 3개의 숫자를 넣는방법 a 부터 b-2까지의 정수로 범위를 만드는데,\n",
    "#앞뒤의 숫자가 c만큼의 차이를 가짐.\n",
    "\n",
    "print(range(5))\n",
    "a = range(5)\n",
    "\n",
    "\n",
    "print(list(range(10)))\n",
    "print(list(range(0,5)))\n",
    "print(list(range(0,10,2)))\n",
    "\n",
    "\n",
    "n = 10\n",
    "a = range(0, n // 2)\n",
    "print(list(a))\n",
    "\n",
    "#range()함수의 매개변수로는 반드시 정수를 입력해야 합니다.\n",
    "#매개변수를 통해 나눗셈을 사용한 경우 오류가 발생합니다.\n",
    "#그래서 // 정수나누기 연산자를 많이 사용 합니다.\n",
    "#int(n/2) 를 쓸수도 있으나 정수나누기 // 를 사용 \n",
    "# // 몫 연산자로 나누어떨어질때( 나머지가 없을떄) 정수\n",
    "\n",
    "\n",
    "a = range(0, int(n/2))\n",
    "print(list(a))\n",
    "\n"
   ]
  },
  {
   "cell_type": "code",
   "execution_count": 58,
   "metadata": {},
   "outputs": [
    {
     "name": "stdout",
     "output_type": "stream",
     "text": [
      "0=반복변수\n",
      "1=반복변수\n",
      "2=반복변수\n",
      "3=반복변수\n",
      "4=반복변수\n",
      "\n",
      "5=반복변수\n",
      "6=반복변수\n",
      "7=반복변수\n",
      "8=반복변수\n",
      "9=반복변수\n",
      "\n",
      "0=반복변수\n",
      "3=반복변수\n",
      "6=반복변수\n",
      "9=반복변수\n",
      "\n"
     ]
    }
   ],
   "source": [
    "#for 반복문과 범위의 조합.\n",
    "#for 반복문과 범위를 함께 조합해서 사용합니다.\n",
    "for i in range(5):\n",
    "    print(str(i) + \"=반복변수\")\n",
    "print()\n",
    "\n",
    "for i in range(5, 10):\n",
    "    print(str(i)+\"=반복변수\")\n",
    "print()\n",
    "\n",
    "for i in range(0, 10, 3):\n",
    "    print(str(i) + \"=반복변수\")\n",
    "print()\n"
   ]
  },
  {
   "cell_type": "code",
   "execution_count": 59,
   "metadata": {},
   "outputs": [
    {
     "name": "stdout",
     "output_type": "stream",
     "text": [
      "0 273\n",
      "1 32\n",
      "2 103\n",
      "3 57\n",
      "4 52\n"
     ]
    }
   ],
   "source": [
    "a = [273, 32, 103, 57, 52]\n",
    "\n",
    "for i in range(len(a)):\n",
    "    print(i, a[i])\n",
    "    \n",
    "#여기서 for문의 i 는 인덱스, 즉 인덱스를 하나씩 빼서 출력\n"
   ]
  },
  {
   "cell_type": "code",
   "execution_count": 60,
   "metadata": {},
   "outputs": [
    {
     "name": "stdout",
     "output_type": "stream",
     "text": [
      "현재반복변수:4\n",
      "현재반복변수:3\n",
      "현재반복변수:2\n",
      "현재반복변수:1\n",
      "현재반복변수:0\n"
     ]
    }
   ],
   "source": [
    "#반대로 반복하기\n",
    "# 역 반복문\n",
    "for i in range(4, 0 -1, -1):\n",
    "    #0 -1은 단순강조표현, 0까지 반복할거다를 강조함 \n",
    "    #4번 반복할거다, -1부터, -1씩 띄어서\n",
    "    print(\"현재반복변수:{}\".format(i))"
   ]
  },
  {
   "cell_type": "code",
   "execution_count": 64,
   "metadata": {
    "scrolled": true
   },
   "outputs": [
    {
     "name": "stdout",
     "output_type": "stream",
     "text": [
      "4\n",
      "3\n",
      "2\n",
      "1\n",
      "0\n",
      "reversed_numbers:  <list_reverseiterator object at 0x000002783702D048>\n",
      "5\n"
     ]
    }
   ],
   "source": [
    "for i in reversed(range(5)):\n",
    "    print(i)\n",
    "    \n",
    "#리버스 함수는 주의사항이 굉장히 많은 함수입니다.\n",
    "#반복할수 있는것 을 이터러블 이라고 합니다. \n",
    "#리버스 함수를 사용할때 list_reserse... 문장이 나오는데\n",
    "#레인지 함수를 통해 갔다가 리버스 함수를 통해 실행이됨\n",
    "#자원 소모를 아끼기 위해서, 주소값의 alert를 보여줌\n",
    "#그 후 다음 코드를 실행해줌.\n",
    "\n",
    "numbers = [1,2,3,4,5]\n",
    "r_rum = reversed(numbers)\n",
    "\n",
    "print(\"reversed_numbers: \",r_rum)\n",
    "print(next(r_rum))\n",
    "#이런식으로 넥스트를 통해 하나씩 뽑아올수 있음 \n",
    "#반복문을 사용하면 다 출력됨\n",
    "#리버스는 필요한 시점에 사용하는게 좋음"
   ]
  },
  {
   "cell_type": "code",
   "execution_count": 65,
   "metadata": {},
   "outputs": [
    {
     "name": "stdout",
     "output_type": "stream",
     "text": [
      "0\n",
      "1\n",
      "2\n",
      "3\n",
      "4\n",
      "5\n",
      "6\n",
      "7\n",
      "8\n",
      "9\n"
     ]
    }
   ],
   "source": [
    "#while문\n",
    "i = 0\n",
    "while i < 10:\n",
    "    print(i)\n",
    "    i += 1 #이건 i = i+1의 의미\n",
    "    "
   ]
  },
  {
   "cell_type": "code",
   "execution_count": 68,
   "metadata": {},
   "outputs": [
    {
     "name": "stdout",
     "output_type": "stream",
     "text": [
      "[1, 2, 3, 4, 5, 5, 7, 8, 9]\n"
     ]
    }
   ],
   "source": [
    "na_remove = [1,2,3,4,5,5,\"na\",\"na\",7,8,9]\n",
    "remove_val = \"na\"\n",
    "\n",
    "while remove_val in na_remove:\n",
    "    na_remove.remove(remove_val)\n",
    "\n",
    "print(na_remove)"
   ]
  },
  {
   "cell_type": "code",
   "execution_count": 70,
   "metadata": {
    "scrolled": true
   },
   "outputs": [
    {
     "name": "stdout",
     "output_type": "stream",
     "text": [
      "5초동안27468531번 반복했습니다.\n"
     ]
    }
   ],
   "source": [
    "#5초동안 반복하기\n",
    "#시간과 관련된 기능을 가져옵니다\n",
    "import time\n",
    "\n",
    "#변수를 선언합니다.\n",
    "num = 0\n",
    "\n",
    "#5초동안 반복 합니다.\n",
    "target_tick = time.time() +5\n",
    "while time.time() <target_tick:\n",
    "    num +=1\n",
    "    \n",
    "print(\"5초동안{}번 반복했습니다.\".format(num))"
   ]
  },
  {
   "cell_type": "code",
   "execution_count": 72,
   "metadata": {},
   "outputs": [
    {
     "name": "stdout",
     "output_type": "stream",
     "text": [
      "0번째 반복문 입니다.\n",
      "종료하시겠습니까?(y/n): y\n",
      "반복을 종료합니다.\n"
     ]
    }
   ],
   "source": [
    "i = 0\n",
    "\n",
    "while True:\n",
    "    print(\"{}번째 반복문 입니다.\".format(i))\n",
    "    i += 1\n",
    "    \n",
    "    input_text =input(\"종료하시겠습니까?(y/n): \")\n",
    "    if input_text in [\"y\", \"Y\"]:\n",
    "        print(\"반복을 종료합니다.\")\n",
    "        break\n",
    "    "
   ]
  },
  {
   "cell_type": "code",
   "execution_count": 73,
   "metadata": {},
   "outputs": [
    {
     "name": "stdout",
     "output_type": "stream",
     "text": [
      "15\n",
      "20\n",
      "25\n"
     ]
    }
   ],
   "source": [
    "numbers = [5,15,6,20,7,25]\n",
    "\n",
    "for num in numbers:\n",
    "    if num < 10:\n",
    "        continue\n",
    "       \n",
    "    print(num)"
   ]
  },
  {
   "cell_type": "code",
   "execution_count": null,
   "metadata": {},
   "outputs": [],
   "source": [
    "#if else 구문 사용도 가능하나, continue 키워드를 사용하면 들여쓰기를 줄일수 있음\n"
   ]
  },
  {
   "cell_type": "code",
   "execution_count": null,
   "metadata": {},
   "outputs": [],
   "source": [
    "#파이썬만의 고유한 기능들\n",
    "#리스트에 적용할수 있는 기본 함수 min(), max(), sum\n",
    "#리스트 뒤집기 reversed()\n",
    "#현재 인덱스가 몇번인지 확인하기: enumerate()\n",
    "#딕셔너리로 쉽게 반복문 작성하기 items()\n",
    "#리스트 안에 for문 사용하기 : 리스트 내포\n"
   ]
  },
  {
   "cell_type": "code",
   "execution_count": 78,
   "metadata": {},
   "outputs": [
    {
     "name": "stdout",
     "output_type": "stream",
     "text": [
      "#단순출력\n",
      "['a', 'b', 'c']\n",
      "\n",
      "<enumerate object at 0x0000027837047D18>\n",
      "\n",
      "[(0, 'a'), (1, 'b'), (2, 'c')]\n",
      "\n",
      "(2, 'c')\n",
      "0번째 요소는 a입니다.\n",
      "1번째 요소는 b입니다.\n",
      "2번째 요소는 c입니다.\n"
     ]
    }
   ],
   "source": [
    "#enumertate() 함수 *****\n",
    "\n",
    "#변수를 선언합니다.\n",
    "example_list = [\"a\",\"b\",\"c\"]\n",
    "\n",
    "print(\"#단순출력\")\n",
    "print(example_list)\n",
    "print()\n",
    "\n",
    "#enumerate() 를 적용\n",
    "print(enumerate(example_list))\n",
    "print()\n",
    "\n",
    "#list 함수로 강제 변환 출력\n",
    "print(list(enumerate(example_list)))\n",
    "print()\n",
    "\n",
    "d = list(enumerate(example_list))\n",
    "print(d[2])\n",
    "\n",
    "for i, value in enumerate(example_list):\n",
    "    print(\"{}번째 요소는 {}입니다.\".format(i, value))\n",
    "\n",
    "#리스트에서 값을 뽑을때 인덱스를 이용해서함.\n"
   ]
  },
  {
   "cell_type": "code",
   "execution_count": 87,
   "metadata": {},
   "outputs": [],
   "source": [
    "#딕셔너리에서는 키값을 이용함\n",
    "#items()를 사용\n",
    "\n",
    "dict_b = {\n",
    "    \"키1\" :\"값1\",\n",
    "    \"키2\" :\"값2\",\n",
    "    \"키3\" :\"값3\",\n",
    "\n",
    "}"
   ]
  },
  {
   "cell_type": "code",
   "execution_count": 88,
   "metadata": {},
   "outputs": [
    {
     "data": {
      "text/plain": [
       "{'키1': '값1', '키2': '값2', '키3': '값3'}"
      ]
     },
     "execution_count": 88,
     "metadata": {},
     "output_type": "execute_result"
    }
   ],
   "source": [
    "dict_b"
   ]
  },
  {
   "cell_type": "code",
   "execution_count": 89,
   "metadata": {},
   "outputs": [
    {
     "data": {
      "text/plain": [
       "dict_items([('키1', '값1'), ('키2', '값2'), ('키3', '값3')])"
      ]
     },
     "execution_count": 89,
     "metadata": {},
     "output_type": "execute_result"
    }
   ],
   "source": [
    "dict_b.items()"
   ]
  },
  {
   "cell_type": "code",
   "execution_count": 90,
   "metadata": {
    "scrolled": true
   },
   "outputs": [
    {
     "name": "stdout",
     "output_type": "stream",
     "text": [
      "키1 값1\n",
      "키2 값2\n",
      "키3 값3\n"
     ]
    }
   ],
   "source": [
    "for k, v in dict_b.items():\n",
    "    print(k,v)"
   ]
  },
  {
   "cell_type": "code",
   "execution_count": 96,
   "metadata": {},
   "outputs": [
    {
     "name": "stdout",
     "output_type": "stream",
     "text": [
      "[0, 4, 16, 36, 64, 100, 144, 196, 256, 324]\n"
     ]
    }
   ],
   "source": [
    "#리스트 내포\n",
    "#리스트를 선언합니다.\n",
    "array = [i*i for i in range(0,20,2)]\n",
    "print(array)"
   ]
  },
  {
   "cell_type": "code",
   "execution_count": 93,
   "metadata": {},
   "outputs": [
    {
     "name": "stdout",
     "output_type": "stream",
     "text": [
      "['사과', '자두', '바나나', '체리']\n"
     ]
    }
   ],
   "source": [
    "#리스트 내포 list comprehension\n",
    "#리스트 이름 = [표현식 for 반복자 in 반복할수 있는것]\n",
    "#******\n",
    "# 리스트이름 = [표현식 for 반복자 in 반복할수있는 것 if 조건문]\n",
    "#어떠한 값을 만들어내는 간단한 코드를 표현식 이라고한다.\n",
    "a = [\"사과\", \"자두\", \"초콜릿\", \"바나나\", \"체리\"]\n",
    "output = [fruit for fruit in a if fruit != \"초콜릿\"]\n",
    "#!=(아니다) 이건 ==(같다)의 반대 \n",
    "#불린에서 3 ** 2 != 9 가 False\n",
    "#!=는 같지 않다 라는 의미\n",
    "#3의 제곱이 9가 맞기때문에(3**2 == 9) = True \n",
    "#3 ** 2 !=9 는 False 가 나오게 된 것\n",
    "print(output)\n",
    "\n",
    "#a 요소를 fruit 이라고 할때 초콜릿이 아닌 fruit으로 리스트를 \n",
    "#재조합 해주세요 라는 코드입니다.\n"
   ]
  },
  {
   "cell_type": "code",
   "execution_count": null,
   "metadata": {},
   "outputs": [],
   "source": [
    "#반복문 무조건 복습하기."
   ]
  },
  {
   "cell_type": "code",
   "execution_count": 95,
   "metadata": {},
   "outputs": [
    {
     "name": "stdout",
     "output_type": "stream",
     "text": [
      "안녕하세요\n",
      "안녕하세요\n",
      "안녕하세요\n"
     ]
    }
   ],
   "source": [
    "#함수 \n",
    "#def 함수 이름():\n",
    "# 문장\n",
    "def print_3_times():\n",
    "    print(\"안녕하세요\")\n",
    "    print(\"안녕하세요\")\n",
    "    print(\"안녕하세요\")\n",
    "print_3_times()"
   ]
  },
  {
   "cell_type": "code",
   "execution_count": 99,
   "metadata": {},
   "outputs": [
    {
     "name": "stdout",
     "output_type": "stream",
     "text": [
      "안녕하세요\n",
      "안녕하세요\n",
      "안녕하세요\n",
      "안녕하세요\n",
      "안녕하세요\n"
     ]
    }
   ],
   "source": [
    "def print_ntimes(value, n):\n",
    "    for i in range(n):\n",
    "        print(value)\n",
    "        \n",
    "print_ntimes(\"안녕하세요\",5)\n",
    "\n",
    "#함수를 정의할때 변수를 2개 받게끔 정의 했기 때문에 2개를 넣어줘야함.\n"
   ]
  },
  {
   "cell_type": "code",
   "execution_count": 113,
   "metadata": {
    "scrolled": true
   },
   "outputs": [
    {
     "name": "stdout",
     "output_type": "stream",
     "text": [
      "안녕하세요\n",
      "즐거운\n",
      "파이썬프로그래밍\n",
      "3\n",
      "\n",
      "안녕하세요\n",
      "즐거운\n",
      "파이썬프로그래밍\n",
      "3\n",
      "\n"
     ]
    }
   ],
   "source": [
    "#가변 매개변수\n",
    "#제약조건이 있음, 일반 매개변수는 올수 없고 , 가변매개변수는 1개만 와야함\n",
    "#def 함수이름 (매개변수, 매개변수,...,*가변 매개변수)\n",
    "#   문장\n",
    "def print_n_times(*values, n=2):\n",
    "    \n",
    "    for i in range(n):\n",
    "        \n",
    "        for value in values:\n",
    "            print(value)\n",
    "        print()\n",
    "        \n",
    "print_n_times(\"안녕하세요\", \"즐거운\", \"파이썬프로그래밍\", 3)"
   ]
  },
  {
   "cell_type": "code",
   "execution_count": 114,
   "metadata": {},
   "outputs": [
    {
     "name": "stdout",
     "output_type": "stream",
     "text": [
      "안녕하세요\n",
      "즐거운\n",
      "파이썬프로그래밍\n",
      "\n",
      "안녕하세요\n",
      "즐거운\n",
      "파이썬프로그래밍\n",
      "\n",
      "안녕하세요\n",
      "즐거운\n",
      "파이썬프로그래밍\n",
      "\n"
     ]
    }
   ],
   "source": [
    "#키워드 매개변수 : 맨 아래 n=3처럼 매개변수 이름을 지정해서 입력하는것\n",
    "def print_n_times(*values, n=2):\n",
    "    \n",
    "    for i in range(n):\n",
    "        \n",
    "        for value in values:\n",
    "            print(value)\n",
    "        print()\n",
    "        \n",
    "print_n_times(\"안녕하세요\", \"즐거운\", \"파이썬프로그래밍\", n=3)"
   ]
  },
  {
   "cell_type": "code",
   "execution_count": null,
   "metadata": {
    "scrolled": true
   },
   "outputs": [],
   "source": [
    "#키워드 매개변수\n",
    "#기본 매개변수는 가변 매개변수 앞에 써도 의미가 없음\n",
    "#만약 print_n_times(n=2, value)형태로 사용한다면\n",
    "#print_n_times(\"안녕하세요\") 라고 입력했을때\n",
    "#\"안녕하세요\" 라는 글자가 첫번째 매개변수에 할당되야 하는지,\n",
    "#두번째 매개변수에 할땅되어야 하는지 알수 없다\n",
    "#그래서 가변매개변수가 항상 앞에와야한다."
   ]
  },
  {
   "cell_type": "code",
   "execution_count": null,
   "metadata": {},
   "outputs": [],
   "source": [
    "#키워드 매개변수"
   ]
  },
  {
   "cell_type": "code",
   "execution_count": 106,
   "metadata": {},
   "outputs": [],
   "source": [
    "def test(a, b= 10, c= 100):\n",
    "    print(a+b+c)"
   ]
  },
  {
   "cell_type": "code",
   "execution_count": 107,
   "metadata": {},
   "outputs": [
    {
     "name": "stdout",
     "output_type": "stream",
     "text": [
      "60\n"
     ]
    }
   ],
   "source": [
    "test(10,20,30)\n",
    "# 매개변수를 업데이트 해줘서 60이 나옴\n"
   ]
  },
  {
   "cell_type": "code",
   "execution_count": 108,
   "metadata": {},
   "outputs": [
    {
     "name": "stdout",
     "output_type": "stream",
     "text": [
      "310\n"
     ]
    }
   ],
   "source": [
    "#키워드 매개변수로 모든 매개변수를 지정\n",
    "test(a=10, b=100, c=200)\n"
   ]
  },
  {
   "cell_type": "code",
   "execution_count": 109,
   "metadata": {},
   "outputs": [
    {
     "name": "stdout",
     "output_type": "stream",
     "text": [
      "220\n"
     ]
    }
   ],
   "source": [
    "#키워드 매개변수로 일부 매개변수만 지정\n",
    "test(10, c= 200)"
   ]
  },
  {
   "cell_type": "code",
   "execution_count": null,
   "metadata": {},
   "outputs": [],
   "source": [
    "#키워드 매개변수는 기본 매개변수들로 구성된 함수에서 많이 사용\n",
    "#다른 프로그래밍과 다르게 이런식으로 사용 가능하다."
   ]
  },
  {
   "cell_type": "code",
   "execution_count": 115,
   "metadata": {},
   "outputs": [
    {
     "name": "stdout",
     "output_type": "stream",
     "text": [
      "a\n"
     ]
    }
   ],
   "source": [
    "#리턴\n",
    "#자료없이 리턴해보기\n",
    "def test():\n",
    "    print(\"a\")\n",
    "    return\n",
    "    print(\"b\")\n",
    "test()"
   ]
  },
  {
   "cell_type": "code",
   "execution_count": 116,
   "metadata": {},
   "outputs": [
    {
     "name": "stdout",
     "output_type": "stream",
     "text": [
      "100\n"
     ]
    }
   ],
   "source": [
    "#자료와 함께 리턴하기\n",
    "def test2():\n",
    "    return 100\n",
    "value = test2()\n",
    "print(value)"
   ]
  },
  {
   "cell_type": "code",
   "execution_count": 118,
   "metadata": {},
   "outputs": [
    {
     "name": "stdout",
     "output_type": "stream",
     "text": [
      "None\n"
     ]
    }
   ],
   "source": [
    "def test3():\n",
    "    return\n",
    "\n",
    "val2 = test3()\n",
    "print(val2)"
   ]
  },
  {
   "cell_type": "code",
   "execution_count": 122,
   "metadata": {},
   "outputs": [
    {
     "name": "stdout",
     "output_type": "stream",
     "text": [
      "0 to 100: 5050\n",
      "0 to 1000: 500500\n",
      "50 to 100: 3825\n",
      "500 to 1000: 375750\n"
     ]
    }
   ],
   "source": [
    "#범위 내부의 정수를 모두 더하는함수\n",
    "#함수를 선언합니다.\n",
    "def sum_all(start, end):\n",
    "    #변수를 선언합니다.\n",
    "    output = 0\n",
    "    #반복문을 돌려 숫자를 더합니다.\n",
    "    for i in range(start, end +1 ): #n-1이어서 +1을 해줌\n",
    "        output += i\n",
    "    #리턴합니다\n",
    "    return output\n",
    "\n",
    "#함수를 호출합니다.\n",
    "print(\"0 to 100:\", sum_all(0,100))\n",
    "print(\"0 to 1000:\", sum_all(0,1000))\n",
    "print(\"50 to 100:\", sum_all(50,100))\n",
    "print(\"500 to 1000:\", sum_all(500,1000))"
   ]
  },
  {
   "cell_type": "code",
   "execution_count": 135,
   "metadata": {},
   "outputs": [
    {
     "name": "stdout",
     "output_type": "stream",
     "text": [
      "0 to 100: 4951\n",
      "0 to 1000: 499501\n",
      "50 to 100: 3726\n",
      "500 to 1000: 374751\n"
     ]
    }
   ],
   "source": [
    "#범위 내부의 정수를 모두 더하는함수\n",
    "#함수를 선언합니다.\n",
    "def sum_all(start, end):\n",
    "    #변수를 선언합니다.\n",
    "    output = 0\n",
    "    #반복문을 돌려 숫자를 더합니다.\n",
    "    for i in range(start, end  ):\n",
    "        output += i\n",
    "    #리턴합니다\n",
    "    return output\n",
    "\n",
    "#함수를 호출합니다.\n",
    "print(\"0 to 100:\", sum_all(0,100))\n",
    "print(\"0 to 1000:\", sum_all(0,1000))\n",
    "print(\"50 to 100:\", sum_all(50,100))\n",
    "print(\"500 to 1000:\", sum_all(500,1000))"
   ]
  },
  {
   "cell_type": "code",
   "execution_count": 128,
   "metadata": {},
   "outputs": [
    {
     "name": "stdout",
     "output_type": "stream",
     "text": [
      "A. 550\n",
      "B. 5050\n",
      "C. 2550\n"
     ]
    }
   ],
   "source": [
    "def sum_all(start=0, end=100, step=1):\n",
    "    #변수를 선언합니다.\n",
    "    output = 0\n",
    "    #반복문을 돌려 숫자를 더합니다.\n",
    "    for i in range(start, end +1, step  ):\n",
    "        output += i\n",
    "    #리턴합니다\n",
    "    return output\n",
    "\n",
    "print(\"A.\", sum_all(0,100,10))\n",
    "print(\"B.\", sum_all(end=100))\n",
    "print(\"C.\", sum_all(end=100, step=2))"
   ]
  },
  {
   "cell_type": "code",
   "execution_count": 133,
   "metadata": {},
   "outputs": [
    {
     "data": {
      "text/plain": [
       "121"
      ]
     },
     "execution_count": 133,
     "metadata": {},
     "output_type": "execute_result"
    }
   ],
   "source": [
    "def f(x):\n",
    "    x*x+2*x+1\n",
    "f(10)\n",
    "\n"
   ]
  },
  {
   "cell_type": "code",
   "execution_count": 140,
   "metadata": {},
   "outputs": [
    {
     "name": "stdout",
     "output_type": "stream",
     "text": [
      "5: 120\n"
     ]
    }
   ],
   "source": [
    "#함수의 활용\n",
    "#재귀함수 중학 수학시간에 팩토리얼이라는 연산자를 배웁니다\n",
    "# n! = n* (n-1) * (n-2)*...*1 (n부터 1씩 빼면서 다 곱하기)\n",
    "#이러한 팩토리얼은 두가지로 구분할수 있습니다.\n",
    "# 반복문으로 팩토리얼 구하기\n",
    "# 재귀 함수로 팩토리얼 구하기\n",
    "\n",
    "\n",
    "#반복문으로 팩토리얼 구하기\n",
    "def factorial(n):\n",
    "    output = 1\n",
    "    for i in range(1, n + 1):\n",
    "        output *= i\n",
    "    return output\n",
    "print(\"5:\", factorial(5))"
   ]
  },
  {
   "cell_type": "code",
   "execution_count": 141,
   "metadata": {},
   "outputs": [
    {
     "name": "stdout",
     "output_type": "stream",
     "text": [
      "5!: 120\n"
     ]
    }
   ],
   "source": [
    "#재귀 함수로 팩토리얼 구하기\n",
    "#재귀란 자기 자신을 호출하는것\n",
    "# n! = n* (n-1) * (n-2)*...*1\n",
    "#factorial(n) = n * factorial(n-1) (n >=1)\n",
    "#factorial(0) = 1\n",
    "\n",
    "#함수를 선언합니다.\n",
    "def factorial(n):\n",
    "    #n이 0이 아니라면 1을 리턴\n",
    "    if n == 0:\n",
    "        return 1\n",
    "    #n이 0이 아니라면 n*(n-1)!을 리턴\n",
    "    else:\n",
    "        return n* factorial(n-1)\n",
    "#함수를 호출합니다\n",
    "print(\"5!:\", factorial(5))\n",
    "\n",
    "#자원을 최대한 아껴서 코드를 짤쭐 아느냐가 중요.\n"
   ]
  },
  {
   "cell_type": "code",
   "execution_count": 143,
   "metadata": {},
   "outputs": [
    {
     "data": {
      "text/plain": [
       "16"
      ]
     },
     "execution_count": 143,
     "metadata": {},
     "output_type": "execute_result"
    }
   ],
   "source": []
  },
  {
   "cell_type": "code",
   "execution_count": null,
   "metadata": {},
   "outputs": [],
   "source": []
  },
  {
   "cell_type": "code",
   "execution_count": null,
   "metadata": {},
   "outputs": [],
   "source": []
  }
 ],
 "metadata": {
  "kernelspec": {
   "display_name": "python3_7_6",
   "language": "python",
   "name": "py3_7_6"
  },
  "language_info": {
   "codemirror_mode": {
    "name": "ipython",
    "version": 3
   },
   "file_extension": ".py",
   "mimetype": "text/x-python",
   "name": "python",
   "nbconvert_exporter": "python",
   "pygments_lexer": "ipython3",
   "version": "3.7.6"
  }
 },
 "nbformat": 4,
 "nbformat_minor": 4
}
