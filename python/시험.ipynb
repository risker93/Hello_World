{
 "cells": [
  {
   "cell_type": "code",
   "execution_count": 2,
   "metadata": {},
   "outputs": [
    {
     "name": "stdout",
     "output_type": "stream",
     "text": [
      "학점을 입력하세요.2\n"
     ]
    }
   ],
   "source": [
    "#성적표 프로그램\n",
    "\n",
    "score = float(input(\"학점을 입력하세요.\"))\n",
    "\n",
    "if score == 4.5:\n",
    "    print(\"A+\")\n",
    "elif score >= 4.1:\n",
    "    print(\"A\")\n",
    "elif score >= 3.8:\n",
    "    print(\"A-\")\n",
    "elif score >= 3.4:\n",
    "    print(\"B+\")\n"
   ]
  },
  {
   "cell_type": "code",
   "execution_count": 3,
   "metadata": {},
   "outputs": [
    {
     "name": "stdout",
     "output_type": "stream",
     "text": [
      "[0, 4, 16, 36, 64, 100, 144, 196, 256, 324]\n"
     ]
    }
   ],
   "source": [
    "#리스트 내포\n",
    "#0부터 20사이의 짝수를 구한뒤, 제곱해서 새로운 코드를 만들기\n",
    "array = [i*i for i in range(0,20,2)]\n",
    "print(array)"
   ]
  },
  {
   "cell_type": "code",
   "execution_count": 4,
   "metadata": {},
   "outputs": [
    {
     "name": "stdout",
     "output_type": "stream",
     "text": [
      "['사과', '자두', '바나나', '체리']\n"
     ]
    }
   ],
   "source": [
    "array =[\"사과\", \"자두\", \"초콜릿\", \"바나나\", \"체리\"]\n",
    "#array의 요소를 fruit 이라고 할 때 초콜릿이 아닌 fruit 으로 리스트를 재조합 해주세요\n",
    "\n",
    "fruit = [fruit for fruit in array if fruit != \"초콜릿\"]\n",
    "print(fruit)"
   ]
  },
  {
   "cell_type": "code",
   "execution_count": 3,
   "metadata": {},
   "outputs": [
    {
     "name": "stdout",
     "output_type": "stream",
     "text": [
      "[0, 4, 16, 36, 64, 100, 144, 196, 256, 324, 400, 484, 576, 676, 784, 900, 1024, 1156, 1296, 1444, 1600, 1764, 1936, 2116, 2304, 2500, 2704, 2916, 3136, 3364, 3600, 3844, 4096, 4356, 4624, 4900, 5184, 5476, 5776, 6084, 6400, 6724, 7056, 7396, 7744, 8100, 8464, 8836, 9216, 9604]\n"
     ]
    }
   ],
   "source": [
    "array = [\"사과\", \"자두\", \"초콜릿\", \"바나나\", \"체리\"]\n",
    "fru"
   ]
  },
  {
   "cell_type": "code",
   "execution_count": 12,
   "metadata": {},
   "outputs": [
    {
     "name": "stdout",
     "output_type": "stream",
     "text": [
      "5050\n"
     ]
    }
   ],
   "source": [
    "#범위 내부의 정수를 모두 더하는 함수\n",
    "def sum_all(start, end ,):\n",
    "    output = 0\n",
    "    \n",
    "    for i in range(start, end+1):\n",
    "        output = output + i\n",
    "    return output    \n",
    "    \n",
    "print(sum_all(0,100))"
   ]
  },
  {
   "cell_type": "code",
   "execution_count": 14,
   "metadata": {},
   "outputs": [
    {
     "name": "stdout",
     "output_type": "stream",
     "text": [
      "550\n"
     ]
    }
   ],
   "source": [
    "#기본 매개변수와 키워드 매개변수를 활용해 범위의 정수를 더하는 함수\n",
    "def sum_all(start=0,end=100,step=1):\n",
    "    output=0\n",
    "    for i in range(start, end +1 ,step):\n",
    "        output += i\n",
    "    return output\n",
    "\n",
    "print(sum_all(0,100,10))"
   ]
  },
  {
   "cell_type": "code",
   "execution_count": 4,
   "metadata": {},
   "outputs": [
    {
     "name": "stdout",
     "output_type": "stream",
     "text": [
      "5050\n"
     ]
    }
   ],
   "source": [
    "def sum_all(start=0, end =100, step=1):\n",
    "    output = 0\n",
    "    for i in range(start, end+1, step):\n",
    "        output = output +i\n",
    "    return output\n",
    "\n",
    "print(sum_all())"
   ]
  },
  {
   "cell_type": "code",
   "execution_count": 5,
   "metadata": {},
   "outputs": [
    {
     "name": "stdout",
     "output_type": "stream",
     "text": [
      "21\n"
     ]
    }
   ],
   "source": []
  },
  {
   "cell_type": "code",
   "execution_count": null,
   "metadata": {},
   "outputs": [],
   "source": []
  }
 ],
 "metadata": {
  "kernelspec": {
   "display_name": "python3_7_6",
   "language": "python",
   "name": "py3_7_6"
  },
  "language_info": {
   "codemirror_mode": {
    "name": "ipython",
    "version": 3
   },
   "file_extension": ".py",
   "mimetype": "text/x-python",
   "name": "python",
   "nbconvert_exporter": "python",
   "pygments_lexer": "ipython3",
   "version": "3.7.6"
  }
 },
 "nbformat": 4,
 "nbformat_minor": 4
}
