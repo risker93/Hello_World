{
 "cells": [
  {
   "cell_type": "code",
   "execution_count": 131,
   "metadata": {},
   "outputs": [
    {
     "name": "stdout",
     "output_type": "stream",
     "text": [
      "Requirement already satisfied: pillow in c:\\programdata\\anaconda3\\lib\\site-packages (8.0.1)\n"
     ]
    }
   ],
   "source": [
    "!pip install pillow"
   ]
  },
  {
   "cell_type": "code",
   "execution_count": 132,
   "metadata": {},
   "outputs": [],
   "source": [
    "import numpy as np"
   ]
  },
  {
   "cell_type": "code",
   "execution_count": 133,
   "metadata": {},
   "outputs": [
    {
     "name": "stdout",
     "output_type": "stream",
     "text": [
      "PIL 라이브러리 import 완료!\n"
     ]
    }
   ],
   "source": [
    "from PIL import Image\n",
    "import os, glob\n",
    "print(\"PIL 라이브러리 import 완료!\")"
   ]
  },
  {
   "cell_type": "code",
   "execution_count": 134,
   "metadata": {},
   "outputs": [
    {
     "name": "stdout",
     "output_type": "stream",
     "text": [
      "이미지 디렉토리 경로:  ./EIP/expolratory_1/scissor_rock_paper/scissor\n",
      "가위 이미지 resize 완료!\n"
     ]
    }
   ],
   "source": [
    "import os\n",
    "\n",
    "#가위 이미지가 저장된 디렉토리 아래의 모든 jpg 파일을 읽어들여서\n",
    "image_dir_path = \"./EIP/expolratory_1/scissor_rock_paper/scissor\"\n",
    "print(\"이미지 디렉토리 경로: \", image_dir_path)\n",
    "\n",
    "images=glob.glob(image_dir_path+\"/*.jpg\")\n",
    "\n",
    "#파일마다 모두 28x28사이즈로 바꾸어 저장합니다.\n",
    "\n",
    "target_size=(28,28)\n",
    "for img in images:\n",
    "    old_img = Image.open(img)\n",
    "    new_img = old_img.resize(target_size, Image.ANTIALIAS)\n",
    "    new_img.save(img, \"JPEG\")\n",
    "print(\"가위 이미지 resize 완료!\")"
   ]
  },
  {
   "cell_type": "code",
   "execution_count": 135,
   "metadata": {},
   "outputs": [
    {
     "name": "stdout",
     "output_type": "stream",
     "text": [
      "이미지 디렉토리 경로:  ./EIP/expolratory_1/scissor_rock_paper/rock\n",
      "바위 이미지 resize 완료!\n"
     ]
    }
   ],
   "source": [
    "#바위 이미지가 저장된 디렉토리 아래의 모든 jpg파일을 읽어들여서\n",
    "image_dir_path = \"./EIP/expolratory_1/scissor_rock_paper/rock\"\n",
    "print(\"이미지 디렉토리 경로: \", image_dir_path)\n",
    "\n",
    "images=glob.glob(image_dir_path+\"/*.jpg\")\n",
    "\n",
    "#파일마다 모두 28x28사이즈로 바꾸어 저장합니다.\n",
    "\n",
    "target_size=(28,28)\n",
    "for img in images:\n",
    "    old_img = Image.open(img)\n",
    "    new_img = old_img.resize(target_size, Image.ANTIALIAS)\n",
    "    new_img.save(img, \"JPEG\")\n",
    "print(\"바위 이미지 resize 완료!\")"
   ]
  },
  {
   "cell_type": "code",
   "execution_count": 136,
   "metadata": {
    "scrolled": true
   },
   "outputs": [
    {
     "name": "stdout",
     "output_type": "stream",
     "text": [
      "이미지 디렉토리 경로:  ./EIP/expolratory_1/scissor_rock_paper/paper\n",
      "보 이미지 resize 완료!\n"
     ]
    }
   ],
   "source": [
    "#보 이미지가 저장된 디렉토리 아래의 모든 jpg파일을 읽어들여서\n",
    "image_dir_path = \"./EIP/expolratory_1/scissor_rock_paper/paper\"\n",
    "print(\"이미지 디렉토리 경로: \", image_dir_path)\n",
    "\n",
    "images=glob.glob(image_dir_path+\"/*.jpg\")\n",
    "\n",
    "#파일마다 모두 28x28사이즈로 바꾸어 저장합니다.\n",
    "\n",
    "target_size=(28,28)\n",
    "for img in images:\n",
    "    old_img = Image.open(img)\n",
    "    new_img = old_img.resize(target_size, Image.ANTIALIAS)\n",
    "    new_img.save(img, \"JPEG\")\n",
    "print(\"보 이미지 resize 완료!\")"
   ]
  },
  {
   "cell_type": "code",
   "execution_count": 137,
   "metadata": {},
   "outputs": [
    {
     "name": "stdout",
     "output_type": "stream",
     "text": [
      "학습데이터(x_train)의 이미지 개수는 600 입니다.\n"
     ]
    }
   ],
   "source": [
    "def load_data(img_path):\n",
    "#가위:0, 바위:1, 보:2\n",
    "    number_of_data=600 #가위바위보 이미지 개수 총합에 주의하세요.\n",
    "    img_size=28\n",
    "    color=3\n",
    "\n",
    "    #이미지 데이터와 라벨(가위:0, 바위:1, 보:2)데이터를 담을 행렬(matrix) 영역을 생성합니다.\n",
    "    imgs=np.zeros(number_of_data*img_size*img_size*color, dtype= np.int32).reshape(number_of_data, img_size,img_size, color)\n",
    "    labels=np.zeros(number_of_data, dtype=np.int32)\n",
    "\n",
    "    idx=0\n",
    "    for file in glob.iglob(img_path+'/scissor/*.jpg'):\n",
    "        img = np.array(Image.open(file), dtype=np.int32)\n",
    "        imgs[idx, :,:,:]=img #데이터 영역에 이미지 행렬을 복사\n",
    "        labels[idx]=0 #가위:0\n",
    "        idx=idx+1\n",
    "\n",
    "    for file in glob.iglob(img_path+'/rock/*.jpg'):\n",
    "        img = np.array(Image.open(file),dtype=np.int32)\n",
    "        imgs[idx,:,:,:]=img #데이터 영억에 이미지 행렬을 복사\n",
    "        labels[idx]=1 #바위: 1\n",
    "        idx=idx+1\n",
    "\n",
    "    for file in glob.iglob(img_path+'/paper/*.jpg'):\n",
    "        img = np.array(Image.open(file),dtype=np.int32)\n",
    "        imgs[idx,:,:,:]=img \n",
    "        labels[idx]=2 #보: 2\n",
    "        idx=idx+1\n",
    "\n",
    "    print( \"학습데이터(x_train)의 이미지 개수는\", idx,\"입니다.\")\n",
    "    return imgs, labels\n",
    "\n",
    "    \n",
    "image_dir_path = \"./EIP/expolratory_1/scissor_rock_paper\"\n",
    "(x_train, y_train)= load_data(image_dir_path)\n",
    "x_train_norm = x_train/255.0   #입력은 0-1사이의 값으로 정규화\n",
    "\n"
   ]
  },
  {
   "cell_type": "code",
   "execution_count": 138,
   "metadata": {},
   "outputs": [
    {
     "name": "stdout",
     "output_type": "stream",
     "text": [
      "x_train shape: (600, 28, 28, 3)\n",
      "y_train shape: (600,)\n"
     ]
    }
   ],
   "source": [
    "print(\"x_train shape: {}\".format(x_train.shape))\n",
    "print(\"y_train shape: {}\".format(y_train.shape))"
   ]
  },
  {
   "cell_type": "markdown",
   "metadata": {},
   "source": [
    "이미지 불러오기"
   ]
  },
  {
   "cell_type": "code",
   "execution_count": 139,
   "metadata": {},
   "outputs": [
    {
     "name": "stdout",
     "output_type": "stream",
     "text": [
      "라벨:  0\n"
     ]
    },
    {
     "data": {
      "image/png": "[encoded data removed]",
      "text/plain": [
       "<Figure size 432x288 with 1 Axes>"
      ]
     },
     "metadata": {
      "needs_background": "light"
     },
     "output_type": "display_data"
    }
   ],
   "source": [
    "import matplotlib.pyplot as plt\n",
    "plt.imshow(x_train[0])\n",
    "print('라벨: ', y_train[0])"
   ]
  },
  {
   "cell_type": "markdown",
   "metadata": {},
   "source": [
    "딥러닝 네트워크 설계하기"
   ]
  },
  {
   "cell_type": "code",
   "execution_count": 140,
   "metadata": {},
   "outputs": [],
   "source": [
    "import tensorflow as tf\n",
    "from tensorflow import keras\n",
    "\n",
    "import numpy as np\n",
    "import matplotlib.pyplot as plt\n"
   ]
  },
  {
   "cell_type": "code",
   "execution_count": 141,
   "metadata": {},
   "outputs": [
    {
     "name": "stdout",
     "output_type": "stream",
     "text": [
      "Model에 추가된 Layer개수:  7\n"
     ]
    }
   ],
   "source": [
    "model=keras.models.Sequential()\n",
    "\n",
    "#Sequential API는 개발의 자유도는 많이 떨어지지만\n",
    "#매우 간단하게 딥러닝 모델을 만들어낼 수 있는 방법\n",
    "model.add(keras.layers.Conv2D(32, (3,3), activation='relu', input_shape=(28,28,3)))\n",
    "model.add(keras.layers.MaxPool2D((2,2)))\n",
    "model.add(keras.layers.Conv2D(64, (3,3), activation='relu'))\n",
    "model.add(keras.layers.MaxPooling2D((2,2)))\n",
    "model.add(keras.layers.Flatten())\n",
    "model.add(keras.layers.Dense(16, activation='relu'))\n",
    "model.add(keras.layers.Dense(3, activation='softmax'))\n",
    "          \n",
    "print('Model에 추가된 Layer개수: ',len(model.layers))\n",
    "          "
   ]
  },
  {
   "cell_type": "code",
   "execution_count": 142,
   "metadata": {},
   "outputs": [
    {
     "name": "stdout",
     "output_type": "stream",
     "text": [
      "Model: \"sequential_14\"\n",
      "_________________________________________________________________\n",
      "Layer (type)                 Output Shape              Param #   \n",
      "=================================================================\n",
      "conv2d_29 (Conv2D)           (None, 26, 26, 32)        896       \n",
      "_________________________________________________________________\n",
      "max_pooling2d_17 (MaxPooling (None, 13, 13, 32)        0         \n",
      "_________________________________________________________________\n",
      "conv2d_30 (Conv2D)           (None, 11, 11, 64)        18496     \n",
      "_________________________________________________________________\n",
      "max_pooling2d_18 (MaxPooling (None, 5, 5, 64)          0         \n",
      "_________________________________________________________________\n",
      "flatten_14 (Flatten)         (None, 1600)              0         \n",
      "_________________________________________________________________\n",
      "dense_26 (Dense)             (None, 16)                25616     \n",
      "_________________________________________________________________\n",
      "dense_27 (Dense)             (None, 3)                 51        \n",
      "=================================================================\n",
      "Total params: 45,059\n",
      "Trainable params: 45,059\n",
      "Non-trainable params: 0\n",
      "_________________________________________________________________\n"
     ]
    }
   ],
   "source": [
    "model.summary()"
   ]
  },
  {
   "cell_type": "code",
   "execution_count": 143,
   "metadata": {},
   "outputs": [
    {
     "name": "stdout",
     "output_type": "stream",
     "text": [
      "Before Reshape - x_train_norm shape:(600, 28, 28, 3)\n",
      "After Reshape - x_train_reshape shape: (600, 28, 28, 3)\n"
     ]
    }
   ],
   "source": [
    "print(\"Before Reshape - x_train_norm shape:{}\".format(x_train_norm.shape))\n",
    "\n",
    "x_train_reshaped = x_train_norm.reshape(-1, 28, 28, 3)\n",
    "\n",
    "print(\"After Reshape - x_train_reshape shape: {}\".format(x_train_reshaped.shape))\n"
   ]
  },
  {
   "cell_type": "code",
   "execution_count": 144,
   "metadata": {},
   "outputs": [
    {
     "name": "stdout",
     "output_type": "stream",
     "text": [
      "Epoch 1/20\n",
      "19/19 [==============================] - 0s 16ms/step - loss: 1.0791 - accuracy: 0.3800\n",
      "Epoch 2/20\n",
      "19/19 [==============================] - 0s 17ms/step - loss: 0.9890 - accuracy: 0.5817\n",
      "Epoch 3/20\n",
      "19/19 [==============================] - 0s 16ms/step - loss: 0.8532 - accuracy: 0.6450\n",
      "Epoch 4/20\n",
      "19/19 [==============================] - 0s 16ms/step - loss: 0.6781 - accuracy: 0.7217\n",
      "Epoch 5/20\n",
      "19/19 [==============================] - 0s 17ms/step - loss: 0.5406 - accuracy: 0.8000\n",
      "Epoch 6/20\n",
      "19/19 [==============================] - 0s 17ms/step - loss: 0.4280 - accuracy: 0.8500\n",
      "Epoch 7/20\n",
      "19/19 [==============================] - 0s 16ms/step - loss: 0.3621 - accuracy: 0.8700\n",
      "Epoch 8/20\n",
      "19/19 [==============================] - 0s 15ms/step - loss: 0.3162 - accuracy: 0.8817\n",
      "Epoch 9/20\n",
      "19/19 [==============================] - 0s 17ms/step - loss: 0.2695 - accuracy: 0.9033\n",
      "Epoch 10/20\n",
      "19/19 [==============================] - 0s 16ms/step - loss: 0.2119 - accuracy: 0.9333\n",
      "Epoch 11/20\n",
      "19/19 [==============================] - 0s 16ms/step - loss: 0.2081 - accuracy: 0.9250\n",
      "Epoch 12/20\n",
      "19/19 [==============================] - 0s 16ms/step - loss: 0.1885 - accuracy: 0.9400\n",
      "Epoch 13/20\n",
      "19/19 [==============================] - 0s 17ms/step - loss: 0.1437 - accuracy: 0.9650\n",
      "Epoch 14/20\n",
      "19/19 [==============================] - 0s 15ms/step - loss: 0.1191 - accuracy: 0.9700\n",
      "Epoch 15/20\n",
      "19/19 [==============================] - 0s 17ms/step - loss: 0.1271 - accuracy: 0.9567\n",
      "Epoch 16/20\n",
      "19/19 [==============================] - 0s 17ms/step - loss: 0.1206 - accuracy: 0.9617\n",
      "Epoch 17/20\n",
      "19/19 [==============================] - 0s 17ms/step - loss: 0.0973 - accuracy: 0.9683\n",
      "Epoch 18/20\n",
      "19/19 [==============================] - 0s 16ms/step - loss: 0.0750 - accuracy: 0.9850\n",
      "Epoch 19/20\n",
      "19/19 [==============================] - 0s 16ms/step - loss: 0.0656 - accuracy: 0.9917\n",
      "Epoch 20/20\n",
      "19/19 [==============================] - 0s 17ms/step - loss: 0.0697 - accuracy: 0.9800\n"
     ]
    },
    {
     "data": {
      "text/plain": [
       "<tensorflow.python.keras.callbacks.History at 0x21cc58ab3d0>"
      ]
     },
     "execution_count": 144,
     "metadata": {},
     "output_type": "execute_result"
    }
   ],
   "source": [
    "model.compile(optimizer='adam',\n",
    "             loss='sparse_categorical_crossentropy',\n",
    "             metrics=['accuracy'])\n",
    "model.fit(x_train_reshaped, y_train, epochs=20)"
   ]
  },
  {
   "cell_type": "markdown",
   "metadata": {},
   "source": [
    "테스트데이터"
   ]
  },
  {
   "cell_type": "code",
   "execution_count": 145,
   "metadata": {},
   "outputs": [
    {
     "name": "stdout",
     "output_type": "stream",
     "text": [
      "이미지 디렉토리 경로:  ./EIP/expolratory_1/scissor_rock_paper/test/scissor\n",
      "테스트 가위 이미지 resize 완료!\n"
     ]
    }
   ],
   "source": [
    "#테스트 이미지가 저장된 디렉토리 아래의 모든 jpg파일을 읽어들여서\n",
    "image_dir_path = \"./EIP/expolratory_1/scissor_rock_paper/test/scissor\"\n",
    "print(\"이미지 디렉토리 경로: \", image_dir_path)\n",
    "\n",
    "images=glob.glob(image_dir_path+\"/*.jpg\")\n",
    "\n",
    "#파일마다 모두 28x28사이즈로 바꾸어 저장합니다.\n",
    "\n",
    "target_size=(28,28)\n",
    "for img in images:\n",
    "    old_img = Image.open(img)\n",
    "    new_img = old_img.resize(target_size, Image.ANTIALIAS)\n",
    "    new_img.save(img, \"JPEG\")\n",
    "print(\"테스트 가위 이미지 resize 완료!\")"
   ]
  },
  {
   "cell_type": "code",
   "execution_count": 146,
   "metadata": {},
   "outputs": [
    {
     "name": "stdout",
     "output_type": "stream",
     "text": [
      "이미지 디렉토리 경로:  ./EIP/expolratory_1/scissor_rock_paper/test/rock\n",
      "테스트 바위 이미지 resize 완료!\n"
     ]
    }
   ],
   "source": [
    "#테스트 이미지가 저장된 디렉토리 아래의 모든 jpg파일을 읽어들여서\n",
    "image_dir_path = \"./EIP/expolratory_1/scissor_rock_paper/test/rock\"\n",
    "print(\"이미지 디렉토리 경로: \", image_dir_path)\n",
    "\n",
    "images=glob.glob(image_dir_path+\"/*.jpg\")\n",
    "\n",
    "#파일마다 모두 28x28사이즈로 바꾸어 저장합니다.\n",
    "\n",
    "target_size=(28,28)\n",
    "for img in images:\n",
    "    old_img = Image.open(img)\n",
    "    new_img = old_img.resize(target_size, Image.ANTIALIAS)\n",
    "    new_img.save(img, \"JPEG\")\n",
    "print(\"테스트 바위 이미지 resize 완료!\")"
   ]
  },
  {
   "cell_type": "code",
   "execution_count": 147,
   "metadata": {},
   "outputs": [
    {
     "name": "stdout",
     "output_type": "stream",
     "text": [
      "이미지 디렉토리 경로:  ./EIP/expolratory_1/scissor_rock_paper/test/paper\n",
      "테스트 보 이미지 resize 완료!\n"
     ]
    }
   ],
   "source": [
    "#테스트 이미지가 저장된 디렉토리 아래의 모든 jpg파일을 읽어들여서\n",
    "image_dir_path = \"./EIP/expolratory_1/scissor_rock_paper/test/paper\"\n",
    "print(\"이미지 디렉토리 경로: \", image_dir_path)\n",
    "\n",
    "images=glob.glob(image_dir_path+\"/*.jpg\")\n",
    "\n",
    "#파일마다 모두 28x28사이즈로 바꾸어 저장합니다.\n",
    "\n",
    "target_size=(28,28)\n",
    "for img in images:\n",
    "    old_img = Image.open(img)\n",
    "    new_img = old_img.resize(target_size, Image.ANTIALIAS)\n",
    "    new_img.save(img, \"JPEG\")\n",
    "print(\"테스트 보 이미지 resize 완료!\")"
   ]
  },
  {
   "cell_type": "code",
   "execution_count": 148,
   "metadata": {},
   "outputs": [
    {
     "name": "stdout",
     "output_type": "stream",
     "text": [
      "학습데이터(x_test)의 이미지 개수는 30 입니다.\n"
     ]
    }
   ],
   "source": [
    "def load_data(img_path):\n",
    "#가위:0, 바위:1, 보:2\n",
    "    number_of_data=30 #가위바위보 이미지 개수 총합에 주의하세요.\n",
    "    img_size=28\n",
    "    color=3\n",
    "\n",
    "    #이미지 데이터와 라벨(가위:0, 바위:1, 보:2)데이터를 담을 행렬(matrix) 영역을 생성합니다.\n",
    "    imgs=np.zeros(number_of_data*img_size*img_size*color, dtype= np.int32).reshape(number_of_data, img_size,img_size, color)\n",
    "    labels=np.zeros(number_of_data, dtype=np.int32)\n",
    "\n",
    "    idx=0\n",
    "    for file in glob.iglob(img_path+'/scissor/*.jpg'):\n",
    "        img = np.array(Image.open(file), dtype=np.int32)\n",
    "        imgs[idx, :,:,:]=img #데이터 영역에 이미지 행렬을 복사\n",
    "        labels[idx]=0 #가위:0\n",
    "        idx=idx+1\n",
    "\n",
    "    for file in glob.iglob(img_path+'/rock/*.jpg'):\n",
    "        img = np.array(Image.open(file),dtype=np.int32)\n",
    "        imgs[idx,:,:,:]=img #데이터 영억에 이미지 행렬을 복사\n",
    "        labels[idx]=1 #바위: 1\n",
    "        idx=idx+1\n",
    "\n",
    "    for file in glob.iglob(img_path+'/paper/*.jpg'):\n",
    "        img = np.array(Image.open(file),dtype=np.int32)\n",
    "        imgs[idx,:,:,:]=img \n",
    "        labels[idx]=2 #보: 2\n",
    "        idx=idx+1\n",
    "\n",
    "    print( \"학습데이터(x_test)의 이미지 개수는\", idx,\"입니다.\")\n",
    "    return imgs, labels\n",
    "\n",
    "    \n",
    "image_dir_path = \"./EIP/expolratory_1/scissor_rock_paper/test\"\n",
    "(x_test, y_test)= load_data(image_dir_path)\n",
    "x_test_norm = x_test/255.0   #입력은 0-1사이의 값으로 정규화\n"
   ]
  },
  {
   "cell_type": "code",
   "execution_count": 149,
   "metadata": {},
   "outputs": [
    {
     "name": "stdout",
     "output_type": "stream",
     "text": [
      "x_test shape: (30, 28, 28, 3)\n",
      "y_test shape: (30,)\n"
     ]
    }
   ],
   "source": [
    "print(\"x_test shape: {}\".format(x_test.shape))\n",
    "print(\"y_test shape: {}\".format(y_test.shape))"
   ]
  },
  {
   "cell_type": "code",
   "execution_count": 150,
   "metadata": {
    "scrolled": true
   },
   "outputs": [
    {
     "name": "stdout",
     "output_type": "stream",
     "text": [
      "라벨:  0\n"
     ]
    },
    {
     "data": {
      "image/png": "[encoded data removed]",
      "text/plain": [
       "<Figure size 432x288 with 1 Axes>"
      ]
     },
     "metadata": {
      "needs_background": "light"
     },
     "output_type": "display_data"
    }
   ],
   "source": [
    "plt.imshow(x_test[0])\n",
    "print('라벨: ', y_test[0])"
   ]
  },
  {
   "cell_type": "code",
   "execution_count": 151,
   "metadata": {},
   "outputs": [
    {
     "name": "stdout",
     "output_type": "stream",
     "text": [
      "Before Reshape - x_test_norm shape:(30, 28, 28, 3)\n",
      "After Reshape - x_test_reshape shape: (30, 28, 28, 3)\n"
     ]
    }
   ],
   "source": [
    "print(\"Before Reshape - x_test_norm shape:{}\".format(x_test_norm.shape))\n",
    "\n",
    "x_test_reshaped = x_test_norm.reshape(-1, 28, 28, 3)\n",
    "\n",
    "print(\"After Reshape - x_test_reshape shape: {}\".format(x_test_reshaped.shape))\n"
   ]
  },
  {
   "cell_type": "markdown",
   "metadata": {},
   "source": [
    "얼마나 잘 만들었는지 확인하기"
   ]
  },
  {
   "cell_type": "code",
   "execution_count": 152,
   "metadata": {},
   "outputs": [
    {
     "name": "stdout",
     "output_type": "stream",
     "text": [
      "1/1 - 0s - loss: 0.6674 - accuracy: 0.7000\n",
      "test_loss: 0.6673905849456787\n",
      "test_accuracy:0.699999988079071\n"
     ]
    }
   ],
   "source": [
    "test_loss, test_accuracy = model.evaluate(x_test_reshaped, y_test, verbose=2)\n",
    "\n",
    "print(\"test_loss: {}\".format(test_loss))\n",
    "print(\"test_accuracy:{}\".format(test_accuracy))"
   ]
  },
  {
   "cell_type": "markdown",
   "metadata": {},
   "source": [
    "더 좋은 네트워크 만들어 보기"
   ]
  },
  {
   "cell_type": "code",
   "execution_count": 161,
   "metadata": {},
   "outputs": [
    {
     "name": "stdout",
     "output_type": "stream",
     "text": [
      "Model: \"sequential_23\"\n",
      "_________________________________________________________________\n",
      "Layer (type)                 Output Shape              Param #   \n",
      "=================================================================\n",
      "conv2d_47 (Conv2D)           (None, 24, 24, 32)        2432      \n",
      "_________________________________________________________________\n",
      "max_pooling2d_27 (MaxPooling (None, 12, 12, 32)        0         \n",
      "_________________________________________________________________\n",
      "conv2d_48 (Conv2D)           (None, 8, 8, 64)          51264     \n",
      "_________________________________________________________________\n",
      "flatten_23 (Flatten)         (None, 4096)              0         \n",
      "_________________________________________________________________\n",
      "dense_44 (Dense)             (None, 16)                65552     \n",
      "_________________________________________________________________\n",
      "dense_45 (Dense)             (None, 3)                 51        \n",
      "=================================================================\n",
      "Total params: 119,299\n",
      "Trainable params: 119,299\n",
      "Non-trainable params: 0\n",
      "_________________________________________________________________\n",
      "Epoch 1/20\n",
      "19/19 [==============================] - 0s 19ms/step - loss: 1.0291 - accuracy: 0.4633\n",
      "Epoch 2/20\n",
      "19/19 [==============================] - 0s 19ms/step - loss: 0.7026 - accuracy: 0.7250\n",
      "Epoch 3/20\n",
      "19/19 [==============================] - 0s 20ms/step - loss: 0.4718 - accuracy: 0.8150\n",
      "Epoch 4/20\n",
      "19/19 [==============================] - 0s 16ms/step - loss: 0.3373 - accuracy: 0.8817\n",
      "Epoch 5/20\n",
      "19/19 [==============================] - 0s 20ms/step - loss: 0.2436 - accuracy: 0.9150\n",
      "Epoch 6/20\n",
      "19/19 [==============================] - 0s 15ms/step - loss: 0.1740 - accuracy: 0.9317\n",
      "Epoch 7/20\n",
      "19/19 [==============================] - 0s 17ms/step - loss: 0.1212 - accuracy: 0.9733\n",
      "Epoch 8/20\n",
      "19/19 [==============================] - 0s 18ms/step - loss: 0.0947 - accuracy: 0.9750\n",
      "Epoch 9/20\n",
      "19/19 [==============================] - 0s 18ms/step - loss: 0.0649 - accuracy: 0.9883\n",
      "Epoch 10/20\n",
      "19/19 [==============================] - 0s 17ms/step - loss: 0.0442 - accuracy: 0.9950\n",
      "Epoch 11/20\n",
      "19/19 [==============================] - 0s 16ms/step - loss: 0.0362 - accuracy: 0.9967\n",
      "Epoch 12/20\n",
      "19/19 [==============================] - 0s 16ms/step - loss: 0.0379 - accuracy: 0.9950\n",
      "Epoch 13/20\n",
      "19/19 [==============================] - 0s 18ms/step - loss: 0.0271 - accuracy: 0.9983\n",
      "Epoch 14/20\n",
      "19/19 [==============================] - 0s 17ms/step - loss: 0.0126 - accuracy: 1.0000\n",
      "Epoch 15/20\n",
      "19/19 [==============================] - 0s 18ms/step - loss: 0.0110 - accuracy: 1.0000\n",
      "Epoch 16/20\n",
      "19/19 [==============================] - 0s 16ms/step - loss: 0.0083 - accuracy: 1.0000\n",
      "Epoch 17/20\n",
      "19/19 [==============================] - 0s 17ms/step - loss: 0.0053 - accuracy: 1.0000\n",
      "Epoch 18/20\n",
      "19/19 [==============================] - 0s 18ms/step - loss: 0.0045 - accuracy: 1.0000\n",
      "Epoch 19/20\n",
      "19/19 [==============================] - 0s 15ms/step - loss: 0.0036 - accuracy: 1.0000\n",
      "Epoch 20/20\n",
      "19/19 [==============================] - 0s 18ms/step - loss: 0.0034 - accuracy: 1.0000\n",
      "1/1 - 0s - loss: 2.4825 - accuracy: 0.6000\n",
      "test_loss: 2.4824604988098145\n",
      "test_accuracy: 0.6000000238418579\n"
     ]
    }
   ],
   "source": [
    "#바꿔 볼 수 있는 하이퍼 파라미터들\n",
    "n_channel_1 =32\n",
    "n_channel_2 =64\n",
    "n_dense=16\n",
    "n_train_epoch=20\n",
    "\n",
    "model=keras.models.Sequential()\n",
    "\n",
    "model.add(keras.layers.Conv2D(n_channel_1, (5,5), activation='relu', input_shape=(28,28,3)))\n",
    "model.add(keras.layers.MaxPool2D(2,2))\n",
    "model.add(keras.layers.Conv2D(n_channel_2,(5,5), activation='relu'))\n",
    "model.add(keras.layers.Flatten())\n",
    "model.add(keras.layers.Dense(n_dense, activation='relu'))\n",
    "model.add(keras.layers.Dense(3, activation='softmax'))\n",
    "\n",
    "model.summary()\n",
    "\n",
    "model.compile(optimizer='adam',\n",
    "              loss='sparse_categorical_crossentropy',\n",
    "              metrics=['accuracy'])\n",
    "\n",
    "#모델훈련\n",
    "model.fit(x_train_reshaped, y_train, epochs=n_train_epoch)\n",
    "\n",
    "#모델 시험\n",
    "test_loss, test_accuracy = model.evaluate(x_test_reshaped,y_test,verbose=2)\n",
    "print(\"test_loss: {}\".format(test_loss))\n",
    "print(\"test_accuracy: {}\".format(test_accuracy))"
   ]
  },
  {
   "cell_type": "code",
   "execution_count": null,
   "metadata": {},
   "outputs": [],
   "source": []
  }
 ],
 "metadata": {
  "kernelspec": {
   "display_name": "Python 3",
   "language": "python",
   "name": "python3"
  },
  "language_info": {
   "codemirror_mode": {
    "name": "ipython",
    "version": 3
   },
   "file_extension": ".py",
   "mimetype": "text/x-python",
   "name": "python",
   "nbconvert_exporter": "python",
   "pygments_lexer": "ipython3",
   "version": "3.8.5"
  },
  "vp": {
   "base_numbering": 1,
   "nav_menu": {},
   "number_sections": true,
   "sideBar": true,
   "title_cell": "VisualPython",
   "title_sidebar": "VisualPython",
   "vpPosition": {
    "height": "calc(100% - 180px)",
    "right": "10px",
    "top": "110px",
    "width": "50%"
   },
   "vp_cell": false,
   "vp_section_display": true,
   "vp_window_display": false
  }
 },
 "nbformat": 4,
 "nbformat_minor": 4
}
