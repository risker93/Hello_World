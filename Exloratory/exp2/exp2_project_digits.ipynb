{
  "nbformat": 4,
  "nbformat_minor": 0,
  "metadata": {
    "colab": {
      "name": "exp2_project_digits.ipynb",
      "provenance": [],
      "collapsed_sections": []
    },
    "kernelspec": {
      "name": "python3",
      "display_name": "Python 3"
    },
    "language_info": {
      "name": "python"
    }
  },
  "cells": [
    {
      "cell_type": "code",
      "metadata": {
        "id": "Z3OXxfAN77rK"
      },
      "source": [
        "#손글씨를 분류해보기\n",
        "# 1. 필요한 모듈 import 하기\n",
        "from sklearn.datasets import load_digits\n",
        "from sklearn.model_selection import train_test_split\n",
        "from sklearn.metrics import classification_report"
      ],
      "execution_count": 1,
      "outputs": []
    },
    {
      "cell_type": "code",
      "metadata": {
        "id": "mSU0HbXB8bZg"
      },
      "source": [
        "digits = load_digits() \n",
        "#load_digits() 함수를 사용해 데이터를 가져온다."
      ],
      "execution_count": 22,
      "outputs": []
    },
    {
      "cell_type": "code",
      "metadata": {
        "colab": {
          "base_uri": "https://localhost:8080/"
        },
        "id": "v3MRH0LY8rW4",
        "outputId": "59bfe214-8609-47d3-fd1a-26b920f39586"
      },
      "source": [
        "print(type(dir(digits)))\n"
      ],
      "execution_count": 12,
      "outputs": [
        {
          "output_type": "stream",
          "text": [
            "<class 'list'>\n"
          ],
          "name": "stdout"
        }
      ]
    },
    {
      "cell_type": "code",
      "metadata": {
        "colab": {
          "base_uri": "https://localhost:8080/"
        },
        "id": "Kw1LLBnz8ruC",
        "outputId": "ae11bbb6-c694-48c5-ae11-fe7872a25e8a"
      },
      "source": [
        "digits.keys()\n",
        "#키를 출력해본다."
      ],
      "execution_count": 23,
      "outputs": [
        {
          "output_type": "execute_result",
          "data": {
            "text/plain": [
              "dict_keys(['data', 'target', 'target_names', 'images', 'DESCR'])"
            ]
          },
          "metadata": {
            "tags": []
          },
          "execution_count": 23
        }
      ]
    },
    {
      "cell_type": "code",
      "metadata": {
        "id": "V-yhhBY_9itR"
      },
      "source": [
        "digits_data = digits['data']\n",
        "#데이터를 따로 변수에 담아준다."
      ],
      "execution_count": 24,
      "outputs": []
    },
    {
      "cell_type": "code",
      "metadata": {
        "colab": {
          "base_uri": "https://localhost:8080/"
        },
        "id": "fgEsBxj49tK0",
        "outputId": "7b59a81c-8bb7-48c4-b74a-dfce55b5793f"
      },
      "source": [
        "print(digits_data.shape)\n",
        "#데이터의 형태를 본다. 1797개이고 64개의 속성을 가지고 있다."
      ],
      "execution_count": 25,
      "outputs": [
        {
          "output_type": "stream",
          "text": [
            "(1797, 64)\n"
          ],
          "name": "stdout"
        }
      ]
    },
    {
      "cell_type": "code",
      "metadata": {
        "colab": {
          "base_uri": "https://localhost:8080/"
        },
        "id": "RYUlnAOw9xpD",
        "outputId": "87de2969-c3a0-4747-c30f-ae4287b03df4"
      },
      "source": [
        "digits_data[0]\n",
        "#출력을 해보니  64개의 숫자로 이루어진 배열이다"
      ],
      "execution_count": 26,
      "outputs": [
        {
          "output_type": "execute_result",
          "data": {
            "text/plain": [
              "array([ 0.,  0.,  5., 13.,  9.,  1.,  0.,  0.,  0.,  0., 13., 15., 10.,\n",
              "       15.,  5.,  0.,  0.,  3., 15.,  2.,  0., 11.,  8.,  0.,  0.,  4.,\n",
              "       12.,  0.,  0.,  8.,  8.,  0.,  0.,  5.,  8.,  0.,  0.,  9.,  8.,\n",
              "        0.,  0.,  4., 11.,  0.,  1., 12.,  7.,  0.,  0.,  2., 14.,  5.,\n",
              "       10., 12.,  0.,  0.,  0.,  0.,  6., 13., 10.,  0.,  0.,  0.])"
            ]
          },
          "metadata": {
            "tags": []
          },
          "execution_count": 26
        }
      ]
    },
    {
      "cell_type": "code",
      "metadata": {
        "colab": {
          "base_uri": "https://localhost:8080/",
          "height": 248
        },
        "id": "T_xs3abj91Sc",
        "outputId": "b38e62a2-280b-430c-f75b-b15b1cfa3ab8"
      },
      "source": [
        "#어떻게 생겼나 확인해 보자\n",
        "import matplotlib.pyplot as plt\n",
        "%matplotlib inline \n",
        "#역할은 notebook을 실행한 브라우저에서 바로 그림을 볼 수 있게 해주는 것\n",
        "\n",
        "plt.imshow(digits.data[0].reshape(8,8), cmap='gray') \n",
        "#일렬로 펴진 64개 데이터를 8, 8 reshape\n",
        "plt.axis('off')\n",
        "plt.show()\n",
        "\n",
        "#0처럼 생긴 이미지가 보인다."
      ],
      "execution_count": 30,
      "outputs": [
        {
          "output_type": "display_data",
          "data": {
            "image/png": "[encoded data removed]",
            "text/plain": [
              "<Figure size 432x288 with 1 Axes>"
            ]
          },
          "metadata": {
            "tags": [],
            "needs_background": "light"
          }
        }
      ]
    },
    {
      "cell_type": "code",
      "metadata": {
        "colab": {
          "base_uri": "https://localhost:8080/",
          "height": 207
        },
        "id": "T38ur3Ir-uw1",
        "outputId": "74dbd736-9c91-4fca-8e1b-217c0c1dd52a"
      },
      "source": [
        "#여러개의 이미지를 한번에 확인해보자.\n",
        "for i in range(10):\n",
        "  plt.subplot(2, 5, i+1)\n",
        "  plt.imshow(digits.data[i].reshape(8,8), cmap='gray')\n",
        "  plt.axis('off')\n",
        "plt.show()\n",
        "\n",
        "#0~9까지 숫자가 출력됨"
      ],
      "execution_count": 32,
      "outputs": [
        {
          "output_type": "display_data",
          "data": {
            "image/png": "[encoded data removed]",
            "text/plain": [
              "<Figure size 432x288 with 10 Axes>"
            ]
          },
          "metadata": {
            "tags": [],
            "needs_background": "light"
          }
        }
      ]
    },
    {
      "cell_type": "code",
      "metadata": {
        "colab": {
          "base_uri": "https://localhost:8080/"
        },
        "id": "g2IbKky8CiqQ",
        "outputId": "3435fb19-c35c-4e41-e4e5-a33f0c948f9d"
      },
      "source": [
        "print(digits.target_names)\n",
        "#타겟네임, 즉 y(정답)를 출력해보니 0~9까지의 숫자다"
      ],
      "execution_count": 37,
      "outputs": [
        {
          "output_type": "stream",
          "text": [
            "[0 1 2 3 4 5 6 7 8 9]\n"
          ],
          "name": "stdout"
        }
      ]
    },
    {
      "cell_type": "code",
      "metadata": {
        "colab": {
          "base_uri": "https://localhost:8080/"
        },
        "id": "mel04kV4Benz",
        "outputId": "7370c741-7f9b-4605-c67b-22e60e32b83c"
      },
      "source": [
        "#target 데이터를 확인\n",
        "#라벨로 지정 (y, 답).\n",
        "digits_label = digits.target\n",
        "print(digits_label.shape)\n",
        "digits_label[:20]\n",
        "#타겟을 가져와서 변수에 넣고 쉐잎을 출력해보니 1797개의 데이터란다.\n",
        "#이 타겟을 넣은 변수를 처음부터 20개를 찍어보니 0~19 \n",
        "#0~9 , 0~9이렇게 나온다."
      ],
      "execution_count": 39,
      "outputs": [
        {
          "output_type": "stream",
          "text": [
            "(1797,)\n"
          ],
          "name": "stdout"
        },
        {
          "output_type": "execute_result",
          "data": {
            "text/plain": [
              "array([0, 1, 2, 3, 4, 5, 6, 7, 8, 9, 0, 1, 2, 3, 4, 5, 6, 7, 8, 9])"
            ]
          },
          "metadata": {
            "tags": []
          },
          "execution_count": 39
        }
      ]
    },
    {
      "cell_type": "code",
      "metadata": {
        "id": "zWne4nmsDple"
      },
      "source": [
        "#DESCR 에는 데이터셋의 설명이 담겨있다 한번 보자\n",
        "print(digits.DESCR)"
      ],
      "execution_count": null,
      "outputs": []
    },
    {
      "cell_type": "code",
      "metadata": {
        "colab": {
          "base_uri": "https://localhost:8080/"
        },
        "id": "cX9MGGlfB73s",
        "outputId": "7c7dbebc-2340-4595-c361-68bec5b4ac0e"
      },
      "source": [
        "#digits_data와 digits_label (문제와 답)으로 모델을 학습하고 정확도를 확인해 본다.\n",
        "#데이터를 학습용 문제, 정답/ 검증용, 문제,정답 으로 나눈다 \n",
        "X_train, X_test, y_train, y_test = train_test_split(digits_data,\n",
        "                                                    digits_label,\n",
        "                                                    test_size=0.2,\n",
        "                                                    random_state=3)\n",
        "\n",
        "#디시전트리분류, 정확도점수 임포트\n",
        "from sklearn.tree import DecisionTreeClassifier\n",
        "from sklearn.metrics import accuracy_score\n",
        "\n",
        "#DecisionTree를 사용\n",
        "decision_tree = DecisionTreeClassifier(random_state=3) #빈 모델을 만들고\n",
        "decision_tree.fit(X_train, y_train) #학습용 문제지와 정답을 주고 핏\n",
        "y_pred = decision_tree.predict(X_test) #검증용 문제지를 넣고 예측답안을 만듬.\n",
        "\n",
        "accuracy = accuracy_score(y_test, y_pred) #실제 답안과, 예측 답안을 넣고 비교\n",
        "accuracy\n",
        "\n",
        "#정확도는 86퍼가 나왔다."
      ],
      "execution_count": 71,
      "outputs": [
        {
          "output_type": "execute_result",
          "data": {
            "text/plain": [
              "0.8666666666666667"
            ]
          },
          "metadata": {
            "tags": []
          },
          "execution_count": 71
        }
      ]
    },
    {
      "cell_type": "code",
      "metadata": {
        "colab": {
          "base_uri": "https://localhost:8080/"
        },
        "id": "asdn-yPVFlAE",
        "outputId": "ee1ef20f-4d63-44b1-e708-3120d4a4ee0c"
      },
      "source": [
        "#각 지표를 한번에 확인해 본다\n",
        "\n",
        "from sklearn.metrics import classification_report\n",
        "print(classification_report(y_test, y_pred))"
      ],
      "execution_count": 72,
      "outputs": [
        {
          "output_type": "stream",
          "text": [
            "              precision    recall  f1-score   support\n",
            "\n",
            "           0       0.96      0.94      0.95        47\n",
            "           1       0.83      0.86      0.85        35\n",
            "           2       0.81      0.84      0.83        31\n",
            "           3       0.84      0.90      0.87        40\n",
            "           4       0.90      0.82      0.86        44\n",
            "           5       0.91      0.79      0.85        38\n",
            "           6       0.85      0.92      0.88        25\n",
            "           7       0.91      0.93      0.92        42\n",
            "           8       0.86      0.83      0.84        29\n",
            "           9       0.75      0.83      0.79        29\n",
            "\n",
            "    accuracy                           0.87       360\n",
            "   macro avg       0.86      0.86      0.86       360\n",
            "weighted avg       0.87      0.87      0.87       360\n",
            "\n"
          ],
          "name": "stdout"
        }
      ]
    },
    {
      "cell_type": "code",
      "metadata": {
        "colab": {
          "base_uri": "https://localhost:8080/"
        },
        "id": "q5i9sptLHA8L",
        "outputId": "97a8b094-951e-42b6-896f-e20e8115cac4"
      },
      "source": [
        "#랜덤포레스트 사용해보기.\n",
        "from sklearn.ensemble import RandomForestClassifier\n",
        "X_train, X_test, y_train, y_test = train_test_split(\n",
        "    digits_data,\n",
        "    digits_label,\n",
        "    test_size=0.2,\n",
        "    random_state=3\n",
        ")\n",
        "\n",
        "random_forest = RandomForestClassifier(random_state=3)\n",
        "random_forest.fit(X_train, y_train)\n",
        "y_pred = random_forest.predict(X_test)\n",
        "\n",
        "print(classification_report(y_test, y_pred))\n",
        "accuracy = accuracy_score(y_test, y_pred)\n",
        "accuracy\n",
        "#정확도는 96퍼가 나왔다."
      ],
      "execution_count": 56,
      "outputs": [
        {
          "output_type": "stream",
          "text": [
            "              precision    recall  f1-score   support\n",
            "\n",
            "           0       1.00      1.00      1.00        47\n",
            "           1       1.00      1.00      1.00        35\n",
            "           2       1.00      1.00      1.00        31\n",
            "           3       1.00      0.95      0.97        40\n",
            "           4       0.98      0.95      0.97        44\n",
            "           5       0.97      0.89      0.93        38\n",
            "           6       1.00      0.96      0.98        25\n",
            "           7       0.93      1.00      0.97        42\n",
            "           8       0.88      0.97      0.92        29\n",
            "           9       0.90      0.93      0.92        29\n",
            "\n",
            "    accuracy                           0.97       360\n",
            "   macro avg       0.97      0.97      0.96       360\n",
            "weighted avg       0.97      0.97      0.97       360\n",
            "\n"
          ],
          "name": "stdout"
        },
        {
          "output_type": "execute_result",
          "data": {
            "text/plain": [
              "0.9666666666666667"
            ]
          },
          "metadata": {
            "tags": []
          },
          "execution_count": 56
        }
      ]
    },
    {
      "cell_type": "code",
      "metadata": {
        "colab": {
          "base_uri": "https://localhost:8080/"
        },
        "id": "0CmFkviNJXvm",
        "outputId": "7108e3c6-cd67-4602-d194-6554f3edc367"
      },
      "source": [
        "#서포트 백터 머신을 사용해보자.\n",
        "from sklearn import svm\n",
        "\n",
        "svm_model = svm.SVC()\n",
        "print(svm_model._estimator_type)\n"
      ],
      "execution_count": 57,
      "outputs": [
        {
          "output_type": "stream",
          "text": [
            "classifier\n"
          ],
          "name": "stdout"
        }
      ]
    },
    {
      "cell_type": "code",
      "metadata": {
        "colab": {
          "base_uri": "https://localhost:8080/"
        },
        "id": "OdXcndwaJ1oE",
        "outputId": "0497c8a8-a702-4bf0-c152-e67079a3181c"
      },
      "source": [
        "svm_model.fit(X_train, y_train)\n",
        "y_pred = svm_model.predict(X_test)\n",
        "\n",
        "print(classification_report(y_test, y_pred))\n",
        "accuracy = accuracy_score(y_test, y_pred)\n",
        "accuracy\n",
        "#99퍼센트!"
      ],
      "execution_count": 59,
      "outputs": [
        {
          "output_type": "stream",
          "text": [
            "              precision    recall  f1-score   support\n",
            "\n",
            "           0       1.00      1.00      1.00        47\n",
            "           1       1.00      1.00      1.00        35\n",
            "           2       1.00      1.00      1.00        31\n",
            "           3       1.00      1.00      1.00        40\n",
            "           4       1.00      0.98      0.99        44\n",
            "           5       1.00      0.97      0.99        38\n",
            "           6       1.00      1.00      1.00        25\n",
            "           7       0.98      1.00      0.99        42\n",
            "           8       0.97      1.00      0.98        29\n",
            "           9       0.97      0.97      0.97        29\n",
            "\n",
            "    accuracy                           0.99       360\n",
            "   macro avg       0.99      0.99      0.99       360\n",
            "weighted avg       0.99      0.99      0.99       360\n",
            "\n"
          ],
          "name": "stdout"
        },
        {
          "output_type": "execute_result",
          "data": {
            "text/plain": [
              "0.9916666666666667"
            ]
          },
          "metadata": {
            "tags": []
          },
          "execution_count": 59
        }
      ]
    },
    {
      "cell_type": "code",
      "metadata": {
        "colab": {
          "base_uri": "https://localhost:8080/"
        },
        "id": "arSCND4-KMUx",
        "outputId": "1ce7198e-45b0-4791-d6ba-e4da8b99b0f3"
      },
      "source": [
        "#SGD Classifier 모델을 사용\n",
        "from sklearn.linear_model import SGDClassifier\n",
        "\n",
        "sgd_model = SGDClassifier()\n",
        "print(sgd_model._estimator_type)\n",
        "\n"
      ],
      "execution_count": 60,
      "outputs": [
        {
          "output_type": "stream",
          "text": [
            "classifier\n"
          ],
          "name": "stdout"
        }
      ]
    },
    {
      "cell_type": "code",
      "metadata": {
        "colab": {
          "base_uri": "https://localhost:8080/"
        },
        "id": "PjRQA1sPKyO2",
        "outputId": "650cd749-03ae-4776-da90-2e78f9e96ea5"
      },
      "source": [
        "sgd_model.fit(X_train, y_train)\n",
        "y_pred = sgd_model.predict(X_test)\n",
        "print(classification_report(y_test, y_pred))\n",
        "accuracy = accuracy_score(y_test, y_pred)\n",
        "accuracy\n",
        "#정확도는 94"
      ],
      "execution_count": 62,
      "outputs": [
        {
          "output_type": "stream",
          "text": [
            "              precision    recall  f1-score   support\n",
            "\n",
            "           0       1.00      1.00      1.00        47\n",
            "           1       0.92      0.94      0.93        35\n",
            "           2       1.00      1.00      1.00        31\n",
            "           3       0.98      1.00      0.99        40\n",
            "           4       1.00      0.89      0.94        44\n",
            "           5       0.97      0.89      0.93        38\n",
            "           6       0.96      0.96      0.96        25\n",
            "           7       0.93      1.00      0.97        42\n",
            "           8       0.80      0.97      0.88        29\n",
            "           9       0.92      0.83      0.87        29\n",
            "\n",
            "    accuracy                           0.95       360\n",
            "   macro avg       0.95      0.95      0.95       360\n",
            "weighted avg       0.95      0.95      0.95       360\n",
            "\n"
          ],
          "name": "stdout"
        },
        {
          "output_type": "execute_result",
          "data": {
            "text/plain": [
              "0.95"
            ]
          },
          "metadata": {
            "tags": []
          },
          "execution_count": 62
        }
      ]
    },
    {
      "cell_type": "code",
      "metadata": {
        "colab": {
          "base_uri": "https://localhost:8080/"
        },
        "id": "0TgdwBj-LIHy",
        "outputId": "fdfcc62d-8b27-41b9-e56a-188488c5d07f"
      },
      "source": [
        "#Logistic Regression을 사용\n",
        "from sklearn.linear_model import LogisticRegression\n",
        "logistic_model = LogisticRegression()\n",
        "print(logistic_model._estimator_type)"
      ],
      "execution_count": 65,
      "outputs": [
        {
          "output_type": "stream",
          "text": [
            "classifier\n"
          ],
          "name": "stdout"
        }
      ]
    },
    {
      "cell_type": "code",
      "metadata": {
        "colab": {
          "base_uri": "https://localhost:8080/"
        },
        "id": "qZEHWij2Lgsv",
        "outputId": "8b94a23f-b602-4cf4-c5bb-3a825fe03495"
      },
      "source": [
        "logistic_model.fit(X_train, y_train)\n",
        "y_pred = logistic_model.predict(X_test)\n",
        "classification_report(y_test, y_pred)\n",
        "accuracy = accuracy_score(y_test, y_pred)\n",
        "accuracy\n",
        "#95퍼\n"
      ],
      "execution_count": 68,
      "outputs": [
        {
          "output_type": "stream",
          "text": [
            "/usr/local/lib/python3.7/dist-packages/sklearn/linear_model/_logistic.py:940: ConvergenceWarning: lbfgs failed to converge (status=1):\n",
            "STOP: TOTAL NO. of ITERATIONS REACHED LIMIT.\n",
            "\n",
            "Increase the number of iterations (max_iter) or scale the data as shown in:\n",
            "    https://scikit-learn.org/stable/modules/preprocessing.html\n",
            "Please also refer to the documentation for alternative solver options:\n",
            "    https://scikit-learn.org/stable/modules/linear_model.html#logistic-regression\n",
            "  extra_warning_msg=_LOGISTIC_SOLVER_CONVERGENCE_MSG)\n"
          ],
          "name": "stderr"
        },
        {
          "output_type": "execute_result",
          "data": {
            "text/plain": [
              "0.9527777777777777"
            ]
          },
          "metadata": {
            "tags": []
          },
          "execution_count": 68
        }
      ]
    },
    {
      "cell_type": "markdown",
      "metadata": {
        "id": "eMY9xndjNqCE"
      },
      "source": [
        "Accuracy : 전체 대비 정확하게 예측한 개수의 비율\n",
        "\n",
        "\n",
        "Precision : Positive라고 예측한 것 중에서 얼마나 잘 맞았는지 비율\n",
        "\n",
        "\n",
        "Recall : 실제 Positive한 것 중에서 얼마나 잘 예측하였는지 비율\n",
        "\n",
        "\n",
        "F1 score : 두 지표를 평균값을 통해 하나의 값으로 나타내는 방법"
      ]
    },
    {
      "cell_type": "markdown",
      "metadata": {
        "id": "A08-3rwYPGKC"
      },
      "source": [
        "f1 스코어로는 확인이 어렵다 \n",
        "0~9까지 총 10개의 숫자를 분류 하는것이기 때문에 전체 데이터 대비 정확하게 예측한 확율이 높은 Accuracy를 선택, \n",
        "svm이 가장 높은 정확도를 기록"
      ]
    },
    {
      "cell_type": "code",
      "metadata": {
        "id": "pj3U7aOWP2-4"
      },
      "source": [
        ""
      ],
      "execution_count": null,
      "outputs": []
    }
  ]
}
