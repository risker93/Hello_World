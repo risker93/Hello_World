{
 "cells": [
  {
   "cell_type": "code",
   "execution_count": 8,
   "metadata": {},
   "outputs": [
    {
     "name": "stdout",
     "output_type": "stream",
     "text": [
      "*\n",
      "**\n",
      "***\n",
      "****\n",
      "*****\n"
     ]
    }
   ],
   "source": [
    "n=5\n",
    "s='*'\n",
    "for i in range(n):\n",
    "    print(s)\n",
    "    s = s+'*'"
   ]
  },
  {
   "cell_type": "code",
   "execution_count": 7,
   "metadata": {},
   "outputs": [
    {
     "name": "stdout",
     "output_type": "stream",
     "text": [
      "\n",
      "*\n",
      "**\n",
      "***\n",
      "****\n",
      "*****\n"
     ]
    }
   ],
   "source": [
    "n = 5\n",
    "for i in range(n+1):\n",
    "    print(\"*\"*i)\n",
    "    "
   ]
  },
  {
   "cell_type": "code",
   "execution_count": 14,
   "metadata": {},
   "outputs": [
    {
     "name": "stdout",
     "output_type": "stream",
     "text": [
      "      \n",
      "     *\n",
      "    **\n",
      "   ***\n",
      "  ****\n",
      " *****\n"
     ]
    }
   ],
   "source": [
    "n = 5\n",
    "for i in range(n+1):\n",
    "    print(\" \"*(n-i), \"*\"*i)"
   ]
  },
  {
   "cell_type": "code",
   "execution_count": 36,
   "metadata": {},
   "outputs": [
    {
     "name": "stdout",
     "output_type": "stream",
     "text": [
      "     *\n",
      "    ***\n",
      "   *****\n",
      "  *******\n",
      " *********\n"
     ]
    }
   ],
   "source": [
    "n = 10\n",
    "for i in range(n+1):\n",
    "    if i%2 == 1:\n",
    "        print(\" \"*int((n-i)/2), \"*\"*i)"
   ]
  },
  {
   "cell_type": "markdown",
   "metadata": {},
   "source": [
    "두 정수 a, b가 주어졌을 때 a와 b 사이에 속한 모든 정수의 합을 리턴하는 함수, solution을 완성하세요.\n",
    "예를 들어 a = 3, b = 5인 경우, 3 + 4 + 5 = 12이므로 12를 리턴합니다.\n",
    "\n",
    "제한 조건\n",
    "a와 b가 같은 경우는 둘 중 아무 수나 리턴하세요.\n",
    "a와 b는 -10,000,000 이상 10,000,000 이하인 정수입니다.\n",
    "a와 b의 대소관계는 정해져있지 않습니다."
   ]
  },
  {
   "cell_type": "code",
   "execution_count": 61,
   "metadata": {},
   "outputs": [
    {
     "name": "stdout",
     "output_type": "stream",
     "text": [
      "[3, 5]\n"
     ]
    }
   ],
   "source": [
    "def solution(a, b):\n",
    "    answer = 0\n",
    "    li = [a, b]\n",
    "    li.sort()\n",
    "    \n",
    "    for i in li:\n",
    "        \n",
    "        \n",
    "    return answer\n",
    "\n",
    "\n",
    "solution(5,3)"
   ]
  },
  {
   "cell_type": "code",
   "execution_count": 65,
   "metadata": {},
   "outputs": [
    {
     "data": {
      "text/plain": [
       "3"
      ]
     },
     "execution_count": 65,
     "metadata": {},
     "output_type": "execute_result"
    }
   ],
   "source": [
    "def solution(a, b):\n",
    "    answer = 0\n",
    "    if a > b:\n",
    "        for i in range(b, a+1):\n",
    "            answer = answer + i\n",
    "        return answer\n",
    "    elif a < b:\n",
    "        for i in range(a, b+1):\n",
    "            answer = answer + i\n",
    "        return answer\n",
    "    elif a == b:\n",
    "        answer = a\n",
    "        return answer\n",
    "    \n",
    "\n",
    "solution(3,3)"
   ]
  },
  {
   "cell_type": "code",
   "execution_count": 67,
   "metadata": {},
   "outputs": [
    {
     "data": {
      "text/plain": [
       "12"
      ]
     },
     "execution_count": 67,
     "metadata": {},
     "output_type": "execute_result"
    }
   ],
   "source": [
    "def solution(a, b):\n",
    "    answer = 0\n",
    "    for i in range(min(a, b), max(a, b) + 1):\n",
    "        answer += i\n",
    "    return answer\n",
    "solution(5,3)"
   ]
  },
  {
   "cell_type": "code",
   "execution_count": 69,
   "metadata": {},
   "outputs": [
    {
     "data": {
      "text/plain": [
       "3"
      ]
     },
     "execution_count": 69,
     "metadata": {},
     "output_type": "execute_result"
    }
   ],
   "source": [
    "def solution(a, b):\n",
    "    if b >= a:\n",
    "        answer = sum(range(a,b+1))\n",
    "    else:\n",
    "        answer = sum(range(b,a+1))\n",
    "    return answer\n",
    "solution(3,3)"
   ]
  },
  {
   "cell_type": "code",
   "execution_count": 73,
   "metadata": {},
   "outputs": [
    {
     "data": {
      "text/plain": [
       "12"
      ]
     },
     "execution_count": 73,
     "metadata": {},
     "output_type": "execute_result"
    }
   ],
   "source": [
    "def solution(a,b):\n",
    "    if a>b:\n",
    "        a, b = b ,a\n",
    "    return sum(range(a,b+1))\n",
    "    \n",
    "solution(5,3)"
   ]
  },
  {
   "cell_type": "code",
   "execution_count": 86,
   "metadata": {},
   "outputs": [
    {
     "data": {
      "text/plain": [
       "6"
      ]
     },
     "execution_count": 86,
     "metadata": {},
     "output_type": "execute_result"
    }
   ],
   "source": [
    "array = [1,5,2,6,3,7,4]\n",
    "commands=[2, 5, 3]\n",
    "\n",
    "def solution(array, commands):\n",
    "    answer = []\n",
    "    item = []\n",
    "    i = commands[0]\n",
    "    j = commands[1]\n",
    "    k = commands[2]\n",
    "    \n",
    "    \n",
    "    for ar in array[i:j]:\n",
    "        item.append(ar)\n",
    "    \n",
    "    \n",
    "    item.sort()\n",
    "    return item[k-1]\n",
    "\n",
    "solution(array, commands)"
   ]
  },
  {
   "cell_type": "code",
   "execution_count": 130,
   "metadata": {},
   "outputs": [
    {
     "name": "stdout",
     "output_type": "stream",
     "text": [
      "2 5 3\n",
      "[5, 2, 6, 3]\n",
      "[2, 3, 5, 6]\n",
      "[5]\n",
      "4 4 1\n",
      "[6]\n",
      "[6]\n",
      "[5, 6]\n",
      "1 7 3\n",
      "[1, 5, 2, 6, 3, 7, 4]\n",
      "[1, 2, 3, 4, 5, 6, 7]\n",
      "[5, 6, 3]\n"
     ]
    },
    {
     "data": {
      "text/plain": [
       "[5, 6, 3]"
      ]
     },
     "execution_count": 130,
     "metadata": {},
     "output_type": "execute_result"
    }
   ],
   "source": [
    "array = [1, 5, 2, 6, 3, 7, 4]\n",
    "commands = [[2, 5, 3], [4, 4, 1], [1, 7, 3]]\n",
    "#commands = [[2,5,3]]\n",
    "def solution(array, commands):\n",
    "    answer = []\n",
    "    \n",
    "    \n",
    "    for co in commands:\n",
    "        i = co[0]\n",
    "        j = co[1]\n",
    "        k = co[2]\n",
    "        \n",
    "        print(i,j,k)\n",
    "        \n",
    "        new_array = array[i-1:j]\n",
    "        print(new_array)\n",
    "        new_ar2 = sorted(new_array)\n",
    "        print(new_ar2)\n",
    "        answer.append(new_ar2[k-1])\n",
    "        print(answer)\n",
    "        \n",
    "    return answer\n",
    "        \n",
    "solution(array, commands)"
   ]
  },
  {
   "cell_type": "code",
   "execution_count": 131,
   "metadata": {},
   "outputs": [
    {
     "name": "stdout",
     "output_type": "stream",
     "text": [
      "2 5 3\n",
      "[5, 2, 6, 3]\n",
      "[2, 3, 5, 6]\n",
      "[5]\n",
      "4 4 1\n",
      "[6]\n",
      "[6]\n",
      "[5, 6]\n",
      "1 7 3\n",
      "[1, 5, 2, 6, 3, 7, 4]\n",
      "[1, 2, 3, 4, 5, 6, 7]\n",
      "[5, 6, 3]\n"
     ]
    },
    {
     "data": {
      "text/plain": [
       "[5, 6, 3]"
      ]
     },
     "execution_count": 131,
     "metadata": {},
     "output_type": "execute_result"
    }
   ],
   "source": [
    "array = [1, 5, 2, 6, 3, 7, 4]\n",
    "commands = [[2, 5, 3], [4, 4, 1], [1, 7, 3]]\n",
    "#commands = [[2,5,3]]\n",
    "def solution(array, commands):\n",
    "    answer = []\n",
    "    \n",
    "    \n",
    "    for co in commands:\n",
    "        i = co[0]\n",
    "        j = co[1]\n",
    "        k = co[2]\n",
    "        \n",
    "        print(i,j,k)\n",
    "        \n",
    "        new_array = array[i-1:j]\n",
    "        print(new_array)\n",
    "        new_array.sort()\n",
    "        print(new_array)\n",
    "        answer.append(new_array[k-1])\n",
    "        print(answer)\n",
    "        \n",
    "    return answer\n",
    "        \n",
    "solution(array, commands)"
   ]
  },
  {
   "cell_type": "code",
   "execution_count": 132,
   "metadata": {},
   "outputs": [
    {
     "data": {
      "text/plain": [
       "3"
      ]
     },
     "execution_count": 132,
     "metadata": {},
     "output_type": "execute_result"
    }
   ],
   "source": [
    "  \n",
    "    li = [1, 2, 3] \n",
    "    len([1,2,3])"
   ]
  },
  {
   "cell_type": "code",
   "execution_count": null,
   "metadata": {},
   "outputs": [],
   "source": []
  }
 ],
 "metadata": {
  "kernelspec": {
   "display_name": "python3_7_6",
   "language": "python",
   "name": "py3_7_6"
  },
  "language_info": {
   "codemirror_mode": {
    "name": "ipython",
    "version": 3
   },
   "file_extension": ".py",
   "mimetype": "text/x-python",
   "name": "python",
   "nbconvert_exporter": "python",
   "pygments_lexer": "ipython3",
   "version": "3.8.5"
  }
 },
 "nbformat": 4,
 "nbformat_minor": 4
}
