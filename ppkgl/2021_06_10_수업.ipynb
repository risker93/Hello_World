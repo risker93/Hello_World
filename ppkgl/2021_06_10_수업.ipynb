{
  "nbformat": 4,
  "nbformat_minor": 0,
  "metadata": {
    "colab": {
      "name": "2021_06_10_수업.ipynb",
      "provenance": [],
      "collapsed_sections": [],
      "authorship_tag": "ABX9TyN9ByjJ0ti9CjofX8hPisFN",
      "include_colab_link": true
    },
    "kernelspec": {
      "name": "python3",
      "display_name": "Python 3"
    },
    "language_info": {
      "name": "python"
    }
  },
  "cells": [
    {
      "cell_type": "markdown",
      "metadata": {
        "id": "view-in-github",
        "colab_type": "text"
      },
      "source": [
        "<a href=\"https://colab.research.google.com/github/risker93/Hello_World/blob/main/2021_06_10_%EC%88%98%EC%97%85.ipynb\" target=\"_parent\"><img src=\"https://colab.research.google.com/assets/colab-badge.svg\" alt=\"Open In Colab\"/></a>"
      ]
    },
    {
      "cell_type": "code",
      "metadata": {
        "colab": {
          "base_uri": "https://localhost:8080/"
        },
        "id": "OnmrERbFQpiS",
        "outputId": "23e7a513-e67b-43a7-e6e0-6931b845cb4f"
      },
      "source": [
        "from statsmodels import datasets\n",
        "import pandas as pd\n",
        "import matplotlib.pyplot as plt\n",
        "import statsmodels.api as sm\n",
        "raw_set = datasets.get_rdataset(\"co2\", package='datasets')\n",
        "type(raw_set)\n"
      ],
      "execution_count": 70,
      "outputs": [
        {
          "output_type": "execute_result",
          "data": {
            "text/plain": [
              "statsmodels.datasets.utils.Dataset"
            ]
          },
          "metadata": {
            "tags": []
          },
          "execution_count": 70
        }
      ]
    },
    {
      "cell_type": "code",
      "metadata": {
        "colab": {
          "base_uri": "https://localhost:8080/",
          "height": 202
        },
        "id": "7bu8CNqopNHY",
        "outputId": "be1eba9d-a8ef-4cd9-da8c-79c8b3dd9fbc"
      },
      "source": [
        "raw = raw_set.data\n",
        "raw.head()"
      ],
      "execution_count": 72,
      "outputs": [
        {
          "output_type": "execute_result",
          "data": {
            "text/html": [
              "<div>\n",
              "<style scoped>\n",
              "    .dataframe tbody tr th:only-of-type {\n",
              "        vertical-align: middle;\n",
              "    }\n",
              "\n",
              "    .dataframe tbody tr th {\n",
              "        vertical-align: top;\n",
              "    }\n",
              "\n",
              "    .dataframe thead th {\n",
              "        text-align: right;\n",
              "    }\n",
              "</style>\n",
              "<table border=\"1\" class=\"dataframe\">\n",
              "  <thead>\n",
              "    <tr style=\"text-align: right;\">\n",
              "      <th></th>\n",
              "      <th>time</th>\n",
              "      <th>value</th>\n",
              "    </tr>\n",
              "  </thead>\n",
              "  <tbody>\n",
              "    <tr>\n",
              "      <th>0</th>\n",
              "      <td>1959.000000</td>\n",
              "      <td>315.42</td>\n",
              "    </tr>\n",
              "    <tr>\n",
              "      <th>1</th>\n",
              "      <td>1959.083333</td>\n",
              "      <td>316.31</td>\n",
              "    </tr>\n",
              "    <tr>\n",
              "      <th>2</th>\n",
              "      <td>1959.166667</td>\n",
              "      <td>316.50</td>\n",
              "    </tr>\n",
              "    <tr>\n",
              "      <th>3</th>\n",
              "      <td>1959.250000</td>\n",
              "      <td>317.56</td>\n",
              "    </tr>\n",
              "    <tr>\n",
              "      <th>4</th>\n",
              "      <td>1959.333333</td>\n",
              "      <td>318.13</td>\n",
              "    </tr>\n",
              "  </tbody>\n",
              "</table>\n",
              "</div>"
            ],
            "text/plain": [
              "          time   value\n",
              "0  1959.000000  315.42\n",
              "1  1959.083333  316.31\n",
              "2  1959.166667  316.50\n",
              "3  1959.250000  317.56\n",
              "4  1959.333333  318.13"
            ]
          },
          "metadata": {
            "tags": []
          },
          "execution_count": 72
        }
      ]
    },
    {
      "cell_type": "code",
      "metadata": {
        "colab": {
          "base_uri": "https://localhost:8080/",
          "height": 202
        },
        "id": "8g1yQWwHpVMO",
        "outputId": "6a5c4efc-b111-4323-e7ca-abef1e9352a7"
      },
      "source": [
        "raw.tail()"
      ],
      "execution_count": 73,
      "outputs": [
        {
          "output_type": "execute_result",
          "data": {
            "text/html": [
              "<div>\n",
              "<style scoped>\n",
              "    .dataframe tbody tr th:only-of-type {\n",
              "        vertical-align: middle;\n",
              "    }\n",
              "\n",
              "    .dataframe tbody tr th {\n",
              "        vertical-align: top;\n",
              "    }\n",
              "\n",
              "    .dataframe thead th {\n",
              "        text-align: right;\n",
              "    }\n",
              "</style>\n",
              "<table border=\"1\" class=\"dataframe\">\n",
              "  <thead>\n",
              "    <tr style=\"text-align: right;\">\n",
              "      <th></th>\n",
              "      <th>time</th>\n",
              "      <th>value</th>\n",
              "    </tr>\n",
              "  </thead>\n",
              "  <tbody>\n",
              "    <tr>\n",
              "      <th>463</th>\n",
              "      <td>1997.583333</td>\n",
              "      <td>362.57</td>\n",
              "    </tr>\n",
              "    <tr>\n",
              "      <th>464</th>\n",
              "      <td>1997.666667</td>\n",
              "      <td>360.24</td>\n",
              "    </tr>\n",
              "    <tr>\n",
              "      <th>465</th>\n",
              "      <td>1997.750000</td>\n",
              "      <td>360.83</td>\n",
              "    </tr>\n",
              "    <tr>\n",
              "      <th>466</th>\n",
              "      <td>1997.833333</td>\n",
              "      <td>362.49</td>\n",
              "    </tr>\n",
              "    <tr>\n",
              "      <th>467</th>\n",
              "      <td>1997.916667</td>\n",
              "      <td>364.34</td>\n",
              "    </tr>\n",
              "  </tbody>\n",
              "</table>\n",
              "</div>"
            ],
            "text/plain": [
              "            time   value\n",
              "463  1997.583333  362.57\n",
              "464  1997.666667  360.24\n",
              "465  1997.750000  360.83\n",
              "466  1997.833333  362.49\n",
              "467  1997.916667  364.34"
            ]
          },
          "metadata": {
            "tags": []
          },
          "execution_count": 73
        }
      ]
    },
    {
      "cell_type": "markdown",
      "metadata": {
        "id": "rNi8MDH-Rwp_"
      },
      "source": [
        "기본적으로 데이터를 받았으니 쳐야될것들을 쳐보자"
      ]
    },
    {
      "cell_type": "markdown",
      "metadata": {
        "id": "VLdv2wMhR4lP"
      },
      "source": [
        "Y를 정규화 한다는 말은 화이트 노이즈 라는 말\n",
        "\n",
        "자기 상관이 없는 시계열을 백색잡음 이라고 합니다.\n",
        "\n",
        "상관값이 두 변수 사이의 선형 관계의 크기를 측정하는 것처럼, \n",
        "\n",
        "자기상관(autocorrelation)은 시계열의 시차 값(lagged values) 사이의 선형 관계를 측정합니다\n",
        "\n",
        "시계열 데이터가 있을때 다음 예측 범위는 아주 크다 \n",
        "\n",
        "넓은 범위가 아닌 좁은 범위로 예측할수 있도록 변동을 줄여보고 예측 후\n",
        "\n",
        "예측한 값을 기준으로 계산해본다. \n",
        "\n",
        "독립변수인 x를 다루는 것이 아닌 y를 다루고 있다는 점을 이해하자.\n",
        "\n",
        "우리가 할 것은 추세를 없애고, 계절성을 없애서, 정상성을 가지게 만들것이다.\n",
        "\n",
        "**정상성**\n",
        "\n",
        "시계열의 변동이 시간의 흐름에 따라 일정하다. 시간이 지나도 분산이 일정하다.\n",
        "\n",
        "즉, 정상성의 의미는 시계열의 확률적인 성질들이 시간의 흐름에 따라 변하지 않는다는 것을 의미한다. \n",
        "\n",
        "평균과 분산 등 체계적인 변화가 없고 주기적인 변화가 없는 것을 의미한다.\n",
        "\n"
      ]
    },
    {
      "cell_type": "markdown",
      "metadata": {
        "id": "L1UmwmlErGF2"
      },
      "source": [
        "    추세(trend)\n",
        "    데이터가 장기적으로 증가하거나 감소할 때, 추세(trend)가 존재합니다. 추세가 \n",
        "    선형적일 필요는 없습니다. 때때로 어떤 추세가 증가에서 감소로 변화하는 \n",
        "    경우에, 그것을 추세의 “방향이 변화했다”라고 언급할 것입니다.\n",
        "\n",
        "    계절성(seasonality)\n",
        "    해마다 어떤 특정한 때나 1주일마다 특정 요일에 나타나는 것 같은 계절성 \n",
        "    요인이 시계열에 영향을 줄 때 계절성(seasonality) 패턴이 나타납니다. \n",
        "    계절성은 빈도의 형태로 나타나는데, 그 빈도는 항상 일정하며 알려져 \n",
        "    있습니다. \n",
        "\n",
        "    주기성(cycle)\n",
        "    고정된 빈도가 아닌 형태로 증가나 감소하는 모습을 보일 때 주기(cycle)가 \n",
        "    나타납니다. 보통 이러한 요동은 경제 상황 때문에 일어나고, 흔히 “경기 순환\n",
        "    (business cycle)”과 관련 있습니다. 보통 이러한 요동의 지속기간은 적어도 \n",
        "    2년 이상입니다.\n",
        "\n",
        "\n",
        "많은 이들이 주기적인 패턴과 계절적인 패턴을 혼동하지만, 사실 둘은 정말 다릅니다. \n",
        "\n",
        "일정한 빈도로 나타나지 않는 요동은 주기적입니다. \n",
        "\n",
        "빈도가 변하지 않고 연중 어떤 시기와 연관되어 있다면 그 요동은 계절성입니다. \n",
        "\n",
        "일반적으로, 주기들의 평균 길이는 계절성 패턴의 길이보다 길고, 주기의 크기는 계절적인 패턴의 크기보다 좀 더 변동성이 큰 경향이 있습니다."
      ]
    },
    {
      "cell_type": "code",
      "metadata": {
        "colab": {
          "base_uri": "https://localhost:8080/"
        },
        "id": "AYjtshsARw9E",
        "outputId": "d85e0150-6f28-4b90-d1ab-d740dd037a7e"
      },
      "source": [
        "raw.info()"
      ],
      "execution_count": 3,
      "outputs": [
        {
          "output_type": "stream",
          "text": [
            "<class 'pandas.core.frame.DataFrame'>\n",
            "RangeIndex: 468 entries, 0 to 467\n",
            "Data columns (total 2 columns):\n",
            " #   Column  Non-Null Count  Dtype  \n",
            "---  ------  --------------  -----  \n",
            " 0   time    468 non-null    float64\n",
            " 1   value   468 non-null    float64\n",
            "dtypes: float64(2)\n",
            "memory usage: 7.4 KB\n"
          ],
          "name": "stdout"
        }
      ]
    },
    {
      "cell_type": "code",
      "metadata": {
        "colab": {
          "base_uri": "https://localhost:8080/",
          "height": 202
        },
        "id": "dNRkn-3mRy2a",
        "outputId": "89bf62a4-8998-45d7-a92e-286542a13f4a"
      },
      "source": [
        "raw.head()"
      ],
      "execution_count": 4,
      "outputs": [
        {
          "output_type": "execute_result",
          "data": {
            "text/html": [
              "<div>\n",
              "<style scoped>\n",
              "    .dataframe tbody tr th:only-of-type {\n",
              "        vertical-align: middle;\n",
              "    }\n",
              "\n",
              "    .dataframe tbody tr th {\n",
              "        vertical-align: top;\n",
              "    }\n",
              "\n",
              "    .dataframe thead th {\n",
              "        text-align: right;\n",
              "    }\n",
              "</style>\n",
              "<table border=\"1\" class=\"dataframe\">\n",
              "  <thead>\n",
              "    <tr style=\"text-align: right;\">\n",
              "      <th></th>\n",
              "      <th>time</th>\n",
              "      <th>value</th>\n",
              "    </tr>\n",
              "  </thead>\n",
              "  <tbody>\n",
              "    <tr>\n",
              "      <th>0</th>\n",
              "      <td>1959.000000</td>\n",
              "      <td>315.42</td>\n",
              "    </tr>\n",
              "    <tr>\n",
              "      <th>1</th>\n",
              "      <td>1959.083333</td>\n",
              "      <td>316.31</td>\n",
              "    </tr>\n",
              "    <tr>\n",
              "      <th>2</th>\n",
              "      <td>1959.166667</td>\n",
              "      <td>316.50</td>\n",
              "    </tr>\n",
              "    <tr>\n",
              "      <th>3</th>\n",
              "      <td>1959.250000</td>\n",
              "      <td>317.56</td>\n",
              "    </tr>\n",
              "    <tr>\n",
              "      <th>4</th>\n",
              "      <td>1959.333333</td>\n",
              "      <td>318.13</td>\n",
              "    </tr>\n",
              "  </tbody>\n",
              "</table>\n",
              "</div>"
            ],
            "text/plain": [
              "          time   value\n",
              "0  1959.000000  315.42\n",
              "1  1959.083333  316.31\n",
              "2  1959.166667  316.50\n",
              "3  1959.250000  317.56\n",
              "4  1959.333333  318.13"
            ]
          },
          "metadata": {
            "tags": []
          },
          "execution_count": 4
        }
      ]
    },
    {
      "cell_type": "code",
      "metadata": {
        "colab": {
          "base_uri": "https://localhost:8080/",
          "height": 294
        },
        "id": "kcT4jkDJR0jT",
        "outputId": "62e91ea4-0354-4e0a-a89a-a73e45c6740b"
      },
      "source": [
        "raw.describe()"
      ],
      "execution_count": 5,
      "outputs": [
        {
          "output_type": "execute_result",
          "data": {
            "text/html": [
              "<div>\n",
              "<style scoped>\n",
              "    .dataframe tbody tr th:only-of-type {\n",
              "        vertical-align: middle;\n",
              "    }\n",
              "\n",
              "    .dataframe tbody tr th {\n",
              "        vertical-align: top;\n",
              "    }\n",
              "\n",
              "    .dataframe thead th {\n",
              "        text-align: right;\n",
              "    }\n",
              "</style>\n",
              "<table border=\"1\" class=\"dataframe\">\n",
              "  <thead>\n",
              "    <tr style=\"text-align: right;\">\n",
              "      <th></th>\n",
              "      <th>time</th>\n",
              "      <th>value</th>\n",
              "    </tr>\n",
              "  </thead>\n",
              "  <tbody>\n",
              "    <tr>\n",
              "      <th>count</th>\n",
              "      <td>468.000000</td>\n",
              "      <td>468.000000</td>\n",
              "    </tr>\n",
              "    <tr>\n",
              "      <th>mean</th>\n",
              "      <td>1978.458333</td>\n",
              "      <td>337.053526</td>\n",
              "    </tr>\n",
              "    <tr>\n",
              "      <th>std</th>\n",
              "      <td>11.270352</td>\n",
              "      <td>14.966220</td>\n",
              "    </tr>\n",
              "    <tr>\n",
              "      <th>min</th>\n",
              "      <td>1959.000000</td>\n",
              "      <td>313.180000</td>\n",
              "    </tr>\n",
              "    <tr>\n",
              "      <th>25%</th>\n",
              "      <td>1968.729167</td>\n",
              "      <td>323.530000</td>\n",
              "    </tr>\n",
              "    <tr>\n",
              "      <th>50%</th>\n",
              "      <td>1978.458333</td>\n",
              "      <td>335.170000</td>\n",
              "    </tr>\n",
              "    <tr>\n",
              "      <th>75%</th>\n",
              "      <td>1988.187500</td>\n",
              "      <td>350.255000</td>\n",
              "    </tr>\n",
              "    <tr>\n",
              "      <th>max</th>\n",
              "      <td>1997.916667</td>\n",
              "      <td>366.840000</td>\n",
              "    </tr>\n",
              "  </tbody>\n",
              "</table>\n",
              "</div>"
            ],
            "text/plain": [
              "              time       value\n",
              "count   468.000000  468.000000\n",
              "mean   1978.458333  337.053526\n",
              "std      11.270352   14.966220\n",
              "min    1959.000000  313.180000\n",
              "25%    1968.729167  323.530000\n",
              "50%    1978.458333  335.170000\n",
              "75%    1988.187500  350.255000\n",
              "max    1997.916667  366.840000"
            ]
          },
          "metadata": {
            "tags": []
          },
          "execution_count": 5
        }
      ]
    },
    {
      "cell_type": "code",
      "metadata": {
        "colab": {
          "base_uri": "https://localhost:8080/",
          "height": 282
        },
        "id": "srXMc0bkR1_y",
        "outputId": "bfaea963-5fe0-46b3-a8f0-41f247914c56"
      },
      "source": [
        "#어떻게 생겼는지 보도록 하자\n",
        "\n",
        "plt.bar(raw.time, raw.value)"
      ],
      "execution_count": 6,
      "outputs": [
        {
          "output_type": "execute_result",
          "data": {
            "text/plain": [
              "<BarContainer object of 468 artists>"
            ]
          },
          "metadata": {
            "tags": []
          },
          "execution_count": 6
        },
        {
          "output_type": "display_data",
          "data": {
            "image/png": "[encoded data removed]",
            "text/plain": [
              "<Figure size 432x288 with 1 Axes>"
            ]
          },
          "metadata": {
            "tags": [],
            "needs_background": "light"
          }
        }
      ]
    },
    {
      "cell_type": "markdown",
      "metadata": {
        "id": "B2SC6cRSSjE_"
      },
      "source": [
        "이쁘지가 않다 다른걸로 보자"
      ]
    },
    {
      "cell_type": "code",
      "metadata": {
        "colab": {
          "base_uri": "https://localhost:8080/",
          "height": 282
        },
        "id": "k_FjHhmpShsW",
        "outputId": "9c386915-8486-4209-98d7-3332b7b620a4"
      },
      "source": [
        "plt.plot(raw.time, raw.value)"
      ],
      "execution_count": 7,
      "outputs": [
        {
          "output_type": "execute_result",
          "data": {
            "text/plain": [
              "[<matplotlib.lines.Line2D at 0x7f09816cff50>]"
            ]
          },
          "metadata": {
            "tags": []
          },
          "execution_count": 7
        },
        {
          "output_type": "display_data",
          "data": {
            "image/png": "[encoded data removed]",
            "text/plain": [
              "<Figure size 432x288 with 1 Axes>"
            ]
          },
          "metadata": {
            "tags": [],
            "needs_background": "light"
          }
        }
      ]
    },
    {
      "cell_type": "markdown",
      "metadata": {
        "id": "4rsh0vm8Sq8P"
      },
      "source": [
        "실제 데이터에서는 볼수 없는 모양\n",
        "\n",
        "추세가 증가하고 있구나\n",
        "\n",
        "반복되는 계절성이 있구나"
      ]
    },
    {
      "cell_type": "code",
      "metadata": {
        "colab": {
          "base_uri": "https://localhost:8080/",
          "height": 461
        },
        "id": "JDNML_k1Sqfa",
        "outputId": "be8b5973-5db8-46dc-9a05-581f1667be4a"
      },
      "source": [
        "result = sm.OLS.from_formula(formula='value~time', data=raw).fit() \n",
        "result.summary()"
      ],
      "execution_count": 10,
      "outputs": [
        {
          "output_type": "execute_result",
          "data": {
            "text/html": [
              "<table class=\"simpletable\">\n",
              "<caption>OLS Regression Results</caption>\n",
              "<tr>\n",
              "  <th>Dep. Variable:</th>          <td>value</td>      <th>  R-squared:         </th> <td>   0.969</td> \n",
              "</tr>\n",
              "<tr>\n",
              "  <th>Model:</th>                   <td>OLS</td>       <th>  Adj. R-squared:    </th> <td>   0.969</td> \n",
              "</tr>\n",
              "<tr>\n",
              "  <th>Method:</th>             <td>Least Squares</td>  <th>  F-statistic:       </th> <td>1.479e+04</td>\n",
              "</tr>\n",
              "<tr>\n",
              "  <th>Date:</th>             <td>Thu, 10 Jun 2021</td> <th>  Prob (F-statistic):</th>  <td>  0.00</td>  \n",
              "</tr>\n",
              "<tr>\n",
              "  <th>Time:</th>                 <td>00:22:56</td>     <th>  Log-Likelihood:    </th> <td> -1113.5</td> \n",
              "</tr>\n",
              "<tr>\n",
              "  <th>No. Observations:</th>      <td>   468</td>      <th>  AIC:               </th> <td>   2231.</td> \n",
              "</tr>\n",
              "<tr>\n",
              "  <th>Df Residuals:</th>          <td>   466</td>      <th>  BIC:               </th> <td>   2239.</td> \n",
              "</tr>\n",
              "<tr>\n",
              "  <th>Df Model:</th>              <td>     1</td>      <th>                     </th>     <td> </td>    \n",
              "</tr>\n",
              "<tr>\n",
              "  <th>Covariance Type:</th>      <td>nonrobust</td>    <th>                     </th>     <td> </td>    \n",
              "</tr>\n",
              "</table>\n",
              "<table class=\"simpletable\">\n",
              "<tr>\n",
              "      <td></td>         <th>coef</th>     <th>std err</th>      <th>t</th>      <th>P>|t|</th>  <th>[0.025</th>    <th>0.975]</th>  \n",
              "</tr>\n",
              "<tr>\n",
              "  <th>Intercept</th> <td>-2249.7742</td> <td>   21.268</td> <td> -105.784</td> <td> 0.000</td> <td>-2291.566</td> <td>-2207.982</td>\n",
              "</tr>\n",
              "<tr>\n",
              "  <th>time</th>      <td>    1.3075</td> <td>    0.011</td> <td>  121.634</td> <td> 0.000</td> <td>    1.286</td> <td>    1.329</td>\n",
              "</tr>\n",
              "</table>\n",
              "<table class=\"simpletable\">\n",
              "<tr>\n",
              "  <th>Omnibus:</th>       <td>15.857</td> <th>  Durbin-Watson:     </th> <td>   0.212</td>\n",
              "</tr>\n",
              "<tr>\n",
              "  <th>Prob(Omnibus):</th> <td> 0.000</td> <th>  Jarque-Bera (JB):  </th> <td>   7.798</td>\n",
              "</tr>\n",
              "<tr>\n",
              "  <th>Skew:</th>          <td> 0.048</td> <th>  Prob(JB):          </th> <td>  0.0203</td>\n",
              "</tr>\n",
              "<tr>\n",
              "  <th>Kurtosis:</th>      <td> 2.375</td> <th>  Cond. No.          </th> <td>3.48e+05</td>\n",
              "</tr>\n",
              "</table><br/><br/>Warnings:<br/>[1] Standard Errors assume that the covariance matrix of the errors is correctly specified.<br/>[2] The condition number is large, 3.48e+05. This might indicate that there are<br/>strong multicollinearity or other numerical problems."
            ],
            "text/plain": [
              "<class 'statsmodels.iolib.summary.Summary'>\n",
              "\"\"\"\n",
              "                            OLS Regression Results                            \n",
              "==============================================================================\n",
              "Dep. Variable:                  value   R-squared:                       0.969\n",
              "Model:                            OLS   Adj. R-squared:                  0.969\n",
              "Method:                 Least Squares   F-statistic:                 1.479e+04\n",
              "Date:                Thu, 10 Jun 2021   Prob (F-statistic):               0.00\n",
              "Time:                        00:22:56   Log-Likelihood:                -1113.5\n",
              "No. Observations:                 468   AIC:                             2231.\n",
              "Df Residuals:                     466   BIC:                             2239.\n",
              "Df Model:                           1                                         \n",
              "Covariance Type:            nonrobust                                         \n",
              "==============================================================================\n",
              "                 coef    std err          t      P>|t|      [0.025      0.975]\n",
              "------------------------------------------------------------------------------\n",
              "Intercept  -2249.7742     21.268   -105.784      0.000   -2291.566   -2207.982\n",
              "time           1.3075      0.011    121.634      0.000       1.286       1.329\n",
              "==============================================================================\n",
              "Omnibus:                       15.857   Durbin-Watson:                   0.212\n",
              "Prob(Omnibus):                  0.000   Jarque-Bera (JB):                7.798\n",
              "Skew:                           0.048   Prob(JB):                       0.0203\n",
              "Kurtosis:                       2.375   Cond. No.                     3.48e+05\n",
              "==============================================================================\n",
              "\n",
              "Warnings:\n",
              "[1] Standard Errors assume that the covariance matrix of the errors is correctly specified.\n",
              "[2] The condition number is large, 3.48e+05. This might indicate that there are\n",
              "strong multicollinearity or other numerical problems.\n",
              "\"\"\""
            ]
          },
          "metadata": {
            "tags": []
          },
          "execution_count": 10
        }
      ]
    },
    {
      "cell_type": "markdown",
      "metadata": {
        "id": "om7U_Dt-TPmQ"
      },
      "source": [
        "데이터 사이언스를 한다면 다 알아야 하는 사항들이다. \n",
        "\n",
        "y= ax+b \n",
        "\n",
        "시간에 x를 넣고 벨류값에 y를 넣어서\n",
        "\n",
        "머신러닝의 가장 기본적인 모델중에 하나다.\n",
        "\n"
      ]
    },
    {
      "cell_type": "code",
      "metadata": {
        "colab": {
          "base_uri": "https://localhost:8080/"
        },
        "id": "uqroIGxJTLBw",
        "outputId": "b46097c5-50ca-4400-a684-306d4ecd0bc9"
      },
      "source": [
        "result.params"
      ],
      "execution_count": 11,
      "outputs": [
        {
          "output_type": "execute_result",
          "data": {
            "text/plain": [
              "Intercept   -2249.774198\n",
              "time            1.307497\n",
              "dtype: float64"
            ]
          },
          "metadata": {
            "tags": []
          },
          "execution_count": 11
        }
      ]
    },
    {
      "cell_type": "markdown",
      "metadata": {
        "id": "CiVQqE4cT1ox"
      },
      "source": [
        "우리는 이런것들을 코드로 다 이해하면 된다.\n",
        "\n",
        "우리가 위 그래프를 직선으로(선형으로) 나오게 유도를 해볼 것이다."
      ]
    },
    {
      "cell_type": "code",
      "metadata": {
        "colab": {
          "base_uri": "https://localhost:8080/",
          "height": 265
        },
        "id": "Z2AR7VFdTuIx",
        "outputId": "ad78a717-3a38-4f80-90c9-df178a67bd11"
      },
      "source": [
        "trend = result.params[0] + result.params[1] * raw.time\n",
        "plt.plot(raw.time, raw.value, raw.time, trend)\n",
        "plt.show()"
      ],
      "execution_count": 12,
      "outputs": [
        {
          "output_type": "display_data",
          "data": {
            "image/png": "[encoded data removed]",
            "text/plain": [
              "<Figure size 432x288 with 1 Axes>"
            ]
          },
          "metadata": {
            "tags": [],
            "needs_background": "light"
          }
        }
      ]
    },
    {
      "cell_type": "markdown",
      "metadata": {
        "id": "f8xt2bzDULmi"
      },
      "source": [
        "머신러닝은 기본적으로 일차함수를 다룬다 생각하고,\n",
        "\n",
        "딥러닝은 2차 함수 이상의 함수를 다룬다 생각하자."
      ]
    },
    {
      "cell_type": "markdown",
      "metadata": {
        "id": "V8dKmFvTUXzQ"
      },
      "source": [
        "보면 추세선이 있는데 추세를 제거해 보도록 하자."
      ]
    },
    {
      "cell_type": "code",
      "metadata": {
        "colab": {
          "base_uri": "https://localhost:8080/",
          "height": 481
        },
        "id": "I2FPSi6QUKbG",
        "outputId": "a7b325b0-b046-4153-f805-59d2ae4ccf32"
      },
      "source": [
        "result = sm.OLS.from_formula(formula='value~time+I(time**2)', data=raw).fit()\n",
        "#y = c + ax+bx^2\n",
        "result.summary()"
      ],
      "execution_count": 17,
      "outputs": [
        {
          "output_type": "execute_result",
          "data": {
            "text/html": [
              "<table class=\"simpletable\">\n",
              "<caption>OLS Regression Results</caption>\n",
              "<tr>\n",
              "  <th>Dep. Variable:</th>          <td>value</td>      <th>  R-squared:         </th> <td>   0.979</td> \n",
              "</tr>\n",
              "<tr>\n",
              "  <th>Model:</th>                   <td>OLS</td>       <th>  Adj. R-squared:    </th> <td>   0.979</td> \n",
              "</tr>\n",
              "<tr>\n",
              "  <th>Method:</th>             <td>Least Squares</td>  <th>  F-statistic:       </th> <td>1.075e+04</td>\n",
              "</tr>\n",
              "<tr>\n",
              "  <th>Date:</th>             <td>Thu, 10 Jun 2021</td> <th>  Prob (F-statistic):</th>  <td>  0.00</td>  \n",
              "</tr>\n",
              "<tr>\n",
              "  <th>Time:</th>                 <td>00:30:15</td>     <th>  Log-Likelihood:    </th> <td> -1027.8</td> \n",
              "</tr>\n",
              "<tr>\n",
              "  <th>No. Observations:</th>      <td>   468</td>      <th>  AIC:               </th> <td>   2062.</td> \n",
              "</tr>\n",
              "<tr>\n",
              "  <th>Df Residuals:</th>          <td>   465</td>      <th>  BIC:               </th> <td>   2074.</td> \n",
              "</tr>\n",
              "<tr>\n",
              "  <th>Df Model:</th>              <td>     2</td>      <th>                     </th>     <td> </td>    \n",
              "</tr>\n",
              "<tr>\n",
              "  <th>Covariance Type:</th>      <td>nonrobust</td>    <th>                     </th>     <td> </td>    \n",
              "</tr>\n",
              "</table>\n",
              "<table class=\"simpletable\">\n",
              "<tr>\n",
              "        <td></td>          <th>coef</th>     <th>std err</th>      <th>t</th>      <th>P>|t|</th>  <th>[0.025</th>    <th>0.975]</th>  \n",
              "</tr>\n",
              "<tr>\n",
              "  <th>Intercept</th>    <td>  4.77e+04</td> <td> 3482.902</td> <td>   13.696</td> <td> 0.000</td> <td> 4.09e+04</td> <td> 5.45e+04</td>\n",
              "</tr>\n",
              "<tr>\n",
              "  <th>time</th>         <td>  -49.1907</td> <td>    3.521</td> <td>  -13.971</td> <td> 0.000</td> <td>  -56.110</td> <td>  -42.272</td>\n",
              "</tr>\n",
              "<tr>\n",
              "  <th>I(time ** 2)</th> <td>    0.0128</td> <td>    0.001</td> <td>   14.342</td> <td> 0.000</td> <td>    0.011</td> <td>    0.015</td>\n",
              "</tr>\n",
              "</table>\n",
              "<table class=\"simpletable\">\n",
              "<tr>\n",
              "  <th>Omnibus:</th>       <td>66.659</td> <th>  Durbin-Watson:     </th> <td>   0.306</td>\n",
              "</tr>\n",
              "<tr>\n",
              "  <th>Prob(Omnibus):</th> <td> 0.000</td> <th>  Jarque-Bera (JB):  </th> <td>  17.850</td>\n",
              "</tr>\n",
              "<tr>\n",
              "  <th>Skew:</th>          <td>-0.116</td> <th>  Prob(JB):          </th> <td>0.000133</td>\n",
              "</tr>\n",
              "<tr>\n",
              "  <th>Kurtosis:</th>      <td> 2.072</td> <th>  Cond. No.          </th> <td>1.35e+11</td>\n",
              "</tr>\n",
              "</table><br/><br/>Warnings:<br/>[1] Standard Errors assume that the covariance matrix of the errors is correctly specified.<br/>[2] The condition number is large, 1.35e+11. This might indicate that there are<br/>strong multicollinearity or other numerical problems."
            ],
            "text/plain": [
              "<class 'statsmodels.iolib.summary.Summary'>\n",
              "\"\"\"\n",
              "                            OLS Regression Results                            \n",
              "==============================================================================\n",
              "Dep. Variable:                  value   R-squared:                       0.979\n",
              "Model:                            OLS   Adj. R-squared:                  0.979\n",
              "Method:                 Least Squares   F-statistic:                 1.075e+04\n",
              "Date:                Thu, 10 Jun 2021   Prob (F-statistic):               0.00\n",
              "Time:                        00:30:15   Log-Likelihood:                -1027.8\n",
              "No. Observations:                 468   AIC:                             2062.\n",
              "Df Residuals:                     465   BIC:                             2074.\n",
              "Df Model:                           2                                         \n",
              "Covariance Type:            nonrobust                                         \n",
              "================================================================================\n",
              "                   coef    std err          t      P>|t|      [0.025      0.975]\n",
              "--------------------------------------------------------------------------------\n",
              "Intercept      4.77e+04   3482.902     13.696      0.000    4.09e+04    5.45e+04\n",
              "time           -49.1907      3.521    -13.971      0.000     -56.110     -42.272\n",
              "I(time ** 2)     0.0128      0.001     14.342      0.000       0.011       0.015\n",
              "==============================================================================\n",
              "Omnibus:                       66.659   Durbin-Watson:                   0.306\n",
              "Prob(Omnibus):                  0.000   Jarque-Bera (JB):               17.850\n",
              "Skew:                          -0.116   Prob(JB):                     0.000133\n",
              "Kurtosis:                       2.072   Cond. No.                     1.35e+11\n",
              "==============================================================================\n",
              "\n",
              "Warnings:\n",
              "[1] Standard Errors assume that the covariance matrix of the errors is correctly specified.\n",
              "[2] The condition number is large, 1.35e+11. This might indicate that there are\n",
              "strong multicollinearity or other numerical problems.\n",
              "\"\"\""
            ]
          },
          "metadata": {
            "tags": []
          },
          "execution_count": 17
        }
      ]
    },
    {
      "cell_type": "markdown",
      "metadata": {
        "id": "k9FukcGUU6xJ"
      },
      "source": [
        "R-squared 수치가 이렇게 높게 나오는게 현실 세계의 데이터라면 뭔가 문제가 있을 확률이 있다."
      ]
    },
    {
      "cell_type": "code",
      "metadata": {
        "colab": {
          "base_uri": "https://localhost:8080/",
          "height": 265
        },
        "id": "c1JFsL5bUq6I",
        "outputId": "d7ec8bc1-a52d-4d75-d403-dd53bb143049"
      },
      "source": [
        "trend = result.params[0] + result.params[1]*raw.time + result.params[2]*raw.time**2\n",
        "plt.plot(raw.time, raw.value, raw.time, trend)\n",
        "plt.show()"
      ],
      "execution_count": 19,
      "outputs": [
        {
          "output_type": "display_data",
          "data": {
            "image/png": "[encoded data removed]",
            "text/plain": [
              "<Figure size 432x288 with 1 Axes>"
            ]
          },
          "metadata": {
            "tags": [],
            "needs_background": "light"
          }
        }
      ]
    },
    {
      "cell_type": "markdown",
      "metadata": {
        "id": "DAqwzMmfVgf_"
      },
      "source": [
        "아래 값들은 각각의 잔차값들"
      ]
    },
    {
      "cell_type": "code",
      "metadata": {
        "colab": {
          "base_uri": "https://localhost:8080/"
        },
        "id": "U7EyzO2YVXup",
        "outputId": "040cf776-a0ea-431a-ad44-ea913e36e75b"
      },
      "source": [
        "result.resid"
      ],
      "execution_count": 20,
      "outputs": [
        {
          "output_type": "execute_result",
          "data": {
            "text/plain": [
              "0      0.593718\n",
              "1      1.416059\n",
              "2      1.538223\n",
              "3      2.530210\n",
              "4      3.032020\n",
              "         ...   \n",
              "463   -2.539729\n",
              "464   -5.019454\n",
              "465   -4.579357\n",
              "466   -3.069437\n",
              "467   -1.369695\n",
              "Length: 468, dtype: float64"
            ]
          },
          "metadata": {
            "tags": []
          },
          "execution_count": 20
        }
      ]
    },
    {
      "cell_type": "code",
      "metadata": {
        "colab": {
          "base_uri": "https://localhost:8080/",
          "height": 282
        },
        "id": "M_TgxkTJVr9V",
        "outputId": "4d1314b4-9bec-44e4-b990-7a7af23339ea"
      },
      "source": [
        "plt.plot(raw.time, result.resid)"
      ],
      "execution_count": 22,
      "outputs": [
        {
          "output_type": "execute_result",
          "data": {
            "text/plain": [
              "[<matplotlib.lines.Line2D at 0x7f0972c5bb50>]"
            ]
          },
          "metadata": {
            "tags": []
          },
          "execution_count": 22
        },
        {
          "output_type": "display_data",
          "data": {
            "image/png": "[encoded data removed]",
            "text/plain": [
              "<Figure size 432x288 with 1 Axes>"
            ]
          },
          "metadata": {
            "tags": [],
            "needs_background": "light"
          }
        }
      ]
    },
    {
      "cell_type": "markdown",
      "metadata": {
        "id": "iBDnF_f2V42g"
      },
      "source": [
        "추세를 제거해 -4에서 4까지로 만들었다.\n",
        "\n",
        "y값이 어떻게 정상성인가? "
      ]
    },
    {
      "cell_type": "code",
      "metadata": {
        "id": "RzvRgp1IVzrR"
      },
      "source": [
        "# adf, kpss\n",
        "def stationarity_adf_test(Y_Data, Target_name):\n",
        "    if len(Target_name) == 0:\n",
        "        Stationarity_adf = pd.Series(sm.tsa.stattools.adfuller(Y_Data)[0:4],\n",
        "                                     index=['Test Statistics', 'p-value', 'Used Lag', 'Used Observations'])\n",
        "        for key, value in sm.tsa.stattools.adfuller(Y_Data)[4].items():\n",
        "            Stationarity_adf['Critical Value(%s)'%key] = value\n",
        "            Stationarity_adf['Maximum Information Criteria'] = sm.tsa.stattools.adfuller(Y_Data)[5]\n",
        "            Stationarity_adf = pd.DataFrame(Stationarity_adf, columns=['Stationarity_adf'])\n",
        "    else:\n",
        "        Stationarity_adf = pd.Series(sm.tsa.stattools.adfuller(Y_Data[Target_name])[0:4],\n",
        "                                     index=['Test Statistics', 'p-value', 'Used Lag', 'Used Observations'])\n",
        "        for key, value in sm.tsa.stattools.adfuller(Y_Data[Target_name])[4].items():\n",
        "            Stationarity_adf['Critical Value(%s)'%key] = value\n",
        "            Stationarity_adf['Maximum Information Criteria'] = sm.tsa.stattools.adfuller(Y_Data[Target_name])[5]\n",
        "            Stationarity_adf = pd.DataFrame(Stationarity_adf, columns=['Stationarity_adf'])\n",
        "    return Stationarity_adf\n",
        "\n",
        "def stationarity_kpss_test(Y_Data, Target_name):\n",
        "    if len(Target_name) == 0:\n",
        "        Stationarity_kpss = pd.Series(sm.tsa.stattools.kpss(Y_Data)[0:3],\n",
        "                                      index=['Test Statistics', 'p-value', 'Used Lag'])\n",
        "        for key, value in sm.tsa.stattools.kpss(Y_Data)[3].items():\n",
        "            Stationarity_kpss['Critical Value(%s)'%key] = value\n",
        "            Stationarity_kpss = pd.DataFrame(Stationarity_kpss, columns=['Stationarity_kpss'])\n",
        "    else:\n",
        "        Stationarity_kpss = pd.Series(sm.tsa.stattools.kpss(Y_Data[Target_name])[0:3],\n",
        "                                      index=['Test Statistics', 'p-value', 'Used Lag'])\n",
        "        for key, value in sm.tsa.stattools.kpss(Y_Data[Target_name])[3].items():\n",
        "            Stationarity_kpss['Critical Value(%s)'%key] = value\n",
        "            Stationarity_kpss = pd.DataFrame(Stationarity_kpss, columns=['Stationarity_kpss'])\n",
        "    return Stationarity_kpss\n"
      ],
      "execution_count": 25,
      "outputs": []
    },
    {
      "cell_type": "markdown",
      "metadata": {
        "id": "L1QLMNOqWYgP"
      },
      "source": [
        "이런 코드들을 자주 찾아보면 좋다.\n",
        "\n",
        "그럴때 가장 중요한 것은 좋은 코드가 있다면 \n",
        "\n",
        "나만의 궁전에 넣어두도록 하자.\n",
        "\n",
        "이런 모듈화된, 것들을 잘 활용할수록 좋다.\n",
        "\n",
        "adf, kpss를 계속 사용해보면서 확인 해보는것이 좋다."
      ]
    },
    {
      "cell_type": "markdown",
      "metadata": {
        "id": "87UuBFiFW-Aq"
      },
      "source": [
        "adf, kpss: 정상성 확인하는 테스트 방법이다.\n",
        "\n",
        "ADF: 추세만 확인한다. \n",
        "\n",
        "KPSS: 계절성만 확인한다.\n",
        "\n",
        "ADF검증조건: p-value < 0.05 (추세가 제거 되었다.)\n",
        "\n",
        "KPSS검증조건: p-value > 0.05 (계절성이 제거 되었다.) \n",
        "\n"
      ]
    },
    {
      "cell_type": "code",
      "metadata": {
        "colab": {
          "base_uri": "https://localhost:8080/",
          "height": 233
        },
        "id": "ZbuS1TH9Wf1v",
        "outputId": "cdf34ca3-b129-43fb-9873-882e23f38468"
      },
      "source": [
        "stationarity_adf_test(result.resid, [])\n",
        "\n",
        "#잔차를 넣으면 이런식으로 나오게 된다. \n",
        "#깊게 공부 할때는 이런 것들을 하나하나 확인 해보아야 한다."
      ],
      "execution_count": 28,
      "outputs": [
        {
          "output_type": "execute_result",
          "data": {
            "text/html": [
              "<div>\n",
              "<style scoped>\n",
              "    .dataframe tbody tr th:only-of-type {\n",
              "        vertical-align: middle;\n",
              "    }\n",
              "\n",
              "    .dataframe tbody tr th {\n",
              "        vertical-align: top;\n",
              "    }\n",
              "\n",
              "    .dataframe thead th {\n",
              "        text-align: right;\n",
              "    }\n",
              "</style>\n",
              "<table border=\"1\" class=\"dataframe\">\n",
              "  <thead>\n",
              "    <tr style=\"text-align: right;\">\n",
              "      <th></th>\n",
              "      <th>Stationarity_adf</th>\n",
              "    </tr>\n",
              "  </thead>\n",
              "  <tbody>\n",
              "    <tr>\n",
              "      <th>Test Statistics</th>\n",
              "      <td>-2.527950</td>\n",
              "    </tr>\n",
              "    <tr>\n",
              "      <th>p-value</th>\n",
              "      <td>0.108821</td>\n",
              "    </tr>\n",
              "    <tr>\n",
              "      <th>Used Lag</th>\n",
              "      <td>13.000000</td>\n",
              "    </tr>\n",
              "    <tr>\n",
              "      <th>Used Observations</th>\n",
              "      <td>454.000000</td>\n",
              "    </tr>\n",
              "    <tr>\n",
              "      <th>Critical Value(1%)</th>\n",
              "      <td>-3.444836</td>\n",
              "    </tr>\n",
              "    <tr>\n",
              "      <th>Maximum Information Criteria</th>\n",
              "      <td>260.098601</td>\n",
              "    </tr>\n",
              "  </tbody>\n",
              "</table>\n",
              "</div>"
            ],
            "text/plain": [
              "                              Stationarity_adf\n",
              "Test Statistics                      -2.527950\n",
              "p-value                               0.108821\n",
              "Used Lag                             13.000000\n",
              "Used Observations                   454.000000\n",
              "Critical Value(1%)                   -3.444836\n",
              "Maximum Information Criteria        260.098601"
            ]
          },
          "metadata": {
            "tags": []
          },
          "execution_count": 28
        }
      ]
    },
    {
      "cell_type": "markdown",
      "metadata": {
        "id": "d0ozNGziXua4"
      },
      "source": [
        "p-value를 보면 0.05보다 작지 않다, 추세가 어느정도 있는것 같구나."
      ]
    },
    {
      "cell_type": "code",
      "metadata": {
        "colab": {
          "base_uri": "https://localhost:8080/",
          "height": 296
        },
        "id": "ciWOwgWTXkkY",
        "outputId": "ee77be34-d856-4656-b81a-77cf759e7080"
      },
      "source": [
        "stationarity_kpss_test(result.resid, [])"
      ],
      "execution_count": 29,
      "outputs": [
        {
          "output_type": "stream",
          "text": [
            "/usr/local/lib/python3.7/dist-packages/statsmodels/tsa/stattools.py:1685: FutureWarning: The behavior of using lags=None will change in the next release. Currently lags=None is the same as lags='legacy', and so a sample-size lag length is used. After the next release, the default will change to be the same as lags='auto' which uses an automatic lag length selection method. To silence this warning, either use 'auto' or 'legacy'\n",
            "  warn(msg, FutureWarning)\n",
            "/usr/local/lib/python3.7/dist-packages/statsmodels/tsa/stattools.py:1711: InterpolationWarning: p-value is greater than the indicated p-value\n",
            "  warn(\"p-value is greater than the indicated p-value\", InterpolationWarning)\n",
            "/usr/local/lib/python3.7/dist-packages/statsmodels/tsa/stattools.py:1711: InterpolationWarning: p-value is greater than the indicated p-value\n",
            "  warn(\"p-value is greater than the indicated p-value\", InterpolationWarning)\n"
          ],
          "name": "stderr"
        },
        {
          "output_type": "execute_result",
          "data": {
            "text/html": [
              "<div>\n",
              "<style scoped>\n",
              "    .dataframe tbody tr th:only-of-type {\n",
              "        vertical-align: middle;\n",
              "    }\n",
              "\n",
              "    .dataframe tbody tr th {\n",
              "        vertical-align: top;\n",
              "    }\n",
              "\n",
              "    .dataframe thead th {\n",
              "        text-align: right;\n",
              "    }\n",
              "</style>\n",
              "<table border=\"1\" class=\"dataframe\">\n",
              "  <thead>\n",
              "    <tr style=\"text-align: right;\">\n",
              "      <th></th>\n",
              "      <th>Stationarity_kpss</th>\n",
              "    </tr>\n",
              "  </thead>\n",
              "  <tbody>\n",
              "    <tr>\n",
              "      <th>Test Statistics</th>\n",
              "      <td>0.171318</td>\n",
              "    </tr>\n",
              "    <tr>\n",
              "      <th>p-value</th>\n",
              "      <td>0.100000</td>\n",
              "    </tr>\n",
              "    <tr>\n",
              "      <th>Used Lag</th>\n",
              "      <td>18.000000</td>\n",
              "    </tr>\n",
              "    <tr>\n",
              "      <th>Critical Value(10%)</th>\n",
              "      <td>0.347000</td>\n",
              "    </tr>\n",
              "  </tbody>\n",
              "</table>\n",
              "</div>"
            ],
            "text/plain": [
              "                     Stationarity_kpss\n",
              "Test Statistics               0.171318\n",
              "p-value                       0.100000\n",
              "Used Lag                     18.000000\n",
              "Critical Value(10%)           0.347000"
            ]
          },
          "metadata": {
            "tags": []
          },
          "execution_count": 29
        }
      ]
    },
    {
      "cell_type": "code",
      "metadata": {
        "colab": {
          "base_uri": "https://localhost:8080/",
          "height": 298
        },
        "id": "zaGvMG_eYCgm",
        "outputId": "e26fc1b9-6683-495a-c41e-04d4a2de745d"
      },
      "source": [
        "'''\n",
        "ACF\n",
        "'''\n",
        "\n",
        "sm.graphics.tsa.plot_acf(result.resid, lags=100)\n",
        "plt.show"
      ],
      "execution_count": 30,
      "outputs": [
        {
          "output_type": "execute_result",
          "data": {
            "text/plain": [
              "<function matplotlib.pyplot.show>"
            ]
          },
          "metadata": {
            "tags": []
          },
          "execution_count": 30
        },
        {
          "output_type": "display_data",
          "data": {
            "image/png": "[encoded data removed]",
            "text/plain": [
              "<Figure size 432x288 with 1 Axes>"
            ]
          },
          "metadata": {
            "tags": [],
            "needs_background": "light"
          }
        }
      ]
    },
    {
      "cell_type": "markdown",
      "metadata": {
        "id": "xbQTJphOYYOw"
      },
      "source": [
        "자기상관(autocorrelation) 에 대해서 확인해 본다.\n"
      ]
    },
    {
      "cell_type": "code",
      "metadata": {
        "id": "0iN94wSjYXGb"
      },
      "source": [
        "#추세 제거를 다른방식으로 한번 진행해 보자."
      ],
      "execution_count": 31,
      "outputs": []
    },
    {
      "cell_type": "code",
      "metadata": {
        "colab": {
          "base_uri": "https://localhost:8080/"
        },
        "id": "sjTr9lZgcUwF",
        "outputId": "0680fcf2-e291-4ad1-811c-621890622c92"
      },
      "source": [
        "raw.value"
      ],
      "execution_count": 32,
      "outputs": [
        {
          "output_type": "execute_result",
          "data": {
            "text/plain": [
              "0      315.42\n",
              "1      316.31\n",
              "2      316.50\n",
              "3      317.56\n",
              "4      318.13\n",
              "        ...  \n",
              "463    362.57\n",
              "464    360.24\n",
              "465    360.83\n",
              "466    362.49\n",
              "467    364.34\n",
              "Name: value, Length: 468, dtype: float64"
            ]
          },
          "metadata": {
            "tags": []
          },
          "execution_count": 32
        }
      ]
    },
    {
      "cell_type": "code",
      "metadata": {
        "colab": {
          "base_uri": "https://localhost:8080/"
        },
        "id": "MpNQpT5UcVvA",
        "outputId": "93322554-9241-415c-ddcd-54e4877efef3"
      },
      "source": [
        "raw.value.shift(1)"
      ],
      "execution_count": 33,
      "outputs": [
        {
          "output_type": "execute_result",
          "data": {
            "text/plain": [
              "0         NaN\n",
              "1      315.42\n",
              "2      316.31\n",
              "3      316.50\n",
              "4      317.56\n",
              "        ...  \n",
              "463    364.52\n",
              "464    362.57\n",
              "465    360.24\n",
              "466    360.83\n",
              "467    362.49\n",
              "Name: value, Length: 468, dtype: float64"
            ]
          },
          "metadata": {
            "tags": []
          },
          "execution_count": 33
        }
      ]
    },
    {
      "cell_type": "markdown",
      "metadata": {
        "id": "ubZm_wdBcb__"
      },
      "source": [
        "shift를 사용하면 한칸씩 내려가고 맨 아래에서 내려간 값은 사라지고 맨 윗값은 난이된다.\n",
        "\n",
        "비트코인이나 주식에서 많이 쓰이는건데 \n",
        "\n",
        "차이를 분석 한 것이기 때문에 모든 각 각 의 차이를 다 더해주면 실제 값이 된다."
      ]
    },
    {
      "cell_type": "code",
      "metadata": {
        "colab": {
          "base_uri": "https://localhost:8080/"
        },
        "id": "i2JEihTPcauD",
        "outputId": "72070be4-957a-4b58-b06a-b23910670820"
      },
      "source": [
        "#data = raw.value.shift(1)\n",
        "raw.value.diff(1)"
      ],
      "execution_count": 34,
      "outputs": [
        {
          "output_type": "execute_result",
          "data": {
            "text/plain": [
              "0       NaN\n",
              "1      0.89\n",
              "2      0.19\n",
              "3      1.06\n",
              "4      0.57\n",
              "       ... \n",
              "463   -1.95\n",
              "464   -2.33\n",
              "465    0.59\n",
              "466    1.66\n",
              "467    1.85\n",
              "Name: value, Length: 468, dtype: float64"
            ]
          },
          "metadata": {
            "tags": []
          },
          "execution_count": 34
        }
      ]
    },
    {
      "cell_type": "markdown",
      "metadata": {
        "id": "kdLgqec3c8qx"
      },
      "source": [
        "이러한 값들로 상관성을 파악한 것이 acf 그림이다.\n",
        "\n",
        "차이점을 비교해서 정상성을 만드는 방식"
      ]
    },
    {
      "cell_type": "code",
      "metadata": {
        "colab": {
          "base_uri": "https://localhost:8080/",
          "height": 265
        },
        "id": "P_GBx7qyc7JF",
        "outputId": "aadc2200-5bc7-4f93-ae24-3ed799e25557"
      },
      "source": [
        "plt.plot(raw.time[1:], raw.value.diff(1).dropna())\n",
        "plt.show()"
      ],
      "execution_count": 37,
      "outputs": [
        {
          "output_type": "display_data",
          "data": {
            "image/png": "[encoded data removed]",
            "text/plain": [
              "<Figure size 432x288 with 1 Axes>"
            ]
          },
          "metadata": {
            "tags": [],
            "needs_background": "light"
          }
        }
      ]
    },
    {
      "cell_type": "markdown",
      "metadata": {
        "id": "fU__99J-dbLP"
      },
      "source": [
        "이 결과값과 위에 있던 결과값을 비교할때 아래의 그림이 더 좋다.\n",
        "\n",
        "하루전, 이틀전, 삼일전의 값을 넣어야 하나요?\n",
        "\n",
        "다 해보고 가장 정상성이 높은 것을 선택 해야한다."
      ]
    },
    {
      "cell_type": "code",
      "metadata": {
        "colab": {
          "base_uri": "https://localhost:8080/",
          "height": 794
        },
        "id": "LpljpdAidMqG",
        "outputId": "dcfadea8-cc18-418e-e869-a36a99f854d9"
      },
      "source": [
        "display(stationarity_adf_test(raw.value.diff(1).dropna(), []))\n",
        "display(stationarity_kpss_test(raw.value.diff(1).dropna(), []))\n",
        "sm.graphics.tsa.plot_acf(raw.value.diff(1).dropna(), lags=100)\n",
        "plt.show"
      ],
      "execution_count": 38,
      "outputs": [
        {
          "output_type": "display_data",
          "data": {
            "text/html": [
              "<div>\n",
              "<style scoped>\n",
              "    .dataframe tbody tr th:only-of-type {\n",
              "        vertical-align: middle;\n",
              "    }\n",
              "\n",
              "    .dataframe tbody tr th {\n",
              "        vertical-align: top;\n",
              "    }\n",
              "\n",
              "    .dataframe thead th {\n",
              "        text-align: right;\n",
              "    }\n",
              "</style>\n",
              "<table border=\"1\" class=\"dataframe\">\n",
              "  <thead>\n",
              "    <tr style=\"text-align: right;\">\n",
              "      <th></th>\n",
              "      <th>Stationarity_adf</th>\n",
              "    </tr>\n",
              "  </thead>\n",
              "  <tbody>\n",
              "    <tr>\n",
              "      <th>Test Statistics</th>\n",
              "      <td>-5.138087</td>\n",
              "    </tr>\n",
              "    <tr>\n",
              "      <th>p-value</th>\n",
              "      <td>0.000012</td>\n",
              "    </tr>\n",
              "    <tr>\n",
              "      <th>Used Lag</th>\n",
              "      <td>12.000000</td>\n",
              "    </tr>\n",
              "    <tr>\n",
              "      <th>Used Observations</th>\n",
              "      <td>454.000000</td>\n",
              "    </tr>\n",
              "    <tr>\n",
              "      <th>Critical Value(1%)</th>\n",
              "      <td>-3.444836</td>\n",
              "    </tr>\n",
              "    <tr>\n",
              "      <th>Maximum Information Criteria</th>\n",
              "      <td>271.870851</td>\n",
              "    </tr>\n",
              "  </tbody>\n",
              "</table>\n",
              "</div>"
            ],
            "text/plain": [
              "                              Stationarity_adf\n",
              "Test Statistics                      -5.138087\n",
              "p-value                               0.000012\n",
              "Used Lag                             12.000000\n",
              "Used Observations                   454.000000\n",
              "Critical Value(1%)                   -3.444836\n",
              "Maximum Information Criteria        271.870851"
            ]
          },
          "metadata": {
            "tags": []
          }
        },
        {
          "output_type": "stream",
          "text": [
            "/usr/local/lib/python3.7/dist-packages/statsmodels/tsa/stattools.py:1685: FutureWarning: The behavior of using lags=None will change in the next release. Currently lags=None is the same as lags='legacy', and so a sample-size lag length is used. After the next release, the default will change to be the same as lags='auto' which uses an automatic lag length selection method. To silence this warning, either use 'auto' or 'legacy'\n",
            "  warn(msg, FutureWarning)\n",
            "/usr/local/lib/python3.7/dist-packages/statsmodels/tsa/stattools.py:1711: InterpolationWarning: p-value is greater than the indicated p-value\n",
            "  warn(\"p-value is greater than the indicated p-value\", InterpolationWarning)\n",
            "/usr/local/lib/python3.7/dist-packages/statsmodels/tsa/stattools.py:1711: InterpolationWarning: p-value is greater than the indicated p-value\n",
            "  warn(\"p-value is greater than the indicated p-value\", InterpolationWarning)\n"
          ],
          "name": "stderr"
        },
        {
          "output_type": "display_data",
          "data": {
            "text/html": [
              "<div>\n",
              "<style scoped>\n",
              "    .dataframe tbody tr th:only-of-type {\n",
              "        vertical-align: middle;\n",
              "    }\n",
              "\n",
              "    .dataframe tbody tr th {\n",
              "        vertical-align: top;\n",
              "    }\n",
              "\n",
              "    .dataframe thead th {\n",
              "        text-align: right;\n",
              "    }\n",
              "</style>\n",
              "<table border=\"1\" class=\"dataframe\">\n",
              "  <thead>\n",
              "    <tr style=\"text-align: right;\">\n",
              "      <th></th>\n",
              "      <th>Stationarity_kpss</th>\n",
              "    </tr>\n",
              "  </thead>\n",
              "  <tbody>\n",
              "    <tr>\n",
              "      <th>Test Statistics</th>\n",
              "      <td>0.040406</td>\n",
              "    </tr>\n",
              "    <tr>\n",
              "      <th>p-value</th>\n",
              "      <td>0.100000</td>\n",
              "    </tr>\n",
              "    <tr>\n",
              "      <th>Used Lag</th>\n",
              "      <td>18.000000</td>\n",
              "    </tr>\n",
              "    <tr>\n",
              "      <th>Critical Value(10%)</th>\n",
              "      <td>0.347000</td>\n",
              "    </tr>\n",
              "  </tbody>\n",
              "</table>\n",
              "</div>"
            ],
            "text/plain": [
              "                     Stationarity_kpss\n",
              "Test Statistics               0.040406\n",
              "p-value                       0.100000\n",
              "Used Lag                     18.000000\n",
              "Critical Value(10%)           0.347000"
            ]
          },
          "metadata": {
            "tags": []
          }
        },
        {
          "output_type": "execute_result",
          "data": {
            "text/plain": [
              "<function matplotlib.pyplot.show>"
            ]
          },
          "metadata": {
            "tags": []
          },
          "execution_count": 38
        },
        {
          "output_type": "display_data",
          "data": {
            "image/png": "[encoded data removed]",
            "text/plain": [
              "<Figure size 432x288 with 1 Axes>"
            ]
          },
          "metadata": {
            "tags": [],
            "needs_background": "light"
          }
        }
      ]
    },
    {
      "cell_type": "markdown",
      "metadata": {
        "id": "tdTWElCpeZG5"
      },
      "source": [
        "그래프로 그려보니 계절성이 있다. "
      ]
    },
    {
      "cell_type": "markdown",
      "metadata": {
        "id": "1jOWJNRQeru3"
      },
      "source": [
        "#**계절성 제거**"
      ]
    },
    {
      "cell_type": "code",
      "metadata": {
        "id": "4reSxBzweXki"
      },
      "source": [
        "'''\n",
        "시간, 호흡기 사망 데이터.\n",
        "\n",
        "참고 블로그 : https://emilkwak.github.io/python-toy-datasets\n",
        "\n",
        "rdatasets https://vincentarelbundock.github.io/Rdatasets/articles/data.html\n",
        "\n",
        "'''\n",
        "raw_set = datasets.get_rdataset(\"deaths\", package=\"MASS\")\n",
        "raw = raw_set.data"
      ],
      "execution_count": 39,
      "outputs": []
    },
    {
      "cell_type": "code",
      "metadata": {
        "colab": {
          "base_uri": "https://localhost:8080/",
          "height": 202
        },
        "id": "U0jRhv-xfifn",
        "outputId": "071fb8c9-579c-446e-e31c-524ed2d2ce5d"
      },
      "source": [
        "raw.head()"
      ],
      "execution_count": 40,
      "outputs": [
        {
          "output_type": "execute_result",
          "data": {
            "text/html": [
              "<div>\n",
              "<style scoped>\n",
              "    .dataframe tbody tr th:only-of-type {\n",
              "        vertical-align: middle;\n",
              "    }\n",
              "\n",
              "    .dataframe tbody tr th {\n",
              "        vertical-align: top;\n",
              "    }\n",
              "\n",
              "    .dataframe thead th {\n",
              "        text-align: right;\n",
              "    }\n",
              "</style>\n",
              "<table border=\"1\" class=\"dataframe\">\n",
              "  <thead>\n",
              "    <tr style=\"text-align: right;\">\n",
              "      <th></th>\n",
              "      <th>time</th>\n",
              "      <th>value</th>\n",
              "    </tr>\n",
              "  </thead>\n",
              "  <tbody>\n",
              "    <tr>\n",
              "      <th>0</th>\n",
              "      <td>1974.000000</td>\n",
              "      <td>3035</td>\n",
              "    </tr>\n",
              "    <tr>\n",
              "      <th>1</th>\n",
              "      <td>1974.083333</td>\n",
              "      <td>2552</td>\n",
              "    </tr>\n",
              "    <tr>\n",
              "      <th>2</th>\n",
              "      <td>1974.166667</td>\n",
              "      <td>2704</td>\n",
              "    </tr>\n",
              "    <tr>\n",
              "      <th>3</th>\n",
              "      <td>1974.250000</td>\n",
              "      <td>2554</td>\n",
              "    </tr>\n",
              "    <tr>\n",
              "      <th>4</th>\n",
              "      <td>1974.333333</td>\n",
              "      <td>2014</td>\n",
              "    </tr>\n",
              "  </tbody>\n",
              "</table>\n",
              "</div>"
            ],
            "text/plain": [
              "          time  value\n",
              "0  1974.000000   3035\n",
              "1  1974.083333   2552\n",
              "2  1974.166667   2704\n",
              "3  1974.250000   2554\n",
              "4  1974.333333   2014"
            ]
          },
          "metadata": {
            "tags": []
          },
          "execution_count": 40
        }
      ]
    },
    {
      "cell_type": "code",
      "metadata": {
        "colab": {
          "base_uri": "https://localhost:8080/",
          "height": 202
        },
        "id": "8-Hnp_Aqflid",
        "outputId": "4a5d0281-e6eb-4580-ed30-e0b0b19fc677"
      },
      "source": [
        "raw.tail()"
      ],
      "execution_count": 41,
      "outputs": [
        {
          "output_type": "execute_result",
          "data": {
            "text/html": [
              "<div>\n",
              "<style scoped>\n",
              "    .dataframe tbody tr th:only-of-type {\n",
              "        vertical-align: middle;\n",
              "    }\n",
              "\n",
              "    .dataframe tbody tr th {\n",
              "        vertical-align: top;\n",
              "    }\n",
              "\n",
              "    .dataframe thead th {\n",
              "        text-align: right;\n",
              "    }\n",
              "</style>\n",
              "<table border=\"1\" class=\"dataframe\">\n",
              "  <thead>\n",
              "    <tr style=\"text-align: right;\">\n",
              "      <th></th>\n",
              "      <th>time</th>\n",
              "      <th>value</th>\n",
              "    </tr>\n",
              "  </thead>\n",
              "  <tbody>\n",
              "    <tr>\n",
              "      <th>67</th>\n",
              "      <td>1979.583333</td>\n",
              "      <td>1354</td>\n",
              "    </tr>\n",
              "    <tr>\n",
              "      <th>68</th>\n",
              "      <td>1979.666667</td>\n",
              "      <td>1333</td>\n",
              "    </tr>\n",
              "    <tr>\n",
              "      <th>69</th>\n",
              "      <td>1979.750000</td>\n",
              "      <td>1492</td>\n",
              "    </tr>\n",
              "    <tr>\n",
              "      <th>70</th>\n",
              "      <td>1979.833333</td>\n",
              "      <td>1781</td>\n",
              "    </tr>\n",
              "    <tr>\n",
              "      <th>71</th>\n",
              "      <td>1979.916667</td>\n",
              "      <td>1915</td>\n",
              "    </tr>\n",
              "  </tbody>\n",
              "</table>\n",
              "</div>"
            ],
            "text/plain": [
              "           time  value\n",
              "67  1979.583333   1354\n",
              "68  1979.666667   1333\n",
              "69  1979.750000   1492\n",
              "70  1979.833333   1781\n",
              "71  1979.916667   1915"
            ]
          },
          "metadata": {
            "tags": []
          },
          "execution_count": 41
        }
      ]
    },
    {
      "cell_type": "code",
      "metadata": {
        "colab": {
          "base_uri": "https://localhost:8080/"
        },
        "id": "N6otZiMSf22c",
        "outputId": "9b5ba055-e0f9-452c-d68c-2a74b5d28eaa"
      },
      "source": [
        "raw.info()"
      ],
      "execution_count": 42,
      "outputs": [
        {
          "output_type": "stream",
          "text": [
            "<class 'pandas.core.frame.DataFrame'>\n",
            "RangeIndex: 72 entries, 0 to 71\n",
            "Data columns (total 2 columns):\n",
            " #   Column  Non-Null Count  Dtype  \n",
            "---  ------  --------------  -----  \n",
            " 0   time    72 non-null     float64\n",
            " 1   value   72 non-null     int64  \n",
            "dtypes: float64(1), int64(1)\n",
            "memory usage: 1.2 KB\n"
          ],
          "name": "stdout"
        }
      ]
    },
    {
      "cell_type": "code",
      "metadata": {
        "colab": {
          "base_uri": "https://localhost:8080/",
          "height": 294
        },
        "id": "HfNKS5bcgpx5",
        "outputId": "1ec15385-2297-4551-df3b-022c94754e06"
      },
      "source": [
        "raw.describe()"
      ],
      "execution_count": 43,
      "outputs": [
        {
          "output_type": "execute_result",
          "data": {
            "text/html": [
              "<div>\n",
              "<style scoped>\n",
              "    .dataframe tbody tr th:only-of-type {\n",
              "        vertical-align: middle;\n",
              "    }\n",
              "\n",
              "    .dataframe tbody tr th {\n",
              "        vertical-align: top;\n",
              "    }\n",
              "\n",
              "    .dataframe thead th {\n",
              "        text-align: right;\n",
              "    }\n",
              "</style>\n",
              "<table border=\"1\" class=\"dataframe\">\n",
              "  <thead>\n",
              "    <tr style=\"text-align: right;\">\n",
              "      <th></th>\n",
              "      <th>time</th>\n",
              "      <th>value</th>\n",
              "    </tr>\n",
              "  </thead>\n",
              "  <tbody>\n",
              "    <tr>\n",
              "      <th>count</th>\n",
              "      <td>72.000000</td>\n",
              "      <td>72.000000</td>\n",
              "    </tr>\n",
              "    <tr>\n",
              "      <th>mean</th>\n",
              "      <td>1976.958333</td>\n",
              "      <td>2056.625000</td>\n",
              "    </tr>\n",
              "    <tr>\n",
              "      <th>std</th>\n",
              "      <td>1.744037</td>\n",
              "      <td>609.845684</td>\n",
              "    </tr>\n",
              "    <tr>\n",
              "      <th>min</th>\n",
              "      <td>1974.000000</td>\n",
              "      <td>1300.000000</td>\n",
              "    </tr>\n",
              "    <tr>\n",
              "      <th>25%</th>\n",
              "      <td>1975.479167</td>\n",
              "      <td>1551.750000</td>\n",
              "    </tr>\n",
              "    <tr>\n",
              "      <th>50%</th>\n",
              "      <td>1976.958333</td>\n",
              "      <td>1870.000000</td>\n",
              "    </tr>\n",
              "    <tr>\n",
              "      <th>75%</th>\n",
              "      <td>1978.437500</td>\n",
              "      <td>2552.500000</td>\n",
              "    </tr>\n",
              "    <tr>\n",
              "      <th>max</th>\n",
              "      <td>1979.916667</td>\n",
              "      <td>3891.000000</td>\n",
              "    </tr>\n",
              "  </tbody>\n",
              "</table>\n",
              "</div>"
            ],
            "text/plain": [
              "              time        value\n",
              "count    72.000000    72.000000\n",
              "mean   1976.958333  2056.625000\n",
              "std       1.744037   609.845684\n",
              "min    1974.000000  1300.000000\n",
              "25%    1975.479167  1551.750000\n",
              "50%    1976.958333  1870.000000\n",
              "75%    1978.437500  2552.500000\n",
              "max    1979.916667  3891.000000"
            ]
          },
          "metadata": {
            "tags": []
          },
          "execution_count": 43
        }
      ]
    },
    {
      "cell_type": "code",
      "metadata": {
        "colab": {
          "base_uri": "https://localhost:8080/",
          "height": 268
        },
        "id": "KfDUgJe9gwgn",
        "outputId": "8a3ee77b-1551-4691-f185-462a7ff16c2b"
      },
      "source": [
        "plt.plot(raw.time, raw.value)\n",
        "plt.show()"
      ],
      "execution_count": 44,
      "outputs": [
        {
          "output_type": "display_data",
          "data": {
            "image/png": "[encoded data removed]",
            "text/plain": [
              "<Figure size 432x288 with 1 Axes>"
            ]
          },
          "metadata": {
            "tags": [],
            "needs_background": "light"
          }
        }
      ]
    },
    {
      "cell_type": "markdown",
      "metadata": {
        "id": "g3ungAQxg9Cv"
      },
      "source": [
        "계절성이 뚜렷하구나.\n",
        "\n",
        "위에서 했던 것들을 가지고 오자"
      ]
    },
    {
      "cell_type": "code",
      "metadata": {
        "colab": {
          "base_uri": "https://localhost:8080/",
          "height": 724
        },
        "id": "EvibO3wpg4hj",
        "outputId": "a2e3e0e9-6f0d-46e6-e6e4-3fa3a612e9b8"
      },
      "source": [
        "display(stationarity_adf_test(raw.value.dropna(), []))\n",
        "display(stationarity_kpss_test(raw.value, []))\n",
        "sm.graphics.tsa.plot_acf(raw.value,lags=50, title='ACF')\n",
        "plt.show"
      ],
      "execution_count": 48,
      "outputs": [
        {
          "output_type": "display_data",
          "data": {
            "text/html": [
              "<div>\n",
              "<style scoped>\n",
              "    .dataframe tbody tr th:only-of-type {\n",
              "        vertical-align: middle;\n",
              "    }\n",
              "\n",
              "    .dataframe tbody tr th {\n",
              "        vertical-align: top;\n",
              "    }\n",
              "\n",
              "    .dataframe thead th {\n",
              "        text-align: right;\n",
              "    }\n",
              "</style>\n",
              "<table border=\"1\" class=\"dataframe\">\n",
              "  <thead>\n",
              "    <tr style=\"text-align: right;\">\n",
              "      <th></th>\n",
              "      <th>Stationarity_adf</th>\n",
              "    </tr>\n",
              "  </thead>\n",
              "  <tbody>\n",
              "    <tr>\n",
              "      <th>Test Statistics</th>\n",
              "      <td>-0.568650</td>\n",
              "    </tr>\n",
              "    <tr>\n",
              "      <th>p-value</th>\n",
              "      <td>0.877910</td>\n",
              "    </tr>\n",
              "    <tr>\n",
              "      <th>Used Lag</th>\n",
              "      <td>12.000000</td>\n",
              "    </tr>\n",
              "    <tr>\n",
              "      <th>Used Observations</th>\n",
              "      <td>59.000000</td>\n",
              "    </tr>\n",
              "    <tr>\n",
              "      <th>Critical Value(1%)</th>\n",
              "      <td>-3.546395</td>\n",
              "    </tr>\n",
              "    <tr>\n",
              "      <th>Maximum Information Criteria</th>\n",
              "      <td>841.377559</td>\n",
              "    </tr>\n",
              "  </tbody>\n",
              "</table>\n",
              "</div>"
            ],
            "text/plain": [
              "                              Stationarity_adf\n",
              "Test Statistics                      -0.568650\n",
              "p-value                               0.877910\n",
              "Used Lag                             12.000000\n",
              "Used Observations                    59.000000\n",
              "Critical Value(1%)                   -3.546395\n",
              "Maximum Information Criteria        841.377559"
            ]
          },
          "metadata": {
            "tags": []
          }
        },
        {
          "output_type": "stream",
          "text": [
            "/usr/local/lib/python3.7/dist-packages/statsmodels/tsa/stattools.py:1685: FutureWarning: The behavior of using lags=None will change in the next release. Currently lags=None is the same as lags='legacy', and so a sample-size lag length is used. After the next release, the default will change to be the same as lags='auto' which uses an automatic lag length selection method. To silence this warning, either use 'auto' or 'legacy'\n",
            "  warn(msg, FutureWarning)\n"
          ],
          "name": "stderr"
        },
        {
          "output_type": "display_data",
          "data": {
            "text/html": [
              "<div>\n",
              "<style scoped>\n",
              "    .dataframe tbody tr th:only-of-type {\n",
              "        vertical-align: middle;\n",
              "    }\n",
              "\n",
              "    .dataframe tbody tr th {\n",
              "        vertical-align: top;\n",
              "    }\n",
              "\n",
              "    .dataframe thead th {\n",
              "        text-align: right;\n",
              "    }\n",
              "</style>\n",
              "<table border=\"1\" class=\"dataframe\">\n",
              "  <thead>\n",
              "    <tr style=\"text-align: right;\">\n",
              "      <th></th>\n",
              "      <th>Stationarity_kpss</th>\n",
              "    </tr>\n",
              "  </thead>\n",
              "  <tbody>\n",
              "    <tr>\n",
              "      <th>Test Statistics</th>\n",
              "      <td>0.651989</td>\n",
              "    </tr>\n",
              "    <tr>\n",
              "      <th>p-value</th>\n",
              "      <td>0.017910</td>\n",
              "    </tr>\n",
              "    <tr>\n",
              "      <th>Used Lag</th>\n",
              "      <td>12.000000</td>\n",
              "    </tr>\n",
              "    <tr>\n",
              "      <th>Critical Value(10%)</th>\n",
              "      <td>0.347000</td>\n",
              "    </tr>\n",
              "  </tbody>\n",
              "</table>\n",
              "</div>"
            ],
            "text/plain": [
              "                     Stationarity_kpss\n",
              "Test Statistics               0.651989\n",
              "p-value                       0.017910\n",
              "Used Lag                     12.000000\n",
              "Critical Value(10%)           0.347000"
            ]
          },
          "metadata": {
            "tags": []
          }
        },
        {
          "output_type": "execute_result",
          "data": {
            "text/plain": [
              "<function matplotlib.pyplot.show>"
            ]
          },
          "metadata": {
            "tags": []
          },
          "execution_count": 48
        },
        {
          "output_type": "display_data",
          "data": {
            "image/png": "[encoded data removed]",
            "text/plain": [
              "<Figure size 432x288 with 1 Axes>"
            ]
          },
          "metadata": {
            "tags": [],
            "needs_background": "light"
          }
        }
      ]
    },
    {
      "cell_type": "markdown",
      "metadata": {
        "id": "UXn_wIechmhl"
      },
      "source": [
        "Stationarity_adf 와 Stationarity_kpss 이 두개를 잘라 넣어 유용하게 사용하면 된다."
      ]
    },
    {
      "cell_type": "code",
      "metadata": {
        "colab": {
          "base_uri": "https://localhost:8080/",
          "height": 202
        },
        "id": "8A5RdQ2ZhDdH",
        "outputId": "0f2e36a3-4eee-4173-fbf0-cf55ac5dce72"
      },
      "source": [
        "raw.head()"
      ],
      "execution_count": 49,
      "outputs": [
        {
          "output_type": "execute_result",
          "data": {
            "text/html": [
              "<div>\n",
              "<style scoped>\n",
              "    .dataframe tbody tr th:only-of-type {\n",
              "        vertical-align: middle;\n",
              "    }\n",
              "\n",
              "    .dataframe tbody tr th {\n",
              "        vertical-align: top;\n",
              "    }\n",
              "\n",
              "    .dataframe thead th {\n",
              "        text-align: right;\n",
              "    }\n",
              "</style>\n",
              "<table border=\"1\" class=\"dataframe\">\n",
              "  <thead>\n",
              "    <tr style=\"text-align: right;\">\n",
              "      <th></th>\n",
              "      <th>time</th>\n",
              "      <th>value</th>\n",
              "    </tr>\n",
              "  </thead>\n",
              "  <tbody>\n",
              "    <tr>\n",
              "      <th>0</th>\n",
              "      <td>1974.000000</td>\n",
              "      <td>3035</td>\n",
              "    </tr>\n",
              "    <tr>\n",
              "      <th>1</th>\n",
              "      <td>1974.083333</td>\n",
              "      <td>2552</td>\n",
              "    </tr>\n",
              "    <tr>\n",
              "      <th>2</th>\n",
              "      <td>1974.166667</td>\n",
              "      <td>2704</td>\n",
              "    </tr>\n",
              "    <tr>\n",
              "      <th>3</th>\n",
              "      <td>1974.250000</td>\n",
              "      <td>2554</td>\n",
              "    </tr>\n",
              "    <tr>\n",
              "      <th>4</th>\n",
              "      <td>1974.333333</td>\n",
              "      <td>2014</td>\n",
              "    </tr>\n",
              "  </tbody>\n",
              "</table>\n",
              "</div>"
            ],
            "text/plain": [
              "          time  value\n",
              "0  1974.000000   3035\n",
              "1  1974.083333   2552\n",
              "2  1974.166667   2704\n",
              "3  1974.250000   2554\n",
              "4  1974.333333   2014"
            ]
          },
          "metadata": {
            "tags": []
          },
          "execution_count": 49
        }
      ]
    },
    {
      "cell_type": "markdown",
      "metadata": {
        "id": "P4HkGdJih2ch"
      },
      "source": [
        "시간에 알수 없는 값들을 알수 있게 만들어보자\n",
        "\n",
        "그냥 이런게 있다 하고 알고 넘어가자\n"
      ]
    },
    {
      "cell_type": "code",
      "metadata": {
        "id": "CWDe3-aYh06x"
      },
      "source": [
        "pd.date_range('1974-01-01',periods=len(raw), freq='M')\n",
        "raw['month'] = raw['time'].dt.month"
      ],
      "execution_count": 56,
      "outputs": []
    },
    {
      "cell_type": "markdown",
      "metadata": {
        "id": "6ad9AZmZiIMn"
      },
      "source": [
        "실질적으로 코드를 다 쳐가면서 확인해 가면서 하면 된다."
      ]
    },
    {
      "cell_type": "code",
      "metadata": {
        "colab": {
          "base_uri": "https://localhost:8080/"
        },
        "id": "17zq91_WiEIt",
        "outputId": "cd65a510-4a50-4b5f-d57b-9d78b82a6523"
      },
      "source": [
        "#이게 뭐지\n",
        "raw.time.dt.month[:20]\n",
        "#아 이런거구나"
      ],
      "execution_count": 55,
      "outputs": [
        {
          "output_type": "execute_result",
          "data": {
            "text/plain": [
              "0      1\n",
              "1      2\n",
              "2      3\n",
              "3      4\n",
              "4      5\n",
              "5      6\n",
              "6      7\n",
              "7      8\n",
              "8      9\n",
              "9     10\n",
              "10    11\n",
              "11    12\n",
              "12     1\n",
              "13     2\n",
              "14     3\n",
              "15     4\n",
              "16     5\n",
              "17     6\n",
              "18     7\n",
              "19     8\n",
              "Name: time, dtype: int64"
            ]
          },
          "metadata": {
            "tags": []
          },
          "execution_count": 55
        }
      ]
    },
    {
      "cell_type": "markdown",
      "metadata": {
        "id": "ny8ajvbmi_UP"
      },
      "source": [
        "연도도 뽑을수 있다.\n",
        "\n",
        "모르면 구글링을 하면 된다. \n",
        "\n"
      ]
    },
    {
      "cell_type": "code",
      "metadata": {
        "colab": {
          "base_uri": "https://localhost:8080/",
          "height": 202
        },
        "id": "Y1v9iC97iids",
        "outputId": "b0e560fb-fa9c-47e5-edd6-b284a6b8f66f"
      },
      "source": [
        "raw.head()"
      ],
      "execution_count": 57,
      "outputs": [
        {
          "output_type": "execute_result",
          "data": {
            "text/html": [
              "<div>\n",
              "<style scoped>\n",
              "    .dataframe tbody tr th:only-of-type {\n",
              "        vertical-align: middle;\n",
              "    }\n",
              "\n",
              "    .dataframe tbody tr th {\n",
              "        vertical-align: top;\n",
              "    }\n",
              "\n",
              "    .dataframe thead th {\n",
              "        text-align: right;\n",
              "    }\n",
              "</style>\n",
              "<table border=\"1\" class=\"dataframe\">\n",
              "  <thead>\n",
              "    <tr style=\"text-align: right;\">\n",
              "      <th></th>\n",
              "      <th>time</th>\n",
              "      <th>value</th>\n",
              "      <th>month</th>\n",
              "    </tr>\n",
              "  </thead>\n",
              "  <tbody>\n",
              "    <tr>\n",
              "      <th>0</th>\n",
              "      <td>1974-01-31</td>\n",
              "      <td>3035</td>\n",
              "      <td>1</td>\n",
              "    </tr>\n",
              "    <tr>\n",
              "      <th>1</th>\n",
              "      <td>1974-02-28</td>\n",
              "      <td>2552</td>\n",
              "      <td>2</td>\n",
              "    </tr>\n",
              "    <tr>\n",
              "      <th>2</th>\n",
              "      <td>1974-03-31</td>\n",
              "      <td>2704</td>\n",
              "      <td>3</td>\n",
              "    </tr>\n",
              "    <tr>\n",
              "      <th>3</th>\n",
              "      <td>1974-04-30</td>\n",
              "      <td>2554</td>\n",
              "      <td>4</td>\n",
              "    </tr>\n",
              "    <tr>\n",
              "      <th>4</th>\n",
              "      <td>1974-05-31</td>\n",
              "      <td>2014</td>\n",
              "      <td>5</td>\n",
              "    </tr>\n",
              "  </tbody>\n",
              "</table>\n",
              "</div>"
            ],
            "text/plain": [
              "        time  value  month\n",
              "0 1974-01-31   3035      1\n",
              "1 1974-02-28   2552      2\n",
              "2 1974-03-31   2704      3\n",
              "3 1974-04-30   2554      4\n",
              "4 1974-05-31   2014      5"
            ]
          },
          "metadata": {
            "tags": []
          },
          "execution_count": 57
        }
      ]
    },
    {
      "cell_type": "code",
      "metadata": {
        "colab": {
          "base_uri": "https://localhost:8080/",
          "height": 630
        },
        "id": "CK_2TU8bjDEP",
        "outputId": "b74c4140-6cb1-4d7b-e6a8-caf4e86369fd"
      },
      "source": [
        "#'' 안에 value는 y이고 , c는 x의 자리이다.\n",
        "#C() 변수 더미 값들로 1월 부터 12월까지 알아서 만들어 준다\n",
        "#-1 은 0이 되면 좋지 않기때는에 y 절편을 반영하지 않겠다는 의미로 -1을 해준다. 라고한다...\n",
        "result = sm.OLS.from_formula(formula='value ~ C(month) - 1', data=raw).fit()\n",
        "display(result.summary())\n"
      ],
      "execution_count": 59,
      "outputs": [
        {
          "output_type": "display_data",
          "data": {
            "text/html": [
              "<table class=\"simpletable\">\n",
              "<caption>OLS Regression Results</caption>\n",
              "<tr>\n",
              "  <th>Dep. Variable:</th>          <td>value</td>      <th>  R-squared:         </th> <td>   0.853</td>\n",
              "</tr>\n",
              "<tr>\n",
              "  <th>Model:</th>                   <td>OLS</td>       <th>  Adj. R-squared:    </th> <td>   0.826</td>\n",
              "</tr>\n",
              "<tr>\n",
              "  <th>Method:</th>             <td>Least Squares</td>  <th>  F-statistic:       </th> <td>   31.66</td>\n",
              "</tr>\n",
              "<tr>\n",
              "  <th>Date:</th>             <td>Thu, 10 Jun 2021</td> <th>  Prob (F-statistic):</th> <td>6.55e-21</td>\n",
              "</tr>\n",
              "<tr>\n",
              "  <th>Time:</th>                 <td>01:35:31</td>     <th>  Log-Likelihood:    </th> <td> -494.38</td>\n",
              "</tr>\n",
              "<tr>\n",
              "  <th>No. Observations:</th>      <td>    72</td>      <th>  AIC:               </th> <td>   1013.</td>\n",
              "</tr>\n",
              "<tr>\n",
              "  <th>Df Residuals:</th>          <td>    60</td>      <th>  BIC:               </th> <td>   1040.</td>\n",
              "</tr>\n",
              "<tr>\n",
              "  <th>Df Model:</th>              <td>    11</td>      <th>                     </th>     <td> </td>   \n",
              "</tr>\n",
              "<tr>\n",
              "  <th>Covariance Type:</th>      <td>nonrobust</td>    <th>                     </th>     <td> </td>   \n",
              "</tr>\n",
              "</table>\n",
              "<table class=\"simpletable\">\n",
              "<tr>\n",
              "        <td></td>          <th>coef</th>     <th>std err</th>      <th>t</th>      <th>P>|t|</th>  <th>[0.025</th>    <th>0.975]</th>  \n",
              "</tr>\n",
              "<tr>\n",
              "  <th>C(month)[1]</th>  <td> 2959.3333</td> <td>  103.831</td> <td>   28.502</td> <td> 0.000</td> <td> 2751.641</td> <td> 3167.025</td>\n",
              "</tr>\n",
              "<tr>\n",
              "  <th>C(month)[2]</th>  <td> 2894.6667</td> <td>  103.831</td> <td>   27.879</td> <td> 0.000</td> <td> 2686.975</td> <td> 3102.359</td>\n",
              "</tr>\n",
              "<tr>\n",
              "  <th>C(month)[3]</th>  <td> 2743.0000</td> <td>  103.831</td> <td>   26.418</td> <td> 0.000</td> <td> 2535.308</td> <td> 2950.692</td>\n",
              "</tr>\n",
              "<tr>\n",
              "  <th>C(month)[4]</th>  <td> 2269.6667</td> <td>  103.831</td> <td>   21.859</td> <td> 0.000</td> <td> 2061.975</td> <td> 2477.359</td>\n",
              "</tr>\n",
              "<tr>\n",
              "  <th>C(month)[5]</th>  <td> 1805.1667</td> <td>  103.831</td> <td>   17.386</td> <td> 0.000</td> <td> 1597.475</td> <td> 2012.859</td>\n",
              "</tr>\n",
              "<tr>\n",
              "  <th>C(month)[6]</th>  <td> 1608.6667</td> <td>  103.831</td> <td>   15.493</td> <td> 0.000</td> <td> 1400.975</td> <td> 1816.359</td>\n",
              "</tr>\n",
              "<tr>\n",
              "  <th>C(month)[7]</th>  <td> 1550.8333</td> <td>  103.831</td> <td>   14.936</td> <td> 0.000</td> <td> 1343.141</td> <td> 1758.525</td>\n",
              "</tr>\n",
              "<tr>\n",
              "  <th>C(month)[8]</th>  <td> 1408.3333</td> <td>  103.831</td> <td>   13.564</td> <td> 0.000</td> <td> 1200.641</td> <td> 1616.025</td>\n",
              "</tr>\n",
              "<tr>\n",
              "  <th>C(month)[9]</th>  <td> 1397.3333</td> <td>  103.831</td> <td>   13.458</td> <td> 0.000</td> <td> 1189.641</td> <td> 1605.025</td>\n",
              "</tr>\n",
              "<tr>\n",
              "  <th>C(month)[10]</th> <td> 1690.0000</td> <td>  103.831</td> <td>   16.277</td> <td> 0.000</td> <td> 1482.308</td> <td> 1897.692</td>\n",
              "</tr>\n",
              "<tr>\n",
              "  <th>C(month)[11]</th> <td> 1874.0000</td> <td>  103.831</td> <td>   18.049</td> <td> 0.000</td> <td> 1666.308</td> <td> 2081.692</td>\n",
              "</tr>\n",
              "<tr>\n",
              "  <th>C(month)[12]</th> <td> 2478.5000</td> <td>  103.831</td> <td>   23.871</td> <td> 0.000</td> <td> 2270.808</td> <td> 2686.192</td>\n",
              "</tr>\n",
              "</table>\n",
              "<table class=\"simpletable\">\n",
              "<tr>\n",
              "  <th>Omnibus:</th>       <td>19.630</td> <th>  Durbin-Watson:     </th> <td>   1.374</td>\n",
              "</tr>\n",
              "<tr>\n",
              "  <th>Prob(Omnibus):</th> <td> 0.000</td> <th>  Jarque-Bera (JB):  </th> <td>  49.630</td>\n",
              "</tr>\n",
              "<tr>\n",
              "  <th>Skew:</th>          <td> 0.787</td> <th>  Prob(JB):          </th> <td>1.67e-11</td>\n",
              "</tr>\n",
              "<tr>\n",
              "  <th>Kurtosis:</th>      <td> 6.750</td> <th>  Cond. No.          </th> <td>    1.00</td>\n",
              "</tr>\n",
              "</table><br/><br/>Warnings:<br/>[1] Standard Errors assume that the covariance matrix of the errors is correctly specified."
            ],
            "text/plain": [
              "<class 'statsmodels.iolib.summary.Summary'>\n",
              "\"\"\"\n",
              "                            OLS Regression Results                            \n",
              "==============================================================================\n",
              "Dep. Variable:                  value   R-squared:                       0.853\n",
              "Model:                            OLS   Adj. R-squared:                  0.826\n",
              "Method:                 Least Squares   F-statistic:                     31.66\n",
              "Date:                Thu, 10 Jun 2021   Prob (F-statistic):           6.55e-21\n",
              "Time:                        01:35:31   Log-Likelihood:                -494.38\n",
              "No. Observations:                  72   AIC:                             1013.\n",
              "Df Residuals:                      60   BIC:                             1040.\n",
              "Df Model:                          11                                         \n",
              "Covariance Type:            nonrobust                                         \n",
              "================================================================================\n",
              "                   coef    std err          t      P>|t|      [0.025      0.975]\n",
              "--------------------------------------------------------------------------------\n",
              "C(month)[1]   2959.3333    103.831     28.502      0.000    2751.641    3167.025\n",
              "C(month)[2]   2894.6667    103.831     27.879      0.000    2686.975    3102.359\n",
              "C(month)[3]   2743.0000    103.831     26.418      0.000    2535.308    2950.692\n",
              "C(month)[4]   2269.6667    103.831     21.859      0.000    2061.975    2477.359\n",
              "C(month)[5]   1805.1667    103.831     17.386      0.000    1597.475    2012.859\n",
              "C(month)[6]   1608.6667    103.831     15.493      0.000    1400.975    1816.359\n",
              "C(month)[7]   1550.8333    103.831     14.936      0.000    1343.141    1758.525\n",
              "C(month)[8]   1408.3333    103.831     13.564      0.000    1200.641    1616.025\n",
              "C(month)[9]   1397.3333    103.831     13.458      0.000    1189.641    1605.025\n",
              "C(month)[10]  1690.0000    103.831     16.277      0.000    1482.308    1897.692\n",
              "C(month)[11]  1874.0000    103.831     18.049      0.000    1666.308    2081.692\n",
              "C(month)[12]  2478.5000    103.831     23.871      0.000    2270.808    2686.192\n",
              "==============================================================================\n",
              "Omnibus:                       19.630   Durbin-Watson:                   1.374\n",
              "Prob(Omnibus):                  0.000   Jarque-Bera (JB):               49.630\n",
              "Skew:                           0.787   Prob(JB):                     1.67e-11\n",
              "Kurtosis:                       6.750   Cond. No.                         1.00\n",
              "==============================================================================\n",
              "\n",
              "Warnings:\n",
              "[1] Standard Errors assume that the covariance matrix of the errors is correctly specified.\n",
              "\"\"\""
            ]
          },
          "metadata": {
            "tags": []
          }
        }
      ]
    },
    {
      "cell_type": "code",
      "metadata": {
        "colab": {
          "base_uri": "https://localhost:8080/",
          "height": 519
        },
        "id": "5zRdYnR1jYZT",
        "outputId": "f361cf09-4f7c-4955-b1cb-6616f4a4a486"
      },
      "source": [
        "#만든것으로 정확도가 얼마나 나오나 확인을 해보자\n",
        "\n",
        "plt.plot(raw.time, raw.value)\n",
        "plt.show() \n",
        "\n",
        "#여기에 우리가 만든 값들을 보고싶으면 x, y를 넣어주면 된다.\n",
        "\n",
        "plt.plot(raw.time, raw.value, raw.time, result.fittedvalues)\n",
        "plt.show()\n"
      ],
      "execution_count": 61,
      "outputs": [
        {
          "output_type": "display_data",
          "data": {
            "image/png": "[encoded data removed]",
            "text/plain": [
              "<Figure size 432x288 with 1 Axes>"
            ]
          },
          "metadata": {
            "tags": [],
            "needs_background": "light"
          }
        },
        {
          "output_type": "display_data",
          "data": {
            "image/png": "[encoded data removed]",
            "text/plain": [
              "<Figure size 432x288 with 1 Axes>"
            ]
          },
          "metadata": {
            "tags": [],
            "needs_background": "light"
          }
        }
      ]
    },
    {
      "cell_type": "markdown",
      "metadata": {
        "id": "SQt2MOzNkO_W"
      },
      "source": [
        "주기와 계절성은 다른 의미로 쓰인다. 궁굼하면 검색해보아라\n"
      ]
    },
    {
      "cell_type": "code",
      "metadata": {
        "colab": {
          "base_uri": "https://localhost:8080/",
          "height": 265
        },
        "id": "QhW7iPrJkCwr",
        "outputId": "a57bbee6-d553-42cf-b334-17e246f5a126"
      },
      "source": [
        "'''\n",
        "result.resid : 잔차\n",
        "'''\n",
        "\n",
        "plt.plot(raw.time, result.resid)\n",
        "plt.show()"
      ],
      "execution_count": 62,
      "outputs": [
        {
          "output_type": "display_data",
          "data": {
            "image/png": "[encoded data removed]",
            "text/plain": [
              "<Figure size 432x288 with 1 Axes>"
            ]
          },
          "metadata": {
            "tags": [],
            "needs_background": "light"
          }
        }
      ]
    },
    {
      "cell_type": "markdown",
      "metadata": {
        "id": "BO5OKWXAkkJu"
      },
      "source": [
        "썩 마음에 들지 않으나 계절성 자체는 사라진것을 볼 수 있다."
      ]
    },
    {
      "cell_type": "code",
      "metadata": {
        "colab": {
          "base_uri": "https://localhost:8080/",
          "height": 724
        },
        "id": "xE5QfPiWkimM",
        "outputId": "d86b1765-e7d9-40a9-c71c-60b374a783d9"
      },
      "source": [
        "display(stationarity_adf_test(result.resid, []))\n",
        "display(stationarity_kpss_test(result.resid, []))\n",
        "sm.graphics.tsa.plot_acf(result.resid,lags=50)\n",
        "plt.show"
      ],
      "execution_count": 64,
      "outputs": [
        {
          "output_type": "display_data",
          "data": {
            "text/html": [
              "<div>\n",
              "<style scoped>\n",
              "    .dataframe tbody tr th:only-of-type {\n",
              "        vertical-align: middle;\n",
              "    }\n",
              "\n",
              "    .dataframe tbody tr th {\n",
              "        vertical-align: top;\n",
              "    }\n",
              "\n",
              "    .dataframe thead th {\n",
              "        text-align: right;\n",
              "    }\n",
              "</style>\n",
              "<table border=\"1\" class=\"dataframe\">\n",
              "  <thead>\n",
              "    <tr style=\"text-align: right;\">\n",
              "      <th></th>\n",
              "      <th>Stationarity_adf</th>\n",
              "    </tr>\n",
              "  </thead>\n",
              "  <tbody>\n",
              "    <tr>\n",
              "      <th>Test Statistics</th>\n",
              "      <td>-5.842931e+00</td>\n",
              "    </tr>\n",
              "    <tr>\n",
              "      <th>p-value</th>\n",
              "      <td>3.740637e-07</td>\n",
              "    </tr>\n",
              "    <tr>\n",
              "      <th>Used Lag</th>\n",
              "      <td>0.000000e+00</td>\n",
              "    </tr>\n",
              "    <tr>\n",
              "      <th>Used Observations</th>\n",
              "      <td>7.100000e+01</td>\n",
              "    </tr>\n",
              "    <tr>\n",
              "      <th>Critical Value(1%)</th>\n",
              "      <td>-3.526005e+00</td>\n",
              "    </tr>\n",
              "    <tr>\n",
              "      <th>Maximum Information Criteria</th>\n",
              "      <td>8.123641e+02</td>\n",
              "    </tr>\n",
              "  </tbody>\n",
              "</table>\n",
              "</div>"
            ],
            "text/plain": [
              "                              Stationarity_adf\n",
              "Test Statistics                  -5.842931e+00\n",
              "p-value                           3.740637e-07\n",
              "Used Lag                          0.000000e+00\n",
              "Used Observations                 7.100000e+01\n",
              "Critical Value(1%)               -3.526005e+00\n",
              "Maximum Information Criteria      8.123641e+02"
            ]
          },
          "metadata": {
            "tags": []
          }
        },
        {
          "output_type": "stream",
          "text": [
            "/usr/local/lib/python3.7/dist-packages/statsmodels/tsa/stattools.py:1685: FutureWarning: The behavior of using lags=None will change in the next release. Currently lags=None is the same as lags='legacy', and so a sample-size lag length is used. After the next release, the default will change to be the same as lags='auto' which uses an automatic lag length selection method. To silence this warning, either use 'auto' or 'legacy'\n",
            "  warn(msg, FutureWarning)\n"
          ],
          "name": "stderr"
        },
        {
          "output_type": "display_data",
          "data": {
            "text/html": [
              "<div>\n",
              "<style scoped>\n",
              "    .dataframe tbody tr th:only-of-type {\n",
              "        vertical-align: middle;\n",
              "    }\n",
              "\n",
              "    .dataframe tbody tr th {\n",
              "        vertical-align: top;\n",
              "    }\n",
              "\n",
              "    .dataframe thead th {\n",
              "        text-align: right;\n",
              "    }\n",
              "</style>\n",
              "<table border=\"1\" class=\"dataframe\">\n",
              "  <thead>\n",
              "    <tr style=\"text-align: right;\">\n",
              "      <th></th>\n",
              "      <th>Stationarity_kpss</th>\n",
              "    </tr>\n",
              "  </thead>\n",
              "  <tbody>\n",
              "    <tr>\n",
              "      <th>Test Statistics</th>\n",
              "      <td>0.538249</td>\n",
              "    </tr>\n",
              "    <tr>\n",
              "      <th>p-value</th>\n",
              "      <td>0.033052</td>\n",
              "    </tr>\n",
              "    <tr>\n",
              "      <th>Used Lag</th>\n",
              "      <td>12.000000</td>\n",
              "    </tr>\n",
              "    <tr>\n",
              "      <th>Critical Value(10%)</th>\n",
              "      <td>0.347000</td>\n",
              "    </tr>\n",
              "  </tbody>\n",
              "</table>\n",
              "</div>"
            ],
            "text/plain": [
              "                     Stationarity_kpss\n",
              "Test Statistics               0.538249\n",
              "p-value                       0.033052\n",
              "Used Lag                     12.000000\n",
              "Critical Value(10%)           0.347000"
            ]
          },
          "metadata": {
            "tags": []
          }
        },
        {
          "output_type": "execute_result",
          "data": {
            "text/plain": [
              "<function matplotlib.pyplot.show>"
            ]
          },
          "metadata": {
            "tags": []
          },
          "execution_count": 64
        },
        {
          "output_type": "display_data",
          "data": {
            "image/png": "[encoded data removed]",
            "text/plain": [
              "<Figure size 432x288 with 1 Axes>"
            ]
          },
          "metadata": {
            "tags": [],
            "needs_background": "light"
          }
        }
      ]
    },
    {
      "cell_type": "markdown",
      "metadata": {
        "id": "idNDMwzvlIAn"
      },
      "source": [
        "셋 다 정상이 나오면 좋겠다만, 아니라면 이유를 가지고 선택을 하면 된다.\n",
        "\n",
        "kpss에서 계절성이 있다고 나오는데 그림을 보니 계절성이 있지 않다."
      ]
    },
    {
      "cell_type": "code",
      "metadata": {
        "colab": {
          "base_uri": "https://localhost:8080/",
          "height": 281
        },
        "id": "vcXj0_dkk9zA",
        "outputId": "ffa99df5-7d13-4994-e70c-421fc9e9cfbc"
      },
      "source": [
        "plt.plot(raw.time, raw.value)\n",
        "plt.title('Raw')\n",
        "plt.show()\n"
      ],
      "execution_count": 65,
      "outputs": [
        {
          "output_type": "display_data",
          "data": {
            "image/png": "[encoded data removed]",
            "text/plain": [
              "<Figure size 432x288 with 1 Axes>"
            ]
          },
          "metadata": {
            "tags": [],
            "needs_background": "light"
          }
        }
      ]
    },
    {
      "cell_type": "markdown",
      "metadata": {
        "id": "Id5pAuiQlyQd"
      },
      "source": [
        "f 스트링\n"
      ]
    },
    {
      "cell_type": "code",
      "metadata": {
        "colab": {
          "base_uri": "https://localhost:8080/"
        },
        "id": "sWQlsKzrl1hu",
        "outputId": "119b0fc3-cb58-4258-9e18-625abe766746"
      },
      "source": [
        "a = '영우'\n",
        "b = '글로벌'\n",
        "print(f'{a}는바보 {b} 바보')"
      ],
      "execution_count": 68,
      "outputs": [
        {
          "output_type": "stream",
          "text": [
            "영우는바보 글로벌 바보\n"
          ],
          "name": "stdout"
        }
      ]
    },
    {
      "cell_type": "markdown",
      "metadata": {
        "id": "XkdPkzF0mE45"
      },
      "source": [
        "와 이런거구나 "
      ]
    },
    {
      "cell_type": "code",
      "metadata": {
        "colab": {
          "base_uri": "https://localhost:8080/",
          "height": 281
        },
        "id": "xyUCB0asla4G",
        "outputId": "4c39708f-7075-43f2-8ca6-0ddeca16c74c"
      },
      "source": [
        "'''\n",
        "for seasonal_lag in [3, 6, 12]:\n",
        "  plt.plot(raw.time[seasonal_lag:], raw.value.diff(seasonal_lag).dropna(), label='Lag{}'.format(seasonal_lag))\n",
        "  이런 식으로 자동화를 할수도 있다.\n",
        "'''\n",
        "\n",
        "seasonal_lag = 3\n",
        "plt.plot(raw.time[seasonal_lag:], raw.value.diff(seasonal_lag).dropna(), label='Lag{}'.format(seasonal_lag))\n",
        "seasonal_lag = 6\n",
        "plt.plot(raw.time[seasonal_lag:], raw.value.diff(seasonal_lag).dropna(), label='Lag{}'.format(seasonal_lag))\n",
        "seasonal_lag = 12\n",
        "plt.plot(raw.time[seasonal_lag:], raw.value.diff(seasonal_lag).dropna(), label='Lag{}'.format(seasonal_lag))\n",
        "plt.title('Lagged')\n",
        "plt.legend()\n",
        "plt.show()"
      ],
      "execution_count": 66,
      "outputs": [
        {
          "output_type": "display_data",
          "data": {
            "image/png": "[encoded data removed]",
            "text/plain": [
              "<Figure size 432x288 with 1 Axes>"
            ]
          },
          "metadata": {
            "tags": [],
            "needs_background": "light"
          }
        }
      ]
    },
    {
      "cell_type": "markdown",
      "metadata": {
        "id": "VzAUcR-vlecP"
      },
      "source": [
        "이런 것들이 좋은 코드이다. 저장 해 두고 잘 사용하도록 하자.\n",
        "\n",
        "3개월 6개월 12개월 전 값들을 넣어서 같이 표시하자 라는 코드\n",
        "\n",
        "3, 6 보다는 12가 더 좋은것 같구나."
      ]
    },
    {
      "cell_type": "code",
      "metadata": {
        "colab": {
          "base_uri": "https://localhost:8080/",
          "height": 35
        },
        "id": "Rf8YMuJuldZQ",
        "outputId": "be70c9b4-93fa-4a24-c6af-a109d6a389cf"
      },
      "source": [
        "'''\n",
        "raw, diff, ... 이런것들을 다 이용해\n",
        "\n",
        "OLS(y=ax + b 모델) 여러 모델들을 사용해서\n",
        "\n",
        "ADF, KPSS, ACF를 사용해서\n",
        "\n",
        "Y값이 정상성인지 아닌지를 확인할수 있게 되었다.\n",
        "'''"
      ],
      "execution_count": 69,
      "outputs": [
        {
          "output_type": "execute_result",
          "data": {
            "application/vnd.google.colaboratory.intrinsic+json": {
              "type": "string"
            },
            "text/plain": [
              "'\\nraw, diff, ... 이런것들을 다 이용해\\n\\nOLS(y=ax + b 모델) 여러 모델들을 사용해서\\n\\nADF, KPSS, ACF를 사용해서\\n\\nY값이 정상성인지 아닌지를 확인할수 있게 되었다.\\n'"
            ]
          },
          "metadata": {
            "tags": []
          },
          "execution_count": 69
        }
      ]
    },
    {
      "cell_type": "code",
      "metadata": {
        "id": "KecXRqDwm4pl"
      },
      "source": [
        ""
      ],
      "execution_count": null,
      "outputs": []
    }
  ]
}
