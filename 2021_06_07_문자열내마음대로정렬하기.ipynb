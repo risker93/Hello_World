{
  "nbformat": 4,
  "nbformat_minor": 0,
  "metadata": {
    "colab": {
      "name": "2021_06_07_문자열내마음대로정렬하기.ipynb",
      "provenance": [],
      "authorship_tag": "ABX9TyNid0YGH0z2Dmjx0EbQLPMP",
      "include_colab_link": true
    },
    "kernelspec": {
      "name": "python3",
      "display_name": "Python 3"
    },
    "language_info": {
      "name": "python"
    }
  },
  "cells": [
    {
      "cell_type": "markdown",
      "metadata": {
        "id": "view-in-github",
        "colab_type": "text"
      },
      "source": [
        "<a href=\"https://colab.research.google.com/github/risker93/Hello_World/blob/main/2021_06_07_%EB%AC%B8%EC%9E%90%EC%97%B4%EB%82%B4%EB%A7%88%EC%9D%8C%EB%8C%80%EB%A1%9C%EC%A0%95%EB%A0%AC%ED%95%98%EA%B8%B0.ipynb\" target=\"_parent\"><img src=\"https://colab.research.google.com/assets/colab-badge.svg\" alt=\"Open In Colab\"/></a>"
      ]
    },
    {
      "cell_type": "markdown",
      "metadata": {
        "id": "BeyoKX95FG6C"
      },
      "source": [
        "문제 설명\n",
        "\n",
        "문자열로 구성된 리스트 strings와, 정수 n이 주어졌을 때, 각 문자열의 인덱스 n번째 글자를 기준으로 오름차순 정렬하려 합니다. \n",
        "\n",
        "예를 들어 strings가 [\"sun\", \"bed\", \"car\"]이고 n이 1이면 각 단어의 인덱스 1의 문자 \"u\", \"e\", \"a\"로 strings를 정렬합니다.\n",
        "\n",
        "제한 조건\n",
        "\n",
        "strings는 길이 1 이상, 50이하인 배열입니다.\n",
        "\n",
        "strings의 원소는 소문자 알파벳으로 이루어져 있습니다.\n",
        "\n",
        "strings의 원소는 길이 1 이상, 100이하인 문자열입니다.\n",
        "\n",
        "모든 strings의 원소의 길이는 n보다 큽니다.\n",
        "\n",
        "인덱스 1의 문자가 같은 문자열이 여럿 일 경우, 사전순으로 앞선 문자열이 앞쪽에 위치합니다.\n",
        "\n",
        "입출력 예\n",
        "\n",
        "strings\tn\treturn\n",
        "\n",
        "[\"sun\", \"bed\", \"car\"]\t1\t[\"car\", \"bed\", \"sun\"]\n",
        "\n",
        "[\"abce\", \"abcd\", \"cdx\"]\t2\t[\"abcd\", \"abce\", \"cdx\"]\n",
        "\n",
        "입출력 예 설명\n",
        "\n",
        "입출력 예 1\n",
        "\n",
        "\"sun\", \"bed\", \"car\"의 1번째 인덱스 값은 각각 \"u\", \"e\", \"a\" 입니다. \n",
        "\n",
        "이를 기준으로 strings를 정렬하면 [\"car\", \"bed\", \"sun\"] 입니다.\n",
        "\n",
        "입출력 예 2\n",
        "\n",
        "\"abce\"와 \"abcd\", \"cdx\"의 2번째 인덱스 값은 \"c\", \"c\", \"x\"입니다. \n",
        "\n",
        "따라서 정렬 후에는 \"cdx\"가 가장 뒤에 위치합니다. \n",
        "\n",
        "\"abce\"와 \"abcd\"는 사전순으로 정렬하면 \"abcd\"가 우선하므로, 답은 [\"abcd\", \"abce\", \"cdx\"] 입니다."
      ]
    },
    {
      "cell_type": "code",
      "metadata": {
        "colab": {
          "base_uri": "https://localhost:8080/"
        },
        "id": "9o-vNdD5E97r",
        "outputId": "ecafba92-7d89-4951-f027-675552362a82"
      },
      "source": [
        "sorted([\"sun\", \"bed\", \"car\"] )"
      ],
      "execution_count": 1,
      "outputs": [
        {
          "output_type": "execute_result",
          "data": {
            "text/plain": [
              "['bed', 'car', 'sun']"
            ]
          },
          "metadata": {
            "tags": []
          },
          "execution_count": 1
        }
      ]
    },
    {
      "cell_type": "code",
      "metadata": {
        "id": "Fbxba9PhN742"
      },
      "source": [
        "def solution(strings, n):\n",
        "  return sorted(strings, key = lambda x : x[n] )"
      ],
      "execution_count": 15,
      "outputs": []
    },
    {
      "cell_type": "markdown",
      "metadata": {
        "id": "ftz7lo1dTbLF"
      },
      "source": [
        "어려운 문제여서 sorted 함수를 검색해 보았다. key 함수를 통해서 람다를 만들어도 된다는걸 알게되었다. "
      ]
    },
    {
      "cell_type": "code",
      "metadata": {
        "colab": {
          "base_uri": "https://localhost:8080/"
        },
        "id": "vJ8loVAvOEvq",
        "outputId": "fe023ccf-92a6-402a-ee3c-c8a8d66bd35c"
      },
      "source": [
        "solution([\"sun\", \"bed\", \"car\"], 1)"
      ],
      "execution_count": 17,
      "outputs": [
        {
          "output_type": "execute_result",
          "data": {
            "text/plain": [
              "['car', 'bed', 'sun']"
            ]
          },
          "metadata": {
            "tags": []
          },
          "execution_count": 17
        }
      ]
    },
    {
      "cell_type": "code",
      "metadata": {
        "colab": {
          "base_uri": "https://localhost:8080/"
        },
        "id": "USKMF9EbQmcc",
        "outputId": "34fccebe-3283-4576-f4ca-e181a737b704"
      },
      "source": [
        "solution([\"abce\", \"abcd\", \"cdx\"], 2)"
      ],
      "execution_count": 18,
      "outputs": [
        {
          "output_type": "execute_result",
          "data": {
            "text/plain": [
              "['abcd', 'abce', 'cdx']"
            ]
          },
          "metadata": {
            "tags": []
          },
          "execution_count": 18
        }
      ]
    },
    {
      "cell_type": "code",
      "metadata": {
        "colab": {
          "base_uri": "https://localhost:8080/"
        },
        "id": "no7iBCVxReMv",
        "outputId": "eb9c6eac-6ffb-4e39-ed4c-185a5a0998a0"
      },
      "source": [
        "solution([\"abbccaea\", \"abbccead\", \"abbcceada\"], 3)"
      ],
      "execution_count": 25,
      "outputs": [
        {
          "output_type": "execute_result",
          "data": {
            "text/plain": [
              "['abbccaea', 'abbccead', 'abbcceada']"
            ]
          },
          "metadata": {
            "tags": []
          },
          "execution_count": 25
        }
      ]
    },
    {
      "cell_type": "markdown",
      "metadata": {
        "id": "_U2it3-pTzc7"
      },
      "source": [
        "된것같다.\n",
        "\n",
        "그러나 채점을 해보면 통과가 안된다!?\n"
      ]
    },
    {
      "cell_type": "code",
      "metadata": {
        "id": "P-oGUmKBRtSf"
      },
      "source": [
        "def solution(strings, n):\n",
        "  return sorted(strings, key = lambda x : x[n:] )"
      ],
      "execution_count": 26,
      "outputs": []
    },
    {
      "cell_type": "markdown",
      "metadata": {
        "id": "bBUH1dXLTFN0"
      },
      "source": [
        "아무리 봐도 답이맞는것 같은데 통과가 안된다..\n",
        "\n"
      ]
    },
    {
      "cell_type": "code",
      "metadata": {
        "id": "0KG_vDg7TTlF"
      },
      "source": [
        "def solution(strings, n):\n",
        "    return sorted(strings, key = lambda x : (x[n], x))"
      ],
      "execution_count": null,
      "outputs": []
    },
    {
      "cell_type": "markdown",
      "metadata": {
        "id": "wbfnj1M9T6PC"
      },
      "source": [
        "결국 다른 사람의 코드를 보았다. \n",
        "\n",
        "    def solution(strings, n):  \n",
        "        return sorted(strings, key= lambda x : (x[n:n+1], x))  \n",
        "        # 인덱스 n의 위치에 있는 글자를 기준으로 하되, 같을 경우에는 문자 전체를 기준으로 정렬  "
      ]
    },
    {
      "cell_type": "markdown",
      "metadata": {
        "id": "i05rG9hKUEfP"
      },
      "source": [
        "같은 경우에는 문자 전체를 기준으로 정렬?\n",
        "\n",
        "제한조건을 보면  \n",
        "\n",
        "\"인덱스 1의 문자가 같은 문자열이 여럿 일 경우, 사전순으로 앞선 문자열이 앞쪽에 위치합니다.\"\n",
        "\n",
        "라는 사항이 있다.\n",
        "\n",
        "이말이 n위치에 있는 글자를 기준으로 하되 같을경우 문자 전체를 기준으로 정렬하라는 말인가보다.\n",
        "\n",
        "계속 봐도 이해가 안된다.\n",
        "\n",
        "문해력이 부족한듯하다.\n",
        "\n"
      ]
    },
    {
      "cell_type": "code",
      "metadata": {
        "id": "nvXqsOifUDZ3"
      },
      "source": [
        ""
      ],
      "execution_count": null,
      "outputs": []
    }
  ]
}