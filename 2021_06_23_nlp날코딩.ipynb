{
  "nbformat": 4,
  "nbformat_minor": 0,
  "metadata": {
    "colab": {
      "name": "2021_06_23_nlp날코딩.ipynb",
      "provenance": [],
      "authorship_tag": "ABX9TyOswUeVxmmYiwb/OOcStpc4",
      "include_colab_link": true
    },
    "kernelspec": {
      "name": "python3",
      "display_name": "Python 3"
    },
    "language_info": {
      "name": "python"
    }
  },
  "cells": [
    {
      "cell_type": "markdown",
      "metadata": {
        "id": "view-in-github",
        "colab_type": "text"
      },
      "source": [
        "<a href=\"https://colab.research.google.com/github/risker93/Hello_World/blob/main/2021_06_23_nlp%EB%82%A0%EC%BD%94%EB%94%A9.ipynb\" target=\"_parent\"><img src=\"https://colab.research.google.com/assets/colab-badge.svg\" alt=\"Open In Colab\"/></a>"
      ]
    },
    {
      "cell_type": "code",
      "metadata": {
        "id": "2bBing1vg_6x"
      },
      "source": [
        "#NLTK 토큰화 하기\n",
        "\n",
        "import nltk"
      ],
      "execution_count": 1,
      "outputs": []
    },
    {
      "cell_type": "code",
      "metadata": {
        "colab": {
          "base_uri": "https://localhost:8080/"
        },
        "id": "7d5t4V03hexE",
        "outputId": "910127a2-4849-4555-f087-8981a73bb7c8"
      },
      "source": [
        "nltk.download('punkt')"
      ],
      "execution_count": 2,
      "outputs": [
        {
          "output_type": "stream",
          "text": [
            "[nltk_data] Downloading package punkt to /root/nltk_data...\n",
            "[nltk_data]   Unzipping tokenizers/punkt.zip.\n"
          ],
          "name": "stdout"
        },
        {
          "output_type": "execute_result",
          "data": {
            "text/plain": [
              "True"
            ]
          },
          "metadata": {
            "tags": []
          },
          "execution_count": 2
        }
      ]
    },
    {
      "cell_type": "code",
      "metadata": {
        "id": "Rm07SRfrhhIH"
      },
      "source": [
        "sent= \"don't worry, be happy. please wake up everybody comes on \""
      ],
      "execution_count": 4,
      "outputs": []
    },
    {
      "cell_type": "code",
      "metadata": {
        "id": "9gnvwKNDh2qk"
      },
      "source": [
        "from nltk.tokenize import word_tokenize"
      ],
      "execution_count": 5,
      "outputs": []
    },
    {
      "cell_type": "code",
      "metadata": {
        "colab": {
          "base_uri": "https://localhost:8080/"
        },
        "id": "4pumEr4mh7jZ",
        "outputId": "53864218-6497-4e9c-8bea-62aa0104d110"
      },
      "source": [
        "print(word_tokenize(sent))"
      ],
      "execution_count": 6,
      "outputs": [
        {
          "output_type": "stream",
          "text": [
            "['do', \"n't\", 'worry', ',', 'be', 'happy', '.', 'please', 'wake', 'up', 'everybody', 'comes', 'on']\n"
          ],
          "name": "stdout"
        }
      ]
    },
    {
      "cell_type": "code",
      "metadata": {
        "id": "DgmN2pdgh-_N"
      },
      "source": [
        "from nltk.tokenize import wordpunct_tokenize"
      ],
      "execution_count": 10,
      "outputs": []
    },
    {
      "cell_type": "code",
      "metadata": {
        "colab": {
          "base_uri": "https://localhost:8080/"
        },
        "id": "Sqce5HE7iChU",
        "outputId": "f9d17e55-37c2-43b5-9f66-221038b1cac7"
      },
      "source": [
        "print(wordpunct_tokenize(sent))"
      ],
      "execution_count": 12,
      "outputs": [
        {
          "output_type": "stream",
          "text": [
            "['don', \"'\", 't', 'worry', ',', 'be', 'happy', '.', 'please', 'wake', 'up', 'everybody', 'comes', 'on']\n"
          ],
          "name": "stdout"
        }
      ]
    },
    {
      "cell_type": "code",
      "metadata": {
        "colab": {
          "base_uri": "https://localhost:8080/"
        },
        "id": "dHQ0aC7QiExh",
        "outputId": "19cd37c7-4b95-4aa4-dd25-9cb0434f03a4"
      },
      "source": [
        "!pip install konlpy"
      ],
      "execution_count": 15,
      "outputs": [
        {
          "output_type": "stream",
          "text": [
            "Collecting konlpy\n",
            "\u001b[?25l  Downloading https://files.pythonhosted.org/packages/85/0e/f385566fec837c0b83f216b2da65db9997b35dd675e107752005b7d392b1/konlpy-0.5.2-py2.py3-none-any.whl (19.4MB)\n",
            "\u001b[K     |████████████████████████████████| 19.4MB 1.3MB/s \n",
            "\u001b[?25hRequirement already satisfied: numpy>=1.6 in /usr/local/lib/python3.7/dist-packages (from konlpy) (1.19.5)\n",
            "Requirement already satisfied: lxml>=4.1.0 in /usr/local/lib/python3.7/dist-packages (from konlpy) (4.2.6)\n",
            "Collecting colorama\n",
            "  Downloading https://files.pythonhosted.org/packages/44/98/5b86278fbbf250d239ae0ecb724f8572af1c91f4a11edf4d36a206189440/colorama-0.4.4-py2.py3-none-any.whl\n",
            "Collecting beautifulsoup4==4.6.0\n",
            "\u001b[?25l  Downloading https://files.pythonhosted.org/packages/9e/d4/10f46e5cfac773e22707237bfcd51bbffeaf0a576b0a847ec7ab15bd7ace/beautifulsoup4-4.6.0-py3-none-any.whl (86kB)\n",
            "\u001b[K     |████████████████████████████████| 92kB 11.9MB/s \n",
            "\u001b[?25hRequirement already satisfied: tweepy>=3.7.0 in /usr/local/lib/python3.7/dist-packages (from konlpy) (3.10.0)\n",
            "Collecting JPype1>=0.7.0\n",
            "\u001b[?25l  Downloading https://files.pythonhosted.org/packages/98/88/f817ef1af6f794e8f11313dcd1549de833f4599abcec82746ab5ed086686/JPype1-1.3.0-cp37-cp37m-manylinux_2_5_x86_64.manylinux1_x86_64.whl (448kB)\n",
            "\u001b[K     |████████████████████████████████| 450kB 36.5MB/s \n",
            "\u001b[?25hRequirement already satisfied: six>=1.10.0 in /usr/local/lib/python3.7/dist-packages (from tweepy>=3.7.0->konlpy) (1.15.0)\n",
            "Requirement already satisfied: requests[socks]>=2.11.1 in /usr/local/lib/python3.7/dist-packages (from tweepy>=3.7.0->konlpy) (2.23.0)\n",
            "Requirement already satisfied: requests-oauthlib>=0.7.0 in /usr/local/lib/python3.7/dist-packages (from tweepy>=3.7.0->konlpy) (1.3.0)\n",
            "Requirement already satisfied: typing-extensions; python_version < \"3.8\" in /usr/local/lib/python3.7/dist-packages (from JPype1>=0.7.0->konlpy) (3.7.4.3)\n",
            "Requirement already satisfied: certifi>=2017.4.17 in /usr/local/lib/python3.7/dist-packages (from requests[socks]>=2.11.1->tweepy>=3.7.0->konlpy) (2021.5.30)\n",
            "Requirement already satisfied: idna<3,>=2.5 in /usr/local/lib/python3.7/dist-packages (from requests[socks]>=2.11.1->tweepy>=3.7.0->konlpy) (2.10)\n",
            "Requirement already satisfied: chardet<4,>=3.0.2 in /usr/local/lib/python3.7/dist-packages (from requests[socks]>=2.11.1->tweepy>=3.7.0->konlpy) (3.0.4)\n",
            "Requirement already satisfied: urllib3!=1.25.0,!=1.25.1,<1.26,>=1.21.1 in /usr/local/lib/python3.7/dist-packages (from requests[socks]>=2.11.1->tweepy>=3.7.0->konlpy) (1.24.3)\n",
            "Requirement already satisfied: PySocks!=1.5.7,>=1.5.6; extra == \"socks\" in /usr/local/lib/python3.7/dist-packages (from requests[socks]>=2.11.1->tweepy>=3.7.0->konlpy) (1.7.1)\n",
            "Requirement already satisfied: oauthlib>=3.0.0 in /usr/local/lib/python3.7/dist-packages (from requests-oauthlib>=0.7.0->tweepy>=3.7.0->konlpy) (3.1.1)\n",
            "Installing collected packages: colorama, beautifulsoup4, JPype1, konlpy\n",
            "  Found existing installation: beautifulsoup4 4.6.3\n",
            "    Uninstalling beautifulsoup4-4.6.3:\n",
            "      Successfully uninstalled beautifulsoup4-4.6.3\n",
            "Successfully installed JPype1-1.3.0 beautifulsoup4-4.6.0 colorama-0.4.4 konlpy-0.5.2\n"
          ],
          "name": "stdout"
        }
      ]
    },
    {
      "cell_type": "code",
      "metadata": {
        "id": "DCXn6UvMiaFd"
      },
      "source": [
        "from konlpy.tag import *\n",
        "\n",
        "hannanum = Hannanum()\n",
        "kkma = Kkma()\n",
        "komoran = Komoran()\n",
        "okt = Okt()"
      ],
      "execution_count": 16,
      "outputs": []
    },
    {
      "cell_type": "code",
      "metadata": {
        "id": "TByw0XPTiqps"
      },
      "source": [
        "#형태소 분석"
      ],
      "execution_count": 17,
      "outputs": []
    },
    {
      "cell_type": "code",
      "metadata": {
        "id": "6_4O0FJ_i7b-"
      },
      "source": [
        "text = '나는 믿는다. 상상 할수 있다면, 현실로 만들수 있다. 우리는 우리의 생각의 산물이다. '"
      ],
      "execution_count": 18,
      "outputs": []
    },
    {
      "cell_type": "code",
      "metadata": {
        "colab": {
          "base_uri": "https://localhost:8080/"
        },
        "id": "I0l1lE1DjmnA",
        "outputId": "ae469439-9f25-4b73-fba4-b19a4021ef7f"
      },
      "source": [
        "okt.nouns(text)"
      ],
      "execution_count": 19,
      "outputs": [
        {
          "output_type": "execute_result",
          "data": {
            "text/plain": [
              "['나', '상상', '현실', '우리', '우리', '생각', '산', '물이']"
            ]
          },
          "metadata": {
            "tags": []
          },
          "execution_count": 19
        }
      ]
    },
    {
      "cell_type": "code",
      "metadata": {
        "colab": {
          "base_uri": "https://localhost:8080/"
        },
        "id": "Dv-siWTUjoxy",
        "outputId": "6c8f2923-6ccb-4399-d803-4616c07c4108"
      },
      "source": [
        "okt.morphs(text)"
      ],
      "execution_count": 20,
      "outputs": [
        {
          "output_type": "execute_result",
          "data": {
            "text/plain": [
              "['나',\n",
              " '는',\n",
              " '믿는다',\n",
              " '.',\n",
              " '상상',\n",
              " '할수',\n",
              " '있다면',\n",
              " ',',\n",
              " '현실',\n",
              " '로',\n",
              " '만들수',\n",
              " '있다',\n",
              " '.',\n",
              " '우리',\n",
              " '는',\n",
              " '우리',\n",
              " '의',\n",
              " '생각',\n",
              " '의',\n",
              " '산',\n",
              " '물이',\n",
              " '다',\n",
              " '.']"
            ]
          },
          "metadata": {
            "tags": []
          },
          "execution_count": 20
        }
      ]
    },
    {
      "cell_type": "code",
      "metadata": {
        "colab": {
          "base_uri": "https://localhost:8080/"
        },
        "id": "jw6WZ_WXjyoS",
        "outputId": "db72a09a-12e3-49c9-95b9-6b794181ea37"
      },
      "source": [
        "okt.pos(text)"
      ],
      "execution_count": 21,
      "outputs": [
        {
          "output_type": "execute_result",
          "data": {
            "text/plain": [
              "[('나', 'Noun'),\n",
              " ('는', 'Josa'),\n",
              " ('믿는다', 'Verb'),\n",
              " ('.', 'Punctuation'),\n",
              " ('상상', 'Noun'),\n",
              " ('할수', 'Verb'),\n",
              " ('있다면', 'Adjective'),\n",
              " (',', 'Punctuation'),\n",
              " ('현실', 'Noun'),\n",
              " ('로', 'Josa'),\n",
              " ('만들수', 'Verb'),\n",
              " ('있다', 'Adjective'),\n",
              " ('.', 'Punctuation'),\n",
              " ('우리', 'Noun'),\n",
              " ('는', 'Josa'),\n",
              " ('우리', 'Noun'),\n",
              " ('의', 'Josa'),\n",
              " ('생각', 'Noun'),\n",
              " ('의', 'Josa'),\n",
              " ('산', 'Noun'),\n",
              " ('물이', 'Noun'),\n",
              " ('다', 'Josa'),\n",
              " ('.', 'Punctuation')]"
            ]
          },
          "metadata": {
            "tags": []
          },
          "execution_count": 21
        }
      ]
    },
    {
      "cell_type": "code",
      "metadata": {
        "colab": {
          "base_uri": "https://localhost:8080/"
        },
        "id": "FnThQuZ5j3GK",
        "outputId": "aec2b5aa-bdb7-4c51-dbce-ca42156b16d2"
      },
      "source": [
        "kkma.nouns(text)"
      ],
      "execution_count": 22,
      "outputs": [
        {
          "output_type": "execute_result",
          "data": {
            "text/plain": [
              "['나', '상상', '수', '현실', '우리', '생각', '산물']"
            ]
          },
          "metadata": {
            "tags": []
          },
          "execution_count": 22
        }
      ]
    },
    {
      "cell_type": "code",
      "metadata": {
        "colab": {
          "base_uri": "https://localhost:8080/"
        },
        "id": "zTD_Mo3nj_wd",
        "outputId": "a805e30a-6150-457c-a407-dbd2d6e33ec5"
      },
      "source": [
        "kkma.morphs(text)"
      ],
      "execution_count": 23,
      "outputs": [
        {
          "output_type": "execute_result",
          "data": {
            "text/plain": [
              "['나',\n",
              " '는',\n",
              " '믿',\n",
              " '는',\n",
              " '다',\n",
              " '.',\n",
              " '상상',\n",
              " '하',\n",
              " 'ㄹ',\n",
              " '수',\n",
              " '있',\n",
              " '다면',\n",
              " ',',\n",
              " '현실',\n",
              " '로',\n",
              " '만들',\n",
              " 'ㄹ',\n",
              " '수',\n",
              " '있',\n",
              " '다',\n",
              " '.',\n",
              " '우리',\n",
              " '는',\n",
              " '우리',\n",
              " '의',\n",
              " '생각',\n",
              " '의',\n",
              " '산물',\n",
              " '이',\n",
              " '다',\n",
              " '.']"
            ]
          },
          "metadata": {
            "tags": []
          },
          "execution_count": 23
        }
      ]
    },
    {
      "cell_type": "code",
      "metadata": {
        "colab": {
          "base_uri": "https://localhost:8080/"
        },
        "id": "whfcbsK8kGR8",
        "outputId": "6b0fd620-4e58-430e-9a1b-e0312b54b625"
      },
      "source": [
        "kkma.pos(text)"
      ],
      "execution_count": 24,
      "outputs": [
        {
          "output_type": "execute_result",
          "data": {
            "text/plain": [
              "[('나', 'NP'),\n",
              " ('는', 'JX'),\n",
              " ('믿', 'VV'),\n",
              " ('는', 'EPT'),\n",
              " ('다', 'EFN'),\n",
              " ('.', 'SF'),\n",
              " ('상상', 'NNG'),\n",
              " ('하', 'VV'),\n",
              " ('ㄹ', 'ETD'),\n",
              " ('수', 'NNB'),\n",
              " ('있', 'VA'),\n",
              " ('다면', 'ECE'),\n",
              " (',', 'SP'),\n",
              " ('현실', 'NNG'),\n",
              " ('로', 'JKM'),\n",
              " ('만들', 'VV'),\n",
              " ('ㄹ', 'ETD'),\n",
              " ('수', 'NNB'),\n",
              " ('있', 'VV'),\n",
              " ('다', 'EFN'),\n",
              " ('.', 'SF'),\n",
              " ('우리', 'NP'),\n",
              " ('는', 'JX'),\n",
              " ('우리', 'NP'),\n",
              " ('의', 'JKG'),\n",
              " ('생각', 'NNG'),\n",
              " ('의', 'JKG'),\n",
              " ('산물', 'NNG'),\n",
              " ('이', 'VCP'),\n",
              " ('다', 'EFN'),\n",
              " ('.', 'SF')]"
            ]
          },
          "metadata": {
            "tags": []
          },
          "execution_count": 24
        }
      ]
    },
    {
      "cell_type": "code",
      "metadata": {
        "id": "ImsQ9HzAkKfc"
      },
      "source": [
        "#문장 토큰화\n",
        "\n",
        "text = \" hope you learn to make it on your own And if you love yourself just know you'll never be alone I hope that you get everything you want and that you chose I hope that it's the realest thing that you ever know\""
      ],
      "execution_count": 30,
      "outputs": []
    },
    {
      "cell_type": "code",
      "metadata": {
        "colab": {
          "base_uri": "https://localhost:8080/"
        },
        "id": "EJyhVowrk0TF",
        "outputId": "5bbc0a39-f337-48bf-ff04-2719b1dc3884"
      },
      "source": [
        "from nltk.tokenize import sent_tokenize\n",
        "sent_tokenize(text)"
      ],
      "execution_count": 26,
      "outputs": [
        {
          "output_type": "execute_result",
          "data": {
            "text/plain": [
              "[\" hope you learn to make it on your own And if you love yourself just know you'll never be alone I hope that you get everything you want and that you chose I hope that it's the realest thing that you ever know\"]"
            ]
          },
          "metadata": {
            "tags": []
          },
          "execution_count": 26
        }
      ]
    },
    {
      "cell_type": "code",
      "metadata": {
        "id": "e5lusZk3k7-I"
      },
      "source": [
        "text2 = \"동해물과 백두산이 마르고 닳도록\""
      ],
      "execution_count": 40,
      "outputs": []
    },
    {
      "cell_type": "code",
      "metadata": {
        "colab": {
          "base_uri": "https://localhost:8080/"
        },
        "id": "8sKAzvRAplKP",
        "outputId": "e60d6066-f746-4e82-846c-f493eca958a4"
      },
      "source": [
        "pip install kss"
      ],
      "execution_count": 53,
      "outputs": [
        {
          "output_type": "stream",
          "text": [
            "Collecting kss\n",
            "\u001b[?25l  Downloading https://files.pythonhosted.org/packages/ed/ea/3030770642a58a08777dfa324a1b65a2f53f1574de8dd84424851f0c2ec7/kss-2.5.1-py3-none-any.whl (65kB)\n",
            "\r\u001b[K     |█████                           | 10kB 14.8MB/s eta 0:00:01\r\u001b[K     |██████████                      | 20kB 21.6MB/s eta 0:00:01\r\u001b[K     |███████████████                 | 30kB 22.2MB/s eta 0:00:01\r\u001b[K     |███████████████████▉            | 40kB 17.9MB/s eta 0:00:01\r\u001b[K     |████████████████████████▉       | 51kB 17.6MB/s eta 0:00:01\r\u001b[K     |█████████████████████████████▉  | 61kB 13.5MB/s eta 0:00:01\r\u001b[K     |████████████████████████████████| 71kB 5.4MB/s \n",
            "\u001b[?25hInstalling collected packages: kss\n",
            "Successfully installed kss-2.5.1\n"
          ],
          "name": "stdout"
        }
      ]
    },
    {
      "cell_type": "code",
      "metadata": {
        "colab": {
          "base_uri": "https://localhost:8080/"
        },
        "id": "OsZTuv4Jl6c9",
        "outputId": "eb869550-e0ff-4d42-b2de-3086d07b1dbb"
      },
      "source": [
        "import kss\n",
        "from kss import split_sentences\n",
        "kss.split_sentences(text)"
      ],
      "execution_count": 55,
      "outputs": [
        {
          "output_type": "execute_result",
          "data": {
            "text/plain": [
              "[\"hope you learn to make it on your own And if you love yourself just know you'll never be alone I hope that you get everything you want and that you chose I hope that it's the realest thing that you ever know\"]"
            ]
          },
          "metadata": {
            "tags": []
          },
          "execution_count": 55
        }
      ]
    },
    {
      "cell_type": "code",
      "metadata": {
        "id": "4Tck68MVl-kp"
      },
      "source": [
        "from nltk.stem import PorterStemmer\n",
        "\n",
        "ps = PorterStemmer()"
      ],
      "execution_count": 31,
      "outputs": []
    },
    {
      "cell_type": "code",
      "metadata": {
        "id": "GRjiRnD7mMZt"
      },
      "source": [
        "words = word_tokenize(text)"
      ],
      "execution_count": 34,
      "outputs": []
    },
    {
      "cell_type": "code",
      "metadata": {
        "colab": {
          "base_uri": "https://localhost:8080/"
        },
        "id": "OpASbvBSmS7i",
        "outputId": "cba1d3a2-a0ec-422e-9f17-baf6e6cebb22"
      },
      "source": [
        "[ps.stem(w) for w in words]"
      ],
      "execution_count": 35,
      "outputs": [
        {
          "output_type": "execute_result",
          "data": {
            "text/plain": [
              "['hope',\n",
              " 'you',\n",
              " 'learn',\n",
              " 'to',\n",
              " 'make',\n",
              " 'it',\n",
              " 'on',\n",
              " 'your',\n",
              " 'own',\n",
              " 'and',\n",
              " 'if',\n",
              " 'you',\n",
              " 'love',\n",
              " 'yourself',\n",
              " 'just',\n",
              " 'know',\n",
              " 'you',\n",
              " \"'ll\",\n",
              " 'never',\n",
              " 'be',\n",
              " 'alon',\n",
              " 'I',\n",
              " 'hope',\n",
              " 'that',\n",
              " 'you',\n",
              " 'get',\n",
              " 'everyth',\n",
              " 'you',\n",
              " 'want',\n",
              " 'and',\n",
              " 'that',\n",
              " 'you',\n",
              " 'chose',\n",
              " 'I',\n",
              " 'hope',\n",
              " 'that',\n",
              " 'it',\n",
              " \"'s\",\n",
              " 'the',\n",
              " 'realest',\n",
              " 'thing',\n",
              " 'that',\n",
              " 'you',\n",
              " 'ever',\n",
              " 'know']"
            ]
          },
          "metadata": {
            "tags": []
          },
          "execution_count": 35
        }
      ]
    },
    {
      "cell_type": "code",
      "metadata": {
        "colab": {
          "base_uri": "https://localhost:8080/"
        },
        "id": "A3K_7gk_mfGE",
        "outputId": "531ed79f-d63f-4b12-98db-95549e278314"
      },
      "source": [
        "#lemematization\n",
        "\n",
        "nltk.download('wordnet')"
      ],
      "execution_count": 36,
      "outputs": [
        {
          "output_type": "stream",
          "text": [
            "[nltk_data] Downloading package wordnet to /root/nltk_data...\n",
            "[nltk_data]   Unzipping corpora/wordnet.zip.\n"
          ],
          "name": "stdout"
        },
        {
          "output_type": "execute_result",
          "data": {
            "text/plain": [
              "True"
            ]
          },
          "metadata": {
            "tags": []
          },
          "execution_count": 36
        }
      ]
    },
    {
      "cell_type": "code",
      "metadata": {
        "id": "nDOTFG2om0ie"
      },
      "source": [
        "from nltk.stem import WordNetLemmatizer\n",
        "wl = WordNetLemmatizer()"
      ],
      "execution_count": 37,
      "outputs": []
    },
    {
      "cell_type": "code",
      "metadata": {
        "id": "bSgYeRosm6cx"
      },
      "source": [
        "words = ['policy', 'doing', 'organization', 'have']"
      ],
      "execution_count": 38,
      "outputs": []
    },
    {
      "cell_type": "code",
      "metadata": {
        "colab": {
          "base_uri": "https://localhost:8080/"
        },
        "id": "yuZmwu-nnNHa",
        "outputId": "c71da46f-9322-425e-e13a-b06ecbc23867"
      },
      "source": [
        "[wl.lemmatize(w)for w in words]"
      ],
      "execution_count": 39,
      "outputs": [
        {
          "output_type": "execute_result",
          "data": {
            "text/plain": [
              "['policy', 'doing', 'organization', 'have']"
            ]
          },
          "metadata": {
            "tags": []
          },
          "execution_count": 39
        }
      ]
    },
    {
      "cell_type": "code",
      "metadata": {
        "colab": {
          "base_uri": "https://localhost:8080/"
        },
        "id": "CEbsSbAQnThu",
        "outputId": "5dabe48f-76d3-45ab-b4ec-f146953b94ef"
      },
      "source": [
        "okt.morphs(text2)"
      ],
      "execution_count": 41,
      "outputs": [
        {
          "output_type": "execute_result",
          "data": {
            "text/plain": [
              "['동', '해물', '과', '백두산', '이', '마르고', '닳도록']"
            ]
          },
          "metadata": {
            "tags": []
          },
          "execution_count": 41
        }
      ]
    },
    {
      "cell_type": "markdown",
      "metadata": {
        "id": "SCUP-CuTnmhh"
      },
      "source": [
        "??"
      ]
    },
    {
      "cell_type": "code",
      "metadata": {
        "colab": {
          "base_uri": "https://localhost:8080/"
        },
        "id": "e9c3pKS7nj8E",
        "outputId": "c7661ef2-c517-45b9-8ca6-df1b5c6334a6"
      },
      "source": [
        "okt.morphs(text2, stem=True)"
      ],
      "execution_count": 42,
      "outputs": [
        {
          "output_type": "execute_result",
          "data": {
            "text/plain": [
              "['동', '해물', '과', '백두산', '이', '마르고', '닳다']"
            ]
          },
          "metadata": {
            "tags": []
          },
          "execution_count": 42
        }
      ]
    },
    {
      "cell_type": "code",
      "metadata": {
        "colab": {
          "base_uri": "https://localhost:8080/"
        },
        "id": "m3U_OOd3nqrh",
        "outputId": "ac408916-d098-4457-f3a0-868647977652"
      },
      "source": [
        "okt.pos(text2)"
      ],
      "execution_count": 43,
      "outputs": [
        {
          "output_type": "execute_result",
          "data": {
            "text/plain": [
              "[('동', 'Modifier'),\n",
              " ('해물', 'Noun'),\n",
              " ('과', 'Josa'),\n",
              " ('백두산', 'Noun'),\n",
              " ('이', 'Josa'),\n",
              " ('마르고', 'Noun'),\n",
              " ('닳도록', 'Verb')]"
            ]
          },
          "metadata": {
            "tags": []
          },
          "execution_count": 43
        }
      ]
    },
    {
      "cell_type": "code",
      "metadata": {
        "id": "QX4E-q9Pn-DG"
      },
      "source": [
        "#stopwords(불용어)"
      ],
      "execution_count": 44,
      "outputs": []
    },
    {
      "cell_type": "code",
      "metadata": {
        "colab": {
          "base_uri": "https://localhost:8080/"
        },
        "id": "P3qRamQXoHzw",
        "outputId": "849e0403-1b48-4207-bda5-8264b15c69d3"
      },
      "source": [
        "nltk.download('stopwords')"
      ],
      "execution_count": 45,
      "outputs": [
        {
          "output_type": "stream",
          "text": [
            "[nltk_data] Downloading package stopwords to /root/nltk_data...\n",
            "[nltk_data]   Unzipping corpora/stopwords.zip.\n"
          ],
          "name": "stdout"
        },
        {
          "output_type": "execute_result",
          "data": {
            "text/plain": [
              "True"
            ]
          },
          "metadata": {
            "tags": []
          },
          "execution_count": 45
        }
      ]
    },
    {
      "cell_type": "code",
      "metadata": {
        "colab": {
          "base_uri": "https://localhost:8080/"
        },
        "id": "YND3Cgi_oLrI",
        "outputId": "cc6cb516-c43b-4ff2-aba1-e4926c54f71b"
      },
      "source": [
        "from nltk.corpus import stopwords\n",
        "print(stopwords.words('english'))"
      ],
      "execution_count": 46,
      "outputs": [
        {
          "output_type": "stream",
          "text": [
            "['i', 'me', 'my', 'myself', 'we', 'our', 'ours', 'ourselves', 'you', \"you're\", \"you've\", \"you'll\", \"you'd\", 'your', 'yours', 'yourself', 'yourselves', 'he', 'him', 'his', 'himself', 'she', \"she's\", 'her', 'hers', 'herself', 'it', \"it's\", 'its', 'itself', 'they', 'them', 'their', 'theirs', 'themselves', 'what', 'which', 'who', 'whom', 'this', 'that', \"that'll\", 'these', 'those', 'am', 'is', 'are', 'was', 'were', 'be', 'been', 'being', 'have', 'has', 'had', 'having', 'do', 'does', 'did', 'doing', 'a', 'an', 'the', 'and', 'but', 'if', 'or', 'because', 'as', 'until', 'while', 'of', 'at', 'by', 'for', 'with', 'about', 'against', 'between', 'into', 'through', 'during', 'before', 'after', 'above', 'below', 'to', 'from', 'up', 'down', 'in', 'out', 'on', 'off', 'over', 'under', 'again', 'further', 'then', 'once', 'here', 'there', 'when', 'where', 'why', 'how', 'all', 'any', 'both', 'each', 'few', 'more', 'most', 'other', 'some', 'such', 'no', 'nor', 'not', 'only', 'own', 'same', 'so', 'than', 'too', 'very', 's', 't', 'can', 'will', 'just', 'don', \"don't\", 'should', \"should've\", 'now', 'd', 'll', 'm', 'o', 're', 've', 'y', 'ain', 'aren', \"aren't\", 'couldn', \"couldn't\", 'didn', \"didn't\", 'doesn', \"doesn't\", 'hadn', \"hadn't\", 'hasn', \"hasn't\", 'haven', \"haven't\", 'isn', \"isn't\", 'ma', 'mightn', \"mightn't\", 'mustn', \"mustn't\", 'needn', \"needn't\", 'shan', \"shan't\", 'shouldn', \"shouldn't\", 'wasn', \"wasn't\", 'weren', \"weren't\", 'won', \"won't\", 'wouldn', \"wouldn't\"]\n"
          ],
          "name": "stdout"
        }
      ]
    },
    {
      "cell_type": "code",
      "metadata": {
        "id": "XxYID_2yoVMV"
      },
      "source": [
        "example = \"I don't ever give up\"\n",
        "stop_words = set(stopwords.words('english'))"
      ],
      "execution_count": 49,
      "outputs": []
    },
    {
      "cell_type": "code",
      "metadata": {
        "colab": {
          "base_uri": "https://localhost:8080/"
        },
        "id": "9iioZrYIo3EZ",
        "outputId": "8ae82c4a-754b-4b42-c440-049e6456e9b3"
      },
      "source": [
        "word_tokens = word_tokenize(example)\n",
        "\n",
        "result = []\n",
        "\n",
        "for w in word_tokens:\n",
        "  if w not in stop_words:\n",
        "    result.append(w)\n",
        "\n",
        "print('원문', word_tokens)\n",
        "print('불용어 제거문', result)"
      ],
      "execution_count": 51,
      "outputs": [
        {
          "output_type": "stream",
          "text": [
            "원문 ['I', 'do', \"n't\", 'ever', 'give', 'up']\n",
            "불용어 제거문 ['I', \"n't\", 'ever', 'give']\n"
          ],
          "name": "stdout"
        }
      ]
    },
    {
      "cell_type": "code",
      "metadata": {
        "id": "kIuQ0HC9pTlz"
      },
      "source": [
        "example2 = \"우리는 우리의 생각의 산물이다. 나는 믿는다. 나는 내가 마음먹은 무었이든 될수있다.\"\n",
        "stop_words2 = \"나는 , 우리는, 우리의, 내가 ,.\""
      ],
      "execution_count": 94,
      "outputs": []
    },
    {
      "cell_type": "code",
      "metadata": {
        "id": "PyXEwqh_zQqM"
      },
      "source": [
        "stop_words = stop_words2.split(' ')\n",
        "word_tokens = word_tokenize(example2)"
      ],
      "execution_count": 95,
      "outputs": []
    },
    {
      "cell_type": "code",
      "metadata": {
        "id": "2VgEo7xVzvY6"
      },
      "source": [
        "word_tokens2 = word_tokenize(example2)"
      ],
      "execution_count": 96,
      "outputs": []
    },
    {
      "cell_type": "code",
      "metadata": {
        "id": "YaaERInYz1ID"
      },
      "source": [
        "result2 =[w for w in word_tokens2 if not w in stop_words2]"
      ],
      "execution_count": 97,
      "outputs": []
    },
    {
      "cell_type": "code",
      "metadata": {
        "colab": {
          "base_uri": "https://localhost:8080/"
        },
        "id": "AkrXFQyl0Cvl",
        "outputId": "be263c47-0a89-451a-b9ab-65c6a6f743a5"
      },
      "source": [
        "print('원문', word_tokens2)\n",
        "print('불용어 제거문', result2)"
      ],
      "execution_count": 98,
      "outputs": [
        {
          "output_type": "stream",
          "text": [
            "원문 ['우리는', '우리의', '생각의', '산물이다', '.', '나는', '믿는다', '.', '나는', '내가', '마음먹은', '무었이든', '될수있다', '.']\n",
            "불용어 제거문 ['생각의', '산물이다', '믿는다', '마음먹은', '무었이든', '될수있다']\n"
          ],
          "name": "stdout"
        }
      ]
    },
    {
      "cell_type": "code",
      "metadata": {
        "id": "oGUJuqCW1Nf7"
      },
      "source": [
        "#정수 인코딩\n",
        "\n",
        "text = \"hope you learn to make it on your own\\\n",
        "        And if you love yourself just know you'll never be alone\\\n",
        "        I hope that you get everything you want and that you chose\\\n",
        "        I hope that it's the realest thing that you ever know\""
      ],
      "execution_count": 112,
      "outputs": []
    },
    {
      "cell_type": "code",
      "metadata": {
        "id": "aEciIbQ31RvJ"
      },
      "source": [
        "#sentence tokenization\n",
        "\n",
        "text = sent_tokenize(text)"
      ],
      "execution_count": 113,
      "outputs": []
    },
    {
      "cell_type": "code",
      "metadata": {
        "colab": {
          "base_uri": "https://localhost:8080/"
        },
        "id": "djXUvaZD1Wbz",
        "outputId": "8ee49988-388c-47a3-963f-d84f0363ccf3"
      },
      "source": [
        "print(text)"
      ],
      "execution_count": 121,
      "outputs": [
        {
          "output_type": "stream",
          "text": [
            "[\"hope you learn to make it on your own        And if you love yourself just know you'll never be alone        I hope that you get everything you want and that you chose        I hope that it's the realest thing that you ever know\"]\n"
          ],
          "name": "stdout"
        }
      ]
    },
    {
      "cell_type": "code",
      "metadata": {
        "colab": {
          "base_uri": "https://localhost:8080/"
        },
        "id": "3Kaj2hMk1thy",
        "outputId": "83e44c3f-cf53-40ed-a7d7-4e3814de12e5"
      },
      "source": [
        "#word tokenization\n",
        "\n",
        "sents = []\n",
        "stop_words = set(stopwords.words('english'))\n",
        "\n",
        "for i in text:\n",
        "  sent = word_tokenize(i)\n",
        "  result = []\n",
        "  \n",
        "  for w in sent:\n",
        "    w = w.lower()\n",
        "    if w not in stop_words:\n",
        "      if len(w) >2:\n",
        "        result.append(w)\n",
        "  sents.append(result)\n",
        "\n",
        "print(sents)"
      ],
      "execution_count": 128,
      "outputs": [
        {
          "output_type": "stream",
          "text": [
            "[['hope', 'learn', 'make', 'love', 'know', \"'ll\", 'never', 'alone', 'hope', 'get', 'everything', 'want', 'chose', 'hope', 'realest', 'thing', 'ever', 'know']]\n"
          ],
          "name": "stdout"
        }
      ]
    },
    {
      "cell_type": "code",
      "metadata": {
        "colab": {
          "base_uri": "https://localhost:8080/"
        },
        "id": "mkQUQDRJ_Geg",
        "outputId": "c2f2be0c-7992-42e1-a86d-c9e551b360cb"
      },
      "source": [
        "sents"
      ],
      "execution_count": 131,
      "outputs": [
        {
          "output_type": "execute_result",
          "data": {
            "text/plain": [
              "[['hope',\n",
              "  'learn',\n",
              "  'make',\n",
              "  'love',\n",
              "  'know',\n",
              "  \"'ll\",\n",
              "  'never',\n",
              "  'alone',\n",
              "  'hope',\n",
              "  'get',\n",
              "  'everything',\n",
              "  'want',\n",
              "  'chose',\n",
              "  'hope',\n",
              "  'realest',\n",
              "  'thing',\n",
              "  'ever',\n",
              "  'know']]"
            ]
          },
          "metadata": {
            "tags": []
          },
          "execution_count": 131
        }
      ]
    },
    {
      "cell_type": "code",
      "metadata": {
        "colab": {
          "base_uri": "https://localhost:8080/"
        },
        "id": "PdGEJV7_2WwL",
        "outputId": "180cb27c-3013-45ed-ecf6-1eb228e780e0"
      },
      "source": [
        "# 단어집합(vocabulary)\n",
        "\n",
        "from collections import Counter\n",
        "\n",
        "words = sum(sents, [])\n",
        "print(words)"
      ],
      "execution_count": 130,
      "outputs": [
        {
          "output_type": "stream",
          "text": [
            "['hope', 'learn', 'make', 'love', 'know', \"'ll\", 'never', 'alone', 'hope', 'get', 'everything', 'want', 'chose', 'hope', 'realest', 'thing', 'ever', 'know']\n"
          ],
          "name": "stdout"
        }
      ]
    },
    {
      "cell_type": "code",
      "metadata": {
        "colab": {
          "base_uri": "https://localhost:8080/"
        },
        "id": "EzW_NR-543tK",
        "outputId": "907bd173-772b-4122-c2a9-9e671664b61f"
      },
      "source": [
        "Counter(words)"
      ],
      "execution_count": 132,
      "outputs": [
        {
          "output_type": "execute_result",
          "data": {
            "text/plain": [
              "Counter({\"'ll\": 1,\n",
              "         'alone': 1,\n",
              "         'chose': 1,\n",
              "         'ever': 1,\n",
              "         'everything': 1,\n",
              "         'get': 1,\n",
              "         'hope': 3,\n",
              "         'know': 2,\n",
              "         'learn': 1,\n",
              "         'love': 1,\n",
              "         'make': 1,\n",
              "         'never': 1,\n",
              "         'realest': 1,\n",
              "         'thing': 1,\n",
              "         'want': 1})"
            ]
          },
          "metadata": {
            "tags": []
          },
          "execution_count": 132
        }
      ]
    },
    {
      "cell_type": "code",
      "metadata": {
        "id": "H3TO8hDs_2EJ"
      },
      "source": [
        ""
      ],
      "execution_count": null,
      "outputs": []
    }
  ]
}