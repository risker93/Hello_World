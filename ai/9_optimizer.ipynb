{
  "nbformat": 4,
  "nbformat_minor": 0,
  "metadata": {
    "kernelspec": {
      "display_name": "Python 3",
      "language": "python",
      "name": "python3"
    },
    "language_info": {
      "codemirror_mode": {
        "name": "ipython",
        "version": 3
      },
      "file_extension": ".py",
      "mimetype": "text/x-python",
      "name": "python",
      "nbconvert_exporter": "python",
      "pygments_lexer": "ipython3",
      "version": "3.8.5"
    },
    "colab": {
      "name": "9.optimizer.ipynb",
      "provenance": []
    }
  },
  "cells": [
    {
      "cell_type": "markdown",
      "metadata": {
        "id": "8xyW53pWcDMw"
      },
      "source": [
        "## 데이터 로드"
      ]
    },
    {
      "cell_type": "code",
      "metadata": {
        "id": "FDS2tWrscDM3"
      },
      "source": [
        "import warnings\n",
        "warnings.filterwarnings('ignore')"
      ],
      "execution_count": 17,
      "outputs": []
    },
    {
      "cell_type": "code",
      "metadata": {
        "id": "v6WQWgcecDM4"
      },
      "source": [
        "from keras.datasets import mnist\n",
        "from keras.utils import to_categorical"
      ],
      "execution_count": 18,
      "outputs": []
    },
    {
      "cell_type": "code",
      "metadata": {
        "colab": {
          "base_uri": "https://localhost:8080/"
        },
        "id": "s219YwjDcDM5",
        "outputId": "48792ee5-b2c6-4117-abc7-4f09c32991cc"
      },
      "source": [
        "(train_images, train_labels), (test_images, test_labels) = mnist.load_data()"
      ],
      "execution_count": 19,
      "outputs": [
        {
          "output_type": "stream",
          "text": [
            "Downloading data from https://storage.googleapis.com/tensorflow/tf-keras-datasets/mnist.npz\n",
            "11493376/11490434 [==============================] - 0s 0us/step\n"
          ],
          "name": "stdout"
        }
      ]
    },
    {
      "cell_type": "code",
      "metadata": {
        "id": "1uiQpWy_cDM5"
      },
      "source": [
        "train_images = train_images.reshape((60000, 784))\n",
        "test_images = test_images.reshape((10000, 784))"
      ],
      "execution_count": 20,
      "outputs": []
    },
    {
      "cell_type": "code",
      "metadata": {
        "id": "EgVyVQOUcDM5"
      },
      "source": [
        "train_images = train_images.astype('float32') / 255\n",
        "test_images = test_images.astype('float32') / 255"
      ],
      "execution_count": 21,
      "outputs": []
    },
    {
      "cell_type": "code",
      "metadata": {
        "id": "WlbQfbrCcDM5"
      },
      "source": [
        "train_labels = to_categorical(train_labels)\n",
        "test_labels = to_categorical(test_labels)"
      ],
      "execution_count": 22,
      "outputs": []
    },
    {
      "cell_type": "markdown",
      "metadata": {
        "id": "c4yjzpnfcDM6"
      },
      "source": [
        "## 네트워크 모델 설계"
      ]
    },
    {
      "cell_type": "code",
      "metadata": {
        "id": "Z7k6D0BccDM6"
      },
      "source": [
        "from keras import models\n",
        "from keras import layers"
      ],
      "execution_count": 23,
      "outputs": []
    },
    {
      "cell_type": "code",
      "metadata": {
        "id": "-bBS5HTWcDM6"
      },
      "source": [
        "# model = models.Sequential()\n",
        "# model.add(layers.Dense(512, activation='relu', input_shape=(28 * 28,)))\n",
        "# model.add(layers.Dense(10, activation='softmax'))"
      ],
      "execution_count": 24,
      "outputs": []
    },
    {
      "cell_type": "code",
      "metadata": {
        "id": "neBepNfKcDM7"
      },
      "source": [
        "from keras.layers.advanced_activations import LeakyReLU\n",
        "activation = LeakyReLU(alpha=.001)\n",
        "model.add(layers.Dense(512, activation=activation, input_shape=(28 * 28,)))\n",
        "model.add(layers.Dense(10, activation='softmax'))"
      ],
      "execution_count": 25,
      "outputs": []
    },
    {
      "cell_type": "markdown",
      "metadata": {
        "id": "R1QrXZgfcDM7"
      },
      "source": [
        "### RMSProp Optimizer"
      ]
    },
    {
      "cell_type": "code",
      "metadata": {
        "id": "tq5o24XlcDM7"
      },
      "source": [
        "# from keras.optimizers import RMSprop\n",
        "# optimizer = RMSprop(lr=0.001)"
      ],
      "execution_count": 26,
      "outputs": []
    },
    {
      "cell_type": "markdown",
      "metadata": {
        "id": "Txw3FHmhcDM7"
      },
      "source": [
        "### Adam Optimizer"
      ]
    },
    {
      "cell_type": "code",
      "metadata": {
        "id": "Lx23r19acDM8"
      },
      "source": [
        "from keras.optimizers import Adam\n",
        "optimizer = Adam(lr=0.01)"
      ],
      "execution_count": 27,
      "outputs": []
    },
    {
      "cell_type": "code",
      "metadata": {
        "id": "Pa6alxp4cDM8"
      },
      "source": [
        "model.compile(optimizer=optimizer,\n",
        "              loss='categorical_crossentropy',\n",
        "              metrics=['accuracy'])"
      ],
      "execution_count": 28,
      "outputs": []
    },
    {
      "cell_type": "code",
      "metadata": {
        "colab": {
          "base_uri": "https://localhost:8080/"
        },
        "id": "hUlnjCTdcDM8",
        "outputId": "86a7934f-8d06-440c-ddc6-4e7be151a808"
      },
      "source": [
        "#None값은 우리가 batch size를 안정해줘서None 뜨는것.\n",
        "model.summary()"
      ],
      "execution_count": 29,
      "outputs": [
        {
          "output_type": "stream",
          "text": [
            "Model: \"sequential_1\"\n",
            "_________________________________________________________________\n",
            "Layer (type)                 Output Shape              Param #   \n",
            "=================================================================\n",
            "dense_3 (Dense)              (None, 512)               401920    \n",
            "_________________________________________________________________\n",
            "dense_4 (Dense)              (None, 10)                5130      \n",
            "_________________________________________________________________\n",
            "dense_5 (Dense)              (None, 512)               5632      \n",
            "_________________________________________________________________\n",
            "dense_6 (Dense)              (None, 512)               262656    \n",
            "_________________________________________________________________\n",
            "dense_7 (Dense)              (None, 10)                5130      \n",
            "=================================================================\n",
            "Total params: 680,468\n",
            "Trainable params: 680,468\n",
            "Non-trainable params: 0\n",
            "_________________________________________________________________\n"
          ],
          "name": "stdout"
        }
      ]
    },
    {
      "cell_type": "markdown",
      "metadata": {
        "id": "cecurr-QcDM9"
      },
      "source": [
        "## 모델 훈련(training)"
      ]
    },
    {
      "cell_type": "code",
      "metadata": {
        "colab": {
          "base_uri": "https://localhost:8080/"
        },
        "id": "NJxsP60LcDM9",
        "outputId": "fb506b2f-8d2b-4678-b144-9f459f55098e"
      },
      "source": [
        "model.fit(train_images, train_labels, epochs=5, batch_size=64)"
      ],
      "execution_count": 30,
      "outputs": [
        {
          "output_type": "stream",
          "text": [
            "Epoch 1/5\n",
            "938/938 [==============================] - 11s 11ms/step - loss: 0.9329 - accuracy: 0.6179\n",
            "Epoch 2/5\n",
            "938/938 [==============================] - 10s 11ms/step - loss: 0.2793 - accuracy: 0.9327\n",
            "Epoch 3/5\n",
            "938/938 [==============================] - 10s 11ms/step - loss: 0.2427 - accuracy: 0.9454\n",
            "Epoch 4/5\n",
            "938/938 [==============================] - 10s 11ms/step - loss: 0.2130 - accuracy: 0.9529\n",
            "Epoch 5/5\n",
            "938/938 [==============================] - 11s 11ms/step - loss: 0.2278 - accuracy: 0.9505\n"
          ],
          "name": "stdout"
        },
        {
          "output_type": "execute_result",
          "data": {
            "text/plain": [
              "<tensorflow.python.keras.callbacks.History at 0x7f252e191b10>"
            ]
          },
          "metadata": {
            "tags": []
          },
          "execution_count": 30
        }
      ]
    },
    {
      "cell_type": "markdown",
      "metadata": {
        "id": "sKMNqAQQcDM9"
      },
      "source": [
        "## 모델 평가"
      ]
    },
    {
      "cell_type": "code",
      "metadata": {
        "colab": {
          "base_uri": "https://localhost:8080/"
        },
        "id": "tvuaUBfEcDM-",
        "outputId": "81846dff-7990-41d6-ef93-42a41a7b6101"
      },
      "source": [
        "test_loss, test_acc = model.evaluate(test_images, test_labels)"
      ],
      "execution_count": 33,
      "outputs": [
        {
          "output_type": "stream",
          "text": [
            "313/313 [==============================] - 1s 3ms/step - loss: 0.1928 - accuracy: 0.9583\n"
          ],
          "name": "stdout"
        }
      ]
    },
    {
      "cell_type": "code",
      "metadata": {
        "colab": {
          "base_uri": "https://localhost:8080/"
        },
        "id": "6liyyiuccDM-",
        "outputId": "3267d199-1f52-4091-af34-adbd1853ca15"
      },
      "source": [
        "print('test_acc:', test_acc)"
      ],
      "execution_count": 34,
      "outputs": [
        {
          "output_type": "stream",
          "text": [
            "test_acc: 0.958299994468689\n"
          ],
          "name": "stdout"
        }
      ]
    },
    {
      "cell_type": "code",
      "metadata": {
        "collapsed": true,
        "jupyter": {
          "outputs_hidden": true
        },
        "id": "1hrz_Gh0cDM-"
      },
      "source": [
        ""
      ],
      "execution_count": 22,
      "outputs": []
    }
  ]
}