{
  "nbformat": 4,
  "nbformat_minor": 0,
  "metadata": {
    "colab": {
      "name": "2021_07_16_자연어실습.ipynb",
      "provenance": [],
      "collapsed_sections": [],
      "include_colab_link": true
    },
    "kernelspec": {
      "name": "python3",
      "display_name": "Python 3"
    },
    "language_info": {
      "name": "python"
    }
  },
  "cells": [
    {
      "cell_type": "markdown",
      "metadata": {
        "id": "view-in-github",
        "colab_type": "text"
      },
      "source": [
        "<a href=\"https://colab.research.google.com/github/risker93/Hello_World/blob/main/daily/2021_07_16_%E1%84%8C%E1%85%A1%E1%84%8B%E1%85%A7%E1%86%AB%E1%84%8B%E1%85%A5%E1%84%89%E1%85%B5%E1%86%AF%E1%84%89%E1%85%B3%E1%86%B8.ipynb\" target=\"_parent\"><img src=\"https://colab.research.google.com/assets/colab-badge.svg\" alt=\"Open In Colab\"/></a>"
      ]
    },
    {
      "cell_type": "markdown",
      "metadata": {
        "id": "xnPVAtxD50E0"
      },
      "source": [
        "## 한국어데이터로 QA(Question Answering)하기"
      ]
    },
    {
      "cell_type": "code",
      "metadata": {
        "colab": {
          "base_uri": "https://localhost:8080/"
        },
        "id": "KS_Ia5XqE7mj",
        "outputId": "17e39897-5af1-4496-8fe4-3c8c6a98b6b7"
      },
      "source": [
        "from google.colab import drive\n",
        "drive.mount('/content/drive')"
      ],
      "execution_count": null,
      "outputs": [
        {
          "output_type": "stream",
          "text": [
            "Mounted at /content/drive\n"
          ],
          "name": "stdout"
        }
      ]
    },
    {
      "cell_type": "code",
      "metadata": {
        "colab": {
          "base_uri": "https://localhost:8080/"
        },
        "id": "6DFzvwHC9Y2o",
        "outputId": "9ff74225-ed1c-48b3-9c44-728a01fb3b24"
      },
      "source": [
        "pip install customized_konlpy"
      ],
      "execution_count": null,
      "outputs": [
        {
          "output_type": "stream",
          "text": [
            "Collecting customized_konlpy\n",
            "\u001b[?25l  Downloading https://files.pythonhosted.org/packages/07/8c/d39c483b637a6d85ab2d6da50012810628982bbd5279818bdc5dd1e7da51/customized_konlpy-0.0.64-py3-none-any.whl (881kB)\n",
            "\u001b[K     |████████████████████████████████| 890kB 5.0MB/s \n",
            "\u001b[?25hCollecting Jpype1>=0.6.1\n",
            "\u001b[?25l  Downloading https://files.pythonhosted.org/packages/98/88/f817ef1af6f794e8f11313dcd1549de833f4599abcec82746ab5ed086686/JPype1-1.3.0-cp37-cp37m-manylinux_2_5_x86_64.manylinux1_x86_64.whl (448kB)\n",
            "\u001b[K     |████████████████████████████████| 450kB 32.1MB/s \n",
            "\u001b[?25hCollecting konlpy>=0.4.4\n",
            "\u001b[?25l  Downloading https://files.pythonhosted.org/packages/85/0e/f385566fec837c0b83f216b2da65db9997b35dd675e107752005b7d392b1/konlpy-0.5.2-py2.py3-none-any.whl (19.4MB)\n",
            "\u001b[K     |████████████████████████████████| 19.4MB 8.8MB/s \n",
            "\u001b[?25hRequirement already satisfied: typing-extensions; python_version < \"3.8\" in /usr/local/lib/python3.7/dist-packages (from Jpype1>=0.6.1->customized_konlpy) (3.7.4.3)\n",
            "Requirement already satisfied: tweepy>=3.7.0 in /usr/local/lib/python3.7/dist-packages (from konlpy>=0.4.4->customized_konlpy) (3.10.0)\n",
            "Collecting beautifulsoup4==4.6.0\n",
            "\u001b[?25l  Downloading https://files.pythonhosted.org/packages/9e/d4/10f46e5cfac773e22707237bfcd51bbffeaf0a576b0a847ec7ab15bd7ace/beautifulsoup4-4.6.0-py3-none-any.whl (86kB)\n",
            "\u001b[K     |████████████████████████████████| 92kB 8.8MB/s \n",
            "\u001b[?25hRequirement already satisfied: lxml>=4.1.0 in /usr/local/lib/python3.7/dist-packages (from konlpy>=0.4.4->customized_konlpy) (4.2.6)\n",
            "Requirement already satisfied: numpy>=1.6 in /usr/local/lib/python3.7/dist-packages (from konlpy>=0.4.4->customized_konlpy) (1.19.5)\n",
            "Collecting colorama\n",
            "  Downloading https://files.pythonhosted.org/packages/44/98/5b86278fbbf250d239ae0ecb724f8572af1c91f4a11edf4d36a206189440/colorama-0.4.4-py2.py3-none-any.whl\n",
            "Requirement already satisfied: requests[socks]>=2.11.1 in /usr/local/lib/python3.7/dist-packages (from tweepy>=3.7.0->konlpy>=0.4.4->customized_konlpy) (2.23.0)\n",
            "Requirement already satisfied: requests-oauthlib>=0.7.0 in /usr/local/lib/python3.7/dist-packages (from tweepy>=3.7.0->konlpy>=0.4.4->customized_konlpy) (1.3.0)\n",
            "Requirement already satisfied: six>=1.10.0 in /usr/local/lib/python3.7/dist-packages (from tweepy>=3.7.0->konlpy>=0.4.4->customized_konlpy) (1.15.0)\n",
            "Requirement already satisfied: certifi>=2017.4.17 in /usr/local/lib/python3.7/dist-packages (from requests[socks]>=2.11.1->tweepy>=3.7.0->konlpy>=0.4.4->customized_konlpy) (2021.5.30)\n",
            "Requirement already satisfied: chardet<4,>=3.0.2 in /usr/local/lib/python3.7/dist-packages (from requests[socks]>=2.11.1->tweepy>=3.7.0->konlpy>=0.4.4->customized_konlpy) (3.0.4)\n",
            "Requirement already satisfied: idna<3,>=2.5 in /usr/local/lib/python3.7/dist-packages (from requests[socks]>=2.11.1->tweepy>=3.7.0->konlpy>=0.4.4->customized_konlpy) (2.10)\n",
            "Requirement already satisfied: urllib3!=1.25.0,!=1.25.1,<1.26,>=1.21.1 in /usr/local/lib/python3.7/dist-packages (from requests[socks]>=2.11.1->tweepy>=3.7.0->konlpy>=0.4.4->customized_konlpy) (1.24.3)\n",
            "Requirement already satisfied: PySocks!=1.5.7,>=1.5.6; extra == \"socks\" in /usr/local/lib/python3.7/dist-packages (from requests[socks]>=2.11.1->tweepy>=3.7.0->konlpy>=0.4.4->customized_konlpy) (1.7.1)\n",
            "Requirement already satisfied: oauthlib>=3.0.0 in /usr/local/lib/python3.7/dist-packages (from requests-oauthlib>=0.7.0->tweepy>=3.7.0->konlpy>=0.4.4->customized_konlpy) (3.1.1)\n",
            "Installing collected packages: Jpype1, beautifulsoup4, colorama, konlpy, customized-konlpy\n",
            "  Found existing installation: beautifulsoup4 4.6.3\n",
            "    Uninstalling beautifulsoup4-4.6.3:\n",
            "      Successfully uninstalled beautifulsoup4-4.6.3\n",
            "Successfully installed Jpype1-1.3.0 beautifulsoup4-4.6.0 colorama-0.4.4 customized-konlpy-0.0.64 konlpy-0.5.2\n"
          ],
          "name": "stdout"
        }
      ]
    },
    {
      "cell_type": "code",
      "metadata": {
        "id": "nZnhV2JynCif"
      },
      "source": [
        "from ckonlpy.tag import Twitter\n",
        "from tensorflow.keras.utils import get_file\n",
        "from tensorflow.keras.preprocessing.sequence import pad_sequences\n",
        "from tensorflow.keras.utils import to_categorical\n",
        "import numpy as np\n",
        "from nltk import FreqDist\n",
        "from functools import reduce\n",
        "import os\n",
        "import re\n",
        "import matplotlib.pyplot as plt"
      ],
      "execution_count": null,
      "outputs": []
    },
    {
      "cell_type": "code",
      "metadata": {
        "id": "KABSm7iT91Vc"
      },
      "source": [
        "train_file = os.path.join('/content/drive/MyDrive/qa1_single-supporting-fact_train_kor.txt')\n",
        "test_file = os.path.join('/content/drive/MyDrive/qa1_single-supporting-fact_test_kor.txt')"
      ],
      "execution_count": null,
      "outputs": []
    },
    {
      "cell_type": "code",
      "metadata": {
        "colab": {
          "base_uri": "https://localhost:8080/"
        },
        "id": "LmcyusKA-jrp",
        "outputId": "a6f8287f-a1a9-4e3a-c3fb-cc1f8e8d749c"
      },
      "source": [
        "i = 0\n",
        "lines = open(train_file, \"rb\")\n",
        "for line in lines:\n",
        "    line = line.decode(\"utf-8\").strip()\n",
        "    i = i+1\n",
        "    print(line)\n",
        "    if i == 20:\n",
        "        break"
      ],
      "execution_count": null,
      "outputs": [
        {
          "output_type": "stream",
          "text": [
            "1 필웅이는 화장실로 갔습니다.\n",
            "2 은경이는 복도로 이동했습니다.\n",
            "3 필웅이는 어디야? \t화장실\t1\n",
            "4 수종이는 복도로 복귀했습니다.\n",
            "5 경임이는 정원으로 갔습니다.\n",
            "6 수종이는 어디야? \t복도\t4\n",
            "7 은경이는 사무실로 갔습니다.\n",
            "8 경임이는 화장실로 뛰어갔습니다.\n",
            "9 수종이는 어디야? \t복도\t4\n",
            "10 필웅이는 복도로 갔습니다.\n",
            "11 수종이는 사무실로 가버렸습니다.\n",
            "12 수종이는 어디야? \t사무실\t11\n",
            "13 은경이는 정원으로 복귀했습니다.\n",
            "14 은경이는 침실로 갔습니다.\n",
            "15 경임이는 어디야? \t화장실\t8\n",
            "1 경임이는 사무실로 가버렸습니다.\n",
            "2 경임이는 화장실로 이동했습니다.\n",
            "3 경임이는 어디야? \t화장실\t2\n",
            "4 필웅이는 침실로 이동했습니다.\n",
            "5 수종이는 복도로 갔습니다.\n"
          ],
          "name": "stdout"
        }
      ]
    },
    {
      "cell_type": "code",
      "metadata": {
        "id": "4cpo1JfH-3LI"
      },
      "source": [
        "def read_data(dir):\n",
        "    stories, questions, answers = [], [], []\n",
        "    story_temp = []\n",
        "    lines = open(dir, \"rb\")\n",
        "\n",
        "    for line in lines:\n",
        "        line = line.decode(\"utf-8\") # b' 분리\n",
        "        line = line.strip() # \\n 제거 \n",
        "        idx, text = line.split(\" \", 1) # 맨앞에 있는 id number 분리\n",
        "\n",
        "        if int(idx) == 1:\n",
        "            story_temp = []\n",
        "\n",
        "        if \"\\t\" in text: # 현재 읽는 줄이 질문 (tab) 답변 (tab)인경우\n",
        "            question, answer, _ = text.split(\"\\t\")\n",
        "            stories.append([x for x in story_temp if x])\n",
        "            questions.append(question)\n",
        "            answers.append(answer)\n",
        "        else: \n",
        "            story_temp.append(text)\n",
        "    lines.close()\n",
        "    return stories, questions, answers"
      ],
      "execution_count": null,
      "outputs": []
    },
    {
      "cell_type": "code",
      "metadata": {
        "id": "7LXBU7FyA5Ly"
      },
      "source": [
        "train_data = read_data(train_file)\n",
        "test_data = read_data(test_file)"
      ],
      "execution_count": null,
      "outputs": []
    },
    {
      "cell_type": "code",
      "metadata": {
        "id": "c4z-62xgBCUQ"
      },
      "source": [
        "train_stories, train_questons, train_answers = read_data(train_file)\n",
        "test_stories, test_questions, test_answers = read_data(test_file)"
      ],
      "execution_count": null,
      "outputs": []
    },
    {
      "cell_type": "code",
      "metadata": {
        "colab": {
          "base_uri": "https://localhost:8080/"
        },
        "id": "tqmniW9EBRWI",
        "outputId": "119245ea-a73b-4b98-db92-7e64541509f5"
      },
      "source": [
        "print('훈련용 스토리의 갯수 : ', len(train_stories))\n",
        "print('훈련용 질문의 갯수 :', len(train_questons))\n",
        "print('훈련용 답변의 갯수 :', len(train_answers))\n",
        "print('테스트용 스토리의 갯수 :', len(test_stories))\n",
        "print('테스트용 질문의 갯수 :', len(test_questions))\n",
        "print('테스트용 답변의 갯수 :', len(test_answers))"
      ],
      "execution_count": null,
      "outputs": [
        {
          "output_type": "stream",
          "text": [
            "훈련용 스토리의 갯수 :  10000\n",
            "훈련용 질문의 갯수 : 10000\n",
            "훈련용 답변의 갯수 : 10000\n",
            "테스트용 스토리의 갯수 : 1000\n",
            "테스트용 질문의 갯수 : 1000\n",
            "테스트용 답변의 갯수 : 1000\n"
          ],
          "name": "stdout"
        }
      ]
    },
    {
      "cell_type": "code",
      "metadata": {
        "colab": {
          "base_uri": "https://localhost:8080/"
        },
        "id": "W1Mhq57hBqYS",
        "outputId": "5dc73c90-fe06-4654-fdaa-0047b2dabbd1"
      },
      "source": [
        "train_stories[3678]"
      ],
      "execution_count": null,
      "outputs": [
        {
          "output_type": "execute_result",
          "data": {
            "text/plain": [
              "['필웅이는 사무실로 복귀했습니다.',\n",
              " '은경이는 화장실로 가버렸습니다.',\n",
              " '수종이는 사무실로 갔습니다.',\n",
              " '수종이는 복도로 가버렸습니다.',\n",
              " '수종이는 사무실로 이동했습니다.',\n",
              " '수종이는 정원으로 뛰어갔습니다.',\n",
              " '은경이는 침실로 복귀했습니다.',\n",
              " '수종이는 화장실로 복귀했습니다.']"
            ]
          },
          "metadata": {
            "tags": []
          },
          "execution_count": 10
        }
      ]
    },
    {
      "cell_type": "code",
      "metadata": {
        "colab": {
          "base_uri": "https://localhost:8080/",
          "height": 35
        },
        "id": "R9VPpn6xB18P",
        "outputId": "dfbbb49e-86f5-49b5-edbf-0086c2ffb63b"
      },
      "source": [
        "train_questons[3678]"
      ],
      "execution_count": null,
      "outputs": [
        {
          "output_type": "execute_result",
          "data": {
            "application/vnd.google.colaboratory.intrinsic+json": {
              "type": "string"
            },
            "text/plain": [
              "'은경이는 어디야? '"
            ]
          },
          "metadata": {
            "tags": []
          },
          "execution_count": 11
        }
      ]
    },
    {
      "cell_type": "code",
      "metadata": {
        "colab": {
          "base_uri": "https://localhost:8080/",
          "height": 35
        },
        "id": "LYqGGkDQB6Yo",
        "outputId": "a02d1c70-8a18-4226-f97e-87ac24a443d9"
      },
      "source": [
        "train_answers[3678]"
      ],
      "execution_count": null,
      "outputs": [
        {
          "output_type": "execute_result",
          "data": {
            "application/vnd.google.colaboratory.intrinsic+json": {
              "type": "string"
            },
            "text/plain": [
              "'침실'"
            ]
          },
          "metadata": {
            "tags": []
          },
          "execution_count": 12
        }
      ]
    },
    {
      "cell_type": "markdown",
      "metadata": {
        "id": "LlHTxvTNCCXI"
      },
      "source": [
        "### 토큰화"
      ]
    },
    {
      "cell_type": "code",
      "metadata": {
        "colab": {
          "base_uri": "https://localhost:8080/"
        },
        "id": "JPkxPN2jG7W5",
        "outputId": "182dd74e-56d1-400f-e450-a5d8baa6e578"
      },
      "source": [
        "twitter = Twitter()"
      ],
      "execution_count": null,
      "outputs": [
        {
          "output_type": "stream",
          "text": [
            "/usr/local/lib/python3.7/dist-packages/konlpy/tag/_okt.py:16: UserWarning: \"Twitter\" has changed to \"Okt\" since KoNLPy v0.4.5.\n",
            "  warn('\"Twitter\" has changed to \"Okt\" since KoNLPy v0.4.5.')\n"
          ],
          "name": "stderr"
        }
      ]
    },
    {
      "cell_type": "code",
      "metadata": {
        "id": "yBFgvtaLFseh"
      },
      "source": [
        "twitter.add_dictionary('은경이','Noun')\n",
        "twitter.add_dictionary('경임이','Noun')\n",
        "twitter.add_dictionary('수종이','Noun')"
      ],
      "execution_count": null,
      "outputs": []
    },
    {
      "cell_type": "code",
      "metadata": {
        "id": "FE3ynpSsB9tA"
      },
      "source": [
        "def tokenize(sent):\n",
        "    #return [ x.strip() for x in re.split('(\\W+)?', sent) if x.strip()]\n",
        "    return twitter.morphs(sent)"
      ],
      "execution_count": null,
      "outputs": []
    },
    {
      "cell_type": "code",
      "metadata": {
        "id": "GJstAb8ICOnw"
      },
      "source": [
        "def preprocess_data(train_data, test_data):\n",
        "    counter = FreqDist()\n",
        "\n",
        "    # 두 문장의 story를 하나의 문장으로 통합하는 함수\n",
        "    flatten = lambda data: reduce(lambda x, y: x + y, data)\n",
        "\n",
        "    # 각 샘플의 길이를 저장하는 리스트\n",
        "    story_len = []\n",
        "    question_len = []\n",
        "\n",
        "    for stories, questions, answers in [train_data, test_data]:\n",
        "        for story in stories:\n",
        "            stories = tokenize(flatten(story)) # 스토리의 문장들을 펼친 후 토큰화\n",
        "            story_len.append(len(stories)) # 각 story의 길이 저장\n",
        "            for word in stories: # 단어 집합에 단어 추가\n",
        "                counter[word] += 1\n",
        "        for question in questions:\n",
        "            question = tokenize(question)\n",
        "            question_len.append(len(question))\n",
        "            for word in question:\n",
        "                counter[word] += 1\n",
        "        for answer in answers:\n",
        "            answer = tokenize(answer)\n",
        "            for word in answer:\n",
        "                counter[word] += 1\n",
        "\n",
        "    # 단어 집합 생성\n",
        "    word2idx = {word : (idx + 1) for idx, (word, _) in enumerate(counter.most_common())}\n",
        "    idx2word = {idx : word for word, idx in word2idx.items()}\n",
        "\n",
        "    # 가장 긴 샘플의 길이\n",
        "    story_max_len = np.max(story_len)\n",
        "    question_max_len = np.max(question_len)\n",
        "\n",
        "    return word2idx, idx2word, story_max_len, question_max_len"
      ],
      "execution_count": null,
      "outputs": []
    },
    {
      "cell_type": "code",
      "metadata": {
        "id": "Zv57zYAZD2zj"
      },
      "source": [
        "word2idx, idx2word, story_max_len, question_max_len = preprocess_data(train_data, test_data)"
      ],
      "execution_count": null,
      "outputs": []
    },
    {
      "cell_type": "code",
      "metadata": {
        "colab": {
          "base_uri": "https://localhost:8080/"
        },
        "id": "niiwIUECEB0A",
        "outputId": "b49b2587-2448-4adb-928d-2ec30d2639bb"
      },
      "source": [
        "print(word2idx)"
      ],
      "execution_count": null,
      "outputs": [
        {
          "output_type": "stream",
          "text": [
            "{'는': 1, '.': 2, '로': 3, '했습니다': 4, '으로': 5, '경임이': 6, '은경이': 7, '수종이': 8, '필웅이': 9, '이동': 10, '가버렸습니다': 11, '뛰어갔습니다': 12, '복귀': 13, '화장실': 14, '정원': 15, '복도': 16, '갔습니다': 17, '사무실': 18, '부엌': 19, '침실': 20, '어디': 21, '야': 22, '?': 23}\n"
          ],
          "name": "stdout"
        }
      ]
    },
    {
      "cell_type": "code",
      "metadata": {
        "colab": {
          "base_uri": "https://localhost:8080/"
        },
        "id": "21YxMfBQKtTQ",
        "outputId": "4ce91bf3-5593-4bc7-8a8a-dbdc15fa199f"
      },
      "source": [
        "vocab_size = len(word2idx)+1\n",
        "print(vocab_size)"
      ],
      "execution_count": null,
      "outputs": [
        {
          "output_type": "stream",
          "text": [
            "24\n"
          ],
          "name": "stdout"
        }
      ]
    },
    {
      "cell_type": "code",
      "metadata": {
        "colab": {
          "base_uri": "https://localhost:8080/"
        },
        "id": "bsRIEbqGLxED",
        "outputId": "643e6faa-303c-4404-ad18-5d794a85e440"
      },
      "source": [
        "print('스토리의 최대 길이 :', story_max_len)\n",
        "print('질문의 최대 길이 :', question_max_len)"
      ],
      "execution_count": null,
      "outputs": [
        {
          "output_type": "stream",
          "text": [
            "스토리의 최대 길이 : 70\n",
            "질문의 최대 길이 : 5\n"
          ],
          "name": "stdout"
        }
      ]
    },
    {
      "cell_type": "code",
      "metadata": {
        "id": "EYT2HimkL4Lp"
      },
      "source": [
        "def vectorize(data, word2idx, story_maxlen, question_maxlen):\n",
        "    Xs, Xq, y = [], [], []\n",
        "    flatten = lambda data: reduce(lambda x, y: x+ y, data)\n",
        "\n",
        "    stories, questions, answers = data\n",
        "    for story, question, answer in zip(stories, questions, answers):\n",
        "        xs = [word2idx[w] for w in tokenize(flatten(story))]\n",
        "        xq = [word2idx[w] for w in tokenize(question)]\n",
        "        Xs.append(xs)\n",
        "        Xq.append(xq)\n",
        "        y.append(word2idx[answer])\n",
        "\n",
        "    return pad_sequences(Xs, maxlen=story_maxlen),\\\n",
        "    pad_sequences(Xq, maxlen=question_maxlen),\\\n",
        "    to_categorical(y, num_classes=len(word2idx) + 1)"
      ],
      "execution_count": null,
      "outputs": []
    },
    {
      "cell_type": "code",
      "metadata": {
        "id": "wacI1fEDM3o3"
      },
      "source": [
        "xstrain, xqtrain, ytrain = vectorize(train_data, word2idx, story_max_len, question_max_len)\n",
        "xstest, xqtest, ytest = vectorize(test_data, word2idx, story_max_len, question_max_len)"
      ],
      "execution_count": null,
      "outputs": []
    },
    {
      "cell_type": "code",
      "metadata": {
        "colab": {
          "base_uri": "https://localhost:8080/"
        },
        "id": "-k_YccM0NemS",
        "outputId": "abfad556-99fe-4517-8c7c-76276660482d"
      },
      "source": [
        "print(xstrain.shape, xqtrain.shape, ytrain.shape, xstest.shape, xqtest.shape, ytest.shape)"
      ],
      "execution_count": null,
      "outputs": [
        {
          "output_type": "stream",
          "text": [
            "(10000, 70) (10000, 5) (10000, 24) (1000, 70) (1000, 5) (1000, 24)\n"
          ],
          "name": "stdout"
        }
      ]
    },
    {
      "cell_type": "markdown",
      "metadata": {
        "id": "OzKRRYfBOUkC"
      },
      "source": [
        "## 메모리 네트워크만들기"
      ]
    },
    {
      "cell_type": "markdown",
      "metadata": {
        "id": "69Fdam0xOa5y"
      },
      "source": [
        "![](https://wikidocs.net/images/page/82475/memn.PNG)"
      ]
    },
    {
      "cell_type": "code",
      "metadata": {
        "id": "cdzBv8UCOQda"
      },
      "source": [
        "from tensorflow.keras.models import Sequential, Model\n",
        "from tensorflow.keras.layers import Embedding\n",
        "from tensorflow.keras.layers import Permute, dot, add, concatenate\n",
        "from tensorflow.keras.layers import LSTM, Dense, Dropout, Input, Activation"
      ],
      "execution_count": null,
      "outputs": []
    },
    {
      "cell_type": "code",
      "metadata": {
        "id": "zndku2TxPEIc"
      },
      "source": [
        "train_epochs = 120\n",
        "batch_size = 32\n",
        "embed_size = 50\n",
        "lstm_size = 64\n",
        "dropout_rate = 0.3"
      ],
      "execution_count": null,
      "outputs": []
    },
    {
      "cell_type": "code",
      "metadata": {
        "colab": {
          "base_uri": "https://localhost:8080/"
        },
        "id": "BHVGtnwpPPPR",
        "outputId": "69f62bcd-3d35-4a83-83e2-e4437724ff82"
      },
      "source": [
        "input_sequence = Input((story_max_len,))\n",
        "question = Input((question_max_len,))\n",
        "\n",
        "print('Stories :', input_sequence)\n",
        "print('Question:', question)"
      ],
      "execution_count": null,
      "outputs": [
        {
          "output_type": "stream",
          "text": [
            "Stories : KerasTensor(type_spec=TensorSpec(shape=(None, 70), dtype=tf.float32, name='input_1'), name='input_1', description=\"created by layer 'input_1'\")\n",
            "Question: KerasTensor(type_spec=TensorSpec(shape=(None, 5), dtype=tf.float32, name='input_2'), name='input_2', description=\"created by layer 'input_2'\")\n"
          ],
          "name": "stdout"
        }
      ]
    },
    {
      "cell_type": "code",
      "metadata": {
        "id": "djxK5Zq7PeSD"
      },
      "source": [
        "# Embeddig A\n",
        "input_encoder_m = Sequential()\n",
        "input_encoder_m.add(Embedding(input_dim=vocab_size,\n",
        "                              output_dim= embed_size))\n",
        "input_encoder_m.add(Dropout(dropout_rate))\n",
        "# (샘플의 수, 문장의 최대 길이, 임베딩 벡터의 차원)\n",
        "\n",
        "# Embedding C\n",
        "# 임베딩 벡터의 차원을 질문의 최대 길이로!\n",
        "input_encoder_c = Sequential()\n",
        "input_encoder_c.add(Embedding(input_dim=vocab_size,\n",
        "                              output_dim = question_max_len))\n",
        "input_encoder_c.add(Dropout(dropout_rate))\n",
        "# (샘플의 수, 문장의 최대길이, 질문의최대길이(임베딩벡터의차원))"
      ],
      "execution_count": null,
      "outputs": []
    },
    {
      "cell_type": "code",
      "metadata": {
        "id": "G_G1kavTQXqL"
      },
      "source": [
        "# 질문을 위한 임베딩 Embedding B\n",
        "question_encoder = Sequential()\n",
        "question_encoder.add(Embedding(input_dim=vocab_size,\n",
        "                               output_dim=embed_size,\n",
        "                               input_length=question_max_len))\n",
        "question_encoder.add(Dropout(dropout_rate))\n",
        "# (샘플의 수, 질문의 최대 길이, 임베딩 벡터의 차원)"
      ],
      "execution_count": null,
      "outputs": []
    },
    {
      "cell_type": "code",
      "metadata": {
        "colab": {
          "base_uri": "https://localhost:8080/"
        },
        "id": "duDd6jJeQtfq",
        "outputId": "b9cc9b1b-5066-44c3-f2ba-406f010d994c"
      },
      "source": [
        "# 실질적인 임베딩 과정\n",
        "input_encoded_m = input_encoder_m(input_sequence)\n",
        "input_encoded_c = input_encoder_c(input_sequence)\n",
        "question_encoded = question_encoder(question)\n",
        "\n",
        "print('Input encoded m', input_encoded_m)\n",
        "print('Input encoded c', input_encoded_c)\n",
        "print('question encoded', question_encoded)"
      ],
      "execution_count": null,
      "outputs": [
        {
          "output_type": "stream",
          "text": [
            "Input encoded m KerasTensor(type_spec=TensorSpec(shape=(None, 70, 50), dtype=tf.float32, name=None), name='sequential/dropout/Identity:0', description=\"created by layer 'sequential'\")\n",
            "Input encoded c KerasTensor(type_spec=TensorSpec(shape=(None, 70, 5), dtype=tf.float32, name=None), name='sequential_1/dropout_1/Identity:0', description=\"created by layer 'sequential_1'\")\n",
            "question encoded KerasTensor(type_spec=TensorSpec(shape=(None, 5, 50), dtype=tf.float32, name=None), name='sequential_2/dropout_2/Identity:0', description=\"created by layer 'sequential_2'\")\n"
          ],
          "name": "stdout"
        }
      ]
    },
    {
      "cell_type": "code",
      "metadata": {
        "colab": {
          "base_uri": "https://localhost:8080/"
        },
        "id": "7EsazzbzRLor",
        "outputId": "a5dcf3e7-8623-4e33-d672-ee22424ad3db"
      },
      "source": [
        "match = dot([input_encoded_m, question_encoded], axes= -1, normalize=False) ##\n",
        "match = Activation('softmax')(match)\n",
        "print('Match shape', match)\n",
        "\n",
        "response = add([match, input_encoded_c])\n",
        "response = Permute((2, 1))(response)\n",
        "print('Response shape', response)\n",
        "\n",
        "answer = concatenate([response, question_encoded])\n",
        "print('Answer shape', answer)\n",
        "\n",
        "answer = LSTM(lstm_size)(answer)\n",
        "answer = Dropout(dropout_rate)(answer)\n",
        "answer = Dense(vocab_size)(answer)\n",
        "answer = Activation('softmax')(answer)"
      ],
      "execution_count": null,
      "outputs": [
        {
          "output_type": "stream",
          "text": [
            "Match shape KerasTensor(type_spec=TensorSpec(shape=(None, 70, 5), dtype=tf.float32, name=None), name='activation/Softmax:0', description=\"created by layer 'activation'\")\n",
            "Response shape KerasTensor(type_spec=TensorSpec(shape=(None, 5, 70), dtype=tf.float32, name=None), name='permute/transpose:0', description=\"created by layer 'permute'\")\n",
            "Answer shape KerasTensor(type_spec=TensorSpec(shape=(None, 5, 120), dtype=tf.float32, name=None), name='concatenate/concat:0', description=\"created by layer 'concatenate'\")\n"
          ],
          "name": "stdout"
        }
      ]
    },
    {
      "cell_type": "code",
      "metadata": {
        "colab": {
          "base_uri": "https://localhost:8080/"
        },
        "id": "TcBhVtstSMBr",
        "outputId": "7e017f03-ac75-4943-d9c3-55c88a53e631"
      },
      "source": [
        "model = Model([input_sequence, question], answer)\n",
        "model.compile(optimizer='adam', loss='categorical_crossentropy', metrics=['acc'])\n",
        "print(model.summary())"
      ],
      "execution_count": null,
      "outputs": [
        {
          "output_type": "stream",
          "text": [
            "Model: \"model\"\n",
            "__________________________________________________________________________________________________\n",
            "Layer (type)                    Output Shape         Param #     Connected to                     \n",
            "==================================================================================================\n",
            "input_1 (InputLayer)            [(None, 70)]         0                                            \n",
            "__________________________________________________________________________________________________\n",
            "input_2 (InputLayer)            [(None, 5)]          0                                            \n",
            "__________________________________________________________________________________________________\n",
            "sequential (Sequential)         (None, None, 50)     1200        input_1[0][0]                    \n",
            "__________________________________________________________________________________________________\n",
            "sequential_2 (Sequential)       (None, 5, 50)        1200        input_2[0][0]                    \n",
            "__________________________________________________________________________________________________\n",
            "dot (Dot)                       (None, 70, 5)        0           sequential[0][0]                 \n",
            "                                                                 sequential_2[0][0]               \n",
            "__________________________________________________________________________________________________\n",
            "activation (Activation)         (None, 70, 5)        0           dot[0][0]                        \n",
            "__________________________________________________________________________________________________\n",
            "sequential_1 (Sequential)       (None, None, 5)      120         input_1[0][0]                    \n",
            "__________________________________________________________________________________________________\n",
            "add (Add)                       (None, 70, 5)        0           activation[0][0]                 \n",
            "                                                                 sequential_1[0][0]               \n",
            "__________________________________________________________________________________________________\n",
            "permute (Permute)               (None, 5, 70)        0           add[0][0]                        \n",
            "__________________________________________________________________________________________________\n",
            "concatenate (Concatenate)       (None, 5, 120)       0           permute[0][0]                    \n",
            "                                                                 sequential_2[0][0]               \n",
            "__________________________________________________________________________________________________\n",
            "lstm (LSTM)                     (None, 64)           47360       concatenate[0][0]                \n",
            "__________________________________________________________________________________________________\n",
            "dropout_3 (Dropout)             (None, 64)           0           lstm[0][0]                       \n",
            "__________________________________________________________________________________________________\n",
            "dense (Dense)                   (None, 24)           1560        dropout_3[0][0]                  \n",
            "__________________________________________________________________________________________________\n",
            "activation_1 (Activation)       (None, 24)           0           dense[0][0]                      \n",
            "==================================================================================================\n",
            "Total params: 51,440\n",
            "Trainable params: 51,440\n",
            "Non-trainable params: 0\n",
            "__________________________________________________________________________________________________\n",
            "None\n"
          ],
          "name": "stdout"
        }
      ]
    },
    {
      "cell_type": "code",
      "metadata": {
        "colab": {
          "base_uri": "https://localhost:8080/"
        },
        "id": "QT9X70KoSo5D",
        "outputId": "79bd0a44-c085-411c-9bd1-3ea214f99d5b"
      },
      "source": [
        "history = model.fit([xstrain, xqtrain],\n",
        "                    ytrain, batch_size, train_epochs,\n",
        "                    validation_data = ([xstest, xqtest], ytest))\n",
        "\n",
        "model.save('model.h5')"
      ],
      "execution_count": null,
      "outputs": [
        {
          "output_type": "stream",
          "text": [
            "Epoch 1/120\n",
            "313/313 [==============================] - 7s 14ms/step - loss: 1.9257 - acc: 0.1694 - val_loss: 1.7976 - val_acc: 0.1870\n",
            "Epoch 2/120\n",
            "313/313 [==============================] - 3s 11ms/step - loss: 1.7645 - acc: 0.2230 - val_loss: 1.6271 - val_acc: 0.3420\n",
            "Epoch 3/120\n",
            "313/313 [==============================] - 3s 11ms/step - loss: 1.5705 - acc: 0.3766 - val_loss: 1.4682 - val_acc: 0.4540\n",
            "Epoch 4/120\n",
            "313/313 [==============================] - 3s 10ms/step - loss: 1.4663 - acc: 0.4429 - val_loss: 1.3964 - val_acc: 0.4750\n",
            "Epoch 5/120\n",
            "313/313 [==============================] - 3s 10ms/step - loss: 1.3990 - acc: 0.4769 - val_loss: 1.3419 - val_acc: 0.4940\n",
            "Epoch 6/120\n",
            "313/313 [==============================] - 3s 10ms/step - loss: 1.3454 - acc: 0.4887 - val_loss: 1.3284 - val_acc: 0.4850\n",
            "Epoch 7/120\n",
            "313/313 [==============================] - 3s 10ms/step - loss: 1.3105 - acc: 0.4944 - val_loss: 1.2505 - val_acc: 0.5230\n",
            "Epoch 8/120\n",
            "313/313 [==============================] - 3s 10ms/step - loss: 1.2755 - acc: 0.5060 - val_loss: 1.2154 - val_acc: 0.5280\n",
            "Epoch 9/120\n",
            "313/313 [==============================] - 3s 10ms/step - loss: 1.2446 - acc: 0.5113 - val_loss: 1.2228 - val_acc: 0.5130\n",
            "Epoch 10/120\n",
            "313/313 [==============================] - 3s 10ms/step - loss: 1.2306 - acc: 0.5136 - val_loss: 1.2121 - val_acc: 0.5180\n",
            "Epoch 11/120\n",
            "313/313 [==============================] - 3s 10ms/step - loss: 1.2205 - acc: 0.5112 - val_loss: 1.1947 - val_acc: 0.5320\n",
            "Epoch 12/120\n",
            "313/313 [==============================] - 3s 10ms/step - loss: 1.2041 - acc: 0.5177 - val_loss: 1.1916 - val_acc: 0.5220\n",
            "Epoch 13/120\n",
            "313/313 [==============================] - 3s 11ms/step - loss: 1.1967 - acc: 0.5180 - val_loss: 1.1866 - val_acc: 0.5200\n",
            "Epoch 14/120\n",
            "313/313 [==============================] - 3s 10ms/step - loss: 1.1797 - acc: 0.5231 - val_loss: 1.1965 - val_acc: 0.5120\n",
            "Epoch 15/120\n",
            "313/313 [==============================] - 3s 10ms/step - loss: 1.1687 - acc: 0.5257 - val_loss: 1.2028 - val_acc: 0.5170\n",
            "Epoch 16/120\n",
            "313/313 [==============================] - 3s 10ms/step - loss: 1.1642 - acc: 0.5240 - val_loss: 1.1737 - val_acc: 0.5260\n",
            "Epoch 17/120\n",
            "313/313 [==============================] - 3s 11ms/step - loss: 1.1467 - acc: 0.5237 - val_loss: 1.1664 - val_acc: 0.5270\n",
            "Epoch 18/120\n",
            "313/313 [==============================] - 3s 10ms/step - loss: 1.1434 - acc: 0.5286 - val_loss: 1.1760 - val_acc: 0.5350\n",
            "Epoch 19/120\n",
            "313/313 [==============================] - 3s 10ms/step - loss: 1.1288 - acc: 0.5303 - val_loss: 1.1764 - val_acc: 0.5360\n",
            "Epoch 20/120\n",
            "313/313 [==============================] - 3s 11ms/step - loss: 1.1190 - acc: 0.5355 - val_loss: 1.1827 - val_acc: 0.5240\n",
            "Epoch 21/120\n",
            "313/313 [==============================] - 3s 10ms/step - loss: 1.1066 - acc: 0.5394 - val_loss: 1.1633 - val_acc: 0.5350\n",
            "Epoch 22/120\n",
            "313/313 [==============================] - 3s 10ms/step - loss: 1.1042 - acc: 0.5365 - val_loss: 1.1608 - val_acc: 0.5290\n",
            "Epoch 23/120\n",
            "313/313 [==============================] - 3s 10ms/step - loss: 1.0974 - acc: 0.5395 - val_loss: 1.1550 - val_acc: 0.5300\n",
            "Epoch 24/120\n",
            "313/313 [==============================] - 3s 10ms/step - loss: 1.0887 - acc: 0.5446 - val_loss: 1.1799 - val_acc: 0.5160\n",
            "Epoch 25/120\n",
            "313/313 [==============================] - 3s 10ms/step - loss: 1.0824 - acc: 0.5448 - val_loss: 1.1634 - val_acc: 0.5330\n",
            "Epoch 26/120\n",
            "313/313 [==============================] - 3s 10ms/step - loss: 1.0599 - acc: 0.5514 - val_loss: 1.1465 - val_acc: 0.5290\n",
            "Epoch 27/120\n",
            "313/313 [==============================] - 3s 10ms/step - loss: 1.0505 - acc: 0.5560 - val_loss: 1.1821 - val_acc: 0.5070\n",
            "Epoch 28/120\n",
            "313/313 [==============================] - 3s 10ms/step - loss: 1.0494 - acc: 0.5504 - val_loss: 1.1621 - val_acc: 0.5200\n",
            "Epoch 29/120\n",
            "313/313 [==============================] - 3s 10ms/step - loss: 1.0475 - acc: 0.5588 - val_loss: 1.1531 - val_acc: 0.5220\n",
            "Epoch 30/120\n",
            "313/313 [==============================] - 3s 10ms/step - loss: 1.0373 - acc: 0.5572 - val_loss: 1.1813 - val_acc: 0.5100\n",
            "Epoch 31/120\n",
            "313/313 [==============================] - 3s 11ms/step - loss: 1.0220 - acc: 0.5666 - val_loss: 1.1630 - val_acc: 0.5130\n",
            "Epoch 32/120\n",
            "313/313 [==============================] - 3s 10ms/step - loss: 1.0165 - acc: 0.5667 - val_loss: 1.1698 - val_acc: 0.5060\n",
            "Epoch 33/120\n",
            "313/313 [==============================] - 3s 11ms/step - loss: 1.0037 - acc: 0.5712 - val_loss: 1.1828 - val_acc: 0.5050\n",
            "Epoch 34/120\n",
            "313/313 [==============================] - 3s 10ms/step - loss: 0.9928 - acc: 0.5795 - val_loss: 1.1805 - val_acc: 0.5060\n",
            "Epoch 35/120\n",
            "313/313 [==============================] - 3s 11ms/step - loss: 0.9874 - acc: 0.5827 - val_loss: 1.1541 - val_acc: 0.5190\n",
            "Epoch 36/120\n",
            "313/313 [==============================] - 3s 10ms/step - loss: 0.9358 - acc: 0.6118 - val_loss: 1.0849 - val_acc: 0.5570\n",
            "Epoch 37/120\n",
            "313/313 [==============================] - 3s 10ms/step - loss: 0.7987 - acc: 0.6929 - val_loss: 0.8143 - val_acc: 0.7000\n",
            "Epoch 38/120\n",
            "313/313 [==============================] - 3s 10ms/step - loss: 0.6054 - acc: 0.7793 - val_loss: 0.6428 - val_acc: 0.7530\n",
            "Epoch 39/120\n",
            "313/313 [==============================] - 3s 11ms/step - loss: 0.5190 - acc: 0.8057 - val_loss: 0.6176 - val_acc: 0.7610\n",
            "Epoch 40/120\n",
            "313/313 [==============================] - 3s 11ms/step - loss: 0.4635 - acc: 0.8249 - val_loss: 0.5705 - val_acc: 0.7900\n",
            "Epoch 41/120\n",
            "313/313 [==============================] - 3s 11ms/step - loss: 0.4016 - acc: 0.8481 - val_loss: 0.4578 - val_acc: 0.8270\n",
            "Epoch 42/120\n",
            "313/313 [==============================] - 3s 11ms/step - loss: 0.3559 - acc: 0.8682 - val_loss: 0.4136 - val_acc: 0.8490\n",
            "Epoch 43/120\n",
            "313/313 [==============================] - 3s 11ms/step - loss: 0.3153 - acc: 0.8839 - val_loss: 0.4229 - val_acc: 0.8480\n",
            "Epoch 44/120\n",
            "313/313 [==============================] - 3s 10ms/step - loss: 0.2871 - acc: 0.8953 - val_loss: 0.3701 - val_acc: 0.8640\n",
            "Epoch 45/120\n",
            "313/313 [==============================] - 3s 11ms/step - loss: 0.2592 - acc: 0.9012 - val_loss: 0.3461 - val_acc: 0.8650\n",
            "Epoch 46/120\n",
            "313/313 [==============================] - 3s 10ms/step - loss: 0.2410 - acc: 0.9088 - val_loss: 0.3441 - val_acc: 0.8650\n",
            "Epoch 47/120\n",
            "313/313 [==============================] - 3s 10ms/step - loss: 0.2324 - acc: 0.9134 - val_loss: 0.3582 - val_acc: 0.8710\n",
            "Epoch 48/120\n",
            "313/313 [==============================] - 3s 10ms/step - loss: 0.2157 - acc: 0.9213 - val_loss: 0.3331 - val_acc: 0.8780\n",
            "Epoch 49/120\n",
            "313/313 [==============================] - 3s 11ms/step - loss: 0.2040 - acc: 0.9218 - val_loss: 0.3130 - val_acc: 0.8840\n",
            "Epoch 50/120\n",
            "313/313 [==============================] - 3s 10ms/step - loss: 0.1880 - acc: 0.9284 - val_loss: 0.2866 - val_acc: 0.8930\n",
            "Epoch 51/120\n",
            "313/313 [==============================] - 3s 10ms/step - loss: 0.1726 - acc: 0.9388 - val_loss: 0.3047 - val_acc: 0.8800\n",
            "Epoch 52/120\n",
            "313/313 [==============================] - 3s 11ms/step - loss: 0.1654 - acc: 0.9390 - val_loss: 0.3075 - val_acc: 0.8850\n",
            "Epoch 53/120\n",
            "313/313 [==============================] - 3s 11ms/step - loss: 0.1571 - acc: 0.9431 - val_loss: 0.2986 - val_acc: 0.8870\n",
            "Epoch 54/120\n",
            "313/313 [==============================] - 3s 11ms/step - loss: 0.1407 - acc: 0.9479 - val_loss: 0.3355 - val_acc: 0.8860\n",
            "Epoch 55/120\n",
            "313/313 [==============================] - 3s 11ms/step - loss: 0.1359 - acc: 0.9504 - val_loss: 0.3057 - val_acc: 0.8960\n",
            "Epoch 56/120\n",
            "313/313 [==============================] - 3s 11ms/step - loss: 0.1313 - acc: 0.9528 - val_loss: 0.2723 - val_acc: 0.9110\n",
            "Epoch 57/120\n",
            "313/313 [==============================] - 3s 11ms/step - loss: 0.1183 - acc: 0.9575 - val_loss: 0.2766 - val_acc: 0.9130\n",
            "Epoch 58/120\n",
            "313/313 [==============================] - 3s 11ms/step - loss: 0.1053 - acc: 0.9618 - val_loss: 0.2732 - val_acc: 0.9110\n",
            "Epoch 59/120\n",
            "313/313 [==============================] - 3s 10ms/step - loss: 0.0981 - acc: 0.9672 - val_loss: 0.2911 - val_acc: 0.9080\n",
            "Epoch 60/120\n",
            "313/313 [==============================] - 3s 10ms/step - loss: 0.0942 - acc: 0.9685 - val_loss: 0.2947 - val_acc: 0.9070\n",
            "Epoch 61/120\n",
            "313/313 [==============================] - 3s 11ms/step - loss: 0.0829 - acc: 0.9702 - val_loss: 0.2852 - val_acc: 0.9160\n",
            "Epoch 62/120\n",
            "313/313 [==============================] - 3s 10ms/step - loss: 0.0784 - acc: 0.9715 - val_loss: 0.2526 - val_acc: 0.9200\n",
            "Epoch 63/120\n",
            "313/313 [==============================] - 3s 10ms/step - loss: 0.0833 - acc: 0.9710 - val_loss: 0.2398 - val_acc: 0.9220\n",
            "Epoch 64/120\n",
            "313/313 [==============================] - 3s 10ms/step - loss: 0.0741 - acc: 0.9751 - val_loss: 0.2425 - val_acc: 0.9170\n",
            "Epoch 65/120\n",
            "313/313 [==============================] - 3s 11ms/step - loss: 0.0705 - acc: 0.9749 - val_loss: 0.2306 - val_acc: 0.9300\n",
            "Epoch 66/120\n",
            "313/313 [==============================] - 3s 11ms/step - loss: 0.0628 - acc: 0.9767 - val_loss: 0.2697 - val_acc: 0.9220\n",
            "Epoch 67/120\n",
            "313/313 [==============================] - 3s 11ms/step - loss: 0.0600 - acc: 0.9782 - val_loss: 0.2388 - val_acc: 0.9280\n",
            "Epoch 68/120\n",
            "313/313 [==============================] - 3s 11ms/step - loss: 0.0583 - acc: 0.9809 - val_loss: 0.2705 - val_acc: 0.9220\n",
            "Epoch 69/120\n",
            "313/313 [==============================] - 3s 10ms/step - loss: 0.0576 - acc: 0.9793 - val_loss: 0.2450 - val_acc: 0.9280\n",
            "Epoch 70/120\n",
            "313/313 [==============================] - 3s 10ms/step - loss: 0.0529 - acc: 0.9819 - val_loss: 0.2478 - val_acc: 0.9260\n",
            "Epoch 71/120\n",
            "313/313 [==============================] - 3s 11ms/step - loss: 0.0506 - acc: 0.9839 - val_loss: 0.2327 - val_acc: 0.9380\n",
            "Epoch 72/120\n",
            "313/313 [==============================] - 3s 11ms/step - loss: 0.0472 - acc: 0.9839 - val_loss: 0.2571 - val_acc: 0.9280\n",
            "Epoch 73/120\n",
            "313/313 [==============================] - 3s 10ms/step - loss: 0.0469 - acc: 0.9851 - val_loss: 0.2584 - val_acc: 0.9300\n",
            "Epoch 74/120\n",
            "313/313 [==============================] - 3s 11ms/step - loss: 0.0468 - acc: 0.9848 - val_loss: 0.2642 - val_acc: 0.9330\n",
            "Epoch 75/120\n",
            "313/313 [==============================] - 3s 11ms/step - loss: 0.0415 - acc: 0.9872 - val_loss: 0.2454 - val_acc: 0.9320\n",
            "Epoch 76/120\n",
            "313/313 [==============================] - 3s 10ms/step - loss: 0.0478 - acc: 0.9839 - val_loss: 0.2661 - val_acc: 0.9330\n",
            "Epoch 77/120\n",
            "313/313 [==============================] - 3s 10ms/step - loss: 0.0467 - acc: 0.9838 - val_loss: 0.2379 - val_acc: 0.9420\n",
            "Epoch 78/120\n",
            "313/313 [==============================] - 3s 10ms/step - loss: 0.0380 - acc: 0.9861 - val_loss: 0.2379 - val_acc: 0.9380\n",
            "Epoch 79/120\n",
            "313/313 [==============================] - 3s 11ms/step - loss: 0.0337 - acc: 0.9896 - val_loss: 0.2433 - val_acc: 0.9360\n",
            "Epoch 80/120\n",
            "313/313 [==============================] - 3s 11ms/step - loss: 0.0380 - acc: 0.9869 - val_loss: 0.2230 - val_acc: 0.9410\n",
            "Epoch 81/120\n",
            "313/313 [==============================] - 3s 10ms/step - loss: 0.0352 - acc: 0.9891 - val_loss: 0.2583 - val_acc: 0.9380\n",
            "Epoch 82/120\n",
            "313/313 [==============================] - 3s 10ms/step - loss: 0.0369 - acc: 0.9872 - val_loss: 0.2316 - val_acc: 0.9400\n",
            "Epoch 83/120\n",
            "313/313 [==============================] - 3s 10ms/step - loss: 0.0286 - acc: 0.9909 - val_loss: 0.2372 - val_acc: 0.9370\n",
            "Epoch 84/120\n",
            "313/313 [==============================] - 3s 11ms/step - loss: 0.0306 - acc: 0.9900 - val_loss: 0.2538 - val_acc: 0.9360\n",
            "Epoch 85/120\n",
            "313/313 [==============================] - 3s 11ms/step - loss: 0.0383 - acc: 0.9874 - val_loss: 0.2545 - val_acc: 0.9350\n",
            "Epoch 86/120\n",
            "313/313 [==============================] - 3s 11ms/step - loss: 0.0302 - acc: 0.9912 - val_loss: 0.2533 - val_acc: 0.9420\n",
            "Epoch 87/120\n",
            "313/313 [==============================] - 3s 11ms/step - loss: 0.0311 - acc: 0.9882 - val_loss: 0.2681 - val_acc: 0.9340\n",
            "Epoch 88/120\n",
            "313/313 [==============================] - 3s 10ms/step - loss: 0.0288 - acc: 0.9903 - val_loss: 0.2609 - val_acc: 0.9430\n",
            "Epoch 89/120\n",
            "313/313 [==============================] - 3s 11ms/step - loss: 0.0259 - acc: 0.9918 - val_loss: 0.2472 - val_acc: 0.9460\n",
            "Epoch 90/120\n",
            "313/313 [==============================] - 3s 11ms/step - loss: 0.0242 - acc: 0.9926 - val_loss: 0.2465 - val_acc: 0.9430\n",
            "Epoch 91/120\n",
            "313/313 [==============================] - 3s 11ms/step - loss: 0.0289 - acc: 0.9905 - val_loss: 0.2781 - val_acc: 0.9330\n",
            "Epoch 92/120\n",
            "313/313 [==============================] - 3s 11ms/step - loss: 0.0252 - acc: 0.9916 - val_loss: 0.2414 - val_acc: 0.9440\n",
            "Epoch 93/120\n",
            "313/313 [==============================] - 3s 11ms/step - loss: 0.0313 - acc: 0.9890 - val_loss: 0.2882 - val_acc: 0.9370\n",
            "Epoch 94/120\n",
            "313/313 [==============================] - 3s 11ms/step - loss: 0.0220 - acc: 0.9935 - val_loss: 0.2527 - val_acc: 0.9390\n",
            "Epoch 95/120\n",
            "313/313 [==============================] - 3s 11ms/step - loss: 0.0252 - acc: 0.9922 - val_loss: 0.2949 - val_acc: 0.9340\n",
            "Epoch 96/120\n",
            "313/313 [==============================] - 3s 11ms/step - loss: 0.0288 - acc: 0.9911 - val_loss: 0.2242 - val_acc: 0.9440\n",
            "Epoch 97/120\n",
            "313/313 [==============================] - 3s 11ms/step - loss: 0.0314 - acc: 0.9892 - val_loss: 0.1962 - val_acc: 0.9510\n",
            "Epoch 98/120\n",
            "313/313 [==============================] - 3s 11ms/step - loss: 0.0227 - acc: 0.9925 - val_loss: 0.2480 - val_acc: 0.9400\n",
            "Epoch 99/120\n",
            "313/313 [==============================] - 3s 11ms/step - loss: 0.0283 - acc: 0.9916 - val_loss: 0.2593 - val_acc: 0.9370\n",
            "Epoch 100/120\n",
            "313/313 [==============================] - 3s 11ms/step - loss: 0.0186 - acc: 0.9942 - val_loss: 0.2581 - val_acc: 0.9450\n",
            "Epoch 101/120\n",
            "313/313 [==============================] - 3s 10ms/step - loss: 0.0239 - acc: 0.9918 - val_loss: 0.2456 - val_acc: 0.9400\n",
            "Epoch 102/120\n",
            "313/313 [==============================] - 3s 11ms/step - loss: 0.0209 - acc: 0.9928 - val_loss: 0.2701 - val_acc: 0.9420\n",
            "Epoch 103/120\n",
            "313/313 [==============================] - 3s 11ms/step - loss: 0.0186 - acc: 0.9934 - val_loss: 0.2354 - val_acc: 0.9470\n",
            "Epoch 104/120\n",
            "313/313 [==============================] - 3s 11ms/step - loss: 0.0208 - acc: 0.9926 - val_loss: 0.2261 - val_acc: 0.9440\n",
            "Epoch 105/120\n",
            "313/313 [==============================] - 3s 11ms/step - loss: 0.0212 - acc: 0.9931 - val_loss: 0.2661 - val_acc: 0.9370\n",
            "Epoch 106/120\n",
            "313/313 [==============================] - 3s 11ms/step - loss: 0.0158 - acc: 0.9946 - val_loss: 0.2249 - val_acc: 0.9510\n",
            "Epoch 107/120\n",
            "313/313 [==============================] - 3s 11ms/step - loss: 0.0203 - acc: 0.9938 - val_loss: 0.2276 - val_acc: 0.9490\n",
            "Epoch 108/120\n",
            "313/313 [==============================] - 3s 11ms/step - loss: 0.0165 - acc: 0.9956 - val_loss: 0.2046 - val_acc: 0.9520\n",
            "Epoch 109/120\n",
            "313/313 [==============================] - 3s 11ms/step - loss: 0.0214 - acc: 0.9933 - val_loss: 0.2227 - val_acc: 0.9490\n",
            "Epoch 110/120\n",
            "313/313 [==============================] - 3s 11ms/step - loss: 0.0176 - acc: 0.9951 - val_loss: 0.2449 - val_acc: 0.9450\n",
            "Epoch 111/120\n",
            "313/313 [==============================] - 3s 11ms/step - loss: 0.0193 - acc: 0.9948 - val_loss: 0.2450 - val_acc: 0.9440\n",
            "Epoch 112/120\n",
            "313/313 [==============================] - 3s 11ms/step - loss: 0.0217 - acc: 0.9929 - val_loss: 0.2395 - val_acc: 0.9470\n",
            "Epoch 113/120\n",
            "313/313 [==============================] - 3s 11ms/step - loss: 0.0192 - acc: 0.9935 - val_loss: 0.2690 - val_acc: 0.9460\n",
            "Epoch 114/120\n",
            "313/313 [==============================] - 3s 11ms/step - loss: 0.0181 - acc: 0.9935 - val_loss: 0.2343 - val_acc: 0.9540\n",
            "Epoch 115/120\n",
            "313/313 [==============================] - 3s 11ms/step - loss: 0.0162 - acc: 0.9947 - val_loss: 0.2227 - val_acc: 0.9500\n",
            "Epoch 116/120\n",
            "313/313 [==============================] - 3s 11ms/step - loss: 0.0160 - acc: 0.9948 - val_loss: 0.2574 - val_acc: 0.9420\n",
            "Epoch 117/120\n",
            "313/313 [==============================] - 3s 11ms/step - loss: 0.0231 - acc: 0.9932 - val_loss: 0.2284 - val_acc: 0.9500\n",
            "Epoch 118/120\n",
            "313/313 [==============================] - 3s 11ms/step - loss: 0.0180 - acc: 0.9937 - val_loss: 0.2351 - val_acc: 0.9540\n",
            "Epoch 119/120\n",
            "313/313 [==============================] - 3s 11ms/step - loss: 0.0143 - acc: 0.9949 - val_loss: 0.2313 - val_acc: 0.9550\n",
            "Epoch 120/120\n",
            "313/313 [==============================] - 3s 11ms/step - loss: 0.0163 - acc: 0.9948 - val_loss: 0.2580 - val_acc: 0.9480\n"
          ],
          "name": "stdout"
        },
        {
          "output_type": "stream",
          "text": [
            "/usr/local/lib/python3.7/dist-packages/tensorflow/python/keras/utils/generic_utils.py:497: CustomMaskWarning: Custom mask layers require a config and must override get_config. When loading, the custom mask layer must be passed to the custom_objects argument.\n",
            "  category=CustomMaskWarning)\n"
          ],
          "name": "stderr"
        }
      ]
    },
    {
      "cell_type": "code",
      "metadata": {
        "colab": {
          "base_uri": "https://localhost:8080/",
          "height": 297
        },
        "id": "SZXukUJLS9bL",
        "outputId": "309255ab-7f42-4236-ea43-1c4a665055e8"
      },
      "source": [
        "plt.subplot(211)\n",
        "plt.title(\"Accuracy\")\n",
        "plt.plot(history.history[\"acc\"], color='g', label=\"train\")\n",
        "plt.plot(history.history[\"val_acc\"], color='b', label=\"validation\")\n",
        "plt.legend(loc=\"best\")\n",
        "\n",
        "plt.subplot(212)\n",
        "plt.title(\"Loss\")\n",
        "plt.plot(history.history[\"loss\"], color=\"g\", label='train')\n",
        "plt.plot(history.history[\"val_loss\"], color='b', label=\"validation\")\n",
        "plt.legend(loc=\"best\")\n",
        "\n",
        "plt.tight_layout()\n",
        "plt.show()\n",
        "\n",
        "# labels\n",
        "ytest = np.argmax(ytest, axis=1)\n",
        "\n",
        "# get predictions\n",
        "ytest_ = model.predict([xstest, xqtest])\n",
        "ytest_ = np.argmax(ytest_, axis=1)"
      ],
      "execution_count": null,
      "outputs": [
        {
          "output_type": "display_data",
          "data": {
            "image/png": "[encoded data removed]",
            "text/plain": [
              "<Figure size 432x288 with 2 Axes>"
            ]
          },
          "metadata": {
            "tags": [],
            "needs_background": "light"
          }
        }
      ]
    },
    {
      "cell_type": "code",
      "metadata": {
        "colab": {
          "base_uri": "https://localhost:8080/"
        },
        "id": "-qOCf3wnUo9r",
        "outputId": "1b68c041-09c5-448b-f879-43d15b4a6fbc"
      },
      "source": [
        "num_display = 30\n",
        "\n",
        "print(\"{:18}|{:5}|{}\".format(\"질문\",\"실제값\",\"예측값\"))\n",
        "print(39 * \"_\")\n",
        "\n",
        "for i in range(num_display):\n",
        "    question = \" \".join([idx2word[x] for x in xqtest[i].tolist()])\n",
        "    label = idx2word[ytest[i]]\n",
        "    prediction = idx2word[ytest_[i]]\n",
        "    print(\"{:20}|{:7}|{}\".format(question, label, prediction))"
      ],
      "execution_count": null,
      "outputs": [
        {
          "output_type": "stream",
          "text": [
            "질문                |실제값  |예측값\n",
            "_______________________________________\n",
            "은경이 는 어디 야 ?        |복도     |복도\n",
            "필웅이 는 어디 야 ?        |화장실    |화장실\n",
            "경임이 는 어디 야 ?        |부엌     |부엌\n",
            "경임이 는 어디 야 ?        |복도     |복도\n",
            "경임이 는 어디 야 ?        |부엌     |부엌\n",
            "경임이 는 어디 야 ?        |복도     |복도\n",
            "경임이 는 어디 야 ?        |정원     |정원\n",
            "수종이 는 어디 야 ?        |복도     |복도\n",
            "경임이 는 어디 야 ?        |사무실    |사무실\n",
            "수종이 는 어디 야 ?        |사무실    |사무실\n",
            "필웅이 는 어디 야 ?        |부엌     |부엌\n",
            "필웅이 는 어디 야 ?        |정원     |정원\n",
            "수종이 는 어디 야 ?        |사무실    |사무실\n",
            "필웅이 는 어디 야 ?        |침실     |침실\n",
            "필웅이 는 어디 야 ?        |침실     |침실\n",
            "은경이 는 어디 야 ?        |부엌     |부엌\n",
            "은경이 는 어디 야 ?        |정원     |정원\n",
            "은경이 는 어디 야 ?        |부엌     |부엌\n",
            "수종이 는 어디 야 ?        |사무실    |사무실\n",
            "은경이 는 어디 야 ?        |부엌     |복도\n",
            "필웅이 는 어디 야 ?        |복도     |복도\n",
            "은경이 는 어디 야 ?        |사무실    |사무실\n",
            "은경이 는 어디 야 ?        |사무실    |사무실\n",
            "경임이 는 어디 야 ?        |복도     |복도\n",
            "수종이 는 어디 야 ?        |침실     |침실\n",
            "경임이 는 어디 야 ?        |침실     |침실\n",
            "필웅이 는 어디 야 ?        |침실     |침실\n",
            "수종이 는 어디 야 ?        |부엌     |부엌\n",
            "수종이 는 어디 야 ?        |부엌     |부엌\n",
            "수종이 는 어디 야 ?        |부엌     |부엌\n"
          ],
          "name": "stdout"
        }
      ]
    },
    {
      "cell_type": "markdown",
      "metadata": {
        "id": "x4CMJt7htt-2"
      },
      "source": [
        "## Transformer(트랜스포머)"
      ]
    },
    {
      "cell_type": "markdown",
      "metadata": {
        "id": "Qp4NXYG6x-_H"
      },
      "source": [
        "seq2seq모델 encoder-decoder구조 \n",
        "기존 seq2seq모델의 한계\n",
        "- 입력시퀀스를 하나의 벡터표현으로 압축(context vector)디코더는 이를 통해 출력 시퀀스 만들어냈는데, 정보가 일부 손실된다는 단점 존재. \n"
      ]
    },
    {
      "cell_type": "markdown",
      "metadata": {
        "id": "BGIfUVdNynGP"
      },
      "source": [
        "- d_model = 512\n",
        "- num_layers = 6\n",
        "- num_heads = 8\n",
        "- d_ff = 2048"
      ]
    },
    {
      "cell_type": "markdown",
      "metadata": {
        "id": "9bq6JygOzGlW"
      },
      "source": [
        "![](https://wikidocs.net/images/page/31379/transformer1.PNG)"
      ]
    },
    {
      "cell_type": "markdown",
      "metadata": {
        "id": "DBNDRSfizQr2"
      },
      "source": [
        "![](https://wikidocs.net/images/page/31379/transformer2.PNG)"
      ]
    },
    {
      "cell_type": "markdown",
      "metadata": {
        "id": "jA_lpMLVzXs9"
      },
      "source": [
        "![](https://wikidocs.net/images/page/31379/transformer4_final_final_final.PNG)"
      ]
    },
    {
      "cell_type": "markdown",
      "metadata": {
        "id": "TQLcBhcwzfJY"
      },
      "source": [
        "### 포지셔널 인코딩\n",
        "![](https://wikidocs.net/images/page/31379/transformer5_final_final.PNG)"
      ]
    },
    {
      "cell_type": "markdown",
      "metadata": {
        "id": "wALTUgtJzlf3"
      },
      "source": [
        "![](https://wikidocs.net/images/page/31379/transformer6_final.PNG)"
      ]
    },
    {
      "cell_type": "markdown",
      "metadata": {
        "id": "RhCkfyn2znoZ"
      },
      "source": [
        "![](https://wikidocs.net/images/page/31379/transformer7.PNG)"
      ]
    },
    {
      "cell_type": "code",
      "metadata": {
        "id": "x-IBmRAa2b_g"
      },
      "source": [
        "import tensorflow as tf"
      ],
      "execution_count": null,
      "outputs": []
    },
    {
      "cell_type": "code",
      "metadata": {
        "id": "_UWKYUUZVZJU"
      },
      "source": [
        "class PositionalEncoding(tf.keras.layers.Layer):\n",
        "    def __init__(self, position, d_model):\n",
        "        super(PositionalEncoding, self).__init__()\n",
        "        self.pos_encoding = self.positional_encoding(position, d_model)\n",
        "    def get_angles(self, position, i, d_model):\n",
        "        angles = 1/tf.pow(10000, (2*(i//2))/tf.cast(d_model, tf.float32))\n",
        "        return position * angles\n",
        "    \n",
        "    def positional_encoding(self, position, d_model):\n",
        "        angle_rads = self.get_angles(\n",
        "            position= tf.range(position, dtype=tf.float32)[:, tf.newaxis],\n",
        "            i = tf.range(d_model, dtype=tf.float32)[tf.newaxis, :],\n",
        "            d_model = d_model\n",
        "        )\n",
        "\n",
        "        sines = tf.math.sin(angle_rads[:, 0::2])\n",
        "        cosines = tf.math.cos(angle_rads[:, 1::2])\n",
        "\n",
        "        angle_rads = np.zeros(angle_rads.shape)\n",
        "        angle_rads[:, 0::2] = sines\n",
        "        angle_rads[:, 1::2] = cosines\n",
        "        pos_encoding = tf.constant(angle_rads)\n",
        "        pos_encoding = pos_encoding[tf.newaxis, ...]   ### [1, 1, 1, :, :, :]\n",
        "\n",
        "        print(pos_encoding.shape)\n",
        "        return tf.cast(pos_encoding, tf.float32)\n",
        "\n",
        "    def call(self, inputs):\n",
        "        return inputs + self.pos_encoding[:, :tf.shape(inputs)[1], :]"
      ],
      "execution_count": null,
      "outputs": []
    },
    {
      "cell_type": "code",
      "metadata": {
        "id": "ByLtWhzg2-hv"
      },
      "source": [
        "import matplotlib.pyplot as plt\n",
        "import numpy as np"
      ],
      "execution_count": null,
      "outputs": []
    },
    {
      "cell_type": "code",
      "metadata": {
        "colab": {
          "base_uri": "https://localhost:8080/",
          "height": 300
        },
        "id": "n-Y1qIk-2NCi",
        "outputId": "9e0a55c8-27a5-4677-8c5e-68c88b1e386b"
      },
      "source": [
        "sample_pos_encoding = PositionalEncoding(50, 128)\n",
        "\n",
        "plt.pcolormesh(sample_pos_encoding.pos_encoding.numpy()[0], cmap='RdBu')\n",
        "plt.xlabel('Depth')\n",
        "plt.xlim((0, 128))\n",
        "plt.ylabel('Position')\n",
        "plt.colorbar()\n",
        "plt.show()\n"
      ],
      "execution_count": null,
      "outputs": [
        {
          "output_type": "stream",
          "text": [
            "(1, 50, 128)\n"
          ],
          "name": "stdout"
        },
        {
          "output_type": "display_data",
          "data": {
            "image/png": "[encoded data removed]",
            "text/plain": [
              "<Figure size 432x288 with 2 Axes>"
            ]
          },
          "metadata": {
            "tags": [],
            "needs_background": "light"
          }
        }
      ]
    },
    {
      "cell_type": "markdown",
      "metadata": {
        "id": "OL9vmEQz31nV"
      },
      "source": [
        "### 어텐션 (Attention)"
      ]
    },
    {
      "cell_type": "markdown",
      "metadata": {
        "id": "ftKQC8pJ36j3"
      },
      "source": [
        "![](https://wikidocs.net/images/page/31379/attention.PNG)"
      ]
    },
    {
      "cell_type": "markdown",
      "metadata": {
        "id": "dtCDKRm24zbf"
      },
      "source": [
        "```\n",
        "인코더의 셀프 어텐션 : Query = Key = Value  \n",
        "디코더의 마스크드 셀프 어텐션 : Query = Key = Value  \n",
        "디코더의 인코더-디코더 어텐션 : Query :디코더 벡터 // Key=Value : 인코더 벡터  \n",
        "```"
      ]
    },
    {
      "cell_type": "markdown",
      "metadata": {
        "id": "srUllRlv5LoR"
      },
      "source": [
        "### 인코더"
      ]
    },
    {
      "cell_type": "markdown",
      "metadata": {
        "id": "-rQNdEKP5exo"
      },
      "source": [
        "```\n",
        "seq2seq 어텐션의 이점  \n",
        "- query와 key의 유사도를 구함\n",
        "Query : 모든 시점의 디코더 셀에서의 은닉 상태\n",
        "keys : 모든 시점의 인코더 셀의 은닉 상태\n",
        "value : 모든 시점의 인코더 셀의 은닉 상태\n",
        "```"
      ]
    },
    {
      "cell_type": "markdown",
      "metadata": {
        "id": "SDiiZtLR6Ge-"
      },
      "source": [
        "```\n",
        "트랜스포머의 어텐션\n",
        "Q : 입력 문장의 모든 단어 벡터\n",
        "K : 입력 문장의 모든 단어 벡터\n",
        "V : 입력 문장의 모든 단어 벡터\n",
        "```"
      ]
    },
    {
      "cell_type": "markdown",
      "metadata": {
        "id": "0WcSnUnz6Ran"
      },
      "source": [
        "![](https://wikidocs.net/images/page/31379/transformer10.png)"
      ]
    },
    {
      "cell_type": "markdown",
      "metadata": {
        "id": "0r4s0ASf7fuA"
      },
      "source": [
        "### Q, K, V벡터 얻기"
      ]
    },
    {
      "cell_type": "markdown",
      "metadata": {
        "id": "bWwqtEiT7Jyn"
      },
      "source": [
        "![](https://wikidocs.net/images/page/31379/transformer11.PNG)"
      ]
    },
    {
      "cell_type": "markdown",
      "metadata": {
        "id": "NmxyCynqA6te"
      },
      "source": [
        "- d_model = 512\n",
        "- num_heads = 8\n",
        "- q,k,v vector = 64"
      ]
    },
    {
      "cell_type": "markdown",
      "metadata": {
        "id": "NW34Twaw7X_n"
      },
      "source": [
        "### 스케일드 닷- 프로덕트 어텐션 구현하기"
      ]
    },
    {
      "cell_type": "markdown",
      "metadata": {
        "id": "jzEPVZ1u7MTY"
      },
      "source": [
        "![](https://wikidocs.net/images/page/31379/transformer13.PNG)"
      ]
    },
    {
      "cell_type": "markdown",
      "metadata": {
        "id": "jWYbELXW7OXn"
      },
      "source": [
        "![](https://wikidocs.net/images/page/31379/transformer14_final.PNG)"
      ]
    },
    {
      "cell_type": "markdown",
      "metadata": {
        "id": "3Tmxs1K8BwhQ"
      },
      "source": [
        "$d_k = d_{modle}$/num_heads --> 64값"
      ]
    },
    {
      "cell_type": "code",
      "metadata": {
        "id": "JhZej0lwCc7W"
      },
      "source": [
        "def scaled_dot_product_attention(query, key, value, mask):\n",
        "    # query크기 : (batch_size, num_heads, query의 문장길이, d_model/hum_heads)\n",
        "    # key크기 : (batch_size, num_heads, key의 문장길이, d_model/hum_heads)\n",
        "    # value크기 : (batch_size, num_heads, value의 문장길이, d_model/hum_heads)\n",
        "    # padding_mask : (batch_size, 1, 1, key의 문장길이)\n",
        "\n",
        "    matmul_qk = tf.matmul(query, key, transpose_b = True) \n",
        "\n",
        "    # 스케일링\n",
        "    depth = tf.cast(tf.shape(key)[-1], tf.float32)\n",
        "    logits = matmul_qk / tf.math.sqrt(depth)\n",
        "\n",
        "    # 마스킹\n",
        "    if mask is not None:\n",
        "        logits += (mask * -1e9)\n",
        "    \n",
        "    # attention_weights (batch_size, num_heads, query문장길이, key의 문장길이)\n",
        "    attention_weights = tf.nn.softmax(logits, axis=-1)\n",
        "\n",
        "    output = tf.matmul(attention_weights, value)\n",
        "\n",
        "    return output, attention_weights"
      ],
      "execution_count": 51,
      "outputs": []
    },
    {
      "cell_type": "code",
      "metadata": {
        "id": "wrX1oQEuLPOb"
      },
      "source": [
        "import numpy as np\n",
        "import tensorflow as tf"
      ],
      "execution_count": 52,
      "outputs": []
    },
    {
      "cell_type": "code",
      "metadata": {
        "id": "2ul_IceMEOY_"
      },
      "source": [
        "np.set_printoptions(suppress=True)\n",
        "temp_k = tf.constant([[10,0,0],\n",
        "                     [0,10,0],\n",
        "                     [0,0,10],\n",
        "                     [0,0,10]], dtype = tf.float32)\n",
        "temp_v = tf.constant([[1,0],\n",
        "                     [10,0],\n",
        "                     [100,5],\n",
        "                     [1000,6]], dtype = tf.float32)\n",
        "temp_q = tf.constant([[0,10,0]], dtype = tf.float32)"
      ],
      "execution_count": 53,
      "outputs": []
    },
    {
      "cell_type": "code",
      "metadata": {
        "id": "eZRVIxk_FIYA"
      },
      "source": [
        "temp_out, temp_attn= scaled_dot_product_attention(temp_q, temp_k, temp_v, None)"
      ],
      "execution_count": 54,
      "outputs": []
    },
    {
      "cell_type": "code",
      "metadata": {
        "id": "cwTCSATTFSBm"
      },
      "source": [
        "print(temp_attn) # 어텐션 분포\n",
        "print(tmep_out) # 어텐션 값"
      ],
      "execution_count": null,
      "outputs": []
    },
    {
      "cell_type": "code",
      "metadata": {
        "id": "u0hspo_JFXd_"
      },
      "source": [
        "#temp_k = tf.constant([[10,0,0],\n",
        "#                     [0,10,0],\n",
        "#                     [0,0,10],\n",
        "#                     [0,0,10]], dtype = tf.float32)\n",
        "#temp_v = tf.constant([[1,0],\n",
        "#                     [10,0],\n",
        "#                     [100,5],\n",
        "#                     [1000,6]], dtype = tf.float32)\n",
        "#temp_q = tf.constant([[0,10,0]], dtype = tf.float32)\n",
        "\n",
        "\n",
        "temp_q = tf.constant([[0,0,10]], dtype=tf.float32)\n",
        "temp_out, temp_attn = scaled_dot_product_attention(temp_q, temp_k, temp_v, None)\n",
        "print(temp_attn)\n",
        "print(temp_out)"
      ],
      "execution_count": null,
      "outputs": []
    },
    {
      "cell_type": "code",
      "metadata": {
        "id": "4b0oxtwRGL-q"
      },
      "source": [
        "temp_q = tf.constant([[0, 0, 10], [0, 10, 0],[10, 10, 0]],dtype=tf.float32) # (3, 3)\n",
        "temp_out, temp_attn = scaled_dot_product_attention(temp_q, temp_k, temp_v, None)\n",
        "print(temp_attn)\n",
        "print(temp_out)"
      ],
      "execution_count": null,
      "outputs": []
    },
    {
      "cell_type": "markdown",
      "metadata": {
        "id": "ZLYS7Ncx7TXY"
      },
      "source": [
        "### 멀티 헤드 어텐션"
      ]
    },
    {
      "cell_type": "markdown",
      "metadata": {
        "id": "ugkXq3f07Sqn"
      },
      "source": [
        "![](https://wikidocs.net/images/page/31379/transformer17.PNG)"
      ]
    },
    {
      "cell_type": "markdown",
      "metadata": {
        "id": "eX21IiehHXhl"
      },
      "source": [
        "\n",
        "    1. WQ, Wk, Wv에 해당하는 d_model 크기의 Dense_layer 을 지나게 한다\n",
        "    2. 지정된 헤드 수 (num_heads)만큼 나눈다.\n",
        "    3. 스케일드 닷 프로덕트 어텐션,\n",
        "    4. 나눠졌던 헤드들을 연결\n",
        "    5. Wo에 해당하는 Dense layer을 지난다.\n"
      ]
    },
    {
      "cell_type": "code",
      "metadata": {
        "id": "87Fjm6AY2yBn"
      },
      "source": [
        "class MultiHeadAttention(tf.keras.layers.Layer):\n",
        "  def __init__(self, d_model, num_heads, name=\"multi_head_attention\"):\n",
        "    super(MultiHeadAttention, self).__init__(name=name)\n",
        "    self.num_heads = num_heads\n",
        "    self.d_model = d_model\n",
        "\n",
        "    assert d_model % self.num_heads == 0\n",
        "\n",
        "    # d_model을 num_head로 나눈값 --> 64\n",
        "    self. depth = d_model // self.num_heads\n",
        "\n",
        "    self.query_dense = tf.keras.layers.Dense(units=d_model)\n",
        "    self.key_dense = tf.keras.layers.Dense(units=d_model)\n",
        "    self.value_dense = tf.keras.layers.Dense(units=d_model)\n",
        "\n",
        "    # w0 dense layer\n",
        "    self.dense = tf.keras.layers.Dense(units=d_model)\n",
        "\n",
        "  # num_heads 갯수만큼 q, k, v split하는 함수\n",
        "  def split_heads(self, inputs, batch_size):\n",
        "    inputs = tf.reshape(\n",
        "        inputs, shape=(batch_size, -1, self.num_heads, self.depth)\n",
        "    )\n",
        "    return tf.transpose(inputs, perm=[0,2,1,3])\n",
        "\n",
        "  def call(self, inputs):\n",
        "        query, key, value, mask = inputs['query'], inputs['key'], inputs['value'], inputs['mask']\n",
        "        batch_size = tf.shape(query)[0]\n",
        "\n",
        "        # 1. WQ, Wk, Wv에 해당하는 d_model크기의 Dense layer을 지나게 한다.\n",
        "        # q: (batch_size, query의 문장길이 , d_model)\n",
        "        # k: (batch_size, key의 문장길이 , d_model)\n",
        "        # v: (batch_size, value의 문장길이 , d_model)\n",
        "        query = self.query_dense(query)\n",
        "        key = self.key_dense(key)\n",
        "        value = self.value_dense(value)\n",
        "\n",
        "        # 2. 헤드나누기\n",
        "        # q : (batch_size, query의 문장길이, d_model/num_heads)\n",
        "        # k : (batch_size, key의 문장길이, d_model/num_heads)\n",
        "        # v : (batch_size, value의 문장길이, d_model/num_heads)\n",
        "        query = self.split_heads(query, batch_size)\n",
        "        key = self.split_heads(key, batch_size)\n",
        "        value = self.split_heads(value, batch_size)\n",
        "\n",
        "         # 3. 스케일드 닷 프로덕트 어텐션\n",
        "        #(batch_size, num_heads , query의 문장길이, d_model/num_heads)\n",
        "        scaled_attention, _ = scaled_dot_product_attention(query, key, value, mask)\n",
        "        #(batch_size, query의 문장길이, num_heads, d_model/num_heads)\n",
        "        scaled_attention = tf.transpose(scaled_attention, perm=[0, 2, 1, 3])\n",
        "\n",
        "        # 4. 헤드 연결하기\n",
        "        # (batch_size, query의 문장 길이, d_model)\n",
        "        concat_attention = tf.reshape(scaled_attention,\n",
        "                                      (batch_size, -1, self.d_model))\n",
        "        \n",
        "        # 5. wo에 해당하는 dense layers 지나기\n",
        "        outputs = self.dense(concat_attention)\n",
        "\n",
        "        return outputs"
      ],
      "execution_count": 46,
      "outputs": []
    },
    {
      "cell_type": "markdown",
      "metadata": {
        "id": "BkGjIwX-QgNu"
      },
      "source": [
        "## 패딩마스크"
      ]
    },
    {
      "cell_type": "markdown",
      "metadata": {
        "id": "BzIHc-wAQi7z"
      },
      "source": [
        "![](https://wikidocs.net/images/page/31379/pad_masking11.PNG)"
      ]
    },
    {
      "cell_type": "markdown",
      "metadata": {
        "id": "karzcWREQmPA"
      },
      "source": [
        "![](https://wikidocs.net/images/page/31379/pad_masking2.PNG)"
      ]
    },
    {
      "cell_type": "markdown",
      "metadata": {
        "id": "YWNcKIRsQm_J"
      },
      "source": [
        "![](https://wikidocs.net/images/page/31379/softmax.PNG)"
      ]
    },
    {
      "cell_type": "markdown",
      "metadata": {
        "id": "u9nGw8kKQrbU"
      },
      "source": [
        "## 포지션-와이즈 피드 포워드 신경망"
      ]
    },
    {
      "cell_type": "markdown",
      "metadata": {
        "id": "cSasxXj7QtJV"
      },
      "source": [
        "![](https://wikidocs.net/images/page/31379/positionwiseffnn.PNG)"
      ]
    },
    {
      "cell_type": "markdown",
      "metadata": {
        "id": "69DndaAPQvfX"
      },
      "source": [
        "## 잔차 연결(residual connection)"
      ]
    },
    {
      "cell_type": "markdown",
      "metadata": {
        "id": "79-rojb5QxW9"
      },
      "source": [
        "![](https://wikidocs.net/images/page/31379/transformer22.PNG)"
      ]
    },
    {
      "cell_type": "markdown",
      "metadata": {
        "id": "Uxh_AecLQzZT"
      },
      "source": [
        "## 인코더 구현하기"
      ]
    },
    {
      "cell_type": "code",
      "metadata": {
        "id": "TETI0MPzK2sn"
      },
      "source": [
        ""
      ],
      "execution_count": null,
      "outputs": []
    }
  ]
}