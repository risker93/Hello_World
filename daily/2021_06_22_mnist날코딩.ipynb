{
  "nbformat": 4,
  "nbformat_minor": 0,
  "metadata": {
    "colab": {
      "name": "2021_06_22_mnist날코딩.ipynb",
      "provenance": [],
      "authorship_tag": "ABX9TyM52lOFkgO7+AdmxzEa7TGU",
      "include_colab_link": true
    },
    "kernelspec": {
      "name": "python3",
      "display_name": "Python 3"
    },
    "language_info": {
      "name": "python"
    }
  },
  "cells": [
    {
      "cell_type": "markdown",
      "metadata": {
        "id": "view-in-github",
        "colab_type": "text"
      },
      "source": [
        "<a href=\"https://colab.research.google.com/github/risker93/Hello_World/blob/main/2021_06_22_mnist%EB%82%A0%EC%BD%94%EB%94%A9.ipynb\" target=\"_parent\"><img src=\"https://colab.research.google.com/assets/colab-badge.svg\" alt=\"Open In Colab\"/></a>"
      ]
    },
    {
      "cell_type": "code",
      "metadata": {
        "id": "vPiPjSM3TA0P"
      },
      "source": [
        "from __future__ import print_function\n",
        "import keras\n",
        "from keras.datasets import mnist\n",
        "from keras.models import Sequential\n",
        "from keras.layers import Dense, Dropout, Flatten\n",
        "from keras.layers import Conv2D, MaxPooling2D\n",
        "from keras import backend as K"
      ],
      "execution_count": 1,
      "outputs": []
    },
    {
      "cell_type": "code",
      "metadata": {
        "id": "PXAZWmzHmZxO"
      },
      "source": [
        "import matplotlib.pyplot as plt"
      ],
      "execution_count": 2,
      "outputs": []
    },
    {
      "cell_type": "code",
      "metadata": {
        "id": "QJHK5IbWmcmE"
      },
      "source": [
        "img_rows, img_cols = 28, 28"
      ],
      "execution_count": 3,
      "outputs": []
    },
    {
      "cell_type": "code",
      "metadata": {
        "colab": {
          "base_uri": "https://localhost:8080/"
        },
        "id": "bfDr7vTxmg2O",
        "outputId": "e51bd853-7a6b-43e4-91fe-73a92fc79d1c"
      },
      "source": [
        "# 데이셋 분리\n",
        "\n",
        "(X_train, y_train), (X_test, y_test) = mnist.load_data()\n",
        "print(K.image_data_format())"
      ],
      "execution_count": 4,
      "outputs": [
        {
          "output_type": "stream",
          "text": [
            "channels_last\n"
          ],
          "name": "stdout"
        }
      ]
    },
    {
      "cell_type": "code",
      "metadata": {
        "id": "TxeIlHITnnP0"
      },
      "source": [
        "X_train = X_train.reshape(X_train.shape[0], img_rows, img_cols, 1)\n",
        "X_test = X_test.reshape(X_test.shape[0], img_rows, img_cols, 1)\n",
        "\n",
        "input_shape = (img_rows, img_cols, 1)"
      ],
      "execution_count": 5,
      "outputs": []
    },
    {
      "cell_type": "code",
      "metadata": {
        "id": "vh33Sp2woULA"
      },
      "source": [
        "#type 변경.\n",
        "X_train = X_train.astype('float32')\n",
        "X_test = X_test.astype('float32')"
      ],
      "execution_count": 6,
      "outputs": []
    },
    {
      "cell_type": "code",
      "metadata": {
        "colab": {
          "base_uri": "https://localhost:8080/"
        },
        "id": "d87ej4_go68v",
        "outputId": "4f2e2de6-99b3-419f-8d80-fec1753c6379"
      },
      "source": [
        "#정규화 \n",
        "\n",
        "X_train/=225\n",
        "X_test/=225\n",
        "\n",
        "print('X_train.shape : ',X_train.shape)\n",
        "print(X_train.shape[0], 'train sample')\n",
        "print(X_test.shape[0], 'test sample')"
      ],
      "execution_count": 7,
      "outputs": [
        {
          "output_type": "stream",
          "text": [
            "X_train.shape :  (60000, 28, 28, 1)\n",
            "60000 train sample\n",
            "10000 test sample\n"
          ],
          "name": "stdout"
        }
      ]
    },
    {
      "cell_type": "markdown",
      "metadata": {
        "id": "3MKSC8vzpacT"
      },
      "source": [
        "데이터 6,0000개, 크기 28*28 사이즈, 채널 1"
      ]
    },
    {
      "cell_type": "code",
      "metadata": {
        "id": "Qgf6cMJIrszu"
      },
      "source": [
        "from tensorflow.keras.utils import to_categorical"
      ],
      "execution_count": 11,
      "outputs": []
    },
    {
      "cell_type": "code",
      "metadata": {
        "id": "iI5IUPBgwsmm"
      },
      "source": [
        "import tensorflow as tf\n"
      ],
      "execution_count": 14,
      "outputs": []
    },
    {
      "cell_type": "code",
      "metadata": {
        "id": "XCXthdcrpWSK"
      },
      "source": [
        "#범주화 (one-hat encoding)\n",
        "\n",
        "\n",
        "y_train = tf.keras.utils.to_categorical(y_train, 10)\n",
        "y_test = tf.keras.utils.to_categorical(y_test,10)"
      ],
      "execution_count": 16,
      "outputs": []
    },
    {
      "cell_type": "code",
      "metadata": {
        "id": "E8rU7Qz8py-b"
      },
      "source": [
        "#modeling(출력 0~9)\n",
        "#입력 32개 커널사이즈 3*3\n",
        "model = Sequential()\n",
        "model.add(Conv2D(32, kernel_size=(3,3),\n",
        "                 activation = 'relu',\n",
        "                 input_shape = input_shape))"
      ],
      "execution_count": 18,
      "outputs": []
    },
    {
      "cell_type": "code",
      "metadata": {
        "id": "Y7nNMCjSqf8e"
      },
      "source": [
        "model.add(Conv2D(64,(3,3), activation='relu'))\n",
        "model.add(MaxPooling2D(pool_size=(2,2))) #가로/세로 절반으로 축소, 특징값 추출)"
      ],
      "execution_count": 19,
      "outputs": []
    },
    {
      "cell_type": "code",
      "metadata": {
        "id": "RflfbHAZr5iR"
      },
      "source": [
        "model.add(Dropout(0.25))\n",
        "model.add(Flatten())#3차원 > 1차원\n",
        "model.add(Dense(128, activation='relu'))\n",
        "model.add(Dropout(0.5))\n",
        "\n",
        "#출력층\n",
        "\n",
        "model.add(Dense(10, activation='softmax'))\n"
      ],
      "execution_count": 20,
      "outputs": []
    },
    {
      "cell_type": "code",
      "metadata": {
        "colab": {
          "base_uri": "https://localhost:8080/"
        },
        "id": "RY3__pJ0upRB",
        "outputId": "ca76cb47-97cf-4a5d-bd6f-8aa5c4c68b66"
      },
      "source": [
        "y_test.shape"
      ],
      "execution_count": 21,
      "outputs": [
        {
          "output_type": "execute_result",
          "data": {
            "text/plain": [
              "(10000, 10)"
            ]
          },
          "metadata": {
            "tags": []
          },
          "execution_count": 21
        }
      ]
    },
    {
      "cell_type": "code",
      "metadata": {
        "colab": {
          "base_uri": "https://localhost:8080/"
        },
        "id": "yY-Ec7-5sZrQ",
        "outputId": "f678eb3e-e48c-4a93-dffb-2c4e331aab85"
      },
      "source": [
        "model.summary()"
      ],
      "execution_count": 22,
      "outputs": [
        {
          "output_type": "stream",
          "text": [
            "Model: \"sequential\"\n",
            "_________________________________________________________________\n",
            "Layer (type)                 Output Shape              Param #   \n",
            "=================================================================\n",
            "conv2d (Conv2D)              (None, 26, 26, 32)        320       \n",
            "_________________________________________________________________\n",
            "conv2d_1 (Conv2D)            (None, 24, 24, 64)        18496     \n",
            "_________________________________________________________________\n",
            "max_pooling2d (MaxPooling2D) (None, 12, 12, 64)        0         \n",
            "_________________________________________________________________\n",
            "dropout (Dropout)            (None, 12, 12, 64)        0         \n",
            "_________________________________________________________________\n",
            "flatten (Flatten)            (None, 9216)              0         \n",
            "_________________________________________________________________\n",
            "dense (Dense)                (None, 128)               1179776   \n",
            "_________________________________________________________________\n",
            "dropout_1 (Dropout)          (None, 128)               0         \n",
            "_________________________________________________________________\n",
            "dense_1 (Dense)              (None, 10)                1290      \n",
            "=================================================================\n",
            "Total params: 1,199,882\n",
            "Trainable params: 1,199,882\n",
            "Non-trainable params: 0\n",
            "_________________________________________________________________\n"
          ],
          "name": "stdout"
        }
      ]
    },
    {
      "cell_type": "code",
      "metadata": {
        "colab": {
          "base_uri": "https://localhost:8080/"
        },
        "id": "iuYXzNbgsnPJ",
        "outputId": "88c1b7e2-a681-4fff-c039-53a18cdb8af4"
      },
      "source": [
        "12*12*64"
      ],
      "execution_count": 23,
      "outputs": [
        {
          "output_type": "execute_result",
          "data": {
            "text/plain": [
              "9216"
            ]
          },
          "metadata": {
            "tags": []
          },
          "execution_count": 23
        }
      ]
    },
    {
      "cell_type": "code",
      "metadata": {
        "id": "IFhcdNbdtB-x"
      },
      "source": [
        "#환경설정(model 학습)\n",
        "\n",
        "model.compile(loss = keras.losses.categorical_crossentropy,\n",
        "              optimizer='adam',\n",
        "              metrics =['accuracy'])"
      ],
      "execution_count": 24,
      "outputs": []
    },
    {
      "cell_type": "code",
      "metadata": {
        "colab": {
          "base_uri": "https://localhost:8080/"
        },
        "id": "ZyF7XFaqtj1H",
        "outputId": "485b6882-7616-4142-d792-db8b7693f55f"
      },
      "source": [
        "#학습\n",
        "history = model.fit(X_train, y_train,\n",
        "          batch_size=128,\n",
        "          epochs =12,\n",
        "          verbose = 1,\n",
        "          validation_data=(X_test, y_test))"
      ],
      "execution_count": 25,
      "outputs": [
        {
          "output_type": "stream",
          "text": [
            "Epoch 1/12\n",
            "469/469 [==============================] - 160s 308ms/step - loss: 0.4635 - accuracy: 0.8530 - val_loss: 0.0545 - val_accuracy: 0.9824\n",
            "Epoch 2/12\n",
            "469/469 [==============================] - 143s 305ms/step - loss: 0.0900 - accuracy: 0.9730 - val_loss: 0.0359 - val_accuracy: 0.9872\n",
            "Epoch 3/12\n",
            "469/469 [==============================] - 143s 306ms/step - loss: 0.0643 - accuracy: 0.9801 - val_loss: 0.0337 - val_accuracy: 0.9893\n",
            "Epoch 4/12\n",
            "469/469 [==============================] - 143s 305ms/step - loss: 0.0543 - accuracy: 0.9827 - val_loss: 0.0295 - val_accuracy: 0.9896\n",
            "Epoch 5/12\n",
            "469/469 [==============================] - 143s 305ms/step - loss: 0.0394 - accuracy: 0.9875 - val_loss: 0.0288 - val_accuracy: 0.9904\n",
            "Epoch 6/12\n",
            "469/469 [==============================] - 143s 304ms/step - loss: 0.0363 - accuracy: 0.9886 - val_loss: 0.0263 - val_accuracy: 0.9910\n",
            "Epoch 7/12\n",
            "469/469 [==============================] - 143s 305ms/step - loss: 0.0317 - accuracy: 0.9901 - val_loss: 0.0295 - val_accuracy: 0.9903\n",
            "Epoch 8/12\n",
            "469/469 [==============================] - 143s 305ms/step - loss: 0.0282 - accuracy: 0.9908 - val_loss: 0.0240 - val_accuracy: 0.9922\n",
            "Epoch 9/12\n",
            "469/469 [==============================] - 143s 305ms/step - loss: 0.0268 - accuracy: 0.9920 - val_loss: 0.0248 - val_accuracy: 0.9920\n",
            "Epoch 10/12\n",
            "469/469 [==============================] - 143s 305ms/step - loss: 0.0234 - accuracy: 0.9920 - val_loss: 0.0242 - val_accuracy: 0.9925\n",
            "Epoch 11/12\n",
            "469/469 [==============================] - 144s 307ms/step - loss: 0.0233 - accuracy: 0.9924 - val_loss: 0.0265 - val_accuracy: 0.9927\n",
            "Epoch 12/12\n",
            "469/469 [==============================] - 144s 307ms/step - loss: 0.0204 - accuracy: 0.9932 - val_loss: 0.0241 - val_accuracy: 0.9934\n"
          ],
          "name": "stdout"
        }
      ]
    },
    {
      "cell_type": "code",
      "metadata": {
        "id": "NYGstol9uCYR"
      },
      "source": [
        "scoere = model.evaluate(X_test, verbose=0)"
      ],
      "execution_count": 26,
      "outputs": []
    },
    {
      "cell_type": "code",
      "metadata": {
        "colab": {
          "base_uri": "https://localhost:8080/",
          "height": 215
        },
        "id": "84XBA5V0vmXI",
        "outputId": "12ed74f4-0835-42bd-fbc6-af32c47f143e"
      },
      "source": [
        "print('Test loss : ', score[0])\n",
        "print('Test accuracy : ', score[1])"
      ],
      "execution_count": 27,
      "outputs": [
        {
          "output_type": "error",
          "ename": "NameError",
          "evalue": "ignored",
          "traceback": [
            "\u001b[0;31m---------------------------------------------------------------------------\u001b[0m",
            "\u001b[0;31mNameError\u001b[0m                                 Traceback (most recent call last)",
            "\u001b[0;32m<ipython-input-27-2174653b5b3f>\u001b[0m in \u001b[0;36m<module>\u001b[0;34m()\u001b[0m\n\u001b[0;32m----> 1\u001b[0;31m \u001b[0mprint\u001b[0m\u001b[0;34m(\u001b[0m\u001b[0;34m'Test loss : '\u001b[0m\u001b[0;34m,\u001b[0m \u001b[0mscore\u001b[0m\u001b[0;34m[\u001b[0m\u001b[0;36m0\u001b[0m\u001b[0;34m]\u001b[0m\u001b[0;34m)\u001b[0m\u001b[0;34m\u001b[0m\u001b[0;34m\u001b[0m\u001b[0m\n\u001b[0m\u001b[1;32m      2\u001b[0m \u001b[0mprint\u001b[0m\u001b[0;34m(\u001b[0m\u001b[0;34m'Test accuracy : '\u001b[0m\u001b[0;34m,\u001b[0m \u001b[0mscore\u001b[0m\u001b[0;34m[\u001b[0m\u001b[0;36m1\u001b[0m\u001b[0;34m]\u001b[0m\u001b[0;34m)\u001b[0m\u001b[0;34m\u001b[0m\u001b[0;34m\u001b[0m\u001b[0m\n",
            "\u001b[0;31mNameError\u001b[0m: name 'score' is not defined"
          ]
        }
      ]
    },
    {
      "cell_type": "code",
      "metadata": {
        "id": "Q5h51YlyvwW3"
      },
      "source": [
        "print(history.history.keys())"
      ],
      "execution_count": null,
      "outputs": []
    },
    {
      "cell_type": "code",
      "metadata": {
        "id": "Di1VrUzmv0VG"
      },
      "source": [
        "plt.plot(history.history['accuracy'])\n",
        "plt.plot(history.history['val_accuracy'])\n",
        "plt.title('model accuracy')\n",
        "plt.ylabel('accuracy')\n",
        "plt.xlabel('epoch')\n",
        "plt.legend(['train, test'], loc='upper right')\n",
        "plt.show"
      ],
      "execution_count": null,
      "outputs": []
    },
    {
      "cell_type": "code",
      "metadata": {
        "id": "6X1YvjXmwcKy"
      },
      "source": [
        "plt.plot(history.history['loss'])\n",
        "plt.plot(history.history['val_loss'])\n",
        "plt.title('model loss')\n",
        "plt.ylabel('loss')\n",
        "plt.xlabel('epoch')\n",
        "plt.legend(['train, test'], loc='upper right')\n",
        "plt.show"
      ],
      "execution_count": null,
      "outputs": []
    }
  ]
}
