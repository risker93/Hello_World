{
  "nbformat": 4,
  "nbformat_minor": 0,
  "metadata": {
    "colab": {
      "name": "2021_06_08_방정식과부등식.ipynb",
      "provenance": [],
      "authorship_tag": "ABX9TyN7EK9FsvGSfJRdz5/3ZBBa",
      "include_colab_link": true
    },
    "kernelspec": {
      "name": "python3",
      "display_name": "Python 3"
    },
    "language_info": {
      "name": "python"
    }
  },
  "cells": [
    {
      "cell_type": "markdown",
      "metadata": {
        "id": "view-in-github",
        "colab_type": "text"
      },
      "source": [
        "<a href=\"https://colab.research.google.com/github/risker93/Hello_World/blob/main/2021_06_08_%EB%B0%A9%EC%A0%95%EC%8B%9D%EA%B3%BC%EB%B6%80%EB%93%B1%EC%8B%9D.ipynb\" target=\"_parent\"><img src=\"https://colab.research.google.com/assets/colab-badge.svg\" alt=\"Open In Colab\"/></a>"
      ]
    },
    {
      "cell_type": "markdown",
      "metadata": {
        "id": "maCUMcOirzms"
      },
      "source": [
        "    (1) 4 = k-2 \n",
        "\n",
        "        k = 4 + 2 = 6"
      ]
    },
    {
      "cell_type": "code",
      "metadata": {
        "colab": {
          "base_uri": "https://localhost:8080/"
        },
        "id": "oqtsAVVmruhh",
        "outputId": "e0e0dc03-31f6-42ce-b3d0-cabee2af983f"
      },
      "source": [
        "from sympy import Symbol, solve\n",
        "k = Symbol('k')\n",
        "equation = k - 2 - 4\n",
        "solve(equation)"
      ],
      "execution_count": 1,
      "outputs": [
        {
          "output_type": "execute_result",
          "data": {
            "text/plain": [
              "[6]"
            ]
          },
          "metadata": {
            "tags": []
          },
          "execution_count": 1
        }
      ]
    },
    {
      "cell_type": "markdown",
      "metadata": {
        "id": "JspsiKJlsPpg"
      },
      "source": [
        "    (2) 10 = 2k\n",
        "        k = 10/2 = 5"
      ]
    },
    {
      "cell_type": "code",
      "metadata": {
        "colab": {
          "base_uri": "https://localhost:8080/"
        },
        "id": "6hfcWyGGsNFY",
        "outputId": "4a4fb109-9686-4aa0-dd38-48119986d99d"
      },
      "source": [
        "equation = 2 * k - 10\n",
        "solve(equation)"
      ],
      "execution_count": 2,
      "outputs": [
        {
          "output_type": "execute_result",
          "data": {
            "text/plain": [
              "[5]"
            ]
          },
          "metadata": {
            "tags": []
          },
          "execution_count": 2
        }
      ]
    },
    {
      "cell_type": "markdown",
      "metadata": {
        "id": "H0TVgNMMshRO"
      },
      "source": [
        "    (3) k/2 = 8\n",
        "        k = 2 * 8 = 16"
      ]
    },
    {
      "cell_type": "code",
      "metadata": {
        "colab": {
          "base_uri": "https://localhost:8080/"
        },
        "id": "N_rtSPvosgGD",
        "outputId": "52b07add-069c-4728-e9d5-bffbe478c764"
      },
      "source": [
        "equation = k/2 - 8\n",
        "solve(equation)"
      ],
      "execution_count": 4,
      "outputs": [
        {
          "output_type": "execute_result",
          "data": {
            "text/plain": [
              "[16]"
            ]
          },
          "metadata": {
            "tags": []
          },
          "execution_count": 4
        }
      ]
    },
    {
      "cell_type": "markdown",
      "metadata": {
        "id": "XZaHEdlkuZmO"
      },
      "source": [
        "방정식과 항등식은 미지수가 있어야 한다.\n",
        "\n",
        "방정식은 미지수가 특정한 값을 가질때만 참인 수식, 좌변 != 우변\n",
        "\n",
        "항등식은 미지수가 어떤 값을 가져도 참인 수식, 좌변 = 우변\n",
        "\n",
        "연립방정식이란 미지수가 여러 개 포함된 방정식을 묶어 놓은 것을 의미\n",
        "\n",
        "미지수가 두개라면 식도 최소 두개이어야 하며, 미지수가 세 개라면 식도 최소 세 개가 주어져야함.\n",
        "\n"
      ]
    },
    {
      "cell_type": "markdown",
      "metadata": {
        "id": "HmpZgR1YwLUy"
      },
      "source": [
        "    3x + y = 2 ---(1)\n",
        "    x - 2y = 3 ---(2)\n",
        "\n",
        "    (2)에 3을 곱해 x의 계수를 맞춰준다\n",
        "    3x - 6y = 9\n",
        "\n",
        "    이후 (1) - (2)를 한다.\n",
        "    7y = -7, y = -1\n",
        "\n",
        "    나온 y값을 대입한다.\n",
        "    3x - 1 = 2, 3x = 3, x = 1"
      ]
    },
    {
      "cell_type": "code",
      "metadata": {
        "colab": {
          "base_uri": "https://localhost:8080/"
        },
        "id": "N1PS5RakvJY3",
        "outputId": "c337a8ef-392d-4de9-a908-297ef23c32d1"
      },
      "source": [
        "#SymPy 라이브러리를 불러오고, 사용할 기호변수 x, y를 선언합니다.\n",
        "from sympy import Symbol, solve\n",
        "x = Symbol('x')\n",
        "y = Symbol('y')\n",
        "\n",
        "#방정식을 풀려면 \"(일차방정식) = 0\"으로 만들어 주어야 합니다.\n",
        "#이를 위해 모든 식을 좌변으로 이항한 후 equation1과 equation2로 변수화 합니다.\n",
        "equation1 = 3 * x + y - 2\n",
        "equation2 = x - 2 * y - 3\n",
        "\n",
        "#방정식을 풀려면 SymPy에 내장된 solve()함수를 사용합니다.\n",
        "#solve() 함수 안에 equation을 차례로 입력하면\n",
        "#방정식을 풀어서 결과를 반환 합니다.\n",
        "solve((equation1, equation2), dict = True) # dict옵션은 해를 딕셔너리 형태로 반환합니다."
      ],
      "execution_count": 5,
      "outputs": [
        {
          "output_type": "execute_result",
          "data": {
            "text/plain": [
              "[{x: 1, y: -1}]"
            ]
          },
          "metadata": {
            "tags": []
          },
          "execution_count": 5
        }
      ]
    },
    {
      "cell_type": "code",
      "metadata": {
        "colab": {
          "base_uri": "https://localhost:8080/"
        },
        "id": "RBZwzuRIxmK-",
        "outputId": "0891aa1e-1d5a-4c56-84a5-3142be1b5c96"
      },
      "source": [
        "solve((equation1, equation2))\n"
      ],
      "execution_count": 8,
      "outputs": [
        {
          "output_type": "execute_result",
          "data": {
            "text/plain": [
              "{x: 1, y: -1}"
            ]
          },
          "metadata": {
            "tags": []
          },
          "execution_count": 8
        }
      ]
    },
    {
      "cell_type": "markdown",
      "metadata": {
        "id": "6EAWLLa9x1IR"
      },
      "source": [
        "**부등식**\n",
        "\n",
        "- 등호(=)와 미지수가 포함된 식에서 미지수에 따라 참이 되기도 하고 거짓이 되기도 하는 것이 방정식임\n",
        "- 부등호(< ,<=, >, >=)를 사용하여 나타낸 식을 부등식이라함\n",
        "- 부등식은 조건에 따라 두 유형이 있음\n",
        "  - 절대부등식: 모든 실수 값에 대해 항상 성립하는 부등식\n",
        "  - 조건부등식: 어떤 실수 값에 대해서만 성립하는 부등식\n",
        "- 즉, 절대부등식은 항등식 개념과 같고, 조건부등식은 방정식 개념과 같다 생각하면됨."
      ]
    },
    {
      "cell_type": "markdown",
      "metadata": {
        "id": "8ucJAWqLyfV8"
      },
      "source": [
        "부등식의 양변에 같은수를 더하거나 뺄때 부등호 방향은 바뀌지 않음\n",
        "\n",
        "양변에 같은 수를 곱할때 양수를 곱하면 그대로, 음수를 곱하면 방향이 바뀜\n",
        "\n",
        "양변에 같은 수를 나눌때 양수로 나누면 그대로, 음수로 나누면 부등호 방향이 바뀜"
      ]
    },
    {
      "cell_type": "code",
      "metadata": {
        "id": "gbJVppQ-xp6_"
      },
      "source": [
        ""
      ],
      "execution_count": null,
      "outputs": []
    }
  ]
}
