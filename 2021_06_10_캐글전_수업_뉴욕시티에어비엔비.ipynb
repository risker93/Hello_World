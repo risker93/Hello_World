{
  "nbformat": 4,
  "nbformat_minor": 0,
  "metadata": {
    "colab": {
      "name": "2021_06_10_캐글전_수업_뉴욕시티에어비엔비.ipynb",
      "provenance": [],
      "authorship_tag": "ABX9TyMevJvt0IZtldmAI8t7mDnM",
      "include_colab_link": true
    },
    "kernelspec": {
      "name": "python3",
      "display_name": "Python 3"
    },
    "language_info": {
      "name": "python"
    }
  },
  "cells": [
    {
      "cell_type": "markdown",
      "metadata": {
        "id": "view-in-github",
        "colab_type": "text"
      },
      "source": [
        "<a href=\"https://colab.research.google.com/github/risker93/Hello_World/blob/main/2021_06_10_%EC%BA%90%EA%B8%80%EC%A0%84_%EC%88%98%EC%97%85_%EB%89%B4%EC%9A%95%EC%8B%9C%ED%8B%B0%EC%97%90%EC%96%B4%EB%B9%84%EC%97%94%EB%B9%84.ipynb\" target=\"_parent\"><img src=\"https://colab.research.google.com/assets/colab-badge.svg\" alt=\"Open In Colab\"/></a>"
      ]
    },
    {
      "cell_type": "code",
      "metadata": {
        "id": "MxUjumYgM0oX"
      },
      "source": [
        "import pandas as pd"
      ],
      "execution_count": 31,
      "outputs": []
    },
    {
      "cell_type": "code",
      "metadata": {
        "id": "L0ZvFZt6NJCs"
      },
      "source": [
        "data = pd.read_csv('AB_NYC_2019.csv')"
      ],
      "execution_count": 32,
      "outputs": []
    },
    {
      "cell_type": "code",
      "metadata": {
        "colab": {
          "base_uri": "https://localhost:8080/",
          "height": 853
        },
        "id": "0e8BmfkiNUNz",
        "outputId": "993e7e43-9ba1-4a4a-facf-5758ac365c05"
      },
      "source": [
        "data"
      ],
      "execution_count": 33,
      "outputs": [
        {
          "output_type": "execute_result",
          "data": {
            "text/html": [
              "<div>\n",
              "<style scoped>\n",
              "    .dataframe tbody tr th:only-of-type {\n",
              "        vertical-align: middle;\n",
              "    }\n",
              "\n",
              "    .dataframe tbody tr th {\n",
              "        vertical-align: top;\n",
              "    }\n",
              "\n",
              "    .dataframe thead th {\n",
              "        text-align: right;\n",
              "    }\n",
              "</style>\n",
              "<table border=\"1\" class=\"dataframe\">\n",
              "  <thead>\n",
              "    <tr style=\"text-align: right;\">\n",
              "      <th></th>\n",
              "      <th>id</th>\n",
              "      <th>name</th>\n",
              "      <th>host_id</th>\n",
              "      <th>host_name</th>\n",
              "      <th>neighbourhood_group</th>\n",
              "      <th>neighbourhood</th>\n",
              "      <th>latitude</th>\n",
              "      <th>longitude</th>\n",
              "      <th>room_type</th>\n",
              "      <th>price</th>\n",
              "      <th>minimum_nights</th>\n",
              "      <th>number_of_reviews</th>\n",
              "      <th>last_review</th>\n",
              "      <th>reviews_per_month</th>\n",
              "      <th>calculated_host_listings_count</th>\n",
              "      <th>availability_365</th>\n",
              "    </tr>\n",
              "  </thead>\n",
              "  <tbody>\n",
              "    <tr>\n",
              "      <th>0</th>\n",
              "      <td>2539</td>\n",
              "      <td>Clean &amp; quiet apt home by the park</td>\n",
              "      <td>2787</td>\n",
              "      <td>John</td>\n",
              "      <td>Brooklyn</td>\n",
              "      <td>Kensington</td>\n",
              "      <td>40.64749</td>\n",
              "      <td>-73.97237</td>\n",
              "      <td>Private room</td>\n",
              "      <td>149</td>\n",
              "      <td>1</td>\n",
              "      <td>9</td>\n",
              "      <td>2018-10-19</td>\n",
              "      <td>0.21</td>\n",
              "      <td>6</td>\n",
              "      <td>365</td>\n",
              "    </tr>\n",
              "    <tr>\n",
              "      <th>1</th>\n",
              "      <td>2595</td>\n",
              "      <td>Skylit Midtown Castle</td>\n",
              "      <td>2845</td>\n",
              "      <td>Jennifer</td>\n",
              "      <td>Manhattan</td>\n",
              "      <td>Midtown</td>\n",
              "      <td>40.75362</td>\n",
              "      <td>-73.98377</td>\n",
              "      <td>Entire home/apt</td>\n",
              "      <td>225</td>\n",
              "      <td>1</td>\n",
              "      <td>45</td>\n",
              "      <td>2019-05-21</td>\n",
              "      <td>0.38</td>\n",
              "      <td>2</td>\n",
              "      <td>355</td>\n",
              "    </tr>\n",
              "    <tr>\n",
              "      <th>2</th>\n",
              "      <td>3647</td>\n",
              "      <td>THE VILLAGE OF HARLEM....NEW YORK !</td>\n",
              "      <td>4632</td>\n",
              "      <td>Elisabeth</td>\n",
              "      <td>Manhattan</td>\n",
              "      <td>Harlem</td>\n",
              "      <td>40.80902</td>\n",
              "      <td>-73.94190</td>\n",
              "      <td>Private room</td>\n",
              "      <td>150</td>\n",
              "      <td>3</td>\n",
              "      <td>0</td>\n",
              "      <td>NaN</td>\n",
              "      <td>NaN</td>\n",
              "      <td>1</td>\n",
              "      <td>365</td>\n",
              "    </tr>\n",
              "    <tr>\n",
              "      <th>3</th>\n",
              "      <td>3831</td>\n",
              "      <td>Cozy Entire Floor of Brownstone</td>\n",
              "      <td>4869</td>\n",
              "      <td>LisaRoxanne</td>\n",
              "      <td>Brooklyn</td>\n",
              "      <td>Clinton Hill</td>\n",
              "      <td>40.68514</td>\n",
              "      <td>-73.95976</td>\n",
              "      <td>Entire home/apt</td>\n",
              "      <td>89</td>\n",
              "      <td>1</td>\n",
              "      <td>270</td>\n",
              "      <td>2019-07-05</td>\n",
              "      <td>4.64</td>\n",
              "      <td>1</td>\n",
              "      <td>194</td>\n",
              "    </tr>\n",
              "    <tr>\n",
              "      <th>4</th>\n",
              "      <td>5022</td>\n",
              "      <td>Entire Apt: Spacious Studio/Loft by central park</td>\n",
              "      <td>7192</td>\n",
              "      <td>Laura</td>\n",
              "      <td>Manhattan</td>\n",
              "      <td>East Harlem</td>\n",
              "      <td>40.79851</td>\n",
              "      <td>-73.94399</td>\n",
              "      <td>Entire home/apt</td>\n",
              "      <td>80</td>\n",
              "      <td>10</td>\n",
              "      <td>9</td>\n",
              "      <td>2018-11-19</td>\n",
              "      <td>0.10</td>\n",
              "      <td>1</td>\n",
              "      <td>0</td>\n",
              "    </tr>\n",
              "    <tr>\n",
              "      <th>...</th>\n",
              "      <td>...</td>\n",
              "      <td>...</td>\n",
              "      <td>...</td>\n",
              "      <td>...</td>\n",
              "      <td>...</td>\n",
              "      <td>...</td>\n",
              "      <td>...</td>\n",
              "      <td>...</td>\n",
              "      <td>...</td>\n",
              "      <td>...</td>\n",
              "      <td>...</td>\n",
              "      <td>...</td>\n",
              "      <td>...</td>\n",
              "      <td>...</td>\n",
              "      <td>...</td>\n",
              "      <td>...</td>\n",
              "    </tr>\n",
              "    <tr>\n",
              "      <th>48890</th>\n",
              "      <td>36484665</td>\n",
              "      <td>Charming one bedroom - newly renovated rowhouse</td>\n",
              "      <td>8232441</td>\n",
              "      <td>Sabrina</td>\n",
              "      <td>Brooklyn</td>\n",
              "      <td>Bedford-Stuyvesant</td>\n",
              "      <td>40.67853</td>\n",
              "      <td>-73.94995</td>\n",
              "      <td>Private room</td>\n",
              "      <td>70</td>\n",
              "      <td>2</td>\n",
              "      <td>0</td>\n",
              "      <td>NaN</td>\n",
              "      <td>NaN</td>\n",
              "      <td>2</td>\n",
              "      <td>9</td>\n",
              "    </tr>\n",
              "    <tr>\n",
              "      <th>48891</th>\n",
              "      <td>36485057</td>\n",
              "      <td>Affordable room in Bushwick/East Williamsburg</td>\n",
              "      <td>6570630</td>\n",
              "      <td>Marisol</td>\n",
              "      <td>Brooklyn</td>\n",
              "      <td>Bushwick</td>\n",
              "      <td>40.70184</td>\n",
              "      <td>-73.93317</td>\n",
              "      <td>Private room</td>\n",
              "      <td>40</td>\n",
              "      <td>4</td>\n",
              "      <td>0</td>\n",
              "      <td>NaN</td>\n",
              "      <td>NaN</td>\n",
              "      <td>2</td>\n",
              "      <td>36</td>\n",
              "    </tr>\n",
              "    <tr>\n",
              "      <th>48892</th>\n",
              "      <td>36485431</td>\n",
              "      <td>Sunny Studio at Historical Neighborhood</td>\n",
              "      <td>23492952</td>\n",
              "      <td>Ilgar &amp; Aysel</td>\n",
              "      <td>Manhattan</td>\n",
              "      <td>Harlem</td>\n",
              "      <td>40.81475</td>\n",
              "      <td>-73.94867</td>\n",
              "      <td>Entire home/apt</td>\n",
              "      <td>115</td>\n",
              "      <td>10</td>\n",
              "      <td>0</td>\n",
              "      <td>NaN</td>\n",
              "      <td>NaN</td>\n",
              "      <td>1</td>\n",
              "      <td>27</td>\n",
              "    </tr>\n",
              "    <tr>\n",
              "      <th>48893</th>\n",
              "      <td>36485609</td>\n",
              "      <td>43rd St. Time Square-cozy single bed</td>\n",
              "      <td>30985759</td>\n",
              "      <td>Taz</td>\n",
              "      <td>Manhattan</td>\n",
              "      <td>Hell's Kitchen</td>\n",
              "      <td>40.75751</td>\n",
              "      <td>-73.99112</td>\n",
              "      <td>Shared room</td>\n",
              "      <td>55</td>\n",
              "      <td>1</td>\n",
              "      <td>0</td>\n",
              "      <td>NaN</td>\n",
              "      <td>NaN</td>\n",
              "      <td>6</td>\n",
              "      <td>2</td>\n",
              "    </tr>\n",
              "    <tr>\n",
              "      <th>48894</th>\n",
              "      <td>36487245</td>\n",
              "      <td>Trendy duplex in the very heart of Hell's Kitchen</td>\n",
              "      <td>68119814</td>\n",
              "      <td>Christophe</td>\n",
              "      <td>Manhattan</td>\n",
              "      <td>Hell's Kitchen</td>\n",
              "      <td>40.76404</td>\n",
              "      <td>-73.98933</td>\n",
              "      <td>Private room</td>\n",
              "      <td>90</td>\n",
              "      <td>7</td>\n",
              "      <td>0</td>\n",
              "      <td>NaN</td>\n",
              "      <td>NaN</td>\n",
              "      <td>1</td>\n",
              "      <td>23</td>\n",
              "    </tr>\n",
              "  </tbody>\n",
              "</table>\n",
              "<p>48895 rows × 16 columns</p>\n",
              "</div>"
            ],
            "text/plain": [
              "             id  ... availability_365\n",
              "0          2539  ...              365\n",
              "1          2595  ...              355\n",
              "2          3647  ...              365\n",
              "3          3831  ...              194\n",
              "4          5022  ...                0\n",
              "...         ...  ...              ...\n",
              "48890  36484665  ...                9\n",
              "48891  36485057  ...               36\n",
              "48892  36485431  ...               27\n",
              "48893  36485609  ...                2\n",
              "48894  36487245  ...               23\n",
              "\n",
              "[48895 rows x 16 columns]"
            ]
          },
          "metadata": {
            "tags": []
          },
          "execution_count": 33
        }
      ]
    },
    {
      "cell_type": "code",
      "metadata": {
        "id": "sh2BR--JNXvv"
      },
      "source": [
        "df = pd.DataFrame(data)"
      ],
      "execution_count": 34,
      "outputs": []
    },
    {
      "cell_type": "code",
      "metadata": {
        "colab": {
          "base_uri": "https://localhost:8080/",
          "height": 853
        },
        "id": "BRfF3tzaNfy8",
        "outputId": "50f1e123-4c64-49c4-a704-81699c06cc22"
      },
      "source": [
        "df"
      ],
      "execution_count": 35,
      "outputs": [
        {
          "output_type": "execute_result",
          "data": {
            "text/html": [
              "<div>\n",
              "<style scoped>\n",
              "    .dataframe tbody tr th:only-of-type {\n",
              "        vertical-align: middle;\n",
              "    }\n",
              "\n",
              "    .dataframe tbody tr th {\n",
              "        vertical-align: top;\n",
              "    }\n",
              "\n",
              "    .dataframe thead th {\n",
              "        text-align: right;\n",
              "    }\n",
              "</style>\n",
              "<table border=\"1\" class=\"dataframe\">\n",
              "  <thead>\n",
              "    <tr style=\"text-align: right;\">\n",
              "      <th></th>\n",
              "      <th>id</th>\n",
              "      <th>name</th>\n",
              "      <th>host_id</th>\n",
              "      <th>host_name</th>\n",
              "      <th>neighbourhood_group</th>\n",
              "      <th>neighbourhood</th>\n",
              "      <th>latitude</th>\n",
              "      <th>longitude</th>\n",
              "      <th>room_type</th>\n",
              "      <th>price</th>\n",
              "      <th>minimum_nights</th>\n",
              "      <th>number_of_reviews</th>\n",
              "      <th>last_review</th>\n",
              "      <th>reviews_per_month</th>\n",
              "      <th>calculated_host_listings_count</th>\n",
              "      <th>availability_365</th>\n",
              "    </tr>\n",
              "  </thead>\n",
              "  <tbody>\n",
              "    <tr>\n",
              "      <th>0</th>\n",
              "      <td>2539</td>\n",
              "      <td>Clean &amp; quiet apt home by the park</td>\n",
              "      <td>2787</td>\n",
              "      <td>John</td>\n",
              "      <td>Brooklyn</td>\n",
              "      <td>Kensington</td>\n",
              "      <td>40.64749</td>\n",
              "      <td>-73.97237</td>\n",
              "      <td>Private room</td>\n",
              "      <td>149</td>\n",
              "      <td>1</td>\n",
              "      <td>9</td>\n",
              "      <td>2018-10-19</td>\n",
              "      <td>0.21</td>\n",
              "      <td>6</td>\n",
              "      <td>365</td>\n",
              "    </tr>\n",
              "    <tr>\n",
              "      <th>1</th>\n",
              "      <td>2595</td>\n",
              "      <td>Skylit Midtown Castle</td>\n",
              "      <td>2845</td>\n",
              "      <td>Jennifer</td>\n",
              "      <td>Manhattan</td>\n",
              "      <td>Midtown</td>\n",
              "      <td>40.75362</td>\n",
              "      <td>-73.98377</td>\n",
              "      <td>Entire home/apt</td>\n",
              "      <td>225</td>\n",
              "      <td>1</td>\n",
              "      <td>45</td>\n",
              "      <td>2019-05-21</td>\n",
              "      <td>0.38</td>\n",
              "      <td>2</td>\n",
              "      <td>355</td>\n",
              "    </tr>\n",
              "    <tr>\n",
              "      <th>2</th>\n",
              "      <td>3647</td>\n",
              "      <td>THE VILLAGE OF HARLEM....NEW YORK !</td>\n",
              "      <td>4632</td>\n",
              "      <td>Elisabeth</td>\n",
              "      <td>Manhattan</td>\n",
              "      <td>Harlem</td>\n",
              "      <td>40.80902</td>\n",
              "      <td>-73.94190</td>\n",
              "      <td>Private room</td>\n",
              "      <td>150</td>\n",
              "      <td>3</td>\n",
              "      <td>0</td>\n",
              "      <td>NaN</td>\n",
              "      <td>NaN</td>\n",
              "      <td>1</td>\n",
              "      <td>365</td>\n",
              "    </tr>\n",
              "    <tr>\n",
              "      <th>3</th>\n",
              "      <td>3831</td>\n",
              "      <td>Cozy Entire Floor of Brownstone</td>\n",
              "      <td>4869</td>\n",
              "      <td>LisaRoxanne</td>\n",
              "      <td>Brooklyn</td>\n",
              "      <td>Clinton Hill</td>\n",
              "      <td>40.68514</td>\n",
              "      <td>-73.95976</td>\n",
              "      <td>Entire home/apt</td>\n",
              "      <td>89</td>\n",
              "      <td>1</td>\n",
              "      <td>270</td>\n",
              "      <td>2019-07-05</td>\n",
              "      <td>4.64</td>\n",
              "      <td>1</td>\n",
              "      <td>194</td>\n",
              "    </tr>\n",
              "    <tr>\n",
              "      <th>4</th>\n",
              "      <td>5022</td>\n",
              "      <td>Entire Apt: Spacious Studio/Loft by central park</td>\n",
              "      <td>7192</td>\n",
              "      <td>Laura</td>\n",
              "      <td>Manhattan</td>\n",
              "      <td>East Harlem</td>\n",
              "      <td>40.79851</td>\n",
              "      <td>-73.94399</td>\n",
              "      <td>Entire home/apt</td>\n",
              "      <td>80</td>\n",
              "      <td>10</td>\n",
              "      <td>9</td>\n",
              "      <td>2018-11-19</td>\n",
              "      <td>0.10</td>\n",
              "      <td>1</td>\n",
              "      <td>0</td>\n",
              "    </tr>\n",
              "    <tr>\n",
              "      <th>...</th>\n",
              "      <td>...</td>\n",
              "      <td>...</td>\n",
              "      <td>...</td>\n",
              "      <td>...</td>\n",
              "      <td>...</td>\n",
              "      <td>...</td>\n",
              "      <td>...</td>\n",
              "      <td>...</td>\n",
              "      <td>...</td>\n",
              "      <td>...</td>\n",
              "      <td>...</td>\n",
              "      <td>...</td>\n",
              "      <td>...</td>\n",
              "      <td>...</td>\n",
              "      <td>...</td>\n",
              "      <td>...</td>\n",
              "    </tr>\n",
              "    <tr>\n",
              "      <th>48890</th>\n",
              "      <td>36484665</td>\n",
              "      <td>Charming one bedroom - newly renovated rowhouse</td>\n",
              "      <td>8232441</td>\n",
              "      <td>Sabrina</td>\n",
              "      <td>Brooklyn</td>\n",
              "      <td>Bedford-Stuyvesant</td>\n",
              "      <td>40.67853</td>\n",
              "      <td>-73.94995</td>\n",
              "      <td>Private room</td>\n",
              "      <td>70</td>\n",
              "      <td>2</td>\n",
              "      <td>0</td>\n",
              "      <td>NaN</td>\n",
              "      <td>NaN</td>\n",
              "      <td>2</td>\n",
              "      <td>9</td>\n",
              "    </tr>\n",
              "    <tr>\n",
              "      <th>48891</th>\n",
              "      <td>36485057</td>\n",
              "      <td>Affordable room in Bushwick/East Williamsburg</td>\n",
              "      <td>6570630</td>\n",
              "      <td>Marisol</td>\n",
              "      <td>Brooklyn</td>\n",
              "      <td>Bushwick</td>\n",
              "      <td>40.70184</td>\n",
              "      <td>-73.93317</td>\n",
              "      <td>Private room</td>\n",
              "      <td>40</td>\n",
              "      <td>4</td>\n",
              "      <td>0</td>\n",
              "      <td>NaN</td>\n",
              "      <td>NaN</td>\n",
              "      <td>2</td>\n",
              "      <td>36</td>\n",
              "    </tr>\n",
              "    <tr>\n",
              "      <th>48892</th>\n",
              "      <td>36485431</td>\n",
              "      <td>Sunny Studio at Historical Neighborhood</td>\n",
              "      <td>23492952</td>\n",
              "      <td>Ilgar &amp; Aysel</td>\n",
              "      <td>Manhattan</td>\n",
              "      <td>Harlem</td>\n",
              "      <td>40.81475</td>\n",
              "      <td>-73.94867</td>\n",
              "      <td>Entire home/apt</td>\n",
              "      <td>115</td>\n",
              "      <td>10</td>\n",
              "      <td>0</td>\n",
              "      <td>NaN</td>\n",
              "      <td>NaN</td>\n",
              "      <td>1</td>\n",
              "      <td>27</td>\n",
              "    </tr>\n",
              "    <tr>\n",
              "      <th>48893</th>\n",
              "      <td>36485609</td>\n",
              "      <td>43rd St. Time Square-cozy single bed</td>\n",
              "      <td>30985759</td>\n",
              "      <td>Taz</td>\n",
              "      <td>Manhattan</td>\n",
              "      <td>Hell's Kitchen</td>\n",
              "      <td>40.75751</td>\n",
              "      <td>-73.99112</td>\n",
              "      <td>Shared room</td>\n",
              "      <td>55</td>\n",
              "      <td>1</td>\n",
              "      <td>0</td>\n",
              "      <td>NaN</td>\n",
              "      <td>NaN</td>\n",
              "      <td>6</td>\n",
              "      <td>2</td>\n",
              "    </tr>\n",
              "    <tr>\n",
              "      <th>48894</th>\n",
              "      <td>36487245</td>\n",
              "      <td>Trendy duplex in the very heart of Hell's Kitchen</td>\n",
              "      <td>68119814</td>\n",
              "      <td>Christophe</td>\n",
              "      <td>Manhattan</td>\n",
              "      <td>Hell's Kitchen</td>\n",
              "      <td>40.76404</td>\n",
              "      <td>-73.98933</td>\n",
              "      <td>Private room</td>\n",
              "      <td>90</td>\n",
              "      <td>7</td>\n",
              "      <td>0</td>\n",
              "      <td>NaN</td>\n",
              "      <td>NaN</td>\n",
              "      <td>1</td>\n",
              "      <td>23</td>\n",
              "    </tr>\n",
              "  </tbody>\n",
              "</table>\n",
              "<p>48895 rows × 16 columns</p>\n",
              "</div>"
            ],
            "text/plain": [
              "             id  ... availability_365\n",
              "0          2539  ...              365\n",
              "1          2595  ...              355\n",
              "2          3647  ...              365\n",
              "3          3831  ...              194\n",
              "4          5022  ...                0\n",
              "...         ...  ...              ...\n",
              "48890  36484665  ...                9\n",
              "48891  36485057  ...               36\n",
              "48892  36485431  ...               27\n",
              "48893  36485609  ...                2\n",
              "48894  36487245  ...               23\n",
              "\n",
              "[48895 rows x 16 columns]"
            ]
          },
          "metadata": {
            "tags": []
          },
          "execution_count": 35
        }
      ]
    },
    {
      "cell_type": "code",
      "metadata": {
        "colab": {
          "base_uri": "https://localhost:8080/",
          "height": 406
        },
        "id": "pnDDFfUANgSC",
        "outputId": "129e811d-b307-493d-ef6c-0ba947606602"
      },
      "source": [
        "df.head()"
      ],
      "execution_count": 36,
      "outputs": [
        {
          "output_type": "execute_result",
          "data": {
            "text/html": [
              "<div>\n",
              "<style scoped>\n",
              "    .dataframe tbody tr th:only-of-type {\n",
              "        vertical-align: middle;\n",
              "    }\n",
              "\n",
              "    .dataframe tbody tr th {\n",
              "        vertical-align: top;\n",
              "    }\n",
              "\n",
              "    .dataframe thead th {\n",
              "        text-align: right;\n",
              "    }\n",
              "</style>\n",
              "<table border=\"1\" class=\"dataframe\">\n",
              "  <thead>\n",
              "    <tr style=\"text-align: right;\">\n",
              "      <th></th>\n",
              "      <th>id</th>\n",
              "      <th>name</th>\n",
              "      <th>host_id</th>\n",
              "      <th>host_name</th>\n",
              "      <th>neighbourhood_group</th>\n",
              "      <th>neighbourhood</th>\n",
              "      <th>latitude</th>\n",
              "      <th>longitude</th>\n",
              "      <th>room_type</th>\n",
              "      <th>price</th>\n",
              "      <th>minimum_nights</th>\n",
              "      <th>number_of_reviews</th>\n",
              "      <th>last_review</th>\n",
              "      <th>reviews_per_month</th>\n",
              "      <th>calculated_host_listings_count</th>\n",
              "      <th>availability_365</th>\n",
              "    </tr>\n",
              "  </thead>\n",
              "  <tbody>\n",
              "    <tr>\n",
              "      <th>0</th>\n",
              "      <td>2539</td>\n",
              "      <td>Clean &amp; quiet apt home by the park</td>\n",
              "      <td>2787</td>\n",
              "      <td>John</td>\n",
              "      <td>Brooklyn</td>\n",
              "      <td>Kensington</td>\n",
              "      <td>40.64749</td>\n",
              "      <td>-73.97237</td>\n",
              "      <td>Private room</td>\n",
              "      <td>149</td>\n",
              "      <td>1</td>\n",
              "      <td>9</td>\n",
              "      <td>2018-10-19</td>\n",
              "      <td>0.21</td>\n",
              "      <td>6</td>\n",
              "      <td>365</td>\n",
              "    </tr>\n",
              "    <tr>\n",
              "      <th>1</th>\n",
              "      <td>2595</td>\n",
              "      <td>Skylit Midtown Castle</td>\n",
              "      <td>2845</td>\n",
              "      <td>Jennifer</td>\n",
              "      <td>Manhattan</td>\n",
              "      <td>Midtown</td>\n",
              "      <td>40.75362</td>\n",
              "      <td>-73.98377</td>\n",
              "      <td>Entire home/apt</td>\n",
              "      <td>225</td>\n",
              "      <td>1</td>\n",
              "      <td>45</td>\n",
              "      <td>2019-05-21</td>\n",
              "      <td>0.38</td>\n",
              "      <td>2</td>\n",
              "      <td>355</td>\n",
              "    </tr>\n",
              "    <tr>\n",
              "      <th>2</th>\n",
              "      <td>3647</td>\n",
              "      <td>THE VILLAGE OF HARLEM....NEW YORK !</td>\n",
              "      <td>4632</td>\n",
              "      <td>Elisabeth</td>\n",
              "      <td>Manhattan</td>\n",
              "      <td>Harlem</td>\n",
              "      <td>40.80902</td>\n",
              "      <td>-73.94190</td>\n",
              "      <td>Private room</td>\n",
              "      <td>150</td>\n",
              "      <td>3</td>\n",
              "      <td>0</td>\n",
              "      <td>NaN</td>\n",
              "      <td>NaN</td>\n",
              "      <td>1</td>\n",
              "      <td>365</td>\n",
              "    </tr>\n",
              "    <tr>\n",
              "      <th>3</th>\n",
              "      <td>3831</td>\n",
              "      <td>Cozy Entire Floor of Brownstone</td>\n",
              "      <td>4869</td>\n",
              "      <td>LisaRoxanne</td>\n",
              "      <td>Brooklyn</td>\n",
              "      <td>Clinton Hill</td>\n",
              "      <td>40.68514</td>\n",
              "      <td>-73.95976</td>\n",
              "      <td>Entire home/apt</td>\n",
              "      <td>89</td>\n",
              "      <td>1</td>\n",
              "      <td>270</td>\n",
              "      <td>2019-07-05</td>\n",
              "      <td>4.64</td>\n",
              "      <td>1</td>\n",
              "      <td>194</td>\n",
              "    </tr>\n",
              "    <tr>\n",
              "      <th>4</th>\n",
              "      <td>5022</td>\n",
              "      <td>Entire Apt: Spacious Studio/Loft by central park</td>\n",
              "      <td>7192</td>\n",
              "      <td>Laura</td>\n",
              "      <td>Manhattan</td>\n",
              "      <td>East Harlem</td>\n",
              "      <td>40.79851</td>\n",
              "      <td>-73.94399</td>\n",
              "      <td>Entire home/apt</td>\n",
              "      <td>80</td>\n",
              "      <td>10</td>\n",
              "      <td>9</td>\n",
              "      <td>2018-11-19</td>\n",
              "      <td>0.10</td>\n",
              "      <td>1</td>\n",
              "      <td>0</td>\n",
              "    </tr>\n",
              "  </tbody>\n",
              "</table>\n",
              "</div>"
            ],
            "text/plain": [
              "     id  ... availability_365\n",
              "0  2539  ...              365\n",
              "1  2595  ...              355\n",
              "2  3647  ...              365\n",
              "3  3831  ...              194\n",
              "4  5022  ...                0\n",
              "\n",
              "[5 rows x 16 columns]"
            ]
          },
          "metadata": {
            "tags": []
          },
          "execution_count": 36
        }
      ]
    },
    {
      "cell_type": "code",
      "metadata": {
        "colab": {
          "base_uri": "https://localhost:8080/"
        },
        "id": "R_D6iRasNhfp",
        "outputId": "fe7dda90-bd9e-4cd0-e08a-a65448fb262c"
      },
      "source": [
        "df.info()"
      ],
      "execution_count": 37,
      "outputs": [
        {
          "output_type": "stream",
          "text": [
            "<class 'pandas.core.frame.DataFrame'>\n",
            "RangeIndex: 48895 entries, 0 to 48894\n",
            "Data columns (total 16 columns):\n",
            " #   Column                          Non-Null Count  Dtype  \n",
            "---  ------                          --------------  -----  \n",
            " 0   id                              48895 non-null  int64  \n",
            " 1   name                            48879 non-null  object \n",
            " 2   host_id                         48895 non-null  int64  \n",
            " 3   host_name                       48874 non-null  object \n",
            " 4   neighbourhood_group             48895 non-null  object \n",
            " 5   neighbourhood                   48895 non-null  object \n",
            " 6   latitude                        48895 non-null  float64\n",
            " 7   longitude                       48895 non-null  float64\n",
            " 8   room_type                       48895 non-null  object \n",
            " 9   price                           48895 non-null  int64  \n",
            " 10  minimum_nights                  48895 non-null  int64  \n",
            " 11  number_of_reviews               48895 non-null  int64  \n",
            " 12  last_review                     38843 non-null  object \n",
            " 13  reviews_per_month               38843 non-null  float64\n",
            " 14  calculated_host_listings_count  48895 non-null  int64  \n",
            " 15  availability_365                48895 non-null  int64  \n",
            "dtypes: float64(3), int64(7), object(6)\n",
            "memory usage: 6.0+ MB\n"
          ],
          "name": "stdout"
        }
      ]
    },
    {
      "cell_type": "code",
      "metadata": {
        "colab": {
          "base_uri": "https://localhost:8080/",
          "height": 314
        },
        "id": "K9z8knIsNuoi",
        "outputId": "fcef1b79-324c-44ab-83c6-6f6e99780db0"
      },
      "source": [
        "df.describe()"
      ],
      "execution_count": 38,
      "outputs": [
        {
          "output_type": "execute_result",
          "data": {
            "text/html": [
              "<div>\n",
              "<style scoped>\n",
              "    .dataframe tbody tr th:only-of-type {\n",
              "        vertical-align: middle;\n",
              "    }\n",
              "\n",
              "    .dataframe tbody tr th {\n",
              "        vertical-align: top;\n",
              "    }\n",
              "\n",
              "    .dataframe thead th {\n",
              "        text-align: right;\n",
              "    }\n",
              "</style>\n",
              "<table border=\"1\" class=\"dataframe\">\n",
              "  <thead>\n",
              "    <tr style=\"text-align: right;\">\n",
              "      <th></th>\n",
              "      <th>id</th>\n",
              "      <th>host_id</th>\n",
              "      <th>latitude</th>\n",
              "      <th>longitude</th>\n",
              "      <th>price</th>\n",
              "      <th>minimum_nights</th>\n",
              "      <th>number_of_reviews</th>\n",
              "      <th>reviews_per_month</th>\n",
              "      <th>calculated_host_listings_count</th>\n",
              "      <th>availability_365</th>\n",
              "    </tr>\n",
              "  </thead>\n",
              "  <tbody>\n",
              "    <tr>\n",
              "      <th>count</th>\n",
              "      <td>4.889500e+04</td>\n",
              "      <td>4.889500e+04</td>\n",
              "      <td>48895.000000</td>\n",
              "      <td>48895.000000</td>\n",
              "      <td>48895.000000</td>\n",
              "      <td>48895.000000</td>\n",
              "      <td>48895.000000</td>\n",
              "      <td>38843.000000</td>\n",
              "      <td>48895.000000</td>\n",
              "      <td>48895.000000</td>\n",
              "    </tr>\n",
              "    <tr>\n",
              "      <th>mean</th>\n",
              "      <td>1.901714e+07</td>\n",
              "      <td>6.762001e+07</td>\n",
              "      <td>40.728949</td>\n",
              "      <td>-73.952170</td>\n",
              "      <td>152.720687</td>\n",
              "      <td>7.029962</td>\n",
              "      <td>23.274466</td>\n",
              "      <td>1.373221</td>\n",
              "      <td>7.143982</td>\n",
              "      <td>112.781327</td>\n",
              "    </tr>\n",
              "    <tr>\n",
              "      <th>std</th>\n",
              "      <td>1.098311e+07</td>\n",
              "      <td>7.861097e+07</td>\n",
              "      <td>0.054530</td>\n",
              "      <td>0.046157</td>\n",
              "      <td>240.154170</td>\n",
              "      <td>20.510550</td>\n",
              "      <td>44.550582</td>\n",
              "      <td>1.680442</td>\n",
              "      <td>32.952519</td>\n",
              "      <td>131.622289</td>\n",
              "    </tr>\n",
              "    <tr>\n",
              "      <th>min</th>\n",
              "      <td>2.539000e+03</td>\n",
              "      <td>2.438000e+03</td>\n",
              "      <td>40.499790</td>\n",
              "      <td>-74.244420</td>\n",
              "      <td>0.000000</td>\n",
              "      <td>1.000000</td>\n",
              "      <td>0.000000</td>\n",
              "      <td>0.010000</td>\n",
              "      <td>1.000000</td>\n",
              "      <td>0.000000</td>\n",
              "    </tr>\n",
              "    <tr>\n",
              "      <th>25%</th>\n",
              "      <td>9.471945e+06</td>\n",
              "      <td>7.822033e+06</td>\n",
              "      <td>40.690100</td>\n",
              "      <td>-73.983070</td>\n",
              "      <td>69.000000</td>\n",
              "      <td>1.000000</td>\n",
              "      <td>1.000000</td>\n",
              "      <td>0.190000</td>\n",
              "      <td>1.000000</td>\n",
              "      <td>0.000000</td>\n",
              "    </tr>\n",
              "    <tr>\n",
              "      <th>50%</th>\n",
              "      <td>1.967728e+07</td>\n",
              "      <td>3.079382e+07</td>\n",
              "      <td>40.723070</td>\n",
              "      <td>-73.955680</td>\n",
              "      <td>106.000000</td>\n",
              "      <td>3.000000</td>\n",
              "      <td>5.000000</td>\n",
              "      <td>0.720000</td>\n",
              "      <td>1.000000</td>\n",
              "      <td>45.000000</td>\n",
              "    </tr>\n",
              "    <tr>\n",
              "      <th>75%</th>\n",
              "      <td>2.915218e+07</td>\n",
              "      <td>1.074344e+08</td>\n",
              "      <td>40.763115</td>\n",
              "      <td>-73.936275</td>\n",
              "      <td>175.000000</td>\n",
              "      <td>5.000000</td>\n",
              "      <td>24.000000</td>\n",
              "      <td>2.020000</td>\n",
              "      <td>2.000000</td>\n",
              "      <td>227.000000</td>\n",
              "    </tr>\n",
              "    <tr>\n",
              "      <th>max</th>\n",
              "      <td>3.648724e+07</td>\n",
              "      <td>2.743213e+08</td>\n",
              "      <td>40.913060</td>\n",
              "      <td>-73.712990</td>\n",
              "      <td>10000.000000</td>\n",
              "      <td>1250.000000</td>\n",
              "      <td>629.000000</td>\n",
              "      <td>58.500000</td>\n",
              "      <td>327.000000</td>\n",
              "      <td>365.000000</td>\n",
              "    </tr>\n",
              "  </tbody>\n",
              "</table>\n",
              "</div>"
            ],
            "text/plain": [
              "                 id  ...  availability_365\n",
              "count  4.889500e+04  ...      48895.000000\n",
              "mean   1.901714e+07  ...        112.781327\n",
              "std    1.098311e+07  ...        131.622289\n",
              "min    2.539000e+03  ...          0.000000\n",
              "25%    9.471945e+06  ...          0.000000\n",
              "50%    1.967728e+07  ...         45.000000\n",
              "75%    2.915218e+07  ...        227.000000\n",
              "max    3.648724e+07  ...        365.000000\n",
              "\n",
              "[8 rows x 10 columns]"
            ]
          },
          "metadata": {
            "tags": []
          },
          "execution_count": 38
        }
      ]
    },
    {
      "cell_type": "code",
      "metadata": {
        "colab": {
          "base_uri": "https://localhost:8080/"
        },
        "id": "nf_NUUCDvnLx",
        "outputId": "c044893e-42f1-4581-948c-34d23def51f6"
      },
      "source": [
        "df.columns"
      ],
      "execution_count": 39,
      "outputs": [
        {
          "output_type": "execute_result",
          "data": {
            "text/plain": [
              "Index(['id', 'name', 'host_id', 'host_name', 'neighbourhood_group',\n",
              "       'neighbourhood', 'latitude', 'longitude', 'room_type', 'price',\n",
              "       'minimum_nights', 'number_of_reviews', 'last_review',\n",
              "       'reviews_per_month', 'calculated_host_listings_count',\n",
              "       'availability_365'],\n",
              "      dtype='object')"
            ]
          },
          "metadata": {
            "tags": []
          },
          "execution_count": 39
        }
      ]
    },
    {
      "cell_type": "code",
      "metadata": {
        "colab": {
          "base_uri": "https://localhost:8080/"
        },
        "id": "lWLmbf134U6C",
        "outputId": "89b88c6d-79f7-48cf-b823-5144320e6932"
      },
      "source": [
        "df['room_type']"
      ],
      "execution_count": 77,
      "outputs": [
        {
          "output_type": "execute_result",
          "data": {
            "text/plain": [
              "0           Private room\n",
              "1        Entire home/apt\n",
              "2           Private room\n",
              "3        Entire home/apt\n",
              "4        Entire home/apt\n",
              "              ...       \n",
              "48890       Private room\n",
              "48891       Private room\n",
              "48892    Entire home/apt\n",
              "48893        Shared room\n",
              "48894       Private room\n",
              "Name: room_type, Length: 48895, dtype: object"
            ]
          },
          "metadata": {
            "tags": []
          },
          "execution_count": 77
        }
      ]
    },
    {
      "cell_type": "code",
      "metadata": {
        "colab": {
          "base_uri": "https://localhost:8080/"
        },
        "id": "bb4NSeSxvosS",
        "outputId": "ad18d662-984f-47ba-d35c-3fb7560ebd34"
      },
      "source": [
        "df['room_type'].value_counts()"
      ],
      "execution_count": 40,
      "outputs": [
        {
          "output_type": "execute_result",
          "data": {
            "text/plain": [
              "Entire home/apt    25409\n",
              "Private room       22326\n",
              "Shared room         1160\n",
              "Name: room_type, dtype: int64"
            ]
          },
          "metadata": {
            "tags": []
          },
          "execution_count": 40
        }
      ]
    },
    {
      "cell_type": "markdown",
      "metadata": {
        "id": "zoX47KszvurQ"
      },
      "source": [
        "룸타입은 세종류 이구나."
      ]
    },
    {
      "cell_type": "code",
      "metadata": {
        "colab": {
          "base_uri": "https://localhost:8080/"
        },
        "id": "v3c2ZLzqvs5k",
        "outputId": "6ff618bd-c6d0-414f-b937-cfe3e4b18fa4"
      },
      "source": [
        "#널값을 한번 보도록 하자.\n",
        "df.isna().sum()"
      ],
      "execution_count": 41,
      "outputs": [
        {
          "output_type": "execute_result",
          "data": {
            "text/plain": [
              "id                                    0\n",
              "name                                 16\n",
              "host_id                               0\n",
              "host_name                            21\n",
              "neighbourhood_group                   0\n",
              "neighbourhood                         0\n",
              "latitude                              0\n",
              "longitude                             0\n",
              "room_type                             0\n",
              "price                                 0\n",
              "minimum_nights                        0\n",
              "number_of_reviews                     0\n",
              "last_review                       10052\n",
              "reviews_per_month                 10052\n",
              "calculated_host_listings_count        0\n",
              "availability_365                      0\n",
              "dtype: int64"
            ]
          },
          "metadata": {
            "tags": []
          },
          "execution_count": 41
        }
      ]
    },
    {
      "cell_type": "markdown",
      "metadata": {
        "id": "JIcjrdvwv_nI"
      },
      "source": [
        "라스트리뷰와, 리뷰퍼먼스 값이 같다, 둘이 정말 같은가 보도록 하자"
      ]
    },
    {
      "cell_type": "code",
      "metadata": {
        "colab": {
          "base_uri": "https://localhost:8080/"
        },
        "id": "Cb-NalL3vybl",
        "outputId": "757860d4-75b6-46a6-8901-0ac560406ced"
      },
      "source": [
        "df.columns"
      ],
      "execution_count": 42,
      "outputs": [
        {
          "output_type": "execute_result",
          "data": {
            "text/plain": [
              "Index(['id', 'name', 'host_id', 'host_name', 'neighbourhood_group',\n",
              "       'neighbourhood', 'latitude', 'longitude', 'room_type', 'price',\n",
              "       'minimum_nights', 'number_of_reviews', 'last_review',\n",
              "       'reviews_per_month', 'calculated_host_listings_count',\n",
              "       'availability_365'],\n",
              "      dtype='object')"
            ]
          },
          "metadata": {
            "tags": []
          },
          "execution_count": 42
        }
      ]
    },
    {
      "cell_type": "code",
      "metadata": {
        "colab": {
          "base_uri": "https://localhost:8080/"
        },
        "id": "c-nSHaL7wEp_",
        "outputId": "3269a744-c0b3-4c28-80e8-45469d1ff706"
      },
      "source": [
        "df['reviews_per_month'].isna()"
      ],
      "execution_count": 43,
      "outputs": [
        {
          "output_type": "execute_result",
          "data": {
            "text/plain": [
              "0        False\n",
              "1        False\n",
              "2         True\n",
              "3        False\n",
              "4        False\n",
              "         ...  \n",
              "48890     True\n",
              "48891     True\n",
              "48892     True\n",
              "48893     True\n",
              "48894     True\n",
              "Name: reviews_per_month, Length: 48895, dtype: bool"
            ]
          },
          "metadata": {
            "tags": []
          },
          "execution_count": 43
        }
      ]
    },
    {
      "cell_type": "code",
      "metadata": {
        "colab": {
          "base_uri": "https://localhost:8080/"
        },
        "id": "ZCqwVaG3wJXm",
        "outputId": "1fc83c90-1add-49c9-cb89-b58c4c954e7f"
      },
      "source": [
        "df['last_review'].isna()"
      ],
      "execution_count": 44,
      "outputs": [
        {
          "output_type": "execute_result",
          "data": {
            "text/plain": [
              "0        False\n",
              "1        False\n",
              "2         True\n",
              "3        False\n",
              "4        False\n",
              "         ...  \n",
              "48890     True\n",
              "48891     True\n",
              "48892     True\n",
              "48893     True\n",
              "48894     True\n",
              "Name: last_review, Length: 48895, dtype: bool"
            ]
          },
          "metadata": {
            "tags": []
          },
          "execution_count": 44
        }
      ]
    },
    {
      "cell_type": "markdown",
      "metadata": {
        "id": "7hRstz2UwPf5"
      },
      "source": [
        "둘의 트루값이 같은 위치에 있는지 확인해보자"
      ]
    },
    {
      "cell_type": "code",
      "metadata": {
        "colab": {
          "base_uri": "https://localhost:8080/"
        },
        "id": "PP0LtRw4wNvr",
        "outputId": "abbfe0a5-8e71-4ed4-e0ed-47e221e6b639"
      },
      "source": [
        "(df['reviews_per_month'].isna()&df['last_review'].isna()).sum() #불을 썸하면 투루는 1 펄스는 0"
      ],
      "execution_count": 45,
      "outputs": [
        {
          "output_type": "execute_result",
          "data": {
            "text/plain": [
              "10052"
            ]
          },
          "metadata": {
            "tags": []
          },
          "execution_count": 45
        }
      ]
    },
    {
      "cell_type": "markdown",
      "metadata": {
        "id": "iBbJXndBwd_b"
      },
      "source": [
        "아하 이 둘이 같은 부분에 결측치를 가지는 구나"
      ]
    },
    {
      "cell_type": "code",
      "metadata": {
        "colab": {
          "base_uri": "https://localhost:8080/",
          "height": 282
        },
        "id": "gzUccci1wXxW",
        "outputId": "59fb396c-7734-4d5f-c2a6-5232cd933b26"
      },
      "source": [
        "#숙박이 가능한 일수를 한번 보도록 하자.\n",
        "df['availability_365'].hist(bins=30)\n",
        "#0에 좀 많은거 같다 bins= 를 넣어서 다시 확인해보자.\n",
        "#넣어보니 0에 확실히 많다."
      ],
      "execution_count": 46,
      "outputs": [
        {
          "output_type": "execute_result",
          "data": {
            "text/plain": [
              "<matplotlib.axes._subplots.AxesSubplot at 0x7f2cd5358ed0>"
            ]
          },
          "metadata": {
            "tags": []
          },
          "execution_count": 46
        },
        {
          "output_type": "display_data",
          "data": {
            "image/png": "[encoded data removed]",
            "text/plain": [
              "<Figure size 432x288 with 1 Axes>"
            ]
          },
          "metadata": {
            "tags": [],
            "needs_background": "light"
          }
        }
      ]
    },
    {
      "cell_type": "code",
      "metadata": {
        "colab": {
          "base_uri": "https://localhost:8080/"
        },
        "id": "GWXXS30AwugO",
        "outputId": "63a04607-ac36-462f-bf64-1834c0d15dea"
      },
      "source": [
        "#0인 경우가 트루니 sum을 해주면 0의 갯수가 나올것이다.\n",
        "(df['availability_365'] == 0).sum()\n",
        "\n",
        "#4만8천개중에서 1만7천개의 0이 있네요?\n"
      ],
      "execution_count": 47,
      "outputs": [
        {
          "output_type": "execute_result",
          "data": {
            "text/plain": [
              "17533"
            ]
          },
          "metadata": {
            "tags": []
          },
          "execution_count": 47
        }
      ]
    },
    {
      "cell_type": "markdown",
      "metadata": {
        "id": "VeholfQHxaSq"
      },
      "source": [
        "이제 필요 없는 것들을 제거 해보자."
      ]
    },
    {
      "cell_type": "code",
      "metadata": {
        "colab": {
          "base_uri": "https://localhost:8080/"
        },
        "id": "jc0WbQRgw79_",
        "outputId": "3f83f019-ad52-4a96-d093-9b2eb81c87ac"
      },
      "source": [
        "df.columns"
      ],
      "execution_count": 48,
      "outputs": [
        {
          "output_type": "execute_result",
          "data": {
            "text/plain": [
              "Index(['id', 'name', 'host_id', 'host_name', 'neighbourhood_group',\n",
              "       'neighbourhood', 'latitude', 'longitude', 'room_type', 'price',\n",
              "       'minimum_nights', 'number_of_reviews', 'last_review',\n",
              "       'reviews_per_month', 'calculated_host_listings_count',\n",
              "       'availability_365'],\n",
              "      dtype='object')"
            ]
          },
          "metadata": {
            "tags": []
          },
          "execution_count": 48
        }
      ]
    },
    {
      "cell_type": "code",
      "metadata": {
        "id": "ah5FHh3Cxc3q"
      },
      "source": [
        "#df.drop(,axis=1) 이런식으로 무조건 엑시스 1을 적고 시작해라\n",
        "#df.drop([],axis=1, inplace=True) 기본적 세팅.\n",
        "df.drop(['id','latitude','longitude'],axis=1, inplace=True)\n",
        "#실제로는 raw 데이터를 수정하지 말고 카피해서 사용하자.\n",
        "#raw_df = df.copy()\n"
      ],
      "execution_count": 50,
      "outputs": []
    },
    {
      "cell_type": "code",
      "metadata": {
        "id": "IMmgKtbXx9Bv"
      },
      "source": [
        "df.head()"
      ],
      "execution_count": null,
      "outputs": []
    },
    {
      "cell_type": "code",
      "metadata": {
        "id": "P-WWyGaWx_Am"
      },
      "source": [
        "df.drop(['name'],axis=1, inplace=True)"
      ],
      "execution_count": 51,
      "outputs": []
    },
    {
      "cell_type": "code",
      "metadata": {
        "colab": {
          "base_uri": "https://localhost:8080/",
          "height": 306
        },
        "id": "nIhrZkjdyHJM",
        "outputId": "ee2eeb72-fa89-4f66-c9e5-6f620b96bc7d"
      },
      "source": [
        "df.head()"
      ],
      "execution_count": 52,
      "outputs": [
        {
          "output_type": "execute_result",
          "data": {
            "text/html": [
              "<div>\n",
              "<style scoped>\n",
              "    .dataframe tbody tr th:only-of-type {\n",
              "        vertical-align: middle;\n",
              "    }\n",
              "\n",
              "    .dataframe tbody tr th {\n",
              "        vertical-align: top;\n",
              "    }\n",
              "\n",
              "    .dataframe thead th {\n",
              "        text-align: right;\n",
              "    }\n",
              "</style>\n",
              "<table border=\"1\" class=\"dataframe\">\n",
              "  <thead>\n",
              "    <tr style=\"text-align: right;\">\n",
              "      <th></th>\n",
              "      <th>host_id</th>\n",
              "      <th>host_name</th>\n",
              "      <th>neighbourhood_group</th>\n",
              "      <th>neighbourhood</th>\n",
              "      <th>room_type</th>\n",
              "      <th>price</th>\n",
              "      <th>minimum_nights</th>\n",
              "      <th>number_of_reviews</th>\n",
              "      <th>last_review</th>\n",
              "      <th>reviews_per_month</th>\n",
              "      <th>calculated_host_listings_count</th>\n",
              "      <th>availability_365</th>\n",
              "    </tr>\n",
              "  </thead>\n",
              "  <tbody>\n",
              "    <tr>\n",
              "      <th>0</th>\n",
              "      <td>2787</td>\n",
              "      <td>John</td>\n",
              "      <td>Brooklyn</td>\n",
              "      <td>Kensington</td>\n",
              "      <td>Private room</td>\n",
              "      <td>149</td>\n",
              "      <td>1</td>\n",
              "      <td>9</td>\n",
              "      <td>2018-10-19</td>\n",
              "      <td>0.21</td>\n",
              "      <td>6</td>\n",
              "      <td>365</td>\n",
              "    </tr>\n",
              "    <tr>\n",
              "      <th>1</th>\n",
              "      <td>2845</td>\n",
              "      <td>Jennifer</td>\n",
              "      <td>Manhattan</td>\n",
              "      <td>Midtown</td>\n",
              "      <td>Entire home/apt</td>\n",
              "      <td>225</td>\n",
              "      <td>1</td>\n",
              "      <td>45</td>\n",
              "      <td>2019-05-21</td>\n",
              "      <td>0.38</td>\n",
              "      <td>2</td>\n",
              "      <td>355</td>\n",
              "    </tr>\n",
              "    <tr>\n",
              "      <th>2</th>\n",
              "      <td>4632</td>\n",
              "      <td>Elisabeth</td>\n",
              "      <td>Manhattan</td>\n",
              "      <td>Harlem</td>\n",
              "      <td>Private room</td>\n",
              "      <td>150</td>\n",
              "      <td>3</td>\n",
              "      <td>0</td>\n",
              "      <td>NaN</td>\n",
              "      <td>NaN</td>\n",
              "      <td>1</td>\n",
              "      <td>365</td>\n",
              "    </tr>\n",
              "    <tr>\n",
              "      <th>3</th>\n",
              "      <td>4869</td>\n",
              "      <td>LisaRoxanne</td>\n",
              "      <td>Brooklyn</td>\n",
              "      <td>Clinton Hill</td>\n",
              "      <td>Entire home/apt</td>\n",
              "      <td>89</td>\n",
              "      <td>1</td>\n",
              "      <td>270</td>\n",
              "      <td>2019-07-05</td>\n",
              "      <td>4.64</td>\n",
              "      <td>1</td>\n",
              "      <td>194</td>\n",
              "    </tr>\n",
              "    <tr>\n",
              "      <th>4</th>\n",
              "      <td>7192</td>\n",
              "      <td>Laura</td>\n",
              "      <td>Manhattan</td>\n",
              "      <td>East Harlem</td>\n",
              "      <td>Entire home/apt</td>\n",
              "      <td>80</td>\n",
              "      <td>10</td>\n",
              "      <td>9</td>\n",
              "      <td>2018-11-19</td>\n",
              "      <td>0.10</td>\n",
              "      <td>1</td>\n",
              "      <td>0</td>\n",
              "    </tr>\n",
              "  </tbody>\n",
              "</table>\n",
              "</div>"
            ],
            "text/plain": [
              "   host_id    host_name  ... calculated_host_listings_count availability_365\n",
              "0     2787         John  ...                              6              365\n",
              "1     2845     Jennifer  ...                              2              355\n",
              "2     4632    Elisabeth  ...                              1              365\n",
              "3     4869  LisaRoxanne  ...                              1              194\n",
              "4     7192        Laura  ...                              1                0\n",
              "\n",
              "[5 rows x 12 columns]"
            ]
          },
          "metadata": {
            "tags": []
          },
          "execution_count": 52
        }
      ]
    },
    {
      "cell_type": "markdown",
      "metadata": {
        "id": "7oKIWhSUyO1g"
      },
      "source": [
        "X값과 Y값의 상관성을 보자.\n",
        "\n",
        "전처리를 안했지만 그래도 해보는게 좋다.\n",
        "\n",
        "전처리보다 중요한게 도메인 지식이다. \n",
        "\n",
        "    모르는것은 모두 구글링으로 해결하자.\n",
        "    기술발전이 너무 빨라서, 명령어 같은것들을 머리에 집어 넣는것들은 비효율적이고,\n",
        "    중요한 개념들만 공부를 하고, 블로그 보다는\n",
        "    공식문서가 더 좋다."
      ]
    },
    {
      "cell_type": "code",
      "metadata": {
        "colab": {
          "base_uri": "https://localhost:8080/"
        },
        "id": "B-PbKdO4yHpo",
        "outputId": "50dde6c4-f8c0-44a2-cf70-857808fecb10"
      },
      "source": [
        "df.columns"
      ],
      "execution_count": 53,
      "outputs": [
        {
          "output_type": "execute_result",
          "data": {
            "text/plain": [
              "Index(['host_id', 'host_name', 'neighbourhood_group', 'neighbourhood',\n",
              "       'room_type', 'price', 'minimum_nights', 'number_of_reviews',\n",
              "       'last_review', 'reviews_per_month', 'calculated_host_listings_count',\n",
              "       'availability_365'],\n",
              "      dtype='object')"
            ]
          },
          "metadata": {
            "tags": []
          },
          "execution_count": 53
        }
      ]
    },
    {
      "cell_type": "code",
      "metadata": {
        "colab": {
          "base_uri": "https://localhost:8080/",
          "height": 458
        },
        "id": "bQ2oYI0gy_fz",
        "outputId": "2fa45adb-06d5-4417-a77c-20687713a59e"
      },
      "source": [
        "import seaborn as sns\n",
        "sns.jointplot(x='host_id', y='price', data=df)"
      ],
      "execution_count": 56,
      "outputs": [
        {
          "output_type": "execute_result",
          "data": {
            "text/plain": [
              "<seaborn.axisgrid.JointGrid at 0x7f2ccf779c10>"
            ]
          },
          "metadata": {
            "tags": []
          },
          "execution_count": 56
        },
        {
          "output_type": "display_data",
          "data": {
            "image/png": "[encoded data removed]",
            "text/plain": [
              "<Figure size 432x432 with 3 Axes>"
            ]
          },
          "metadata": {
            "tags": [],
            "needs_background": "light"
          }
        }
      ]
    },
    {
      "cell_type": "code",
      "metadata": {
        "colab": {
          "base_uri": "https://localhost:8080/",
          "height": 458
        },
        "id": "jHbjq8vZzHN3",
        "outputId": "7c6cff12-462d-4778-b742-60dccd5d5cfa"
      },
      "source": [
        "sns.jointplot(x='host_id', y='price', data=df, kind='hex') #중복되는걸 강조하는 kind='hex"
      ],
      "execution_count": 60,
      "outputs": [
        {
          "output_type": "execute_result",
          "data": {
            "text/plain": [
              "<seaborn.axisgrid.JointGrid at 0x7f2cb26b2590>"
            ]
          },
          "metadata": {
            "tags": []
          },
          "execution_count": 60
        },
        {
          "output_type": "display_data",
          "data": {
            "image/png": "[encoded data removed]",
            "text/plain": [
              "<Figure size 432x432 with 3 Axes>"
            ]
          },
          "metadata": {
            "tags": [],
            "needs_background": "light"
          }
        }
      ]
    },
    {
      "cell_type": "markdown",
      "metadata": {
        "id": "uEesM-NVzdGI"
      },
      "source": [
        "지금 우리는 수치형 끼리 확인해 보고 있다 "
      ]
    },
    {
      "cell_type": "code",
      "metadata": {
        "colab": {
          "base_uri": "https://localhost:8080/",
          "height": 458
        },
        "id": "t4EF0JQuzR3c",
        "outputId": "764c34f1-876b-41ff-d3a2-fb014a9e61bf"
      },
      "source": [
        "sns.jointplot(x='reviews_per_month', y='price', data=df)"
      ],
      "execution_count": 59,
      "outputs": [
        {
          "output_type": "execute_result",
          "data": {
            "text/plain": [
              "<seaborn.axisgrid.JointGrid at 0x7f2cb54f3ed0>"
            ]
          },
          "metadata": {
            "tags": []
          },
          "execution_count": 59
        },
        {
          "output_type": "display_data",
          "data": {
            "image/png": "[encoded data removed]",
            "text/plain": [
              "<Figure size 432x432 with 3 Axes>"
            ]
          },
          "metadata": {
            "tags": [],
            "needs_background": "light"
          }
        }
      ]
    },
    {
      "cell_type": "markdown",
      "metadata": {
        "id": "B1w6a_4yzxph"
      },
      "source": [
        "이상치는 잘라야 겠구나."
      ]
    },
    {
      "cell_type": "code",
      "metadata": {
        "colab": {
          "base_uri": "https://localhost:8080/"
        },
        "id": "5FLzPJDgz5WI",
        "outputId": "8ee2aadf-74d1-41fb-f883-284c080a61b0"
      },
      "source": [
        "df.columns"
      ],
      "execution_count": 61,
      "outputs": [
        {
          "output_type": "execute_result",
          "data": {
            "text/plain": [
              "Index(['host_id', 'host_name', 'neighbourhood_group', 'neighbourhood',\n",
              "       'room_type', 'price', 'minimum_nights', 'number_of_reviews',\n",
              "       'last_review', 'reviews_per_month', 'calculated_host_listings_count',\n",
              "       'availability_365'],\n",
              "      dtype='object')"
            ]
          },
          "metadata": {
            "tags": []
          },
          "execution_count": 61
        }
      ]
    },
    {
      "cell_type": "code",
      "metadata": {
        "colab": {
          "base_uri": "https://localhost:8080/",
          "height": 458
        },
        "id": "UJPgOnfHzm-v",
        "outputId": "1f13154a-ffc5-4463-ec0d-c31556f93727"
      },
      "source": [
        "sns.jointplot(x='reviews_per_month', y='price', data=df,kind='hex')"
      ],
      "execution_count": 62,
      "outputs": [
        {
          "output_type": "execute_result",
          "data": {
            "text/plain": [
              "<seaborn.axisgrid.JointGrid at 0x7f2cb1face50>"
            ]
          },
          "metadata": {
            "tags": []
          },
          "execution_count": 62
        },
        {
          "output_type": "display_data",
          "data": {
            "image/png": "[encoded data removed]",
            "text/plain": [
              "<Figure size 432x432 with 3 Axes>"
            ]
          },
          "metadata": {
            "tags": [],
            "needs_background": "light"
          }
        }
      ]
    },
    {
      "cell_type": "markdown",
      "metadata": {
        "id": "sEF2UhRXz_1_"
      },
      "source": [
        "이상하구나 짜르긴 짤라야 겠구나"
      ]
    },
    {
      "cell_type": "code",
      "metadata": {
        "colab": {
          "base_uri": "https://localhost:8080/",
          "height": 428
        },
        "id": "I2l48G-Qz-Ly",
        "outputId": "4f760b78-c3d5-4baa-fe6d-fe131638eb30"
      },
      "source": [
        "sns.heatmap(df.corr(), annot=True, cmap='YlOrRd')"
      ],
      "execution_count": 63,
      "outputs": [
        {
          "output_type": "execute_result",
          "data": {
            "text/plain": [
              "<matplotlib.axes._subplots.AxesSubplot at 0x7f2cb081df90>"
            ]
          },
          "metadata": {
            "tags": []
          },
          "execution_count": 63
        },
        {
          "output_type": "display_data",
          "data": {
            "image/png": "[encoded data removed]",
            "text/plain": [
              "<Figure size 432x288 with 2 Axes>"
            ]
          },
          "metadata": {
            "tags": [],
            "needs_background": "light"
          }
        }
      ]
    },
    {
      "cell_type": "markdown",
      "metadata": {
        "id": "ONJYCY5z0Rra"
      },
      "source": [
        "반드시 최대한 다양한 방법으로 시도하는것이 좋다.\n",
        "\n",
        "큰틀은 수치형 데이터와 범주형 데이터로 나누고 다시 합쳐서\n",
        "\n",
        "모델링을 한다."
      ]
    },
    {
      "cell_type": "markdown",
      "metadata": {
        "id": "SYCPn3uX0ngJ"
      },
      "source": [
        "범주형 데이터도 한번 간단하게 확인을 해보자"
      ]
    },
    {
      "cell_type": "code",
      "metadata": {
        "colab": {
          "base_uri": "https://localhost:8080/"
        },
        "id": "G4s1ifm30Lkx",
        "outputId": "87b01271-ffa5-4dfa-c1f9-8d41ed55cf99"
      },
      "source": [
        "df.columns"
      ],
      "execution_count": 64,
      "outputs": [
        {
          "output_type": "execute_result",
          "data": {
            "text/plain": [
              "Index(['host_id', 'host_name', 'neighbourhood_group', 'neighbourhood',\n",
              "       'room_type', 'price', 'minimum_nights', 'number_of_reviews',\n",
              "       'last_review', 'reviews_per_month', 'calculated_host_listings_count',\n",
              "       'availability_365'],\n",
              "      dtype='object')"
            ]
          },
          "metadata": {
            "tags": []
          },
          "execution_count": 64
        }
      ]
    },
    {
      "cell_type": "code",
      "metadata": {
        "colab": {
          "base_uri": "https://localhost:8080/",
          "height": 297
        },
        "id": "vsHtzMjY0q0T",
        "outputId": "d764307d-6e8e-424b-8519-2e642cb25f07"
      },
      "source": [
        "sns.boxplot(x='neighbourhood_group', y='price', data=df)"
      ],
      "execution_count": 65,
      "outputs": [
        {
          "output_type": "execute_result",
          "data": {
            "text/plain": [
              "<matplotlib.axes._subplots.AxesSubplot at 0x7f2caf361250>"
            ]
          },
          "metadata": {
            "tags": []
          },
          "execution_count": 65
        },
        {
          "output_type": "display_data",
          "data": {
            "image/png": "[encoded data removed]",
            "text/plain": [
              "<Figure size 432x288 with 1 Axes>"
            ]
          },
          "metadata": {
            "tags": [],
            "needs_background": "light"
          }
        }
      ]
    },
    {
      "cell_type": "markdown",
      "metadata": {
        "id": "d99egPpd05-n"
      },
      "source": [
        "가격이 계속 이상하게 나온다.\n",
        "\n",
        "지금은 분류가 아니라 회귀이기 때문에\n",
        "\n",
        "y축에 수치형을 두었다.\n",
        "\n",
        "우리가 하는 문제에 따라 y축에 수치형 데이터를 넣는지, 범주형을 넣는지."
      ]
    },
    {
      "cell_type": "code",
      "metadata": {
        "colab": {
          "base_uri": "https://localhost:8080/"
        },
        "id": "BFeOFCU80ye3",
        "outputId": "c14eb5dd-2ef7-4f56-dc50-59f783ca082b"
      },
      "source": [
        "df['neighbourhood_group'].value_counts()"
      ],
      "execution_count": 66,
      "outputs": [
        {
          "output_type": "execute_result",
          "data": {
            "text/plain": [
              "Manhattan        21661\n",
              "Brooklyn         20104\n",
              "Queens            5666\n",
              "Bronx             1091\n",
              "Staten Island      373\n",
              "Name: neighbourhood_group, dtype: int64"
            ]
          },
          "metadata": {
            "tags": []
          },
          "execution_count": 66
        }
      ]
    },
    {
      "cell_type": "code",
      "metadata": {
        "colab": {
          "base_uri": "https://localhost:8080/"
        },
        "id": "W1t1bdgU192A",
        "outputId": "f95f534e-4075-44f3-99d6-d6e7042e3887"
      },
      "source": [
        "len(df['neighbourhood'].value_counts())"
      ],
      "execution_count": 67,
      "outputs": [
        {
          "output_type": "execute_result",
          "data": {
            "text/plain": [
              "221"
            ]
          },
          "metadata": {
            "tags": []
          },
          "execution_count": 67
        }
      ]
    },
    {
      "cell_type": "code",
      "metadata": {
        "colab": {
          "base_uri": "https://localhost:8080/"
        },
        "id": "4-gp8xN62Dru",
        "outputId": "a8c2f41c-c64a-4ba6-b0b7-5bd150293c0f"
      },
      "source": [
        "df['neighbourhood'].value_counts()"
      ],
      "execution_count": 68,
      "outputs": [
        {
          "output_type": "execute_result",
          "data": {
            "text/plain": [
              "Williamsburg          3920\n",
              "Bedford-Stuyvesant    3714\n",
              "Harlem                2658\n",
              "Bushwick              2465\n",
              "Upper West Side       1971\n",
              "                      ... \n",
              "Woodrow                  1\n",
              "Fort Wadsworth           1\n",
              "Richmondtown             1\n",
              "Rossville                1\n",
              "Willowbrook              1\n",
              "Name: neighbourhood, Length: 221, dtype: int64"
            ]
          },
          "metadata": {
            "tags": []
          },
          "execution_count": 68
        }
      ]
    },
    {
      "cell_type": "markdown",
      "metadata": {
        "id": "vkWIoSKl43tI"
      },
      "source": [
        "1이 많이 나오네? 뭐지?"
      ]
    },
    {
      "cell_type": "code",
      "metadata": {
        "colab": {
          "base_uri": "https://localhost:8080/",
          "height": 282
        },
        "id": "raYtjueX2FoN",
        "outputId": "c18b15c2-7f41-4654-a23b-7f4f6efab798"
      },
      "source": [
        "import matplotlib.pyplot as plt\n",
        "\n",
        "neigh = df['neighbourhood'].value_counts()\n",
        "plt.plot(range(221), neigh)"
      ],
      "execution_count": 74,
      "outputs": [
        {
          "output_type": "execute_result",
          "data": {
            "text/plain": [
              "[<matplotlib.lines.Line2D at 0x7f2caea0a9d0>]"
            ]
          },
          "metadata": {
            "tags": []
          },
          "execution_count": 74
        },
        {
          "output_type": "display_data",
          "data": {
            "image/png": "[encoded data removed]",
            "text/plain": [
              "<Figure size 432x288 with 1 Axes>"
            ]
          },
          "metadata": {
            "tags": [],
            "needs_background": "light"
          }
        }
      ]
    },
    {
      "cell_type": "markdown",
      "metadata": {
        "id": "9TfKrL6o2-aA"
      },
      "source": [
        "기준은 임의 \n",
        "\n",
        "50까지는 그냥 쓰고 뒤에는 하나로 합쳐서 새로 만들어주자."
      ]
    },
    {
      "cell_type": "code",
      "metadata": {
        "id": "on88YaZg2U30"
      },
      "source": [
        "df['neighbourhood'] = df['neighbourhood'].apply(lambda s: s if str(s) not in neigh[50:] else 'others')"
      ],
      "execution_count": 75,
      "outputs": []
    },
    {
      "cell_type": "markdown",
      "metadata": {
        "id": "Uvpy4BMo3YlI"
      },
      "source": [
        "코드를 대충 구현하고, \n",
        "\n",
        "그 이후에 수정을 해주는 것이다.\n",
        "\n",
        "알고리즘을 배우는 이유도또한 \n",
        "\n",
        "코드를 돌려보고 빠르게 재구성 하기 위함."
      ]
    },
    {
      "cell_type": "markdown",
      "metadata": {
        "id": "8ARLPtsv3lIY"
      },
      "source": [
        "코딩테스트는 그 산업에 맞는 문제가 나오게 된다."
      ]
    },
    {
      "cell_type": "code",
      "metadata": {
        "colab": {
          "base_uri": "https://localhost:8080/"
        },
        "id": "V__2foaD8V1W",
        "outputId": "66d64a51-b846-4c3f-d79e-f92088d6328e"
      },
      "source": [
        "neigh[50:]"
      ],
      "execution_count": 79,
      "outputs": [
        {
          "output_type": "execute_result",
          "data": {
            "text/plain": [
              "Tribeca            177\n",
              "Boerum Hill        177\n",
              "Kensington         175\n",
              "Sheepshead Bay     164\n",
              "Windsor Terrace    157\n",
              "                  ... \n",
              "Woodrow              1\n",
              "Fort Wadsworth       1\n",
              "Richmondtown         1\n",
              "Rossville            1\n",
              "Willowbrook          1\n",
              "Name: neighbourhood, Length: 171, dtype: int64"
            ]
          },
          "metadata": {
            "tags": []
          },
          "execution_count": 79
        }
      ]
    },
    {
      "cell_type": "markdown",
      "metadata": {
        "id": "p_DXOA5G8aJ4"
      },
      "source": [
        "50 안에도 1이 있지만 그냥 쓰자."
      ]
    },
    {
      "cell_type": "markdown",
      "metadata": {
        "id": "6JaShstF8Bgh"
      },
      "source": [
        "    lambda s: s if str(s) not in neigh[50:] else 'others'\n",
        "    \n",
        "    이 코드는 \n",
        "    if str(s) not in neigh[50:]:\n",
        "      s=s\n",
        "    else:\n",
        "      'others'\n"
      ]
    },
    {
      "cell_type": "code",
      "metadata": {
        "colab": {
          "base_uri": "https://localhost:8080/"
        },
        "id": "ugBryjYi3hlt",
        "outputId": "c9a8e58b-f922-4ce4-f5c3-52aaef029736"
      },
      "source": [
        "df['neighbourhood']"
      ],
      "execution_count": 76,
      "outputs": [
        {
          "output_type": "execute_result",
          "data": {
            "text/plain": [
              "0                    others\n",
              "1                   Midtown\n",
              "2                    Harlem\n",
              "3              Clinton Hill\n",
              "4               East Harlem\n",
              "                ...        \n",
              "48890    Bedford-Stuyvesant\n",
              "48891              Bushwick\n",
              "48892                Harlem\n",
              "48893        Hell's Kitchen\n",
              "48894        Hell's Kitchen\n",
              "Name: neighbourhood, Length: 48895, dtype: object"
            ]
          },
          "metadata": {
            "tags": []
          },
          "execution_count": 76
        }
      ]
    },
    {
      "cell_type": "code",
      "metadata": {
        "colab": {
          "base_uri": "https://localhost:8080/"
        },
        "id": "IaC27HE-4EOa",
        "outputId": "d0ce82c8-b2fb-4427-be5c-2121e1bf7582"
      },
      "source": [
        "df['neighbourhood'].value_counts()"
      ],
      "execution_count": 78,
      "outputs": [
        {
          "output_type": "execute_result",
          "data": {
            "text/plain": [
              "others                       6248\n",
              "Williamsburg                 3920\n",
              "Bedford-Stuyvesant           3714\n",
              "Harlem                       2658\n",
              "Bushwick                     2465\n",
              "Upper West Side              1971\n",
              "Hell's Kitchen               1958\n",
              "East Village                 1853\n",
              "Upper East Side              1798\n",
              "Crown Heights                1564\n",
              "Midtown                      1545\n",
              "East Harlem                  1117\n",
              "Greenpoint                   1115\n",
              "Chelsea                      1113\n",
              "Lower East Side               911\n",
              "Astoria                       900\n",
              "Washington Heights            899\n",
              "West Village                  768\n",
              "Financial District            744\n",
              "Flatbush                      621\n",
              "Clinton Hill                  572\n",
              "Long Island City              537\n",
              "Prospect-Lefferts Gardens     535\n",
              "Park Slope                    506\n",
              "East Flatbush                 500\n",
              "Fort Greene                   489\n",
              "Murray Hill                   485\n",
              "Kips Bay                      470\n",
              "Flushing                      426\n",
              "Ridgewood                     423\n",
              "Greenwich Village             392\n",
              "Sunset Park                   390\n",
              "Chinatown                     368\n",
              "Sunnyside                     363\n",
              "SoHo                          358\n",
              "Prospect Heights              357\n",
              "Morningside Heights           346\n",
              "Gramercy                      338\n",
              "Ditmars Steinway              309\n",
              "Theater District              288\n",
              "South Slope                   284\n",
              "Nolita                        253\n",
              "Inwood                        252\n",
              "Gowanus                       247\n",
              "Elmhurst                      237\n",
              "Woodside                      235\n",
              "Carroll Gardens               233\n",
              "Jamaica                       231\n",
              "East New York                 218\n",
              "Jackson Heights               186\n",
              "East Elmhurst                 185\n",
              "Name: neighbourhood, dtype: int64"
            ]
          },
          "metadata": {
            "tags": []
          },
          "execution_count": 78
        }
      ]
    },
    {
      "cell_type": "markdown",
      "metadata": {
        "id": "peCV22Bc8q96"
      },
      "source": [
        "50 이후에 1값들은 다 'others'로 바꿨다."
      ]
    },
    {
      "cell_type": "code",
      "metadata": {
        "colab": {
          "base_uri": "https://localhost:8080/",
          "height": 297
        },
        "id": "ftDU4g145JSK",
        "outputId": "a3aed446-e1de-4379-f7b8-613061336311"
      },
      "source": [
        "sns.rugplot(x='price', data=df,height=1)"
      ],
      "execution_count": 82,
      "outputs": [
        {
          "output_type": "execute_result",
          "data": {
            "text/plain": [
              "<matplotlib.axes._subplots.AxesSubplot at 0x7f2cace89910>"
            ]
          },
          "metadata": {
            "tags": []
          },
          "execution_count": 82
        },
        {
          "output_type": "display_data",
          "data": {
            "image/png": "[encoded data removed]",
            "text/plain": [
              "<Figure size 432x288 with 1 Axes>"
            ]
          },
          "metadata": {
            "tags": [],
            "needs_background": "light"
          }
        }
      ]
    },
    {
      "cell_type": "markdown",
      "metadata": {
        "id": "xagI1qcY9Bp1"
      },
      "source": [
        "눈으로 확인해서 자르기에는 조금 애매하다.\n",
        "\n",
        "퍼센티지로 확인해보자"
      ]
    },
    {
      "cell_type": "code",
      "metadata": {
        "colab": {
          "base_uri": "https://localhost:8080/"
        },
        "id": "keq3aWEj852m",
        "outputId": "97ff4d57-7cdf-46df-a3c7-ed171db2cb26"
      },
      "source": [
        "df['price'].quantile(0.99)"
      ],
      "execution_count": 83,
      "outputs": [
        {
          "output_type": "execute_result",
          "data": {
            "text/plain": [
              "799.0"
            ]
          },
          "metadata": {
            "tags": []
          },
          "execution_count": 83
        }
      ]
    },
    {
      "cell_type": "markdown",
      "metadata": {
        "id": "bis-grFZ9M3n"
      },
      "source": [
        "이 말은 상위 99프로에 있는 price를 찍어줘.\n",
        "\n",
        "800이면 그림상에서 왼쪽인데.\n",
        "\n",
        "99프로의 값이 몰려있다.\n",
        "\n",
        "이 몰려있는 값들은 1프로 정도이다.\n",
        "\n",
        "얘를 지우고 하는게 더 나을수 있을거라고 생각을 한다."
      ]
    },
    {
      "cell_type": "code",
      "metadata": {
        "colab": {
          "base_uri": "https://localhost:8080/"
        },
        "id": "wFtU3G6h9LjY",
        "outputId": "24763bdc-e537-4d5b-dad6-365452dc4e80"
      },
      "source": [
        "print(df['price'].quantile(0.95))\n",
        "print(df['price'].quantile(0.005))"
      ],
      "execution_count": 86,
      "outputs": [
        {
          "output_type": "stream",
          "text": [
            "355.0\n",
            "26.0\n"
          ],
          "name": "stdout"
        }
      ]
    },
    {
      "cell_type": "markdown",
      "metadata": {
        "id": "bHFUATnK-IiQ"
      },
      "source": [
        "프라이스도 잘라내고, 다른값들도 확인을 하고 잘라낼수있다."
      ]
    },
    {
      "cell_type": "code",
      "metadata": {
        "id": "cAkNfDAJ9kXh"
      },
      "source": [
        "h_price = df['price'].quantile(0.95)\n",
        "l_price = df['price'].quantile(0.005)"
      ],
      "execution_count": 87,
      "outputs": []
    },
    {
      "cell_type": "code",
      "metadata": {
        "colab": {
          "base_uri": "https://localhost:8080/"
        },
        "id": "oEB_w-16-bwl",
        "outputId": "e0daf284-8787-4444-e719-a90a839134d3"
      },
      "source": [
        "df['price'] < h_price"
      ],
      "execution_count": 88,
      "outputs": [
        {
          "output_type": "execute_result",
          "data": {
            "text/plain": [
              "0        True\n",
              "1        True\n",
              "2        True\n",
              "3        True\n",
              "4        True\n",
              "         ... \n",
              "48890    True\n",
              "48891    True\n",
              "48892    True\n",
              "48893    True\n",
              "48894    True\n",
              "Name: price, Length: 48895, dtype: bool"
            ]
          },
          "metadata": {
            "tags": []
          },
          "execution_count": 88
        }
      ]
    },
    {
      "cell_type": "code",
      "metadata": {
        "colab": {
          "base_uri": "https://localhost:8080/"
        },
        "id": "EmpQFjtR-jSf",
        "outputId": "3643871f-ea9d-494a-fa99-72ae96fc5e77"
      },
      "source": [
        "df['price']> l_price"
      ],
      "execution_count": 89,
      "outputs": [
        {
          "output_type": "execute_result",
          "data": {
            "text/plain": [
              "0        True\n",
              "1        True\n",
              "2        True\n",
              "3        True\n",
              "4        True\n",
              "         ... \n",
              "48890    True\n",
              "48891    True\n",
              "48892    True\n",
              "48893    True\n",
              "48894    True\n",
              "Name: price, Length: 48895, dtype: bool"
            ]
          },
          "metadata": {
            "tags": []
          },
          "execution_count": 89
        }
      ]
    },
    {
      "cell_type": "code",
      "metadata": {
        "id": "MIHwKlyB-t-R"
      },
      "source": [
        "df= df[(df['price'] < h_price) & (df['price'] > l_price )]"
      ],
      "execution_count": 98,
      "outputs": []
    },
    {
      "cell_type": "code",
      "metadata": {
        "colab": {
          "base_uri": "https://localhost:8080/",
          "height": 282
        },
        "id": "SsP5hNlS-5KS",
        "outputId": "33f42bb0-d343-4d30-8427-5923ef191826"
      },
      "source": [
        "df['price'].hist()"
      ],
      "execution_count": 99,
      "outputs": [
        {
          "output_type": "execute_result",
          "data": {
            "text/plain": [
              "<matplotlib.axes._subplots.AxesSubplot at 0x7f2cab3298d0>"
            ]
          },
          "metadata": {
            "tags": []
          },
          "execution_count": 99
        },
        {
          "output_type": "display_data",
          "data": {
            "image/png": "[encoded data removed]",
            "text/plain": [
              "<Figure size 432x288 with 1 Axes>"
            ]
          },
          "metadata": {
            "tags": [],
            "needs_background": "light"
          }
        }
      ]
    },
    {
      "cell_type": "code",
      "metadata": {
        "colab": {
          "base_uri": "https://localhost:8080/"
        },
        "id": "9VcI3zfO_IhE",
        "outputId": "8897f7bb-becc-418b-bb06-dfb2d7708206"
      },
      "source": [
        "df.columns"
      ],
      "execution_count": 100,
      "outputs": [
        {
          "output_type": "execute_result",
          "data": {
            "text/plain": [
              "Index(['host_id', 'host_name', 'neighbourhood_group', 'neighbourhood',\n",
              "       'room_type', 'price', 'minimum_nights', 'number_of_reviews',\n",
              "       'last_review', 'reviews_per_month', 'calculated_host_listings_count',\n",
              "       'availability_365'],\n",
              "      dtype='object')"
            ]
          },
          "metadata": {
            "tags": []
          },
          "execution_count": 100
        }
      ]
    },
    {
      "cell_type": "code",
      "metadata": {
        "colab": {
          "base_uri": "https://localhost:8080/"
        },
        "id": "KuGcZpFU_fuW",
        "outputId": "e5d8bee9-6981-42df-f28d-4eae0abf4f01"
      },
      "source": [
        "df['review_exists']=df['reviews_per_month'].isna().apply(lambda x: 'No' if x == True else 'Yes')"
      ],
      "execution_count": 101,
      "outputs": [
        {
          "output_type": "stream",
          "text": [
            "/usr/local/lib/python3.7/dist-packages/ipykernel_launcher.py:1: SettingWithCopyWarning: \n",
            "A value is trying to be set on a copy of a slice from a DataFrame.\n",
            "Try using .loc[row_indexer,col_indexer] = value instead\n",
            "\n",
            "See the caveats in the documentation: https://pandas.pydata.org/pandas-docs/stable/user_guide/indexing.html#returning-a-view-versus-a-copy\n",
            "  \"\"\"Entry point for launching an IPython kernel.\n"
          ],
          "name": "stderr"
        }
      ]
    },
    {
      "cell_type": "markdown",
      "metadata": {
        "id": "P8Kd6ZtWAB-H"
      },
      "source": [
        "isna 는 널값일 경우 투르이고, 여기에 어플라이를 적용.\n",
        "\n",
        "x가 트루라면 'No' 로 바꿔주고, 아니라면 'Yes'로 바꿔주세요."
      ]
    },
    {
      "cell_type": "code",
      "metadata": {
        "colab": {
          "base_uri": "https://localhost:8080/"
        },
        "id": "aUoncpU1_yvZ",
        "outputId": "ddd33a99-017e-4485-84b8-04d988eb7899"
      },
      "source": [
        "df.drop(['host_name', 'last_review', 'reviews_per_month'], axis=1, inplace=True)"
      ],
      "execution_count": 102,
      "outputs": [
        {
          "output_type": "stream",
          "text": [
            "/usr/local/lib/python3.7/dist-packages/pandas/core/frame.py:4174: SettingWithCopyWarning: \n",
            "A value is trying to be set on a copy of a slice from a DataFrame\n",
            "\n",
            "See the caveats in the documentation: https://pandas.pydata.org/pandas-docs/stable/user_guide/indexing.html#returning-a-view-versus-a-copy\n",
            "  errors=errors,\n"
          ],
          "name": "stderr"
        }
      ]
    },
    {
      "cell_type": "code",
      "metadata": {
        "colab": {
          "base_uri": "https://localhost:8080/"
        },
        "id": "ZXVYOBHfAb1O",
        "outputId": "57eed81a-904b-4b66-9020-ecf9279248a5"
      },
      "source": [
        "df.columns"
      ],
      "execution_count": 103,
      "outputs": [
        {
          "output_type": "execute_result",
          "data": {
            "text/plain": [
              "Index(['host_id', 'neighbourhood_group', 'neighbourhood', 'room_type', 'price',\n",
              "       'minimum_nights', 'number_of_reviews', 'calculated_host_listings_count',\n",
              "       'availability_365', 'review_exists'],\n",
              "      dtype='object')"
            ]
          },
          "metadata": {
            "tags": []
          },
          "execution_count": 103
        }
      ]
    },
    {
      "cell_type": "code",
      "metadata": {
        "id": "XfRiMTR_AdHC"
      },
      "source": [
        "X_cat = df[['neighbourhood_group','neighbourhood', 'room_type','review_exists' ]]#cat는 category"
      ],
      "execution_count": 104,
      "outputs": []
    },
    {
      "cell_type": "code",
      "metadata": {
        "colab": {
          "base_uri": "https://localhost:8080/",
          "height": 202
        },
        "id": "U3FaizCMAt0t",
        "outputId": "254d4c60-ea48-40f6-a732-5b986c741a2d"
      },
      "source": [
        "X_cat.head()"
      ],
      "execution_count": 105,
      "outputs": [
        {
          "output_type": "execute_result",
          "data": {
            "text/html": [
              "<div>\n",
              "<style scoped>\n",
              "    .dataframe tbody tr th:only-of-type {\n",
              "        vertical-align: middle;\n",
              "    }\n",
              "\n",
              "    .dataframe tbody tr th {\n",
              "        vertical-align: top;\n",
              "    }\n",
              "\n",
              "    .dataframe thead th {\n",
              "        text-align: right;\n",
              "    }\n",
              "</style>\n",
              "<table border=\"1\" class=\"dataframe\">\n",
              "  <thead>\n",
              "    <tr style=\"text-align: right;\">\n",
              "      <th></th>\n",
              "      <th>neighbourhood_group</th>\n",
              "      <th>neighbourhood</th>\n",
              "      <th>room_type</th>\n",
              "      <th>review_exists</th>\n",
              "    </tr>\n",
              "  </thead>\n",
              "  <tbody>\n",
              "    <tr>\n",
              "      <th>0</th>\n",
              "      <td>Brooklyn</td>\n",
              "      <td>others</td>\n",
              "      <td>Private room</td>\n",
              "      <td>Yes</td>\n",
              "    </tr>\n",
              "    <tr>\n",
              "      <th>1</th>\n",
              "      <td>Manhattan</td>\n",
              "      <td>Midtown</td>\n",
              "      <td>Entire home/apt</td>\n",
              "      <td>Yes</td>\n",
              "    </tr>\n",
              "    <tr>\n",
              "      <th>2</th>\n",
              "      <td>Manhattan</td>\n",
              "      <td>Harlem</td>\n",
              "      <td>Private room</td>\n",
              "      <td>No</td>\n",
              "    </tr>\n",
              "    <tr>\n",
              "      <th>3</th>\n",
              "      <td>Brooklyn</td>\n",
              "      <td>Clinton Hill</td>\n",
              "      <td>Entire home/apt</td>\n",
              "      <td>Yes</td>\n",
              "    </tr>\n",
              "    <tr>\n",
              "      <th>4</th>\n",
              "      <td>Manhattan</td>\n",
              "      <td>East Harlem</td>\n",
              "      <td>Entire home/apt</td>\n",
              "      <td>Yes</td>\n",
              "    </tr>\n",
              "  </tbody>\n",
              "</table>\n",
              "</div>"
            ],
            "text/plain": [
              "  neighbourhood_group neighbourhood        room_type review_exists\n",
              "0            Brooklyn        others     Private room           Yes\n",
              "1           Manhattan       Midtown  Entire home/apt           Yes\n",
              "2           Manhattan        Harlem     Private room            No\n",
              "3            Brooklyn  Clinton Hill  Entire home/apt           Yes\n",
              "4           Manhattan   East Harlem  Entire home/apt           Yes"
            ]
          },
          "metadata": {
            "tags": []
          },
          "execution_count": 105
        }
      ]
    },
    {
      "cell_type": "markdown",
      "metadata": {
        "id": "0E0f2y18AxSe"
      },
      "source": [
        "이 값 자체를 원핫인코딩."
      ]
    },
    {
      "cell_type": "code",
      "metadata": {
        "colab": {
          "base_uri": "https://localhost:8080/",
          "height": 239
        },
        "id": "dfXGb1mYAwSN",
        "outputId": "d6da23a5-c997-46f4-8f74-6b0f0e821459"
      },
      "source": [
        "X_cat = pd.get_dummies(X_cat) #범주형 데이터\n",
        "X_cat.head()"
      ],
      "execution_count": 108,
      "outputs": [
        {
          "output_type": "execute_result",
          "data": {
            "text/html": [
              "<div>\n",
              "<style scoped>\n",
              "    .dataframe tbody tr th:only-of-type {\n",
              "        vertical-align: middle;\n",
              "    }\n",
              "\n",
              "    .dataframe tbody tr th {\n",
              "        vertical-align: top;\n",
              "    }\n",
              "\n",
              "    .dataframe thead th {\n",
              "        text-align: right;\n",
              "    }\n",
              "</style>\n",
              "<table border=\"1\" class=\"dataframe\">\n",
              "  <thead>\n",
              "    <tr style=\"text-align: right;\">\n",
              "      <th></th>\n",
              "      <th>neighbourhood_group_Bronx</th>\n",
              "      <th>neighbourhood_group_Brooklyn</th>\n",
              "      <th>neighbourhood_group_Manhattan</th>\n",
              "      <th>neighbourhood_group_Queens</th>\n",
              "      <th>neighbourhood_group_Staten Island</th>\n",
              "      <th>neighbourhood_Astoria</th>\n",
              "      <th>neighbourhood_Bedford-Stuyvesant</th>\n",
              "      <th>neighbourhood_Bushwick</th>\n",
              "      <th>neighbourhood_Carroll Gardens</th>\n",
              "      <th>neighbourhood_Chelsea</th>\n",
              "      <th>neighbourhood_Chinatown</th>\n",
              "      <th>neighbourhood_Clinton Hill</th>\n",
              "      <th>neighbourhood_Crown Heights</th>\n",
              "      <th>neighbourhood_Ditmars Steinway</th>\n",
              "      <th>neighbourhood_East Elmhurst</th>\n",
              "      <th>neighbourhood_East Flatbush</th>\n",
              "      <th>neighbourhood_East Harlem</th>\n",
              "      <th>neighbourhood_East New York</th>\n",
              "      <th>neighbourhood_East Village</th>\n",
              "      <th>neighbourhood_Elmhurst</th>\n",
              "      <th>neighbourhood_Financial District</th>\n",
              "      <th>neighbourhood_Flatbush</th>\n",
              "      <th>neighbourhood_Flushing</th>\n",
              "      <th>neighbourhood_Fort Greene</th>\n",
              "      <th>neighbourhood_Gowanus</th>\n",
              "      <th>neighbourhood_Gramercy</th>\n",
              "      <th>neighbourhood_Greenpoint</th>\n",
              "      <th>neighbourhood_Greenwich Village</th>\n",
              "      <th>neighbourhood_Harlem</th>\n",
              "      <th>neighbourhood_Hell's Kitchen</th>\n",
              "      <th>neighbourhood_Inwood</th>\n",
              "      <th>neighbourhood_Jackson Heights</th>\n",
              "      <th>neighbourhood_Jamaica</th>\n",
              "      <th>neighbourhood_Kips Bay</th>\n",
              "      <th>neighbourhood_Long Island City</th>\n",
              "      <th>neighbourhood_Lower East Side</th>\n",
              "      <th>neighbourhood_Midtown</th>\n",
              "      <th>neighbourhood_Morningside Heights</th>\n",
              "      <th>neighbourhood_Murray Hill</th>\n",
              "      <th>neighbourhood_Nolita</th>\n",
              "      <th>neighbourhood_Park Slope</th>\n",
              "      <th>neighbourhood_Prospect Heights</th>\n",
              "      <th>neighbourhood_Prospect-Lefferts Gardens</th>\n",
              "      <th>neighbourhood_Ridgewood</th>\n",
              "      <th>neighbourhood_SoHo</th>\n",
              "      <th>neighbourhood_South Slope</th>\n",
              "      <th>neighbourhood_Sunnyside</th>\n",
              "      <th>neighbourhood_Sunset Park</th>\n",
              "      <th>neighbourhood_Theater District</th>\n",
              "      <th>neighbourhood_Upper East Side</th>\n",
              "      <th>neighbourhood_Upper West Side</th>\n",
              "      <th>neighbourhood_Washington Heights</th>\n",
              "      <th>neighbourhood_West Village</th>\n",
              "      <th>neighbourhood_Williamsburg</th>\n",
              "      <th>neighbourhood_Woodside</th>\n",
              "      <th>neighbourhood_others</th>\n",
              "      <th>room_type_Entire home/apt</th>\n",
              "      <th>room_type_Private room</th>\n",
              "      <th>room_type_Shared room</th>\n",
              "      <th>review_exists_No</th>\n",
              "      <th>review_exists_Yes</th>\n",
              "    </tr>\n",
              "  </thead>\n",
              "  <tbody>\n",
              "    <tr>\n",
              "      <th>0</th>\n",
              "      <td>0</td>\n",
              "      <td>1</td>\n",
              "      <td>0</td>\n",
              "      <td>0</td>\n",
              "      <td>0</td>\n",
              "      <td>0</td>\n",
              "      <td>0</td>\n",
              "      <td>0</td>\n",
              "      <td>0</td>\n",
              "      <td>0</td>\n",
              "      <td>0</td>\n",
              "      <td>0</td>\n",
              "      <td>0</td>\n",
              "      <td>0</td>\n",
              "      <td>0</td>\n",
              "      <td>0</td>\n",
              "      <td>0</td>\n",
              "      <td>0</td>\n",
              "      <td>0</td>\n",
              "      <td>0</td>\n",
              "      <td>0</td>\n",
              "      <td>0</td>\n",
              "      <td>0</td>\n",
              "      <td>0</td>\n",
              "      <td>0</td>\n",
              "      <td>0</td>\n",
              "      <td>0</td>\n",
              "      <td>0</td>\n",
              "      <td>0</td>\n",
              "      <td>0</td>\n",
              "      <td>0</td>\n",
              "      <td>0</td>\n",
              "      <td>0</td>\n",
              "      <td>0</td>\n",
              "      <td>0</td>\n",
              "      <td>0</td>\n",
              "      <td>0</td>\n",
              "      <td>0</td>\n",
              "      <td>0</td>\n",
              "      <td>0</td>\n",
              "      <td>0</td>\n",
              "      <td>0</td>\n",
              "      <td>0</td>\n",
              "      <td>0</td>\n",
              "      <td>0</td>\n",
              "      <td>0</td>\n",
              "      <td>0</td>\n",
              "      <td>0</td>\n",
              "      <td>0</td>\n",
              "      <td>0</td>\n",
              "      <td>0</td>\n",
              "      <td>0</td>\n",
              "      <td>0</td>\n",
              "      <td>0</td>\n",
              "      <td>0</td>\n",
              "      <td>1</td>\n",
              "      <td>0</td>\n",
              "      <td>1</td>\n",
              "      <td>0</td>\n",
              "      <td>0</td>\n",
              "      <td>1</td>\n",
              "    </tr>\n",
              "    <tr>\n",
              "      <th>1</th>\n",
              "      <td>0</td>\n",
              "      <td>0</td>\n",
              "      <td>1</td>\n",
              "      <td>0</td>\n",
              "      <td>0</td>\n",
              "      <td>0</td>\n",
              "      <td>0</td>\n",
              "      <td>0</td>\n",
              "      <td>0</td>\n",
              "      <td>0</td>\n",
              "      <td>0</td>\n",
              "      <td>0</td>\n",
              "      <td>0</td>\n",
              "      <td>0</td>\n",
              "      <td>0</td>\n",
              "      <td>0</td>\n",
              "      <td>0</td>\n",
              "      <td>0</td>\n",
              "      <td>0</td>\n",
              "      <td>0</td>\n",
              "      <td>0</td>\n",
              "      <td>0</td>\n",
              "      <td>0</td>\n",
              "      <td>0</td>\n",
              "      <td>0</td>\n",
              "      <td>0</td>\n",
              "      <td>0</td>\n",
              "      <td>0</td>\n",
              "      <td>0</td>\n",
              "      <td>0</td>\n",
              "      <td>0</td>\n",
              "      <td>0</td>\n",
              "      <td>0</td>\n",
              "      <td>0</td>\n",
              "      <td>0</td>\n",
              "      <td>0</td>\n",
              "      <td>1</td>\n",
              "      <td>0</td>\n",
              "      <td>0</td>\n",
              "      <td>0</td>\n",
              "      <td>0</td>\n",
              "      <td>0</td>\n",
              "      <td>0</td>\n",
              "      <td>0</td>\n",
              "      <td>0</td>\n",
              "      <td>0</td>\n",
              "      <td>0</td>\n",
              "      <td>0</td>\n",
              "      <td>0</td>\n",
              "      <td>0</td>\n",
              "      <td>0</td>\n",
              "      <td>0</td>\n",
              "      <td>0</td>\n",
              "      <td>0</td>\n",
              "      <td>0</td>\n",
              "      <td>0</td>\n",
              "      <td>1</td>\n",
              "      <td>0</td>\n",
              "      <td>0</td>\n",
              "      <td>0</td>\n",
              "      <td>1</td>\n",
              "    </tr>\n",
              "    <tr>\n",
              "      <th>2</th>\n",
              "      <td>0</td>\n",
              "      <td>0</td>\n",
              "      <td>1</td>\n",
              "      <td>0</td>\n",
              "      <td>0</td>\n",
              "      <td>0</td>\n",
              "      <td>0</td>\n",
              "      <td>0</td>\n",
              "      <td>0</td>\n",
              "      <td>0</td>\n",
              "      <td>0</td>\n",
              "      <td>0</td>\n",
              "      <td>0</td>\n",
              "      <td>0</td>\n",
              "      <td>0</td>\n",
              "      <td>0</td>\n",
              "      <td>0</td>\n",
              "      <td>0</td>\n",
              "      <td>0</td>\n",
              "      <td>0</td>\n",
              "      <td>0</td>\n",
              "      <td>0</td>\n",
              "      <td>0</td>\n",
              "      <td>0</td>\n",
              "      <td>0</td>\n",
              "      <td>0</td>\n",
              "      <td>0</td>\n",
              "      <td>0</td>\n",
              "      <td>1</td>\n",
              "      <td>0</td>\n",
              "      <td>0</td>\n",
              "      <td>0</td>\n",
              "      <td>0</td>\n",
              "      <td>0</td>\n",
              "      <td>0</td>\n",
              "      <td>0</td>\n",
              "      <td>0</td>\n",
              "      <td>0</td>\n",
              "      <td>0</td>\n",
              "      <td>0</td>\n",
              "      <td>0</td>\n",
              "      <td>0</td>\n",
              "      <td>0</td>\n",
              "      <td>0</td>\n",
              "      <td>0</td>\n",
              "      <td>0</td>\n",
              "      <td>0</td>\n",
              "      <td>0</td>\n",
              "      <td>0</td>\n",
              "      <td>0</td>\n",
              "      <td>0</td>\n",
              "      <td>0</td>\n",
              "      <td>0</td>\n",
              "      <td>0</td>\n",
              "      <td>0</td>\n",
              "      <td>0</td>\n",
              "      <td>0</td>\n",
              "      <td>1</td>\n",
              "      <td>0</td>\n",
              "      <td>1</td>\n",
              "      <td>0</td>\n",
              "    </tr>\n",
              "    <tr>\n",
              "      <th>3</th>\n",
              "      <td>0</td>\n",
              "      <td>1</td>\n",
              "      <td>0</td>\n",
              "      <td>0</td>\n",
              "      <td>0</td>\n",
              "      <td>0</td>\n",
              "      <td>0</td>\n",
              "      <td>0</td>\n",
              "      <td>0</td>\n",
              "      <td>0</td>\n",
              "      <td>0</td>\n",
              "      <td>1</td>\n",
              "      <td>0</td>\n",
              "      <td>0</td>\n",
              "      <td>0</td>\n",
              "      <td>0</td>\n",
              "      <td>0</td>\n",
              "      <td>0</td>\n",
              "      <td>0</td>\n",
              "      <td>0</td>\n",
              "      <td>0</td>\n",
              "      <td>0</td>\n",
              "      <td>0</td>\n",
              "      <td>0</td>\n",
              "      <td>0</td>\n",
              "      <td>0</td>\n",
              "      <td>0</td>\n",
              "      <td>0</td>\n",
              "      <td>0</td>\n",
              "      <td>0</td>\n",
              "      <td>0</td>\n",
              "      <td>0</td>\n",
              "      <td>0</td>\n",
              "      <td>0</td>\n",
              "      <td>0</td>\n",
              "      <td>0</td>\n",
              "      <td>0</td>\n",
              "      <td>0</td>\n",
              "      <td>0</td>\n",
              "      <td>0</td>\n",
              "      <td>0</td>\n",
              "      <td>0</td>\n",
              "      <td>0</td>\n",
              "      <td>0</td>\n",
              "      <td>0</td>\n",
              "      <td>0</td>\n",
              "      <td>0</td>\n",
              "      <td>0</td>\n",
              "      <td>0</td>\n",
              "      <td>0</td>\n",
              "      <td>0</td>\n",
              "      <td>0</td>\n",
              "      <td>0</td>\n",
              "      <td>0</td>\n",
              "      <td>0</td>\n",
              "      <td>0</td>\n",
              "      <td>1</td>\n",
              "      <td>0</td>\n",
              "      <td>0</td>\n",
              "      <td>0</td>\n",
              "      <td>1</td>\n",
              "    </tr>\n",
              "    <tr>\n",
              "      <th>4</th>\n",
              "      <td>0</td>\n",
              "      <td>0</td>\n",
              "      <td>1</td>\n",
              "      <td>0</td>\n",
              "      <td>0</td>\n",
              "      <td>0</td>\n",
              "      <td>0</td>\n",
              "      <td>0</td>\n",
              "      <td>0</td>\n",
              "      <td>0</td>\n",
              "      <td>0</td>\n",
              "      <td>0</td>\n",
              "      <td>0</td>\n",
              "      <td>0</td>\n",
              "      <td>0</td>\n",
              "      <td>0</td>\n",
              "      <td>1</td>\n",
              "      <td>0</td>\n",
              "      <td>0</td>\n",
              "      <td>0</td>\n",
              "      <td>0</td>\n",
              "      <td>0</td>\n",
              "      <td>0</td>\n",
              "      <td>0</td>\n",
              "      <td>0</td>\n",
              "      <td>0</td>\n",
              "      <td>0</td>\n",
              "      <td>0</td>\n",
              "      <td>0</td>\n",
              "      <td>0</td>\n",
              "      <td>0</td>\n",
              "      <td>0</td>\n",
              "      <td>0</td>\n",
              "      <td>0</td>\n",
              "      <td>0</td>\n",
              "      <td>0</td>\n",
              "      <td>0</td>\n",
              "      <td>0</td>\n",
              "      <td>0</td>\n",
              "      <td>0</td>\n",
              "      <td>0</td>\n",
              "      <td>0</td>\n",
              "      <td>0</td>\n",
              "      <td>0</td>\n",
              "      <td>0</td>\n",
              "      <td>0</td>\n",
              "      <td>0</td>\n",
              "      <td>0</td>\n",
              "      <td>0</td>\n",
              "      <td>0</td>\n",
              "      <td>0</td>\n",
              "      <td>0</td>\n",
              "      <td>0</td>\n",
              "      <td>0</td>\n",
              "      <td>0</td>\n",
              "      <td>0</td>\n",
              "      <td>1</td>\n",
              "      <td>0</td>\n",
              "      <td>0</td>\n",
              "      <td>0</td>\n",
              "      <td>1</td>\n",
              "    </tr>\n",
              "  </tbody>\n",
              "</table>\n",
              "</div>"
            ],
            "text/plain": [
              "   neighbourhood_group_Bronx  ...  review_exists_Yes\n",
              "0                          0  ...                  1\n",
              "1                          0  ...                  1\n",
              "2                          0  ...                  0\n",
              "3                          0  ...                  1\n",
              "4                          0  ...                  1\n",
              "\n",
              "[5 rows x 61 columns]"
            ]
          },
          "metadata": {
            "tags": []
          },
          "execution_count": 108
        }
      ]
    },
    {
      "cell_type": "markdown",
      "metadata": {
        "id": "y6iTgUI3BOnn"
      },
      "source": [
        "    #원핫 인코딩 전의 컬럼 값들이 원핫 인코딩 되어서 컬럼수가 늘어남\n",
        "    확인을 위해 헤드값을 뽑아 보았지만 출력을 실제로 해보진 않음.\n"
      ]
    },
    {
      "cell_type": "code",
      "metadata": {
        "id": "wtwAJa4NBj8d"
      },
      "source": [
        "X_num = df.drop(['neighbourhood_group', 'neighbourhood', 'room_type', 'review_exists'], axis=1)\n",
        "\n",
        "\n",
        "\n",
        "#위에서 범주형으로 넣은 값들 을 드랍해버리면, 수치형 데이터들이 나오게 된다."
      ],
      "execution_count": 118,
      "outputs": []
    },
    {
      "cell_type": "code",
      "metadata": {
        "id": "LcFT9HshB6GZ"
      },
      "source": [
        "X_num = X_num.drop(['availability_365'], axis=1)\n"
      ],
      "execution_count": 120,
      "outputs": []
    },
    {
      "cell_type": "code",
      "metadata": {
        "colab": {
          "base_uri": "https://localhost:8080/",
          "height": 222
        },
        "id": "X-KH1C6FCEEu",
        "outputId": "f31d0050-7f9e-43e1-8d0a-d1c99cde7ef9"
      },
      "source": [
        "X_num.head()"
      ],
      "execution_count": 121,
      "outputs": [
        {
          "output_type": "execute_result",
          "data": {
            "text/html": [
              "<div>\n",
              "<style scoped>\n",
              "    .dataframe tbody tr th:only-of-type {\n",
              "        vertical-align: middle;\n",
              "    }\n",
              "\n",
              "    .dataframe tbody tr th {\n",
              "        vertical-align: top;\n",
              "    }\n",
              "\n",
              "    .dataframe thead th {\n",
              "        text-align: right;\n",
              "    }\n",
              "</style>\n",
              "<table border=\"1\" class=\"dataframe\">\n",
              "  <thead>\n",
              "    <tr style=\"text-align: right;\">\n",
              "      <th></th>\n",
              "      <th>host_id</th>\n",
              "      <th>price</th>\n",
              "      <th>minimum_nights</th>\n",
              "      <th>number_of_reviews</th>\n",
              "      <th>calculated_host_listings_count</th>\n",
              "    </tr>\n",
              "  </thead>\n",
              "  <tbody>\n",
              "    <tr>\n",
              "      <th>0</th>\n",
              "      <td>2787</td>\n",
              "      <td>149</td>\n",
              "      <td>1</td>\n",
              "      <td>9</td>\n",
              "      <td>6</td>\n",
              "    </tr>\n",
              "    <tr>\n",
              "      <th>1</th>\n",
              "      <td>2845</td>\n",
              "      <td>225</td>\n",
              "      <td>1</td>\n",
              "      <td>45</td>\n",
              "      <td>2</td>\n",
              "    </tr>\n",
              "    <tr>\n",
              "      <th>2</th>\n",
              "      <td>4632</td>\n",
              "      <td>150</td>\n",
              "      <td>3</td>\n",
              "      <td>0</td>\n",
              "      <td>1</td>\n",
              "    </tr>\n",
              "    <tr>\n",
              "      <th>3</th>\n",
              "      <td>4869</td>\n",
              "      <td>89</td>\n",
              "      <td>1</td>\n",
              "      <td>270</td>\n",
              "      <td>1</td>\n",
              "    </tr>\n",
              "    <tr>\n",
              "      <th>4</th>\n",
              "      <td>7192</td>\n",
              "      <td>80</td>\n",
              "      <td>10</td>\n",
              "      <td>9</td>\n",
              "      <td>1</td>\n",
              "    </tr>\n",
              "  </tbody>\n",
              "</table>\n",
              "</div>"
            ],
            "text/plain": [
              "   host_id  price  ...  number_of_reviews  calculated_host_listings_count\n",
              "0     2787    149  ...                  9                               6\n",
              "1     2845    225  ...                 45                               2\n",
              "2     4632    150  ...                  0                               1\n",
              "3     4869     89  ...                270                               1\n",
              "4     7192     80  ...                  9                               1\n",
              "\n",
              "[5 rows x 5 columns]"
            ]
          },
          "metadata": {
            "tags": []
          },
          "execution_count": 121
        }
      ]
    },
    {
      "cell_type": "code",
      "metadata": {
        "id": "5bAvFfh1A_CD"
      },
      "source": [
        "from sklearn.preprocessing import StandardScaler\n",
        "scaler = StandardScaler()\n",
        "scaler.fit(X_num)\n",
        "X_scaled = scaler.transform(X_num)\n",
        "X_scaled = pd.DataFrame(X_scaled, index=X_num.index, columns =X_num.columns)"
      ],
      "execution_count": 125,
      "outputs": []
    },
    {
      "cell_type": "code",
      "metadata": {
        "colab": {
          "base_uri": "https://localhost:8080/"
        },
        "id": "cXhRzJmQBjO1",
        "outputId": "c46e1fba-5e6a-4d7c-f1ca-d708bb39cace"
      },
      "source": [
        "X_num.info()"
      ],
      "execution_count": 122,
      "outputs": [
        {
          "output_type": "stream",
          "text": [
            "<class 'pandas.core.frame.DataFrame'>\n",
            "Int64Index: 46191 entries, 0 to 48894\n",
            "Data columns (total 5 columns):\n",
            " #   Column                          Non-Null Count  Dtype\n",
            "---  ------                          --------------  -----\n",
            " 0   host_id                         46191 non-null  int64\n",
            " 1   price                           46191 non-null  int64\n",
            " 2   minimum_nights                  46191 non-null  int64\n",
            " 3   number_of_reviews               46191 non-null  int64\n",
            " 4   calculated_host_listings_count  46191 non-null  int64\n",
            "dtypes: int64(5)\n",
            "memory usage: 2.1 MB\n"
          ],
          "name": "stdout"
        }
      ]
    },
    {
      "cell_type": "code",
      "metadata": {
        "id": "jab1FHArDHs0"
      },
      "source": [
        "X = pd.concat([X_scaled, X_cat], axis=1)\n",
        "y = df['price']"
      ],
      "execution_count": 126,
      "outputs": []
    },
    {
      "cell_type": "code",
      "metadata": {
        "colab": {
          "base_uri": "https://localhost:8080/"
        },
        "id": "KmPR2k9qDElb",
        "outputId": "d0167853-4c4c-4f9d-bf33-c5e4b0e917ac"
      },
      "source": [
        "len(y)"
      ],
      "execution_count": 127,
      "outputs": [
        {
          "output_type": "execute_result",
          "data": {
            "text/plain": [
              "46191"
            ]
          },
          "metadata": {
            "tags": []
          },
          "execution_count": 127
        }
      ]
    },
    {
      "cell_type": "code",
      "metadata": {
        "id": "yN7ugV_-DdC9"
      },
      "source": [
        "from sklearn.model_selection import train_test_split\n",
        "X_train, X_test, y_train, y_test = train_test_split(X, y, test_size=0.3, random_state=1)\n"
      ],
      "execution_count": 128,
      "outputs": []
    },
    {
      "cell_type": "code",
      "metadata": {
        "colab": {
          "base_uri": "https://localhost:8080/"
        },
        "id": "HeqWSPMkDYns",
        "outputId": "cc797a95-71b0-4823-f9a4-faaef297dc9b"
      },
      "source": [
        "from xgboost import XGBRegressor\n",
        "model_reg = XGBRegressor()\n",
        "model_reg.fit(X_train, y_train)\n"
      ],
      "execution_count": 129,
      "outputs": [
        {
          "output_type": "stream",
          "text": [
            "[08:33:42] WARNING: /workspace/src/objective/regression_obj.cu:152: reg:linear is now deprecated in favor of reg:squarederror.\n"
          ],
          "name": "stdout"
        },
        {
          "output_type": "execute_result",
          "data": {
            "text/plain": [
              "XGBRegressor(base_score=0.5, booster='gbtree', colsample_bylevel=1,\n",
              "             colsample_bynode=1, colsample_bytree=1, gamma=0,\n",
              "             importance_type='gain', learning_rate=0.1, max_delta_step=0,\n",
              "             max_depth=3, min_child_weight=1, missing=None, n_estimators=100,\n",
              "             n_jobs=1, nthread=None, objective='reg:linear', random_state=0,\n",
              "             reg_alpha=0, reg_lambda=1, scale_pos_weight=1, seed=None,\n",
              "             silent=None, subsample=1, verbosity=1)"
            ]
          },
          "metadata": {
            "tags": []
          },
          "execution_count": 129
        }
      ]
    },
    {
      "cell_type": "code",
      "metadata": {
        "colab": {
          "base_uri": "https://localhost:8080/"
        },
        "id": "mjbYK-sHDjUd",
        "outputId": "52505572-31fe-4ff7-a0df-b76f17cd45d4"
      },
      "source": [
        "from sklearn.metrics import mean_absolute_error, mean_squared_error\n",
        "from math import sqrt\n",
        "pred = model_reg.predict(X_test)\n",
        "print(mean_absolute_error(y_test, pred))\n",
        "print(sqrt(mean_squared_error(y_test, pred)))\n"
      ],
      "execution_count": 130,
      "outputs": [
        {
          "output_type": "stream",
          "text": [
            "0.14360751340461167\n",
            "0.31811625900509316\n"
          ],
          "name": "stdout"
        }
      ]
    },
    {
      "cell_type": "markdown",
      "metadata": {
        "id": "5GT5bRopEIN2"
      },
      "source": [
        "price 값을 작게 바꿧다.\n",
        "이 작게 바꾼 값을 되돌릴 수도 있다.\n",
        "\n",
        "궁굼하면 검색"
      ]
    },
    {
      "cell_type": "code",
      "metadata": {
        "colab": {
          "base_uri": "https://localhost:8080/",
          "height": 282
        },
        "id": "H1jwjiK5EFHv",
        "outputId": "936c8518-9d64-4b2f-ca15-5763149afb0b"
      },
      "source": [
        "#너무 과적합 되었네.\n",
        "plt.scatter(x=y_test, y=pred, alpha=0.1)\n",
        "plt.plot([0, 350], [0,350])"
      ],
      "execution_count": 131,
      "outputs": [
        {
          "output_type": "execute_result",
          "data": {
            "text/plain": [
              "<matplotlib.collections.PathCollection at 0x7f2ca9b63910>"
            ]
          },
          "metadata": {
            "tags": []
          },
          "execution_count": 131
        },
        {
          "output_type": "display_data",
          "data": {
            "image/png": "[encoded data removed]",
            "text/plain": [
              "<Figure size 432x288 with 1 Axes>"
            ]
          },
          "metadata": {
            "tags": [],
            "needs_background": "light"
          }
        }
      ]
    },
    {
      "cell_type": "code",
      "metadata": {
        "colab": {
          "base_uri": "https://localhost:8080/",
          "height": 297
        },
        "id": "3RZbXgT8EYDR",
        "outputId": "d0b1840b-a4fb-4b05-eb38-707230f44c81"
      },
      "source": [
        "err = (pred-y_test) / y_test\n",
        "sns.histplot(err)"
      ],
      "execution_count": 132,
      "outputs": [
        {
          "output_type": "execute_result",
          "data": {
            "text/plain": [
              "<matplotlib.axes._subplots.AxesSubplot at 0x7f2ca05c1250>"
            ]
          },
          "metadata": {
            "tags": []
          },
          "execution_count": 132
        },
        {
          "output_type": "display_data",
          "data": {
            "image/png": "[encoded data removed]",
            "text/plain": [
              "<Figure size 432x288 with 1 Axes>"
            ]
          },
          "metadata": {
            "tags": [],
            "needs_background": "light"
          }
        }
      ]
    },
    {
      "cell_type": "markdown",
      "metadata": {
        "id": "vTEfLZeGFeiQ"
      },
      "source": [
        ""
      ]
    },
    {
      "cell_type": "markdown",
      "metadata": {
        "id": "ooctSUH8FYE_"
      },
      "source": [
        "결과가 나온것을 보니 무엇인가 잘못 했구나.\n",
        "\n",
        "왼쪽으로 치우쳤다는것은 계산을 할때 0보다 작은값들이 0보다 큰값들보다 많다는 것을 의미하고.\n",
        "\n",
        "음수가 나온다는 것은, 예측값 보다. y-test값이 큰 경우가 더 많다는 의미이다.\n",
        "\n",
        "이를 그래프로 그려보면 \n",
        "\n",
        "![캡처.JPG](data:image/jpeg;base64,/9j/4AAQSkZJRgABAQEAeAB4AAD/4RDaRXhpZgAATU0AKgAAAAgABAE7AAIAAAAFAAAISodpAAQAAAABAAAIUJydAAEAAAAKAAAQyOocAAcAAAgMAAAAPgAAAAAc6gAAAAgAAAAAAAAAAAAAAAAAAAAAAAAAAAAAAAAAAAAAAAAAAAAAAAAAAAAAAAAAAAAAAAAAAAAAAAAAAAAAAAAAAAAAAAAAAAAAAAAAAAAAAAAAAAAAAAAAAAAAAAAAAAAAAAAAAAAAAAAAAAAAAAAAAAAAAAAAAAAAAAAAAAAAAAAAAAAAAAAAAAAAAAAAAAAAAAAAAAAAAAAAAAAAAAAAAAAAAAAAAAAAAAAAAAAAAAAAAAAAAAAAAAAAAAAAAAAAAAAAAAAAAAAAAAAAAAAAAAAAAAAAAAAAAAAAAAAAAAAAAAAAAAAAAAAAAAAAAAAAAAAAAAAAAAAAAAAAAAAAAAAAAAAAAAAAAAAAAAAAAAAAAAAAAAAAAAAAAAAAAAAAAAAAAAAAAAAAAAAAAAAAAAAAAAAAAAAAAAAAAAAAAAAAAAAAAAAAAAAAAAAAAAAAAAAAAAAAAAAAAAAAAAAAAAAAAAAAAAAAAAAAAAAAAAAAAAAAAAAAAAAAAAAAAAAAAAAAAAAAAAAAAAAAAAAAAAAAAAAAAAAAAAAAAAAAAAAAAAAAAAAAAAAAAAAAAAAAAAAAAAAAAAAAAAAAAAAAAAAAAAAAAAAAAAAAAAAAAAAAAAAAAAAAAAAAAAAAAAAAAAAAAAAAAAAAAAAAAAAAAAAAAAAAAAAAAAAAAAAAAAAAAAAAAAAAAAAAAAAAAAAAAAAAAAAAAAAAAAAAAAAAAAAAAAAAAAAAAAAAAAAAAAAAAAAAAAAAAAAAAAAAAAAAAAAAAAAAAAAAAAAAAAAAAAAAAAAAAAAAAAAAAAAAAAAAAAAAAAAAAAAAAAAAAAAAAAAAAAAAAAAAAAAAAAAAAAAAAAAAAAAAAAAAAAAAAAAAAAAAAAAAAAAAAAAAAAAAAAAAAAAAAAAAAAAAAAAAAAAAAAAAAAAAAAAAAAAAAAAAAAAAAAAAAAAAAAAAAAAAAAAAAAAAAAAAAAAAAAAAAAAAAAAAAAAAAAAAAAAAAAAAAAAAAAAAAAAAAAAAAAAAAAAAAAAAAAAAAAAAAAAAAAAAAAAAAAAAAAAAAAAAAAAAAAAAAAAAAAAAAAAAAAAAAAAAAAAAAAAAAAAAAAAAAAAAAAAAAAAAAAAAAAAAAAAAAAAAAAAAAAAAAAAAAAAAAAAAAAAAAAAAAAAAAAAAAAAAAAAAAAAAAAAAAAAAAAAAAAAAAAAAAAAAAAAAAAAAAAAAAAAAAAAAAAAAAAAAAAAAAAAAAAAAAAAAAAAAAAAAAAAAAAAAAAAAAAAAAAAAAAAAAAAAAAAAAAAAAAAAAAAAAAAAAAAAAAAAAAAAAAAAAAAAAAAAAAAAAAAAAAAAAAAAAAAAAAAAAAAAAAAAAAAAAAAAAAAAAAAAAAAAAAAAAAAAAAAAAAAAAAAAAAAAAAAAAAAAAAAAAAAAAAAAAAAAAAAAAAAAAAAAAAAAAAAAAAAAAAAAAAAAAAAAAAAAAAAAAAAAAAAAAAAAAAAAAAAAAAAAAAAAAAAAAAAAAAAAAAAAAAAAAAAAAAAAAAAAAAAAAAAAAAAAAAAAAAAAAAAAAAAAAAAAAAAAAAAAAAAAAAAAAAAAAAAAAAAAAAAAAAAAAAAAAAAAAAAAAAAAAAAAAAAAAAAAAAAAAAAAAAAAAAAAAAAAAAAAAAAAAAAAAAAAAAAAAAAAAAAAAAAAAAAAAAAAAAAAAAAAAAAAAAAAAAAAAAAAAAAAAAAAAAAAAAAAAAAAAAAAAAAAAAAAAAAAAAAAAAAAAAAAAAAAAAAAAAAAAAAAAAAAAAAAAAAAAAAAAAAAAAAAAAAAAAAAAAAAAAAAAAAAAAAAAAAAAAAAAAAAAAAAAAAAAAAAAAAAAAAAAAAAAAAAAAAAAAAAAAAAAAAAAAAAAAAAAAAAAAAAAAAAAAAAAAAAAAAAAAAAAAAAAAAAAAAAAAAAAAAAAAAAAAAAAAAAAAAAAAAAAAAAAAAAAAAAAAAAAAAAAAAAAAAAAAAAAAAAAAAAAAAAAAAAAAAAAAAAAAAAAAAAAAAAAAAAAAAAAAAAAAAAAAAAAAAAAAAAAAAAAAAAAAAAAAAAAAAAAAAAAAAAAAAAAAAAAAAAAAAAAAAAAAAAAAAAAAAAAAAAAAAAAAAAAAAAAAAAAAAAAAAAAAAAAAAAAAAAAAAAAAAAAAAAAAAAAAAAAAAAAAAAAAAAAAAAAAAAAAAAAAAAAAAAAAAAAAAAAAAAAAAAAAAAAAAAAAAAAAAAAAAAAAAAAAAAAAAAAAAAAAAAAAAAAAAAAAAAAAAAAAAAAAAAAAAAAAAAAAAAAAAAAAAAAAAAAAAAAAAAAAAAAAAAAAAAAAAAAAAAAAAAAAAAAAAAAAAAAAAAAAAAAAAAAAAAAAAAAAAAAAAAAAAAAAAAAAAAAAAAAAAAAAAAAAAAAAAAAAAAAAAAAAAAAAAAAAAAAAAAAAAAAAAAAAAAAAAAAAAAAAAAAAAAAAAAAAAAAAAAAAAAAAAAAAAAAAAAAAAAAAAAAAAAAAAAAAAAAAAAAAAAAAAAAAAAAAAAAAAAAAAAAAAAAAAAAAAAAAAAAAAAAAAAAAAAAAAAAAAAAAAAAAAAAAAAAAAAAAAAAAAAAAAAAAAAAAAAAAAAAAAAAAAAAAAAAAAAAAAAAAAAAAAAAAAAAAAAAAAAAAAAAAAAAAAAAAAAAAAAAAAAAAAAAAAAAAAAAAAAAAAAAAAAAAAAAAAAAAAAAAAAAAAAAAAAAAAAAAAAAFVzZXIAAAAFkAMAAgAAABQAABCekAQAAgAAABQAABCykpEAAgAAAAMyMwAAkpIAAgAAAAMyMwAA6hwABwAACAwAAAiSAAAAABzqAAAACAAAAAAAAAAAAAAAAAAAAAAAAAAAAAAAAAAAAAAAAAAAAAAAAAAAAAAAAAAAAAAAAAAAAAAAAAAAAAAAAAAAAAAAAAAAAAAAAAAAAAAAAAAAAAAAAAAAAAAAAAAAAAAAAAAAAAAAAAAAAAAAAAAAAAAAAAAAAAAAAAAAAAAAAAAAAAAAAAAAAAAAAAAAAAAAAAAAAAAAAAAAAAAAAAAAAAAAAAAAAAAAAAAAAAAAAAAAAAAAAAAAAAAAAAAAAAAAAAAAAAAAAAAAAAAAAAAAAAAAAAAAAAAAAAAAAAAAAAAAAAAAAAAAAAAAAAAAAAAAAAAAAAAAAAAAAAAAAAAAAAAAAAAAAAAAAAAAAAAAAAAAAAAAAAAAAAAAAAAAAAAAAAAAAAAAAAAAAAAAAAAAAAAAAAAAAAAAAAAAAAAAAAAAAAAAAAAAAAAAAAAAAAAAAAAAAAAAAAAAAAAAAAAAAAAAAAAAAAAAAAAAAAAAAAAAAAAAAAAAAAAAAAAAAAAAAAAAAAAAAAAAAAAAAAAAAAAAAAAAAAAAAAAAAAAAAAAAAAAAAAAAAAAAAAAAAAAAAAAAAAAAAAAAAAAAAAAAAAAAAAAAAAAAAAAAAAAAAAAAAAAAAAAAAAAAAAAAAAAAAAAAAAAAAAAAAAAAAAAAAAAAAAAAAAAAAAAAAAAAAAAAAAAAAAAAAAAAAAAAAAAAAAAAAAAAAAAAAAAAAAAAAAAAAAAAAAAAAAAAAAAAAAAAAAAAAAAAAAAAAAAAAAAAAAAAAAAAAAAAAAAAAAAAAAAAAAAAAAAAAAAAAAAAAAAAAAAAAAAAAAAAAAAAAAAAAAAAAAAAAAAAAAAAAAAAAAAAAAAAAAAAAAAAAAAAAAAAAAAAAAAAAAAAAAAAAAAAAAAAAAAAAAAAAAAAAAAAAAAAAAAAAAAAAAAAAAAAAAAAAAAAAAAAAAAAAAAAAAAAAAAAAAAAAAAAAAAAAAAAAAAAAAAAAAAAAAAAAAAAAAAAAAAAAAAAAAAAAAAAAAAAAAAAAAAAAAAAAAAAAAAAAAAAAAAAAAAAAAAAAAAAAAAAAAAAAAAAAAAAAAAAAAAAAAAAAAAAAAAAAAAAAAAAAAAAAAAAAAAAAAAAAAAAAAAAAAAAAAAAAAAAAAAAAAAAAAAAAAAAAAAAAAAAAAAAAAAAAAAAAAAAAAAAAAAAAAAAAAAAAAAAAAAAAAAAAAAAAAAAAAAAAAAAAAAAAAAAAAAAAAAAAAAAAAAAAAAAAAAAAAAAAAAAAAAAAAAAAAAAAAAAAAAAAAAAAAAAAAAAAAAAAAAAAAAAAAAAAAAAAAAAAAAAAAAAAAAAAAAAAAAAAAAAAAAAAAAAAAAAAAAAAAAAAAAAAAAAAAAAAAAAAAAAAAAAAAAAAAAAAAAAAAAAAAAAAAAAAAAAAAAAAAAAAAAAAAAAAAAAAAAAAAAAAAAAAAAAAAAAAAAAAAAAAAAAAAAAAAAAAAAAAAAAAAAAAAAAAAAAAAAAAAAAAAAAAAAAAAAAAAAAAAAAAAAAAAAAAAAAAAAAAAAAAAAAAAAAAAAAAAAAAAAAAAAAAAAAAAAAAAAAAAAAAAAAAAAAAAAAAAAAAAAAAAAAAAAAAAAAAAAAAAAAAAAAAAAAAAAAAAAAAAAAAAAAAAAAAAAAAAAAAAAAAAAAAAAAAAAAAAAAAAAAAAAAAAAAAAAAAAAAAAAAAAAAAAAAAAAAAAAAAAAAAAAAAAAAAAAAAAAAAAAAAAAAAAAAAAAAAAAAAAAAAAAAAAAAAAAAAAAAAAAAAAAAAAAAAAAAAAAAAAAAAAAAAAAAAAAAAAAAAAAAAAAAAAAAAAAAAAAAAAAAAAAAAAAAAAAAAAAAAAAAAAAAAAAAAAAAAAAAAAAAAAAAAAAAAAAAAAAAAAAAAAAAAAAAAAAAAAAAAAAAAAAAAAAAAAAAAAAAAAAAAAAAAAAAAAAAAAAAAAAAAAAAAAAAAAAAAAAAAAAAAAAAAAAAAAAAAAAAAAAAAAAAAAAAAAAAAAAAAAAAAAAAAAAAAAAAAAAAAAAAAAAAAAAAAAAAAAAAAAAAAAAAAAAAAAAAAAAAAAAAAAAAAAAAAAAAAAAAAAAAAAAAAAAAAAAAAAAAAAAAAAAAAAAAAAAAAAAAAAAAAAAAAAAAAAAAAAAAAAAAAAAAAAAAAAAAAAAAAAAAAAAAAAAAAAAAAAAAAAAAAAAAAAAAAAAAAAAAAAAAAAAAAAAAAAAAAAAAAAAAAAAAAAAAAAAAAAAAAAAAAAAAAAAAAAAAAAAAAAAAAAAAAAAAAAAAAAAAAAAAAAAAAAAAAAAAAAAAAAAAAAAAAAAAAAAAAAAAAAAAAAAAAAAAAAAAAAAAAAAAAAAAAAAAAAAAAAAAAAAAAAAAAAAAAAAAAAAAAAAAAAAAAAAAAAAAAAAAAAAAAAAAAAAAAAAAAAAAAAAAAAAAAAAAAAAAAAAAAAAAAAAAAAAAAAAAAAAAAAAAAAAAAAAAAAAAAAAAAAAAAAAAAAAAAAAAAAAAAAAAAAAAAAAAAAAAAAAAAAAAAAAAAAAAAAAAAAAAAAAAAAAAAAAAAAAAAAAAAAAAAAAAAAAAAAAAAAAAAAAAAAAAAAAAAAAAAAAAAAAAAAAAAAAAAAAAAAAAAAAAAAAAAAAAAAAAAAAAAAAAAAAAAAAAAAAAAAAAAAAAAAAAAAAAAAAAAAAAAAAAAAAAAAAAAAAAAAAAAAAAAAAAAAAAAAAAMjAyMTowNjoxMCAxNzo0NDo1MAAyMDIxOjA2OjEwIDE3OjQ0OjUwAAAAVQBzAGUAcgAAAP/hCxdodHRwOi8vbnMuYWRvYmUuY29tL3hhcC8xLjAvADw/eHBhY2tldCBiZWdpbj0n77u/JyBpZD0nVzVNME1wQ2VoaUh6cmVTek5UY3prYzlkJz8+DQo8eDp4bXBtZXRhIHhtbG5zOng9ImFkb2JlOm5zOm1ldGEvIj48cmRmOlJERiB4bWxuczpyZGY9Imh0dHA6Ly93d3cudzMub3JnLzE5OTkvMDIvMjItcmRmLXN5bnRheC1ucyMiPjxyZGY6RGVzY3JpcHRpb24gcmRmOmFib3V0PSJ1dWlkOmZhZjViZGQ1LWJhM2QtMTFkYS1hZDMxLWQzM2Q3NTE4MmYxYiIgeG1sbnM6ZGM9Imh0dHA6Ly9wdXJsLm9yZy9kYy9lbGVtZW50cy8xLjEvIi8+PHJkZjpEZXNjcmlwdGlvbiByZGY6YWJvdXQ9InV1aWQ6ZmFmNWJkZDUtYmEzZC0xMWRhLWFkMzEtZDMzZDc1MTgyZjFiIiB4bWxuczp4bXA9Imh0dHA6Ly9ucy5hZG9iZS5jb20veGFwLzEuMC8iPjx4bXA6Q3JlYXRlRGF0ZT4yMDIxLTA2LTEwVDE3OjQ0OjUwLjIzNDwveG1wOkNyZWF0ZURhdGU+PC9yZGY6RGVzY3JpcHRpb24+PHJkZjpEZXNjcmlwdGlvbiByZGY6YWJvdXQ9InV1aWQ6ZmFmNWJkZDUtYmEzZC0xMWRhLWFkMzEtZDMzZDc1MTgyZjFiIiB4bWxuczpkYz0iaHR0cDovL3B1cmwub3JnL2RjL2VsZW1lbnRzLzEuMS8iPjxkYzpjcmVhdG9yPjxyZGY6U2VxIHhtbG5zOnJkZj0iaHR0cDovL3d3dy53My5vcmcvMTk5OS8wMi8yMi1yZGYtc3ludGF4LW5zIyI+PHJkZjpsaT5Vc2VyPC9yZGY6bGk+PC9yZGY6U2VxPg0KCQkJPC9kYzpjcmVhdG9yPjwvcmRmOkRlc2NyaXB0aW9uPjwvcmRmOlJERj48L3g6eG1wbWV0YT4NCiAgICAgICAgICAgICAgICAgICAgICAgICAgICAgICAgICAgICAgICAgICAgICAgICAgICAgICAgICAgICAgICAgICAgICAgICAgICAgICAgICAgICAgICAgICAgICAgICAgICAKICAgICAgICAgICAgICAgICAgICAgICAgICAgICAgICAgICAgICAgICAgICAgICAgICAgICAgICAgICAgICAgICAgICAgICAgICAgICAgICAgICAgICAgICAgICAgICAgICAgIAogICAgICAgICAgICAgICAgICAgICAgICAgICAgICAgICAgICAgICAgICAgICAgICAgICAgICAgICAgICAgICAgICAgICAgICAgICAgICAgICAgICAgICAgICAgICAgICAgICAgCiAgICAgICAgICAgICAgICAgICAgICAgICAgICAgICAgICAgICAgICAgICAgICAgICAgICAgICAgICAgICAgICAgICAgICAgICAgICAgICAgICAgICAgICAgICAgICAgICAgICAKICAgICAgICAgICAgICAgICAgICAgICAgICAgICAgICAgICAgICAgICAgICAgICAgICAgICAgICAgICAgICAgICAgICAgICAgICAgICAgICAgICAgICAgICAgICAgICAgICAgIAogICAgICAgICAgICAgICAgICAgICAgICAgICAgICAgICAgICAgICAgICAgICAgICAgICAgICAgICAgICAgICAgICAgICAgICAgICAgICAgICAgICAgICAgICAgICAgICAgICAgCiAgICAgICAgICAgICAgICAgICAgICAgICAgICAgICAgICAgICAgICAgICAgICAgICAgICAgICAgICAgICAgICAgICAgICAgICAgICAgICAgICAgICAgICAgICAgICAgICAgICAKICAgICAgICAgICAgICAgICAgICAgICAgICAgICAgICAgICAgICAgICAgICAgICAgICAgICAgICAgICAgICAgICAgICAgICAgICAgICAgICAgICAgICAgICAgICAgICAgICAgIAogICAgICAgICAgICAgICAgICAgICAgICAgICAgICAgICAgICAgICAgICAgICAgICAgICAgICAgICAgICAgICAgICAgICAgICAgICAgICAgICAgICAgICAgICAgICAgICAgICAgCiAgICAgICAgICAgICAgICAgICAgICAgICAgICAgICAgICAgICAgICAgICAgICAgICAgICAgICAgICAgICAgICAgICAgICAgICAgICAgICAgICAgICAgICAgICAgICAgICAgICAKICAgICAgICAgICAgICAgICAgICAgICAgICAgICAgICAgICAgICAgICAgICAgICAgICAgICAgICAgICAgICAgICAgICAgICAgICAgICAgICAgICAgICAgICAgICAgICAgICAgIAogICAgICAgICAgICAgICAgICAgICAgICAgICAgICAgICAgICAgICAgICAgICAgICAgICAgICAgICAgICAgICAgICAgICAgICAgICAgICAgICAgICAgICAgICAgICAgICAgICAgCiAgICAgICAgICAgICAgICAgICAgICAgICAgICAgICAgICAgICAgICAgICAgICAgICAgICAgICAgICAgICAgICAgICAgICAgICAgICAgICAgICAgICAgICAgICAgICAgICAgICAKICAgICAgICAgICAgICAgICAgICAgICAgICAgICAgICAgICAgICAgICAgICAgICAgICAgICAgICAgICAgICAgICAgICAgICAgICAgICAgICAgICAgICAgICAgICAgICAgICAgIAogICAgICAgICAgICAgICAgICAgICAgICAgICAgICAgICAgICAgICAgICAgICAgICAgICAgICAgICAgICAgICAgICAgICAgICAgICAgICAgICAgICAgICAgICAgICAgICAgICAgCiAgICAgICAgICAgICAgICAgICAgICAgICAgICAgICAgICAgICAgICAgICAgICAgICAgICAgICAgICAgICAgICAgICAgICAgICAgICAgICAgICAgICAgICAgICAgICAgICAgICAKICAgICAgICAgICAgICAgICAgICAgICAgICAgICAgICAgICAgICAgICAgICAgICAgICAgICAgICAgICAgICAgICAgICAgICAgICAgICAgICAgICAgICAgICAgICAgICAgICAgIAogICAgICAgICAgICAgICAgICAgICAgICAgICAgICAgICAgICAgICAgICAgICAgICAgICAgICAgICAgICAgICAgICAgICAgICAgICAgICAgICAgICAgICAgICAgICAgICAgICAgCiAgICAgICAgICAgICAgICAgICAgICAgICAgICAgICAgICAgICAgICAgICAgICAgICAgICAgICAgICAgICAgICAgICAgICAgICAgICAgICAgICAgICAgICAgICAgICAgICAgICAKICAgICAgICAgICAgICAgICAgICAgICAgICAgICAgICAgICAgICAgICAgICAgICAgICAgICAgICAgICAgICAgICAgICAgICAgICAgICAgICAgICAgICAgICAgICAgICAgICAgIAogICAgICAgICAgICAgICAgICAgICAgICAgICAgPD94cGFja2V0IGVuZD0ndyc/Pv/bAEMABwUFBgUEBwYFBggHBwgKEQsKCQkKFQ8QDBEYFRoZGBUYFxseJyEbHSUdFxgiLiIlKCkrLCsaIC8zLyoyJyorKv/bAEMBBwgICgkKFAsLFCocGBwqKioqKioqKioqKioqKioqKioqKioqKioqKioqKioqKioqKioqKioqKioqKioqKioqKv/AABEIAdgCXgMBIgACEQEDEQH/xAAfAAABBQEBAQEBAQAAAAAAAAAAAQIDBAUGBwgJCgv/xAC1EAACAQMDAgQDBQUEBAAAAX0BAgMABBEFEiExQQYTUWEHInEUMoGRoQgjQrHBFVLR8CQzYnKCCQoWFxgZGiUmJygpKjQ1Njc4OTpDREVGR0hJSlNUVVZXWFlaY2RlZmdoaWpzdHV2d3h5eoOEhYaHiImKkpOUlZaXmJmaoqOkpaanqKmqsrO0tba3uLm6wsPExcbHyMnK0tPU1dbX2Nna4eLj5OXm5+jp6vHy8/T19vf4+fr/xAAfAQADAQEBAQEBAQEBAAAAAAAAAQIDBAUGBwgJCgv/xAC1EQACAQIEBAMEBwUEBAABAncAAQIDEQQFITEGEkFRB2FxEyIygQgUQpGhscEJIzNS8BVictEKFiQ04SXxFxgZGiYnKCkqNTY3ODk6Q0RFRkdISUpTVFVWV1hZWmNkZWZnaGlqc3R1dnd4eXqCg4SFhoeIiYqSk5SVlpeYmZqio6Slpqeoqaqys7S1tre4ubrCw8TFxsfIycrS09TV1tfY2dri4+Tl5ufo6ery8/T19vf4+fr/2gAMAwEAAhEDEQA/APaD4xf7SZhp4OkDUP7NN55/7zz/ADfJz5e37nm/Ju3ZzztxzR4b8S3ur6ikF3HAitZtOfLUghhO8eOSeMKPxz9KpXXgu8u459DuBYzeHLjUjqMvmktK+ZvPaAxldpUy5O4t935dv8VUfAEMUOp28NvGkUKaUyIiKFVQLqQAADoKT02FJ2asb9t4pupntbqTTI00i9lENvdLclpSWJClo9gAUkDBDk8jgU8eI54dF1u/nt45DptxLGkaEpvVACMk55564/CspPD11e6PZeFdV0hJdMsnTzbmZo3huIkJKIEyWLcLuDKB1wTTNN0CKfwb4m0PRrW0to5Lu4hggCiOFcqvGFU4HPYH6VS+Fjf9fidLqGstY6zp2ni33/bkmbzC+PL8tQemOc59RWdbeKZm8K6FevbRz6lrCRrDbo/lxtI0Zkb5jkqoVWPc4HQmsLSPBU1h4ntNUj8KeGPD8VrBMkj6ROXkm3qAAR9mi4GM9T9K1NC02DUfhr4eeaSWGWzs4LiCeEjfE4ixkZBHILAgjBBNOK91t91+TD7SKWsfEKTTml0+RLC11y3WV5bF7jzdyLbvKskf3GZMqATtHQjjg10Ka84utCtpLdWbVYXkaRWwIisYfgYOc5x14965+98OS654TF5pMk08+oRPdSNeMqySl7Vo0XC/KMblGBgDk/WTxH4SutXtPDu7RtH1hdNjYT2WrS7YmJjCggiKQEgg9vxqdbC1uaGr+KLiz89ba3jVoNVs7FjKSwdJnjDMAMYIEhxyeRn2rpicDmvNLjw/LoHh8LJpWl6Qlz4h0+WOz0qQvDGPPhU8+VHySCfu9+teiXtol7ZyW0zSLHIMMY3KNjuMjkenFX9hPzf6D6/15mJ4T8UJ4jj1EMYxPZ3ksXlqpUmHefKkwTyGUZ3DgkNjpin6L4liuPBGl65rk9vaNeW0UjkHam91B2qCSTz0GSa5SG71OS4hvdJurHy4UaC2kj8JXjbYgcbNy3IDAY9MZGQK1FM2ifCrSpriC7sprO1t0ktLWQoyk7UKchicZ6ck4rP/AIBVr6GpF4wgSeVtUsrrTLDg299dxMkcgxyXyB5OD/fxn9K2ry8Sz0+W7Mc1wkaF9lvGZHceiqOSfYVxmoajHZ2oljuPE7kyxx4mikiUbnC5LGPA61peLNTi07wjq9jb6hIuo22lSXCt5hEwUKQJMjHfv60ydL2OoVtyhsEZGcEYIpa8mt9V01tZ8UDxH4o1Kykg1BUsokvZIwo+ywtiNQcOdxJ2YI56cnM8l74ps4LaxnnuVuvFNnCkUzk5sLoALMQOdn7o+YF6Bkf1o00H1Z6lVS31K3utQu7KIsZrMoJQRgDcMjB78V5/qdnOLHxldLrGrI+joPsapfyBYilqrgnn5snk7sg/iaqnUtE/4SnV28Ra/c6ZLLb2kkQivHtxI5izkFcb2/2efpT23/rb/MR6rRWP4SuNRuvCOmz60rLfSW6mXeu1icdSOxIwSPWtikBSvtSjtoG8hkmuOiQhxuY+mKltr62vI0e3nRw6hgAwz09KzbmJrXXhJYWRleSJmlxhVLZAUlj043dPaptKgRrq5upLUwz79o3oAVXAOBjjrnkdaANSiiigAooooAKKKKACiiigAooooAKiuf8AUN9KlqK5/wBQ30oAh0n/AJAlj/17x/8AoIqe4uIrS2luLmRYoYkLySOcBVAyST6YqDSf+QJY/wDXvH/6CKXVLEalpVzZF/L8+MoHC52nscd/pQBlWfjDT7u5njxKgjnSCIGGTzJGZA+DHt3LgHPI+783SrB8U6OouC955a2+N7SROoYbtuUJHzjcQMrkZIqvpvh+8ttTfUNR1KO6uJJfNcQ2xiQfuhHhQXYgcZ5J5JrPuvC+oRW8BF+k7Wfl29iI7XYYojNEzGT5z5hAiXkbBgHjnIF5gdNYahb6lbefaM5UMVZZImjdSOzIwDKfYgVZqjpVlc2cEhv7mO6uppN8kkURiTOAAFUsxAwB1Y1eoAKKKKACiiigAooooAKKKKACiiigAooooAbI/lxs+1n2jO1RyfpVKLV4pdPtLtY5P9KZVji43En8ewBJ9gav1m2WlvaC0jaRZEtYiqNjBLnvjtxx17mgCWz1H7TeT2slvJBNCqOVcg5ViwBBBPdG468VdrM0bTrzTxN9tura5aU72eK2aJ3boSxMjZ4AA6YAx0rToAZH96T/AHv6Cn0yP70n+9/QU+gCrfalZaZHG+oXMVsksgiRpGwGY9BVqsu78P2OoX8lzqKG7DRGFYZsGONT97aOxPc9at6fZLp1jHaxySyJENqGVtzAdhnvjpQBZqvcX9raXFvBczpFJcuUhVjjewGcD3xViqmpaZa6tYtaX0QkjYgjsVYdGB7EetAEiX1tJfSWUc6NcxIHkiByUB6E+mcVPVDSdHtdGt3jtQzPK/mTTStukmf+8zdzV+gCG7uDa2cs6wyTmNS3lRDLvjsB3NY1p4y0rUriyg0t5L2W7BYpCuTAo4LSZ+6AeOec9K2L4XbWEw05oluihETTA7A3YnHaub0zwjdaFqUV9pmo+dLcvnVftC8XOckuuPusCTgdMHn3AOrqlq//ACDW/wCukf8A6MWrtZ+uSxwaPLLM6xxxsju7nCqodSST2AFAF6P/AFa/QU6sqw8S6FqEsdtYa1p9zOw+WKG6R2PHYA5qe/1vStKkjj1TU7OyeQZRbi4WMv8AQMRmgC9RR16UUAFFQ3d5b2FpJdXsyQQRDLySHCqPc1x0vxY8Ox+L00LzSyuOb9ZE+zqducFt34fU0AdvRUFlfWuo2cd3YTx3FvICUljbKtg4OD9QanoAKjFtALo3IhjE5TyzLsG7bnO3PXGecVIOlIzKi5chR6k4oAWo4beG33+RDHF5jl32KF3MepOOp96oaZ4i0vV7q5t7G6V5bd9rIeC47OufvITkBhwSrDOQaoXnjGCw1yXTrzTrqAQxiaS6luLVIkh3bfNO6YMFzx93PtQB0RGQQeQe1RQ20FvapbQQRxW8aBEiRAqKoGNoA4Ax2qto2rQa3pi39myvA8kiRujh1cJIybgRwQduR7Gr1PyA5v8A4Vz4I/6E7w//AOCuD/4mugtreCztYra0hjgghQJFFEgVUUDAUAcAAdq5+5+IHhiyhu2vNZsreazaVZLWW6jWYlCQQELZycceuRWnqWqXFjFFJa6Pe6isilmNs8C+UBj73myJ1z2z0OcUgLlxa292ipdQRTqjrIqyIGCspDKwz3BAIPYipazNK1uLV2TyYZI1ks4btfMxuCy7sKQCRkbeeTWnQBzsvw98GTSvLN4Q0GSR2LO76ZCSxPUk7eTWqdF0ttH/ALIbTbM6bs8v7EbdfJ2/3dmNuPbFSXF/DbXdrbSkiS6Zlj6dQpY/oKo/8JLpwXUczK0unSbJreJhJKCeE+Qc5Y8Ad6B6lWDwB4NtbiOe28JaFDNEwdJI9NhVkYcgghcg10NYsHiJZUKz2F1ZXKTRRSWtyY96CRsK2UZlIPPQ9iK2qBGXpGhQ6PfatcxSvI2qXn2twwHyN5SR4HtiMH8afNpC3PiG11Sad2+yQyRxQYG0M5GX9c4XA9AT61NqV5JYWZnhsp75gwHkwPGrH3zI6r+tVLLX4r1LMi2lge5kkjMUrIXjKbs52MwPKnoTS/QDWowPSsFfE0si3Mq6FqC2luJj9rd7cRt5e4HAEpfkqQPk+uKtX+uLZJarDZXV9dXSl4rW1CbyoA3MS7KoA3DksOSAMkgUwNSis7Ttat9UaL7KGKSwmUFhgqQ20qR2IOQfcVo0AFFZOra62m39rZW+l3upXNzHJKsdq0S7UQoGJMkiDrIvQk1as724ubFp5tMurOVc4tp3iMjY9CjsvPu31xQBcorCi8SXBv7W2vvDuqWC3UvlJPO9syBtrNg+XMzdFPat2gAoqpqmoLpenvdNDLcbWVVih27nZmCgDcQOpHUgVX03Vby+uGjudB1DTkCbhNdSW7KxyPlHlyuc856Y4PPSgDTorAvfFaWt9c29vpd9fLaMFuZoGgVYm2hsESSKzYVgcqCOcdcirN9r32ZbT7Fp15qbXaGSNLUxKQoAOT5roO446+1AbGtRWNY+JrK91OGxbFtcT2q3MUM8iCRwWZWUKCcldnJBI5FbNABRVTUNQFgsAFvNcyXEvlRxwlQSdrN1ZgOinvTbLUjd3MtvLZ3FpLEquUmKHIbIBBRmHY0AXaiueLdz6CqUGrTXDoYtIvTC7YE26HbjON2PM3Y79M+1WdQnS3s2eXO0sqcerEAfzoAbpP8AyBbH/r3j/wDQRVuuTHipdLuYdINus06MsKBZlDMu0kNt6ngcmnXPjSWzulju9FuIYnYqLh54xHwpYnrkDAPJFAHVUVzA8ZH+xn1P+zZDbpG0hKSg5Vc9OOelSv4olS9W2Oly7miaXIfPAIHTHvQB0VFcgfHoCzn+xtQURKWBkt5UDADJ5aMAenOKtXPi6W3KKmj3FxI6F9kLgkKOrHOB3A65PYGgDpaK52HxU884ji012BhWYN5nBDE47e1QzeL7uG9S3Hh68kMmdjrNFtYDGTywPGfSgDqKK5i48YTQWc9x/Y08iwMwcJKuQF6t82BimQeM5ppbVH0W4hN0rPH5kyHIABz8uRzmgDqqK5WLxnPPdSQxaFdMscpieXzowoI68E7sfhVq18TTXVrHOumSASLuAMnT9KAOgorF/t64/wCga/8A38/+tSf29cf9AyT/AL+f/WoA26KxP7euP+gZJ/38/wDrUf29cf8AQMk/7+f/AFqANuisT+3rj/oGSf8Afz/61H9vXH/QMk/7+f8A1qANuisT+3rj/oGSf9/P/rUf29cf9AyT/v5/9agDborE/t64/wCgZJ/38/8ArUf29cf9AyT/AL+f/WoA2EBDPnu2R+Qp9Yn9vXH/AEDJP+/n/wBaj+3rj/oGSf8Afz/61AG3RWJ/b1x/0DJP+/n/ANaj+3rj/oGSf9/P/rUAbdFYn9vXH/QMk/7+f/Wo/t64/wCgZJ/38/8ArUAbdFYn9vXH/QMk/wC/n/1qP7euP+gZJ/38/wDrUAbdFYn9vXH/AEDJP+/n/wBaj+3rj/oGSf8Afz/61AG3WP4ruvsPhi7uzNHAtvslaWSNpFRVdSSVXk8A8Dmm/wBvXH/QNk/7+f8A1qR7u41VBbNZeVGzAuWbdkA5xjHtQM5zTbvXZ9VsYNYhmshJdNNayXdsjLK2xiUUx3MhX5NxG4KOPXgprN14ntfEWpf2bZaXGrW3nyNJesTJEpZV4+znDYz8uSB6111hoGkaXObjTtKsrSdhhpILdEYj0JAzVt7S3lkeSWCJ3dPLZmQEsn90n056UgM7wxbXdl4etbS8tbe2FvEkUK29yZgUCgAkmOPB9guB+la9IoCqABgAYAFLTEcf8VUjf4baoJraa4GxdqwnBVtwwx9geSK8WgvvByfDCXS7jSpD4pLHY32Y+Zu3ZDb+y7f4f0719MEBlIYAg9Qaw5PBmhy+K08RvZk6nGMLL5rbfulfu5x0PpQBifB+OGP4a2Pk2lxbEs5k89s+a+cF19FOOnHQ9ep7ikVQqgKAAOgApaAEHQVQ1vSRrWnG0a7mtVLBi8UUMhOO2JUdcfhnirnm/wCw/wD3zR5o/uP/AN80ActYeG9RuL1pNQ8R6tKljd/6Ok1pZAOoVTnP2cEZyRlSPY1V8SQzWOro1lALbcwuPtzaVdak8smTlR5Dq0QUY4YlWDYAG057TzR/cf8A75pPN/2H/wC+aAMzwvHcR+H4vtkDW88k00rox7vK7bgOqg7shTkqCASSCTrHgHAyfT1pvm/7D/8AfNJ5o/uP/wB80AcVeeHZrq5cf2PqSWlx5purePW5ESQvycKsgAGS2QMda6G7s73VrW3tJUjs7J1P2uMtvkdR0jBHAB7tknHAHO4anmj+4/8A3zR5o/uP/wB80AZ1tA8fiq9kETLCbOBEfbhSQ0uQD04yOPcVq1H5o/uP/wB80eaP7j/980Acn4tkt9P1CKSfRb7VI7yNhI9rFPM8DLt27CmfK6k5AGTznOavaK6634cu3utMmtUuJpD9nuY5I5GGRhiHwwJxnIx7VveaP7j/APfNHmj+4/8A3zStpYfW55z4e1x7i3022k8MazDe3Utu93NeWt4VRwQWPmSAkBTnALED3r0qo/NH9x/++aPNH9x/++ap6iMLxxp4v/Cly4S6llsx9qiitY0eSR0BwoV45Ac9MbD7c1leH4NNTUrFLT+1J7iFpCbi+0N7QhChGzetvEgAJzg88nrXZGUf3H/75o80f3H/AO+aVgOQbQdRsLTUvL0nT5DItyRcx3khmYOWYYj8rGeQMbvxp3ifTvsXg+0OmWskdxBJEiNBDcSyQq7qJCEgdZGGCSQGHTnpXW+aP7j/APfNHmj+4/8A3zQByXg17k37wyhXggtgsci6Jd6fty2Sv7923k9cjn1612NR+aP7j/8AfNHmj+4//fNAHN+KdMutTlD2mn3RureJ47a7t9Ra3279pYEKwJGUXrnpV3T9OaXT5rG6ttQtIWYMHfVJJJGOegkDl1HA4zWv5o/uP/3zR5o/uP8A980Acta+Fbe41q+F7Jq7Q2s8b2Zk1O6wp8obip8znlmHfqRXWjgUzzR/cf8A75pPNH9x/wDvmgClrlubvTTbmykvEkZdyRXHksuDuDBgQQQQOhzWNoWn39hes89jqJ3yMoefV3nWOMnj5GcjIHfGfeum80f3H/75o80f3H/75oA8m8RaB53iS8Z5L1FtZAsAk0jVb4zL5atnzo5wv3mbhcYxzXS+J7Bk8F2Bht7+S5Dr+8TzJ5odwy2d8U74zxgqSOORiu080f3H/wC+aPNH9x/++aOlhvVnF/D9b4Xd79ulu3jWCKOFbqyaEoFLkgMbS3BHzDjDY5PGa7io/NH9x/8AvmjzR/cf/vmm9RGH4j1LTIpIra+uLeOaM+dHu1Bbd0bDKD94HGCR6Vn6XrOjQROJdYtYbmWEJJdnVY5myAcEB2YDkk9Me1db5v8AsP8A980eb/sP/wB80gPPLXWPDTNGZPFNzbz7+VEMBVWz/e8jGO+eldDqmt6Bc6HLbyeIbOZlQMGF3BvkZeRxgrkkf3ce1dF5v+w//fNHm/7D/wDfNAHn1hq3hQXdpLFr2ZzOskguB5SD5CuMIiR55+8R+NWtT8Q6PDfybdf051kQ/vpkN1wSfkUROoQDA5PJ7k4rt/N/2H/75o83/Yf/AL5oA5C21DQbnQ7OyudY0yG3+9cQm8jJcZyF68Ankj049aWDVtETXLQ3WtaZMtvbSLHN9qT++m3Jz97H54zXXeb/ALD/APfNHm/7D/8AfNAHm02reH7W+uYUv4Jo2DxoPtS9H6kOkRDdePMkOO+DzXRz6xosM0Uul61oq7YTC0Ml4iqBnIYEZ5BzxjnPUYrpvN/2H/75o83/AGH/AO+aOgzl9P1jQLPUfLGtac0UdlFEJDdRgMQWz3/zmmXmoaLd3rXb+INHLxDZbQm7TZsP3wxDZy3TP8OBwec9X5v+w/8A3zR5v+w//fNAjkf7X8PRaTdImoabIY53kihN6gVvTI3fMO+O+KoaXrehz61bvPq2mTQwK7KwQ2qRMcfwyu27OONuMYOc5rvfN/2H/wC+aPN/2H/75oA821DW9Ig8QzTR63DI0bBkl3QsHzhuCls/Q8Z3Z4rtvDd1ZX+gW0tjJHIioFYJKJNjYztJAHPI7A89K0/N/wBh/wDvmjzf9h/++aOgC7F/uijYv90U3zR/cf8A75o80f3H/wC+aAHbF/uijYv90U3zR/cf/vmjzR/cf/vmgB2xf7oo2L/dFN80f3H/AO+aPNH9x/8AvmgB2xf7oo2L/dFN80f3H/75o80f3H/75oAdsX+6KNi/3RTfNH9x/wDvmjzR/cf/AL5oAdsX+6KNi/3RTfNH9x/++aPNH9x/++aAHbF/uijYv90U3zR/cf8A75o80f3H/wC+aAHbF/uijYv90U3zR/cf/vmjzR/cf/vmgB2xf7oo2L/dFN80f3H/AO+aPNH9x/8AvmgB2xf7oo2L/dFN80f3H/75o80f3H/75oAdsX+6KUKB0GKZ5o/uP/3zR5o/uP8A980ASUVH5o/uP/3zR5o/uP8A980ASUVH5o/uP/3zR5o/uP8A980ASUVH5o/uP/3zR5o/uP8A980ASUVH5o/uP/3zR5o/uP8A980AOSRJY1kidXR1DKynIYHoQadVPS7+21GyWS0u7S6C/K72kgdA2OgwT+VXKACisHxVe6lZ6du063Vl3xZm+0bGUmVRtxg5BHGc9617SS5ltw15brby5OUSTzAB9cCgBr6lYxXDQSXlusyglojKNwGM9OvTn6U+2u4LyHzbSZJo9zJuQ5GQcEfgQRXGa5ot8utalJBpmpX0GogFpLO+8nysIqgbTcRjOUBJC8gkEkZFTaBqEOm+FR5t/b6W0l9dKx1JkUq3nPuUAOVYg+jEGjoNnZKyuMoQwzjIOaqTaxptvI0U+o2kUinDI86gj6gmsXRL3SbO6Wy0vxHZXsMrFhBJdJJKHOSxUg5IJy2COMnGBgDAub5f7Ru5LPxZpiQSzNIiLqdqoAPqGtnP/jxoEeiAhlBU5BGQR3pagsbuC+s47i1nhnjYcPBIHQnocMOvNT0AFFFFABRRRQAUUUUAFFFFABRRRQAUUUUAFFFFABRRRQAUUUUAFFFFABRRRQAUUUUAFFFFABRRRQAUUUUAFFFFABRRRQAUUUUAFFFFABRRVa/vU06wlu5UlkSIbmWJNzY7nHt1oE2krss0Vh3mu/a5IrHw/JHPd3EfmecBuS3jP8be/ovetSwtWsbCK3e4luWQfNNM2Wc9yalST2MoVo1JNQ1S69L9iwelcpo/iyS6jM97NavCto1zN5EbKbYL2Yljuzzzx908VrW3iTTrszCL7YEhUs8sthPHGQDg7XZArc/3Sc9RxVG/0DRktLDTr6eRYpAtokbEEXABEnlvxyD5ZB6ZBI71RsQr4snSy0ua5to42nuzbXqZP7g4OD+ZU89jmtHSNak1PWNVtjGiw2cipE4Jy+QQxP8AwIEVm3+g+H9HjlJs7qK1uiQ1pp9jJLGGMZRm2RISpKkAngfKO+c3/DNnp0Vo1xpjXbK6pC/2yJ45CUBGWV1VsnJJJHOc0AxdW1uaw1mwsYokYXZCl2z8vOOnetPbd/8APaH/AL9H/wCKqhqtlpk2oW1zfXYt54OYiZVXHOc4PWnfbLT/AKDy/wDfyH/4mgC7tu/+e0P/AH6P/wAVRtu/+e0P/fo//FVU82P/AKDf6xf/ABNAlj761/49F/8AE0AWGkuIZ4FkeN1lcodqEEfKzZ6n+7VqqEXkS3MROpfaHRiyIWj5O0j+EA9Cav0AFFcxe6z4mg8Vw6Za6FDPYzDf/aPnkJGo6hhjhvQd8/XF7xPr3/CP6QLhIfPnkcRQx5xuY1pTpyqTUI7sic4wi5S2RrFyJ0Tsys35Ef40+qls1w32Vr1EjuDAxkRDkK2VyAat1DVnYpO6uFRXFzBaQmW6mSGMEAvIwUDPuaZfX1tptjLeX8yQW8K7nkc4AH+e1eY2upal8T9fntfI8rw3EpSQMuDn+Fw3/PToQOgGcg5OUM9WpNw3FcjcBkjPOKqxWf2LSEs7AsPJhEcRd+RgYByQefwP0rAFhfNqLKFYakkQc3ovzuKsSNu3ythHyngpgZyPmOaAOjmvbW3cJcXMMTEZCvIFOPxp8c8UrukciuyY3BTnGRkfpWFrkM7z2UmZXuo/mt7e2VWLPjDlixUFdpI6r145xTvDUYjudRBS4hkMiF4bmVpZEOwdWLMCD1GGIHTggigDYF7atP5AuYTLnHliQbs/SnpcQywJNHKjRSAFHB4bPTBqkEe+1FX8gw29s5IZ1w0z4I4HUKM9T1PTjk4aJdHwNp4E4GUhMflRjfuyuxRuypOe54+lHS47HW0VzuhS6ub94tUnuNwTd5N0kOdvTcpi468cn8K6KgQUVR86+/uRfkf8aXzr7+5F/wB8n/GgC4yq67XUMPQjNLVHzr7+5F+R/wAaPOvv7kX5H/GgC9UcFvDbIyW8Sxqzs5CjGWY5Y/Ukk1kaTq97qlnJcCCGPZdXNvt5bPkzvFnPHXy847Zxz1q7519/ci/75P8AjQBeoqj597/ci/75P+NHn3v9yL/vk/40AXqKo+fe/wByL/vk/wCNHn3v9yL/AL5P+NAF6qY1bTjLLEL+28yFtsiGVQVPoRmm+fe/3Iv++T/jWLe+FtP1C7e5u9MtnmkOWbDDJ/Bq1pKk3+8b+RnU9pb3LfM3v7TsP+f22/7/AC/40f2nYf8AP9bf9/l/xrmf+EJ0j/oE2/8A4/8A/FVy/hHw3YatcalLPaJMIbhkRSSEUZPQA/zrup4fDTpyqKUrRt0XX5nLKtiIzjDlWvm+nyPT/wC07D/n9tv+/wAv+NJ/adh/z+23/f5f8a5n/hB9J/6BVv8Am/8A8VXnsur+GdHTUm1GwhupVuGFrCgYZXGBls8LkdeT14NKGHw04ykpS08l/mU6mIU4w5Vd+b/yPaf7TsP+f23/AO/y/wCNVbjxJolocXGrWaN/d89SfyBzXiumeJbTV70W2neAI7iUjIRLxycepG3gcjk16RonhyN7JZr/AMMafYysMiHzWnZR/tEgAH2GaUqOFpq8nL7kv1/QOfEOThZJ+rf6fqdojrIiujBlYZBByCKWqKyXiIFSKFVUYACngfnR51//AHIfyP8AjXnnYXqK5u98Q31n4i0/S/s0LfbFdt+T8uPatbzr7/nnF+R/xq505QUW+uq/IiM4ybS6F6iqPnX/APch/I/40edf/wByH8j/AI1mWXqKo+df/wByH8j/AI0edf8A9yH8j/jQBeoqj51//ch/I/40edf/ANyH8j/jQBeoqj51/wD3IfyP+NHnX/8Ach/I/wCNAF6iqPnX/wDch/I/40edf/3IfyP+NAF6iqPnX/8Ach/I/wCNHnX/APch/I/40AXqKo+df/3IfyP+NHnX39yL8j/jQBeoqj519/ci/I/41k6z4rXRSsdx5ct0/wDq7aJS0jZ6cZ4rSnTnVlywV2ROcaceaT0OhmmitoXmnkWONBlnc4Cj1Jrln8cf2hcPbeGNNn1OReDKRsiX3LH/AOtWLDaax4q8QTReJYzBDbQw3KWCk7CJGkUbuc5HlH8+3Suzto57K3WC0t7eGJPuokZAH611uNDD6S9+Xr7q+7f5WOdSq1tY+7H8X/kZGl6Lr1xrw1bX9Q8nYB5dnaOfLxgjBB+ufrXVVR86+/uRf98n/Gjzr7+5F/3yf8a5q1aVVpuytpob06apqyL1FUfOvv7kX/fJ/wAaPOvv7kX/AHyf8axNC9RVHzr7+5F/3yf8aPOvv7kX/fJ/xoAvUVR86+/uRf8AfJ/xo86+/uRf98n/ABoAvUVR86+/uRf98n/Gjzr7+5F/3yf8aAJrPT7TT1kFlbxwCRy77FxuJ71YPIqj519/ci/75P8AjR519/ci/wC+T/jRYUYqKtFWMv7Hqltoc1jJBbyQrGwV4ZWaRucj5Nn9alu7Fpb24eTRVuxL8u6a73DAx91WyE6A4XHPPWr/AJ19/ci/75P+NHnX39yL/vk/40DM670+ae0tYTY3mIlPEWsTRMOejMrAvwB1JxVnw/aXFjazQXFu8SeaXjMl007EH1Zsn8zVjzr7+5F/3yf8aPOvv7kX/fJ/xoAwPGOhX+r3Vs9jEHWNCGJcDnPvXPJ4M1tZFY2y4BB/1q/416B519/ci/75P+NHnX39yL/vk/40AT/aJP8An0m/NP8A4qj7RJ/z6Tfmn/xVZF1r09rrFlppiR57sMQFH3FAJ3HnpxWh519/ci/I/wCNXKEopN9SYyUm0ug+Qyz3Fsfs8iLHKWZmK8DYw7H1Iq3VHzr7+5F/3yf8aPOvv7kX/fJ/xqCi9XFWOPFXjya/K+bpulL5MJPKtL1JHqf/ALGota1XUPEd8fD+jSgKD/ptxCDiNe65zyf/ANXrXRabZyaTp8dnYwQxwxjAG08+555Neil9VpuT+OS08l39X08tTjb+sTsvhi/vfb5GmwJu4zg4CMCfxWpao+dff3Iv++T/AI0edff3Iv8Avk/415x2Gf4s8KweLdOis7q6mt445fMzFj5uMYOfrWppum2mkadFZafCsUES4VR39z6n3qPzr7+5F/3yf8aPOvv7kX/fJ/xoAvUwRoJjKFHmFQpbHJAzgfqfzqp519/ci/75P+NHnX39yL/vk/40AWbi1gu0CXMKSqDkB1zg0W9rBaRlLaFIlJyQi4yaredff3Iv++T/AI0edff3Iv8Avk/40AXqhNpbm0FqYY/IChRHtG0AdBiq/nX39yL/AL5P+NHnX39yL/vk/wCNAE9vZW1pu+ywRxbuuxcZqeqPnX39yL/vk/40edff3Iv++T/jQBerI8Q6zcaJDZTQ2cdzFPfW9pMWnMZiEsqxh1G07iC4OPl4zzWvWXr2hrr9nDbSX11ZrFcRXAa28vcXjcOmd6MMBlU9Occ8cUAYr+NrlbwWw0qPzLzf/Zmbs4uAkqxP5nyfusF0PG/IPqMVu6Vq4v8AR/ttxF9meN5Ip4w28I8bsjgHA3DcpwcAkYOB0rO/4QuyMzzG8vTMP+PaQsmbPMgkbyxtxy4UncGztA6DFa+madDpWnpaQNI6qzO0khy0jsxZ3Y9MlmJOABzwAOKAMnwRIs3h2aSM5V9U1EqcdR9tmroawPBn/ICuf+wtqX/pdPW/QAUUUUAFFFFABRRRQAVRlfTNBsp7mXyLG3LmSV8BQWPUn1Jrm/FnxL0fwvI9qN15fBSfLixtQ9gze/oMnjnHFeOX1/4k+IOtpvSW5mb5YoIVAEak9PRR6knPqeK6KdKctOg+VW55aLv/AJd/kdh4l+LM+rXJ07w5G9vbFir3JI3yJjnA/g79yenQ8Vz3hzwfJ4m1+Ozud1t8xlkkZcMIhj7oPc8YPvnmrt14RtPCX9nJqspe8lHm3MERGIo8/cHqzdM9OD25r03wjpd82p3viDVIo7eTUEURQKSTGnv6dBxXsqMcPg3J21vb12+fV3/zPKnUdXE8tO6tv6fpfRW/yNbQPDOl+GbR4NJtxH5hBkkbl5MdMnvjJwO2T61rUVieI9EOsRw+bqk9hbQktIIW27/Qk+1eHBKpP35W89z0JXhD3FfyNiSWOIAyuqA9CxxTwcjI5Fcenw50uRle9vb68QD5Vln4Hvml1bWZXmi8M+EiGuggSS4BytqmMZ3f3sf5zXT9WhNqNGV+7asku+5h7ecFepG3bW7Ymu/8lK8P/wDXKWuwrg5bL7B468N2AuZLuS3t5C8khyxznk/ka7ynjElGkk7+7/7cwwzblNvv+iCiiiuA6wooooAKKKKACiiigAooooAKKKKACuYvLqWP4kWMXnOsBsZGZNxCnnqR07UnjSHTGtYrjVdWubEQ52x28uGlJ/2R1PFeWyH7fq5+wHVJrdV2tu/eTBe44OMGvdy/AqtB1G+jW2n3nlYzFunJQS6rr+h6Ve+Lb3VZ3sfB1o104O172QYij+mev+cZrR0Hwpb6TIb27c32qScy3cvJyeu30FcfpVgNL1Lw9cWM2pW8d1cvG9tdNtwB/sjjBzXp5YKMkgD1NY4y2HiqVDSL37uztq/0Whphr1m51d19y0vp/VzFtf8AkfdV/wCwZZf+jbqtquSuvEWl6P4y1O4vrpFVtPtEQJ87OwkuSQAO/wAy/mKh/wCE5v70H+x/DN/OD92SQbV/HAI/WuOng69RXUdO70X4nTPE0oOzev3/AJHZ1E11boxVp4lI6guOK5JPC2t6yhn8Ra3cQGTk2dm+1EHofX9fqamT4beHlUBorhz3Zpzk/lV+xw0NJ1LvyV/xbRHta8tYw083b/M6pHWRd0bKynupyKdVLSdItNEsRaaejJCGLYZixyfc1drjlyqT5XodMea3vbhRRRUlBRRRQAUUUUAFFFFABRRRQAUUUUAFISACTwB1pa5zx3rH9keFLgxtie5/cRexbqfwGfxxWtGlKtUjTju2Z1Kipwc30KHhRX1vxNqniOYHyt32W0z/AHF6kfp+JNdfPPHbW8k9w4SKNSzsegA6mvNdN13X9D8K2ji20y2sxETCJ5tskg65C5ySTz+NRat48TxF4bfTVhe1vJ3jR+6sC3OD19ODXs1sBWr1rx+BNLR3slp/XmeZTxlOlSs/i316t6nTeHdQ13Xrv+13mhtNILsI7Zky7qMjJPbn+tRatqt34j1hdD8OXPl26jN7fRc7B/dU+v0/oa6KbR7eTQTpMZeC38kQjyzhgoGOtO0rSbLRbJbXToFhjHUj7zn1J7muL6xRUnUjHVaRVtF5vuzq9jUcVBy06u+vouyGaNolloViLXT4ti5y7nlnPqTWhRmiuCc5Tk5Sd2zrjFRXLFWQUUUVJQUUUUAFFFFABRRRQAUUUUAFFFFABRRRQAUVxet+JNe0nWbpJEtYbOS4itNN8yzdvOkkWMBmlEvADu+V2DIThsmt7R9QvJtOuf7RWOe7s5nhkNrGUWUrggqrMSMgjgsee9AFbwZ/yArn/sLal/6XT1v1z3ghzJ4dmco0ZbVNRJRuq/6bNwcd66GgAooooAKKK4Dxf8V9M0FGt9IMWpXv3QVfMSEjg5H3sHHygjuMg1Si3sOKcmorVs7HWNZsdB0177VJxBAhAzjJYnoAByTXh/iT4l32ravdLp1xdxWLfIsQfaAuOc49fxrG3eJPH2suheW7lkJl8gSYVB04BOABnGK9a8IfC3TdDSC71QfbL4Id0bYMMZPoMZJA4ySfpXdSf1Z873+/8OnqZVY05Jw+J+Tsl6vq/JfecP4X+H974pgN+8EdpatnZNMMtIc4OB1x15P611tj8MNQ09JEs9c+zLJjeIUZd2OmcHmvSKK0nmdeUm42XyRyxwNPlUZNu3mzzn/hWF4bkXD60JJsg75Id54+pNa3/CM+J/8AobJf+/IrsKKiWZYifxNP/t1f5FRwVGPw3Xzf+ZxkvhHxDcp5Vz4ruDESNwRNp/MGtfxTok+t+HG0+1nCSbkO6Uk7gp74rcorF4yq5xnp7uq0S/I0WGpqMo66+bOM/wCEV17VVSDXtaEdnGABBYJs3cY5OP55rpNJ0TT9DtjBptusKtyzZJZz6knk1ianrmsXfiaTR/DiW4a0RXuZrjJHzYIUAexrY1nU7vTLSOS10ybUZGOGSA428dT7VvWeIqKMG0lLWysvm9lr5mNJUYOUkm7dXd/d/wAAwfDsRvvHWu6nOctbsLSJf7o7/wAh+ZrsK53wdpV5Y2V1d6qNt7fzGeSMYwnoK6KsMZJSrNJ3SsvuRthotU7tau7+8KKKK5DoCiiigAooooAKKKKACiiigAqpq19/ZukXV6E3mCJnCnuQKt1k+KQW8J6mAMn7M/8AKtaMVKpFPZtEVG1BtdjC8G+Hba50+DXtWBvdQusyiSZtwQE8YHT/AA7Yq1qnhK6m1t9S0TVG0yWWMJKqRghsd6u+DHWTwZphQ5AgCn6gkH+VbldlfFVoYibT6tW3Vr7Wehy0sPTlRimuz8797nmWuaHrMWuaLbXviGWeW4mYRSBMNDgDLDFbq/D1JmB1XXNSvR3Uy7QfzyaZpEg1r4k6lfAmS30+IW8LY+UMfvY/Hd+FdnXRicZXpckIuzsr2SW+vbs0ZUMNSqc02rq+mre2hyWieHtK0vxlqFvaWaBIrC0kQyZcqzSXAYgtkjIRenoK62sW0/5HzVf+wZZf+jbqtqvKqVJ1HzTd2d8YRgrRVkFFFFZlhRRRQAUUUUAFFFFABRRRQAUUUUAFFFFABRRRQAVwfxY/5Adl/wBfH/sprvKxvFejDXfDdzaKitPt3wFuzjkc9s9PxrswNWNHEwnLZM5sVTdShKMd7HJeBbJPEF9calqqpcCyRLW2hdQVQAdcev8Aiax/GWm7fiJFBpkKiWfy3CZwpcn9OlX/AId67p+iWuoW2r3K2s3nbsSA84GCPrntVKxu7jxN8QLbU44ZmUXQCARHakS9y3rX0kVVp4urU2hGOnbY8RunPD04fab177nZf2h42/6A2n/+BH/16Pt/jX/oDaf/AOBH/wBeuqor5v6zH/n3H8f8z2/YS/nf4f5HK/bPG8nyppelxH+9JMzAfgDmmfZ/HTcm+0tM/wAIiJArraKPrVtoRXyv+dw+r33nL7/8jntLg8VpqEbateWMtrzvWKIhjxxg/WuhoornqVHUd2kvRWNoQ5Fa7frqFFFFZlhRRRQAUUUUAFFFFABRRRQAUUUUAZl74d0zUppJL+3a4MgIKSTOyDI25VM7VOO4ANW7Kxt9OthBaIUj3FjucszMTkksSSSSepNWKKAMDwZ/yArn/sLal/6XT1v1geDP+QFc/wDYW1L/ANLp636ACobu7gsLOa6u3EcEKF5HPYDrVTV9cstFhBumeSZ/9VbQIXlmPoqjk/y9SKx5tE1LxXZOniSR9PspRxpttIN2O3myDqf9lePc1PMr2OmGHbh7SbtHz6+i6/kurPLPFnxT1XxC0tppAawsGO35W/eOM/xMPX+6OO2TU3g74VX2tEXmsNJYWoI4eP8AeyjuAD90e5z9DXpXhv4c6J4auvtUEbXVyBiOScA+V/ujGAffr+Zz1ldjrRgrU1r/AF/Vzmk3L3VpH8X6v9FoZ+k6Dpehw+XpVjDbcYZ0X52Gc8t1P41oUUVzNtu7EkkrIKKKKQwooooAKr392lhp1xdyfcgjaQ/gM1YrC8a/8iXqf/XL/wBmFa0YKpVjB9WkZ1ZOFOUl0RT8CadKmlzaxfc3mqSGdvZD90f1/EV1NUNIngGh2I82MYt4xjcP7oq39oh/57R/99CtMTOVStKTXX/hiaMYwpqKJKKQEMoKkEHoRS1zGwUUUUAFFFFABRRRQAUUUUAFFFFABTXRZY2jkUMjAqynoQe1OooA4iFdW8FXk9tZaZLqekTOZIBC3zwE9V75FSXnizWru0kttO8NX0NzMNiSzY2oTxu/Cuzorv8ArcJPnqU05d7vX1Vzk+ryiuWE2l200Mvw7oseg6HDZoAZMb5nH8ch6n+n0ArUoorjnOVSTnLdnTGKhFRjsjFtP+R81X/sGWX/AKNuq2qxbT/kfNV/7Bll/wCjbqtqoKCiiigAooooAKKKKACiiigAooooAKKKKACiiigAooooAKKKKAOAm+Gj3etSz3V9EbOW4MzIkWJCD/Du7V3dvbxWltHb26COKNQqIo4AFSUV1V8XWxCSqO6RhSw9Oi24LcKKKK5TcKKKKACiiigAooooAKKKKACiiigAooooAKKKKACiiigBk7tFbySRxmRlUsqDqxA6VyfgjWdT1PTJZLm7GpyPaW10kjKkaq8se5ohsXhVOMZBYBhknrXX1FBbQWqsttDHCHYuwjQLuY9Scd6AMPwQXPh2YzKqSHVNR3KrbgD9tmyAcDP1wK1dTXUXtQmkSW8UzNhpZ1LCNfUKOp9iQP5VkaLFq2j2dxatpfnbr+8nWRLhACstzJKvB5ztcZ96nutevrS4s4ZdFk33kxhixcJ94RvJzz/djb9KTV1YqMuWSlYn0fw9aaQXny91fzcz3s53Syn6/wAK+ijAHpWrWX/aGqf9AV//AAJSj+0NU/6Ar/8AgSlCSirIqpUnVlzTd2alFZf9oap/0BX/APAlKP7Q1T/oCv8A+BKUzM1KKw7HXb7ULdprfRZNizSwndcIPmjkaNu/qpqz9v1T/oCt/wCBKUAadFZn2/VP+gK3/gSlH2/VP+gK3/gSlAGnRWLLrd/FeQWzaLJ5k4Ypi4THy4z396n/ALQ1T/oCv/4EpQBp1FdWsF9Zy2t3GJIZVKuh7iqP2/VP+gK3/gSlH2/VP+gK3/gSlNNp3Qmk1ZmP/wAK38P9kuR/28NR/wAK38P/ANy6/wDAhq1m1HU0UsdFfAGT/pKVHZ6zqF7YwXUOiyeXPGsiZuEBwwyO/vXX9fxX/Px/ec/1TD/yL7jQ07T4NLsIrO0DCGIYUMxY/mas1l/2hqn/AEBX/wDAlKP7Q1T/AKAr/wDgSlckpOTu9zoSSVkalFZf9oap/wBAV/8AwJSq0ev3smrT6cuiyefbwRTv/pCY2yNIq8565ib9KQzdorM+36p/0BW/8CUo+36p/wBAVv8AwJSgDTorM+36p/0BW/8AAlKq6n4gvdJ0i81G70WTyLOB55dtwhO1FLHAz1wKAN2isz+0NU/6Ar/+BKUfb9U/6Arf+BKUAadFZn2/VP8AoCt/4EpR9v1T/oCt/wCBKUAadFYVp4gvb26voIdGk32M4t5s3CD5jEknHqNsi/jmrP8AaGqf9AV//AlKANSisv8AtDVP+gK//gSlH9oap/0BX/8AAlKANSisS41y/tZrWKXRZN11KYo8XCfe2M/PPohqx9v1T/oCt/4EpQBBaf8AI+ar/wBgyy/9G3VbVYumW98/iXUNRvLQW0U1pbQRqZQ5JR52Y8dB+8X9a2qACiiigAooooAKKKKACiiigAooooAKKKKACiiigAooooAKKKKACiiigAooooAKKKKACiiigAooooAKKKKACiiigAooooAKKKKACiiigAooooAK57xTqmoWPlrpK2fnRwTXjG7jZ1ZY1HyDaw2lt2N/OBn5W6V0NZ+r6Hp+uQpFqcLSomQAsjJuBGGVtpG5SOCpyD3BoAt2s63VnDcICqzRq4B6gEZqWkAAGBwB0FLQAVieJ73V7K1szoccZaS52XMslq1wIYvLdt2xXQn5lRevG7ODW3VTUdMt9Ut1humuFRW3f6PcyQE8YwTGykjnoeKAOd8OeI7zVbyGbNm2l3ktxFbiGFkkDQuVaRiWIIdlchcAgYyWya62suw8OaVpl813YWgglZduFkbYvABKpnapIVckAE4Gc1qUAFUdblvbfQ7ubS3gjuooy8bXEbSIMcnKqyk8Z7jmr1V7+xh1Kxls7oy+TMu1xFK8TEegZCGH4GgDjZvHF3BeTXU1tbtYWhNvJGsbec0wsfthZW3YCbSE27Sc857Vu+F9Wv8AUo76HVlt/tVlOkbPaqyxuHhjlGAxJBHmbevO3PGcCW08KaNZ3UdxDas0scPkhpZ5JNy4K5YMx3NtJXcctt4zjirelaNYaJaNbaZB5MbPvbLs7McBclmJJwqqo54CgDgAUAXaKKKAOO1LWvE0GpalY2SWU7Qy2zxOllJIYoJWkDb1Eo3sBGDkFevTjktfFV5PrVvDbG0k02M29vMwgdJJJZUZgyAthEXCjaQxOW5G3nXl8J6XNfXV4zagtxdbfNePVLlMhSSAAsgCgbjwMDk1NH4a0mHULa9hsxHPaxLDEVkYAKoYLlc4Yje+CQSNzYPJoA1KKKKAMnxJeXen6O93ZXtlZeSd0kl5btMpHQKFV0O4sQByeuMEmuUPjXWY9PfVZrKyjF00tpbWxRhJFNHKIcyybsMhkLnAUEDuSTXY6xoVhrsMEepJK628wniMVxJCyOAQGyjA5GTVY+EdEZroyWZlF3E0UyyzSOrBgAx2liAzBRlhhjjJJNAE2hXt1e2Mg1AxNc288kEkkEZRHKtjcqlmIyMcZOPWtOq1hp9vplmtrZqyxqScvI0jMSckszEsxJOckk1ZoAPpXCXWv+JDeXdnC+nXltbvsub6HS5ZY4vlcvCYxNl2XCZYN/HgqCK7s8isCLwTosNk1nEt+lsxJMI1S52HOcjHmYwcnI6HPNAFTTPEt9f60jK1nJpU1y1pD5cbCVmEIk83duxtPIC7c4wdxziuqrMg8O6Xa6odQtrURXBGMI7CMHaE3CPOwNtULuxnAAzjitOgArnfFus6loMNpfWfkPaieOO5ikt2JKtIqlhKHAjwGJ5Vs4xx1roqz9R0Ow1aeGTUI5JhCyssRnkETFWDKWjDbHwQCNwOCKAOTsfE2u3l0NMh/suHUbuOC9juTbOYhFLE5CugkBLgwld24DBBx/DXW6Fqg1vw7p2qrEYRfWsVyIyc7N6BsZ74z1qkPBuhiyktVtZEjlk8xmS6lWTIXYAHDbgoX5QoO0DjGK2YYY7eFIYI1iijUIiIuFVQMAADoKAH1FciY2kwtXSOfYfLeSMyKrY4JUEFhnsCM+oqWorm3S7tZIJTIEkXaTHI0bD6MpBB9wQaAOL0nxRrN3qVoNWFpb2aytbyS/YJMyT+bJGqgmU+SSojOGD/AH8Z5FaXhXxHe6zezw36W+1rO31C3aBGXbFM0qiN8scsPKzuGAd2No25N638J6PbTW8scExNu5kRZLqV0MhYt5jKzEO+WJ3sC3TngVa03Q9O0iS4k0+38p7ggyMXZyQCSFG4naoLMQowo3NgcmgC/RRRQAUUUUAFFFFABRRRQAUUUUAFFFFABRRRQAUUUUAFFFFABRRRQAUUUUAFFFFABRRRQAUUUUAFFFFABRRRQAUUUUAFFFFABRRRQAUU3fRvFADqKbvFG8UAOopu8UbxQA6im7xRvFADqKbvFG8UAOopu8UbxQA6im7xRvFADqKbvFG8UAOopu8UbxQA6im7xRvFADqKbvFG8UAOopu8UbxQA6im7xRvFADqKbvFG8UAOopu8UbxQBBeajZ6csZvrmO3ErhEMjY3N6VYBBAIOQehFU9S0601exe1voVljYcbh90+o9DXM+F9Sm0O+PhjW5MOhJsZ26TRknAB9fQfh2rqhQVSk5QfvLdeXdenU55VXColLZ7Pz7P16HZ0U3eKN4rlOgdRTd4o3igB1FN3ijeKAHUU3eKN4oAdRTd4qOe7htbeSe4kWKKNSzuxwFA700ruyDZXJqK41vE2r+IRKnhOzRbYEp9vujtGf9leufz966ixWa30+CK8uPtM6IFkm243nHJxW9XDyor32r9uq9e35mNOtGq/cWnfp8u5aopu8UbxXObDqKbvFG8UAOopu8UbxQA6im7xRvFADqKbvFG8UAOopu8UbxQA6jNM3ikR90xHotADt3sfyo3f7LflWF4p8SnQrCf7FCt1fR2z3HlE/LHGoOXf2yMAdzwO5FvRdaTVo5Y5I/s19bELc2zHJjJGQR6qex7/AIGgDS3f7LflRu/2W/KnVkahrJhvdJjsngmivL17aVgd23bHIxAIPBDJg5z3FAGru/2W/Kjd/st+VJFNFOheCVJVDFSUYEAg4I47gjFV9S1CPTLQTSRySszrHHFGMs7scADPHXuaALO7/Zb8qN3+y35Vhf8ACT5kW3SyV7wyMjWi3sHmLgA5xv8Arx14rV0zUYNW02G9tN3lTDIDrtZSDgqR2IIIPuKALG7/AGW/Kjd/st+VcH8QdV1S11/RdP03VTpsd0kxklGwDKjIyXIHt1HWuT1vWfEmi6d9sh8X/a3VwBErW7Z/BXY4/CgD2jd/st+VG7/Zb8qdXB+L/FmsRa2fDGhafIL67jU2135gX1LEAjBAAP60Ad1u/wBlvyo3f7LflXE+DfFOr3WrP4b1zTpftthF/pN3vDAt1UnAwMgjHXNdxQA3d/st+VG7/Zb8q47SoB4t1C+1C6k1KC1dYGtES5khUK0QY42kA8k5Na3h6D7FqOrWST3EsMMsZj+0TNKy5QE/MxJxmgDb3f7LflRu/wBlvypWztO3AbHGa8TvfinrYvpQuopCFYr5cdgpUY4yNzE/rQB6/bEyW6u7Ek57+9S7fc/nUVn/AMeifj/M1NTGJt9z+dG33P51FaXSXlqk8SuqvnAdcEYOOR26VEdV09dTGnNf2ovmG4WpmXzSMZzsznoM9KALW33P50bfc/nVRNY02SB5o9RtHiTy9zrOpVfMAKZOeNwZSPXcMdaswzRXMEc9vIksUih0kjYMrqRkEEdQfWgB233P50bfc/nS1S1LUhp4tVEfmzXdwtvDHu27iQWY5weiK7dOi0AXNvufzo2+5/OoFv7N75rJLqBrtFLtAJAZFXjkr1x8y8+49ahbXNJW2muG1SyWGAIZpTcJtjDgFCxzgbgwIz1yMdaALu33P50bfc/nWXq3iPTNI8Pz6xPcpLaxWst0ggdWadI42kYR5IDHapI5/HHNaFzMttCXldU+YLuY4GScAfiSBQBJt9z+dG33P51TF5vZlV1LJwwB5Xvz6VTi8QWM+sT6TDewPf20ayS2wYb0VuhI/EfmPUU7CubG33P50bfc/nWKvibSnt7iePVrFobUgTyC4QrEScDcc4XJ45pg8V6V/alnp66lavdX0DXFtGsgPmxqQCwI4PJ49cNj7pwWA3dvufzo2+5/OqVrqS3OqX1gyeVPZ7GK7s743B2OOBgEq6/VDUmp3yaZpV1fSruS2iaUrnGcDOO9IZZ2+5/OjHufzpgdjbh5F8ttmWXOdpxyM1Cl5FI0YjnjYyoZIwGB3qMZYeo+Yc+49adhFnb7n86NvufzrLuPEOm2mt22j3F9BFqF1E80MDsAzqrKpI/FhgdThsZ2nEg1qwN7NZi/tTdW6eZNB5y7404+ZlzkDkcn1FFguaG33P50bfc/nWDN4z8PwLaM+tWHl3k7W8MqzqyNIqFypYHA+Ud+5UdSM7qnIosFxdvufzo2+5/OlopDE2+5/Ojb7n86WigBNvufzo2+5/OlrmdS1u90PxPH/aO06NdKESULjyX9z7/56VtSoyqtxjv+fp5mdSpGmk5bHS7fc/nWZrmgWmvWPkXe5XX5oplPzRN6j/CtNWDKGUgqRkEHqKWohOVOSlF2aKlGM48sldM46y1y+8O3Q07xY5aJji31EA7XHo3of8+9deAGUFWyDyCD1qtqem22rafLZXqbopBg46g9iPQ1h6LHq+iawNIuVlvtMZSba7PLRAfwt/L8q7JqniIucbRmt10fmvPuvuOaPPRkoS1i9n1Xk/8AP7zpW2opZmIVRkknpXK+Gp59e1691t3kWyjzbWke4gEDqxHcn+vtVvxpqTWeh/Zbbm7v3FvCvfn7x/AfzFauk6dFpOkW1jAPkhQLnH3j1J/E5NKFqWHc3vLRei3f6feOX7yuo9I6v16f5/cW9vufzo2+5/OlqK5uI7S1luJziOFC7n0AGTXEk27I6XZK7I1vrR79rJblDdKu9oQ/zAeuPxqxt9z+dcp4KtjerdeIryMfatQlbZkZ8uMHAUH8PxwK2Nc1+00K0Mk7b524ht0OXkbsAPT3rqq4dqt7Gnq9vn1MKdZOl7Wei/ToO1nW7DQrUT6jMUDZ2IOWc+gFc9Fpmp+LrwXWto9npKkNDY7sNL3Bf/P+NW9C0G5ubwa54l2y37f6mAjK2y9gB6/y+tdRWrqQw3u0tZ9Zdv8AD/n9xmoSxGtTSPbv6/5feRQ28VtCsNugjjQYVF4AH0qTb9fzpaK4G29WdlraCbfc/nRt9z+dLRSATb7n86NvufzpaKAE2+5/Ojb7n86WigBNvufzo2+5/OlooATb7n86NvufzpaKAE2+5/Ojb7n86WigBNv1/Oi3GLh/90UtQXFstwBlpEP96NypH4igBmv6Y2q6BqVnbeWlxd2rwLI4wOQQMkc4GT+dX44lTDbV8zaFZgOSB0GfxP51k/2SP+fy9/8AAqT/ABo/skf8/l7/AOBUn+NIRs1y2u+DTqWqWt3pl++nYuDNdLEv+sJRlLL6PhiM++eoFaH9kj/n8vf/AAKk/wAaP7JH/P5e/wDgVJ/jQBpWVlb6dZx2tlEsUMYwqqP88+9Nv7CHUrUwXG4DcHVkbayMDkMD2INZ/wDZI/5/L3/wKk/xo/skf8/l7/4FSf40ARf8Inb/ACMNQvhOsjObgGMSNkAYLbOnH15Na1jY2+m2MVpZp5cMQwq5J9yST1JPJNZ39kj/AJ/L3/wKk/xo/skf8/l7/wCBUn+NAFXxN4RXxDfWV7Hqd1p1zZBxHJb4zhhg/px+Nc3r/wANNUv9Gmij8T317IBujguz+7dh2Pp9a67+yR/z+Xv/AIFSf40f2SP+fy9/8CpP8aYzZrhPGHgvUr7WG8RaFqc0eo28arb2+0YzyGwxPAIJ4x6+tdF/ZI/5/L3/AMCpP8aP7JH/AD+Xv/gVJ/jQIwfBng3UdN1Rtf1zU5ptQu4iLi3IwobgDJB+bAGBxxXb1jf2SP8An8vf/AqT/Gj+yR/z+Xv/AIFSf40AcVo+k6tZSWd3NFqEN1aW6QRwR25eLiIqS/zjcdxHTAwvqcjtPDlneRRXN7qcwkub1wzKLcw7Ao2gbSzc8Z60v9kj/n8vf/AqT/Gj+yR/z+Xv/gVJ/jQBs14Zd/CXxLLfTyRralGkZlPnYyCa9a/skf8AP5e/+BUn+NH9kj/n8vf/AAKk/wAaALdn/wAeifj/ADNTVDZ/8eifj/M064m+z2ss/lyS+UjP5cS7nfAzhR3J7CgZDp0MkFikcq7XDMSM56sTXJHRdVPiyZJYtVksJdQS8Vo5bNbNQoQjdkG43ZToBgnAyASR1lrePNdzWtxCIpoUSQhX3qVcsBzgc5RuMenrUFx4k0K01JtPu9a06C9WMytay3cayhApYsUJzgKCc46AmgDl7bwlPD8IPD3h06ZAs9v/AGWby0Hl7Mx3EElyTztb7sjHruOepPPdVlJ4o8Py6PJq0Wu6Y+mxNskvVvIzCjZAwZM7QckDBPcetaFtcwXtrFc2c8dxbzIHimicOkikZDBhwQfUUAc7pHgPStF8RS6zaCP7TIXJxp9nEfmOT88cKyH8WOe+av6/ayy3OjXkKNILDUBM6IuSVeKSEnj087d34X8QmheK9G8QsYdP1KylvYwxms4rpJJocNtO5Acjn1HesfxFf22oeE9K1S78RW3hqO5VJVklvo1jcvHu2CUMFfjOCpIIyRkc1pTjGU0pOy7kTk4xbirsh/sm/u/E2pxRaT9lRtZt79dXLKvyxwwhlUffLMA8X93Y8mW/5ZtW/wCEW1Ox8BeDrewtZrW80UxzXdvpxtxOXa1lik2eb+5ZjJMWYscEbyCWxnn4W8Qx6vfaNa+I4TdafH5s8H9orujjwDvKk5C4ZSSeBuHrUjSeJxouq6pH4hjuLbSopnuTbXqylXiUs0Z2k4fA6HGK9F4Cjv7eP4nCsZUensmWtZ8G6xP4P1e0g0l9Vl1bS7iCK21C5g3Wdw8085lYgCMM5kj4jGA8MQ3FR5idN4l8NaUmlandTXusQtOjjzRqd1MIGbpIkLSFAysQy4UbSARjAqq2i63aNbW934yEM9yxSGOTbulYAsQuTljgE8dhWXFdPdWGr3K+O1kh0Uyf2gI1WVrcR7txZEJI+4xAxk7TgVisPQT1qr7pf5GvtqrWlN/h/mO8P+L7K3083GseaNTvG8+6WG3bZGxAAjU5OQoAXPfBPGcUyTxTpratqcipc+Xe2aRJJ5PCsu8YPfneDwCOD04zLNp+oaVo1tfeKPFtvoZmChkvZIkWOQjPl7ydrMMHoTnBI4q0bPVLLUobCLxZpk15cAtFaXIj8yQYLZVfvEYBPHYE9q7PZ4LpJX9X/wDInPz4pbr8F/8AJHHwajagWU9zL4gnurCIJDM62qyQErtYwqqbHyMqfNIwpJHzAV0nh+8k1XXtM1CKzJ+y295BdCOJIihnlidJGUtg5ELbtpY7mHBBLCys3iG6gvDpGq6HqlzaRCRra1ZGclk3RqecLvH3SxAOc5xzVqzTxXcafBqGn3emXUE8aTRAQsnmoQCOuCMg98Gsp0sPJWg0n/if+RcalZO8k7ei/wAzc0+zlPi7WNTdGjjlgtrKMMuN/lGVy49ibgr/AMAJyc8M8QW8+qahpOlpC/2Vrlb67n2naqW7K6IG7O03knBGCiS8ggZ17Vp2tYmu0VJygMiocgNjkA1LXlNWdj0E7obJjy23DI2nIxnNcRoCjR9ObWdYF7IuPslhFHp88klvahzs/dKrOrPwz/KvCxKQDHXckZFM8taEDVzmN7an4i0fXLC1upbRLW7spVlga2ljMsluwkMcwRtg+zsDgFssuFIyRzieFdUe+nt7621G6toNQv8AUIQbm1jtT55uNgjIUzGTbcYIk2oDvO4hVDeleWtL5YouKzOBWy1y4udN1W60e4kfTb8SmOf7Il7cx/Zp4eTHIYThp1bl06S4UfKG75Pu/gKNi+lKAB0oGLRRRSGFFFFABVe+sYNSsZbS7QPFKpVhjp7/AFqxRTjJxd0JpNWZxnh/VJ/DdxF4d19WQBitnd9Y5FzwM9v8iuzrP1vR7fXNLks7oY3cpIOsbDowrnY9e1vwzCLfX9OlvreL5UvrYZ3L0G73/L+tejKKxfv09J9V381+q+44oyeG92esej7eT/zOypGdUQu7BVUZLE4AFYcHjXw9PCr/ANpxR5HKSAqw9iMVkavrP/CVzjQvDzmSKTBu7xR8scfcDPUmsYYOs5WnFxXVtbI1niaajeLTfRLqP0hP+Ep8Uya7Ju+wWJMVkp/jbu+P1/L0rsagsbKDTrGG0tE2QwqFUew9fU0+4uYbS3ee6lSGKMbndzgKKivU9tNKC0WiXl/m/wAyqMPZxvJ6vVvzJK5nxvPK+m22lWx2y6pOIA56KvGT/Ktyw1Oy1SFpdOuo7mNW2s0Zzg+lY/iPw1ca1qFleWmoGzmtAwU7N3J7j3q8Ly08QnV0t379PxJxHNOi/Z637duv4GkbSbTdBFpoiRtLBEEhExwpI7k/rXOWdnYaPfzax4t1KzuNTdgUYNkRADGFXr+lSHwTfXJ/4mPibUJlPVEbaP5kfpWpp3g/Q9N+aKyWaXvLcHzGP58D8AK6VUo0oyXtLuW9lZ+l30+RzuFWpJPksltd6fcv8zOm8fW0zbNF0y+1J+xSIqp/Hr+laOiXmv3tw8mradDY2235F8zdIT9B2+uK2VRUXCKFHoBinVyzrUeXlp07ebbb/RfgdMaVTm5pzv5JWX6v8QooorkOgKKKKACiiigAooooAKKKKACiiigAoopcUAJXNaXPPF481u0mmkeJo4polZiQo2gHA7c10teZeM9VutI8V34s/lkvbSOIPjkKeCR78Yr0cBRdeU6S3a/VHFjKqoxjUfR/ozck+I1p9slgtdNvLkRsV3RgHdjqfpXQ6NrVnrtj9psHJAO10YYaNvQivFIrSaK1hvbeZkkZHkUoSCu1gOv613Xhi6lsvE1q4cPBrlqJnA/hlXOT7c5/P2r1cbltCnTbpbq/4b/hd/I8/C46tOpaps/12PQaKKK+ZPdCiiigAooooAKKKKACiiigAooooAKKKKACiiigCGz/AOPRPx/maLs3C2M5slRrkRMYVk+6XwdoPtnGaLP/AI9E/H+Zp08pht5ZRG8pjQsI4wCz4GcDOBk9KAK+nI8cTI9vJEcgl5HVmlbux29+B6e3SuU8U+H9W1FNTt9HtnhF5FIsm+4R7W4JTaGZGBZHHODHt+baWLAADp9M1N76W4hmigWS3K7ntbjz4iTkbdxVfnG3lccBlOeeNCgDl9V0S4n1C5uhZG6BeBoWhuvImhZUlUvG3Td+82kEgFWfr91tHQotTtNNtLfUYYWkJmaaVCqkZkJQsqqFMjKcuVwu/cQMEY16KAOf0/R7u2XQhKE/0GSVpsN0DK4GPX7wrJtPDuoaf4N8MWf2Wb+0tL0yO0a70+7SOa3cRxBgokUpIhMfIbIyifKeq9tRQBykek6pDpWo209pa+bd6Ukf+hHZCkyxbDGityFyTtz0AGearXPh/U9R8LarbfYYNPnm0J9MhtklDIz+WwBBAGEBOBkA4J4Xoe0ooA5PxP4bvtVutS+yMjLqumppwlkbB05leRvtCD+Jv3oIA2ndDHzzuSe58P3Gp+HfEmg3B+yx6mtykV2MSACcOM7cg5XcMg4z2NdLRQByGraZqOsX+i61c6dcxS29lc29xZWmoGGSOSV4GyJFZd6DyGHbO5Tt640PDug/2NckpaQ2sK6dZ2cUccpl8sRBxsDsAzKNwAJwT1wK36KAMHTLO68PeBba1tLBLi9trUKtrG4jWSU9ctjABYklsHucE8HR0bT/AOyNCsNN83zvsdtHB5m3bv2KFzjJxnHTJq7RQAUUUUAFFFFABRRRQAUUUUAFFFFABRRRQAUUUUAFGKKKAKD6FpUjl3061ZmOSTEOasWtla2KMlnbxwKxyRGgXJ/Cp6Kt1JyVm3YlQindIztc1q20DTGvbwMyBggVOrE9h+RrkbbQNU8aSnUdfuZrOxd90FmowSnbr07ckZPXiqHjuWW98RyRu58ixWLbHngs7DJx9M16av3R9K9V3wVCE4fHPr2Wmi+/c85WxVaUJ/DHp3eu/wB2x5Lo96/hXUbi8gmzZJfG1mtmPLJ/eHqRXrEM0dxAk0Dh45FDKw6EGvF9WBC3rBCw/tKZOB3K4FeuaFBJa6BYwTrskjgVWU9jjpXRm9OLjCq/iehjls5KUqfRF+iiivnz2QooooAKKKKACiiigAooooAKKKKACiis/VNd03RkzqN3HCSMhCcsfwHNXCEpy5Yq7JlKMFeTsjQorkZvFuo6p+68L6RPLu6XdyuyMe4Hf8/wp6eHfEtyn/Ew8TtFn7yW0HT6Nkfyrr+qOCvWko+T1f3K9vnY5/rKl/Di5fl97t+Bu6lrWn6NEJNRuo4MjKqT8zfReprEPxF0VnKWy3Vww7RQk1ZsPBWj2c3nzxNfXJOWmum3lj646VvRosSBIlCIowFUYA/ClfCQVrOT9bL9WK2Im73UV9/+Ry58f2J/5h2pf+A5rzTWtUm1bXpb+fzCrTERqw+4gPC/gO1e7bj6147f2xk8Nalcqfmg1dvybI/nivZympRU5OMLbLe+/wAjzMxp1eRKUr7va2xmaXfxpGYLmJ5EW3uEXy1yRvTg/gea1NH12K1vdBkkgncWcUqsEjyXyTjb69araAI7WK91G8ljgSG2ktlTOWlkZCAMduD16VteBI7jVNW0+RIyttpMDo0mfvO5Y4/X9PevVxUqajOTWi8+6f8An+J5+HjNyjFPV/o1/l+B0v8Awn9j/wBA7Uv/AAHNH/CfWX/QO1L/AMBzXV5PrTSA3UA/Wvkfa4b/AJ9v/wAC/wCAfSezr/z/AIf8E5b/AIT6y/6B2pf+A5o/4T6y/wCgdqX/AIDmup2L/dH5UbF/uj8qXtcN/wA+3/4F/wAAPZ1/5/w/4Jy3/CfWX/QO1L/wHNH/AAn1l/0DtS/8BzXU7F/uj8qNi/3R+VHtcN/z7f8A4F/wA9nX/n/D/gnLf8J9Zf8AQO1L/wABzQvxC0hZAt1Fd2oPRpYCAa6ocDA4HtUV1aQX9u1veQpPC3VHGQaaqYW+tN/+Bf8AAB08RbSa+7/gha3UF7bJcWkqzQuMq6HINS1y/wAPxs8OSxgnbHdyqgJ6DI4rqKxxFNUqsqa6M1ozdSnGb6hRRRWBqFFFFABRRRQBDZ/8eifj/M0+ZZGt5FgdY5ShCOy7grY4JHGee1Ms/wDj0T8f5mpqAM+xtrv+0Lm+vkgikmiihEUErSABDI27cVXk+YRjHG3rzgaFFFABRRRQAUUUUAFFFFABRRRQAUUUUAFFFFABRRRQAUUUUAFFFFABRRRQAUUUUAFFFFABRRRQAUUUUAFFFFAmeYeLTjxBqxPTNr/6EK7LX/Etro2l7o5Fmu5V228MfzF27dO1Wrrw5pV9LdSXdqJWu0VJdzHkKcjHPB9xVXS/Bui6TeLdWtszTp9x5ZC+z6A8V68sThqkIKpf3emmuiW99NV22PNhQrwlJwt73Xtq/wDMPCejf2XoSC6G+6uH+0zlhyHOOPwx+ea3aKK8yrUlVm5y3Z6FOnGnFRj0CiiisywooooAKKKKACiiigAooooAKgvL620+2a4vZ0hiUcs5x/8ArrD1zxfb2E50/S1+36qzbFt4wSEP+0f6fyqvaeDnvbpb7xVeNqM4ORb5xDH7Y7j9PrXbDDKMVUrvlT27v0XbzZyyruUuSkrvr2X9diKPVfEPidj/AGPANL05ul5OMyMPVV/z9a0NL8G6Zp0/2q4D394Tlri6O859QD39+tb6qqKFQBVAwABgClpTxUrOFJcsfLd+r3f5eQ44eN+ao+Z+f6IKKKK4zpCiiigArh5fBOrCK/tYNQszZXkzStHLCSeTkc9iPau4orpoYmpQvydfK+xjVoQrW5jza2+FU32gfbNRj8ruIUO4/nXe6Vpdro2nx2dimyNOc92Pcn1NXKK0xGOxGJVqsrozo4SjQd6a1CiiiuI6gooooAKKKKACgdaKB1oA5jwD/wAgG4/6/Zf5iunrmPAX/ICuP+v2X+Yrp67Mb/vM/U5sL/Aj6BRRRXGdIUUUUAFFFFAEyxoq4VQAOwFLtX0FMuJ0tbaWebIjiQu21STgDJ4HJrm5fGgtora7uLBmsdQeNdPkt51kebeVVS68KgZ3QLhmyGBbZg4Qjp9q+go2r6Cufj8baTLq2nWCSfPqUKTWxaSNWkV1LKRGW8wjAPIXGQRng0zT/FM8vh6TUdQ0y4jkXUJLNII9hZ8XBiT+MjPQEkjkMRxigDo9q+go2r6Cudu/EMkmp6DDab4DPqr2d9BKo3pizmm2EjIzlY2ypOR3wast4mtmlZLeCeYGSaCCRQoSeeIOXiXLD5h5bjJwvynnigDZ2r6CjavoK5ttevpvBWlaqYvslzdz2KyIQpwstxEj4wWGCrnHORkdDWjcXzR+LtP08TuqT2N1OYRECrmOS3UMXzlSPMICgEHcSSNoyAae1fQUbV9BXM+C/Ez614e0T+01kTUb3S4rws6KouPkj8x1CngBpF4IH3hgYq54j8V6d4WSGTVW8uKXOHMsadOuAzAuf9lAzH06UAbW1fQUbV9BWFe+L9N0575L0TRSafHJPcRlMskCJv8AOAB+ZCOARn5sr1VgM+y+JGjagJUsgbieOWGIxQ3NvIMzbxH+8WQxgkxsMFgc7Rj5lyAdbtX0FG1fQVHbTNcWySvDJAzD5opcbkPcHBI/EEiq+r6pDoulTahdK7QwgFtgHAJAySSAqjOSxICgEkgAmgC5tX0FG1fQVm2OtLeXEdvJaXFtLJE8oWXYRtUqMgqxBzvGME9+4rn7Hx9CPC9zrmoWl59ijW4nSbYg3Km9xGBuzu2L1+7kY3ZoA7LavoKNq+grCvfEBNjeLBHLa3tt5LtFOq7vLkk2q/BIw21x6jByBVu91yCxuXjkhmeOFQ9zMgG23U5wWycnOD90HHU4oA0tq+go2r6CuY03xdI/hi/1jWLCW3js7y5gJTZhljuXiB++du0KN7MVUfM2QoyN3Tb46jZi4+zS24boshRtwIBDBkZlIIPUGgC1tX0FG1fQVz6a7cL4uu7RopZLNrfZahUUB7iIb5VDkgEsssYUZ/5YTZxtya958QtEs9OjvZJGEMsyW6tIyQgTFGdomMjKEdVQ7g5BBwv3uKAOo2r6CjavoK5vTfHNhrAtzpFvPeieN5SYZIjtVJWicj5/nCupBKbhyuCdy5qw61daZcRzatfXMkkk0UFxYSQoqxNLMkSNCQil0DSLkl3wCO+KAOu2r6CjavoK5a68VTJ44i0u0tbm4hhguluY4kQkyILN1cEkfKEuCMdSex4q7Y+LbHUWSS2huGsZHjSK+2r5UjSKrIBzu+YOuCVxk4oA3Nq+go2r6Cub0nxGx0Xz9Q3XF1Nq19ZWsMSgNKYridUQdBkRwkkkj7pJNT2niRr/AF+1tLOzkks5reZpLg7R5UscnlsjAtnhgVOAeSMHGcAG7tX0FMmkht4XmnZY441LMzcAAd6i1G+j03TZ72cExQIZH+ZVwB1JLEAD1JIAHJIFc2/jCLVItEOlWQvrPVL6SzuCJIpFQLDI5AYSbTygOQWGAw64FNWvqDvbQa3xB064k8nR7C91KXssMJx+PpTZl8Z6ycRJbaFB15IllPsTyP5V0lz5ek6LcPYwxRC3hd0jVcLkKT0H0rlF8UTaPrEVvcahLqlqYllv5pljX7ACQM5jRQEG7Lbs7QMkgA16MKkLv2FNadZa/wDA/A4pQnb97Pftp/wfxK2teHNbs9Fu9QvvEtzM9vEXSOJdgOPXn+ldb4bka48M6fLOxkkeBSzNyScVzfjS8a68Km/tr++givFEENkEh2T5Y4Y5Qv8AMvIww4xwDmq2n3WvW+n6hZot9CdMEFmn2aOCReVgd2AIZzIBI+ONm0DIzTr1ZVMLGU7X5nayS0t5IVKnGGIaj2736noG1fQUbV9BXJSyXI0S8uI/EOtrNZBmeOWC1jdiVBVT+4IA9CB/Ec54xkah4m1PRZZ4r3WRNqdhPawJYeTGg1CJo4TLOUwXB3PMFKsEDRquDhs+fThKpJRjuzslJQXNI9E2r6CjavoK8uHizWY2ha+vNVtLFpmS7vGt4GMLqGBSLEWMb/lO4MRtxkEGrieK5Li4uvsniC++wabp8V2189lFIC7vPv8AtKhF+RFhQ4Ty2IZvmyQRrUw1WnHmktO5nCvTm+VPU9F2r6CjavoK4yy8SSpqDXmpaldQQNfXdotrJaKYJBE8qqsTgB/MxFuJZmBw42jKldw+IGRkhl0q9S8kDNHafui7ou3c4Icrgbl6tnkDHNc5sa+1fQUbV9BXnen+J9Zu9NGryXzL9n1DTLE2nlRiKZblLQyO/wAu8ODdPjayqNiZU/Nu6/SdeTUL64024RIdTs1U3dvFL5qxbuV+fA4I5G4KSO3BwAau1fQUbV9BS0UAJtX0FG1fQUtFACbR6CsLxRrqaNZJDbKJdQu28q2iB5yeNx9hWlq9/wD2Xo13fBA5giLhScAkds1znhHTJdRk/wCEn1rypry6UG3VR8sCewPc/wCeprtw9OKi69X4V07vt6dzmrTk2qUN317Lv/kaXhbw3HoOlqs4WW+lJkuJupZj2B9K3Nq+gpaK5qtWdWbnN6s2pwjTiox2Qm1fQUbV9BS0VmWJtX0FG1fQUtFACbV9BRtX0FLRQAm1fQUbV9BS0UAJtX0FG1fQUtFACbV9BRtX0FLRQAm0ego2j0FLRQAm1fQUbV9BS0UAJtX0FG0egpahvJGhsLiWM4ZImZT7gZppXdhN2Vzm/h+oOg3OQP8Aj9l/mK6naPQVzXw8jCeC7V+rSs8jk9SSx5rctNUsb+aWKyu4Z5ITiRY3BK/WuzGJvEVGujOfDNKjBPqiztX0FG1fQUtFcR0ibV9BRtX0FLXMeI/G1po1wum6fGdS1mU7YrKI9/8AaPYd/X+dTKcYK8mb0MPVxE+Skrv+tX2XmzpJWigheWYqkcalmduAoHUmsvw94hsfE1nNdaakvkRTGIPIm0SYxyvqOa5a38Ear4mY3nj3UJPm/wBXp1m+2KMf7Xqf85Nd1aWkFjaRWtpEsMES7URBgKKiMpyd7WX4/wDAOrEUsNQpuCnzz7r4V8/tfgvUmrntQ8GabfXUc6NPbFbuO8MccpMZkSZJshDlV3MmW2gbixJyea6GitTzjmrHwXDpotUstQuY4YJIJWjwh814okhBYkZ5SNRgY55q1P4c36XJZW19LAGvxeo+xWMbed5zKPUFt3XOM+1bdFAGMvhq3+1WV1JPM9zbXzX7ynA8+U27wfMAMABHwAMfdHvl0Phu0hvUlR5PJiuJbqG3JG2OaXf5jg9TnzZOCSBvOO2NeigDJ/sCI6DaaVJcStFaSwSRvgBsQyrIinjH8AB9verMulxS6/aaszuJrW1ntlQY2lZWiYk+4MK4+pqjaXes6gs01sbGOJLmaFVkRy2I5GTJII67c1Pt1/8A57ab/wB+pP8A4qgCpovhOHRbKzgjvbmd7Cw/s+zmlC7oIsIDjAAJJjQ5IP3R75k13w2muWs0L31xbC4tHtJmiC5dGHuDjr2qfbr/APz203/v1J/8VRt1/wD57ab/AN+pP/iqAKN54LsNQ+3vfyzzTajDJbXM24BmgePy/JBx8qD7wUcbyzdWNW5tFubqxntrvVZZxONjiS3iKMmCGQoVwQd3OfQe+X7df/57ab/36k/+Ko26/wD89tN/79Sf/FUAO0rRl0i3tLa1upfs1rFJGICF2HcysMDHyhACqquFCtjGAMRxWeuv5i32r2mxl+RrOwaJ0YMCDl5XBGAQRt5z1FO26/8A89tN/wC/Un/xVG3X/wDntpv/AH6k/wDiqAKFj4Oi01f+JffzWrFpC3kxxqgEmzcqJt2oCUDfKOWZ2OSxqjL8PYj4QuvD0Wq3H2aW1mhi86NWETyRsm/gKSBvJ25HPet3br//AD203/v1J/8AFUbdf/57ab/36k/+KoAjPh2GRbprm5mnuLpYked9oby4nLIuAAOCzc4ydx9sSX2hxX1xI7TyxxXChLqFcYnUZwCSMjqQcYyKNuv/APPbTf8Av1J/8VRt1/8A57ab/wB+pP8A4qgBLTRPsFnd21lezQpPcSXMZCqTE8kjSvjI5Bdm4PY4FJpOgpo9u0VtdShXuWuZFCqqEsuCqoBhFJ+chcZYsx5Y5dt1/wD57ab/AN+pP/iqNuv/APPbTf8Av1J/8VQBTPgvSU1kaxbW8UGqC4knN6kCea2+Nk2M2Mso3ZAJ6qvpUcXgqytIrVdPuLi3e0mW5ikJDsZvKeJ5XyPnd1kbcx5LfMea0Nuv/wDPbTf+/Un/AMVRt1//AJ7ab/36k/8AiqAKup+FxrFtBBqF/LOkLCQF4YyyyAkiSNtuY3G4hWXBXAwc80y78JrqCRJe6ndTrbSJLa79paJ0kWRGLYy2GRevWru3X/8Antpv/fqT/wCKo26//wA9tN/79Sf/ABVAGbF4NMWtNqyazei8kMu+QJFyJEt1IxtwMC2THuT1qXTfCMGmYt4bmT+zY5Y5ILEKAkXloixjdyx2+Wp68kDPvd26/wD89tN/79Sf/FUbdf8A+e2m/wDfqT/4qgCCPwxaw2McEU0qywX9xqFvccFopZnlZsDGCMTyLgg8H15qaz0CDT7i2ltJZEMIm8wHB84yuZHJ9CXO7jHp04pduv8A/PbTf+/Un/xVG3X/APntpv8A36k/+KoAs6np8eqWJtpXZMSRyo64yrxuroeeuGUHHes6Lw0E8l5dQuJp4b83ySuqZDtG0bLgDG0q7D2z7VY26/8A89tN/wC/Un/xVYWt+JtY0q7hsLZbK/1Cf7tvBG+VHqSWwK1pUpVZcsSKlSNOPNIs+LNbmVo9B0iMT6jfAowPIhjPVj+H+P1r6b8OrCytJIJ7ue4S4KfaVOAs6AhjG3HKMRgg5ypZTkMaXw94c1nSFmupZ7GW/uzvnlmRmYE87cggYz6Vt7deAz5unf8AfqT/AOKrprVYwj7Ck9Or7v8AyXQwpQlKXtam/Rdv+D3OevLSL/hMfD+ixM00enrJcndg7B/yzHH93AA9sV0h0dQNRMNzPDJfzrcM8bYMbKkaDHtiMZB65I6GuU8K2usX+paj4h/0SOW6kMIWZHOFTjjBGBwB+FdRt1//AJ7ab/36k/8AiqWLtFxpL7Kt893+LDD3kpVH9p/hsiP/AIR5ZYJFu7yaeWW6guXlKqpJhdHUYAxj5AD9a5vx1a3F1rui2cd3MRdXQZY8KBFgAEqQM+p785rqNuv/APPbTf8Av1J/8VWPqmia9f67pV95thizdmJCuAMj0yc/mKnCSjCrzS7P8nYrERlKnaPdfmVtE2aiZ9ETVbyKTTGCJFLBGoZVBXJUDDrg9D3weoFRa38OftGnXn9k30sV1dwSxXCnCpcK4IZSAMLweMcD9aj8X22q6XNbeJh9kNxaOqyG3R1MiE4w3PI7fjXTwSa3c28c8M+nNHKodD5T8gjI/iraUnRUa1F6PdPXVbr06mUYqo3SqbrZ+XQ5/Q/D02s6ej6+lxbfZ72e5jtcBQk0nmbpAcZI/fSYBJHI64rfbQppJY7mTVLg3sStHHciNBtjfaWTbtwQSinPXKj3Bk26/wD89tN/79Sf/FUbdf8A+e2m/wDfqT/4quGpJTk5JWOuKcYpN3My18D2tpAlsl7cta+fa3MsTBf3stusSxsWxkf8e8WQODg+tdBZWUGn2aW1orLEmSNzl2JJySWYksSSSSSSScmqNpd6gusiy1D7Kwe3aZWgVlIwwGDkn+9WrUFBRRRQAUUUyaZLeCSaZgscal3Y9gBkmha6IDkPE9wNe8QWXhq2LvCH83UCmflUchSff/CuuggitbeOC3jWOKNQqIowFA6CuY8BxNcWN7rc67ZtUuGk56hBwo/nXV13YtqDVCO0fxfV/p6I5cOuZOq95fl0/wAwqhp+t2Op3V1b2kpM1pIUlRlKkH157Vfrj/ElnLoWvQeJ9MtXlXmO/hiPMikYDY9R/QVlh6cKrcG7NrT17P1/MutOVNKS26+n/AOwoqppep22sabFfWTFoZRkZGCPUEetW6wlFxbjLdGyakroKKKKkYVFdxSTWc0UEphkdCqSDqhxwalopp2dxNXOX8GardyxXGka27HVLJyH3nJdD0Yeo56/Suork/GWlTReX4j0lmTULADKqM+bHnkEewJ/Cug0rU7bWNNhvbKQPFIPxU9wR2IrtxMYzisRTWj3XZ/5Pdf8A5qEnF+xnutvNf1uXKKKK4TqCiiigAooooAKKKZLLHBGZJnWNFGSznAH40bgPrG8V6pBpfhy9aWZI5ZIHSFScFmIwMDvya5nXPibHbzSRaLbrcKmQbiU4Qn/AGR1Yf56c1R/sB7zwdqHiTxA7XOoTwM8Ic/LCnbA7H09M+tevQwEqbjUxGibVl1f+XmedVxampQo6tJ3fRDvD1rrmu+HrPSYoW07R1X99c7vnnGSSF9j/k9q7nSNA03Qoimm2qxFgAz9Wb6movCv/IpaZ/17r/KsfX/H8Gn6iNK0Kzk1nVCfmhtz8sf+83r/AC7kVzY/GSc5Q2jd6Lq77vuzsy7L51uX2a5pW3dtF67JHX1k674o0rw5ambU7pVb+CFPmkc+gX/IrlptM8Z+MCsGtsnh7Thy8VrKHlm9iwPA/H8DWroXw60DQb1byGGW6uk+7LdPvKn1AxgH3615XPUl8C+b/wAj3PquEoK+Iqcz/lhr/wCTbfdcxlh8UePnP20SeHtCPIjU/wCkTj3PYfl+NdP4d8HaN4XDtpVqFlkGHmkO5yPTPYewrdpKcaST5nq+5jXzCrUh7Kn7lP8AlW3z6t+bCiiitjzgooooAK84j+JUureJLjSdAvNHcvOkVqzsZWQCO5eRpEVwetuoA+XHmAnPSvR6oXuiabqLSNe2cUzSBA7MOTt3befbe3/fR9aAONT4g38kdpqC2kAsbpVjFuyt5yyNp5vAxbdgrhdm3bnvnjFdJ4f1a/vP7Tt9SWCe50+ZU32kZjWUNCkoAVmOGG/HLYOAeM4F46HpbXgujYwmYR+WG29F27cY6fd4+nHSpbDTbPS4WisLdIEd97Bf4mwBknqTgAfQAdqAM/wrK82iySSQSW7NfXZMUhUsn+kScHaSPyJrarJ8Of8AINuP+v8Au/8A0okrWoAKKKKACiiigAooooAKKKKACiiigAooooAKKKKACjNFIfvCgBaKKKACkclUYqu4gZCg9falooA5KbX/ABRdxvDp/hmS3mIIE1zMu1PfHetDw34cXRYXnu5PtWp3B3XFy3JJ9B6Ct2iuueJvBwpxUU97X1+bbOeNC0uebcmu/T7gooorkOgAAOgxRRRQAUUUUAVtRsotS024sp/9XcRtGx9MjGfqK5zwbqUltJP4a1MqLzT+Im6edF2I9xn8iPeusrmvGGiPeWX9paWhTVrP54ZI/vMB1X3+lduGnGSdCptLZ9n39OjOWvGUWqsN1v5r+tjpaKzPD+tQ6/o0N9BgFhiVB/A/cf57Vp1yzhKnJwkrNHRGSnFSjszLf/kbof8Arxk/9GJWpWW//I3Q/wDXjJ/6MStSoKCiiigArlfHVxPLYWui2XFxqswiz/dQYLE+3TPtmuqrkIZDq/xRmYHMGk23lj08xup+vOP+A124NWqOo/sK/wA+n42ObEu8FD+Z2/z/AAudPYWUWnafBZ2/+rgQIue+O9WKKK423J3Z0JJKyCiio7i5htLd57qVIYYxlndsAD60JNuyG3bVnFXEE3gTWm1CFpJNCu3JuIlGfs7k8MB6fT6eldvHIksayRMro4DKynIIPQiua1bxh4Wezktr28ju4pFw0cal8j8K5Cw8XXvheKW3t7G5uNMlY/YJL4GLZ6jOMMOfb9a9l4Wvi6ak42mu+nMvn1X4o8v6xSw82lK8X21s/wDJ/merUZrzbQbnW/Hk1xJc6u+nW9uVHk2ibc5z3z/PNdAvw+0pv+P661C+9RcXJOfyArlq4SnQlyVqnvdkr/5I6KeInVjzU4ad27f5m1c67pNmSLrU7OEjs86g/lmsS6+ImhwzeTZtPfyZ6W0RP6nr+FZl14f0ix8c6Vp0GnwfZpoJHdXXcWI6cnntXa2thaWKbLO2igX0jQLn8qqcMLRUZNSldX6Lrbz7CjLEVG0mlZ27/wCRzH/CfLL8tvoGqzOf4BbmuaW51zw1eXGr6Zot1aaXIS09tcuGVWPcAfMoz/hXqlZuua5p2h2DTanKoVgQsXVpPYDv/KroYqClyUqV+bRq7d/679CKtCTXNUqWts7JWOfsPEPirVLNLrT9M02eB+jpc/p14PtRf614ysdPnupdJ06NIULsxlLYA9gay9P1GHw3qEetwxvFoOsgFo8c28oyOg7cHp6+1dB4w1WH/hBLm6tiJku4wkRH8W6umcFGvGMaScZO3X5p67r/AIJjGTdKTdR3S8vk9tmZekXvjjW7Bb6GawtopDlFkhIyPUdeKtP4e8Vaocap4iW2i/uWUe3P48H9TWhb39n4Q8M6bb63cLE6xrF8oLZYDnGOw9a30dZI1dDlWAIPqK5a2JnCTlTglG7s+Vfg2b06EZRUZybel1c4/wD4QB/+hi1T/v7S/wDCAP8A9DFqn/fyulTVLCTUHsUvIWukGWhDjcPwrkvE3xASEnTvDQ+2X8h2CSNd6of9kD7x/StKNXH158kPyW3fYipTwlKPNL83/mZ/iDRbLw7aebe+J9UMrg+VAsuWc/0HvXCz3k17Fsku7u5d2xHC0hbHpnPU/QVPd2d/eawLbUJXl1Sd1TY75KE/3j2+g6e2MH03R/C2jeDNOOo6nNE00Q3PdTYVU9lB6fzP6V7c8RTy+ipVZc0n6L+l5nmU6FTHVeSlGy26t/8AD+Rz+i/DCW6sUn1m7ltZmwUhjwSg9ye/sKh8YaDbeH9HKN4iupZ5MCKzmlH7xc8nb6D16VqS+I/EXjQmLwbB/Z+mbtr6pcjDP67F/wA/hV61+GOiJbH+0WuL+9kIaa8llO9j6DsB+vvXzsM5xNWspN+7fsrfI+oqZFhsJRarv3/5Vq/+3ney9N/JHF6N4Z8R+JVjFrc3+maPtx51zL80q/7CDHH6e9dXY/Cy005CtlrN/Du+8UYAt9cV3KIscaogwqgAD0FOrj9rNVnWv7z7mtSu54dYaK5YLouvm3u2cYumeKPDT+dp162uWg+/a3BxIB/sknr/AJxWto3i/S9XV0aX7HdRnEltcnYyn8etbtZOpeGNG1ebzr+wjklxguMqx+pHWun29Kt/HWvdb/NbP8GeZ7GpT/hPTs/0e5rUVxUuj6x4SuFufD8k+o6aOJdPlbc6j/YP+fxrb0fxZpOtv5VtP5VznBt5xskB9Md/wqKmFko+0pvmj3XT1XT8i4V03yTXLL8/R9TaooorkOgKKKKACs6TxBo0STPLq9iiQS+TKzXKARyc/I3PDcHg88GtGvPNW0rWLzxBeatFpOrq8ZiSzKTWe9ZE84BlDPt8nEhJ3fvMtwMDgA7sX9obsWouoDcGPzRD5g3lOm7HXHv0pbS9tb+3E9jcw3MJJUSQyB1yDgjI4rhdQ8N6/qGqxCe2j81n+1zX8ciiJW+wvbtCoJ38yPuGV27STnIAO74WsL6P+1rm8spNK+2zRmO3Lxs67II4vMOwsmSU4GT8qrnByoAL3hz/AJBtx/1/3f8A6USVrVi+FYmh0WSOSaSdlvrsGWQKGf8A0iTk7QB+QFbVABRRRQAUUUUAFVLzVbDT5FS+vIbdmGQsjgEj1rK8T+IzpUUVnpwWfVLt/Lghznbn+Jvb/PrVPTPAGnpm510tql/KMzSTMSu488D9P8K7KdCmoe0rtpPZLd/8A5p1ZuXJSV2t77L/AIJ09tdQXsCzWkyTRN0dGyDUtcRJp+p+CJprnRIjfaRLJvlsxnzIT3K+3T/PNdNo2uWOvWnn6fLu28SRsMPGfQj/ACKVbD8q9pTd4d+3k+z/AKQ6VbmfJNWl2/y7mjRRRXIdAUUUUAFFFFABSH7wpaQ/eFAC0UUUAFFFFABRRRQAUUUUAFFFFABRRRQAUUUUAUNO0az0qe7ls0KG8l82QZ43ew7VfooqpSlN3k7smMVFWRlv/wAjdB/14yf+jErUrLf/AJG6D/rxk/8ARiVqVJQUUUUAMmlWCB5ZDhUUsx9AK5b4fW5fSrzVZR+81K6eUHvsBwB+e7866DV/+QJe/wDXu/8A6CazfBH/ACJWm/8AXM/+hGuyD5cLO3Vpfmzmkr4iN+ib/JG9RRRXGdJR1fV7TRNPe8v5Nka8KO7t2UDua5iy0O/8WONR8VF47PduttOU4AHZm9/8+1P8YRrd+KvDdpP80DXDMyepGD/SmatoOoaIL3XdP1+ZZEZpniuSTEyddmOeew/DpXsYeEadKPLLlnPZ287WXa/Vnm1pSnN8yvGPT5Xu+/oYWt2FrdePrDRNBtYbVLd1eeSJMEn7xyepwAPxJrd8TXDeKNaj8M2C7oYnEt/OAD5YHRQex/8A1etcdp3ib+zzqepSxSLrWoHFu7IBGiMeWBJ9fbHA5611UF9pfhjwNMmmahBe6hOMM8Mm5pJn4z68c9fSvSr0qlNw0vJaL/E95N9l08/Q4aVSE1PWyer9Fsvn1M/wBqVlpOuajps9xlJpvLtZ3GFl2ErjPYkYr0yuOi8H2beBo9ImkiN4FMol3D5JjzwfTt7gV0OhJqMei28es+WbtF2uY23AgcA59cda8nMJUq03Wg9b2fnbZr1PRwcalKKpyWlr+nkzE8TfuPGHhq6T75lkhb3DAf8A166uuG8cWN5P4k0NrXUXgMs2yIbAyxOOd/vnI4PpUWo+L9e8KzC2123tL7epMU0EgUtjuV6j8gPSreFniKVJU2m7PTZ7vuT9YjRqVHNNK61+SOo1/wAQWugWXmTfvLiT5YLdfvSt2AHp71wusWuq2lqda17Tl1C7uI3+VmwlimOMDpuyfz963/CenLq86+JNWuYb2+kH7pI2BS1XsoH97/PvS+OpJdSk07w5acyX8weYekanJJ9uM/8AAa1w3JQrqjFXf2n5LdLyX4+hnX5qtJ1Xp/Kvyv5/l6lPwrrukTeG4NA1tfs0oi2GO6G1ZVYkhlJ9j7U/xDpdrpOkaJotrI4t5tQVvMlfO1RyefxrqdR0HTtV05LK+tUlijXanZk4xkHqK8o8Xacml6pa6NBrU01ui7mW5clbbPHb25wB+HNbYR08TXvBuOrbW666r/J/eZ4hToUbSSeiV9n6HS28cnj3xeL2RP8AiS6a7LCT/wAtmz/XAJ9gBVrxh4/i0oNY6MyTXnR5Oqw/4t/KuRl8TXJ0waRoTtZ6bEvl71XE1yT19wWPOB0HU1r+HfhpNcJHc64fs8bEN9lXl2H+03b6D8ea6amHoUmqmKdoR0jH/Pze7/E54VqtROFDWT3l/l5dvwMPw/4c13xE0s9ufIhuSwmvJSR5gJ+YDu3Pp+Jr0/RPCth4es2XTo1N2UINzIMsTj9BnsK2YYo4IUhgRY441CoqjAUDoBXMeMPF7aI0el6RbSX2t3aE28Ea5CDpvb2z/LsK8XHZrUrJ392PZdfXue1l2U81RQprmm+r6d35LzOatILLwNNLqniaZb7XLhiYLSA73ZifvD3J79qv6f4X1PxjdLqvjpTHbI2600lThU/2n9Tj/I6Vp+EvA9vowXU9W/03XZhunupW37GPULnp6Z/pW22uWy+JI9F2ubh4DNuGNoAPQ98159SVfH1HUrdtuiS/rY9iNXDZVD2OCfvbOb3v/d7X77vyRoRRpDEkUSKkaKFVVGAoHQAU4kAEk4A5JPag9K41/D+reKrx5PEkjWenRORDZQOMv/tMR/n6d9qNKM7ucuVL7/kup5NWpKPwq7f9as2H8X6Cl4LU6nCZSwUBSSMntkcVtVnafoGlaXCkdlYQRhOQ2wFifUseSa0aVX2N/wB1f5/1/mFP2lv3lvkFFGRnGefSisTUKx9Z8LaVrjeZeW+24H3biI7XHpz3/Gtiirp1J05c0HZkThGa5ZK6OR0LVLnR9cn8P+IL3zmAD2VzKcGZSfuknv8A4GuurmPHelNe6EL62X/S9OcXEfAyQPvDP05/Ct3TL5NT0m1vYvuzxK+PTI6V1YhRqU4149dH6/8AB3+8wotwm6T6ar0/4BaoooriOoKKK5e48cW0GsXGlJZy3F7DMsQiglR9zMksgBIOEbZCzbWwcFfUUAdRRXLr4+0yQwyRxzPZzqPLugBtZzbG6CYzn/VAnOMZ461p6XrsOoRXpniayexcLcJOy4QGNZA24HGNrjntg+lACeHP+Qbcf9f93/6USVrVieErq3vtDe5sp4ri3lvbto5YXDo4+0ScgjgitugAooooAKwPFXiFtFtY4LKMz6ldkpbRLgnP94j0zW/XnOnajZy65d+LdeuIo7dHa2sosbmO3uB9D+pruwdFVJOcldR6d30X9dDkxNVwSinZvr2XVnR+GfDUej2xv9UKz6rMC9xcytuKZ5IB7Ae1U5PHU1xcT/2Hol1qdrA21riLox74GOars+teOVQRKdM0JzlmJ/e3K5/QH/Oa7CysrfT7SO1soVhhjGFRRW9aUYScsR7030vovu6+S2MqcZSSjR92K621f3/n1M3Q/FWma+hFrL5dwv37aX5ZF/DuPcVkeIdFvNK1GTxJ4bOJ1UfarTblZ1B5P1x6en56mu+EdN1uKR2hWC9Kny7qP5WVuxOOv41laZ4qfSGi0jxdE9rcKNiXjnMU46Z3dvf9cU6KV3Uw2veL10/VfigqN25K+naS7/o/wZ0WiaxDrukQ39srIkuflbqCDir9cOsk/gnV2KRJL4f1GdfLZX/49nYdv9k/4c+vcVx4miqcuaHwvb/L1XU6KFRzjyy+Jb/5+jCiiiuU6AooooAKQ/eFLSH7woAWiiigAooooAKKKKACiiigAooooAKKKKACiiigAooooAy3/wCRug/68ZP/AEYlalZb/wDI3Qf9eMn/AKMStSgAooooAp6v/wAgS9/693/9BNZvgj/kStN/65n/ANCNaWr/APIEvf8Ar3f/ANBNZvgj/kStN/65n/0I11x/3WX+Jfkzmf8AvC9H+aN6iiiuQ6TkPE//ACPHhn/rq/8AKuH8T+JdR1q41SASk6fHMGWMDhVU7Rz7k5+tdX4/vF0/XdFvG5EImfGep28D86qaV4KmvPh4VidUvtQdbhmk6bAflXj2+b6mvqMJKjRo061XyS/8Cbb+SPBxEalWrOlT9X/4CrFnw34Mh1XTPt/iBWka5hVLeFWKiCIdMe/+PvWXqXgvS18cWGjWXnxRTW7SyuJNzAjdjGf90fnXplpB9lsoLcHPlRqmQMZwMVyvh1RrfjPU9ezugt/9Dtv9rH3m/wAP96uOljq7lVq8zUUnZdLvRaf1sdNTCUlGFPl1b+emrMC7+GWo2rM9jcw3yjpHKzRsfoQcZ+tZbvqXhqdXB1bSp1PAnIngf2yAAR+dewTzxW0LTXEiRRIMs7sAFHuTXD6p42k1uRtH8IwPcXMp2m4dPkRe7c/zP88VthcdicRpOKlHq3ol69PwMsRhaFHWErPot7+nX8Tm9T8dXOq3ekyi0gW6s5t6nzf3bscAZzjaM+pru/D3hgWksmp6zIt9qtyP3kpwVQH+FR0/Gq2ifD7TLKzkGrRpqFzPzI7rgL7L6fXr9K1dD8NwaA8wtLy7lgkACwTyBljwT93j3rLGYrDum6eGfLby3V777pfma4bD1lPnr63/AA+Rka14N0+3WbVdLu5tGniUyM9u2EOOTle34ce1c1ouu6npdw/ibXtOuLyK8jESXaYGxQcfdHQHHtn8a2viP4jtINHm0aGXdeT7d4XpGoYE59zjp71ydvrGlxwpc6y8+szwqFhtFBS2hHQD8vb867MHTrVMNesua+nnbyem77u2hy4mdOFe1N2tr5X815Lsr6m9rHxS325j0G0YSMMebcAfKT6KDyf84rk4dMm1nUksbUPd6nO266uZGysfqOPTueeeBju6w0zUPG3iCWS3ijgDEGRkTbHCvQAAew6dTXsWjaLZ6Fp6WljGFCgb3x80h9Sa0r1qGWQUKK997/8ABf6dSKNOtjpc1R+6v60X6mT4c8C6ZoBWdh9rvAP9dKOE/wB0dvr1rpqKwvFPiuz8L2KyXAaa6mOy2tY+Xlb+g96+WxGInUbqVpXPo8LhHKSo4eOr6IZ4v8VQeFtIMu3z72b5LS2HJkftwOcDv+VU/BnhV9M8zWtadrnXL9d08j/8sgedijt/9aq/hnw1qk+uP4l8XvDJfugS2tkXK2q9eM9//r81F4t8f29nDJY6DL9ovmOwyxjcsf09WqMLha2MqrlXp5ebPQx2MoZfh3h6crt/FJdf7q8l17vyRs+IPFK6ZcRadpsP27VZziO3U8L7sewo8MeHp9L+032qyrcapeNumlHRR/dX2/8ArelQ+DPDjaRp5utRXfqd0d80jncyg/w5/nXTV3VqkKSdCjt1ff8A4H5nh0oSqNVavyXb/ghRRSbl37Nw3Yztzzj1rgOsWiiigCs+n276nHfsrfaI4zGp3HG0nJ46VZooptt7iSS2CikY7VJwTgZwBVbTr5dSsI7qOKaFZM4SZCjDnHINPlduboF1exJeRLPYzxP9142U/Qiud+HcryeDYEc5EMskan2DE/1rpZv9RJ/un+Vcv8OP+RSH/XzL/wChV10/90n6x/KRzT/3iHo/0OroooriOoK5y98GwX+pf2jcanf/AG1CPInUxqYFAkXaoCYI2yuMsCeeua6OigDml8CaSjwqjTrawIBHaBh5asLc2wfpuz5RK9cd8Z5rU0jRotIFyy3E91NdSiSaacruYhFRR8oAACoBwPU9Sa0aKAMrw5/yDbj/AK/7v/0okrVrJ8Of8g24/wCv+7/9KJK1qACiimvIkUbPIyoqjJZjgCgDmPHurTWGiLaWTlLq+YxIemFx8xz24PXtWH4N8P2+p3xvp4/M02xHk2Kug2yn+N8Hrz/P2rD1X7T418fT22nThoceXHIxO2OMD5mH1OfrmvV9NsU03TLeyiO5YIwgbGM4HWvfrP6jhY0ov35avyv/AFb7zyKS+tYh1GvdjovO39X+4sgAAADAHAA7UtFFeAeuFVr/AE+11S0a2v4EnhbqrDv6j0NWaKcZOLutxNJqzPNfE/h3UND0y8i03N1oUkeXt5ZCzW5BzuX05+vvXT+Bdck1vw3G9zk3FufJkc/x46N+WPxromUOpVwGVhggjIIrzyaUfDzxWSis2jakdzIB/qWz2+np6fSvYhVeNoui1+8Wqffv87feebKn9Vqqqn7j0fl2+X5HolFMhmiuIUmt5FkjcbldTkEU+vGaa0Z6e4UUUUAFIeopaQ9qAFooooAKKKKACiiigAooooAKKKKACiiigAooooAKKKKAMt/+Rug/68ZP/RiVqVlv/wAjdB/14yf+jErUoAKKKKAKer/8gW9/693/APQTWb4I/wCRK03/AK5n/wBCNamqI0mkXiICzNA4AHc7TWR4EkWTwTpxQ52oyn2IYg11x/3WX+JflI5n/vC9H+aOhooorkOk4f4qWccnhuG7KZlguFUMOysDkfniut0mVZ9GspUAVXgRgB2G0VPcW8V3bSW9wiyRSKVdWGQQa4/Q7m48Ka2PDupuWsZyW0+4Y8c/8sye30/xFelFuvhfZL4oXfqnvb03OKS9jX9o9pWXz6fedD4jv20vw3fXkbBZI4W2Enox4H6mvN9A8Y3Wl6FDp2lWdquwHdNdThcsT125HH49vwrvPG5A8G6gDCZSyBQoGcEkc/hXB2tra6tpNlpej+HyL6RVS41CeDCpx8zA9z7nH45rvy6FJ4Z+0jdc3yVlu9V3Zx42VRV1ySs7fm+hS1q6m1e7itb/AFmK8uGO53D7ba2Ht/ePv26c9ut0fW/CHhSxEFhdG6uHwHeKMs8rf57VtWPgbQLK0ihfT4bl0HzSzLuZz6n/AApdUv8AQ/CNuskdlDHPL8sMFrAoeU+nA6e9Kri6OISoU4ya7Kyv+D0HTw9Si3Wm0n3d3YzpvEviS+DNo3h77PCBnz9Qfbx6lcjH5mucGq+LvEOovY2WpQ7FH764tBtiiB9Xxnt2qxq93cX1r53i68kgjkO630WyP7yT03nt+P6Hir2keDbjVtMiOsSSWFkTui0y2+RQPVz1Zj78+/atoqhh6fPKMV20b+6/xP0svMyk6tafLFt/O35bfO78jlr2y0uz8RWsOjRPrItkMt0+dwmf1Y9AucZ69epplhZ6r451tIHdEtoTlzEgWKBfRQO/Yev60kf2i71zUtE8Lw+Xb3kwiJXJ/doSMk9gep/KvWNA0K18PaWlnaDP8Ukh6yN3JrqxeL+qU095taX3Xdvou1v0MMPhvrE2top6228ku5Y0zTLTSLFLSwhWKJew6sfUnuat0Vma/r9h4b0t77UpNqL9xF5eRv7qjua+PnNu85s+mpUpTkqVJXb0SQ7XtdsvDukyahqLERqdqqv3pGPRQO5NcVp+ieIfEepXXie+hi0292ommQTrv8hAckkY4J9cZ5PFZL3eoa94i0zUfEFm7ytKG07R0OBGmf8AWyE/TjjnHYV65UKFS8aslpuk+vm0enUqUsJTlh6bvUekmui/lX6v5LTfi28Q+JrW0kttT8MtdSlSqy27/I/GORzx/nFJ4P8ABa2Ug1XVoI0umO6C2QfLbj8erfyrtaK9J41qm4U4qPNva+v46Hz6wqc1Kb5rbXsRfarf7Z9l86P7Rs3+VuG7bnGcelS1D9jtvt32zyI/tOzy/O2jdtznGfSpq4nbodSv1AkAEk4A6k1k2vh63tvEd1rXnSyT3KBArH5UUY4H5VoXlpDf2U1pdJvhmQo65xkGnQQx21vHBCu2ONQqjOcAdKuM3CL5Xvo/QiUVKSuttfmSUUUVkaBRWJBq18vi6bSry0Atni821uI8kEDGQ3oc5/ya260qU5U7X6q5EZqd7dAooorMsZN/qJP90/yrl/hx/wAikP8Ar5l/9Crp52C20jMQAEJJPbiuY+HHPhEHsbmXHv8ANXbT/wB0qesf/bjln/vEPR/odXRRWR4g1qXQ4ILn7KstsZCLmZ7iOFYF2nBJdgOW2j8a4jqNeuBvLzX7i41T+xvEJeztrlAZZTbRspXzDNFGxiZcD92uXBOVYbuDXXaHqq61pKX0ZgKSO4Q286zLgMQPmUkE8c4PB4qT+yNNO/On2vztuf8Acr8x55PHJ5P50AcPdeL9RN5aXun3UxgnEaxafNCgaRHsnn804XcGDKAcHbhWGMkEb/hXUL64/tO3nvzqotmiMVzIqISXiVzGTGoXgkHOM4YZz1PQfZoDcCcwR+cF2CTYNwX0z6e1LBbwWsfl20McKZJ2xqFGfXAoAyvCrTNo0puUSOU313vRHLqD9ok6EgZ/IVs1k+HP+Qbcf9f93/6USVrUAFed+PtTivNTGmPcstlZQme8WMn5nx8kZ9ySv03Z7V3GrXy6ZpF1eOcCGJnGfXHH614ndRzTz29md8t9eFZ5QTy0kuCg/BWB+rHtXuZPh1Oo6r6f1f5fm0eVmVZxgqa6/wBW+f8Amdj8KNLIjvNVkXAY+RET3xyx/kPzr0eqOjaZHo+jW1hCBiFACR3bqT+JzV6vPx2I+s4iVTp09DswtH2NGMAooorjOkKKKKACsDxrpLax4VuYYhmaPE0Yx1K84/EZH41v0dua0pVJUqiqR3TuRUgqkHB9TzjwbrP9iCytJZRJpWpMfIlJ5t5ujRt6c4/MHua9HrzqDw/bnX9X8L3vEN0Pt1nKOGRs449ccj8K3vCetzySTaFrBI1Ox+Usf+WydmHvgj+detj6Uardanvu/NPZ/o/PU8/CVJU0qc/Req3X6o6eiiivFPTCkPalpD1FAC0UUUAFFFFABRRRQAUUUUAFFFFABRRRQAUUUUAFFFFAGW//ACN0H/XjJ/6MStSst/8AkboP+vGT/wBGJWpQAUUUUAHWuN8Iu2keJtZ8PycIJftVvnurAZx+n45rsq5Hxay6Nr+keISp8qJzbXTD/nm3Q/gSTXdhPf5qP8y09Vqv8vmcuI93lq/yv8Ho/wDP5HXUUisGUMpDKRkEHrS1wnUFc9400a51jRkbT8G7tJBPEhA+cr/DXQ0VrRqyo1FUjujOpTVSDhLqZPh7XrfxBpgnjwk6/LPAfvRN6EGtYYAwOK5XxH4bkSY654cUw6rCd7Kp+W4A6hl6E/z/ACqsvxGtLq2jj0+xuJ9Tk+UWm37re59P88V2Swvtv3mGV11X8vr5dmc6xHsvcrb9+/8AwfI2vEniaz8N2IluiXmkBEMKjJcj+Q968/0e61rX9be9sCLnUXj2G8lTENkp7KOhPOPz69a6aDwbea5dpf8AjK7891OUsoDtjj9s9fy/M111tawWcKw2sKQxqMBEUACt418PhKbhBc03u+nou/5PzRi6VbET5p+7FbLqY2geE7PRGa5kZrzUJOZLqblifb0/nW8QGUg9CMGiivLqVZ1Zc83dnfCnGnHlitDN0bw/pugQvHplv5QkbLsWLM3tk84rSorlfFPi6XTr2LRNAtxfa5dD93FnKwD++/oO+OKzq1m251HdnThcLKtJUqK/RJdW+yLfirxbZ+F7NTIDc3sx229nGcvK307D3rG0Twlc3mop4m8az+dequ+K0biGzHXp6j+fPJ5q74W8FjSrh9W1uc6lrc/L3D8iL/ZQdvr+WKi8U6jNrF+PCukkCadQ1zPu4ij7jHr/AI+9GHw0sTUXPolr6LuzsxONpYCk6WEd5PRy7/3Y9l57vyWgeDlGrazq/iJkyk8vkWjMORGvXHpn5fyrsKr2Fjb6bYQ2dmmyGFQqj+p9TUs0qW8DzSnCRqWY+gHJroxFRVqrcVpsvRaI8ejB06dpb9fUfnHWqlnqthqE80NjdwzyQHEqxtnb/nFck8+p+PHCWTT6XoYBDzEYe5OeQPb/ADz0roB4fjsNFksvDzJpszKALgRh247nPU9fzrWeHhSXLUl776dF6/5IzjWnUfNBe7+fp/mzYopFBCgMdxA5OMZpa4jqCiiigAoqtqIvW0+UaW0SXRH7tpRlQfen2YuRZQi+aNrnYPNMQIUtjnGe1Vy+7zXJv71rE1FFFSUFL2pK5LXfEsl/dPoHhjbc30sZ8y4SQbLdc4Jz68/gSO/Fb0aM60rR+b6Jd2ZVasaUbv8A4cj8Q3tx4j1U+GNHlVYtu7ULlefLUH7mfU8cfh611VnZwWFlFa2kaxwxKFVVGAKp6BoVr4f01LW2G5zzLK33pW7k/wCFadaV6sWlSpfCvxfd/wBaIijTkm6k/if4LsFc145SL+xraaW7+yNb3aSxy/aIIcNtYfemVl6E8YzXS1geKftVzFBY6cnnTsxnkgDiNpIl+VgrlSFbLqe2cEZGcjkOgf4Ovv7R8MwXHnyXGZJE815IpC21yMholVCOOCB0q0fEWiCC6mOsWHlWcnlXMn2pNsD5xtc5+U54wah8Ky3Mugp9tJ86OWWMqzhjGFcgKWAAJAAGQO1creabrF9r7axL4cud9ndgJatNbhLq2WO4jUKRIfm3T+Yd4XA4GSOQDuTqViNQ+wG8txeeV532fzV8zy8437c5254z0pbHUbLVLUXOmXkF5AWKiW3lWRSQcEZBIyDXncPgrW4YdN0tlEptYo5JNSMi7SU05rUxgZ35Ltu6bdpbnOAep8L6fexHVbq9s30z7dNGY7cujOoSCOIuShZckpxgn5VTODlQAXvDn/INuP8Ar/u//SiStWsbwtGYdHljaR5St9djfIRub/SJOTjFbNAHG+OLpr+4s/DdoCz3MizXJHRIVOTn8Rn8PesXwJY/2z4vv9dmT91C7CEdgx4A/BePypb7U1s28W6pnfctOthA/p2Kj6AZ/wCA12XhTR10Pw3a2mB5pXzJj6u3J/Lp9AK+gqT+q4N047vT70nL9EePCP1jEqb6a/c2l+rNmiiivnz2AooooAKKKKACiiigDjvGbf2fr/h/Vk+Ux3PkSEcEo3B/Qmrfi/R7mZIdY0VcarYncm0cyp3Q+v0+vrVzxbpA1nwzd26xLJOqGSDPUOORj3PT8ad4T1BNS8L2UyuWZYxHJk8h14INepGq40KdWO8W4v0euvlujgdNOrOnLaVmvVaf5E+hazb69pMV9a8BuHQnlG7qa0a4nU4n8H+KE1e2G3SdQcR3sa9InJ4fH58/X1rt8Vy4ilGDU6fwy28u6+R0UakpJxn8S3/z+YlIfvL9aWkP3l+tcpuLRRRQAUUUUAFFFFABRRRQAUUUUAFFFFABRRRQAUUUUAZb/wDI3Qf9eMn/AKMStSst/wDkboP+vGT/ANGJWpQAUUUUAFVtQsLfVLCWzvYxJDKu1h/Ue9WaKcZOLutxNJqzOQ8K38ukalL4W1Vy0kHz2UzcebF2H1GD+o7V19YXifQG1i1jnsmEOpWjeZazdMH+6fY1kwePWtrMw6vpN6mpxja0McWVkb2PYH/Oa9GdJ4v97SXvfaXn39H+DOKNRYf93UenR+Xb1R2dYmteLNN0aT7OWa6vW4S0txudj2B9KxQPFPimdY7mN9A08Hc5jk/fSD+7njH5D8a3tF8L6VoOXsrfM7D5p5Duc/j2/Co9jRofxnd9l+r/AMrl+0qVf4asu7/Rf5mFHoGteKJPP8U3DWdiTlNOt2xkejn/ACfpVi88CQRTRXXhu7fSLmKMplBuWQdcNzn/AD7V1lFJ46sn7jsuy2+7r8x/VKVve1ffr9/T5HI6R4rewm/snxcVtb9DhJiMRzr2bPSuuByMjkVU1LSrLWLQ22o2yTx9RuHKn1B7H6Vy8mja94WQSeHLltRsU66fcnLIP9g/04/GqcaOJd4vkl2fwv0fT0enmSnVo6S96Pfr8+/y+47Oo7i4itbeSe5kSKKNSzu5wFA7k1yq/EfSreHOtW95pcgHzLNCSCfQEdfyFcourp8Q9UY6zqKaZ4fifMdiZQklyR0L88D/ACPWuGrTqwn7NRvLsevhaEK0Pb1ZctNbv9Eur/LrY2r3xXq/iyZtP8BxbbYNtn1aZSET1CA9/f8ATvXQ+GfCNh4ZhkaBpLm9n5uLyc5klPf6DPb+dW9NvNFhtY7TSrizSGMbUihdQAPpWnWPsZRlepua1sfGdP2OGXLT+9y/xPr6bIKpW2j2FpfTXlvaxpczZMkoHzNnrzV2qtmb4y3P28QBPN/0fyiclMD72e+c1vFyUXZ2/U81pNq6LVIyq6lXAZWGCD3FLRUFDIYY7eFIoI1jjQYVFGABT6KKL31YbBRRRQAUUUhIVSWIAAySe1AC0VzGoeObOK4a00a3n1a7H8FsuUU+7f4Zqtb6P4p1hWudV1l9K3H5LW0UHYPc5/xrsWEko81VqC89/u3OZ4iLfLTXM/L/AD2N/V9f0zQ4g+pXSRFhlU6s30A5rFHjS7uI/NsPDWo3ELDMcjAJv9+/FWtK8F6Xp1x9ruA+oXpO5ri7O9t3qAa6GqcsLT0jHn83ovklr97+QlGvPVvl9NfxOITRPEvib5vEd7/Z9kwBNna8Mw9GPb9fpXUaXoem6NGU0y0jg3ABmUZZh7k8mr9FZ1cVUqLl2j2Wi/4PzLp0IQfNu+73CiiiuU3Cs7VdEttXMTzS3VvNDkRz2lw8LgHGRlTyDgcHI4B6itGigCtp+n2+mWKWlorCJMnLyM7MSckszEliSSSScmrNFchc+Mb6zMAu9NRE+1y29zcIZZIrcIFIZmWM7Qd3VsKMcmgDr6K5G68cNa3l0rWKtbobiO3fzfmklhZFZWGPlBZzg5P3fetnR9Z+32V5JfJHay2NxJBc4kzGpTncGIHBUg84xk+lACeHP+Qbcf8AX/d/+lElXdRvo9N024vJz+7gQuffHb8azfCd1b3uhyXNnPFcQS3t20csTh1cfaJOQRwRWf8AEicw+C51H/LWVEP0zn+lb4akqtaNN9WjGvU9nSlNdEcBoCza1qmmaVIHeE3LXlzgdSe5H0/9CNe1dOlec/Cu1Im1O6nB84iNeeMBgW6e/FejV6WcVObEezW0fzerOLLabjR53u/00CiiivGPTCiiigAooooAKKKKACuJ0ATeH/HV/osrH7LfA3dtzxnv+PBH/ARXbVyHjQ/2fquha0mAbe58mT1KPjP5YP513YN80pUX9pfitV+Jy4lcqVT+V/hsze1/ShrehXWnkqpmTCM3RW6g/nWZ4P1qW7tX0rU18nU9PAilRjzIAMBx65x1H9a6U1zHjDQftNv/AGzprtb6pYqZI5E/5aKOSp9aWHnGcfq9TRN6Ps/8n1+8K0ZRl7aG63Xdf5o6akP3l+tUdB1RdZ0G01BcAzRgsB2YcMPwIIq8fvL9a5ZRcJOMt0dMZKSUlsxaKKKgYUUUUAFFFFABRRRQAUUUUAFFFFABRRRQAUUUUAZb/wDI3Qf9eMn/AKMStSst/wDkboP+vGT/ANGJWpQAUUUUAFFFFABRRRQAUUUUAFFFU9V1ax0XT5L3U7lLeBOrMep9AO59hSbSV2VCEpyUYq7Zcrn/ABN4y0zwzCqzs1zeSHENnB80jn6dh7/lmud/tbxN48Qjw8raHo5ODfTD99MP9gdh7j866Dw74J0jw2TNbxvc3r/fvLlt8jH27D8P1rD2kqn8Pbv/AJHrfVKGE1xcry/kjv8A9vPZeiu/QxNL8K6j4n1GHXfG+CifNaaT/wAs4R2LjufUc9s+g6q68N6LenNzpVnI397yVDfmOa06K3pXpaxbv3ODFYiWKfvpKK2S2S9P13fU5u58AeG7n/mHiFv70MjLj8M4/SqQ+HVpGNtvq2pxRjoiz8CuxortjjsTFW5389fzPNeFoPXlRx//AAr2H/oNap/3/o/4V7D/ANBrVP8Av/XYUVX1/E/z/kL6nQ/lOP8A+Few/wDQa1T/AL/0f8K9h/6DWqf9/wCuwoo+v4n+f8g+p0P5Tj/+Few/9BrVP+/9H/CvYf8AoNap/wB/67Cij6/if5/yD6nQ/lOP/wCFew/9BrVP+/8AR/wr2H/oNap/3/rsKKPr+J/n/IPqdD+U4/8A4V7D/wBBvVP+/wDXMaZ4ZufEeqXC2d/fJo8DmJ5riUlpiOoVen516vTY4khTbEiouScKMDNbU8zrwjK7u3t5GU8DSk1ZWXXzOX0bwNDoWpw3VlqV35ce7dAzfK+RjtXVUUVw1q9SvLmqO7OunShSXLBWQUUUViaBRRRQAUUUUAFFFFABWIPCWliCaFjevFPI0kyPfTMJC2AdwLcg46dK26KAMiTwvpEt5dXMlqWku0dJcyNtw+3eQucKTsXJGCcVd07TbXSrT7PZIyoXaRi7l2dmOSzMxJJJPUmrVFAGT4c/5Btx/wBf93/6USVhfEAi6uNC0l+Y7y9DSAHqq4BH/j9bvhz/AJBtx/1/3f8A6USVxHxOvJLPxHpk0J2yQQNIjehz1/SvSyum54pJef5OxxY6SjQbfl+ZvfDwB7PVZ87mkv5Mt6+ldfWL4S0mPSPDFpCnLyRiWVvV2GT/AIfhW1XPjJqpiJyjtc1w0XCjFPcKKKK5ToCiiigAooooAKKKKACs7XtHh13Rp7CfA8xfkfH3G7H860aKqE5QkpR3RMoqUXGWzOd8FapPfaO9pfn/AE7T5Dbz/NknHQ/59K6JgHUqwyCMEHvXF3pfw18QoLtG2WGsDy59w+USjpz6/wCJrtK68XFKaqw2lr/mvkzDDyfK4S3jp/l+Bxvhxh4Z8S3nh65lC29w32iwLHqD1Qe/+HvXYn7y/WuM+IqrHHo92ycQ3ybnxyo6/wBK7I87SORVYr95GFfrLf1Wl/mTh/dlKl0jt6P/ACHUUUVwHWFFFFABRRRQAUUUUAFFFFABRRRQAUUUUAFFFFAGW/8AyN0H/XjJ/wCjErUrLf8A5G6D/rxk/wDRiVqUAFFFFABRRRQAUUUUAFVNS1Wx0eza61S6itYF/jkbGT6D1PsKwvEXjVNJ1EaVpWnz6tqpXebeDgRg9C7c46jt3rL0zwnqXiPU/wC1vH6ROIxi101GzHEO5b1P5/0rGVRt8sNX+B6lHAqMFWxT5Ybrbml6L9Xp6kc/ijW/GUptPBMLWliGxNq1wuB9EHc/5461oab8N9MgnS71y4uNcvV5828clAfZM8D2JNddHGkMaxwoscaDCoowFHoBTqSopu89X+H3BPMZQj7PCr2cfL4n6y3+SsvIFVUUKgCqowABgAUUUVueWFFFFABRRRQAUUUUAFFFFABRRRQAUUUUAFFFFABRRRQAUUUUAFFFFABRRRQAUUUUAFeU3V7Oscltp+q6jLZwPftbyrezO73Y8o20bPuLMhzOdpO07QMcAV6tRQB5rd3msrrGseVc3/n+Xdi6iEj7IIllhEDRr0VjCzsCvLHdnJUY6nwg9xJ4fm/fTTRLd3CWU90zSO8IchCxY7mHUAk5KgHJzmuhooAxvCwlGjyi5ZHl+3Xe9o1KqT9ok6Ak4/OuK+JNnJqXi7S7K2BaWaDaFBxwXNdz4c/5Bs//AF/3f/pRJXHarei8+MOnRBdotQIyc/eOC3/s1erlTlGs6kfsxb/A8/H2dJQfVpfieiRRrFCkcYwiKFUegFOooryj0AooooAKKKKACiiigAooooAKKKKAMjxTpH9t+G7qzX/WFd8XH8Y5H+H41X8H65/bOiILlsX9sPKuY2GGDDjJB9f55rfrjvE2nXej6unifRVZ2UBb63X/AJax/wB7Ht/9f1rvw7jWp/V5aPeL8+3z/M5KydOfto+j9O/yN7xFpKa34fu7FztMiZRv7rDlT+Y/KqvhDVX1bwzaTTLtljzDJ7svGf5Gr+m6rZ63poudOmWVHXkA8ofQjsa5PwhevZ+FHEQXfHq4t33Ds8qKf0f86cYy+rThJaxkvle6f5ITlH28ZxejT/C1vzZ3VFFFeedgUUUUAFFFFABRRRQAUUUUAFFFFABRRRQAUUUUAZb/API3Qf8AXjJ/6MStSst/+Rug/wCvGT/0YlalABRRRQAUUUUAFUdZtLq+0W6tdPuRa3E0ZSOYg/IT345q9RSaurFwm4SUl0Of8KeELPwrBMYJJLm6uSDPcTHLOR/TOTXQUUUoxUVZF1q9TEVHUqu7YUUUVRiFFFFABRRRQAUUUUAFFFFABRRRQAUUUUAFFFFABRRRQAUUUUAFFFFABRRRQAUUUUAFFFFABVXUtSttJsjdXrSCIMqfuoXlYszBVAVAWJJIHAq1Wdr1nLfaS8FvaQXkm9GWKe6e3XKsCD5iKzAgjIwO1AES+J9Ia8Fq100U/keeVmhePau0MQSygBwp3FD8wHJFWdL1ay1m1afT5WdEcxurxtG8bAA4ZGAZTgg8gZBBHBBrjIfAmsyiODUtQt541LXb3W5zK9w1ibPZtIxsCsW3FtxIAI6muk8PaTeWaanPq/kJc6nciaSK1kZkiCwxwgByFJJEW7OBjdjnGSAT+HP+Qbcf9f8Ad/8ApRJXmeiSPc/EGxvJZPMkubqVmbtwSBj2rqru7k0P4dai1iSGW9uolMjFyAbmQZyTknHrWMbCHw54j8JxlwQYvnbGMszf4tivey2PLRm+sk0vlFt/mjycc+apFfy2b+bSX6nqBooorwT1gooooAKKKKACiiigAooooAKKKKACggEEEZB6g0UUAcnqPg2WK+N74Wvv7JmkBEyKMpIeoOO1cLY69daJbahbXds1x/xMEnMqcKZY5EZlJxxkL1r1nWpZLfQb+aFikkdvIyMOoIU4NeSX7EaVr/8A1/v/ADSvdwuJcqL9uuZXXrv33Z4+KpKFRey0bv6a+R30PxH8OyYD3EsLE4IeI/L9cVs2fiHSNRYrZalbSsMfKJADz7GnXMOnT3KWl3bQyyXEbSbXiB3KpUHnH+2tZ114G8O3f+s02NDjH7slf5VwXwclqpR+5/5Hb/tK2cX96/zOgorkm8GXlko/sDxDe2gXpDP+9QewHGP1phsPHNifMg1Ox1Ad45Y9n+fzFJYalL4Kq+d1+lvxH7acfipv5Wf/AAfwOworkE8VeIbPMereF55JBzvs23Kfw5/nWjpnjTRNUYRpdfZ584MNyPLYH09P1qZ4OvFc1rrurP8AIqOJpSdr2fnp+ZvUUyKeKbPkypJjrsYHFPrks1udG4UUUUAFFFFABRRRQAUUUUAZb/8AI3Qf9eMn/oxK1Ky3/wCRug/68ZP/AEYlalABRRRQAUUUUAFFFFABRRRQAUUUUAFFFFABRRRQAUUUUAFFFFABRRRQAUUUUAFFFFABRRRQAUUUUAFFFFABRRRQAUUUUAFFFFABRRRQAUUjsERmbooyawNE8Q3F83+n26RrJYx30XkbnIRi3ykYyWGB0654FAHN3hXV7rT/AA8PmWXVLu5ulHaNbiTAP15qp8Vdy6vpzRkqyQOykdiCDTdA1vSdJ8QeINe1D7etoJJCkqabcyiJNxdy+1D5eODhsHrT/FesWWp+JNPkSz1KWJbaZGhfTbiKSQkcBUaMM31AIHevosNL2GJhTtpGLfzav/kvkeNXj7WhKf8AM19ydv8ANno9jci8062uRgiaJZOOnIBqeuF8I6+NH0P7Bqtpqx+zyskDx6RdvvjzkEgRkr16Ng4xxW5/wmWmf8+ut/8Aghvf/jNeHXpqnVlFbdPQ9SjPnpqTN6isH/hMtM/59db/APBDff8AxmmR+N9ImTfFBrLrkjK6FekZBwf+WPqCKxNToaKwf+Ey0z/n11v/AMEN7/8AGajm8aaekDtDY63LIqkqn9h3o3H0yYeKAOiornpPGumpC7pY67IyqSI10K8BY+gzEB+ZApkfjzSJbiSGG21qQxErKV0O8PlPhWCsPKyCVcHp0+oyAdJRXOP41sRcoiWGtmJkYtL/AGHe/KQVwMeTk5BY57bfcVR0fxnHB4btBqOma+17DAElj/se7d5GUYzu8vBLYzye/Jp20FfU7GiuWn8eWscbtDoviCZlZQFGi3Q3glckZj7AnrjO0+oJI/Hun/2g9rPZazGTuaA/2JeZkRRHlseVn7zkdOwz1GSwzqaK5TU/HcNrZ79N0bXL6csAIho13HgdyS0QH/1yKrXHxGt7fSfNl07UIL52IitLqxng3DfgfOyBc7cEgH2rWnRqVWlBXuZzqwgm5M3fFV1FZ+FNSlncIDbui5/iYggD8Sa8evdSD6JdAsguLu9MskWDlEIB6/VRV7xLq/iPX5/9K0fWVjikBit4tLnaMDuSwX5j05+vSsDVXnvdXmZLG7+0TzErarayGXPLEeWAWGACenAFe9h8PCnQnCT95avsttDxq9aVSrGUVpsv8z07W9cuF8f6db2kwWJINrfLyS0wVxz/ANcxXZJdb9UntNmPKhjl3Z67i4xj22frXjl/e32o+MrTUf7A1yG1hnVstpNxu2eYXJICH+8emeldLpPji9XVZrjU/DXiECaMJuTSpm2hZJGUY2DI2uBn/Z968SpGPKrNbHp0pSu7p79j0eiuF1Hx1K13ayWeg+ImigucyINJuUMqbHXP3MEZKsAcHI6DFX08e27tNu0TxDGqFQhbRbkmTJwTgRnAAweeT2GeKwcbHQpXOrrM1bw5pOt4OpWccrgYEg+Vx/wIc1nR+OdKnSN7e11qSKVN6zJod4VI4x/yyycg5GOOPplT4208TBBp2vMpxmQaFd7R17eVnjA7fxD3w4TnTlzQdmEoxmrSV0VX+Hmn27ifQ7u60u6XpLFISD7Edx7Zp/8AZfjIcDXrM47m35P6VPN420+Mx+Xp2vTbnCts0O8Gwf3jmMcD2yfanR+NNOeNWey1yMkZKNoV6SvscREflXV9drP47S9Un+Zz/VaSfu3Xo2jN/tLxtpkrW9xpVvqoHKXEL7AR7j/61OTxvqMa7LzwvqCzLwwjG5f5Vfi8caPOheCHWZFDshK6FekBlJVh/quoIIPuKf8A8Jlpn/Prrf8A4Ib3/wCM0/rNKXx0l8rr9bC9hUj8NR/Oz/Qox/EKxVtl/pupWcn914N2fy/wrq0cSRq652sARkY4rmofG9pJ9n8/Sdbi8yEvLnRbxvJf5fk4i56tyOPl9xVj/hMtM/59db/8EN9/8ZrCtKlK3s48vzubU41F8cr/ACsb9Fc2PHejtetarb600qRiR1Gh3mUViQpI8rPO1sHGPlNTf8Jlpn/Prrf/AIIb3/4zWBqb1Fc+/jTTVUlbPXHPoNCvefzip3/CZaZ/z663/wCCG9/+M0AWn/5G6D/rxk/9GJWpXP6fqcOr+J1mtLe/SOKzdGe60+e2GS6kAGVFz0PTNdBQAUUUUAFFFFABRRRQAUUUUAFFFFABRRRQAUUUUAFFFFABRRRQAUUUUAFFFFABRRRQAUUUUAFFFFABRRRQAUUUUAFFFFABRRRQAUUUUAFYf2HR/B+lajqkcUkcEFu00xaZ5SsUYZtqBmO1R82FXAGelblY174R8P6gt19p0axMl2kiTTLboJGDqVY7wM5IJ5z3oAyLe60a18G6/DcaZJFb2jSxahYs+9pGeJX2Bs87klQDkdcdqx9e8QrH4z0i8ubV43tGkhmhVgxB46HvwwNdVH4StBpF9p9xd3lyuoszXc0rIJJmKLGGJVQAVVEA2gfdGc1zHi3w/Joq2GtQz3N6bSdpbueXyvNYsVw2NmwYxjhfT6134OTniLSesrr71+pyYlKFLRaK34M6rT/E9vqOuPp0cEiZFx5MxIKy/Z5Fil46jDuBz159K26w9K8PWNtqp1m2luGM6StFBIV8uDz2WSXaAM5Z1Vjknnpirt9oOkancLPqWlWV5Mq7VkuLZJGAznAJGccmuF6Ox1lbSvEC6neLCbWSBZoWntpGYETRq4UnA6feU4PZh71jN41tNO0XVLq30ubyrCyfUkjDqPPh3Sb2UnocoTg/3l9eNbTvDEOmXQmt7+8YRr5cEbmMrbxFw7RphM7TgA5JOAMEYqjP4BsZ9M1SxOoagkepWpsiytFut7cliY48xkAHe3LBm6c8DCAvyeJbZPFw0AmBbkxLKBJcojuDu+4h+ZsbecdM1tVjTeHmuprNr7V7+6jtXSXyZFgCySIcq7FYw2c44UgcdOtPni0PxDczWd7aWmoSWL4dLiBZBGxGeNw9PSmotptLYTaTsyIeJoG8RtpS28hCXIs2uMjaJ/I+0bMdf9WQc9OcVDDrVvDrV7Baac/767MUk4cATXCwKcYPQbFVc+q/jTovCOmWOrf2jaPJZxo/nC0iCLAsoh8nzQNuQwjwuM7cAcZ5rPuotB0vU3vrnxFJGzsZvI8yJlExjEfnBQm7dtHT7medtVCE5u0VcUpRirydie48bw22nRXElhMZit3JLArqTFHavsmfPfB24A5O4V04IIBByD0NeVNDb6npwtNETXdZKPch71jDDvS4bdNCWEW3azYPChhgYIrevLLxh4itWtLy20uxspMboZUE2QDkZByDggHoOldSwU1/Eaj6vX7tzn+swfwJy9F+uxv654hTRNzPbSTpDbvdXDIwHlQoRubB64znA9DWLrnj3Q9N1SB7aP8AtK5SOSPzbdxtiVipK56HJVemcbfzqWXwpsY2Bvr+RhvDNFaQpbxvggkMADkHA5GD7itmXwJpLtb+U09ukJ/eRw7FW4TerhJPlyQCo6YOMgk5NPlwtPduT+5f5hevPZcv4nIax4t1+7iZp7q30S0aPzF+ZVJQTCJi0jH5drMuT8vDCus8OeEtJtorfVDuvruRBItzLP5w5GcqR8pHof1qzB4Titbq5ubXU7+GeVWSFx5TfZUaTzHWMNGRhm67gx4ABGK0tH0q30TSYdPtC7RRbjukILMzMWZjgAZLEnAAHPAA4qJ4ubjyQ91eX6vdlRw8U+aWr8ynrHiOPR7gI9tJLGipJcSKQPKR5AgbHfBJJx2B+lcdbx2+k/ErVNSv8SWsE7r5448iY25nIx3xETz/ALQ/DstX8N2+s3Uc091dQqAqzQwlAlwquHVXypONw/hIzkg5FQy+EbG41WS9uJ7mVZvmntmKeVNJ5Rh8xgFzu8s7eCBgDjIrGnWlTjKK6qzNJ04zab6FP/hOF+yO39l3H2xDk2m9d2zyRNuznH3TjH97j3rpbW5ivbOG6tm3wzxrJG395WGQfyNc3/wgdn/Z7W/9p6l5zPua83x+cV8rytmdmNuwY6ZzznPNdLBBFa20VvboI4okCIg6KoGAPyrI0KGs6yNJ+yRpbPdXF5K0cUSMF+7G0jEk9AFQ/iQO9UdU8XW2naVHfi2lntzZPfylSAY4EALNg9SA3QdcVf1rRI9Zjt91zcWk1tKZYbi2K70JRkYfMrKQVdhyPcYIBFC/8G2eoafHZS3l4lukL2rpGYx5tu2A0LZT7pCgZGG/2qAKNz40sdDsVBsTDZRqY7WRpVWMrHNHCckn5FBkU5P8IJ7V02nXqajpsF5E0TJMu5WhlEqEeoYcEe4rJTwnHFeSXNvql/C+JBbhfKItRI4eTYDGc7io+/uwOmK0tK0yPSbAWsUsk3zvI8su3dI7MWZjtAHJJ6ACgB+p38el6ZPeyqzrCudq9WPQAfUkCsoeKkayQrZyG+e/bTxabxnzlBY/N027FL59O2eK1tRsItT02eyuCyxzJtLIQGX0Iz3B5rHHhC3WxWFdRvhcLcm8W9zF5wnJbMn3NuSrFMbdu3gAUAP03WrcS2UNvZNBbX0Ut0JS4wr7i0gI65yxOenNSeHvEkXiCNyltLbOIYbhUlIJaKVSY246Z2sMdiDTY/C8cN9ps8WpXqw6fA0K2uITHLu+8zkx7snjowHA465k8P8Ahu18OxSJbT3FwWSOJXuGUskUYxHGNqj5VBOM5PJyTQBru6ojO5wqjJPoKwLPxbBcaVcahc2strDDYrqChiGLQMpYHA6HCnIrfZQ6lWGQwwR61z9l4OtLSzmtHvr26tprX7H5c5jIWAKVWMEIDgBjySWPcmgCvF4lt1vJLltKkivDfQaTefvATGWCyRc9GGLgHjpuI7Vf0rxJb6rrd/psJgEti7JIguUaUYIGTGOVB7E1Sl8ERSWPkLrWqRTNfJfzXa+QZZpUVFTduiK4CxoMBR93nPOdJNCX+3k1W5v7q5kiR0ghlEYSAPt3bdqBjnaPvE0AatFFFABRRRQAUUUUAFFFFABRRRQAUUUUAFFFFABRRRQAUUUUAFFFFABRRRQAUUUUAFFFFABRRRQAUUUUAFFFFABRRRQAUUUUAFFFFABRRRQAUUUUAFFFFABWdr+mf2xoN3YggNNGQpP97qP1ooqoTcJKUd0TKKlFxezM7wRqbah4cjguBsurE/ZpkPBBXgZH0H55roqKK6sdFQxM1H+r6mOFk5UYthRRRXGdAVzF74Okl1a6vtO1m709rsgzJCeCQMZoorWnWnSbcHuZ1KcaitIhHw60qTH266vrzHJE05IJ9avWngjw7Zvuj0yKRv8Aptlx+R4ooraWNxMlZzf3mccLQi7qKN2ONIoxHEioijAVRgD8KdRRXIdAUUUUAFFFFAHmupah4pu/E2p2mi3F95cGt21vKUhQxw2jJatIVJH38yOTnOFLHsK2NPXVrXVkivBeR2bXtwQ8FuP3h81PLMm1fuld3zcd8npRRQBZ8G/2+0l23iK+eaQqmbc2DQLC+W3bJCxEgPHTjgHviupoooAKKKKACiiigAooooAKKKKACiiigAooooAKKKKACiiigAooooAKKKKACiiigAooooAKKKKACiiigAooooAKKKKACiiigAooooAKKKKACiiigAooooAKKKKACiiigAooooAKKKKAP//Z)\n"
      ]
    },
    {
      "cell_type": "markdown",
      "metadata": {
        "id": "usrijOpcGPIQ"
      },
      "source": [
        "빨간선 위쪽 값이 더 많다는 의미 이고,\n",
        "\n",
        "이 값들을 줄여주는 방향으로 문제를 해결할수 있다."
      ]
    },
    {
      "cell_type": "code",
      "metadata": {
        "id": "xUorPXMNFVA6"
      },
      "source": [
        ""
      ],
      "execution_count": null,
      "outputs": []
    }
  ]
}