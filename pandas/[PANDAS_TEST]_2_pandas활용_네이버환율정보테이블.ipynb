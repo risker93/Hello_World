{
  "nbformat": 4,
  "nbformat_minor": 0,
  "metadata": {
    "kernelspec": {
      "display_name": "Python 3",
      "language": "python",
      "name": "python3"
    },
    "language_info": {
      "codemirror_mode": {
        "name": "ipython",
        "version": 3
      },
      "file_extension": ".py",
      "mimetype": "text/x-python",
      "name": "python",
      "nbconvert_exporter": "python",
      "pygments_lexer": "ipython3",
      "version": "3.8.5"
    },
    "colab": {
      "name": "[PANDAS TEST] 2. pandas활용_네이버환율정보테이블.ipynb",
      "provenance": [],
      "collapsed_sections": []
    }
  },
  "cells": [
    {
      "cell_type": "markdown",
      "metadata": {
        "id": "oMPJ8Ny0HiJ_"
      },
      "source": [
        "## 판다스 테스트_Pandas 활용) 네이버 환율정보 데이터 분석\n",
        "\n",
        "- 총 6문제의 코딩 테스트가 있습니다 \n",
        "- 빈 칸을 채워 동일한 결과가 나오도록 코드를 짜세요. GOOD LUCK"
      ]
    },
    {
      "cell_type": "markdown",
      "metadata": {
        "id": "EbWGjc0uHiKB"
      },
      "source": [
        ""
      ]
    },
    {
      "cell_type": "markdown",
      "metadata": {
        "id": "3pS8NREsHiKB"
      },
      "source": [
        "### pandas로 환율정보 테이블 읽어오기"
      ]
    },
    {
      "cell_type": "code",
      "metadata": {
        "id": "MHBgYX-6OCt-"
      },
      "source": [
        "#-*- coding: utf-8 -*-"
      ],
      "execution_count": 1,
      "outputs": []
    },
    {
      "cell_type": "code",
      "metadata": {
        "id": "OZd1K-eFHiKC"
      },
      "source": [
        "# 경고 무시\n",
        "import warnings\n",
        "warnings.filterwarnings(action='ignore')"
      ],
      "execution_count": 2,
      "outputs": []
    },
    {
      "cell_type": "code",
      "metadata": {
        "id": "BHwq-V2IHiKC"
      },
      "source": [
        "import pandas as pd"
      ],
      "execution_count": 3,
      "outputs": []
    },
    {
      "cell_type": "code",
      "metadata": {
        "id": "M5qOXkUTHiKC"
      },
      "source": [
        "# url 지정\n",
        "url ='https://search.naver.com/search.naver?where=nexearch&sm=top_hty&fbm=1&ie=utf8&query=%ED%99%98%EC%9C%A8%EC%A1%B0%ED%9A%8C'"
      ],
      "execution_count": 4,
      "outputs": []
    },
    {
      "cell_type": "code",
      "metadata": {
        "id": "Bx4yy2ZOHiKD"
      },
      "source": [
        "# pandas로 읽어오기\n",
        "tables = pd.read_html(url)"
      ],
      "execution_count": 5,
      "outputs": []
    },
    {
      "cell_type": "code",
      "metadata": {
        "colab": {
          "base_uri": "https://localhost:8080/",
          "height": 284
        },
        "id": "RBONff28HiKD",
        "outputId": "1c13b401-7ed4-4aa4-c9ed-cb7b50fea0e5"
      },
      "source": [
        "tables[0]"
      ],
      "execution_count": 6,
      "outputs": [
        {
          "output_type": "execute_result",
          "data": {
            "text/html": [
              "<div>\n",
              "<style scoped>\n",
              "    .dataframe tbody tr th:only-of-type {\n",
              "        vertical-align: middle;\n",
              "    }\n",
              "\n",
              "    .dataframe tbody tr th {\n",
              "        vertical-align: top;\n",
              "    }\n",
              "\n",
              "    .dataframe thead th {\n",
              "        text-align: right;\n",
              "    }\n",
              "</style>\n",
              "<table border=\"1\" class=\"dataframe\">\n",
              "  <thead>\n",
              "    <tr style=\"text-align: right;\">\n",
              "      <th></th>\n",
              "      <th>통화명</th>\n",
              "      <th>매매기준율</th>\n",
              "      <th>전일대비</th>\n",
              "      <th>등락률</th>\n",
              "    </tr>\n",
              "  </thead>\n",
              "  <tbody>\n",
              "    <tr>\n",
              "      <th>0</th>\n",
              "      <td>미국 USD</td>\n",
              "      <td>1129.50</td>\n",
              "      <td>전일대비하락4.00</td>\n",
              "      <td>-0.35%</td>\n",
              "    </tr>\n",
              "    <tr>\n",
              "      <th>1</th>\n",
              "      <td>일본 JPY 100</td>\n",
              "      <td>1032.78</td>\n",
              "      <td>전일대비하락0.96</td>\n",
              "      <td>-0.09%</td>\n",
              "    </tr>\n",
              "    <tr>\n",
              "      <th>2</th>\n",
              "      <td>유럽연합 EUR</td>\n",
              "      <td>1368.28</td>\n",
              "      <td>전일대비상승0.09</td>\n",
              "      <td>+0.01%</td>\n",
              "    </tr>\n",
              "    <tr>\n",
              "      <th>3</th>\n",
              "      <td>중국 CNY</td>\n",
              "      <td>175.35</td>\n",
              "      <td>전일대비하락0.20</td>\n",
              "      <td>-0.11%</td>\n",
              "    </tr>\n",
              "    <tr>\n",
              "      <th>4</th>\n",
              "      <td>영국 GBP</td>\n",
              "      <td>1589.26</td>\n",
              "      <td>전일대비하락0.25</td>\n",
              "      <td>-0.02%</td>\n",
              "    </tr>\n",
              "    <tr>\n",
              "      <th>5</th>\n",
              "      <td>호주 AUD</td>\n",
              "      <td>874.23</td>\n",
              "      <td>전일대비상승1.55</td>\n",
              "      <td>+0.18%</td>\n",
              "    </tr>\n",
              "    <tr>\n",
              "      <th>6</th>\n",
              "      <td>캐나다 CAD</td>\n",
              "      <td>931.09</td>\n",
              "      <td>전일대비하락2.22</td>\n",
              "      <td>-0.24%</td>\n",
              "    </tr>\n",
              "    <tr>\n",
              "      <th>7</th>\n",
              "      <td>뉴질랜드 NZD</td>\n",
              "      <td>814.43</td>\n",
              "      <td>전일대비상승5.22</td>\n",
              "      <td>+0.65%</td>\n",
              "    </tr>\n",
              "  </tbody>\n",
              "</table>\n",
              "</div>"
            ],
            "text/plain": [
              "          통화명    매매기준율        전일대비     등락률\n",
              "0      미국 USD  1129.50  전일대비하락4.00  -0.35%\n",
              "1  일본 JPY 100  1032.78  전일대비하락0.96  -0.09%\n",
              "2    유럽연합 EUR  1368.28  전일대비상승0.09  +0.01%\n",
              "3      중국 CNY   175.35  전일대비하락0.20  -0.11%\n",
              "4      영국 GBP  1589.26  전일대비하락0.25  -0.02%\n",
              "5      호주 AUD   874.23  전일대비상승1.55  +0.18%\n",
              "6     캐나다 CAD   931.09  전일대비하락2.22  -0.24%\n",
              "7    뉴질랜드 NZD   814.43  전일대비상승5.22  +0.65%"
            ]
          },
          "metadata": {
            "tags": []
          },
          "execution_count": 6
        }
      ]
    },
    {
      "cell_type": "code",
      "metadata": {
        "scrolled": true,
        "colab": {
          "base_uri": "https://localhost:8080/"
        },
        "id": "RDaeSfRFHiKD",
        "outputId": "9d1a734f-7d56-48b5-971a-772aa891e915"
      },
      "source": [
        "# 읽어온 내용 확인하기\n",
        "len(tables)  "
      ],
      "execution_count": 7,
      "outputs": [
        {
          "output_type": "execute_result",
          "data": {
            "text/plain": [
              "1"
            ]
          },
          "metadata": {
            "tags": []
          },
          "execution_count": 7
        }
      ]
    },
    {
      "cell_type": "code",
      "metadata": {
        "id": "rwi5T_T3IM2f"
      },
      "source": [
        "df = pd.DataFrame(tables[0])\n"
      ],
      "execution_count": 8,
      "outputs": []
    },
    {
      "cell_type": "code",
      "metadata": {
        "colab": {
          "base_uri": "https://localhost:8080/"
        },
        "id": "siZXRguHJ4e4",
        "outputId": "0ed9c3f4-b020-42be-bd59-7485e00de9cc"
      },
      "source": [
        "df.info()"
      ],
      "execution_count": 9,
      "outputs": [
        {
          "output_type": "stream",
          "text": [
            "<class 'pandas.core.frame.DataFrame'>\n",
            "RangeIndex: 8 entries, 0 to 7\n",
            "Data columns (total 4 columns):\n",
            " #   Column  Non-Null Count  Dtype  \n",
            "---  ------  --------------  -----  \n",
            " 0   통화명     8 non-null      object \n",
            " 1   매매기준율   8 non-null      float64\n",
            " 2   전일대비    8 non-null      object \n",
            " 3   등락률     8 non-null      object \n",
            "dtypes: float64(1), object(3)\n",
            "memory usage: 384.0+ bytes\n"
          ],
          "name": "stdout"
        }
      ]
    },
    {
      "cell_type": "markdown",
      "metadata": {
        "id": "tPtcN5eNHiKE"
      },
      "source": [
        "### 엑셀로 저장하기"
      ]
    },
    {
      "cell_type": "code",
      "metadata": {
        "colab": {
          "base_uri": "https://localhost:8080/",
          "height": 284
        },
        "id": "r3abtjm8HiKE",
        "outputId": "afaeff54-3846-44c0-c0be-1271abc5e6eb"
      },
      "source": [
        "# 엑셀로 저장하기\n",
        "df = tables[0]\n",
        "df"
      ],
      "execution_count": 10,
      "outputs": [
        {
          "output_type": "execute_result",
          "data": {
            "text/html": [
              "<div>\n",
              "<style scoped>\n",
              "    .dataframe tbody tr th:only-of-type {\n",
              "        vertical-align: middle;\n",
              "    }\n",
              "\n",
              "    .dataframe tbody tr th {\n",
              "        vertical-align: top;\n",
              "    }\n",
              "\n",
              "    .dataframe thead th {\n",
              "        text-align: right;\n",
              "    }\n",
              "</style>\n",
              "<table border=\"1\" class=\"dataframe\">\n",
              "  <thead>\n",
              "    <tr style=\"text-align: right;\">\n",
              "      <th></th>\n",
              "      <th>통화명</th>\n",
              "      <th>매매기준율</th>\n",
              "      <th>전일대비</th>\n",
              "      <th>등락률</th>\n",
              "    </tr>\n",
              "  </thead>\n",
              "  <tbody>\n",
              "    <tr>\n",
              "      <th>0</th>\n",
              "      <td>미국 USD</td>\n",
              "      <td>1129.50</td>\n",
              "      <td>전일대비하락4.00</td>\n",
              "      <td>-0.35%</td>\n",
              "    </tr>\n",
              "    <tr>\n",
              "      <th>1</th>\n",
              "      <td>일본 JPY 100</td>\n",
              "      <td>1032.78</td>\n",
              "      <td>전일대비하락0.96</td>\n",
              "      <td>-0.09%</td>\n",
              "    </tr>\n",
              "    <tr>\n",
              "      <th>2</th>\n",
              "      <td>유럽연합 EUR</td>\n",
              "      <td>1368.28</td>\n",
              "      <td>전일대비상승0.09</td>\n",
              "      <td>+0.01%</td>\n",
              "    </tr>\n",
              "    <tr>\n",
              "      <th>3</th>\n",
              "      <td>중국 CNY</td>\n",
              "      <td>175.35</td>\n",
              "      <td>전일대비하락0.20</td>\n",
              "      <td>-0.11%</td>\n",
              "    </tr>\n",
              "    <tr>\n",
              "      <th>4</th>\n",
              "      <td>영국 GBP</td>\n",
              "      <td>1589.26</td>\n",
              "      <td>전일대비하락0.25</td>\n",
              "      <td>-0.02%</td>\n",
              "    </tr>\n",
              "    <tr>\n",
              "      <th>5</th>\n",
              "      <td>호주 AUD</td>\n",
              "      <td>874.23</td>\n",
              "      <td>전일대비상승1.55</td>\n",
              "      <td>+0.18%</td>\n",
              "    </tr>\n",
              "    <tr>\n",
              "      <th>6</th>\n",
              "      <td>캐나다 CAD</td>\n",
              "      <td>931.09</td>\n",
              "      <td>전일대비하락2.22</td>\n",
              "      <td>-0.24%</td>\n",
              "    </tr>\n",
              "    <tr>\n",
              "      <th>7</th>\n",
              "      <td>뉴질랜드 NZD</td>\n",
              "      <td>814.43</td>\n",
              "      <td>전일대비상승5.22</td>\n",
              "      <td>+0.65%</td>\n",
              "    </tr>\n",
              "  </tbody>\n",
              "</table>\n",
              "</div>"
            ],
            "text/plain": [
              "          통화명    매매기준율        전일대비     등락률\n",
              "0      미국 USD  1129.50  전일대비하락4.00  -0.35%\n",
              "1  일본 JPY 100  1032.78  전일대비하락0.96  -0.09%\n",
              "2    유럽연합 EUR  1368.28  전일대비상승0.09  +0.01%\n",
              "3      중국 CNY   175.35  전일대비하락0.20  -0.11%\n",
              "4      영국 GBP  1589.26  전일대비하락0.25  -0.02%\n",
              "5      호주 AUD   874.23  전일대비상승1.55  +0.18%\n",
              "6     캐나다 CAD   931.09  전일대비하락2.22  -0.24%\n",
              "7    뉴질랜드 NZD   814.43  전일대비상승5.22  +0.65%"
            ]
          },
          "metadata": {
            "tags": []
          },
          "execution_count": 10
        }
      ]
    },
    {
      "cell_type": "code",
      "metadata": {
        "colab": {
          "base_uri": "https://localhost:8080/"
        },
        "id": "5yjK3y6dHiKF",
        "outputId": "fee31585-38da-4b68-8905-0f1d76575ac5"
      },
      "source": [
        "from datetime import datetime\n",
        "\n",
        "datetime.now() # 현재 날짜를 이용한 시트이름 지정 "
      ],
      "execution_count": 11,
      "outputs": [
        {
          "output_type": "execute_result",
          "data": {
            "text/plain": [
              "datetime.datetime(2021, 5, 16, 13, 20, 18, 506774)"
            ]
          },
          "metadata": {
            "tags": []
          },
          "execution_count": 11
        }
      ]
    },
    {
      "cell_type": "code",
      "metadata": {
        "id": "3KRm-1m-HiKF"
      },
      "source": [
        "from datetime import datetime\n",
        "\n",
        "curtime = datetime.now() \n",
        "# 현재 날짜를 이용한 시트이름 지정 (strftime : string type)\n",
        "df.to_excel(\"네이버환율정보_\"+ curtime.strftime(\"%Y-%m-%d\") + \".xlsx\", index=False)"
      ],
      "execution_count": 12,
      "outputs": []
    },
    {
      "cell_type": "markdown",
      "metadata": {
        "id": "_K1CDHfdHiKF"
      },
      "source": [
        "### 데이타 시각화"
      ]
    },
    {
      "cell_type": "markdown",
      "metadata": {
        "id": "z2AMbYCCHiKF"
      },
      "source": [
        "#### 한글 폰트 지정"
      ]
    },
    {
      "cell_type": "code",
      "metadata": {
        "id": "SK0o4eYlHiKG"
      },
      "source": [
        "# 한글 폰트 설정 \n",
        "import matplotlib\n",
        "import matplotlib.pyplot as plt \n",
        "import matplotlib.font_manager as fm\n",
        "from matplotlib import rc\n"
      ],
      "execution_count": 13,
      "outputs": []
    },
    {
      "cell_type": "code",
      "metadata": {
        "id": "FZpTXOUlRwl9"
      },
      "source": [
        "#path = \"/content/malgun.ttf\"\n",
        "#font_name = fm.FontProperties(fname=path).get_name()\n",
        "#matplotlib.rc('font', family=font_name)\n",
        "#plt.rc('font', family='Malgun Gothic')"
      ],
      "execution_count": 14,
      "outputs": []
    },
    {
      "cell_type": "code",
      "metadata": {
        "colab": {
          "base_uri": "https://localhost:8080/",
          "height": 284
        },
        "id": "wes9_aapHiKG",
        "outputId": "915ea9b5-b3a0-4e53-8a57-df6a9efeb966"
      },
      "source": [
        "df"
      ],
      "execution_count": 15,
      "outputs": [
        {
          "output_type": "execute_result",
          "data": {
            "text/html": [
              "<div>\n",
              "<style scoped>\n",
              "    .dataframe tbody tr th:only-of-type {\n",
              "        vertical-align: middle;\n",
              "    }\n",
              "\n",
              "    .dataframe tbody tr th {\n",
              "        vertical-align: top;\n",
              "    }\n",
              "\n",
              "    .dataframe thead th {\n",
              "        text-align: right;\n",
              "    }\n",
              "</style>\n",
              "<table border=\"1\" class=\"dataframe\">\n",
              "  <thead>\n",
              "    <tr style=\"text-align: right;\">\n",
              "      <th></th>\n",
              "      <th>통화명</th>\n",
              "      <th>매매기준율</th>\n",
              "      <th>전일대비</th>\n",
              "      <th>등락률</th>\n",
              "    </tr>\n",
              "  </thead>\n",
              "  <tbody>\n",
              "    <tr>\n",
              "      <th>0</th>\n",
              "      <td>미국 USD</td>\n",
              "      <td>1129.50</td>\n",
              "      <td>전일대비하락4.00</td>\n",
              "      <td>-0.35%</td>\n",
              "    </tr>\n",
              "    <tr>\n",
              "      <th>1</th>\n",
              "      <td>일본 JPY 100</td>\n",
              "      <td>1032.78</td>\n",
              "      <td>전일대비하락0.96</td>\n",
              "      <td>-0.09%</td>\n",
              "    </tr>\n",
              "    <tr>\n",
              "      <th>2</th>\n",
              "      <td>유럽연합 EUR</td>\n",
              "      <td>1368.28</td>\n",
              "      <td>전일대비상승0.09</td>\n",
              "      <td>+0.01%</td>\n",
              "    </tr>\n",
              "    <tr>\n",
              "      <th>3</th>\n",
              "      <td>중국 CNY</td>\n",
              "      <td>175.35</td>\n",
              "      <td>전일대비하락0.20</td>\n",
              "      <td>-0.11%</td>\n",
              "    </tr>\n",
              "    <tr>\n",
              "      <th>4</th>\n",
              "      <td>영국 GBP</td>\n",
              "      <td>1589.26</td>\n",
              "      <td>전일대비하락0.25</td>\n",
              "      <td>-0.02%</td>\n",
              "    </tr>\n",
              "    <tr>\n",
              "      <th>5</th>\n",
              "      <td>호주 AUD</td>\n",
              "      <td>874.23</td>\n",
              "      <td>전일대비상승1.55</td>\n",
              "      <td>+0.18%</td>\n",
              "    </tr>\n",
              "    <tr>\n",
              "      <th>6</th>\n",
              "      <td>캐나다 CAD</td>\n",
              "      <td>931.09</td>\n",
              "      <td>전일대비하락2.22</td>\n",
              "      <td>-0.24%</td>\n",
              "    </tr>\n",
              "    <tr>\n",
              "      <th>7</th>\n",
              "      <td>뉴질랜드 NZD</td>\n",
              "      <td>814.43</td>\n",
              "      <td>전일대비상승5.22</td>\n",
              "      <td>+0.65%</td>\n",
              "    </tr>\n",
              "  </tbody>\n",
              "</table>\n",
              "</div>"
            ],
            "text/plain": [
              "          통화명    매매기준율        전일대비     등락률\n",
              "0      미국 USD  1129.50  전일대비하락4.00  -0.35%\n",
              "1  일본 JPY 100  1032.78  전일대비하락0.96  -0.09%\n",
              "2    유럽연합 EUR  1368.28  전일대비상승0.09  +0.01%\n",
              "3      중국 CNY   175.35  전일대비하락0.20  -0.11%\n",
              "4      영국 GBP  1589.26  전일대비하락0.25  -0.02%\n",
              "5      호주 AUD   874.23  전일대비상승1.55  +0.18%\n",
              "6     캐나다 CAD   931.09  전일대비하락2.22  -0.24%\n",
              "7    뉴질랜드 NZD   814.43  전일대비상승5.22  +0.65%"
            ]
          },
          "metadata": {
            "tags": []
          },
          "execution_count": 15
        }
      ]
    },
    {
      "cell_type": "code",
      "metadata": {
        "id": "wdJpeChwHiKG"
      },
      "source": [
        "# 문제 2)'통화명'을 인덱스로 변경한 후, df2 변수에 넣으세요.\n",
        "df2 = df.set_index('통화명')"
      ],
      "execution_count": 16,
      "outputs": []
    },
    {
      "cell_type": "code",
      "metadata": {
        "colab": {
          "base_uri": "https://localhost:8080/",
          "height": 314
        },
        "id": "Ox_BLTTSHiKG",
        "outputId": "f6ff8054-80fc-453e-a92c-725f7ce75aa6"
      },
      "source": [
        "df2"
      ],
      "execution_count": 17,
      "outputs": [
        {
          "output_type": "execute_result",
          "data": {
            "text/html": [
              "<div>\n",
              "<style scoped>\n",
              "    .dataframe tbody tr th:only-of-type {\n",
              "        vertical-align: middle;\n",
              "    }\n",
              "\n",
              "    .dataframe tbody tr th {\n",
              "        vertical-align: top;\n",
              "    }\n",
              "\n",
              "    .dataframe thead th {\n",
              "        text-align: right;\n",
              "    }\n",
              "</style>\n",
              "<table border=\"1\" class=\"dataframe\">\n",
              "  <thead>\n",
              "    <tr style=\"text-align: right;\">\n",
              "      <th></th>\n",
              "      <th>매매기준율</th>\n",
              "      <th>전일대비</th>\n",
              "      <th>등락률</th>\n",
              "    </tr>\n",
              "    <tr>\n",
              "      <th>통화명</th>\n",
              "      <th></th>\n",
              "      <th></th>\n",
              "      <th></th>\n",
              "    </tr>\n",
              "  </thead>\n",
              "  <tbody>\n",
              "    <tr>\n",
              "      <th>미국 USD</th>\n",
              "      <td>1129.50</td>\n",
              "      <td>전일대비하락4.00</td>\n",
              "      <td>-0.35%</td>\n",
              "    </tr>\n",
              "    <tr>\n",
              "      <th>일본 JPY 100</th>\n",
              "      <td>1032.78</td>\n",
              "      <td>전일대비하락0.96</td>\n",
              "      <td>-0.09%</td>\n",
              "    </tr>\n",
              "    <tr>\n",
              "      <th>유럽연합 EUR</th>\n",
              "      <td>1368.28</td>\n",
              "      <td>전일대비상승0.09</td>\n",
              "      <td>+0.01%</td>\n",
              "    </tr>\n",
              "    <tr>\n",
              "      <th>중국 CNY</th>\n",
              "      <td>175.35</td>\n",
              "      <td>전일대비하락0.20</td>\n",
              "      <td>-0.11%</td>\n",
              "    </tr>\n",
              "    <tr>\n",
              "      <th>영국 GBP</th>\n",
              "      <td>1589.26</td>\n",
              "      <td>전일대비하락0.25</td>\n",
              "      <td>-0.02%</td>\n",
              "    </tr>\n",
              "    <tr>\n",
              "      <th>호주 AUD</th>\n",
              "      <td>874.23</td>\n",
              "      <td>전일대비상승1.55</td>\n",
              "      <td>+0.18%</td>\n",
              "    </tr>\n",
              "    <tr>\n",
              "      <th>캐나다 CAD</th>\n",
              "      <td>931.09</td>\n",
              "      <td>전일대비하락2.22</td>\n",
              "      <td>-0.24%</td>\n",
              "    </tr>\n",
              "    <tr>\n",
              "      <th>뉴질랜드 NZD</th>\n",
              "      <td>814.43</td>\n",
              "      <td>전일대비상승5.22</td>\n",
              "      <td>+0.65%</td>\n",
              "    </tr>\n",
              "  </tbody>\n",
              "</table>\n",
              "</div>"
            ],
            "text/plain": [
              "              매매기준율        전일대비     등락률\n",
              "통화명                                    \n",
              "미국 USD      1129.50  전일대비하락4.00  -0.35%\n",
              "일본 JPY 100  1032.78  전일대비하락0.96  -0.09%\n",
              "유럽연합 EUR    1368.28  전일대비상승0.09  +0.01%\n",
              "중국 CNY       175.35  전일대비하락0.20  -0.11%\n",
              "영국 GBP      1589.26  전일대비하락0.25  -0.02%\n",
              "호주 AUD       874.23  전일대비상승1.55  +0.18%\n",
              "캐나다 CAD      931.09  전일대비하락2.22  -0.24%\n",
              "뉴질랜드 NZD     814.43  전일대비상승5.22  +0.65%"
            ]
          },
          "metadata": {
            "tags": []
          },
          "execution_count": 17
        }
      ]
    },
    {
      "cell_type": "code",
      "metadata": {
        "id": "fA7UT3-gQwrI"
      },
      "source": [
        "#import matplotlib\n",
        "\n",
        "#matplotlib.rcParams['font.family'] ='Malgun Gothic'\n",
        "\n",
        "#matplotlib.rcParams['axes.unicode_minus'] =False\n",
        "\n",
        " "
      ],
      "execution_count": 18,
      "outputs": []
    },
    {
      "cell_type": "code",
      "metadata": {
        "id": "V84qmrZbQ9n-"
      },
      "source": [
        "#font_path = r'./malgun.ttf'\n",
        "#fontprop = fm.FontProperties(fname=font_path, size=18)"
      ],
      "execution_count": 19,
      "outputs": []
    },
    {
      "cell_type": "code",
      "metadata": {
        "colab": {
          "base_uri": "https://localhost:8080/"
        },
        "id": "a5Jp9r8qVTPb",
        "outputId": "a7d070bd-f5df-4215-df7b-dd6ce266ca8d"
      },
      "source": [
        "%matplotlib inline  \n",
        "\n",
        "import matplotlib as mpl \n",
        "import matplotlib.pyplot as plt \n",
        "import matplotlib.font_manager as fm  \n",
        "\n",
        "!apt-get update -qq\n",
        "!apt-get install fonts-nanum* -qq\n",
        "\n",
        "path = '/usr/share/fonts/truetype/nanum/NanumBarunGothic.ttf' \n",
        "font_name = fm.FontProperties(fname=path, size=10).get_name()\n",
        "print(font_name)\n",
        "plt.rc('font', family=font_name)\n",
        "\n",
        "fm._rebuild()\n",
        "mpl.rcParams['axes.unicode_minus'] = False"
      ],
      "execution_count": 20,
      "outputs": [
        {
          "output_type": "stream",
          "text": [
            "Selecting previously unselected package fonts-nanum.\n",
            "(Reading database ... 160706 files and directories currently installed.)\n",
            "Preparing to unpack .../fonts-nanum_20170925-1_all.deb ...\n",
            "Unpacking fonts-nanum (20170925-1) ...\n",
            "Selecting previously unselected package fonts-nanum-eco.\n",
            "Preparing to unpack .../fonts-nanum-eco_1.000-6_all.deb ...\n",
            "Unpacking fonts-nanum-eco (1.000-6) ...\n",
            "Selecting previously unselected package fonts-nanum-extra.\n",
            "Preparing to unpack .../fonts-nanum-extra_20170925-1_all.deb ...\n",
            "Unpacking fonts-nanum-extra (20170925-1) ...\n",
            "Selecting previously unselected package fonts-nanum-coding.\n",
            "Preparing to unpack .../fonts-nanum-coding_2.5-1_all.deb ...\n",
            "Unpacking fonts-nanum-coding (2.5-1) ...\n",
            "Setting up fonts-nanum-extra (20170925-1) ...\n",
            "Setting up fonts-nanum (20170925-1) ...\n",
            "Setting up fonts-nanum-coding (2.5-1) ...\n",
            "Setting up fonts-nanum-eco (1.000-6) ...\n",
            "Processing triggers for fontconfig (2.12.6-0ubuntu2) ...\n",
            "NanumBarunGothic\n"
          ],
          "name": "stdout"
        }
      ]
    },
    {
      "cell_type": "code",
      "metadata": {
        "id": "BBFF-krTV3Ej"
      },
      "source": [
        "import matplotlib\n",
        "matplotlib.rcParams['axes.unicode_minus'] = False\n",
        "\n",
        "import matplotlib\n",
        "from matplotlib import font_manager, rc\n",
        "import platform\n",
        "\n",
        "if platform.system() == 'Windows':\n",
        "# 윈도우인 경우\n",
        "    font_name = font_manager.FontProperties(fname=\"c:/Windows/Fonts/malgun.ttf\").get_name()\n",
        "    rc('font', family=font_name)\n",
        "else:    \n",
        "# Mac 인 경우\n",
        "    rc('font', family='AppleGothic')\n",
        "    \n",
        "matplotlib.rcParams['axes.unicode_minus'] = False   \n",
        "#그래프에서 마이너스 기호가 표시되도록 하는 설정입니다. "
      ],
      "execution_count": 31,
      "outputs": []
    },
    {
      "cell_type": "code",
      "metadata": {
        "colab": {
          "base_uri": "https://localhost:8080/",
          "height": 330
        },
        "id": "u3bxO1rXHiKG",
        "outputId": "47a34746-1d46-4314-bab1-4a2bf95b0a08"
      },
      "source": [
        "# 문제 3) title에 \"네이버환율정보\", 격자(grid)가 나타나게 데이터 시각화 하세요.\n",
        "df2.plot()\n",
        "plt.title(\"네이버환율정보\")\n",
        "plt.grid()"
      ],
      "execution_count": 32,
      "outputs": [
        {
          "output_type": "stream",
          "text": [
            "findfont: Font family ['AppleGothic'] not found. Falling back to DejaVu Sans.\n",
            "findfont: Font family ['AppleGothic'] not found. Falling back to DejaVu Sans.\n"
          ],
          "name": "stderr"
        },
        {
          "output_type": "display_data",
          "data": {
            "image/png": "[encoded data removed]",
            "text/plain": [
              "<Figure size 432x288 with 1 Axes>"
            ]
          },
          "metadata": {
            "tags": [],
            "needs_background": "light"
          }
        }
      ]
    },
    {
      "cell_type": "code",
      "metadata": {
        "colab": {
          "base_uri": "https://localhost:8080/",
          "height": 337
        },
        "id": "9jeXMHErHiKH",
        "outputId": "7155e3c0-03ee-4afb-d66c-5bc27c1c9b80"
      },
      "source": [
        "df2.plot(kind=\"bar\", stacked=True, figsize=(7,4))\n",
        "plt.title(\"네이버환율정보\")\n",
        "plt.grid()"
      ],
      "execution_count": 33,
      "outputs": [
        {
          "output_type": "display_data",
          "data": {
            "image/png": "[encoded data removed]",
            "text/plain": [
              "<Figure size 504x288 with 1 Axes>"
            ]
          },
          "metadata": {
            "tags": [],
            "needs_background": "light"
          }
        }
      ]
    },
    {
      "cell_type": "code",
      "metadata": {
        "colab": {
          "base_uri": "https://localhost:8080/",
          "height": 281
        },
        "id": "lpYPe2bYHiKH",
        "outputId": "e106f5a6-3022-4299-e32f-ddc339b8d50d"
      },
      "source": [
        "# 문제4) 위의 그래프를 가로 막대 그래프로 변경하여 데이터 시각화 하세요.\n",
        "# 그림 사이즈는 가로 7인치, 세로 4인치입니다.\n",
        "df2.plot(kind='barh', stacked=True, figsize=(7, 4))\n",
        "plt.title(\"네이버환율정보\")\n",
        "plt.grid()"
      ],
      "execution_count": 34,
      "outputs": [
        {
          "output_type": "display_data",
          "data": {
            "image/png": "[encoded data removed]",
            "text/plain": [
              "<Figure size 504x288 with 1 Axes>"
            ]
          },
          "metadata": {
            "tags": [],
            "needs_background": "light"
          }
        }
      ]
    },
    {
      "cell_type": "code",
      "metadata": {
        "colab": {
          "base_uri": "https://localhost:8080/",
          "height": 313
        },
        "id": "DhamrgTRHiKH",
        "outputId": "df4defb7-241e-4c6e-8794-16bbf9eb293c"
      },
      "source": [
        "# 문제 5) 그래프 종류를 \"area\"로 하고, 투명도를 0.5로 하여 데이터 시각화 하세요.\n",
        "# 그림 사이즈는 가로 7인치, 세로 4인치입니다.\n",
        "df2.plot(kind='area', alpha=0.5, figsize=(7,4))\n",
        "plt.title(\"네이버환율정보\")\n",
        "plt.xlabel('국가명')\n",
        "plt.ylabel('매매기준율')"
      ],
      "execution_count": 24,
      "outputs": [
        {
          "output_type": "execute_result",
          "data": {
            "text/plain": [
              "Text(0, 0.5, '매매기준율')"
            ]
          },
          "metadata": {
            "tags": []
          },
          "execution_count": 24
        },
        {
          "output_type": "display_data",
          "data": {
            "image/png": "[encoded data removed]",
            "text/plain": [
              "<Figure size 504x288 with 1 Axes>"
            ]
          },
          "metadata": {
            "tags": [],
            "needs_background": "light"
          }
        }
      ]
    },
    {
      "cell_type": "code",
      "metadata": {
        "colab": {
          "base_uri": "https://localhost:8080/",
          "height": 282
        },
        "id": "qCcxBLEeHiKI",
        "outputId": "28ae5a88-d778-4670-ecff-522a52f45269"
      },
      "source": [
        "# 문제 6) boxplot을 그리세요\n",
        "df2.plot(kind='box')"
      ],
      "execution_count": 25,
      "outputs": [
        {
          "output_type": "execute_result",
          "data": {
            "text/plain": [
              "<matplotlib.axes._subplots.AxesSubplot at 0x7f8e41d9b790>"
            ]
          },
          "metadata": {
            "tags": []
          },
          "execution_count": 25
        },
        {
          "output_type": "display_data",
          "data": {
            "image/png": "[encoded data removed]",
            "text/plain": [
              "<Figure size 432x288 with 1 Axes>"
            ]
          },
          "metadata": {
            "tags": [],
            "needs_background": "light"
          }
        }
      ]
    },
    {
      "cell_type": "code",
      "metadata": {
        "colab": {
          "base_uri": "https://localhost:8080/",
          "height": 297
        },
        "id": "M842VrzGHiKI",
        "outputId": "c193efa6-6181-4c20-b654-75afd1c04244"
      },
      "source": [
        "# 정규분포표 그리기 \n",
        "import seaborn as sns\n",
        "sns.distplot(df['매매기준율'])"
      ],
      "execution_count": 26,
      "outputs": [
        {
          "output_type": "execute_result",
          "data": {
            "text/plain": [
              "<matplotlib.axes._subplots.AxesSubplot at 0x7f8e33d22590>"
            ]
          },
          "metadata": {
            "tags": []
          },
          "execution_count": 26
        },
        {
          "output_type": "display_data",
          "data": {
            "image/png": "[encoded data removed]",
            "text/plain": [
              "<Figure size 432x288 with 1 Axes>"
            ]
          },
          "metadata": {
            "tags": [],
            "needs_background": "light"
          }
        }
      ]
    },
    {
      "cell_type": "code",
      "metadata": {
        "id": "Y2BED8FDHiKI"
      },
      "source": [
        ""
      ],
      "execution_count": 26,
      "outputs": []
    }
  ]
}