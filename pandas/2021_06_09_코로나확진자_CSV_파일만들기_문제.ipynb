{
  "nbformat": 4,
  "nbformat_minor": 0,
  "metadata": {
    "kernelspec": {
      "display_name": "Python 3",
      "language": "python",
      "name": "python3"
    },
    "language_info": {
      "codemirror_mode": {
        "name": "ipython",
        "version": 3
      },
      "file_extension": ".py",
      "mimetype": "text/x-python",
      "name": "python",
      "nbconvert_exporter": "python",
      "pygments_lexer": "ipython3",
      "version": "3.8.5"
    },
    "toc": {
      "base_numbering": 1,
      "nav_menu": {},
      "number_sections": true,
      "sideBar": true,
      "skip_h1_title": false,
      "title_cell": "Table of Contents",
      "title_sidebar": "Contents",
      "toc_cell": false,
      "toc_position": {},
      "toc_section_display": true,
      "toc_window_display": false
    },
    "colab": {
      "name": "2021_06_09_코로나확진자_CSV 파일만들기_문제.ipynb",
      "provenance": [],
      "collapsed_sections": [],
      "include_colab_link": true
    }
  },
  "cells": [
    {
      "cell_type": "markdown",
      "metadata": {
        "id": "view-in-github",
        "colab_type": "text"
      },
      "source": [
        "<a href=\"https://colab.research.google.com/github/risker93/Hello_World/blob/main/2021_06_09_%EC%BD%94%EB%A1%9C%EB%82%98%ED%99%95%EC%A7%84%EC%9E%90_CSV_%ED%8C%8C%EC%9D%BC%EB%A7%8C%EB%93%A4%EA%B8%B0_%EB%AC%B8%EC%A0%9C.ipynb\" target=\"_parent\"><img src=\"https://colab.research.google.com/assets/colab-badge.svg\" alt=\"Open In Colab\"/></a>"
      ]
    },
    {
      "cell_type": "code",
      "metadata": {
        "id": "_8Sl4-A65chn"
      },
      "source": [
        "from urllib.request import urlopen\n",
        "from urllib.parse import urlencode, unquote, quote_plus\n",
        "\n",
        "import pandas as pd\n",
        "\n",
        "import json"
      ],
      "execution_count": 1,
      "outputs": []
    },
    {
      "cell_type": "code",
      "metadata": {
        "colab": {
          "base_uri": "https://localhost:8080/"
        },
        "id": "OAa8PgqS8iHN",
        "outputId": "9b7fa256-3b6a-4b55-9b29-38e934539c86"
      },
      "source": [
        "pip install xmltodict"
      ],
      "execution_count": 2,
      "outputs": [
        {
          "output_type": "stream",
          "text": [
            "Collecting xmltodict\n",
            "  Downloading https://files.pythonhosted.org/packages/28/fd/30d5c1d3ac29ce229f6bdc40bbc20b28f716e8b363140c26eff19122d8a5/xmltodict-0.12.0-py2.py3-none-any.whl\n",
            "Installing collected packages: xmltodict\n",
            "Successfully installed xmltodict-0.12.0\n"
          ],
          "name": "stdout"
        }
      ]
    },
    {
      "cell_type": "code",
      "metadata": {
        "id": "blLHgZu_8gen"
      },
      "source": [
        "import xmltodict"
      ],
      "execution_count": 3,
      "outputs": []
    },
    {
      "cell_type": "markdown",
      "metadata": {
        "id": "3UeZlhm05chu"
      },
      "source": [
        "##### 공공데이터활용지원센터_보건복지부 코로나19 감염 현황\n",
        "> 활용신청하기\n",
        "https://www.data.go.kr/tcs/dss/selectApiDataDetailView.do?publicDataPk=15043376"
      ]
    },
    {
      "cell_type": "code",
      "metadata": {
        "colab": {
          "base_uri": "https://localhost:8080/"
        },
        "id": "G4tBHS2g5chv",
        "outputId": "b4207006-9198-4340-92fc-1b5b30437c07"
      },
      "source": [
        "key = 'bb8TV4oMY49cJXKk73OWTX7HzhY4yskXfWiBs3SxX65g%2BDkm8fzHBrQ5lFk4AtBvnMQotDxD%2BLE3Xeel5ECAng%3D%3D'\n",
        "\n",
        "url = f'http://openapi.data.go.kr/openapi/service/rest/Covid19/getCovid19InfStateJson?serviceKey={key}&'\n",
        "queryParams = urlencode({ quote_plus('pageNo') : 1, \n",
        "                          quote_plus('numOfRows') : 10,\n",
        "                          quote_plus('startCreateDt') : '20210119',\n",
        "                          quote_plus('endCreateDt') : '20210120'})\n",
        "url2 = url + queryParams\n",
        "response = urlopen(url2)\n",
        "#print(type(response)) # HTTPSresponse \n",
        "results = response.read().decode(\"utf-8\")\n",
        "#print(type(results))   # str\n",
        "results_to_json = xmltodict.parse(results)\n",
        "data = json.loads(json.dumps(results_to_json))\n",
        "#print(type(data))   # dic\n",
        "print(data)   "
      ],
      "execution_count": 5,
      "outputs": [
        {
          "output_type": "stream",
          "text": [
            "{'response': {'header': {'resultCode': '00', 'resultMsg': 'NORMAL SERVICE.'}, 'body': {'items': {'item': [{'accDefRate': '1.4573418044', 'accExamCnt': '5192119', 'accExamCompCnt': '5043978', 'careCnt': '12028', 'clearCnt': '60180', 'createDt': '2021-01-20 09:38:16.549', 'deathCnt': '1300', 'decideCnt': '73508', 'examCnt': '148141', 'resutlNegCnt': '4970470', 'seq': '392', 'stateDt': '20210120', 'stateTime': '00:00', 'updateDt': '2021-04-20 15:23:25.562'}, {'accDefRate': '1.4661941407', 'accExamCnt': '5140315', 'accExamCompCnt': '4985970', 'careCnt': '12353', 'clearCnt': '59468', 'createDt': '2021-01-19 09:39:49.588', 'deathCnt': '1283', 'decideCnt': '73104', 'examCnt': '154345', 'resutlNegCnt': '4912866', 'seq': '391', 'stateDt': '20210119', 'stateTime': '00:00', 'updateDt': '2021-04-20 15:23:34.538'}]}, 'numOfRows': '10', 'pageNo': '1', 'totalCount': '2'}}}\n"
          ],
          "name": "stdout"
        }
      ]
    },
    {
      "cell_type": "markdown",
      "metadata": {
        "id": "cH_ca6tb5chw"
      },
      "source": [
        "위의 데이터를 분석해서 아래의 형태의 CSV 파일을 만들자\n",
        "```\n",
        "날짜,누적확진자,격리해제환자,치료중환자,사망자수\n",
        "20210119,73104,59468,12353,1283\n",
        "20210120,73508,60180,12028,1300\n",
        "\n",
        "```"
      ]
    },
    {
      "cell_type": "code",
      "metadata": {
        "colab": {
          "base_uri": "https://localhost:8080/"
        },
        "id": "Zb4AwFRm-WG2",
        "outputId": "2baca7c0-5d42-4632-f5ba-b07cf28ee617"
      },
      "source": [
        "data"
      ],
      "execution_count": 6,
      "outputs": [
        {
          "output_type": "execute_result",
          "data": {
            "text/plain": [
              "{'response': {'body': {'items': {'item': [{'accDefRate': '1.4573418044',\n",
              "      'accExamCnt': '5192119',\n",
              "      'accExamCompCnt': '5043978',\n",
              "      'careCnt': '12028',\n",
              "      'clearCnt': '60180',\n",
              "      'createDt': '2021-01-20 09:38:16.549',\n",
              "      'deathCnt': '1300',\n",
              "      'decideCnt': '73508',\n",
              "      'examCnt': '148141',\n",
              "      'resutlNegCnt': '4970470',\n",
              "      'seq': '392',\n",
              "      'stateDt': '20210120',\n",
              "      'stateTime': '00:00',\n",
              "      'updateDt': '2021-04-20 15:23:25.562'},\n",
              "     {'accDefRate': '1.4661941407',\n",
              "      'accExamCnt': '5140315',\n",
              "      'accExamCompCnt': '4985970',\n",
              "      'careCnt': '12353',\n",
              "      'clearCnt': '59468',\n",
              "      'createDt': '2021-01-19 09:39:49.588',\n",
              "      'deathCnt': '1283',\n",
              "      'decideCnt': '73104',\n",
              "      'examCnt': '154345',\n",
              "      'resutlNegCnt': '4912866',\n",
              "      'seq': '391',\n",
              "      'stateDt': '20210119',\n",
              "      'stateTime': '00:00',\n",
              "      'updateDt': '2021-04-20 15:23:34.538'}]},\n",
              "   'numOfRows': '10',\n",
              "   'pageNo': '1',\n",
              "   'totalCount': '2'},\n",
              "  'header': {'resultCode': '00', 'resultMsg': 'NORMAL SERVICE.'}}}"
            ]
          },
          "metadata": {
            "tags": []
          },
          "execution_count": 6
        }
      ]
    },
    {
      "cell_type": "code",
      "metadata": {
        "id": "ebdiAeAfq2Vz"
      },
      "source": [
        "state_date_1 = data['response']['body']['items']['item'][0]['stateDt']"
      ],
      "execution_count": 13,
      "outputs": []
    },
    {
      "cell_type": "code",
      "metadata": {
        "id": "Uh5iocZWzX98"
      },
      "source": [
        "decide_cnt_1 = data['response']['body']['items']['item'][0]['decideCnt']"
      ],
      "execution_count": 14,
      "outputs": []
    },
    {
      "cell_type": "code",
      "metadata": {
        "id": "5qFiMOsJ2Fes"
      },
      "source": [
        "clear_cnt_1 = data['response']['body']['items']['item'][0]['clearCnt']"
      ],
      "execution_count": 15,
      "outputs": []
    },
    {
      "cell_type": "code",
      "metadata": {
        "id": "alvFfmR-2Jvl"
      },
      "source": [
        "care_cnt_1 = data['response']['body']['items']['item'][0]['careCnt']"
      ],
      "execution_count": 18,
      "outputs": []
    },
    {
      "cell_type": "code",
      "metadata": {
        "id": "vRYEjvuk2NCy"
      },
      "source": [
        "death_cnt_1 =data['response']['body']['items']['item'][0]['deathCnt']"
      ],
      "execution_count": 17,
      "outputs": []
    },
    {
      "cell_type": "code",
      "metadata": {
        "id": "RuIlA9BI2PnU"
      },
      "source": [
        "df_1 = pd.DataFrame([state_date_1, decide_cnt_1, clear_cnt_1, care_cnt_1, death_cnt_1])"
      ],
      "execution_count": 19,
      "outputs": []
    },
    {
      "cell_type": "code",
      "metadata": {
        "colab": {
          "base_uri": "https://localhost:8080/",
          "height": 203
        },
        "id": "tgWHmMSf0NDy",
        "outputId": "7ceef941-91cc-4fce-8b6b-2f751c36978d"
      },
      "source": [
        "df_1"
      ],
      "execution_count": 20,
      "outputs": [
        {
          "output_type": "execute_result",
          "data": {
            "text/html": [
              "<div>\n",
              "<style scoped>\n",
              "    .dataframe tbody tr th:only-of-type {\n",
              "        vertical-align: middle;\n",
              "    }\n",
              "\n",
              "    .dataframe tbody tr th {\n",
              "        vertical-align: top;\n",
              "    }\n",
              "\n",
              "    .dataframe thead th {\n",
              "        text-align: right;\n",
              "    }\n",
              "</style>\n",
              "<table border=\"1\" class=\"dataframe\">\n",
              "  <thead>\n",
              "    <tr style=\"text-align: right;\">\n",
              "      <th></th>\n",
              "      <th>0</th>\n",
              "    </tr>\n",
              "  </thead>\n",
              "  <tbody>\n",
              "    <tr>\n",
              "      <th>0</th>\n",
              "      <td>20210120</td>\n",
              "    </tr>\n",
              "    <tr>\n",
              "      <th>1</th>\n",
              "      <td>73508</td>\n",
              "    </tr>\n",
              "    <tr>\n",
              "      <th>2</th>\n",
              "      <td>60180</td>\n",
              "    </tr>\n",
              "    <tr>\n",
              "      <th>3</th>\n",
              "      <td>12028</td>\n",
              "    </tr>\n",
              "    <tr>\n",
              "      <th>4</th>\n",
              "      <td>1300</td>\n",
              "    </tr>\n",
              "  </tbody>\n",
              "</table>\n",
              "</div>"
            ],
            "text/plain": [
              "          0\n",
              "0  20210120\n",
              "1     73508\n",
              "2     60180\n",
              "3     12028\n",
              "4      1300"
            ]
          },
          "metadata": {
            "tags": []
          },
          "execution_count": 20
        }
      ]
    },
    {
      "cell_type": "code",
      "metadata": {
        "id": "SkRL-CpX0N5G"
      },
      "source": [
        "state_date_2 = data['response']['body']['items']['item'][1]['stateDt']"
      ],
      "execution_count": 21,
      "outputs": []
    },
    {
      "cell_type": "code",
      "metadata": {
        "id": "s3UCFM2m0UzE"
      },
      "source": [
        "decide_cnt_2 = data['response']['body']['items']['item'][1]['decideCnt']"
      ],
      "execution_count": 22,
      "outputs": []
    },
    {
      "cell_type": "code",
      "metadata": {
        "id": "0u-3jMgB0Ysh"
      },
      "source": [
        "clear_cnt_2 = data['response']['body']['items']['item'][1]['clearCnt']"
      ],
      "execution_count": 23,
      "outputs": []
    },
    {
      "cell_type": "code",
      "metadata": {
        "id": "SRnhvVWP0aAS"
      },
      "source": [
        "care_cnt_2 = data['response']['body']['items']['item'][1]['careCnt']"
      ],
      "execution_count": 24,
      "outputs": []
    },
    {
      "cell_type": "code",
      "metadata": {
        "id": "3Nv66oog0cdn"
      },
      "source": [
        "death_cnt_2 =data['response']['body']['items']['item'][1]['deathCnt']"
      ],
      "execution_count": 25,
      "outputs": []
    },
    {
      "cell_type": "code",
      "metadata": {
        "id": "sMjvtUnz0fc-"
      },
      "source": [
        "df_2 = pd.DataFrame([state_date_2, decide_cnt_2, clear_cnt_2, care_cnt_2, death_cnt_2])"
      ],
      "execution_count": 26,
      "outputs": []
    },
    {
      "cell_type": "code",
      "metadata": {
        "colab": {
          "base_uri": "https://localhost:8080/",
          "height": 204
        },
        "id": "Edym0O7X0kLp",
        "outputId": "d58ddefe-b479-453b-8e66-8c0839f5aea6"
      },
      "source": [
        "df_2"
      ],
      "execution_count": 27,
      "outputs": [
        {
          "output_type": "execute_result",
          "data": {
            "text/html": [
              "<div>\n",
              "<style scoped>\n",
              "    .dataframe tbody tr th:only-of-type {\n",
              "        vertical-align: middle;\n",
              "    }\n",
              "\n",
              "    .dataframe tbody tr th {\n",
              "        vertical-align: top;\n",
              "    }\n",
              "\n",
              "    .dataframe thead th {\n",
              "        text-align: right;\n",
              "    }\n",
              "</style>\n",
              "<table border=\"1\" class=\"dataframe\">\n",
              "  <thead>\n",
              "    <tr style=\"text-align: right;\">\n",
              "      <th></th>\n",
              "      <th>0</th>\n",
              "    </tr>\n",
              "  </thead>\n",
              "  <tbody>\n",
              "    <tr>\n",
              "      <th>0</th>\n",
              "      <td>20210119</td>\n",
              "    </tr>\n",
              "    <tr>\n",
              "      <th>1</th>\n",
              "      <td>73104</td>\n",
              "    </tr>\n",
              "    <tr>\n",
              "      <th>2</th>\n",
              "      <td>59468</td>\n",
              "    </tr>\n",
              "    <tr>\n",
              "      <th>3</th>\n",
              "      <td>12353</td>\n",
              "    </tr>\n",
              "    <tr>\n",
              "      <th>4</th>\n",
              "      <td>1283</td>\n",
              "    </tr>\n",
              "  </tbody>\n",
              "</table>\n",
              "</div>"
            ],
            "text/plain": [
              "          0\n",
              "0  20210119\n",
              "1     73104\n",
              "2     59468\n",
              "3     12353\n",
              "4      1283"
            ]
          },
          "metadata": {
            "tags": []
          },
          "execution_count": 27
        }
      ]
    },
    {
      "cell_type": "code",
      "metadata": {
        "id": "CRXNuA3i0wfc"
      },
      "source": [
        "df = pd.concat([df_1, df_2], axis=1)"
      ],
      "execution_count": 28,
      "outputs": []
    },
    {
      "cell_type": "code",
      "metadata": {
        "colab": {
          "base_uri": "https://localhost:8080/",
          "height": 204
        },
        "id": "l_m4dly21IPr",
        "outputId": "27376a5c-165a-4edd-8ff2-ec922ad5b483"
      },
      "source": [
        "df"
      ],
      "execution_count": 29,
      "outputs": [
        {
          "output_type": "execute_result",
          "data": {
            "text/html": [
              "<div>\n",
              "<style scoped>\n",
              "    .dataframe tbody tr th:only-of-type {\n",
              "        vertical-align: middle;\n",
              "    }\n",
              "\n",
              "    .dataframe tbody tr th {\n",
              "        vertical-align: top;\n",
              "    }\n",
              "\n",
              "    .dataframe thead th {\n",
              "        text-align: right;\n",
              "    }\n",
              "</style>\n",
              "<table border=\"1\" class=\"dataframe\">\n",
              "  <thead>\n",
              "    <tr style=\"text-align: right;\">\n",
              "      <th></th>\n",
              "      <th>0</th>\n",
              "      <th>0</th>\n",
              "    </tr>\n",
              "  </thead>\n",
              "  <tbody>\n",
              "    <tr>\n",
              "      <th>0</th>\n",
              "      <td>20210120</td>\n",
              "      <td>20210119</td>\n",
              "    </tr>\n",
              "    <tr>\n",
              "      <th>1</th>\n",
              "      <td>73508</td>\n",
              "      <td>73104</td>\n",
              "    </tr>\n",
              "    <tr>\n",
              "      <th>2</th>\n",
              "      <td>60180</td>\n",
              "      <td>59468</td>\n",
              "    </tr>\n",
              "    <tr>\n",
              "      <th>3</th>\n",
              "      <td>12028</td>\n",
              "      <td>12353</td>\n",
              "    </tr>\n",
              "    <tr>\n",
              "      <th>4</th>\n",
              "      <td>1300</td>\n",
              "      <td>1283</td>\n",
              "    </tr>\n",
              "  </tbody>\n",
              "</table>\n",
              "</div>"
            ],
            "text/plain": [
              "          0         0\n",
              "0  20210120  20210119\n",
              "1     73508     73104\n",
              "2     60180     59468\n",
              "3     12028     12353\n",
              "4      1300      1283"
            ]
          },
          "metadata": {
            "tags": []
          },
          "execution_count": 29
        }
      ]
    },
    {
      "cell_type": "code",
      "metadata": {
        "id": "BgoG4wf91IrM"
      },
      "source": [
        "df = df.T"
      ],
      "execution_count": 32,
      "outputs": []
    },
    {
      "cell_type": "code",
      "metadata": {
        "colab": {
          "base_uri": "https://localhost:8080/",
          "height": 111
        },
        "id": "z83EOXrf1QmI",
        "outputId": "265775d8-cbc3-4531-cecd-334afc5fe341"
      },
      "source": [
        "df"
      ],
      "execution_count": 33,
      "outputs": [
        {
          "output_type": "execute_result",
          "data": {
            "text/html": [
              "<div>\n",
              "<style scoped>\n",
              "    .dataframe tbody tr th:only-of-type {\n",
              "        vertical-align: middle;\n",
              "    }\n",
              "\n",
              "    .dataframe tbody tr th {\n",
              "        vertical-align: top;\n",
              "    }\n",
              "\n",
              "    .dataframe thead th {\n",
              "        text-align: right;\n",
              "    }\n",
              "</style>\n",
              "<table border=\"1\" class=\"dataframe\">\n",
              "  <thead>\n",
              "    <tr style=\"text-align: right;\">\n",
              "      <th></th>\n",
              "      <th>0</th>\n",
              "      <th>1</th>\n",
              "      <th>2</th>\n",
              "      <th>3</th>\n",
              "      <th>4</th>\n",
              "    </tr>\n",
              "  </thead>\n",
              "  <tbody>\n",
              "    <tr>\n",
              "      <th>0</th>\n",
              "      <td>20210120</td>\n",
              "      <td>73508</td>\n",
              "      <td>60180</td>\n",
              "      <td>12028</td>\n",
              "      <td>1300</td>\n",
              "    </tr>\n",
              "    <tr>\n",
              "      <th>0</th>\n",
              "      <td>20210119</td>\n",
              "      <td>73104</td>\n",
              "      <td>59468</td>\n",
              "      <td>12353</td>\n",
              "      <td>1283</td>\n",
              "    </tr>\n",
              "  </tbody>\n",
              "</table>\n",
              "</div>"
            ],
            "text/plain": [
              "          0      1      2      3     4\n",
              "0  20210120  73508  60180  12028  1300\n",
              "0  20210119  73104  59468  12353  1283"
            ]
          },
          "metadata": {
            "tags": []
          },
          "execution_count": 33
        }
      ]
    },
    {
      "cell_type": "code",
      "metadata": {
        "colab": {
          "base_uri": "https://localhost:8080/",
          "height": 35
        },
        "id": "nK54T-HD1RGC",
        "outputId": "f90976ca-dd34-45e4-89ae-0d35e5315b2c"
      },
      "source": [
        "df.columns= ['날짜', '누적확진자', '격리해제환자','치료중환자','사망자수' ]\n",
        "'''\n",
        "날짜,누적확진자,격리해제환자,치료중환자,사망자수\n",
        "'''"
      ],
      "execution_count": 35,
      "outputs": [
        {
          "output_type": "execute_result",
          "data": {
            "application/vnd.google.colaboratory.intrinsic+json": {
              "type": "string"
            },
            "text/plain": [
              "'\\n날짜,누적확진자,격리해제환자,치료중환자,사망자수\\n'"
            ]
          },
          "metadata": {
            "tags": []
          },
          "execution_count": 35
        }
      ]
    },
    {
      "cell_type": "code",
      "metadata": {
        "colab": {
          "base_uri": "https://localhost:8080/",
          "height": 111
        },
        "id": "7VM2k45G1how",
        "outputId": "db66bb66-f5c3-49a9-a8aa-a7ff285ce972"
      },
      "source": [
        "df"
      ],
      "execution_count": 36,
      "outputs": [
        {
          "output_type": "execute_result",
          "data": {
            "text/html": [
              "<div>\n",
              "<style scoped>\n",
              "    .dataframe tbody tr th:only-of-type {\n",
              "        vertical-align: middle;\n",
              "    }\n",
              "\n",
              "    .dataframe tbody tr th {\n",
              "        vertical-align: top;\n",
              "    }\n",
              "\n",
              "    .dataframe thead th {\n",
              "        text-align: right;\n",
              "    }\n",
              "</style>\n",
              "<table border=\"1\" class=\"dataframe\">\n",
              "  <thead>\n",
              "    <tr style=\"text-align: right;\">\n",
              "      <th></th>\n",
              "      <th>날짜</th>\n",
              "      <th>누적확진자</th>\n",
              "      <th>격리해제환자</th>\n",
              "      <th>치료중환자</th>\n",
              "      <th>사망자수</th>\n",
              "    </tr>\n",
              "  </thead>\n",
              "  <tbody>\n",
              "    <tr>\n",
              "      <th>0</th>\n",
              "      <td>20210120</td>\n",
              "      <td>73508</td>\n",
              "      <td>60180</td>\n",
              "      <td>12028</td>\n",
              "      <td>1300</td>\n",
              "    </tr>\n",
              "    <tr>\n",
              "      <th>0</th>\n",
              "      <td>20210119</td>\n",
              "      <td>73104</td>\n",
              "      <td>59468</td>\n",
              "      <td>12353</td>\n",
              "      <td>1283</td>\n",
              "    </tr>\n",
              "  </tbody>\n",
              "</table>\n",
              "</div>"
            ],
            "text/plain": [
              "         날짜  누적확진자 격리해제환자  치료중환자  사망자수\n",
              "0  20210120  73508  60180  12028  1300\n",
              "0  20210119  73104  59468  12353  1283"
            ]
          },
          "metadata": {
            "tags": []
          },
          "execution_count": 36
        }
      ]
    },
    {
      "cell_type": "code",
      "metadata": {
        "colab": {
          "base_uri": "https://localhost:8080/",
          "height": 111
        },
        "id": "CQCneAma12hk",
        "outputId": "e6637343-ed14-45ce-95c7-1d4c6d99eaed"
      },
      "source": [
        "df.reset_index(drop=True)"
      ],
      "execution_count": 38,
      "outputs": [
        {
          "output_type": "execute_result",
          "data": {
            "text/html": [
              "<div>\n",
              "<style scoped>\n",
              "    .dataframe tbody tr th:only-of-type {\n",
              "        vertical-align: middle;\n",
              "    }\n",
              "\n",
              "    .dataframe tbody tr th {\n",
              "        vertical-align: top;\n",
              "    }\n",
              "\n",
              "    .dataframe thead th {\n",
              "        text-align: right;\n",
              "    }\n",
              "</style>\n",
              "<table border=\"1\" class=\"dataframe\">\n",
              "  <thead>\n",
              "    <tr style=\"text-align: right;\">\n",
              "      <th></th>\n",
              "      <th>날짜</th>\n",
              "      <th>누적확진자</th>\n",
              "      <th>격리해제환자</th>\n",
              "      <th>치료중환자</th>\n",
              "      <th>사망자수</th>\n",
              "    </tr>\n",
              "  </thead>\n",
              "  <tbody>\n",
              "    <tr>\n",
              "      <th>0</th>\n",
              "      <td>20210120</td>\n",
              "      <td>73508</td>\n",
              "      <td>60180</td>\n",
              "      <td>12028</td>\n",
              "      <td>1300</td>\n",
              "    </tr>\n",
              "    <tr>\n",
              "      <th>1</th>\n",
              "      <td>20210119</td>\n",
              "      <td>73104</td>\n",
              "      <td>59468</td>\n",
              "      <td>12353</td>\n",
              "      <td>1283</td>\n",
              "    </tr>\n",
              "  </tbody>\n",
              "</table>\n",
              "</div>"
            ],
            "text/plain": [
              "         날짜  누적확진자 격리해제환자  치료중환자  사망자수\n",
              "0  20210120  73508  60180  12028  1300\n",
              "1  20210119  73104  59468  12353  1283"
            ]
          },
          "metadata": {
            "tags": []
          },
          "execution_count": 38
        }
      ]
    },
    {
      "cell_type": "code",
      "metadata": {
        "id": "p1ISUrr92zE8"
      },
      "source": [
        " # CSV파일로 저장하기\n",
        "\n",
        "df.to_csv(\"test_covid.csv\")\n",
        "\n"
      ],
      "execution_count": null,
      "outputs": []
    },
    {
      "cell_type": "code",
      "metadata": {
        "id": "cWC2mZbz20qS"
      },
      "source": [
        "\n",
        "\n",
        "  # CSV파일 읽기\n",
        "\n",
        "df = pd.read_csv(\"test_covid.csv\")"
      ],
      "execution_count": 49,
      "outputs": []
    },
    {
      "cell_type": "code",
      "metadata": {
        "colab": {
          "base_uri": "https://localhost:8080/",
          "height": 111
        },
        "id": "nUozk8bR2ORa",
        "outputId": "a34ae247-fc30-4434-8d41-5d8cef68cf2d"
      },
      "source": [
        "df"
      ],
      "execution_count": 50,
      "outputs": [
        {
          "output_type": "execute_result",
          "data": {
            "text/html": [
              "<div>\n",
              "<style scoped>\n",
              "    .dataframe tbody tr th:only-of-type {\n",
              "        vertical-align: middle;\n",
              "    }\n",
              "\n",
              "    .dataframe tbody tr th {\n",
              "        vertical-align: top;\n",
              "    }\n",
              "\n",
              "    .dataframe thead th {\n",
              "        text-align: right;\n",
              "    }\n",
              "</style>\n",
              "<table border=\"1\" class=\"dataframe\">\n",
              "  <thead>\n",
              "    <tr style=\"text-align: right;\">\n",
              "      <th></th>\n",
              "      <th>Unnamed: 0.1</th>\n",
              "      <th>Unnamed: 0</th>\n",
              "      <th>날짜</th>\n",
              "      <th>누적확진자</th>\n",
              "      <th>격리해제환자</th>\n",
              "      <th>치료중환자</th>\n",
              "      <th>사망자수</th>\n",
              "    </tr>\n",
              "  </thead>\n",
              "  <tbody>\n",
              "    <tr>\n",
              "      <th>0</th>\n",
              "      <td>0</td>\n",
              "      <td>0</td>\n",
              "      <td>20210120</td>\n",
              "      <td>73508</td>\n",
              "      <td>60180</td>\n",
              "      <td>12028</td>\n",
              "      <td>1300</td>\n",
              "    </tr>\n",
              "    <tr>\n",
              "      <th>1</th>\n",
              "      <td>0</td>\n",
              "      <td>1</td>\n",
              "      <td>20210119</td>\n",
              "      <td>73104</td>\n",
              "      <td>59468</td>\n",
              "      <td>12353</td>\n",
              "      <td>1283</td>\n",
              "    </tr>\n",
              "  </tbody>\n",
              "</table>\n",
              "</div>"
            ],
            "text/plain": [
              "   Unnamed: 0.1  Unnamed: 0        날짜  누적확진자  격리해제환자  치료중환자  사망자수\n",
              "0             0           0  20210120  73508   60180  12028  1300\n",
              "1             0           1  20210119  73104   59468  12353  1283"
            ]
          },
          "metadata": {
            "tags": []
          },
          "execution_count": 50
        }
      ]
    },
    {
      "cell_type": "code",
      "metadata": {
        "id": "lHQy2dv_2SxR"
      },
      "source": [
        "df = df.drop(['Unnamed: 0.1'],axis=1)"
      ],
      "execution_count": 63,
      "outputs": []
    },
    {
      "cell_type": "code",
      "metadata": {
        "colab": {
          "base_uri": "https://localhost:8080/",
          "height": 111
        },
        "id": "8qAh84ps3ocp",
        "outputId": "816a6f69-c459-4142-d463-7fe03946eac3"
      },
      "source": [
        "df"
      ],
      "execution_count": 64,
      "outputs": [
        {
          "output_type": "execute_result",
          "data": {
            "text/html": [
              "<div>\n",
              "<style scoped>\n",
              "    .dataframe tbody tr th:only-of-type {\n",
              "        vertical-align: middle;\n",
              "    }\n",
              "\n",
              "    .dataframe tbody tr th {\n",
              "        vertical-align: top;\n",
              "    }\n",
              "\n",
              "    .dataframe thead th {\n",
              "        text-align: right;\n",
              "    }\n",
              "</style>\n",
              "<table border=\"1\" class=\"dataframe\">\n",
              "  <thead>\n",
              "    <tr style=\"text-align: right;\">\n",
              "      <th></th>\n",
              "      <th>Unnamed: 0</th>\n",
              "      <th>날짜</th>\n",
              "      <th>누적확진자</th>\n",
              "      <th>격리해제환자</th>\n",
              "      <th>치료중환자</th>\n",
              "      <th>사망자수</th>\n",
              "    </tr>\n",
              "  </thead>\n",
              "  <tbody>\n",
              "    <tr>\n",
              "      <th>0</th>\n",
              "      <td>0</td>\n",
              "      <td>20210120</td>\n",
              "      <td>73508</td>\n",
              "      <td>60180</td>\n",
              "      <td>12028</td>\n",
              "      <td>1300</td>\n",
              "    </tr>\n",
              "    <tr>\n",
              "      <th>1</th>\n",
              "      <td>1</td>\n",
              "      <td>20210119</td>\n",
              "      <td>73104</td>\n",
              "      <td>59468</td>\n",
              "      <td>12353</td>\n",
              "      <td>1283</td>\n",
              "    </tr>\n",
              "  </tbody>\n",
              "</table>\n",
              "</div>"
            ],
            "text/plain": [
              "   Unnamed: 0        날짜  누적확진자  격리해제환자  치료중환자  사망자수\n",
              "0           0  20210120  73508   60180  12028  1300\n",
              "1           1  20210119  73104   59468  12353  1283"
            ]
          },
          "metadata": {
            "tags": []
          },
          "execution_count": 64
        }
      ]
    },
    {
      "cell_type": "code",
      "metadata": {
        "id": "ApvhQ14j2hDy"
      },
      "source": [
        "df = df.drop(['Unnamed: 0'],axis=1)"
      ],
      "execution_count": 65,
      "outputs": []
    },
    {
      "cell_type": "code",
      "metadata": {
        "colab": {
          "base_uri": "https://localhost:8080/",
          "height": 111
        },
        "id": "BGUGGi_M3cNN",
        "outputId": "2132b48d-5386-4a42-f846-5a93d043c6b7"
      },
      "source": [
        "df"
      ],
      "execution_count": 66,
      "outputs": [
        {
          "output_type": "execute_result",
          "data": {
            "text/html": [
              "<div>\n",
              "<style scoped>\n",
              "    .dataframe tbody tr th:only-of-type {\n",
              "        vertical-align: middle;\n",
              "    }\n",
              "\n",
              "    .dataframe tbody tr th {\n",
              "        vertical-align: top;\n",
              "    }\n",
              "\n",
              "    .dataframe thead th {\n",
              "        text-align: right;\n",
              "    }\n",
              "</style>\n",
              "<table border=\"1\" class=\"dataframe\">\n",
              "  <thead>\n",
              "    <tr style=\"text-align: right;\">\n",
              "      <th></th>\n",
              "      <th>날짜</th>\n",
              "      <th>누적확진자</th>\n",
              "      <th>격리해제환자</th>\n",
              "      <th>치료중환자</th>\n",
              "      <th>사망자수</th>\n",
              "    </tr>\n",
              "  </thead>\n",
              "  <tbody>\n",
              "    <tr>\n",
              "      <th>0</th>\n",
              "      <td>20210120</td>\n",
              "      <td>73508</td>\n",
              "      <td>60180</td>\n",
              "      <td>12028</td>\n",
              "      <td>1300</td>\n",
              "    </tr>\n",
              "    <tr>\n",
              "      <th>1</th>\n",
              "      <td>20210119</td>\n",
              "      <td>73104</td>\n",
              "      <td>59468</td>\n",
              "      <td>12353</td>\n",
              "      <td>1283</td>\n",
              "    </tr>\n",
              "  </tbody>\n",
              "</table>\n",
              "</div>"
            ],
            "text/plain": [
              "         날짜  누적확진자  격리해제환자  치료중환자  사망자수\n",
              "0  20210120  73508   60180  12028  1300\n",
              "1  20210119  73104   59468  12353  1283"
            ]
          },
          "metadata": {
            "tags": []
          },
          "execution_count": 66
        }
      ]
    },
    {
      "cell_type": "code",
      "metadata": {
        "id": "enC_D4m13q2K"
      },
      "source": [
        ""
      ],
      "execution_count": null,
      "outputs": []
    }
  ]
}
